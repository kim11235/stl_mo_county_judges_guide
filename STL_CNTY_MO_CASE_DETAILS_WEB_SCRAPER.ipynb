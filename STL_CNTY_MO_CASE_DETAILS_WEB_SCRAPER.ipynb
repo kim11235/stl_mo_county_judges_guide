{
 "cells": [
  {
   "cell_type": "markdown",
   "id": "132627fc",
   "metadata": {},
   "source": [
    "<h3>Scrape Case Details</h3>\n",
    "From each case's page on CaseNet, collect the following information:\n",
    "<ul>\n",
    "    - Judge name <br>\n",
    "    - Disposed status <br>\n",
    "    - Charge Description <br>\n",
    "    - Ordinance Number <br>\n",
    "    - Law Enforcement Agency <br>\n",
    "    - Civil judgments <br>\n",
    "    - Garnishments and executions <br>\n",
    "    </ul>"
   ]
  },
  {
   "cell_type": "code",
   "execution_count": 1,
   "id": "8e4743d1",
   "metadata": {},
   "outputs": [],
   "source": [
    "#import the necessary python packages\n",
    "import sys\n",
    "\n",
    "selenium_path = r'C:\\Users\\Kimbe\\anaconda3\\Lib\\site-packages\\selenium'\n",
    "PYSOLR_PATH = r'c:\\users\\kimbe\\appdata\\local\\programs\\python\\python312\\lib\\site-packages'\n",
    "\n",
    "if not PYSOLR_PATH in sys.path:\n",
    "    sys.path.append(PYSOLR_PATH)\n",
    "\n",
    "if not selenium_path in sys.path:\n",
    "    sys.path.append(selenium_path)\n",
    "\n",
    "import pandas\n",
    "import numpy\n",
    "import requests\n",
    "import bs4\n",
    "import re\n",
    "import undetected_chromedriver as uc\n",
    "import selenium\n",
    "import os\n",
    "from selenium import webdriver\n",
    "from selenium.webdriver.common.action_chains import ActionChains\n",
    "from selenium.common.exceptions import TimeoutException\n",
    "from selenium.webdriver.support.wait import WebDriverWait\n",
    "from selenium.webdriver.common.by import By\n",
    "from selenium.webdriver.support import expected_conditions as EC\n",
    "import time\n",
    "\n",
    "import re"
   ]
  },
  {
   "cell_type": "code",
   "execution_count": 2,
   "id": "41684759",
   "metadata": {},
   "outputs": [],
   "source": [
    "suffix_header = '#header'\n",
    "suffix_parties = '#party'\n",
    "suffix_docket = '#docket'\n",
    "suffix_charges = '#charges'\n",
    "suffix_service = '#service'\n",
    "suffix_hearings = '#scheduled'\n",
    "suffix_judgment = '#judgment'\n",
    "suffix_garnishments = '#garnishment'\n"
   ]
  },
  {
   "cell_type": "code",
   "execution_count": 3,
   "id": "b91fc84b",
   "metadata": {},
   "outputs": [],
   "source": [
    "#read the links\n",
    "cases = pandas.read_csv(r\"C:\\Users\\Kimbe\\Documents\\Data Science\\Sample Data - Week of Jan 2, 2025.csv\")"
   ]
  },
  {
   "cell_type": "code",
   "execution_count": 4,
   "id": "1db56ab0",
   "metadata": {},
   "outputs": [
    {
     "name": "stdout",
     "output_type": "stream",
     "text": [
      "240286808\n",
      "                                               Links   Case_Num\n",
      "0  https://www.courts.mo.gov/cnet/cases/newHeader...  240286808\n",
      "1  https://www.courts.mo.gov/cnet/cases/newHeader...  240286808\n",
      "2  https://www.courts.mo.gov/cnet/cases/newHeader...  240286808\n",
      "3  https://www.courts.mo.gov/cnet/cases/newHeader...  240286808\n",
      "4  https://www.courts.mo.gov/cnet/cases/newHeader...  240286808\n",
      "5  https://www.courts.mo.gov/cnet/cases/newHeader...  240286808\n",
      "6  https://www.courts.mo.gov/cnet/cases/newHeader...  240286808\n",
      "7  https://www.courts.mo.gov/cnet/cases/newHeader...  240286808\n"
     ]
    }
   ],
   "source": [
    "sample_link = cases.iloc[0,5] #first row, fifth column\n",
    "sample_case_num = cases.iloc[0,1]\n",
    "print(sample_case_num)\n",
    "\n",
    "sample_links = [(sample_link + suffix_header), (sample_link + suffix_parties), (sample_link + suffix_docket), (sample_link + suffix_charges), (sample_link + suffix_service), (sample_link + suffix_hearings), (sample_link + suffix_judgment), (sample_link + suffix_garnishments)]\n",
    "sample_links = pandas.DataFrame({'Links': sample_links})\n",
    "sample_links['Case_Num'] = sample_case_num\n",
    "print(sample_links)"
   ]
  },
  {
   "cell_type": "code",
   "execution_count": 5,
   "id": "25c4546c",
   "metadata": {},
   "outputs": [],
   "source": [
    "#Launch the headless browser\n",
    "driver = uc.Chrome()\n",
    "#sample_link = 'https://www.courts.mo.gov/cnet/cases/newHeader.do?inputVO.caseNumber=24SL-CR00046-01&inputVO.courtId=CT21#header'\n",
    "#Navigate to the CaseNet URL\n",
    "driver.get(sample_links.iloc[0,0])\n",
    "\n",
    "#Give the page ample time to load\n",
    "time.sleep(10)\n",
    "wait = WebDriverWait(driver, 10)\n",
    "\n",
    "html_data_judge = driver.page_source\n",
    "soup_judge = bs4.BeautifulSoup(html_data_judge, 'html.parser')\n"
   ]
  },
  {
   "cell_type": "code",
   "execution_count": 6,
   "id": "5ed8a5f1",
   "metadata": {},
   "outputs": [],
   "source": [
    "objects = str(soup_judge.find_all(attrs={\"class\": 'col-lg-5 col-md-6 col-sm-6 col-xs-12 odd'})).replace('<strong>', '').replace('<div class=\"col-lg-5 col-md-6 col-sm-6 col-xs-12 odd', '').replace('\">', '').replace('</strong>', '').replace('</div>', '').replace('\\n', '').replace(\"[\", '').replace(']', '')\n",
    "values = str(soup_judge.find_all(attrs={\"class\": 'col-lg-7 col-md-6 col-sm-6 col-xs-12 even'})).replace('<div class=\"col-lg-7 col-md-6 col-sm-6 col-xs-12 even', '').replace('\">', '').replace('</div>', '').replace('\\n', '').replace(\"[\", '').replace(']', '')\n",
    " \n",
    "column_names = [x.strip() for x in objects.split(',')]\n",
    "\n",
    "case_data = [x.strip() for x in values.split(',')]\n",
    "\n",
    "#Clean up surname issues\n",
    "if 'Judge/Commissioner Assigned' in column_names:\n",
    "    case_data[0] = case_data[0] + ', ' + case_data[1]\n",
    "    case_data.pop(1)\n",
    "\n",
    "if 'Judge/Commissioner At Disposition' in column_names:\n",
    "    first_name_index = len(case_data) - 1\n",
    "    last_name_index = first_name_index - 1\n",
    "    case_data[last_name_index] = case_data[last_name_index] + ', ' + case_data[first_name_index]\n",
    "    case_data.pop(first_name_index)\n",
    "    \n",
    "if 'Financial Information' in column_names:\n",
    "    fin_info_index = len(case_data)\n",
    "    column_names.pop(fin_info_index)\n",
    "    \n",
    "case_details = pandas.DataFrame([case_data], columns = [column_names])"
   ]
  },
  {
   "cell_type": "code",
   "execution_count": 7,
   "id": "9501eabd",
   "metadata": {},
   "outputs": [
    {
     "data": {
      "text/html": [
       "<div>\n",
       "<style scoped>\n",
       "    .dataframe tbody tr th:only-of-type {\n",
       "        vertical-align: middle;\n",
       "    }\n",
       "\n",
       "    .dataframe tbody tr th {\n",
       "        vertical-align: top;\n",
       "    }\n",
       "\n",
       "    .dataframe thead tr th {\n",
       "        text-align: left;\n",
       "    }\n",
       "</style>\n",
       "<table border=\"1\" class=\"dataframe\">\n",
       "  <thead>\n",
       "    <tr>\n",
       "      <th></th>\n",
       "      <th>Judge/Commissioner Assigned</th>\n",
       "      <th>Date Filed</th>\n",
       "      <th>Location</th>\n",
       "      <th>Case Type</th>\n",
       "      <th>Disposition</th>\n",
       "    </tr>\n",
       "  </thead>\n",
       "  <tbody>\n",
       "    <tr>\n",
       "      <th>0</th>\n",
       "      <td>MORRIS, RAPHAEL ODELL</td>\n",
       "      <td>01/02/2025</td>\n",
       "      <td>Pagedale Municipal</td>\n",
       "      <td>Municipal/ Ordinance - see Charges</td>\n",
       "      <td>Not Disposed</td>\n",
       "    </tr>\n",
       "  </tbody>\n",
       "</table>\n",
       "</div>"
      ],
      "text/plain": [
       "  Judge/Commissioner Assigned  Date Filed            Location  \\\n",
       "0       MORRIS, RAPHAEL ODELL  01/02/2025  Pagedale Municipal   \n",
       "\n",
       "                            Case Type   Disposition  \n",
       "0  Municipal/ Ordinance - see Charges  Not Disposed  "
      ]
     },
     "execution_count": 7,
     "metadata": {},
     "output_type": "execute_result"
    }
   ],
   "source": [
    "case_details"
   ]
  },
  {
   "cell_type": "code",
   "execution_count": 28,
   "id": "cbb43ffc",
   "metadata": {},
   "outputs": [
    {
     "ename": "SyntaxError",
     "evalue": "invalid syntax (Temp/ipykernel_17104/831296096.py, line 2)",
     "output_type": "error",
     "traceback": [
      "\u001b[1;36m  File \u001b[1;32m\"C:\\Users\\Kimbe\\AppData\\Local\\Temp/ipykernel_17104/831296096.py\"\u001b[1;36m, line \u001b[1;32m2\u001b[0m\n\u001b[1;33m    case_details[,(case_details[['Location']] == 'Pagedale Municipal')]\u001b[0m\n\u001b[1;37m                 ^\u001b[0m\n\u001b[1;31mSyntaxError\u001b[0m\u001b[1;31m:\u001b[0m invalid syntax\n"
     ]
    }
   ],
   "source": [
    "#How can I handle situations where a case has extra headers? example: Judge/Commissioner at Disposition\n",
    "case_details['case_number'] = sample_case_num\n"
   ]
  }
 ],
 "metadata": {
  "kernelspec": {
   "display_name": "Python 3 (ipykernel)",
   "language": "python",
   "name": "python3"
  },
  "language_info": {
   "codemirror_mode": {
    "name": "ipython",
    "version": 3
   },
   "file_extension": ".py",
   "mimetype": "text/x-python",
   "name": "python",
   "nbconvert_exporter": "python",
   "pygments_lexer": "ipython3",
   "version": "3.8.5"
  }
 },
 "nbformat": 4,
 "nbformat_minor": 5
}
