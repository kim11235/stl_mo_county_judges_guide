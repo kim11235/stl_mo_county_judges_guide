{
 "cells": [
  {
   "cell_type": "markdown",
   "id": "132627fc",
   "metadata": {},
   "source": [
    "<h3>Scrape Case Details</h3>"
   ]
  },
  {
   "cell_type": "code",
   "execution_count": 45,
   "id": "8e4743d1",
   "metadata": {},
   "outputs": [],
   "source": [
    "#import the necessary python packages\n",
    "import sys\n",
    "\n",
    "selenium_path = r'C:\\Users\\Kimbe\\anaconda3\\Lib\\site-packages\\selenium'\n",
    "PYSOLR_PATH = r'c:\\users\\kimbe\\appdata\\local\\programs\\python\\python312\\lib\\site-packages'\n",
    "\n",
    "if not PYSOLR_PATH in sys.path:\n",
    "    sys.path.append(PYSOLR_PATH)\n",
    "\n",
    "if not selenium_path in sys.path:\n",
    "    sys.path.append(selenium_path)\n",
    "\n",
    "import pandas\n",
    "import numpy\n",
    "import requests\n",
    "import bs4\n",
    "import re\n",
    "import undetected_chromedriver as uc\n",
    "import selenium\n",
    "import os\n",
    "from selenium import webdriver\n",
    "from selenium.webdriver.common.action_chains import ActionChains\n",
    "from selenium.common.exceptions import TimeoutException\n",
    "from selenium.webdriver.support.wait import WebDriverWait\n",
    "from selenium.webdriver.common.by import By\n",
    "from selenium.webdriver.support import expected_conditions as EC\n",
    "import time\n",
    "\n",
    "import re"
   ]
  },
  {
   "cell_type": "code",
   "execution_count": 46,
   "id": "41684759",
   "metadata": {},
   "outputs": [],
   "source": [
    "suffix_header = '#header'\n",
    "suffix_parties = '#party'\n",
    "suffix_docket = '#docket'\n",
    "suffix_charges = '#charges'\n",
    "suffix_service = '#service'\n",
    "suffix_hearings = '#scheduled'\n",
    "suffix_judgment = '#judgment'\n",
    "suffix_garnishments = '#garnishment'\n"
   ]
  },
  {
   "cell_type": "code",
   "execution_count": 32,
   "id": "b91fc84b",
   "metadata": {},
   "outputs": [],
   "source": [
    "#read the links\n",
    "links = pandas.read_csv(r\"C:\\Users\\Kimbe\\Documents\\Data Science\\Sample Data - Week of Jan 2, 2025.csv\")"
   ]
  },
  {
   "cell_type": "code",
   "execution_count": 37,
   "id": "1db56ab0",
   "metadata": {},
   "outputs": [
    {
     "name": "stdout",
     "output_type": "stream",
     "text": [
      "https://www.courts.mo.gov/cnet/cases/newHeader.do?inputVO.caseNumber=240286808&amp;inputVO.courtId=CT21&inputVO.courtId=CT21\n",
      "https://www.courts.mo.gov/cnet/cases/newHeader.do?inputVO.caseNumber=240286808&amp;inputVO.courtId=CT21&inputVO.courtId=CT21#charges\n"
     ]
    }
   ],
   "source": [
    "sample_link = links.iloc[0,5]\n",
    "sample_links = [(sample_link + suffix_header), (sample_link + suffix_parties), (sample_link + suffix_docket), (sample_link + suffix_charges), (sample_link + suffix_service), (sample_link + suffix_hearings), (sample_link + suffix_judgment), (sample_link + suffix_garnishments)]\n",
    "sample_links = pandas.DataFrame({'Links': sample_links})"
   ]
  },
  {
   "cell_type": "code",
   "execution_count": 47,
   "id": "25c4546c",
   "metadata": {},
   "outputs": [],
   "source": [
    "#Launch the headless browser\n",
    "driver = uc.Chrome()\n",
    "\n",
    "#Navigate to the CaseNet URL\n",
    "driver.get(sample_link)\n",
    "\n",
    "#Give the page ample time to load\n",
    "time.sleep(10)\n",
    "wait = WebDriverWait(driver, 10)\n"
   ]
  }
 ],
 "metadata": {
  "kernelspec": {
   "display_name": "Python 3 (ipykernel)",
   "language": "python",
   "name": "python3"
  },
  "language_info": {
   "codemirror_mode": {
    "name": "ipython",
    "version": 3
   },
   "file_extension": ".py",
   "mimetype": "text/x-python",
   "name": "python",
   "nbconvert_exporter": "python",
   "pygments_lexer": "ipython3",
   "version": "3.8.5"
  }
 },
 "nbformat": 4,
 "nbformat_minor": 5
}
