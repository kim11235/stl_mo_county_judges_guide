{
 "cells": [
  {
   "cell_type": "markdown",
   "id": "f9163e24",
   "metadata": {},
   "source": [
    "Notebook to scrape the Internet for data about St. Louis County judges.\n",
    "\n",
    "List of St. Louis County judges:  https://stlcountycourts.com/our-judges/\n",
    "This list of judges will be used to navigate to each judge's webpage and gather their contact information, appointing governor, date of appointment, and court type.\n"
   ]
  },
  {
   "cell_type": "code",
   "execution_count": 2,
   "id": "f68e73b5",
   "metadata": {},
   "outputs": [],
   "source": [
    "#Create a variable for the website address\n",
    "judges_url = r'https://stlcountycourts.com/our-judges/'"
   ]
  },
  {
   "cell_type": "code",
   "execution_count": 3,
   "id": "51d9f4f0",
   "metadata": {},
   "outputs": [],
   "source": [
    "#import the necessary python packages\n",
    "import pandas\n",
    "import numpy\n",
    "import requests\n",
    "import bs4"
   ]
  },
  {
   "cell_type": "code",
   "execution_count": 4,
   "id": "fd4fce46",
   "metadata": {},
   "outputs": [],
   "source": [
    "#Read the website\n",
    "response = requests.get(judges_url)\n",
    "html_data = response.text"
   ]
  },
  {
   "cell_type": "code",
   "execution_count": 5,
   "id": "6f88de7b",
   "metadata": {},
   "outputs": [],
   "source": [
    "#Parse the website text using BeautifulSoup\n",
    "soup = bs4.BeautifulSoup(html_data, \"html.parser\")\n",
    "\n"
   ]
  },
  {
   "cell_type": "code",
   "execution_count": 83,
   "id": "f3578f44",
   "metadata": {},
   "outputs": [],
   "source": [
    "#Extract the lists of judges by category\n",
    "civil_criminal = bs4.BeautifulSoup(str(soup.find_all('div', {\"class\": \"mura-object\", \"data-label\": \"Circuit Civil / Criminal\"}))).find_all('a')\n",
    "\n",
    "associate_civil = bs4.BeautifulSoup(str(soup.find_all('div', {\"class\": \"mura-object\", \"data-label\": \"Associate Civil\"}))).find_all('a')\n",
    "\n",
    "associate_criminal_traffic = bs4.BeautifulSoup(str(soup.find_all('div', {\"class\": \"mura-object\", \"data-label\": \"Associate Criminal/Traffic\"}))).find_all('a')\n",
    "\n",
    "department_of_revenue = bs4.BeautifulSoup(str(soup.find_all('div', {\"class\": \"mura-object\", \"data-label\": \"Department of Revenue\"}))).find_all('a')\n",
    "\n",
    "probate = bs4.BeautifulSoup(str(soup.find_all('div', {\"class\": \"mura-object\", \"data-objectid\": \"A95859E7-392D-4F2A-8CC02BF382A27ED8\"}))).find_all('a')\n",
    "\n",
    "treatment = bs4.BeautifulSoup(str(soup.find_all('div', {\"class\": \"mura-object\", \"data-label\": \"Treatment\"}))).find_all('a')\n",
    "\n",
    "juvenile = bs4.BeautifulSoup(str(soup.find_all('div', {\"class\": \"mura-object\", \"data-label\": \"Juvenile\"}))).find_all('a')\n",
    "\n",
    "custody_divorce = bs4.BeautifulSoup(str(soup.find_all('div', {\"class\": \"mura-object\", \"data-label\": \"Custody/Divorce\"}))).find_all('a')\n",
    "\n",
    "#Special logic for family administrative and probate administrative\n",
    "family_administrative = soup.find_all('div', {\"class\": \"mura-object\", \"data-label\": \"Family Court\"})\n",
    "probate_administrative = soup.find_all('div', {\"class\": \"mura-object\", \"data-objectid\": \"92634AAC-A891-4F13-A4E95D9E0C534BAB\"})\n"
   ]
  },
  {
   "cell_type": "code",
   "execution_count": 84,
   "id": "4214fc23",
   "metadata": {},
   "outputs": [
    {
     "data": {
      "text/plain": [
       "[<div class=\"mura-object mura-twelve mura-sm mura-object-label-top\" data-async=\"false\" data-class=\"mura-twelve mura-sm mura-object-label-top\" data-cssstyles=\"\" data-instanceid=\"C29B9870-6D92-4C36-8F72A64EE2D7107D\" data-label=\"Probate\" data-labeltag=\"h3\" data-object=\"text\" data-objecticonclass=\"mi-font\" data-objectid=\"92634AAC-A891-4F13-A4E95D9E0C534BAB\" data-objectname=\"Text\" data-queue=\"true\" data-render=\"client\" data-source='&lt;p&gt;&lt;a id=\"PROBATE\"&gt;&lt;/a&gt;&lt;/p&gt;\n",
       " \n",
       " &lt;h3 style=\"text-align: center;\"&gt;&lt;a href=\"/our-judges/division-5/\" target=\"_blank\"&gt;Hon. Nicole S. Zellweger&lt;/a&gt;&lt;/h3&gt;\n",
       " \n",
       " &lt;h5 style=\"text-align: center;\"&gt;Probate Administrative Judge&lt;/h5&gt;\n",
       " ' data-sourcetype=\"custom\" data-stylesupport='{\"objectmarginuom\":\"px\",\"objectstyles\":{\"marginTop\":\"10px\"},\"metastyles\":{\"float\":\"center\",\"textAlign\":\"center\",\"color\":\"#000080\"}}' data-transient=\"false\" style=\"\"></div>]"
      ]
     },
     "execution_count": 84,
     "metadata": {},
     "output_type": "execute_result"
    }
   ],
   "source": [
    "probate_administrative"
   ]
  }
 ],
 "metadata": {
  "kernelspec": {
   "display_name": "Python 3 (ipykernel)",
   "language": "python",
   "name": "python3"
  },
  "language_info": {
   "codemirror_mode": {
    "name": "ipython",
    "version": 3
   },
   "file_extension": ".py",
   "mimetype": "text/x-python",
   "name": "python",
   "nbconvert_exporter": "python",
   "pygments_lexer": "ipython3",
   "version": "3.8.5"
  }
 },
 "nbformat": 4,
 "nbformat_minor": 5
}
