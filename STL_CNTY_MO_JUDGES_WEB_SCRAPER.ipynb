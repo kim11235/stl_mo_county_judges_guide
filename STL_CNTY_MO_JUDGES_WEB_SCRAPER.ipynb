{
 "cells": [
  {
   "cell_type": "markdown",
   "id": "f9163e24",
   "metadata": {},
   "source": [
    "Notebook to scrape the Internet for data about St. Louis County judges.\n",
    "\n",
    "List of St. Louis County judges:  https://stlcountycourts.com/our-judges/\n",
    "This list of judges will be used to navigate to each judge's webpage and gather their contact information, appointing governor, date of appointment, and court type.\n"
   ]
  },
  {
   "cell_type": "code",
   "execution_count": 22,
   "id": "f68e73b5",
   "metadata": {},
   "outputs": [],
   "source": [
    "#Create a variable for the website address\n",
    "judges_url = r'https://stlcountycourts.com/our-judges/'"
   ]
  },
  {
   "cell_type": "code",
   "execution_count": 23,
   "id": "51d9f4f0",
   "metadata": {},
   "outputs": [],
   "source": [
    "#import the necessary python packages\n",
    "import pandas\n",
    "import numpy #not in use\n",
    "import requests\n",
    "import bs4\n",
    "import re"
   ]
  },
  {
   "cell_type": "code",
   "execution_count": 24,
   "id": "fd4fce46",
   "metadata": {},
   "outputs": [],
   "source": [
    "#Read the website\n",
    "response = requests.get(judges_url)\n",
    "html_data = response.text"
   ]
  },
  {
   "cell_type": "code",
   "execution_count": 25,
   "id": "6f88de7b",
   "metadata": {},
   "outputs": [],
   "source": [
    "#Parse the website text using BeautifulSoup\n",
    "soup = bs4.BeautifulSoup(html_data, \"html.parser\")\n",
    "\n"
   ]
  },
  {
   "cell_type": "code",
   "execution_count": 26,
   "id": "f3578f44",
   "metadata": {},
   "outputs": [],
   "source": [
    "#Extract the lists of judges by category\n",
    "civil_criminal = bs4.BeautifulSoup(str(soup.find_all('div', {\"class\": \"mura-object\", \"data-label\": \"Circuit Civil / Criminal\"}))).find_all('a')\n",
    "\n",
    "associate_civil = bs4.BeautifulSoup(str(soup.find_all('div', {\"class\": \"mura-object\", \"data-label\": \"Associate Civil\"}))).find_all('a')\n",
    "\n",
    "associate_criminal_traffic = bs4.BeautifulSoup(str(soup.find_all('div', {\"class\": \"mura-object\", \"data-label\": \"Associate Criminal/Traffic\"}))).find_all('a')\n",
    "\n",
    "department_of_revenue = bs4.BeautifulSoup(str(soup.find_all('div', {\"class\": \"mura-object\", \"data-label\": \"Department of Revenue\"}))).find_all('a')\n",
    "\n",
    "probate = bs4.BeautifulSoup(str(soup.find_all('div', {\"class\": \"mura-object\", \"data-objectid\": \"A95859E7-392D-4F2A-8CC02BF382A27ED8\"}))).find_all('a')\n",
    "\n",
    "treatment = bs4.BeautifulSoup(str(soup.find_all('div', {\"class\": \"mura-object\", \"data-label\": \"Treatment\"}))).find_all('a')\n",
    "\n",
    "juvenile = bs4.BeautifulSoup(str(soup.find_all('div', {\"class\": \"mura-object\", \"data-label\": \"Juvenile\"}))).find_all('a')\n",
    "\n",
    "custody_divorce = bs4.BeautifulSoup(str(soup.find_all('div', {\"class\": \"mura-object\", \"data-label\": \"Custody/Divorce\"}))).find_all('a')\n",
    "\n",
    "#Special logic for family administrative and probate administrative\n",
    "family_administrative = soup.find_all('div', {\"class\": \"mura-object\", \"data-label\": \"Family Court\"})\n",
    "probate_administrative = soup.find_all('div', {\"class\": \"mura-object\", \"data-objectid\": \"92634AAC-A891-4F13-A4E95D9E0C534BAB\"})\n",
    "\n",
    "#Create a dataframe to store the HTML code for each category of judges\n",
    "judges_lists = pandas.DataFrame({'Category': [\"Civil / Criminal\", \"Associate Civil\", \"Associate Criminal/Traffic\", \"Department of Revenue\", \"Probate\", \"Treatment\", \"Juvenile\", \"Custody/Divorce\"], \n",
    "                                 'HTML': [civil_criminal, associate_civil, associate_criminal_traffic, department_of_revenue, probate, treatment, juvenile, custody_divorce]})\n",
    "\n",
    "#Create an empty dataframe to store judge-level data for each category\n",
    "judges = pandas.DataFrame({'Category' : [], 'HTML':[], 'Name':[], 'Webpage':[]})"
   ]
  },
  {
   "cell_type": "code",
   "execution_count": 28,
   "id": "af783a27",
   "metadata": {},
   "outputs": [
    {
     "name": "stderr",
     "output_type": "stream",
     "text": [
      "C:\\Users\\Kimbe\\AppData\\Local\\Temp/ipykernel_10316/1903084409.py:10: FutureWarning: The frame.append method is deprecated and will be removed from pandas in a future version. Use pandas.concat instead.\n",
      "  judges = judges.append(df)\n",
      "C:\\Users\\Kimbe\\AppData\\Local\\Temp/ipykernel_10316/1903084409.py:10: FutureWarning: The frame.append method is deprecated and will be removed from pandas in a future version. Use pandas.concat instead.\n",
      "  judges = judges.append(df)\n",
      "C:\\Users\\Kimbe\\AppData\\Local\\Temp/ipykernel_10316/1903084409.py:10: FutureWarning: The frame.append method is deprecated and will be removed from pandas in a future version. Use pandas.concat instead.\n",
      "  judges = judges.append(df)\n",
      "C:\\Users\\Kimbe\\AppData\\Local\\Temp/ipykernel_10316/1903084409.py:10: FutureWarning: The frame.append method is deprecated and will be removed from pandas in a future version. Use pandas.concat instead.\n",
      "  judges = judges.append(df)\n",
      "C:\\Users\\Kimbe\\AppData\\Local\\Temp/ipykernel_10316/1903084409.py:10: FutureWarning: The frame.append method is deprecated and will be removed from pandas in a future version. Use pandas.concat instead.\n",
      "  judges = judges.append(df)\n",
      "C:\\Users\\Kimbe\\AppData\\Local\\Temp/ipykernel_10316/1903084409.py:10: FutureWarning: The frame.append method is deprecated and will be removed from pandas in a future version. Use pandas.concat instead.\n",
      "  judges = judges.append(df)\n"
     ]
    }
   ],
   "source": [
    "#Populate the judges dataframe with details from the judges_lists dataframe\n",
    "for index, row in judges_lists.iterrows():\n",
    "    names = []\n",
    "    webpages = []\n",
    "    for tag in row['HTML']:\n",
    "        names.append(tag.text)\n",
    "        webpages.append('https://stlcountycourts.com' + (str(re.findall(r'<a href=\"([^\"]*)', str(tag))).replace(\"['\", '').replace(\"']\", '')))\n",
    "    df = pandas.DataFrame({'Category': row['Category'], 'HTML': row['HTML'], 'Name': names, 'Webpage':webpages})\n",
    "    judges = judges.append(df)    \n",
    "\n",
    "#Filter out any empty rows from the judges dataframe\n",
    "judges = judges[~(judges['Name'] == str(''))]"
   ]
  }
 ],
 "metadata": {
  "kernelspec": {
   "display_name": "Python 3 (ipykernel)",
   "language": "python",
   "name": "python3"
  },
  "language_info": {
   "codemirror_mode": {
    "name": "ipython",
    "version": 3
   },
   "file_extension": ".py",
   "mimetype": "text/x-python",
   "name": "python",
   "nbconvert_exporter": "python",
   "pygments_lexer": "ipython3",
   "version": "3.8.5"
  }
 },
 "nbformat": 4,
 "nbformat_minor": 5
}
