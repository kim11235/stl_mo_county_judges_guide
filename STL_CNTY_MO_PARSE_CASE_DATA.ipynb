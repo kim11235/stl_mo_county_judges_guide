{
 "cells": [
  {
   "cell_type": "code",
   "execution_count": 1,
   "id": "cfa51219",
   "metadata": {},
   "outputs": [],
   "source": [
    "#Load libraries\n",
    "import pandas\n",
    "import numpy\n",
    "import requests\n",
    "import bs4\n",
    "import re"
   ]
  },
  {
   "cell_type": "code",
   "execution_count": 2,
   "id": "7120b012",
   "metadata": {},
   "outputs": [],
   "source": [
    "sample_text = '[<td class=\"sorting_1\" tabindex=\"0\"> </td>, <td>12/22/2024</td>, <td><a class=\"stretched-link text-justify\" href=\"/cnet/cases/newHeader.do?inputVO.caseNumber=210236646&amp;inputVO.courtId=CT21\">210236646</a></td>, <td>CITY OF FLORISSANT V JAYLA LASHAY ADAMS</td>, <td>Municipal Ordinance - Traffic</td>, <td>Florissant Municipal</td>]'"
   ]
  },
  {
   "cell_type": "code",
   "execution_count": 4,
   "id": "2d695015",
   "metadata": {},
   "outputs": [],
   "source": [
    "soup = bs4.BeautifulSoup(sample_text)"
   ]
  },
  {
   "cell_type": "code",
   "execution_count": 69,
   "id": "ce4aea7a",
   "metadata": {},
   "outputs": [
    {
     "name": "stdout",
     "output_type": "stream",
     "text": [
      "https://www.courts.mo.gov/cnet/cases/newHeader.do?inputVO.caseNumber=210236646&amp;inputVO.courtId=CT21&inputVO.courtId=CT21\n"
     ]
    }
   ],
   "source": [
    "date_filed = str(soup.find_all('td')[1]).replace('<td>', '').replace('</td>', '')\n",
    "case_number = str(str(soup.find_all('td')[2]).replace('<td>', '').replace('</td>', '').split('\"', 4)[4]).replace(\">\", '').replace(\"</a\", '')\n",
    "style_of_case = str(soup.find_all('td')[3]).replace('<td>', '').replace('</td>', '')\n",
    "case_type =  str(soup.find_all('td')[4]).replace('<td>', '').replace('</td>', '')\n",
    "location =  str(soup.find_all('td')[5]).replace('<td>', '').replace('</td>', '')\n",
    "link_text = 'https://www.courts.mo.gov' + str(soup.a).replace('<a class=\"stretched-link text-justify\" href=\"', '').split('\"', 1)[0] + '&inputVO.courtId=CT21'\n"
   ]
  }
 ],
 "metadata": {
  "kernelspec": {
   "display_name": "Python 3 (ipykernel)",
   "language": "python",
   "name": "python3"
  },
  "language_info": {
   "codemirror_mode": {
    "name": "ipython",
    "version": 3
   },
   "file_extension": ".py",
   "mimetype": "text/x-python",
   "name": "python",
   "nbconvert_exporter": "python",
   "pygments_lexer": "ipython3",
   "version": "3.8.5"
  }
 },
 "nbformat": 4,
 "nbformat_minor": 5
}
