{
 "cells": [
  {
   "cell_type": "code",
   "execution_count": 1,
   "id": "da47949d",
   "metadata": {},
   "outputs": [],
   "source": [
    "#Load libraries\n",
    "import pandas\n",
    "import numpy\n",
    "import requests\n",
    "import bs4\n",
    "import re"
   ]
  },
  {
   "cell_type": "code",
   "execution_count": 2,
   "id": "bcbb0d1b",
   "metadata": {},
   "outputs": [],
   "source": [
    "sample_text = '[<td class=\"sorting_1\" tabindex=\"0\"> </td>, <td>12/22/2024</td>, <td><a class=\"stretched-link text-justify\" href=\"/cnet/cases/newHeader.do?inputVO.caseNumber=210236646&amp;inputVO.courtId=CT21\">210236646</a></td>, <td>CITY OF FLORISSANT V JAYLA LASHAY ADAMS</td>, <td>Municipal Ordinance - Traffic</td>, <td>Florissant Municipal</td>]'"
   ]
  },
  {
   "cell_type": "code",
   "execution_count": 4,
   "id": "1bd1f971",
   "metadata": {},
   "outputs": [],
   "source": [
    "soup = bs4.BeautifulSoup(sample_text)"
   ]
  },
  {
   "cell_type": "code",
   "execution_count": 42,
   "id": "dd72a18d",
   "metadata": {},
   "outputs": [
    {
     "name": "stdout",
     "output_type": "stream",
     "text": [
      "12/22/2024\n"
     ]
    }
   ],
   "source": [
    "attrs = soup.find_all('td')[1]\n",
    "date_filed = str(soup.find_all('td')[1]).replace('<td>', '').replace('</td>', '')\n",
    "link_text = str(soup.a).replace('<a class=\"stretched-link text-justify\" href=\"', '').split('\"', 1)[0]\n",
    "link_text\n",
    "print(date_filed)"
   ]
  }
 ],
 "metadata": {
  "kernelspec": {
   "display_name": "Python 3 (ipykernel)",
   "language": "python",
   "name": "python3"
  },
  "language_info": {
   "codemirror_mode": {
    "name": "ipython",
    "version": 3
   },
   "file_extension": ".py",
   "mimetype": "text/x-python",
   "name": "python",
   "nbconvert_exporter": "python",
   "pygments_lexer": "ipython3",
   "version": "3.8.5"
  }
 },
 "nbformat": 4,
 "nbformat_minor": 5
}
