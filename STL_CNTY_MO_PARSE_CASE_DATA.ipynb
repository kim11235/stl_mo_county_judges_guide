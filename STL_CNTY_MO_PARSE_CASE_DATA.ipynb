{
 "cells": [
  {
   "cell_type": "code",
   "execution_count": 1,
   "id": "7347f413",
   "metadata": {},
   "outputs": [],
   "source": [
    "#Load libraries\n",
    "import pandas\n",
    "import numpy\n",
    "import requests\n",
    "import bs4\n",
    "import re"
   ]
  },
  {
   "cell_type": "code",
   "execution_count": 2,
   "id": "654bdd6c",
   "metadata": {},
   "outputs": [],
   "source": [
    "sample_text = '[<td class=\"sorting_1\" tabindex=\"0\"> </td>, <td>12/22/2024</td>, <td><a class=\"stretched-link text-justify\" href=\"/cnet/cases/newHeader.do?inputVO.caseNumber=210236646&amp;inputVO.courtId=CT21\">210236646</a></td>, <td>CITY OF FLORISSANT V JAYLA LASHAY ADAMS</td>, <td>Municipal Ordinance - Traffic</td>, <td>Florissant Municipal</td>]'"
   ]
  },
  {
   "cell_type": "code",
   "execution_count": 3,
   "id": "ed1274fe",
   "metadata": {},
   "outputs": [],
   "source": [
    "soup = bs4.BeautifulSoup(sample_text)"
   ]
  },
  {
   "cell_type": "code",
   "execution_count": 4,
   "id": "3dad432f",
   "metadata": {},
   "outputs": [],
   "source": [
    "def parse_case_text(text): \n",
    "    try:\n",
    "        soup = bs4.BeautifulSoup(text)\n",
    "        date_filed = str(soup.find_all('td')[1]).replace('<td>', '').replace('</td>', '')\n",
    "        case_number = str(str(soup.find_all('td')[2]).replace('<td>', '').replace('</td>', '').split('\"', 4)[4]).replace(\">\", '').replace(\"</a\", '')\n",
    "        style_of_case = str(soup.find_all('td')[3]).replace('<td>', '').replace('</td>', '')\n",
    "        case_type =  str(soup.find_all('td')[4]).replace('<td>', '').replace('</td>', '')\n",
    "        location =  str(soup.find_all('td')[5]).replace('<td>', '').replace('</td>', '')\n",
    "        link_text = 'https://www.courts.mo.gov' + str(soup.a).replace('<a class=\"stretched-link text-justify\" href=\"', '').split('\"', 1)[0] + '&inputVO.courtId=CT21'\n",
    "\n",
    "        array = pandas.DataFrame({\"date_filed\": [date_filed], 'case_number': [case_number], 'style_of_case': [style_of_case], 'case_type': [case_type], 'location': [location], 'link_text': [link_text]})\n",
    "        return array\n",
    "    except:\n",
    "        print(\"Skipping row\")\n",
    "        array = pandas.DataFrame({\"date_filed\": ['Skipped'], 'case_number': ['Skipped'], 'style_of_case': ['Skipped'], 'case_type': ['Skipped'], 'location': ['Skipped'], 'link_text': ['Skipped']})\n",
    "        return \n"
   ]
  },
  {
   "cell_type": "code",
   "execution_count": 5,
   "id": "8ab269ae",
   "metadata": {},
   "outputs": [],
   "source": [
    "weekly_df = pandas.read_csv(r\"C:\\Users\\Kimbe\\Documents\\Data Science\\2025-01-02_case_list.csv\")"
   ]
  },
  {
   "cell_type": "code",
   "execution_count": 7,
   "id": "a3f74f71",
   "metadata": {},
   "outputs": [
    {
     "name": "stderr",
     "output_type": "stream",
     "text": [
      "C:\\Users\\Kimbe\\AppData\\Local\\Temp/ipykernel_7100/3673173512.py:5: FutureWarning: The frame.append method is deprecated and will be removed from pandas in a future version. Use pandas.concat instead.\n",
      "  output_df = output_df.append(df)\n",
      "C:\\Users\\Kimbe\\AppData\\Local\\Temp/ipykernel_7100/3673173512.py:5: FutureWarning: The frame.append method is deprecated and will be removed from pandas in a future version. Use pandas.concat instead.\n",
      "  output_df = output_df.append(df)\n",
      "C:\\Users\\Kimbe\\AppData\\Local\\Temp/ipykernel_7100/3673173512.py:5: FutureWarning: The frame.append method is deprecated and will be removed from pandas in a future version. Use pandas.concat instead.\n",
      "  output_df = output_df.append(df)\n",
      "C:\\Users\\Kimbe\\AppData\\Local\\Temp/ipykernel_7100/3673173512.py:5: FutureWarning: The frame.append method is deprecated and will be removed from pandas in a future version. Use pandas.concat instead.\n",
      "  output_df = output_df.append(df)\n",
      "C:\\Users\\Kimbe\\AppData\\Local\\Temp/ipykernel_7100/3673173512.py:5: FutureWarning: The frame.append method is deprecated and will be removed from pandas in a future version. Use pandas.concat instead.\n",
      "  output_df = output_df.append(df)\n",
      "C:\\Users\\Kimbe\\AppData\\Local\\Temp/ipykernel_7100/3673173512.py:5: FutureWarning: The frame.append method is deprecated and will be removed from pandas in a future version. Use pandas.concat instead.\n",
      "  output_df = output_df.append(df)\n",
      "C:\\Users\\Kimbe\\AppData\\Local\\Temp/ipykernel_7100/3673173512.py:5: FutureWarning: The frame.append method is deprecated and will be removed from pandas in a future version. Use pandas.concat instead.\n",
      "  output_df = output_df.append(df)\n",
      "C:\\Users\\Kimbe\\AppData\\Local\\Temp/ipykernel_7100/3673173512.py:5: FutureWarning: The frame.append method is deprecated and will be removed from pandas in a future version. Use pandas.concat instead.\n",
      "  output_df = output_df.append(df)\n",
      "C:\\Users\\Kimbe\\AppData\\Local\\Temp/ipykernel_7100/3673173512.py:5: FutureWarning: The frame.append method is deprecated and will be removed from pandas in a future version. Use pandas.concat instead.\n",
      "  output_df = output_df.append(df)\n",
      "C:\\Users\\Kimbe\\AppData\\Local\\Temp/ipykernel_7100/3673173512.py:5: FutureWarning: The frame.append method is deprecated and will be removed from pandas in a future version. Use pandas.concat instead.\n",
      "  output_df = output_df.append(df)\n",
      "C:\\Users\\Kimbe\\AppData\\Local\\Temp/ipykernel_7100/3673173512.py:5: FutureWarning: The frame.append method is deprecated and will be removed from pandas in a future version. Use pandas.concat instead.\n",
      "  output_df = output_df.append(df)\n",
      "C:\\Users\\Kimbe\\AppData\\Local\\Temp/ipykernel_7100/3673173512.py:5: FutureWarning: The frame.append method is deprecated and will be removed from pandas in a future version. Use pandas.concat instead.\n",
      "  output_df = output_df.append(df)\n",
      "C:\\Users\\Kimbe\\AppData\\Local\\Temp/ipykernel_7100/3673173512.py:5: FutureWarning: The frame.append method is deprecated and will be removed from pandas in a future version. Use pandas.concat instead.\n",
      "  output_df = output_df.append(df)\n",
      "C:\\Users\\Kimbe\\AppData\\Local\\Temp/ipykernel_7100/3673173512.py:5: FutureWarning: The frame.append method is deprecated and will be removed from pandas in a future version. Use pandas.concat instead.\n",
      "  output_df = output_df.append(df)\n",
      "C:\\Users\\Kimbe\\AppData\\Local\\Temp/ipykernel_7100/3673173512.py:5: FutureWarning: The frame.append method is deprecated and will be removed from pandas in a future version. Use pandas.concat instead.\n",
      "  output_df = output_df.append(df)\n"
     ]
    },
    {
     "name": "stdout",
     "output_type": "stream",
     "text": [
      "Skipping row\n",
      "Skipping row\n"
     ]
    },
    {
     "name": "stderr",
     "output_type": "stream",
     "text": [
      "C:\\Users\\Kimbe\\AppData\\Local\\Temp/ipykernel_7100/3673173512.py:5: FutureWarning: The frame.append method is deprecated and will be removed from pandas in a future version. Use pandas.concat instead.\n",
      "  output_df = output_df.append(df)\n",
      "C:\\Users\\Kimbe\\AppData\\Local\\Temp/ipykernel_7100/3673173512.py:5: FutureWarning: The frame.append method is deprecated and will be removed from pandas in a future version. Use pandas.concat instead.\n",
      "  output_df = output_df.append(df)\n",
      "C:\\Users\\Kimbe\\AppData\\Local\\Temp/ipykernel_7100/3673173512.py:5: FutureWarning: The frame.append method is deprecated and will be removed from pandas in a future version. Use pandas.concat instead.\n",
      "  output_df = output_df.append(df)\n",
      "C:\\Users\\Kimbe\\AppData\\Local\\Temp/ipykernel_7100/3673173512.py:5: FutureWarning: The frame.append method is deprecated and will be removed from pandas in a future version. Use pandas.concat instead.\n",
      "  output_df = output_df.append(df)\n",
      "C:\\Users\\Kimbe\\AppData\\Local\\Temp/ipykernel_7100/3673173512.py:5: FutureWarning: The frame.append method is deprecated and will be removed from pandas in a future version. Use pandas.concat instead.\n",
      "  output_df = output_df.append(df)\n",
      "C:\\Users\\Kimbe\\AppData\\Local\\Temp/ipykernel_7100/3673173512.py:5: FutureWarning: The frame.append method is deprecated and will be removed from pandas in a future version. Use pandas.concat instead.\n",
      "  output_df = output_df.append(df)\n",
      "C:\\Users\\Kimbe\\AppData\\Local\\Temp/ipykernel_7100/3673173512.py:5: FutureWarning: The frame.append method is deprecated and will be removed from pandas in a future version. Use pandas.concat instead.\n",
      "  output_df = output_df.append(df)\n",
      "C:\\Users\\Kimbe\\AppData\\Local\\Temp/ipykernel_7100/3673173512.py:5: FutureWarning: The frame.append method is deprecated and will be removed from pandas in a future version. Use pandas.concat instead.\n",
      "  output_df = output_df.append(df)\n",
      "C:\\Users\\Kimbe\\AppData\\Local\\Temp/ipykernel_7100/3673173512.py:5: FutureWarning: The frame.append method is deprecated and will be removed from pandas in a future version. Use pandas.concat instead.\n",
      "  output_df = output_df.append(df)\n",
      "C:\\Users\\Kimbe\\AppData\\Local\\Temp/ipykernel_7100/3673173512.py:5: FutureWarning: The frame.append method is deprecated and will be removed from pandas in a future version. Use pandas.concat instead.\n",
      "  output_df = output_df.append(df)\n",
      "C:\\Users\\Kimbe\\AppData\\Local\\Temp/ipykernel_7100/3673173512.py:5: FutureWarning: The frame.append method is deprecated and will be removed from pandas in a future version. Use pandas.concat instead.\n",
      "  output_df = output_df.append(df)\n",
      "C:\\Users\\Kimbe\\AppData\\Local\\Temp/ipykernel_7100/3673173512.py:5: FutureWarning: The frame.append method is deprecated and will be removed from pandas in a future version. Use pandas.concat instead.\n",
      "  output_df = output_df.append(df)\n",
      "C:\\Users\\Kimbe\\AppData\\Local\\Temp/ipykernel_7100/3673173512.py:5: FutureWarning: The frame.append method is deprecated and will be removed from pandas in a future version. Use pandas.concat instead.\n",
      "  output_df = output_df.append(df)\n",
      "C:\\Users\\Kimbe\\AppData\\Local\\Temp/ipykernel_7100/3673173512.py:5: FutureWarning: The frame.append method is deprecated and will be removed from pandas in a future version. Use pandas.concat instead.\n",
      "  output_df = output_df.append(df)\n",
      "C:\\Users\\Kimbe\\AppData\\Local\\Temp/ipykernel_7100/3673173512.py:5: FutureWarning: The frame.append method is deprecated and will be removed from pandas in a future version. Use pandas.concat instead.\n",
      "  output_df = output_df.append(df)\n",
      "C:\\Users\\Kimbe\\AppData\\Local\\Temp/ipykernel_7100/3673173512.py:5: FutureWarning: The frame.append method is deprecated and will be removed from pandas in a future version. Use pandas.concat instead.\n",
      "  output_df = output_df.append(df)\n",
      "C:\\Users\\Kimbe\\AppData\\Local\\Temp/ipykernel_7100/3673173512.py:5: FutureWarning: The frame.append method is deprecated and will be removed from pandas in a future version. Use pandas.concat instead.\n",
      "  output_df = output_df.append(df)\n",
      "C:\\Users\\Kimbe\\AppData\\Local\\Temp/ipykernel_7100/3673173512.py:5: FutureWarning: The frame.append method is deprecated and will be removed from pandas in a future version. Use pandas.concat instead.\n",
      "  output_df = output_df.append(df)\n"
     ]
    },
    {
     "name": "stdout",
     "output_type": "stream",
     "text": [
      "Skipping row\n",
      "Skipping row\n"
     ]
    },
    {
     "name": "stderr",
     "output_type": "stream",
     "text": [
      "C:\\Users\\Kimbe\\AppData\\Local\\Temp/ipykernel_7100/3673173512.py:5: FutureWarning: The frame.append method is deprecated and will be removed from pandas in a future version. Use pandas.concat instead.\n",
      "  output_df = output_df.append(df)\n",
      "C:\\Users\\Kimbe\\AppData\\Local\\Temp/ipykernel_7100/3673173512.py:5: FutureWarning: The frame.append method is deprecated and will be removed from pandas in a future version. Use pandas.concat instead.\n",
      "  output_df = output_df.append(df)\n",
      "C:\\Users\\Kimbe\\AppData\\Local\\Temp/ipykernel_7100/3673173512.py:5: FutureWarning: The frame.append method is deprecated and will be removed from pandas in a future version. Use pandas.concat instead.\n",
      "  output_df = output_df.append(df)\n",
      "C:\\Users\\Kimbe\\AppData\\Local\\Temp/ipykernel_7100/3673173512.py:5: FutureWarning: The frame.append method is deprecated and will be removed from pandas in a future version. Use pandas.concat instead.\n",
      "  output_df = output_df.append(df)\n",
      "C:\\Users\\Kimbe\\AppData\\Local\\Temp/ipykernel_7100/3673173512.py:5: FutureWarning: The frame.append method is deprecated and will be removed from pandas in a future version. Use pandas.concat instead.\n",
      "  output_df = output_df.append(df)\n",
      "C:\\Users\\Kimbe\\AppData\\Local\\Temp/ipykernel_7100/3673173512.py:5: FutureWarning: The frame.append method is deprecated and will be removed from pandas in a future version. Use pandas.concat instead.\n",
      "  output_df = output_df.append(df)\n",
      "C:\\Users\\Kimbe\\AppData\\Local\\Temp/ipykernel_7100/3673173512.py:5: FutureWarning: The frame.append method is deprecated and will be removed from pandas in a future version. Use pandas.concat instead.\n",
      "  output_df = output_df.append(df)\n",
      "C:\\Users\\Kimbe\\AppData\\Local\\Temp/ipykernel_7100/3673173512.py:5: FutureWarning: The frame.append method is deprecated and will be removed from pandas in a future version. Use pandas.concat instead.\n",
      "  output_df = output_df.append(df)\n",
      "C:\\Users\\Kimbe\\AppData\\Local\\Temp/ipykernel_7100/3673173512.py:5: FutureWarning: The frame.append method is deprecated and will be removed from pandas in a future version. Use pandas.concat instead.\n",
      "  output_df = output_df.append(df)\n",
      "C:\\Users\\Kimbe\\AppData\\Local\\Temp/ipykernel_7100/3673173512.py:5: FutureWarning: The frame.append method is deprecated and will be removed from pandas in a future version. Use pandas.concat instead.\n",
      "  output_df = output_df.append(df)\n",
      "C:\\Users\\Kimbe\\AppData\\Local\\Temp/ipykernel_7100/3673173512.py:5: FutureWarning: The frame.append method is deprecated and will be removed from pandas in a future version. Use pandas.concat instead.\n",
      "  output_df = output_df.append(df)\n",
      "C:\\Users\\Kimbe\\AppData\\Local\\Temp/ipykernel_7100/3673173512.py:5: FutureWarning: The frame.append method is deprecated and will be removed from pandas in a future version. Use pandas.concat instead.\n",
      "  output_df = output_df.append(df)\n",
      "C:\\Users\\Kimbe\\AppData\\Local\\Temp/ipykernel_7100/3673173512.py:5: FutureWarning: The frame.append method is deprecated and will be removed from pandas in a future version. Use pandas.concat instead.\n",
      "  output_df = output_df.append(df)\n",
      "C:\\Users\\Kimbe\\AppData\\Local\\Temp/ipykernel_7100/3673173512.py:5: FutureWarning: The frame.append method is deprecated and will be removed from pandas in a future version. Use pandas.concat instead.\n",
      "  output_df = output_df.append(df)\n",
      "C:\\Users\\Kimbe\\AppData\\Local\\Temp/ipykernel_7100/3673173512.py:5: FutureWarning: The frame.append method is deprecated and will be removed from pandas in a future version. Use pandas.concat instead.\n",
      "  output_df = output_df.append(df)\n",
      "C:\\Users\\Kimbe\\AppData\\Local\\Temp/ipykernel_7100/3673173512.py:5: FutureWarning: The frame.append method is deprecated and will be removed from pandas in a future version. Use pandas.concat instead.\n",
      "  output_df = output_df.append(df)\n",
      "C:\\Users\\Kimbe\\AppData\\Local\\Temp/ipykernel_7100/3673173512.py:5: FutureWarning: The frame.append method is deprecated and will be removed from pandas in a future version. Use pandas.concat instead.\n",
      "  output_df = output_df.append(df)\n",
      "C:\\Users\\Kimbe\\AppData\\Local\\Temp/ipykernel_7100/3673173512.py:5: FutureWarning: The frame.append method is deprecated and will be removed from pandas in a future version. Use pandas.concat instead.\n",
      "  output_df = output_df.append(df)\n",
      "C:\\Users\\Kimbe\\AppData\\Local\\Temp/ipykernel_7100/3673173512.py:5: FutureWarning: The frame.append method is deprecated and will be removed from pandas in a future version. Use pandas.concat instead.\n",
      "  output_df = output_df.append(df)\n",
      "C:\\Users\\Kimbe\\AppData\\Local\\Temp/ipykernel_7100/3673173512.py:5: FutureWarning: The frame.append method is deprecated and will be removed from pandas in a future version. Use pandas.concat instead.\n",
      "  output_df = output_df.append(df)\n",
      "C:\\Users\\Kimbe\\AppData\\Local\\Temp/ipykernel_7100/3673173512.py:5: FutureWarning: The frame.append method is deprecated and will be removed from pandas in a future version. Use pandas.concat instead.\n",
      "  output_df = output_df.append(df)\n",
      "C:\\Users\\Kimbe\\AppData\\Local\\Temp/ipykernel_7100/3673173512.py:5: FutureWarning: The frame.append method is deprecated and will be removed from pandas in a future version. Use pandas.concat instead.\n",
      "  output_df = output_df.append(df)\n",
      "C:\\Users\\Kimbe\\AppData\\Local\\Temp/ipykernel_7100/3673173512.py:5: FutureWarning: The frame.append method is deprecated and will be removed from pandas in a future version. Use pandas.concat instead.\n",
      "  output_df = output_df.append(df)\n",
      "C:\\Users\\Kimbe\\AppData\\Local\\Temp/ipykernel_7100/3673173512.py:5: FutureWarning: The frame.append method is deprecated and will be removed from pandas in a future version. Use pandas.concat instead.\n",
      "  output_df = output_df.append(df)\n",
      "C:\\Users\\Kimbe\\AppData\\Local\\Temp/ipykernel_7100/3673173512.py:5: FutureWarning: The frame.append method is deprecated and will be removed from pandas in a future version. Use pandas.concat instead.\n",
      "  output_df = output_df.append(df)\n",
      "C:\\Users\\Kimbe\\AppData\\Local\\Temp/ipykernel_7100/3673173512.py:5: FutureWarning: The frame.append method is deprecated and will be removed from pandas in a future version. Use pandas.concat instead.\n",
      "  output_df = output_df.append(df)\n",
      "C:\\Users\\Kimbe\\AppData\\Local\\Temp/ipykernel_7100/3673173512.py:5: FutureWarning: The frame.append method is deprecated and will be removed from pandas in a future version. Use pandas.concat instead.\n",
      "  output_df = output_df.append(df)\n",
      "C:\\Users\\Kimbe\\AppData\\Local\\Temp/ipykernel_7100/3673173512.py:5: FutureWarning: The frame.append method is deprecated and will be removed from pandas in a future version. Use pandas.concat instead.\n",
      "  output_df = output_df.append(df)\n",
      "C:\\Users\\Kimbe\\AppData\\Local\\Temp/ipykernel_7100/3673173512.py:5: FutureWarning: The frame.append method is deprecated and will be removed from pandas in a future version. Use pandas.concat instead.\n",
      "  output_df = output_df.append(df)\n",
      "C:\\Users\\Kimbe\\AppData\\Local\\Temp/ipykernel_7100/3673173512.py:5: FutureWarning: The frame.append method is deprecated and will be removed from pandas in a future version. Use pandas.concat instead.\n",
      "  output_df = output_df.append(df)\n",
      "C:\\Users\\Kimbe\\AppData\\Local\\Temp/ipykernel_7100/3673173512.py:5: FutureWarning: The frame.append method is deprecated and will be removed from pandas in a future version. Use pandas.concat instead.\n",
      "  output_df = output_df.append(df)\n",
      "C:\\Users\\Kimbe\\AppData\\Local\\Temp/ipykernel_7100/3673173512.py:5: FutureWarning: The frame.append method is deprecated and will be removed from pandas in a future version. Use pandas.concat instead.\n",
      "  output_df = output_df.append(df)\n",
      "C:\\Users\\Kimbe\\AppData\\Local\\Temp/ipykernel_7100/3673173512.py:5: FutureWarning: The frame.append method is deprecated and will be removed from pandas in a future version. Use pandas.concat instead.\n",
      "  output_df = output_df.append(df)\n",
      "C:\\Users\\Kimbe\\AppData\\Local\\Temp/ipykernel_7100/3673173512.py:5: FutureWarning: The frame.append method is deprecated and will be removed from pandas in a future version. Use pandas.concat instead.\n",
      "  output_df = output_df.append(df)\n",
      "C:\\Users\\Kimbe\\AppData\\Local\\Temp/ipykernel_7100/3673173512.py:5: FutureWarning: The frame.append method is deprecated and will be removed from pandas in a future version. Use pandas.concat instead.\n",
      "  output_df = output_df.append(df)\n",
      "C:\\Users\\Kimbe\\AppData\\Local\\Temp/ipykernel_7100/3673173512.py:5: FutureWarning: The frame.append method is deprecated and will be removed from pandas in a future version. Use pandas.concat instead.\n",
      "  output_df = output_df.append(df)\n"
     ]
    },
    {
     "name": "stdout",
     "output_type": "stream",
     "text": [
      "Skipping row\n",
      "Skipping row\n"
     ]
    },
    {
     "name": "stderr",
     "output_type": "stream",
     "text": [
      "C:\\Users\\Kimbe\\AppData\\Local\\Temp/ipykernel_7100/3673173512.py:5: FutureWarning: The frame.append method is deprecated and will be removed from pandas in a future version. Use pandas.concat instead.\n",
      "  output_df = output_df.append(df)\n",
      "C:\\Users\\Kimbe\\AppData\\Local\\Temp/ipykernel_7100/3673173512.py:5: FutureWarning: The frame.append method is deprecated and will be removed from pandas in a future version. Use pandas.concat instead.\n",
      "  output_df = output_df.append(df)\n",
      "C:\\Users\\Kimbe\\AppData\\Local\\Temp/ipykernel_7100/3673173512.py:5: FutureWarning: The frame.append method is deprecated and will be removed from pandas in a future version. Use pandas.concat instead.\n",
      "  output_df = output_df.append(df)\n",
      "C:\\Users\\Kimbe\\AppData\\Local\\Temp/ipykernel_7100/3673173512.py:5: FutureWarning: The frame.append method is deprecated and will be removed from pandas in a future version. Use pandas.concat instead.\n",
      "  output_df = output_df.append(df)\n",
      "C:\\Users\\Kimbe\\AppData\\Local\\Temp/ipykernel_7100/3673173512.py:5: FutureWarning: The frame.append method is deprecated and will be removed from pandas in a future version. Use pandas.concat instead.\n",
      "  output_df = output_df.append(df)\n",
      "C:\\Users\\Kimbe\\AppData\\Local\\Temp/ipykernel_7100/3673173512.py:5: FutureWarning: The frame.append method is deprecated and will be removed from pandas in a future version. Use pandas.concat instead.\n",
      "  output_df = output_df.append(df)\n",
      "C:\\Users\\Kimbe\\AppData\\Local\\Temp/ipykernel_7100/3673173512.py:5: FutureWarning: The frame.append method is deprecated and will be removed from pandas in a future version. Use pandas.concat instead.\n",
      "  output_df = output_df.append(df)\n",
      "C:\\Users\\Kimbe\\AppData\\Local\\Temp/ipykernel_7100/3673173512.py:5: FutureWarning: The frame.append method is deprecated and will be removed from pandas in a future version. Use pandas.concat instead.\n",
      "  output_df = output_df.append(df)\n",
      "C:\\Users\\Kimbe\\AppData\\Local\\Temp/ipykernel_7100/3673173512.py:5: FutureWarning: The frame.append method is deprecated and will be removed from pandas in a future version. Use pandas.concat instead.\n",
      "  output_df = output_df.append(df)\n",
      "C:\\Users\\Kimbe\\AppData\\Local\\Temp/ipykernel_7100/3673173512.py:5: FutureWarning: The frame.append method is deprecated and will be removed from pandas in a future version. Use pandas.concat instead.\n",
      "  output_df = output_df.append(df)\n",
      "C:\\Users\\Kimbe\\AppData\\Local\\Temp/ipykernel_7100/3673173512.py:5: FutureWarning: The frame.append method is deprecated and will be removed from pandas in a future version. Use pandas.concat instead.\n",
      "  output_df = output_df.append(df)\n",
      "C:\\Users\\Kimbe\\AppData\\Local\\Temp/ipykernel_7100/3673173512.py:5: FutureWarning: The frame.append method is deprecated and will be removed from pandas in a future version. Use pandas.concat instead.\n",
      "  output_df = output_df.append(df)\n",
      "C:\\Users\\Kimbe\\AppData\\Local\\Temp/ipykernel_7100/3673173512.py:5: FutureWarning: The frame.append method is deprecated and will be removed from pandas in a future version. Use pandas.concat instead.\n",
      "  output_df = output_df.append(df)\n",
      "C:\\Users\\Kimbe\\AppData\\Local\\Temp/ipykernel_7100/3673173512.py:5: FutureWarning: The frame.append method is deprecated and will be removed from pandas in a future version. Use pandas.concat instead.\n",
      "  output_df = output_df.append(df)\n",
      "C:\\Users\\Kimbe\\AppData\\Local\\Temp/ipykernel_7100/3673173512.py:5: FutureWarning: The frame.append method is deprecated and will be removed from pandas in a future version. Use pandas.concat instead.\n",
      "  output_df = output_df.append(df)\n"
     ]
    },
    {
     "name": "stdout",
     "output_type": "stream",
     "text": [
      "Skipping row\n"
     ]
    },
    {
     "name": "stderr",
     "output_type": "stream",
     "text": [
      "C:\\Users\\Kimbe\\AppData\\Local\\Temp/ipykernel_7100/3673173512.py:5: FutureWarning: The frame.append method is deprecated and will be removed from pandas in a future version. Use pandas.concat instead.\n",
      "  output_df = output_df.append(df)\n",
      "C:\\Users\\Kimbe\\AppData\\Local\\Temp/ipykernel_7100/3673173512.py:5: FutureWarning: The frame.append method is deprecated and will be removed from pandas in a future version. Use pandas.concat instead.\n",
      "  output_df = output_df.append(df)\n",
      "C:\\Users\\Kimbe\\AppData\\Local\\Temp/ipykernel_7100/3673173512.py:5: FutureWarning: The frame.append method is deprecated and will be removed from pandas in a future version. Use pandas.concat instead.\n",
      "  output_df = output_df.append(df)\n",
      "C:\\Users\\Kimbe\\AppData\\Local\\Temp/ipykernel_7100/3673173512.py:5: FutureWarning: The frame.append method is deprecated and will be removed from pandas in a future version. Use pandas.concat instead.\n",
      "  output_df = output_df.append(df)\n",
      "C:\\Users\\Kimbe\\AppData\\Local\\Temp/ipykernel_7100/3673173512.py:5: FutureWarning: The frame.append method is deprecated and will be removed from pandas in a future version. Use pandas.concat instead.\n",
      "  output_df = output_df.append(df)\n",
      "C:\\Users\\Kimbe\\AppData\\Local\\Temp/ipykernel_7100/3673173512.py:5: FutureWarning: The frame.append method is deprecated and will be removed from pandas in a future version. Use pandas.concat instead.\n",
      "  output_df = output_df.append(df)\n",
      "C:\\Users\\Kimbe\\AppData\\Local\\Temp/ipykernel_7100/3673173512.py:5: FutureWarning: The frame.append method is deprecated and will be removed from pandas in a future version. Use pandas.concat instead.\n",
      "  output_df = output_df.append(df)\n",
      "C:\\Users\\Kimbe\\AppData\\Local\\Temp/ipykernel_7100/3673173512.py:5: FutureWarning: The frame.append method is deprecated and will be removed from pandas in a future version. Use pandas.concat instead.\n",
      "  output_df = output_df.append(df)\n",
      "C:\\Users\\Kimbe\\AppData\\Local\\Temp/ipykernel_7100/3673173512.py:5: FutureWarning: The frame.append method is deprecated and will be removed from pandas in a future version. Use pandas.concat instead.\n",
      "  output_df = output_df.append(df)\n",
      "C:\\Users\\Kimbe\\AppData\\Local\\Temp/ipykernel_7100/3673173512.py:5: FutureWarning: The frame.append method is deprecated and will be removed from pandas in a future version. Use pandas.concat instead.\n",
      "  output_df = output_df.append(df)\n",
      "C:\\Users\\Kimbe\\AppData\\Local\\Temp/ipykernel_7100/3673173512.py:5: FutureWarning: The frame.append method is deprecated and will be removed from pandas in a future version. Use pandas.concat instead.\n",
      "  output_df = output_df.append(df)\n"
     ]
    },
    {
     "name": "stdout",
     "output_type": "stream",
     "text": [
      "Skipping row\n"
     ]
    },
    {
     "name": "stderr",
     "output_type": "stream",
     "text": [
      "C:\\Users\\Kimbe\\AppData\\Local\\Temp/ipykernel_7100/3673173512.py:5: FutureWarning: The frame.append method is deprecated and will be removed from pandas in a future version. Use pandas.concat instead.\n",
      "  output_df = output_df.append(df)\n",
      "C:\\Users\\Kimbe\\AppData\\Local\\Temp/ipykernel_7100/3673173512.py:5: FutureWarning: The frame.append method is deprecated and will be removed from pandas in a future version. Use pandas.concat instead.\n",
      "  output_df = output_df.append(df)\n",
      "C:\\Users\\Kimbe\\AppData\\Local\\Temp/ipykernel_7100/3673173512.py:5: FutureWarning: The frame.append method is deprecated and will be removed from pandas in a future version. Use pandas.concat instead.\n",
      "  output_df = output_df.append(df)\n",
      "C:\\Users\\Kimbe\\AppData\\Local\\Temp/ipykernel_7100/3673173512.py:5: FutureWarning: The frame.append method is deprecated and will be removed from pandas in a future version. Use pandas.concat instead.\n",
      "  output_df = output_df.append(df)\n",
      "C:\\Users\\Kimbe\\AppData\\Local\\Temp/ipykernel_7100/3673173512.py:5: FutureWarning: The frame.append method is deprecated and will be removed from pandas in a future version. Use pandas.concat instead.\n",
      "  output_df = output_df.append(df)\n",
      "C:\\Users\\Kimbe\\AppData\\Local\\Temp/ipykernel_7100/3673173512.py:5: FutureWarning: The frame.append method is deprecated and will be removed from pandas in a future version. Use pandas.concat instead.\n",
      "  output_df = output_df.append(df)\n",
      "C:\\Users\\Kimbe\\AppData\\Local\\Temp/ipykernel_7100/3673173512.py:5: FutureWarning: The frame.append method is deprecated and will be removed from pandas in a future version. Use pandas.concat instead.\n",
      "  output_df = output_df.append(df)\n",
      "C:\\Users\\Kimbe\\AppData\\Local\\Temp/ipykernel_7100/3673173512.py:5: FutureWarning: The frame.append method is deprecated and will be removed from pandas in a future version. Use pandas.concat instead.\n",
      "  output_df = output_df.append(df)\n",
      "C:\\Users\\Kimbe\\AppData\\Local\\Temp/ipykernel_7100/3673173512.py:5: FutureWarning: The frame.append method is deprecated and will be removed from pandas in a future version. Use pandas.concat instead.\n",
      "  output_df = output_df.append(df)\n",
      "C:\\Users\\Kimbe\\AppData\\Local\\Temp/ipykernel_7100/3673173512.py:5: FutureWarning: The frame.append method is deprecated and will be removed from pandas in a future version. Use pandas.concat instead.\n",
      "  output_df = output_df.append(df)\n",
      "C:\\Users\\Kimbe\\AppData\\Local\\Temp/ipykernel_7100/3673173512.py:5: FutureWarning: The frame.append method is deprecated and will be removed from pandas in a future version. Use pandas.concat instead.\n",
      "  output_df = output_df.append(df)\n"
     ]
    },
    {
     "name": "stdout",
     "output_type": "stream",
     "text": [
      "Skipping row\n"
     ]
    },
    {
     "name": "stderr",
     "output_type": "stream",
     "text": [
      "C:\\Users\\Kimbe\\AppData\\Local\\Temp/ipykernel_7100/3673173512.py:5: FutureWarning: The frame.append method is deprecated and will be removed from pandas in a future version. Use pandas.concat instead.\n",
      "  output_df = output_df.append(df)\n",
      "C:\\Users\\Kimbe\\AppData\\Local\\Temp/ipykernel_7100/3673173512.py:5: FutureWarning: The frame.append method is deprecated and will be removed from pandas in a future version. Use pandas.concat instead.\n",
      "  output_df = output_df.append(df)\n",
      "C:\\Users\\Kimbe\\AppData\\Local\\Temp/ipykernel_7100/3673173512.py:5: FutureWarning: The frame.append method is deprecated and will be removed from pandas in a future version. Use pandas.concat instead.\n",
      "  output_df = output_df.append(df)\n",
      "C:\\Users\\Kimbe\\AppData\\Local\\Temp/ipykernel_7100/3673173512.py:5: FutureWarning: The frame.append method is deprecated and will be removed from pandas in a future version. Use pandas.concat instead.\n",
      "  output_df = output_df.append(df)\n",
      "C:\\Users\\Kimbe\\AppData\\Local\\Temp/ipykernel_7100/3673173512.py:5: FutureWarning: The frame.append method is deprecated and will be removed from pandas in a future version. Use pandas.concat instead.\n",
      "  output_df = output_df.append(df)\n",
      "C:\\Users\\Kimbe\\AppData\\Local\\Temp/ipykernel_7100/3673173512.py:5: FutureWarning: The frame.append method is deprecated and will be removed from pandas in a future version. Use pandas.concat instead.\n",
      "  output_df = output_df.append(df)\n",
      "C:\\Users\\Kimbe\\AppData\\Local\\Temp/ipykernel_7100/3673173512.py:5: FutureWarning: The frame.append method is deprecated and will be removed from pandas in a future version. Use pandas.concat instead.\n",
      "  output_df = output_df.append(df)\n",
      "C:\\Users\\Kimbe\\AppData\\Local\\Temp/ipykernel_7100/3673173512.py:5: FutureWarning: The frame.append method is deprecated and will be removed from pandas in a future version. Use pandas.concat instead.\n",
      "  output_df = output_df.append(df)\n",
      "C:\\Users\\Kimbe\\AppData\\Local\\Temp/ipykernel_7100/3673173512.py:5: FutureWarning: The frame.append method is deprecated and will be removed from pandas in a future version. Use pandas.concat instead.\n",
      "  output_df = output_df.append(df)\n"
     ]
    },
    {
     "name": "stdout",
     "output_type": "stream",
     "text": [
      "Skipping row\n"
     ]
    },
    {
     "name": "stderr",
     "output_type": "stream",
     "text": [
      "C:\\Users\\Kimbe\\AppData\\Local\\Temp/ipykernel_7100/3673173512.py:5: FutureWarning: The frame.append method is deprecated and will be removed from pandas in a future version. Use pandas.concat instead.\n",
      "  output_df = output_df.append(df)\n",
      "C:\\Users\\Kimbe\\AppData\\Local\\Temp/ipykernel_7100/3673173512.py:5: FutureWarning: The frame.append method is deprecated and will be removed from pandas in a future version. Use pandas.concat instead.\n",
      "  output_df = output_df.append(df)\n",
      "C:\\Users\\Kimbe\\AppData\\Local\\Temp/ipykernel_7100/3673173512.py:5: FutureWarning: The frame.append method is deprecated and will be removed from pandas in a future version. Use pandas.concat instead.\n",
      "  output_df = output_df.append(df)\n",
      "C:\\Users\\Kimbe\\AppData\\Local\\Temp/ipykernel_7100/3673173512.py:5: FutureWarning: The frame.append method is deprecated and will be removed from pandas in a future version. Use pandas.concat instead.\n",
      "  output_df = output_df.append(df)\n",
      "C:\\Users\\Kimbe\\AppData\\Local\\Temp/ipykernel_7100/3673173512.py:5: FutureWarning: The frame.append method is deprecated and will be removed from pandas in a future version. Use pandas.concat instead.\n",
      "  output_df = output_df.append(df)\n",
      "C:\\Users\\Kimbe\\AppData\\Local\\Temp/ipykernel_7100/3673173512.py:5: FutureWarning: The frame.append method is deprecated and will be removed from pandas in a future version. Use pandas.concat instead.\n",
      "  output_df = output_df.append(df)\n",
      "C:\\Users\\Kimbe\\AppData\\Local\\Temp/ipykernel_7100/3673173512.py:5: FutureWarning: The frame.append method is deprecated and will be removed from pandas in a future version. Use pandas.concat instead.\n",
      "  output_df = output_df.append(df)\n",
      "C:\\Users\\Kimbe\\AppData\\Local\\Temp/ipykernel_7100/3673173512.py:5: FutureWarning: The frame.append method is deprecated and will be removed from pandas in a future version. Use pandas.concat instead.\n",
      "  output_df = output_df.append(df)\n",
      "C:\\Users\\Kimbe\\AppData\\Local\\Temp/ipykernel_7100/3673173512.py:5: FutureWarning: The frame.append method is deprecated and will be removed from pandas in a future version. Use pandas.concat instead.\n",
      "  output_df = output_df.append(df)\n",
      "C:\\Users\\Kimbe\\AppData\\Local\\Temp/ipykernel_7100/3673173512.py:5: FutureWarning: The frame.append method is deprecated and will be removed from pandas in a future version. Use pandas.concat instead.\n",
      "  output_df = output_df.append(df)\n"
     ]
    },
    {
     "name": "stdout",
     "output_type": "stream",
     "text": [
      "Skipping row\n"
     ]
    },
    {
     "name": "stderr",
     "output_type": "stream",
     "text": [
      "C:\\Users\\Kimbe\\AppData\\Local\\Temp/ipykernel_7100/3673173512.py:5: FutureWarning: The frame.append method is deprecated and will be removed from pandas in a future version. Use pandas.concat instead.\n",
      "  output_df = output_df.append(df)\n",
      "C:\\Users\\Kimbe\\AppData\\Local\\Temp/ipykernel_7100/3673173512.py:5: FutureWarning: The frame.append method is deprecated and will be removed from pandas in a future version. Use pandas.concat instead.\n",
      "  output_df = output_df.append(df)\n",
      "C:\\Users\\Kimbe\\AppData\\Local\\Temp/ipykernel_7100/3673173512.py:5: FutureWarning: The frame.append method is deprecated and will be removed from pandas in a future version. Use pandas.concat instead.\n",
      "  output_df = output_df.append(df)\n",
      "C:\\Users\\Kimbe\\AppData\\Local\\Temp/ipykernel_7100/3673173512.py:5: FutureWarning: The frame.append method is deprecated and will be removed from pandas in a future version. Use pandas.concat instead.\n",
      "  output_df = output_df.append(df)\n",
      "C:\\Users\\Kimbe\\AppData\\Local\\Temp/ipykernel_7100/3673173512.py:5: FutureWarning: The frame.append method is deprecated and will be removed from pandas in a future version. Use pandas.concat instead.\n",
      "  output_df = output_df.append(df)\n",
      "C:\\Users\\Kimbe\\AppData\\Local\\Temp/ipykernel_7100/3673173512.py:5: FutureWarning: The frame.append method is deprecated and will be removed from pandas in a future version. Use pandas.concat instead.\n",
      "  output_df = output_df.append(df)\n",
      "C:\\Users\\Kimbe\\AppData\\Local\\Temp/ipykernel_7100/3673173512.py:5: FutureWarning: The frame.append method is deprecated and will be removed from pandas in a future version. Use pandas.concat instead.\n",
      "  output_df = output_df.append(df)\n",
      "C:\\Users\\Kimbe\\AppData\\Local\\Temp/ipykernel_7100/3673173512.py:5: FutureWarning: The frame.append method is deprecated and will be removed from pandas in a future version. Use pandas.concat instead.\n",
      "  output_df = output_df.append(df)\n",
      "C:\\Users\\Kimbe\\AppData\\Local\\Temp/ipykernel_7100/3673173512.py:5: FutureWarning: The frame.append method is deprecated and will be removed from pandas in a future version. Use pandas.concat instead.\n",
      "  output_df = output_df.append(df)\n",
      "C:\\Users\\Kimbe\\AppData\\Local\\Temp/ipykernel_7100/3673173512.py:5: FutureWarning: The frame.append method is deprecated and will be removed from pandas in a future version. Use pandas.concat instead.\n",
      "  output_df = output_df.append(df)\n"
     ]
    },
    {
     "name": "stdout",
     "output_type": "stream",
     "text": [
      "Skipping row\n"
     ]
    },
    {
     "name": "stderr",
     "output_type": "stream",
     "text": [
      "C:\\Users\\Kimbe\\AppData\\Local\\Temp/ipykernel_7100/3673173512.py:5: FutureWarning: The frame.append method is deprecated and will be removed from pandas in a future version. Use pandas.concat instead.\n",
      "  output_df = output_df.append(df)\n",
      "C:\\Users\\Kimbe\\AppData\\Local\\Temp/ipykernel_7100/3673173512.py:5: FutureWarning: The frame.append method is deprecated and will be removed from pandas in a future version. Use pandas.concat instead.\n",
      "  output_df = output_df.append(df)\n",
      "C:\\Users\\Kimbe\\AppData\\Local\\Temp/ipykernel_7100/3673173512.py:5: FutureWarning: The frame.append method is deprecated and will be removed from pandas in a future version. Use pandas.concat instead.\n",
      "  output_df = output_df.append(df)\n",
      "C:\\Users\\Kimbe\\AppData\\Local\\Temp/ipykernel_7100/3673173512.py:5: FutureWarning: The frame.append method is deprecated and will be removed from pandas in a future version. Use pandas.concat instead.\n",
      "  output_df = output_df.append(df)\n",
      "C:\\Users\\Kimbe\\AppData\\Local\\Temp/ipykernel_7100/3673173512.py:5: FutureWarning: The frame.append method is deprecated and will be removed from pandas in a future version. Use pandas.concat instead.\n",
      "  output_df = output_df.append(df)\n",
      "C:\\Users\\Kimbe\\AppData\\Local\\Temp/ipykernel_7100/3673173512.py:5: FutureWarning: The frame.append method is deprecated and will be removed from pandas in a future version. Use pandas.concat instead.\n",
      "  output_df = output_df.append(df)\n",
      "C:\\Users\\Kimbe\\AppData\\Local\\Temp/ipykernel_7100/3673173512.py:5: FutureWarning: The frame.append method is deprecated and will be removed from pandas in a future version. Use pandas.concat instead.\n",
      "  output_df = output_df.append(df)\n",
      "C:\\Users\\Kimbe\\AppData\\Local\\Temp/ipykernel_7100/3673173512.py:5: FutureWarning: The frame.append method is deprecated and will be removed from pandas in a future version. Use pandas.concat instead.\n",
      "  output_df = output_df.append(df)\n",
      "C:\\Users\\Kimbe\\AppData\\Local\\Temp/ipykernel_7100/3673173512.py:5: FutureWarning: The frame.append method is deprecated and will be removed from pandas in a future version. Use pandas.concat instead.\n",
      "  output_df = output_df.append(df)\n",
      "C:\\Users\\Kimbe\\AppData\\Local\\Temp/ipykernel_7100/3673173512.py:5: FutureWarning: The frame.append method is deprecated and will be removed from pandas in a future version. Use pandas.concat instead.\n",
      "  output_df = output_df.append(df)\n",
      "C:\\Users\\Kimbe\\AppData\\Local\\Temp/ipykernel_7100/3673173512.py:5: FutureWarning: The frame.append method is deprecated and will be removed from pandas in a future version. Use pandas.concat instead.\n",
      "  output_df = output_df.append(df)\n"
     ]
    },
    {
     "name": "stdout",
     "output_type": "stream",
     "text": [
      "Skipping row\n"
     ]
    },
    {
     "name": "stderr",
     "output_type": "stream",
     "text": [
      "C:\\Users\\Kimbe\\AppData\\Local\\Temp/ipykernel_7100/3673173512.py:5: FutureWarning: The frame.append method is deprecated and will be removed from pandas in a future version. Use pandas.concat instead.\n",
      "  output_df = output_df.append(df)\n",
      "C:\\Users\\Kimbe\\AppData\\Local\\Temp/ipykernel_7100/3673173512.py:5: FutureWarning: The frame.append method is deprecated and will be removed from pandas in a future version. Use pandas.concat instead.\n",
      "  output_df = output_df.append(df)\n",
      "C:\\Users\\Kimbe\\AppData\\Local\\Temp/ipykernel_7100/3673173512.py:5: FutureWarning: The frame.append method is deprecated and will be removed from pandas in a future version. Use pandas.concat instead.\n",
      "  output_df = output_df.append(df)\n",
      "C:\\Users\\Kimbe\\AppData\\Local\\Temp/ipykernel_7100/3673173512.py:5: FutureWarning: The frame.append method is deprecated and will be removed from pandas in a future version. Use pandas.concat instead.\n",
      "  output_df = output_df.append(df)\n",
      "C:\\Users\\Kimbe\\AppData\\Local\\Temp/ipykernel_7100/3673173512.py:5: FutureWarning: The frame.append method is deprecated and will be removed from pandas in a future version. Use pandas.concat instead.\n",
      "  output_df = output_df.append(df)\n",
      "C:\\Users\\Kimbe\\AppData\\Local\\Temp/ipykernel_7100/3673173512.py:5: FutureWarning: The frame.append method is deprecated and will be removed from pandas in a future version. Use pandas.concat instead.\n",
      "  output_df = output_df.append(df)\n",
      "C:\\Users\\Kimbe\\AppData\\Local\\Temp/ipykernel_7100/3673173512.py:5: FutureWarning: The frame.append method is deprecated and will be removed from pandas in a future version. Use pandas.concat instead.\n",
      "  output_df = output_df.append(df)\n",
      "C:\\Users\\Kimbe\\AppData\\Local\\Temp/ipykernel_7100/3673173512.py:5: FutureWarning: The frame.append method is deprecated and will be removed from pandas in a future version. Use pandas.concat instead.\n",
      "  output_df = output_df.append(df)\n"
     ]
    },
    {
     "name": "stdout",
     "output_type": "stream",
     "text": [
      "Skipping row\n"
     ]
    },
    {
     "name": "stderr",
     "output_type": "stream",
     "text": [
      "C:\\Users\\Kimbe\\AppData\\Local\\Temp/ipykernel_7100/3673173512.py:5: FutureWarning: The frame.append method is deprecated and will be removed from pandas in a future version. Use pandas.concat instead.\n",
      "  output_df = output_df.append(df)\n",
      "C:\\Users\\Kimbe\\AppData\\Local\\Temp/ipykernel_7100/3673173512.py:5: FutureWarning: The frame.append method is deprecated and will be removed from pandas in a future version. Use pandas.concat instead.\n",
      "  output_df = output_df.append(df)\n",
      "C:\\Users\\Kimbe\\AppData\\Local\\Temp/ipykernel_7100/3673173512.py:5: FutureWarning: The frame.append method is deprecated and will be removed from pandas in a future version. Use pandas.concat instead.\n",
      "  output_df = output_df.append(df)\n",
      "C:\\Users\\Kimbe\\AppData\\Local\\Temp/ipykernel_7100/3673173512.py:5: FutureWarning: The frame.append method is deprecated and will be removed from pandas in a future version. Use pandas.concat instead.\n",
      "  output_df = output_df.append(df)\n",
      "C:\\Users\\Kimbe\\AppData\\Local\\Temp/ipykernel_7100/3673173512.py:5: FutureWarning: The frame.append method is deprecated and will be removed from pandas in a future version. Use pandas.concat instead.\n",
      "  output_df = output_df.append(df)\n",
      "C:\\Users\\Kimbe\\AppData\\Local\\Temp/ipykernel_7100/3673173512.py:5: FutureWarning: The frame.append method is deprecated and will be removed from pandas in a future version. Use pandas.concat instead.\n",
      "  output_df = output_df.append(df)\n",
      "C:\\Users\\Kimbe\\AppData\\Local\\Temp/ipykernel_7100/3673173512.py:5: FutureWarning: The frame.append method is deprecated and will be removed from pandas in a future version. Use pandas.concat instead.\n",
      "  output_df = output_df.append(df)\n",
      "C:\\Users\\Kimbe\\AppData\\Local\\Temp/ipykernel_7100/3673173512.py:5: FutureWarning: The frame.append method is deprecated and will be removed from pandas in a future version. Use pandas.concat instead.\n",
      "  output_df = output_df.append(df)\n",
      "C:\\Users\\Kimbe\\AppData\\Local\\Temp/ipykernel_7100/3673173512.py:5: FutureWarning: The frame.append method is deprecated and will be removed from pandas in a future version. Use pandas.concat instead.\n",
      "  output_df = output_df.append(df)\n",
      "C:\\Users\\Kimbe\\AppData\\Local\\Temp/ipykernel_7100/3673173512.py:5: FutureWarning: The frame.append method is deprecated and will be removed from pandas in a future version. Use pandas.concat instead.\n",
      "  output_df = output_df.append(df)\n"
     ]
    },
    {
     "name": "stdout",
     "output_type": "stream",
     "text": [
      "Skipping row\n"
     ]
    },
    {
     "name": "stderr",
     "output_type": "stream",
     "text": [
      "C:\\Users\\Kimbe\\AppData\\Local\\Temp/ipykernel_7100/3673173512.py:5: FutureWarning: The frame.append method is deprecated and will be removed from pandas in a future version. Use pandas.concat instead.\n",
      "  output_df = output_df.append(df)\n",
      "C:\\Users\\Kimbe\\AppData\\Local\\Temp/ipykernel_7100/3673173512.py:5: FutureWarning: The frame.append method is deprecated and will be removed from pandas in a future version. Use pandas.concat instead.\n",
      "  output_df = output_df.append(df)\n",
      "C:\\Users\\Kimbe\\AppData\\Local\\Temp/ipykernel_7100/3673173512.py:5: FutureWarning: The frame.append method is deprecated and will be removed from pandas in a future version. Use pandas.concat instead.\n",
      "  output_df = output_df.append(df)\n",
      "C:\\Users\\Kimbe\\AppData\\Local\\Temp/ipykernel_7100/3673173512.py:5: FutureWarning: The frame.append method is deprecated and will be removed from pandas in a future version. Use pandas.concat instead.\n",
      "  output_df = output_df.append(df)\n",
      "C:\\Users\\Kimbe\\AppData\\Local\\Temp/ipykernel_7100/3673173512.py:5: FutureWarning: The frame.append method is deprecated and will be removed from pandas in a future version. Use pandas.concat instead.\n",
      "  output_df = output_df.append(df)\n",
      "C:\\Users\\Kimbe\\AppData\\Local\\Temp/ipykernel_7100/3673173512.py:5: FutureWarning: The frame.append method is deprecated and will be removed from pandas in a future version. Use pandas.concat instead.\n",
      "  output_df = output_df.append(df)\n",
      "C:\\Users\\Kimbe\\AppData\\Local\\Temp/ipykernel_7100/3673173512.py:5: FutureWarning: The frame.append method is deprecated and will be removed from pandas in a future version. Use pandas.concat instead.\n",
      "  output_df = output_df.append(df)\n",
      "C:\\Users\\Kimbe\\AppData\\Local\\Temp/ipykernel_7100/3673173512.py:5: FutureWarning: The frame.append method is deprecated and will be removed from pandas in a future version. Use pandas.concat instead.\n",
      "  output_df = output_df.append(df)\n",
      "C:\\Users\\Kimbe\\AppData\\Local\\Temp/ipykernel_7100/3673173512.py:5: FutureWarning: The frame.append method is deprecated and will be removed from pandas in a future version. Use pandas.concat instead.\n",
      "  output_df = output_df.append(df)\n",
      "C:\\Users\\Kimbe\\AppData\\Local\\Temp/ipykernel_7100/3673173512.py:5: FutureWarning: The frame.append method is deprecated and will be removed from pandas in a future version. Use pandas.concat instead.\n",
      "  output_df = output_df.append(df)\n",
      "C:\\Users\\Kimbe\\AppData\\Local\\Temp/ipykernel_7100/3673173512.py:5: FutureWarning: The frame.append method is deprecated and will be removed from pandas in a future version. Use pandas.concat instead.\n",
      "  output_df = output_df.append(df)\n",
      "C:\\Users\\Kimbe\\AppData\\Local\\Temp/ipykernel_7100/3673173512.py:5: FutureWarning: The frame.append method is deprecated and will be removed from pandas in a future version. Use pandas.concat instead.\n",
      "  output_df = output_df.append(df)\n"
     ]
    },
    {
     "name": "stdout",
     "output_type": "stream",
     "text": [
      "Skipping row\n"
     ]
    },
    {
     "name": "stderr",
     "output_type": "stream",
     "text": [
      "C:\\Users\\Kimbe\\AppData\\Local\\Temp/ipykernel_7100/3673173512.py:5: FutureWarning: The frame.append method is deprecated and will be removed from pandas in a future version. Use pandas.concat instead.\n",
      "  output_df = output_df.append(df)\n",
      "C:\\Users\\Kimbe\\AppData\\Local\\Temp/ipykernel_7100/3673173512.py:5: FutureWarning: The frame.append method is deprecated and will be removed from pandas in a future version. Use pandas.concat instead.\n",
      "  output_df = output_df.append(df)\n",
      "C:\\Users\\Kimbe\\AppData\\Local\\Temp/ipykernel_7100/3673173512.py:5: FutureWarning: The frame.append method is deprecated and will be removed from pandas in a future version. Use pandas.concat instead.\n",
      "  output_df = output_df.append(df)\n",
      "C:\\Users\\Kimbe\\AppData\\Local\\Temp/ipykernel_7100/3673173512.py:5: FutureWarning: The frame.append method is deprecated and will be removed from pandas in a future version. Use pandas.concat instead.\n",
      "  output_df = output_df.append(df)\n",
      "C:\\Users\\Kimbe\\AppData\\Local\\Temp/ipykernel_7100/3673173512.py:5: FutureWarning: The frame.append method is deprecated and will be removed from pandas in a future version. Use pandas.concat instead.\n",
      "  output_df = output_df.append(df)\n",
      "C:\\Users\\Kimbe\\AppData\\Local\\Temp/ipykernel_7100/3673173512.py:5: FutureWarning: The frame.append method is deprecated and will be removed from pandas in a future version. Use pandas.concat instead.\n",
      "  output_df = output_df.append(df)\n",
      "C:\\Users\\Kimbe\\AppData\\Local\\Temp/ipykernel_7100/3673173512.py:5: FutureWarning: The frame.append method is deprecated and will be removed from pandas in a future version. Use pandas.concat instead.\n",
      "  output_df = output_df.append(df)\n",
      "C:\\Users\\Kimbe\\AppData\\Local\\Temp/ipykernel_7100/3673173512.py:5: FutureWarning: The frame.append method is deprecated and will be removed from pandas in a future version. Use pandas.concat instead.\n",
      "  output_df = output_df.append(df)\n",
      "C:\\Users\\Kimbe\\AppData\\Local\\Temp/ipykernel_7100/3673173512.py:5: FutureWarning: The frame.append method is deprecated and will be removed from pandas in a future version. Use pandas.concat instead.\n",
      "  output_df = output_df.append(df)\n",
      "C:\\Users\\Kimbe\\AppData\\Local\\Temp/ipykernel_7100/3673173512.py:5: FutureWarning: The frame.append method is deprecated and will be removed from pandas in a future version. Use pandas.concat instead.\n",
      "  output_df = output_df.append(df)\n",
      "C:\\Users\\Kimbe\\AppData\\Local\\Temp/ipykernel_7100/3673173512.py:5: FutureWarning: The frame.append method is deprecated and will be removed from pandas in a future version. Use pandas.concat instead.\n",
      "  output_df = output_df.append(df)\n",
      "C:\\Users\\Kimbe\\AppData\\Local\\Temp/ipykernel_7100/3673173512.py:5: FutureWarning: The frame.append method is deprecated and will be removed from pandas in a future version. Use pandas.concat instead.\n",
      "  output_df = output_df.append(df)\n",
      "C:\\Users\\Kimbe\\AppData\\Local\\Temp/ipykernel_7100/3673173512.py:5: FutureWarning: The frame.append method is deprecated and will be removed from pandas in a future version. Use pandas.concat instead.\n",
      "  output_df = output_df.append(df)\n"
     ]
    },
    {
     "name": "stdout",
     "output_type": "stream",
     "text": [
      "Skipping row\n",
      "Skipping row\n"
     ]
    },
    {
     "name": "stderr",
     "output_type": "stream",
     "text": [
      "C:\\Users\\Kimbe\\AppData\\Local\\Temp/ipykernel_7100/3673173512.py:5: FutureWarning: The frame.append method is deprecated and will be removed from pandas in a future version. Use pandas.concat instead.\n",
      "  output_df = output_df.append(df)\n",
      "C:\\Users\\Kimbe\\AppData\\Local\\Temp/ipykernel_7100/3673173512.py:5: FutureWarning: The frame.append method is deprecated and will be removed from pandas in a future version. Use pandas.concat instead.\n",
      "  output_df = output_df.append(df)\n",
      "C:\\Users\\Kimbe\\AppData\\Local\\Temp/ipykernel_7100/3673173512.py:5: FutureWarning: The frame.append method is deprecated and will be removed from pandas in a future version. Use pandas.concat instead.\n",
      "  output_df = output_df.append(df)\n",
      "C:\\Users\\Kimbe\\AppData\\Local\\Temp/ipykernel_7100/3673173512.py:5: FutureWarning: The frame.append method is deprecated and will be removed from pandas in a future version. Use pandas.concat instead.\n",
      "  output_df = output_df.append(df)\n",
      "C:\\Users\\Kimbe\\AppData\\Local\\Temp/ipykernel_7100/3673173512.py:5: FutureWarning: The frame.append method is deprecated and will be removed from pandas in a future version. Use pandas.concat instead.\n",
      "  output_df = output_df.append(df)\n",
      "C:\\Users\\Kimbe\\AppData\\Local\\Temp/ipykernel_7100/3673173512.py:5: FutureWarning: The frame.append method is deprecated and will be removed from pandas in a future version. Use pandas.concat instead.\n",
      "  output_df = output_df.append(df)\n",
      "C:\\Users\\Kimbe\\AppData\\Local\\Temp/ipykernel_7100/3673173512.py:5: FutureWarning: The frame.append method is deprecated and will be removed from pandas in a future version. Use pandas.concat instead.\n",
      "  output_df = output_df.append(df)\n",
      "C:\\Users\\Kimbe\\AppData\\Local\\Temp/ipykernel_7100/3673173512.py:5: FutureWarning: The frame.append method is deprecated and will be removed from pandas in a future version. Use pandas.concat instead.\n",
      "  output_df = output_df.append(df)\n",
      "C:\\Users\\Kimbe\\AppData\\Local\\Temp/ipykernel_7100/3673173512.py:5: FutureWarning: The frame.append method is deprecated and will be removed from pandas in a future version. Use pandas.concat instead.\n",
      "  output_df = output_df.append(df)\n",
      "C:\\Users\\Kimbe\\AppData\\Local\\Temp/ipykernel_7100/3673173512.py:5: FutureWarning: The frame.append method is deprecated and will be removed from pandas in a future version. Use pandas.concat instead.\n",
      "  output_df = output_df.append(df)\n",
      "C:\\Users\\Kimbe\\AppData\\Local\\Temp/ipykernel_7100/3673173512.py:5: FutureWarning: The frame.append method is deprecated and will be removed from pandas in a future version. Use pandas.concat instead.\n",
      "  output_df = output_df.append(df)\n",
      "C:\\Users\\Kimbe\\AppData\\Local\\Temp/ipykernel_7100/3673173512.py:5: FutureWarning: The frame.append method is deprecated and will be removed from pandas in a future version. Use pandas.concat instead.\n",
      "  output_df = output_df.append(df)\n",
      "C:\\Users\\Kimbe\\AppData\\Local\\Temp/ipykernel_7100/3673173512.py:5: FutureWarning: The frame.append method is deprecated and will be removed from pandas in a future version. Use pandas.concat instead.\n",
      "  output_df = output_df.append(df)\n",
      "C:\\Users\\Kimbe\\AppData\\Local\\Temp/ipykernel_7100/3673173512.py:5: FutureWarning: The frame.append method is deprecated and will be removed from pandas in a future version. Use pandas.concat instead.\n",
      "  output_df = output_df.append(df)\n",
      "C:\\Users\\Kimbe\\AppData\\Local\\Temp/ipykernel_7100/3673173512.py:5: FutureWarning: The frame.append method is deprecated and will be removed from pandas in a future version. Use pandas.concat instead.\n",
      "  output_df = output_df.append(df)\n",
      "C:\\Users\\Kimbe\\AppData\\Local\\Temp/ipykernel_7100/3673173512.py:5: FutureWarning: The frame.append method is deprecated and will be removed from pandas in a future version. Use pandas.concat instead.\n",
      "  output_df = output_df.append(df)\n",
      "C:\\Users\\Kimbe\\AppData\\Local\\Temp/ipykernel_7100/3673173512.py:5: FutureWarning: The frame.append method is deprecated and will be removed from pandas in a future version. Use pandas.concat instead.\n",
      "  output_df = output_df.append(df)\n",
      "C:\\Users\\Kimbe\\AppData\\Local\\Temp/ipykernel_7100/3673173512.py:5: FutureWarning: The frame.append method is deprecated and will be removed from pandas in a future version. Use pandas.concat instead.\n",
      "  output_df = output_df.append(df)\n",
      "C:\\Users\\Kimbe\\AppData\\Local\\Temp/ipykernel_7100/3673173512.py:5: FutureWarning: The frame.append method is deprecated and will be removed from pandas in a future version. Use pandas.concat instead.\n",
      "  output_df = output_df.append(df)\n",
      "C:\\Users\\Kimbe\\AppData\\Local\\Temp/ipykernel_7100/3673173512.py:5: FutureWarning: The frame.append method is deprecated and will be removed from pandas in a future version. Use pandas.concat instead.\n",
      "  output_df = output_df.append(df)\n",
      "C:\\Users\\Kimbe\\AppData\\Local\\Temp/ipykernel_7100/3673173512.py:5: FutureWarning: The frame.append method is deprecated and will be removed from pandas in a future version. Use pandas.concat instead.\n",
      "  output_df = output_df.append(df)\n",
      "C:\\Users\\Kimbe\\AppData\\Local\\Temp/ipykernel_7100/3673173512.py:5: FutureWarning: The frame.append method is deprecated and will be removed from pandas in a future version. Use pandas.concat instead.\n",
      "  output_df = output_df.append(df)\n",
      "C:\\Users\\Kimbe\\AppData\\Local\\Temp/ipykernel_7100/3673173512.py:5: FutureWarning: The frame.append method is deprecated and will be removed from pandas in a future version. Use pandas.concat instead.\n",
      "  output_df = output_df.append(df)\n",
      "C:\\Users\\Kimbe\\AppData\\Local\\Temp/ipykernel_7100/3673173512.py:5: FutureWarning: The frame.append method is deprecated and will be removed from pandas in a future version. Use pandas.concat instead.\n",
      "  output_df = output_df.append(df)\n",
      "C:\\Users\\Kimbe\\AppData\\Local\\Temp/ipykernel_7100/3673173512.py:5: FutureWarning: The frame.append method is deprecated and will be removed from pandas in a future version. Use pandas.concat instead.\n",
      "  output_df = output_df.append(df)\n",
      "C:\\Users\\Kimbe\\AppData\\Local\\Temp/ipykernel_7100/3673173512.py:5: FutureWarning: The frame.append method is deprecated and will be removed from pandas in a future version. Use pandas.concat instead.\n",
      "  output_df = output_df.append(df)\n"
     ]
    },
    {
     "name": "stdout",
     "output_type": "stream",
     "text": [
      "Skipping row\n"
     ]
    },
    {
     "name": "stderr",
     "output_type": "stream",
     "text": [
      "C:\\Users\\Kimbe\\AppData\\Local\\Temp/ipykernel_7100/3673173512.py:5: FutureWarning: The frame.append method is deprecated and will be removed from pandas in a future version. Use pandas.concat instead.\n",
      "  output_df = output_df.append(df)\n",
      "C:\\Users\\Kimbe\\AppData\\Local\\Temp/ipykernel_7100/3673173512.py:5: FutureWarning: The frame.append method is deprecated and will be removed from pandas in a future version. Use pandas.concat instead.\n",
      "  output_df = output_df.append(df)\n",
      "C:\\Users\\Kimbe\\AppData\\Local\\Temp/ipykernel_7100/3673173512.py:5: FutureWarning: The frame.append method is deprecated and will be removed from pandas in a future version. Use pandas.concat instead.\n",
      "  output_df = output_df.append(df)\n",
      "C:\\Users\\Kimbe\\AppData\\Local\\Temp/ipykernel_7100/3673173512.py:5: FutureWarning: The frame.append method is deprecated and will be removed from pandas in a future version. Use pandas.concat instead.\n",
      "  output_df = output_df.append(df)\n",
      "C:\\Users\\Kimbe\\AppData\\Local\\Temp/ipykernel_7100/3673173512.py:5: FutureWarning: The frame.append method is deprecated and will be removed from pandas in a future version. Use pandas.concat instead.\n",
      "  output_df = output_df.append(df)\n",
      "C:\\Users\\Kimbe\\AppData\\Local\\Temp/ipykernel_7100/3673173512.py:5: FutureWarning: The frame.append method is deprecated and will be removed from pandas in a future version. Use pandas.concat instead.\n",
      "  output_df = output_df.append(df)\n",
      "C:\\Users\\Kimbe\\AppData\\Local\\Temp/ipykernel_7100/3673173512.py:5: FutureWarning: The frame.append method is deprecated and will be removed from pandas in a future version. Use pandas.concat instead.\n",
      "  output_df = output_df.append(df)\n",
      "C:\\Users\\Kimbe\\AppData\\Local\\Temp/ipykernel_7100/3673173512.py:5: FutureWarning: The frame.append method is deprecated and will be removed from pandas in a future version. Use pandas.concat instead.\n",
      "  output_df = output_df.append(df)\n",
      "C:\\Users\\Kimbe\\AppData\\Local\\Temp/ipykernel_7100/3673173512.py:5: FutureWarning: The frame.append method is deprecated and will be removed from pandas in a future version. Use pandas.concat instead.\n",
      "  output_df = output_df.append(df)\n",
      "C:\\Users\\Kimbe\\AppData\\Local\\Temp/ipykernel_7100/3673173512.py:5: FutureWarning: The frame.append method is deprecated and will be removed from pandas in a future version. Use pandas.concat instead.\n",
      "  output_df = output_df.append(df)\n"
     ]
    },
    {
     "name": "stdout",
     "output_type": "stream",
     "text": [
      "Skipping row\n"
     ]
    },
    {
     "name": "stderr",
     "output_type": "stream",
     "text": [
      "C:\\Users\\Kimbe\\AppData\\Local\\Temp/ipykernel_7100/3673173512.py:5: FutureWarning: The frame.append method is deprecated and will be removed from pandas in a future version. Use pandas.concat instead.\n",
      "  output_df = output_df.append(df)\n",
      "C:\\Users\\Kimbe\\AppData\\Local\\Temp/ipykernel_7100/3673173512.py:5: FutureWarning: The frame.append method is deprecated and will be removed from pandas in a future version. Use pandas.concat instead.\n",
      "  output_df = output_df.append(df)\n",
      "C:\\Users\\Kimbe\\AppData\\Local\\Temp/ipykernel_7100/3673173512.py:5: FutureWarning: The frame.append method is deprecated and will be removed from pandas in a future version. Use pandas.concat instead.\n",
      "  output_df = output_df.append(df)\n",
      "C:\\Users\\Kimbe\\AppData\\Local\\Temp/ipykernel_7100/3673173512.py:5: FutureWarning: The frame.append method is deprecated and will be removed from pandas in a future version. Use pandas.concat instead.\n",
      "  output_df = output_df.append(df)\n",
      "C:\\Users\\Kimbe\\AppData\\Local\\Temp/ipykernel_7100/3673173512.py:5: FutureWarning: The frame.append method is deprecated and will be removed from pandas in a future version. Use pandas.concat instead.\n",
      "  output_df = output_df.append(df)\n",
      "C:\\Users\\Kimbe\\AppData\\Local\\Temp/ipykernel_7100/3673173512.py:5: FutureWarning: The frame.append method is deprecated and will be removed from pandas in a future version. Use pandas.concat instead.\n",
      "  output_df = output_df.append(df)\n",
      "C:\\Users\\Kimbe\\AppData\\Local\\Temp/ipykernel_7100/3673173512.py:5: FutureWarning: The frame.append method is deprecated and will be removed from pandas in a future version. Use pandas.concat instead.\n",
      "  output_df = output_df.append(df)\n",
      "C:\\Users\\Kimbe\\AppData\\Local\\Temp/ipykernel_7100/3673173512.py:5: FutureWarning: The frame.append method is deprecated and will be removed from pandas in a future version. Use pandas.concat instead.\n",
      "  output_df = output_df.append(df)\n",
      "C:\\Users\\Kimbe\\AppData\\Local\\Temp/ipykernel_7100/3673173512.py:5: FutureWarning: The frame.append method is deprecated and will be removed from pandas in a future version. Use pandas.concat instead.\n",
      "  output_df = output_df.append(df)\n",
      "C:\\Users\\Kimbe\\AppData\\Local\\Temp/ipykernel_7100/3673173512.py:5: FutureWarning: The frame.append method is deprecated and will be removed from pandas in a future version. Use pandas.concat instead.\n",
      "  output_df = output_df.append(df)\n"
     ]
    },
    {
     "name": "stdout",
     "output_type": "stream",
     "text": [
      "Skipping row\n"
     ]
    },
    {
     "name": "stderr",
     "output_type": "stream",
     "text": [
      "C:\\Users\\Kimbe\\AppData\\Local\\Temp/ipykernel_7100/3673173512.py:5: FutureWarning: The frame.append method is deprecated and will be removed from pandas in a future version. Use pandas.concat instead.\n",
      "  output_df = output_df.append(df)\n",
      "C:\\Users\\Kimbe\\AppData\\Local\\Temp/ipykernel_7100/3673173512.py:5: FutureWarning: The frame.append method is deprecated and will be removed from pandas in a future version. Use pandas.concat instead.\n",
      "  output_df = output_df.append(df)\n",
      "C:\\Users\\Kimbe\\AppData\\Local\\Temp/ipykernel_7100/3673173512.py:5: FutureWarning: The frame.append method is deprecated and will be removed from pandas in a future version. Use pandas.concat instead.\n",
      "  output_df = output_df.append(df)\n",
      "C:\\Users\\Kimbe\\AppData\\Local\\Temp/ipykernel_7100/3673173512.py:5: FutureWarning: The frame.append method is deprecated and will be removed from pandas in a future version. Use pandas.concat instead.\n",
      "  output_df = output_df.append(df)\n",
      "C:\\Users\\Kimbe\\AppData\\Local\\Temp/ipykernel_7100/3673173512.py:5: FutureWarning: The frame.append method is deprecated and will be removed from pandas in a future version. Use pandas.concat instead.\n",
      "  output_df = output_df.append(df)\n",
      "C:\\Users\\Kimbe\\AppData\\Local\\Temp/ipykernel_7100/3673173512.py:5: FutureWarning: The frame.append method is deprecated and will be removed from pandas in a future version. Use pandas.concat instead.\n",
      "  output_df = output_df.append(df)\n",
      "C:\\Users\\Kimbe\\AppData\\Local\\Temp/ipykernel_7100/3673173512.py:5: FutureWarning: The frame.append method is deprecated and will be removed from pandas in a future version. Use pandas.concat instead.\n",
      "  output_df = output_df.append(df)\n",
      "C:\\Users\\Kimbe\\AppData\\Local\\Temp/ipykernel_7100/3673173512.py:5: FutureWarning: The frame.append method is deprecated and will be removed from pandas in a future version. Use pandas.concat instead.\n",
      "  output_df = output_df.append(df)\n",
      "C:\\Users\\Kimbe\\AppData\\Local\\Temp/ipykernel_7100/3673173512.py:5: FutureWarning: The frame.append method is deprecated and will be removed from pandas in a future version. Use pandas.concat instead.\n",
      "  output_df = output_df.append(df)\n",
      "C:\\Users\\Kimbe\\AppData\\Local\\Temp/ipykernel_7100/3673173512.py:5: FutureWarning: The frame.append method is deprecated and will be removed from pandas in a future version. Use pandas.concat instead.\n",
      "  output_df = output_df.append(df)\n",
      "C:\\Users\\Kimbe\\AppData\\Local\\Temp/ipykernel_7100/3673173512.py:5: FutureWarning: The frame.append method is deprecated and will be removed from pandas in a future version. Use pandas.concat instead.\n",
      "  output_df = output_df.append(df)\n"
     ]
    },
    {
     "name": "stdout",
     "output_type": "stream",
     "text": [
      "Skipping row\n"
     ]
    },
    {
     "name": "stderr",
     "output_type": "stream",
     "text": [
      "C:\\Users\\Kimbe\\AppData\\Local\\Temp/ipykernel_7100/3673173512.py:5: FutureWarning: The frame.append method is deprecated and will be removed from pandas in a future version. Use pandas.concat instead.\n",
      "  output_df = output_df.append(df)\n",
      "C:\\Users\\Kimbe\\AppData\\Local\\Temp/ipykernel_7100/3673173512.py:5: FutureWarning: The frame.append method is deprecated and will be removed from pandas in a future version. Use pandas.concat instead.\n",
      "  output_df = output_df.append(df)\n",
      "C:\\Users\\Kimbe\\AppData\\Local\\Temp/ipykernel_7100/3673173512.py:5: FutureWarning: The frame.append method is deprecated and will be removed from pandas in a future version. Use pandas.concat instead.\n",
      "  output_df = output_df.append(df)\n",
      "C:\\Users\\Kimbe\\AppData\\Local\\Temp/ipykernel_7100/3673173512.py:5: FutureWarning: The frame.append method is deprecated and will be removed from pandas in a future version. Use pandas.concat instead.\n",
      "  output_df = output_df.append(df)\n",
      "C:\\Users\\Kimbe\\AppData\\Local\\Temp/ipykernel_7100/3673173512.py:5: FutureWarning: The frame.append method is deprecated and will be removed from pandas in a future version. Use pandas.concat instead.\n",
      "  output_df = output_df.append(df)\n",
      "C:\\Users\\Kimbe\\AppData\\Local\\Temp/ipykernel_7100/3673173512.py:5: FutureWarning: The frame.append method is deprecated and will be removed from pandas in a future version. Use pandas.concat instead.\n",
      "  output_df = output_df.append(df)\n",
      "C:\\Users\\Kimbe\\AppData\\Local\\Temp/ipykernel_7100/3673173512.py:5: FutureWarning: The frame.append method is deprecated and will be removed from pandas in a future version. Use pandas.concat instead.\n",
      "  output_df = output_df.append(df)\n",
      "C:\\Users\\Kimbe\\AppData\\Local\\Temp/ipykernel_7100/3673173512.py:5: FutureWarning: The frame.append method is deprecated and will be removed from pandas in a future version. Use pandas.concat instead.\n",
      "  output_df = output_df.append(df)\n",
      "C:\\Users\\Kimbe\\AppData\\Local\\Temp/ipykernel_7100/3673173512.py:5: FutureWarning: The frame.append method is deprecated and will be removed from pandas in a future version. Use pandas.concat instead.\n",
      "  output_df = output_df.append(df)\n",
      "C:\\Users\\Kimbe\\AppData\\Local\\Temp/ipykernel_7100/3673173512.py:5: FutureWarning: The frame.append method is deprecated and will be removed from pandas in a future version. Use pandas.concat instead.\n",
      "  output_df = output_df.append(df)\n",
      "C:\\Users\\Kimbe\\AppData\\Local\\Temp/ipykernel_7100/3673173512.py:5: FutureWarning: The frame.append method is deprecated and will be removed from pandas in a future version. Use pandas.concat instead.\n",
      "  output_df = output_df.append(df)\n"
     ]
    },
    {
     "name": "stdout",
     "output_type": "stream",
     "text": [
      "Skipping row\n"
     ]
    },
    {
     "name": "stderr",
     "output_type": "stream",
     "text": [
      "C:\\Users\\Kimbe\\AppData\\Local\\Temp/ipykernel_7100/3673173512.py:5: FutureWarning: The frame.append method is deprecated and will be removed from pandas in a future version. Use pandas.concat instead.\n",
      "  output_df = output_df.append(df)\n",
      "C:\\Users\\Kimbe\\AppData\\Local\\Temp/ipykernel_7100/3673173512.py:5: FutureWarning: The frame.append method is deprecated and will be removed from pandas in a future version. Use pandas.concat instead.\n",
      "  output_df = output_df.append(df)\n",
      "C:\\Users\\Kimbe\\AppData\\Local\\Temp/ipykernel_7100/3673173512.py:5: FutureWarning: The frame.append method is deprecated and will be removed from pandas in a future version. Use pandas.concat instead.\n",
      "  output_df = output_df.append(df)\n",
      "C:\\Users\\Kimbe\\AppData\\Local\\Temp/ipykernel_7100/3673173512.py:5: FutureWarning: The frame.append method is deprecated and will be removed from pandas in a future version. Use pandas.concat instead.\n",
      "  output_df = output_df.append(df)\n",
      "C:\\Users\\Kimbe\\AppData\\Local\\Temp/ipykernel_7100/3673173512.py:5: FutureWarning: The frame.append method is deprecated and will be removed from pandas in a future version. Use pandas.concat instead.\n",
      "  output_df = output_df.append(df)\n",
      "C:\\Users\\Kimbe\\AppData\\Local\\Temp/ipykernel_7100/3673173512.py:5: FutureWarning: The frame.append method is deprecated and will be removed from pandas in a future version. Use pandas.concat instead.\n",
      "  output_df = output_df.append(df)\n",
      "C:\\Users\\Kimbe\\AppData\\Local\\Temp/ipykernel_7100/3673173512.py:5: FutureWarning: The frame.append method is deprecated and will be removed from pandas in a future version. Use pandas.concat instead.\n",
      "  output_df = output_df.append(df)\n",
      "C:\\Users\\Kimbe\\AppData\\Local\\Temp/ipykernel_7100/3673173512.py:5: FutureWarning: The frame.append method is deprecated and will be removed from pandas in a future version. Use pandas.concat instead.\n",
      "  output_df = output_df.append(df)\n",
      "C:\\Users\\Kimbe\\AppData\\Local\\Temp/ipykernel_7100/3673173512.py:5: FutureWarning: The frame.append method is deprecated and will be removed from pandas in a future version. Use pandas.concat instead.\n",
      "  output_df = output_df.append(df)\n"
     ]
    },
    {
     "name": "stdout",
     "output_type": "stream",
     "text": [
      "Skipping row\n"
     ]
    },
    {
     "name": "stderr",
     "output_type": "stream",
     "text": [
      "C:\\Users\\Kimbe\\AppData\\Local\\Temp/ipykernel_7100/3673173512.py:5: FutureWarning: The frame.append method is deprecated and will be removed from pandas in a future version. Use pandas.concat instead.\n",
      "  output_df = output_df.append(df)\n",
      "C:\\Users\\Kimbe\\AppData\\Local\\Temp/ipykernel_7100/3673173512.py:5: FutureWarning: The frame.append method is deprecated and will be removed from pandas in a future version. Use pandas.concat instead.\n",
      "  output_df = output_df.append(df)\n",
      "C:\\Users\\Kimbe\\AppData\\Local\\Temp/ipykernel_7100/3673173512.py:5: FutureWarning: The frame.append method is deprecated and will be removed from pandas in a future version. Use pandas.concat instead.\n",
      "  output_df = output_df.append(df)\n",
      "C:\\Users\\Kimbe\\AppData\\Local\\Temp/ipykernel_7100/3673173512.py:5: FutureWarning: The frame.append method is deprecated and will be removed from pandas in a future version. Use pandas.concat instead.\n",
      "  output_df = output_df.append(df)\n",
      "C:\\Users\\Kimbe\\AppData\\Local\\Temp/ipykernel_7100/3673173512.py:5: FutureWarning: The frame.append method is deprecated and will be removed from pandas in a future version. Use pandas.concat instead.\n",
      "  output_df = output_df.append(df)\n",
      "C:\\Users\\Kimbe\\AppData\\Local\\Temp/ipykernel_7100/3673173512.py:5: FutureWarning: The frame.append method is deprecated and will be removed from pandas in a future version. Use pandas.concat instead.\n",
      "  output_df = output_df.append(df)\n",
      "C:\\Users\\Kimbe\\AppData\\Local\\Temp/ipykernel_7100/3673173512.py:5: FutureWarning: The frame.append method is deprecated and will be removed from pandas in a future version. Use pandas.concat instead.\n",
      "  output_df = output_df.append(df)\n",
      "C:\\Users\\Kimbe\\AppData\\Local\\Temp/ipykernel_7100/3673173512.py:5: FutureWarning: The frame.append method is deprecated and will be removed from pandas in a future version. Use pandas.concat instead.\n",
      "  output_df = output_df.append(df)\n",
      "C:\\Users\\Kimbe\\AppData\\Local\\Temp/ipykernel_7100/3673173512.py:5: FutureWarning: The frame.append method is deprecated and will be removed from pandas in a future version. Use pandas.concat instead.\n",
      "  output_df = output_df.append(df)\n"
     ]
    },
    {
     "name": "stdout",
     "output_type": "stream",
     "text": [
      "Skipping row\n"
     ]
    },
    {
     "name": "stderr",
     "output_type": "stream",
     "text": [
      "C:\\Users\\Kimbe\\AppData\\Local\\Temp/ipykernel_7100/3673173512.py:5: FutureWarning: The frame.append method is deprecated and will be removed from pandas in a future version. Use pandas.concat instead.\n",
      "  output_df = output_df.append(df)\n",
      "C:\\Users\\Kimbe\\AppData\\Local\\Temp/ipykernel_7100/3673173512.py:5: FutureWarning: The frame.append method is deprecated and will be removed from pandas in a future version. Use pandas.concat instead.\n",
      "  output_df = output_df.append(df)\n",
      "C:\\Users\\Kimbe\\AppData\\Local\\Temp/ipykernel_7100/3673173512.py:5: FutureWarning: The frame.append method is deprecated and will be removed from pandas in a future version. Use pandas.concat instead.\n",
      "  output_df = output_df.append(df)\n",
      "C:\\Users\\Kimbe\\AppData\\Local\\Temp/ipykernel_7100/3673173512.py:5: FutureWarning: The frame.append method is deprecated and will be removed from pandas in a future version. Use pandas.concat instead.\n",
      "  output_df = output_df.append(df)\n",
      "C:\\Users\\Kimbe\\AppData\\Local\\Temp/ipykernel_7100/3673173512.py:5: FutureWarning: The frame.append method is deprecated and will be removed from pandas in a future version. Use pandas.concat instead.\n",
      "  output_df = output_df.append(df)\n",
      "C:\\Users\\Kimbe\\AppData\\Local\\Temp/ipykernel_7100/3673173512.py:5: FutureWarning: The frame.append method is deprecated and will be removed from pandas in a future version. Use pandas.concat instead.\n",
      "  output_df = output_df.append(df)\n",
      "C:\\Users\\Kimbe\\AppData\\Local\\Temp/ipykernel_7100/3673173512.py:5: FutureWarning: The frame.append method is deprecated and will be removed from pandas in a future version. Use pandas.concat instead.\n",
      "  output_df = output_df.append(df)\n",
      "C:\\Users\\Kimbe\\AppData\\Local\\Temp/ipykernel_7100/3673173512.py:5: FutureWarning: The frame.append method is deprecated and will be removed from pandas in a future version. Use pandas.concat instead.\n",
      "  output_df = output_df.append(df)\n",
      "C:\\Users\\Kimbe\\AppData\\Local\\Temp/ipykernel_7100/3673173512.py:5: FutureWarning: The frame.append method is deprecated and will be removed from pandas in a future version. Use pandas.concat instead.\n",
      "  output_df = output_df.append(df)\n",
      "C:\\Users\\Kimbe\\AppData\\Local\\Temp/ipykernel_7100/3673173512.py:5: FutureWarning: The frame.append method is deprecated and will be removed from pandas in a future version. Use pandas.concat instead.\n",
      "  output_df = output_df.append(df)\n"
     ]
    },
    {
     "name": "stdout",
     "output_type": "stream",
     "text": [
      "Skipping row\n"
     ]
    },
    {
     "name": "stderr",
     "output_type": "stream",
     "text": [
      "C:\\Users\\Kimbe\\AppData\\Local\\Temp/ipykernel_7100/3673173512.py:5: FutureWarning: The frame.append method is deprecated and will be removed from pandas in a future version. Use pandas.concat instead.\n",
      "  output_df = output_df.append(df)\n",
      "C:\\Users\\Kimbe\\AppData\\Local\\Temp/ipykernel_7100/3673173512.py:5: FutureWarning: The frame.append method is deprecated and will be removed from pandas in a future version. Use pandas.concat instead.\n",
      "  output_df = output_df.append(df)\n",
      "C:\\Users\\Kimbe\\AppData\\Local\\Temp/ipykernel_7100/3673173512.py:5: FutureWarning: The frame.append method is deprecated and will be removed from pandas in a future version. Use pandas.concat instead.\n",
      "  output_df = output_df.append(df)\n",
      "C:\\Users\\Kimbe\\AppData\\Local\\Temp/ipykernel_7100/3673173512.py:5: FutureWarning: The frame.append method is deprecated and will be removed from pandas in a future version. Use pandas.concat instead.\n",
      "  output_df = output_df.append(df)\n",
      "C:\\Users\\Kimbe\\AppData\\Local\\Temp/ipykernel_7100/3673173512.py:5: FutureWarning: The frame.append method is deprecated and will be removed from pandas in a future version. Use pandas.concat instead.\n",
      "  output_df = output_df.append(df)\n",
      "C:\\Users\\Kimbe\\AppData\\Local\\Temp/ipykernel_7100/3673173512.py:5: FutureWarning: The frame.append method is deprecated and will be removed from pandas in a future version. Use pandas.concat instead.\n",
      "  output_df = output_df.append(df)\n",
      "C:\\Users\\Kimbe\\AppData\\Local\\Temp/ipykernel_7100/3673173512.py:5: FutureWarning: The frame.append method is deprecated and will be removed from pandas in a future version. Use pandas.concat instead.\n",
      "  output_df = output_df.append(df)\n",
      "C:\\Users\\Kimbe\\AppData\\Local\\Temp/ipykernel_7100/3673173512.py:5: FutureWarning: The frame.append method is deprecated and will be removed from pandas in a future version. Use pandas.concat instead.\n",
      "  output_df = output_df.append(df)\n",
      "C:\\Users\\Kimbe\\AppData\\Local\\Temp/ipykernel_7100/3673173512.py:5: FutureWarning: The frame.append method is deprecated and will be removed from pandas in a future version. Use pandas.concat instead.\n",
      "  output_df = output_df.append(df)\n",
      "C:\\Users\\Kimbe\\AppData\\Local\\Temp/ipykernel_7100/3673173512.py:5: FutureWarning: The frame.append method is deprecated and will be removed from pandas in a future version. Use pandas.concat instead.\n",
      "  output_df = output_df.append(df)\n",
      "C:\\Users\\Kimbe\\AppData\\Local\\Temp/ipykernel_7100/3673173512.py:5: FutureWarning: The frame.append method is deprecated and will be removed from pandas in a future version. Use pandas.concat instead.\n",
      "  output_df = output_df.append(df)\n",
      "C:\\Users\\Kimbe\\AppData\\Local\\Temp/ipykernel_7100/3673173512.py:5: FutureWarning: The frame.append method is deprecated and will be removed from pandas in a future version. Use pandas.concat instead.\n",
      "  output_df = output_df.append(df)\n",
      "C:\\Users\\Kimbe\\AppData\\Local\\Temp/ipykernel_7100/3673173512.py:5: FutureWarning: The frame.append method is deprecated and will be removed from pandas in a future version. Use pandas.concat instead.\n",
      "  output_df = output_df.append(df)\n"
     ]
    },
    {
     "name": "stdout",
     "output_type": "stream",
     "text": [
      "Skipping row\n"
     ]
    },
    {
     "name": "stderr",
     "output_type": "stream",
     "text": [
      "C:\\Users\\Kimbe\\AppData\\Local\\Temp/ipykernel_7100/3673173512.py:5: FutureWarning: The frame.append method is deprecated and will be removed from pandas in a future version. Use pandas.concat instead.\n",
      "  output_df = output_df.append(df)\n",
      "C:\\Users\\Kimbe\\AppData\\Local\\Temp/ipykernel_7100/3673173512.py:5: FutureWarning: The frame.append method is deprecated and will be removed from pandas in a future version. Use pandas.concat instead.\n",
      "  output_df = output_df.append(df)\n",
      "C:\\Users\\Kimbe\\AppData\\Local\\Temp/ipykernel_7100/3673173512.py:5: FutureWarning: The frame.append method is deprecated and will be removed from pandas in a future version. Use pandas.concat instead.\n",
      "  output_df = output_df.append(df)\n",
      "C:\\Users\\Kimbe\\AppData\\Local\\Temp/ipykernel_7100/3673173512.py:5: FutureWarning: The frame.append method is deprecated and will be removed from pandas in a future version. Use pandas.concat instead.\n",
      "  output_df = output_df.append(df)\n",
      "C:\\Users\\Kimbe\\AppData\\Local\\Temp/ipykernel_7100/3673173512.py:5: FutureWarning: The frame.append method is deprecated and will be removed from pandas in a future version. Use pandas.concat instead.\n",
      "  output_df = output_df.append(df)\n",
      "C:\\Users\\Kimbe\\AppData\\Local\\Temp/ipykernel_7100/3673173512.py:5: FutureWarning: The frame.append method is deprecated and will be removed from pandas in a future version. Use pandas.concat instead.\n",
      "  output_df = output_df.append(df)\n",
      "C:\\Users\\Kimbe\\AppData\\Local\\Temp/ipykernel_7100/3673173512.py:5: FutureWarning: The frame.append method is deprecated and will be removed from pandas in a future version. Use pandas.concat instead.\n",
      "  output_df = output_df.append(df)\n",
      "C:\\Users\\Kimbe\\AppData\\Local\\Temp/ipykernel_7100/3673173512.py:5: FutureWarning: The frame.append method is deprecated and will be removed from pandas in a future version. Use pandas.concat instead.\n",
      "  output_df = output_df.append(df)\n",
      "C:\\Users\\Kimbe\\AppData\\Local\\Temp/ipykernel_7100/3673173512.py:5: FutureWarning: The frame.append method is deprecated and will be removed from pandas in a future version. Use pandas.concat instead.\n",
      "  output_df = output_df.append(df)\n"
     ]
    },
    {
     "name": "stdout",
     "output_type": "stream",
     "text": [
      "Skipping row\n"
     ]
    },
    {
     "name": "stderr",
     "output_type": "stream",
     "text": [
      "C:\\Users\\Kimbe\\AppData\\Local\\Temp/ipykernel_7100/3673173512.py:5: FutureWarning: The frame.append method is deprecated and will be removed from pandas in a future version. Use pandas.concat instead.\n",
      "  output_df = output_df.append(df)\n",
      "C:\\Users\\Kimbe\\AppData\\Local\\Temp/ipykernel_7100/3673173512.py:5: FutureWarning: The frame.append method is deprecated and will be removed from pandas in a future version. Use pandas.concat instead.\n",
      "  output_df = output_df.append(df)\n",
      "C:\\Users\\Kimbe\\AppData\\Local\\Temp/ipykernel_7100/3673173512.py:5: FutureWarning: The frame.append method is deprecated and will be removed from pandas in a future version. Use pandas.concat instead.\n",
      "  output_df = output_df.append(df)\n",
      "C:\\Users\\Kimbe\\AppData\\Local\\Temp/ipykernel_7100/3673173512.py:5: FutureWarning: The frame.append method is deprecated and will be removed from pandas in a future version. Use pandas.concat instead.\n",
      "  output_df = output_df.append(df)\n",
      "C:\\Users\\Kimbe\\AppData\\Local\\Temp/ipykernel_7100/3673173512.py:5: FutureWarning: The frame.append method is deprecated and will be removed from pandas in a future version. Use pandas.concat instead.\n",
      "  output_df = output_df.append(df)\n",
      "C:\\Users\\Kimbe\\AppData\\Local\\Temp/ipykernel_7100/3673173512.py:5: FutureWarning: The frame.append method is deprecated and will be removed from pandas in a future version. Use pandas.concat instead.\n",
      "  output_df = output_df.append(df)\n",
      "C:\\Users\\Kimbe\\AppData\\Local\\Temp/ipykernel_7100/3673173512.py:5: FutureWarning: The frame.append method is deprecated and will be removed from pandas in a future version. Use pandas.concat instead.\n",
      "  output_df = output_df.append(df)\n",
      "C:\\Users\\Kimbe\\AppData\\Local\\Temp/ipykernel_7100/3673173512.py:5: FutureWarning: The frame.append method is deprecated and will be removed from pandas in a future version. Use pandas.concat instead.\n",
      "  output_df = output_df.append(df)\n",
      "C:\\Users\\Kimbe\\AppData\\Local\\Temp/ipykernel_7100/3673173512.py:5: FutureWarning: The frame.append method is deprecated and will be removed from pandas in a future version. Use pandas.concat instead.\n",
      "  output_df = output_df.append(df)\n",
      "C:\\Users\\Kimbe\\AppData\\Local\\Temp/ipykernel_7100/3673173512.py:5: FutureWarning: The frame.append method is deprecated and will be removed from pandas in a future version. Use pandas.concat instead.\n",
      "  output_df = output_df.append(df)\n"
     ]
    },
    {
     "name": "stdout",
     "output_type": "stream",
     "text": [
      "Skipping row\n"
     ]
    },
    {
     "name": "stderr",
     "output_type": "stream",
     "text": [
      "C:\\Users\\Kimbe\\AppData\\Local\\Temp/ipykernel_7100/3673173512.py:5: FutureWarning: The frame.append method is deprecated and will be removed from pandas in a future version. Use pandas.concat instead.\n",
      "  output_df = output_df.append(df)\n",
      "C:\\Users\\Kimbe\\AppData\\Local\\Temp/ipykernel_7100/3673173512.py:5: FutureWarning: The frame.append method is deprecated and will be removed from pandas in a future version. Use pandas.concat instead.\n",
      "  output_df = output_df.append(df)\n",
      "C:\\Users\\Kimbe\\AppData\\Local\\Temp/ipykernel_7100/3673173512.py:5: FutureWarning: The frame.append method is deprecated and will be removed from pandas in a future version. Use pandas.concat instead.\n",
      "  output_df = output_df.append(df)\n",
      "C:\\Users\\Kimbe\\AppData\\Local\\Temp/ipykernel_7100/3673173512.py:5: FutureWarning: The frame.append method is deprecated and will be removed from pandas in a future version. Use pandas.concat instead.\n",
      "  output_df = output_df.append(df)\n",
      "C:\\Users\\Kimbe\\AppData\\Local\\Temp/ipykernel_7100/3673173512.py:5: FutureWarning: The frame.append method is deprecated and will be removed from pandas in a future version. Use pandas.concat instead.\n",
      "  output_df = output_df.append(df)\n",
      "C:\\Users\\Kimbe\\AppData\\Local\\Temp/ipykernel_7100/3673173512.py:5: FutureWarning: The frame.append method is deprecated and will be removed from pandas in a future version. Use pandas.concat instead.\n",
      "  output_df = output_df.append(df)\n",
      "C:\\Users\\Kimbe\\AppData\\Local\\Temp/ipykernel_7100/3673173512.py:5: FutureWarning: The frame.append method is deprecated and will be removed from pandas in a future version. Use pandas.concat instead.\n",
      "  output_df = output_df.append(df)\n",
      "C:\\Users\\Kimbe\\AppData\\Local\\Temp/ipykernel_7100/3673173512.py:5: FutureWarning: The frame.append method is deprecated and will be removed from pandas in a future version. Use pandas.concat instead.\n",
      "  output_df = output_df.append(df)\n",
      "C:\\Users\\Kimbe\\AppData\\Local\\Temp/ipykernel_7100/3673173512.py:5: FutureWarning: The frame.append method is deprecated and will be removed from pandas in a future version. Use pandas.concat instead.\n",
      "  output_df = output_df.append(df)\n",
      "C:\\Users\\Kimbe\\AppData\\Local\\Temp/ipykernel_7100/3673173512.py:5: FutureWarning: The frame.append method is deprecated and will be removed from pandas in a future version. Use pandas.concat instead.\n",
      "  output_df = output_df.append(df)\n",
      "C:\\Users\\Kimbe\\AppData\\Local\\Temp/ipykernel_7100/3673173512.py:5: FutureWarning: The frame.append method is deprecated and will be removed from pandas in a future version. Use pandas.concat instead.\n",
      "  output_df = output_df.append(df)\n",
      "C:\\Users\\Kimbe\\AppData\\Local\\Temp/ipykernel_7100/3673173512.py:5: FutureWarning: The frame.append method is deprecated and will be removed from pandas in a future version. Use pandas.concat instead.\n",
      "  output_df = output_df.append(df)\n",
      "C:\\Users\\Kimbe\\AppData\\Local\\Temp/ipykernel_7100/3673173512.py:5: FutureWarning: The frame.append method is deprecated and will be removed from pandas in a future version. Use pandas.concat instead.\n",
      "  output_df = output_df.append(df)\n",
      "C:\\Users\\Kimbe\\AppData\\Local\\Temp/ipykernel_7100/3673173512.py:5: FutureWarning: The frame.append method is deprecated and will be removed from pandas in a future version. Use pandas.concat instead.\n",
      "  output_df = output_df.append(df)\n",
      "C:\\Users\\Kimbe\\AppData\\Local\\Temp/ipykernel_7100/3673173512.py:5: FutureWarning: The frame.append method is deprecated and will be removed from pandas in a future version. Use pandas.concat instead.\n",
      "  output_df = output_df.append(df)\n",
      "C:\\Users\\Kimbe\\AppData\\Local\\Temp/ipykernel_7100/3673173512.py:5: FutureWarning: The frame.append method is deprecated and will be removed from pandas in a future version. Use pandas.concat instead.\n",
      "  output_df = output_df.append(df)\n"
     ]
    },
    {
     "name": "stdout",
     "output_type": "stream",
     "text": [
      "Skipping row\n"
     ]
    },
    {
     "name": "stderr",
     "output_type": "stream",
     "text": [
      "C:\\Users\\Kimbe\\AppData\\Local\\Temp/ipykernel_7100/3673173512.py:5: FutureWarning: The frame.append method is deprecated and will be removed from pandas in a future version. Use pandas.concat instead.\n",
      "  output_df = output_df.append(df)\n",
      "C:\\Users\\Kimbe\\AppData\\Local\\Temp/ipykernel_7100/3673173512.py:5: FutureWarning: The frame.append method is deprecated and will be removed from pandas in a future version. Use pandas.concat instead.\n",
      "  output_df = output_df.append(df)\n",
      "C:\\Users\\Kimbe\\AppData\\Local\\Temp/ipykernel_7100/3673173512.py:5: FutureWarning: The frame.append method is deprecated and will be removed from pandas in a future version. Use pandas.concat instead.\n",
      "  output_df = output_df.append(df)\n",
      "C:\\Users\\Kimbe\\AppData\\Local\\Temp/ipykernel_7100/3673173512.py:5: FutureWarning: The frame.append method is deprecated and will be removed from pandas in a future version. Use pandas.concat instead.\n",
      "  output_df = output_df.append(df)\n",
      "C:\\Users\\Kimbe\\AppData\\Local\\Temp/ipykernel_7100/3673173512.py:5: FutureWarning: The frame.append method is deprecated and will be removed from pandas in a future version. Use pandas.concat instead.\n",
      "  output_df = output_df.append(df)\n",
      "C:\\Users\\Kimbe\\AppData\\Local\\Temp/ipykernel_7100/3673173512.py:5: FutureWarning: The frame.append method is deprecated and will be removed from pandas in a future version. Use pandas.concat instead.\n",
      "  output_df = output_df.append(df)\n",
      "C:\\Users\\Kimbe\\AppData\\Local\\Temp/ipykernel_7100/3673173512.py:5: FutureWarning: The frame.append method is deprecated and will be removed from pandas in a future version. Use pandas.concat instead.\n",
      "  output_df = output_df.append(df)\n",
      "C:\\Users\\Kimbe\\AppData\\Local\\Temp/ipykernel_7100/3673173512.py:5: FutureWarning: The frame.append method is deprecated and will be removed from pandas in a future version. Use pandas.concat instead.\n",
      "  output_df = output_df.append(df)\n"
     ]
    },
    {
     "name": "stdout",
     "output_type": "stream",
     "text": [
      "Skipping row\n"
     ]
    },
    {
     "name": "stderr",
     "output_type": "stream",
     "text": [
      "C:\\Users\\Kimbe\\AppData\\Local\\Temp/ipykernel_7100/3673173512.py:5: FutureWarning: The frame.append method is deprecated and will be removed from pandas in a future version. Use pandas.concat instead.\n",
      "  output_df = output_df.append(df)\n",
      "C:\\Users\\Kimbe\\AppData\\Local\\Temp/ipykernel_7100/3673173512.py:5: FutureWarning: The frame.append method is deprecated and will be removed from pandas in a future version. Use pandas.concat instead.\n",
      "  output_df = output_df.append(df)\n",
      "C:\\Users\\Kimbe\\AppData\\Local\\Temp/ipykernel_7100/3673173512.py:5: FutureWarning: The frame.append method is deprecated and will be removed from pandas in a future version. Use pandas.concat instead.\n",
      "  output_df = output_df.append(df)\n",
      "C:\\Users\\Kimbe\\AppData\\Local\\Temp/ipykernel_7100/3673173512.py:5: FutureWarning: The frame.append method is deprecated and will be removed from pandas in a future version. Use pandas.concat instead.\n",
      "  output_df = output_df.append(df)\n",
      "C:\\Users\\Kimbe\\AppData\\Local\\Temp/ipykernel_7100/3673173512.py:5: FutureWarning: The frame.append method is deprecated and will be removed from pandas in a future version. Use pandas.concat instead.\n",
      "  output_df = output_df.append(df)\n",
      "C:\\Users\\Kimbe\\AppData\\Local\\Temp/ipykernel_7100/3673173512.py:5: FutureWarning: The frame.append method is deprecated and will be removed from pandas in a future version. Use pandas.concat instead.\n",
      "  output_df = output_df.append(df)\n",
      "C:\\Users\\Kimbe\\AppData\\Local\\Temp/ipykernel_7100/3673173512.py:5: FutureWarning: The frame.append method is deprecated and will be removed from pandas in a future version. Use pandas.concat instead.\n",
      "  output_df = output_df.append(df)\n",
      "C:\\Users\\Kimbe\\AppData\\Local\\Temp/ipykernel_7100/3673173512.py:5: FutureWarning: The frame.append method is deprecated and will be removed from pandas in a future version. Use pandas.concat instead.\n",
      "  output_df = output_df.append(df)\n",
      "C:\\Users\\Kimbe\\AppData\\Local\\Temp/ipykernel_7100/3673173512.py:5: FutureWarning: The frame.append method is deprecated and will be removed from pandas in a future version. Use pandas.concat instead.\n",
      "  output_df = output_df.append(df)\n"
     ]
    },
    {
     "name": "stdout",
     "output_type": "stream",
     "text": [
      "Skipping row\n"
     ]
    },
    {
     "name": "stderr",
     "output_type": "stream",
     "text": [
      "C:\\Users\\Kimbe\\AppData\\Local\\Temp/ipykernel_7100/3673173512.py:5: FutureWarning: The frame.append method is deprecated and will be removed from pandas in a future version. Use pandas.concat instead.\n",
      "  output_df = output_df.append(df)\n",
      "C:\\Users\\Kimbe\\AppData\\Local\\Temp/ipykernel_7100/3673173512.py:5: FutureWarning: The frame.append method is deprecated and will be removed from pandas in a future version. Use pandas.concat instead.\n",
      "  output_df = output_df.append(df)\n",
      "C:\\Users\\Kimbe\\AppData\\Local\\Temp/ipykernel_7100/3673173512.py:5: FutureWarning: The frame.append method is deprecated and will be removed from pandas in a future version. Use pandas.concat instead.\n",
      "  output_df = output_df.append(df)\n",
      "C:\\Users\\Kimbe\\AppData\\Local\\Temp/ipykernel_7100/3673173512.py:5: FutureWarning: The frame.append method is deprecated and will be removed from pandas in a future version. Use pandas.concat instead.\n",
      "  output_df = output_df.append(df)\n",
      "C:\\Users\\Kimbe\\AppData\\Local\\Temp/ipykernel_7100/3673173512.py:5: FutureWarning: The frame.append method is deprecated and will be removed from pandas in a future version. Use pandas.concat instead.\n",
      "  output_df = output_df.append(df)\n",
      "C:\\Users\\Kimbe\\AppData\\Local\\Temp/ipykernel_7100/3673173512.py:5: FutureWarning: The frame.append method is deprecated and will be removed from pandas in a future version. Use pandas.concat instead.\n",
      "  output_df = output_df.append(df)\n",
      "C:\\Users\\Kimbe\\AppData\\Local\\Temp/ipykernel_7100/3673173512.py:5: FutureWarning: The frame.append method is deprecated and will be removed from pandas in a future version. Use pandas.concat instead.\n",
      "  output_df = output_df.append(df)\n",
      "C:\\Users\\Kimbe\\AppData\\Local\\Temp/ipykernel_7100/3673173512.py:5: FutureWarning: The frame.append method is deprecated and will be removed from pandas in a future version. Use pandas.concat instead.\n",
      "  output_df = output_df.append(df)\n",
      "C:\\Users\\Kimbe\\AppData\\Local\\Temp/ipykernel_7100/3673173512.py:5: FutureWarning: The frame.append method is deprecated and will be removed from pandas in a future version. Use pandas.concat instead.\n",
      "  output_df = output_df.append(df)\n",
      "C:\\Users\\Kimbe\\AppData\\Local\\Temp/ipykernel_7100/3673173512.py:5: FutureWarning: The frame.append method is deprecated and will be removed from pandas in a future version. Use pandas.concat instead.\n",
      "  output_df = output_df.append(df)\n",
      "C:\\Users\\Kimbe\\AppData\\Local\\Temp/ipykernel_7100/3673173512.py:5: FutureWarning: The frame.append method is deprecated and will be removed from pandas in a future version. Use pandas.concat instead.\n",
      "  output_df = output_df.append(df)\n",
      "C:\\Users\\Kimbe\\AppData\\Local\\Temp/ipykernel_7100/3673173512.py:5: FutureWarning: The frame.append method is deprecated and will be removed from pandas in a future version. Use pandas.concat instead.\n",
      "  output_df = output_df.append(df)\n",
      "C:\\Users\\Kimbe\\AppData\\Local\\Temp/ipykernel_7100/3673173512.py:5: FutureWarning: The frame.append method is deprecated and will be removed from pandas in a future version. Use pandas.concat instead.\n",
      "  output_df = output_df.append(df)\n",
      "C:\\Users\\Kimbe\\AppData\\Local\\Temp/ipykernel_7100/3673173512.py:5: FutureWarning: The frame.append method is deprecated and will be removed from pandas in a future version. Use pandas.concat instead.\n",
      "  output_df = output_df.append(df)\n",
      "C:\\Users\\Kimbe\\AppData\\Local\\Temp/ipykernel_7100/3673173512.py:5: FutureWarning: The frame.append method is deprecated and will be removed from pandas in a future version. Use pandas.concat instead.\n",
      "  output_df = output_df.append(df)\n",
      "C:\\Users\\Kimbe\\AppData\\Local\\Temp/ipykernel_7100/3673173512.py:5: FutureWarning: The frame.append method is deprecated and will be removed from pandas in a future version. Use pandas.concat instead.\n",
      "  output_df = output_df.append(df)\n"
     ]
    },
    {
     "name": "stdout",
     "output_type": "stream",
     "text": [
      "Skipping row\n"
     ]
    },
    {
     "name": "stderr",
     "output_type": "stream",
     "text": [
      "C:\\Users\\Kimbe\\AppData\\Local\\Temp/ipykernel_7100/3673173512.py:5: FutureWarning: The frame.append method is deprecated and will be removed from pandas in a future version. Use pandas.concat instead.\n",
      "  output_df = output_df.append(df)\n",
      "C:\\Users\\Kimbe\\AppData\\Local\\Temp/ipykernel_7100/3673173512.py:5: FutureWarning: The frame.append method is deprecated and will be removed from pandas in a future version. Use pandas.concat instead.\n",
      "  output_df = output_df.append(df)\n",
      "C:\\Users\\Kimbe\\AppData\\Local\\Temp/ipykernel_7100/3673173512.py:5: FutureWarning: The frame.append method is deprecated and will be removed from pandas in a future version. Use pandas.concat instead.\n",
      "  output_df = output_df.append(df)\n",
      "C:\\Users\\Kimbe\\AppData\\Local\\Temp/ipykernel_7100/3673173512.py:5: FutureWarning: The frame.append method is deprecated and will be removed from pandas in a future version. Use pandas.concat instead.\n",
      "  output_df = output_df.append(df)\n",
      "C:\\Users\\Kimbe\\AppData\\Local\\Temp/ipykernel_7100/3673173512.py:5: FutureWarning: The frame.append method is deprecated and will be removed from pandas in a future version. Use pandas.concat instead.\n",
      "  output_df = output_df.append(df)\n",
      "C:\\Users\\Kimbe\\AppData\\Local\\Temp/ipykernel_7100/3673173512.py:5: FutureWarning: The frame.append method is deprecated and will be removed from pandas in a future version. Use pandas.concat instead.\n",
      "  output_df = output_df.append(df)\n",
      "C:\\Users\\Kimbe\\AppData\\Local\\Temp/ipykernel_7100/3673173512.py:5: FutureWarning: The frame.append method is deprecated and will be removed from pandas in a future version. Use pandas.concat instead.\n",
      "  output_df = output_df.append(df)\n",
      "C:\\Users\\Kimbe\\AppData\\Local\\Temp/ipykernel_7100/3673173512.py:5: FutureWarning: The frame.append method is deprecated and will be removed from pandas in a future version. Use pandas.concat instead.\n",
      "  output_df = output_df.append(df)\n",
      "C:\\Users\\Kimbe\\AppData\\Local\\Temp/ipykernel_7100/3673173512.py:5: FutureWarning: The frame.append method is deprecated and will be removed from pandas in a future version. Use pandas.concat instead.\n",
      "  output_df = output_df.append(df)\n"
     ]
    },
    {
     "name": "stdout",
     "output_type": "stream",
     "text": [
      "Skipping row\n"
     ]
    },
    {
     "name": "stderr",
     "output_type": "stream",
     "text": [
      "C:\\Users\\Kimbe\\AppData\\Local\\Temp/ipykernel_7100/3673173512.py:5: FutureWarning: The frame.append method is deprecated and will be removed from pandas in a future version. Use pandas.concat instead.\n",
      "  output_df = output_df.append(df)\n",
      "C:\\Users\\Kimbe\\AppData\\Local\\Temp/ipykernel_7100/3673173512.py:5: FutureWarning: The frame.append method is deprecated and will be removed from pandas in a future version. Use pandas.concat instead.\n",
      "  output_df = output_df.append(df)\n",
      "C:\\Users\\Kimbe\\AppData\\Local\\Temp/ipykernel_7100/3673173512.py:5: FutureWarning: The frame.append method is deprecated and will be removed from pandas in a future version. Use pandas.concat instead.\n",
      "  output_df = output_df.append(df)\n",
      "C:\\Users\\Kimbe\\AppData\\Local\\Temp/ipykernel_7100/3673173512.py:5: FutureWarning: The frame.append method is deprecated and will be removed from pandas in a future version. Use pandas.concat instead.\n",
      "  output_df = output_df.append(df)\n",
      "C:\\Users\\Kimbe\\AppData\\Local\\Temp/ipykernel_7100/3673173512.py:5: FutureWarning: The frame.append method is deprecated and will be removed from pandas in a future version. Use pandas.concat instead.\n",
      "  output_df = output_df.append(df)\n",
      "C:\\Users\\Kimbe\\AppData\\Local\\Temp/ipykernel_7100/3673173512.py:5: FutureWarning: The frame.append method is deprecated and will be removed from pandas in a future version. Use pandas.concat instead.\n",
      "  output_df = output_df.append(df)\n",
      "C:\\Users\\Kimbe\\AppData\\Local\\Temp/ipykernel_7100/3673173512.py:5: FutureWarning: The frame.append method is deprecated and will be removed from pandas in a future version. Use pandas.concat instead.\n",
      "  output_df = output_df.append(df)\n",
      "C:\\Users\\Kimbe\\AppData\\Local\\Temp/ipykernel_7100/3673173512.py:5: FutureWarning: The frame.append method is deprecated and will be removed from pandas in a future version. Use pandas.concat instead.\n",
      "  output_df = output_df.append(df)\n"
     ]
    },
    {
     "name": "stdout",
     "output_type": "stream",
     "text": [
      "Skipping row\n"
     ]
    },
    {
     "name": "stderr",
     "output_type": "stream",
     "text": [
      "C:\\Users\\Kimbe\\AppData\\Local\\Temp/ipykernel_7100/3673173512.py:5: FutureWarning: The frame.append method is deprecated and will be removed from pandas in a future version. Use pandas.concat instead.\n",
      "  output_df = output_df.append(df)\n",
      "C:\\Users\\Kimbe\\AppData\\Local\\Temp/ipykernel_7100/3673173512.py:5: FutureWarning: The frame.append method is deprecated and will be removed from pandas in a future version. Use pandas.concat instead.\n",
      "  output_df = output_df.append(df)\n",
      "C:\\Users\\Kimbe\\AppData\\Local\\Temp/ipykernel_7100/3673173512.py:5: FutureWarning: The frame.append method is deprecated and will be removed from pandas in a future version. Use pandas.concat instead.\n",
      "  output_df = output_df.append(df)\n",
      "C:\\Users\\Kimbe\\AppData\\Local\\Temp/ipykernel_7100/3673173512.py:5: FutureWarning: The frame.append method is deprecated and will be removed from pandas in a future version. Use pandas.concat instead.\n",
      "  output_df = output_df.append(df)\n",
      "C:\\Users\\Kimbe\\AppData\\Local\\Temp/ipykernel_7100/3673173512.py:5: FutureWarning: The frame.append method is deprecated and will be removed from pandas in a future version. Use pandas.concat instead.\n",
      "  output_df = output_df.append(df)\n",
      "C:\\Users\\Kimbe\\AppData\\Local\\Temp/ipykernel_7100/3673173512.py:5: FutureWarning: The frame.append method is deprecated and will be removed from pandas in a future version. Use pandas.concat instead.\n",
      "  output_df = output_df.append(df)\n",
      "C:\\Users\\Kimbe\\AppData\\Local\\Temp/ipykernel_7100/3673173512.py:5: FutureWarning: The frame.append method is deprecated and will be removed from pandas in a future version. Use pandas.concat instead.\n",
      "  output_df = output_df.append(df)\n",
      "C:\\Users\\Kimbe\\AppData\\Local\\Temp/ipykernel_7100/3673173512.py:5: FutureWarning: The frame.append method is deprecated and will be removed from pandas in a future version. Use pandas.concat instead.\n",
      "  output_df = output_df.append(df)\n",
      "C:\\Users\\Kimbe\\AppData\\Local\\Temp/ipykernel_7100/3673173512.py:5: FutureWarning: The frame.append method is deprecated and will be removed from pandas in a future version. Use pandas.concat instead.\n",
      "  output_df = output_df.append(df)\n",
      "C:\\Users\\Kimbe\\AppData\\Local\\Temp/ipykernel_7100/3673173512.py:5: FutureWarning: The frame.append method is deprecated and will be removed from pandas in a future version. Use pandas.concat instead.\n",
      "  output_df = output_df.append(df)\n"
     ]
    },
    {
     "name": "stdout",
     "output_type": "stream",
     "text": [
      "Skipping row\n"
     ]
    },
    {
     "name": "stderr",
     "output_type": "stream",
     "text": [
      "C:\\Users\\Kimbe\\AppData\\Local\\Temp/ipykernel_7100/3673173512.py:5: FutureWarning: The frame.append method is deprecated and will be removed from pandas in a future version. Use pandas.concat instead.\n",
      "  output_df = output_df.append(df)\n",
      "C:\\Users\\Kimbe\\AppData\\Local\\Temp/ipykernel_7100/3673173512.py:5: FutureWarning: The frame.append method is deprecated and will be removed from pandas in a future version. Use pandas.concat instead.\n",
      "  output_df = output_df.append(df)\n",
      "C:\\Users\\Kimbe\\AppData\\Local\\Temp/ipykernel_7100/3673173512.py:5: FutureWarning: The frame.append method is deprecated and will be removed from pandas in a future version. Use pandas.concat instead.\n",
      "  output_df = output_df.append(df)\n",
      "C:\\Users\\Kimbe\\AppData\\Local\\Temp/ipykernel_7100/3673173512.py:5: FutureWarning: The frame.append method is deprecated and will be removed from pandas in a future version. Use pandas.concat instead.\n",
      "  output_df = output_df.append(df)\n",
      "C:\\Users\\Kimbe\\AppData\\Local\\Temp/ipykernel_7100/3673173512.py:5: FutureWarning: The frame.append method is deprecated and will be removed from pandas in a future version. Use pandas.concat instead.\n",
      "  output_df = output_df.append(df)\n",
      "C:\\Users\\Kimbe\\AppData\\Local\\Temp/ipykernel_7100/3673173512.py:5: FutureWarning: The frame.append method is deprecated and will be removed from pandas in a future version. Use pandas.concat instead.\n",
      "  output_df = output_df.append(df)\n",
      "C:\\Users\\Kimbe\\AppData\\Local\\Temp/ipykernel_7100/3673173512.py:5: FutureWarning: The frame.append method is deprecated and will be removed from pandas in a future version. Use pandas.concat instead.\n",
      "  output_df = output_df.append(df)\n",
      "C:\\Users\\Kimbe\\AppData\\Local\\Temp/ipykernel_7100/3673173512.py:5: FutureWarning: The frame.append method is deprecated and will be removed from pandas in a future version. Use pandas.concat instead.\n",
      "  output_df = output_df.append(df)\n",
      "C:\\Users\\Kimbe\\AppData\\Local\\Temp/ipykernel_7100/3673173512.py:5: FutureWarning: The frame.append method is deprecated and will be removed from pandas in a future version. Use pandas.concat instead.\n",
      "  output_df = output_df.append(df)\n",
      "C:\\Users\\Kimbe\\AppData\\Local\\Temp/ipykernel_7100/3673173512.py:5: FutureWarning: The frame.append method is deprecated and will be removed from pandas in a future version. Use pandas.concat instead.\n",
      "  output_df = output_df.append(df)\n",
      "C:\\Users\\Kimbe\\AppData\\Local\\Temp/ipykernel_7100/3673173512.py:5: FutureWarning: The frame.append method is deprecated and will be removed from pandas in a future version. Use pandas.concat instead.\n",
      "  output_df = output_df.append(df)\n",
      "C:\\Users\\Kimbe\\AppData\\Local\\Temp/ipykernel_7100/3673173512.py:5: FutureWarning: The frame.append method is deprecated and will be removed from pandas in a future version. Use pandas.concat instead.\n",
      "  output_df = output_df.append(df)\n",
      "C:\\Users\\Kimbe\\AppData\\Local\\Temp/ipykernel_7100/3673173512.py:5: FutureWarning: The frame.append method is deprecated and will be removed from pandas in a future version. Use pandas.concat instead.\n",
      "  output_df = output_df.append(df)\n",
      "C:\\Users\\Kimbe\\AppData\\Local\\Temp/ipykernel_7100/3673173512.py:5: FutureWarning: The frame.append method is deprecated and will be removed from pandas in a future version. Use pandas.concat instead.\n",
      "  output_df = output_df.append(df)\n",
      "C:\\Users\\Kimbe\\AppData\\Local\\Temp/ipykernel_7100/3673173512.py:5: FutureWarning: The frame.append method is deprecated and will be removed from pandas in a future version. Use pandas.concat instead.\n",
      "  output_df = output_df.append(df)\n",
      "C:\\Users\\Kimbe\\AppData\\Local\\Temp/ipykernel_7100/3673173512.py:5: FutureWarning: The frame.append method is deprecated and will be removed from pandas in a future version. Use pandas.concat instead.\n",
      "  output_df = output_df.append(df)\n"
     ]
    },
    {
     "name": "stdout",
     "output_type": "stream",
     "text": [
      "Skipping row\n"
     ]
    },
    {
     "name": "stderr",
     "output_type": "stream",
     "text": [
      "C:\\Users\\Kimbe\\AppData\\Local\\Temp/ipykernel_7100/3673173512.py:5: FutureWarning: The frame.append method is deprecated and will be removed from pandas in a future version. Use pandas.concat instead.\n",
      "  output_df = output_df.append(df)\n",
      "C:\\Users\\Kimbe\\AppData\\Local\\Temp/ipykernel_7100/3673173512.py:5: FutureWarning: The frame.append method is deprecated and will be removed from pandas in a future version. Use pandas.concat instead.\n",
      "  output_df = output_df.append(df)\n",
      "C:\\Users\\Kimbe\\AppData\\Local\\Temp/ipykernel_7100/3673173512.py:5: FutureWarning: The frame.append method is deprecated and will be removed from pandas in a future version. Use pandas.concat instead.\n",
      "  output_df = output_df.append(df)\n",
      "C:\\Users\\Kimbe\\AppData\\Local\\Temp/ipykernel_7100/3673173512.py:5: FutureWarning: The frame.append method is deprecated and will be removed from pandas in a future version. Use pandas.concat instead.\n",
      "  output_df = output_df.append(df)\n",
      "C:\\Users\\Kimbe\\AppData\\Local\\Temp/ipykernel_7100/3673173512.py:5: FutureWarning: The frame.append method is deprecated and will be removed from pandas in a future version. Use pandas.concat instead.\n",
      "  output_df = output_df.append(df)\n",
      "C:\\Users\\Kimbe\\AppData\\Local\\Temp/ipykernel_7100/3673173512.py:5: FutureWarning: The frame.append method is deprecated and will be removed from pandas in a future version. Use pandas.concat instead.\n",
      "  output_df = output_df.append(df)\n",
      "C:\\Users\\Kimbe\\AppData\\Local\\Temp/ipykernel_7100/3673173512.py:5: FutureWarning: The frame.append method is deprecated and will be removed from pandas in a future version. Use pandas.concat instead.\n",
      "  output_df = output_df.append(df)\n",
      "C:\\Users\\Kimbe\\AppData\\Local\\Temp/ipykernel_7100/3673173512.py:5: FutureWarning: The frame.append method is deprecated and will be removed from pandas in a future version. Use pandas.concat instead.\n",
      "  output_df = output_df.append(df)\n",
      "C:\\Users\\Kimbe\\AppData\\Local\\Temp/ipykernel_7100/3673173512.py:5: FutureWarning: The frame.append method is deprecated and will be removed from pandas in a future version. Use pandas.concat instead.\n",
      "  output_df = output_df.append(df)\n",
      "C:\\Users\\Kimbe\\AppData\\Local\\Temp/ipykernel_7100/3673173512.py:5: FutureWarning: The frame.append method is deprecated and will be removed from pandas in a future version. Use pandas.concat instead.\n",
      "  output_df = output_df.append(df)\n",
      "C:\\Users\\Kimbe\\AppData\\Local\\Temp/ipykernel_7100/3673173512.py:5: FutureWarning: The frame.append method is deprecated and will be removed from pandas in a future version. Use pandas.concat instead.\n",
      "  output_df = output_df.append(df)\n",
      "C:\\Users\\Kimbe\\AppData\\Local\\Temp/ipykernel_7100/3673173512.py:5: FutureWarning: The frame.append method is deprecated and will be removed from pandas in a future version. Use pandas.concat instead.\n",
      "  output_df = output_df.append(df)\n",
      "C:\\Users\\Kimbe\\AppData\\Local\\Temp/ipykernel_7100/3673173512.py:5: FutureWarning: The frame.append method is deprecated and will be removed from pandas in a future version. Use pandas.concat instead.\n",
      "  output_df = output_df.append(df)\n",
      "C:\\Users\\Kimbe\\AppData\\Local\\Temp/ipykernel_7100/3673173512.py:5: FutureWarning: The frame.append method is deprecated and will be removed from pandas in a future version. Use pandas.concat instead.\n",
      "  output_df = output_df.append(df)\n",
      "C:\\Users\\Kimbe\\AppData\\Local\\Temp/ipykernel_7100/3673173512.py:5: FutureWarning: The frame.append method is deprecated and will be removed from pandas in a future version. Use pandas.concat instead.\n",
      "  output_df = output_df.append(df)\n",
      "C:\\Users\\Kimbe\\AppData\\Local\\Temp/ipykernel_7100/3673173512.py:5: FutureWarning: The frame.append method is deprecated and will be removed from pandas in a future version. Use pandas.concat instead.\n",
      "  output_df = output_df.append(df)\n",
      "C:\\Users\\Kimbe\\AppData\\Local\\Temp/ipykernel_7100/3673173512.py:5: FutureWarning: The frame.append method is deprecated and will be removed from pandas in a future version. Use pandas.concat instead.\n",
      "  output_df = output_df.append(df)\n"
     ]
    },
    {
     "name": "stdout",
     "output_type": "stream",
     "text": [
      "Skipping row\n",
      "Skipping row\n"
     ]
    },
    {
     "name": "stderr",
     "output_type": "stream",
     "text": [
      "C:\\Users\\Kimbe\\AppData\\Local\\Temp/ipykernel_7100/3673173512.py:5: FutureWarning: The frame.append method is deprecated and will be removed from pandas in a future version. Use pandas.concat instead.\n",
      "  output_df = output_df.append(df)\n",
      "C:\\Users\\Kimbe\\AppData\\Local\\Temp/ipykernel_7100/3673173512.py:5: FutureWarning: The frame.append method is deprecated and will be removed from pandas in a future version. Use pandas.concat instead.\n",
      "  output_df = output_df.append(df)\n",
      "C:\\Users\\Kimbe\\AppData\\Local\\Temp/ipykernel_7100/3673173512.py:5: FutureWarning: The frame.append method is deprecated and will be removed from pandas in a future version. Use pandas.concat instead.\n",
      "  output_df = output_df.append(df)\n",
      "C:\\Users\\Kimbe\\AppData\\Local\\Temp/ipykernel_7100/3673173512.py:5: FutureWarning: The frame.append method is deprecated and will be removed from pandas in a future version. Use pandas.concat instead.\n",
      "  output_df = output_df.append(df)\n",
      "C:\\Users\\Kimbe\\AppData\\Local\\Temp/ipykernel_7100/3673173512.py:5: FutureWarning: The frame.append method is deprecated and will be removed from pandas in a future version. Use pandas.concat instead.\n",
      "  output_df = output_df.append(df)\n",
      "C:\\Users\\Kimbe\\AppData\\Local\\Temp/ipykernel_7100/3673173512.py:5: FutureWarning: The frame.append method is deprecated and will be removed from pandas in a future version. Use pandas.concat instead.\n",
      "  output_df = output_df.append(df)\n",
      "C:\\Users\\Kimbe\\AppData\\Local\\Temp/ipykernel_7100/3673173512.py:5: FutureWarning: The frame.append method is deprecated and will be removed from pandas in a future version. Use pandas.concat instead.\n",
      "  output_df = output_df.append(df)\n",
      "C:\\Users\\Kimbe\\AppData\\Local\\Temp/ipykernel_7100/3673173512.py:5: FutureWarning: The frame.append method is deprecated and will be removed from pandas in a future version. Use pandas.concat instead.\n",
      "  output_df = output_df.append(df)\n",
      "C:\\Users\\Kimbe\\AppData\\Local\\Temp/ipykernel_7100/3673173512.py:5: FutureWarning: The frame.append method is deprecated and will be removed from pandas in a future version. Use pandas.concat instead.\n",
      "  output_df = output_df.append(df)\n",
      "C:\\Users\\Kimbe\\AppData\\Local\\Temp/ipykernel_7100/3673173512.py:5: FutureWarning: The frame.append method is deprecated and will be removed from pandas in a future version. Use pandas.concat instead.\n",
      "  output_df = output_df.append(df)\n",
      "C:\\Users\\Kimbe\\AppData\\Local\\Temp/ipykernel_7100/3673173512.py:5: FutureWarning: The frame.append method is deprecated and will be removed from pandas in a future version. Use pandas.concat instead.\n",
      "  output_df = output_df.append(df)\n",
      "C:\\Users\\Kimbe\\AppData\\Local\\Temp/ipykernel_7100/3673173512.py:5: FutureWarning: The frame.append method is deprecated and will be removed from pandas in a future version. Use pandas.concat instead.\n",
      "  output_df = output_df.append(df)\n",
      "C:\\Users\\Kimbe\\AppData\\Local\\Temp/ipykernel_7100/3673173512.py:5: FutureWarning: The frame.append method is deprecated and will be removed from pandas in a future version. Use pandas.concat instead.\n",
      "  output_df = output_df.append(df)\n",
      "C:\\Users\\Kimbe\\AppData\\Local\\Temp/ipykernel_7100/3673173512.py:5: FutureWarning: The frame.append method is deprecated and will be removed from pandas in a future version. Use pandas.concat instead.\n",
      "  output_df = output_df.append(df)\n",
      "C:\\Users\\Kimbe\\AppData\\Local\\Temp/ipykernel_7100/3673173512.py:5: FutureWarning: The frame.append method is deprecated and will be removed from pandas in a future version. Use pandas.concat instead.\n",
      "  output_df = output_df.append(df)\n",
      "C:\\Users\\Kimbe\\AppData\\Local\\Temp/ipykernel_7100/3673173512.py:5: FutureWarning: The frame.append method is deprecated and will be removed from pandas in a future version. Use pandas.concat instead.\n",
      "  output_df = output_df.append(df)\n",
      "C:\\Users\\Kimbe\\AppData\\Local\\Temp/ipykernel_7100/3673173512.py:5: FutureWarning: The frame.append method is deprecated and will be removed from pandas in a future version. Use pandas.concat instead.\n",
      "  output_df = output_df.append(df)\n",
      "C:\\Users\\Kimbe\\AppData\\Local\\Temp/ipykernel_7100/3673173512.py:5: FutureWarning: The frame.append method is deprecated and will be removed from pandas in a future version. Use pandas.concat instead.\n",
      "  output_df = output_df.append(df)\n"
     ]
    },
    {
     "name": "stdout",
     "output_type": "stream",
     "text": [
      "Skipping row\n",
      "Skipping row\n"
     ]
    },
    {
     "name": "stderr",
     "output_type": "stream",
     "text": [
      "C:\\Users\\Kimbe\\AppData\\Local\\Temp/ipykernel_7100/3673173512.py:5: FutureWarning: The frame.append method is deprecated and will be removed from pandas in a future version. Use pandas.concat instead.\n",
      "  output_df = output_df.append(df)\n",
      "C:\\Users\\Kimbe\\AppData\\Local\\Temp/ipykernel_7100/3673173512.py:5: FutureWarning: The frame.append method is deprecated and will be removed from pandas in a future version. Use pandas.concat instead.\n",
      "  output_df = output_df.append(df)\n",
      "C:\\Users\\Kimbe\\AppData\\Local\\Temp/ipykernel_7100/3673173512.py:5: FutureWarning: The frame.append method is deprecated and will be removed from pandas in a future version. Use pandas.concat instead.\n",
      "  output_df = output_df.append(df)\n",
      "C:\\Users\\Kimbe\\AppData\\Local\\Temp/ipykernel_7100/3673173512.py:5: FutureWarning: The frame.append method is deprecated and will be removed from pandas in a future version. Use pandas.concat instead.\n",
      "  output_df = output_df.append(df)\n",
      "C:\\Users\\Kimbe\\AppData\\Local\\Temp/ipykernel_7100/3673173512.py:5: FutureWarning: The frame.append method is deprecated and will be removed from pandas in a future version. Use pandas.concat instead.\n",
      "  output_df = output_df.append(df)\n",
      "C:\\Users\\Kimbe\\AppData\\Local\\Temp/ipykernel_7100/3673173512.py:5: FutureWarning: The frame.append method is deprecated and will be removed from pandas in a future version. Use pandas.concat instead.\n",
      "  output_df = output_df.append(df)\n",
      "C:\\Users\\Kimbe\\AppData\\Local\\Temp/ipykernel_7100/3673173512.py:5: FutureWarning: The frame.append method is deprecated and will be removed from pandas in a future version. Use pandas.concat instead.\n",
      "  output_df = output_df.append(df)\n",
      "C:\\Users\\Kimbe\\AppData\\Local\\Temp/ipykernel_7100/3673173512.py:5: FutureWarning: The frame.append method is deprecated and will be removed from pandas in a future version. Use pandas.concat instead.\n",
      "  output_df = output_df.append(df)\n",
      "C:\\Users\\Kimbe\\AppData\\Local\\Temp/ipykernel_7100/3673173512.py:5: FutureWarning: The frame.append method is deprecated and will be removed from pandas in a future version. Use pandas.concat instead.\n",
      "  output_df = output_df.append(df)\n",
      "C:\\Users\\Kimbe\\AppData\\Local\\Temp/ipykernel_7100/3673173512.py:5: FutureWarning: The frame.append method is deprecated and will be removed from pandas in a future version. Use pandas.concat instead.\n",
      "  output_df = output_df.append(df)\n",
      "C:\\Users\\Kimbe\\AppData\\Local\\Temp/ipykernel_7100/3673173512.py:5: FutureWarning: The frame.append method is deprecated and will be removed from pandas in a future version. Use pandas.concat instead.\n",
      "  output_df = output_df.append(df)\n",
      "C:\\Users\\Kimbe\\AppData\\Local\\Temp/ipykernel_7100/3673173512.py:5: FutureWarning: The frame.append method is deprecated and will be removed from pandas in a future version. Use pandas.concat instead.\n",
      "  output_df = output_df.append(df)\n",
      "C:\\Users\\Kimbe\\AppData\\Local\\Temp/ipykernel_7100/3673173512.py:5: FutureWarning: The frame.append method is deprecated and will be removed from pandas in a future version. Use pandas.concat instead.\n",
      "  output_df = output_df.append(df)\n",
      "C:\\Users\\Kimbe\\AppData\\Local\\Temp/ipykernel_7100/3673173512.py:5: FutureWarning: The frame.append method is deprecated and will be removed from pandas in a future version. Use pandas.concat instead.\n",
      "  output_df = output_df.append(df)\n",
      "C:\\Users\\Kimbe\\AppData\\Local\\Temp/ipykernel_7100/3673173512.py:5: FutureWarning: The frame.append method is deprecated and will be removed from pandas in a future version. Use pandas.concat instead.\n",
      "  output_df = output_df.append(df)\n",
      "C:\\Users\\Kimbe\\AppData\\Local\\Temp/ipykernel_7100/3673173512.py:5: FutureWarning: The frame.append method is deprecated and will be removed from pandas in a future version. Use pandas.concat instead.\n",
      "  output_df = output_df.append(df)\n",
      "C:\\Users\\Kimbe\\AppData\\Local\\Temp/ipykernel_7100/3673173512.py:5: FutureWarning: The frame.append method is deprecated and will be removed from pandas in a future version. Use pandas.concat instead.\n",
      "  output_df = output_df.append(df)\n"
     ]
    },
    {
     "name": "stdout",
     "output_type": "stream",
     "text": [
      "Skipping row\n"
     ]
    },
    {
     "name": "stderr",
     "output_type": "stream",
     "text": [
      "C:\\Users\\Kimbe\\AppData\\Local\\Temp/ipykernel_7100/3673173512.py:5: FutureWarning: The frame.append method is deprecated and will be removed from pandas in a future version. Use pandas.concat instead.\n",
      "  output_df = output_df.append(df)\n",
      "C:\\Users\\Kimbe\\AppData\\Local\\Temp/ipykernel_7100/3673173512.py:5: FutureWarning: The frame.append method is deprecated and will be removed from pandas in a future version. Use pandas.concat instead.\n",
      "  output_df = output_df.append(df)\n",
      "C:\\Users\\Kimbe\\AppData\\Local\\Temp/ipykernel_7100/3673173512.py:5: FutureWarning: The frame.append method is deprecated and will be removed from pandas in a future version. Use pandas.concat instead.\n",
      "  output_df = output_df.append(df)\n",
      "C:\\Users\\Kimbe\\AppData\\Local\\Temp/ipykernel_7100/3673173512.py:5: FutureWarning: The frame.append method is deprecated and will be removed from pandas in a future version. Use pandas.concat instead.\n",
      "  output_df = output_df.append(df)\n",
      "C:\\Users\\Kimbe\\AppData\\Local\\Temp/ipykernel_7100/3673173512.py:5: FutureWarning: The frame.append method is deprecated and will be removed from pandas in a future version. Use pandas.concat instead.\n",
      "  output_df = output_df.append(df)\n",
      "C:\\Users\\Kimbe\\AppData\\Local\\Temp/ipykernel_7100/3673173512.py:5: FutureWarning: The frame.append method is deprecated and will be removed from pandas in a future version. Use pandas.concat instead.\n",
      "  output_df = output_df.append(df)\n",
      "C:\\Users\\Kimbe\\AppData\\Local\\Temp/ipykernel_7100/3673173512.py:5: FutureWarning: The frame.append method is deprecated and will be removed from pandas in a future version. Use pandas.concat instead.\n",
      "  output_df = output_df.append(df)\n",
      "C:\\Users\\Kimbe\\AppData\\Local\\Temp/ipykernel_7100/3673173512.py:5: FutureWarning: The frame.append method is deprecated and will be removed from pandas in a future version. Use pandas.concat instead.\n",
      "  output_df = output_df.append(df)\n",
      "C:\\Users\\Kimbe\\AppData\\Local\\Temp/ipykernel_7100/3673173512.py:5: FutureWarning: The frame.append method is deprecated and will be removed from pandas in a future version. Use pandas.concat instead.\n",
      "  output_df = output_df.append(df)\n",
      "C:\\Users\\Kimbe\\AppData\\Local\\Temp/ipykernel_7100/3673173512.py:5: FutureWarning: The frame.append method is deprecated and will be removed from pandas in a future version. Use pandas.concat instead.\n",
      "  output_df = output_df.append(df)\n"
     ]
    },
    {
     "name": "stdout",
     "output_type": "stream",
     "text": [
      "Skipping row\n"
     ]
    },
    {
     "name": "stderr",
     "output_type": "stream",
     "text": [
      "C:\\Users\\Kimbe\\AppData\\Local\\Temp/ipykernel_7100/3673173512.py:5: FutureWarning: The frame.append method is deprecated and will be removed from pandas in a future version. Use pandas.concat instead.\n",
      "  output_df = output_df.append(df)\n",
      "C:\\Users\\Kimbe\\AppData\\Local\\Temp/ipykernel_7100/3673173512.py:5: FutureWarning: The frame.append method is deprecated and will be removed from pandas in a future version. Use pandas.concat instead.\n",
      "  output_df = output_df.append(df)\n",
      "C:\\Users\\Kimbe\\AppData\\Local\\Temp/ipykernel_7100/3673173512.py:5: FutureWarning: The frame.append method is deprecated and will be removed from pandas in a future version. Use pandas.concat instead.\n",
      "  output_df = output_df.append(df)\n",
      "C:\\Users\\Kimbe\\AppData\\Local\\Temp/ipykernel_7100/3673173512.py:5: FutureWarning: The frame.append method is deprecated and will be removed from pandas in a future version. Use pandas.concat instead.\n",
      "  output_df = output_df.append(df)\n",
      "C:\\Users\\Kimbe\\AppData\\Local\\Temp/ipykernel_7100/3673173512.py:5: FutureWarning: The frame.append method is deprecated and will be removed from pandas in a future version. Use pandas.concat instead.\n",
      "  output_df = output_df.append(df)\n",
      "C:\\Users\\Kimbe\\AppData\\Local\\Temp/ipykernel_7100/3673173512.py:5: FutureWarning: The frame.append method is deprecated and will be removed from pandas in a future version. Use pandas.concat instead.\n",
      "  output_df = output_df.append(df)\n",
      "C:\\Users\\Kimbe\\AppData\\Local\\Temp/ipykernel_7100/3673173512.py:5: FutureWarning: The frame.append method is deprecated and will be removed from pandas in a future version. Use pandas.concat instead.\n",
      "  output_df = output_df.append(df)\n",
      "C:\\Users\\Kimbe\\AppData\\Local\\Temp/ipykernel_7100/3673173512.py:5: FutureWarning: The frame.append method is deprecated and will be removed from pandas in a future version. Use pandas.concat instead.\n",
      "  output_df = output_df.append(df)\n",
      "C:\\Users\\Kimbe\\AppData\\Local\\Temp/ipykernel_7100/3673173512.py:5: FutureWarning: The frame.append method is deprecated and will be removed from pandas in a future version. Use pandas.concat instead.\n",
      "  output_df = output_df.append(df)\n",
      "C:\\Users\\Kimbe\\AppData\\Local\\Temp/ipykernel_7100/3673173512.py:5: FutureWarning: The frame.append method is deprecated and will be removed from pandas in a future version. Use pandas.concat instead.\n",
      "  output_df = output_df.append(df)\n",
      "C:\\Users\\Kimbe\\AppData\\Local\\Temp/ipykernel_7100/3673173512.py:5: FutureWarning: The frame.append method is deprecated and will be removed from pandas in a future version. Use pandas.concat instead.\n",
      "  output_df = output_df.append(df)\n",
      "C:\\Users\\Kimbe\\AppData\\Local\\Temp/ipykernel_7100/3673173512.py:5: FutureWarning: The frame.append method is deprecated and will be removed from pandas in a future version. Use pandas.concat instead.\n",
      "  output_df = output_df.append(df)\n",
      "C:\\Users\\Kimbe\\AppData\\Local\\Temp/ipykernel_7100/3673173512.py:5: FutureWarning: The frame.append method is deprecated and will be removed from pandas in a future version. Use pandas.concat instead.\n",
      "  output_df = output_df.append(df)\n",
      "C:\\Users\\Kimbe\\AppData\\Local\\Temp/ipykernel_7100/3673173512.py:5: FutureWarning: The frame.append method is deprecated and will be removed from pandas in a future version. Use pandas.concat instead.\n",
      "  output_df = output_df.append(df)\n",
      "C:\\Users\\Kimbe\\AppData\\Local\\Temp/ipykernel_7100/3673173512.py:5: FutureWarning: The frame.append method is deprecated and will be removed from pandas in a future version. Use pandas.concat instead.\n",
      "  output_df = output_df.append(df)\n",
      "C:\\Users\\Kimbe\\AppData\\Local\\Temp/ipykernel_7100/3673173512.py:5: FutureWarning: The frame.append method is deprecated and will be removed from pandas in a future version. Use pandas.concat instead.\n",
      "  output_df = output_df.append(df)\n",
      "C:\\Users\\Kimbe\\AppData\\Local\\Temp/ipykernel_7100/3673173512.py:5: FutureWarning: The frame.append method is deprecated and will be removed from pandas in a future version. Use pandas.concat instead.\n",
      "  output_df = output_df.append(df)\n",
      "C:\\Users\\Kimbe\\AppData\\Local\\Temp/ipykernel_7100/3673173512.py:5: FutureWarning: The frame.append method is deprecated and will be removed from pandas in a future version. Use pandas.concat instead.\n",
      "  output_df = output_df.append(df)\n",
      "C:\\Users\\Kimbe\\AppData\\Local\\Temp/ipykernel_7100/3673173512.py:5: FutureWarning: The frame.append method is deprecated and will be removed from pandas in a future version. Use pandas.concat instead.\n",
      "  output_df = output_df.append(df)\n",
      "C:\\Users\\Kimbe\\AppData\\Local\\Temp/ipykernel_7100/3673173512.py:5: FutureWarning: The frame.append method is deprecated and will be removed from pandas in a future version. Use pandas.concat instead.\n",
      "  output_df = output_df.append(df)\n"
     ]
    },
    {
     "name": "stdout",
     "output_type": "stream",
     "text": [
      "Skipping row\n"
     ]
    },
    {
     "name": "stderr",
     "output_type": "stream",
     "text": [
      "C:\\Users\\Kimbe\\AppData\\Local\\Temp/ipykernel_7100/3673173512.py:5: FutureWarning: The frame.append method is deprecated and will be removed from pandas in a future version. Use pandas.concat instead.\n",
      "  output_df = output_df.append(df)\n",
      "C:\\Users\\Kimbe\\AppData\\Local\\Temp/ipykernel_7100/3673173512.py:5: FutureWarning: The frame.append method is deprecated and will be removed from pandas in a future version. Use pandas.concat instead.\n",
      "  output_df = output_df.append(df)\n",
      "C:\\Users\\Kimbe\\AppData\\Local\\Temp/ipykernel_7100/3673173512.py:5: FutureWarning: The frame.append method is deprecated and will be removed from pandas in a future version. Use pandas.concat instead.\n",
      "  output_df = output_df.append(df)\n",
      "C:\\Users\\Kimbe\\AppData\\Local\\Temp/ipykernel_7100/3673173512.py:5: FutureWarning: The frame.append method is deprecated and will be removed from pandas in a future version. Use pandas.concat instead.\n",
      "  output_df = output_df.append(df)\n",
      "C:\\Users\\Kimbe\\AppData\\Local\\Temp/ipykernel_7100/3673173512.py:5: FutureWarning: The frame.append method is deprecated and will be removed from pandas in a future version. Use pandas.concat instead.\n",
      "  output_df = output_df.append(df)\n",
      "C:\\Users\\Kimbe\\AppData\\Local\\Temp/ipykernel_7100/3673173512.py:5: FutureWarning: The frame.append method is deprecated and will be removed from pandas in a future version. Use pandas.concat instead.\n",
      "  output_df = output_df.append(df)\n",
      "C:\\Users\\Kimbe\\AppData\\Local\\Temp/ipykernel_7100/3673173512.py:5: FutureWarning: The frame.append method is deprecated and will be removed from pandas in a future version. Use pandas.concat instead.\n",
      "  output_df = output_df.append(df)\n",
      "C:\\Users\\Kimbe\\AppData\\Local\\Temp/ipykernel_7100/3673173512.py:5: FutureWarning: The frame.append method is deprecated and will be removed from pandas in a future version. Use pandas.concat instead.\n",
      "  output_df = output_df.append(df)\n",
      "C:\\Users\\Kimbe\\AppData\\Local\\Temp/ipykernel_7100/3673173512.py:5: FutureWarning: The frame.append method is deprecated and will be removed from pandas in a future version. Use pandas.concat instead.\n",
      "  output_df = output_df.append(df)\n"
     ]
    },
    {
     "name": "stdout",
     "output_type": "stream",
     "text": [
      "Skipping row\n"
     ]
    },
    {
     "name": "stderr",
     "output_type": "stream",
     "text": [
      "C:\\Users\\Kimbe\\AppData\\Local\\Temp/ipykernel_7100/3673173512.py:5: FutureWarning: The frame.append method is deprecated and will be removed from pandas in a future version. Use pandas.concat instead.\n",
      "  output_df = output_df.append(df)\n",
      "C:\\Users\\Kimbe\\AppData\\Local\\Temp/ipykernel_7100/3673173512.py:5: FutureWarning: The frame.append method is deprecated and will be removed from pandas in a future version. Use pandas.concat instead.\n",
      "  output_df = output_df.append(df)\n",
      "C:\\Users\\Kimbe\\AppData\\Local\\Temp/ipykernel_7100/3673173512.py:5: FutureWarning: The frame.append method is deprecated and will be removed from pandas in a future version. Use pandas.concat instead.\n",
      "  output_df = output_df.append(df)\n",
      "C:\\Users\\Kimbe\\AppData\\Local\\Temp/ipykernel_7100/3673173512.py:5: FutureWarning: The frame.append method is deprecated and will be removed from pandas in a future version. Use pandas.concat instead.\n",
      "  output_df = output_df.append(df)\n",
      "C:\\Users\\Kimbe\\AppData\\Local\\Temp/ipykernel_7100/3673173512.py:5: FutureWarning: The frame.append method is deprecated and will be removed from pandas in a future version. Use pandas.concat instead.\n",
      "  output_df = output_df.append(df)\n",
      "C:\\Users\\Kimbe\\AppData\\Local\\Temp/ipykernel_7100/3673173512.py:5: FutureWarning: The frame.append method is deprecated and will be removed from pandas in a future version. Use pandas.concat instead.\n",
      "  output_df = output_df.append(df)\n",
      "C:\\Users\\Kimbe\\AppData\\Local\\Temp/ipykernel_7100/3673173512.py:5: FutureWarning: The frame.append method is deprecated and will be removed from pandas in a future version. Use pandas.concat instead.\n",
      "  output_df = output_df.append(df)\n",
      "C:\\Users\\Kimbe\\AppData\\Local\\Temp/ipykernel_7100/3673173512.py:5: FutureWarning: The frame.append method is deprecated and will be removed from pandas in a future version. Use pandas.concat instead.\n",
      "  output_df = output_df.append(df)\n",
      "C:\\Users\\Kimbe\\AppData\\Local\\Temp/ipykernel_7100/3673173512.py:5: FutureWarning: The frame.append method is deprecated and will be removed from pandas in a future version. Use pandas.concat instead.\n",
      "  output_df = output_df.append(df)\n",
      "C:\\Users\\Kimbe\\AppData\\Local\\Temp/ipykernel_7100/3673173512.py:5: FutureWarning: The frame.append method is deprecated and will be removed from pandas in a future version. Use pandas.concat instead.\n",
      "  output_df = output_df.append(df)\n",
      "C:\\Users\\Kimbe\\AppData\\Local\\Temp/ipykernel_7100/3673173512.py:5: FutureWarning: The frame.append method is deprecated and will be removed from pandas in a future version. Use pandas.concat instead.\n",
      "  output_df = output_df.append(df)\n"
     ]
    },
    {
     "name": "stdout",
     "output_type": "stream",
     "text": [
      "Skipping row\n"
     ]
    },
    {
     "name": "stderr",
     "output_type": "stream",
     "text": [
      "C:\\Users\\Kimbe\\AppData\\Local\\Temp/ipykernel_7100/3673173512.py:5: FutureWarning: The frame.append method is deprecated and will be removed from pandas in a future version. Use pandas.concat instead.\n",
      "  output_df = output_df.append(df)\n",
      "C:\\Users\\Kimbe\\AppData\\Local\\Temp/ipykernel_7100/3673173512.py:5: FutureWarning: The frame.append method is deprecated and will be removed from pandas in a future version. Use pandas.concat instead.\n",
      "  output_df = output_df.append(df)\n",
      "C:\\Users\\Kimbe\\AppData\\Local\\Temp/ipykernel_7100/3673173512.py:5: FutureWarning: The frame.append method is deprecated and will be removed from pandas in a future version. Use pandas.concat instead.\n",
      "  output_df = output_df.append(df)\n",
      "C:\\Users\\Kimbe\\AppData\\Local\\Temp/ipykernel_7100/3673173512.py:5: FutureWarning: The frame.append method is deprecated and will be removed from pandas in a future version. Use pandas.concat instead.\n",
      "  output_df = output_df.append(df)\n",
      "C:\\Users\\Kimbe\\AppData\\Local\\Temp/ipykernel_7100/3673173512.py:5: FutureWarning: The frame.append method is deprecated and will be removed from pandas in a future version. Use pandas.concat instead.\n",
      "  output_df = output_df.append(df)\n",
      "C:\\Users\\Kimbe\\AppData\\Local\\Temp/ipykernel_7100/3673173512.py:5: FutureWarning: The frame.append method is deprecated and will be removed from pandas in a future version. Use pandas.concat instead.\n",
      "  output_df = output_df.append(df)\n",
      "C:\\Users\\Kimbe\\AppData\\Local\\Temp/ipykernel_7100/3673173512.py:5: FutureWarning: The frame.append method is deprecated and will be removed from pandas in a future version. Use pandas.concat instead.\n",
      "  output_df = output_df.append(df)\n",
      "C:\\Users\\Kimbe\\AppData\\Local\\Temp/ipykernel_7100/3673173512.py:5: FutureWarning: The frame.append method is deprecated and will be removed from pandas in a future version. Use pandas.concat instead.\n",
      "  output_df = output_df.append(df)\n",
      "C:\\Users\\Kimbe\\AppData\\Local\\Temp/ipykernel_7100/3673173512.py:5: FutureWarning: The frame.append method is deprecated and will be removed from pandas in a future version. Use pandas.concat instead.\n",
      "  output_df = output_df.append(df)\n",
      "C:\\Users\\Kimbe\\AppData\\Local\\Temp/ipykernel_7100/3673173512.py:5: FutureWarning: The frame.append method is deprecated and will be removed from pandas in a future version. Use pandas.concat instead.\n",
      "  output_df = output_df.append(df)\n",
      "C:\\Users\\Kimbe\\AppData\\Local\\Temp/ipykernel_7100/3673173512.py:5: FutureWarning: The frame.append method is deprecated and will be removed from pandas in a future version. Use pandas.concat instead.\n",
      "  output_df = output_df.append(df)\n"
     ]
    },
    {
     "name": "stdout",
     "output_type": "stream",
     "text": [
      "Skipping row\n"
     ]
    },
    {
     "name": "stderr",
     "output_type": "stream",
     "text": [
      "C:\\Users\\Kimbe\\AppData\\Local\\Temp/ipykernel_7100/3673173512.py:5: FutureWarning: The frame.append method is deprecated and will be removed from pandas in a future version. Use pandas.concat instead.\n",
      "  output_df = output_df.append(df)\n",
      "C:\\Users\\Kimbe\\AppData\\Local\\Temp/ipykernel_7100/3673173512.py:5: FutureWarning: The frame.append method is deprecated and will be removed from pandas in a future version. Use pandas.concat instead.\n",
      "  output_df = output_df.append(df)\n",
      "C:\\Users\\Kimbe\\AppData\\Local\\Temp/ipykernel_7100/3673173512.py:5: FutureWarning: The frame.append method is deprecated and will be removed from pandas in a future version. Use pandas.concat instead.\n",
      "  output_df = output_df.append(df)\n",
      "C:\\Users\\Kimbe\\AppData\\Local\\Temp/ipykernel_7100/3673173512.py:5: FutureWarning: The frame.append method is deprecated and will be removed from pandas in a future version. Use pandas.concat instead.\n",
      "  output_df = output_df.append(df)\n",
      "C:\\Users\\Kimbe\\AppData\\Local\\Temp/ipykernel_7100/3673173512.py:5: FutureWarning: The frame.append method is deprecated and will be removed from pandas in a future version. Use pandas.concat instead.\n",
      "  output_df = output_df.append(df)\n",
      "C:\\Users\\Kimbe\\AppData\\Local\\Temp/ipykernel_7100/3673173512.py:5: FutureWarning: The frame.append method is deprecated and will be removed from pandas in a future version. Use pandas.concat instead.\n",
      "  output_df = output_df.append(df)\n",
      "C:\\Users\\Kimbe\\AppData\\Local\\Temp/ipykernel_7100/3673173512.py:5: FutureWarning: The frame.append method is deprecated and will be removed from pandas in a future version. Use pandas.concat instead.\n",
      "  output_df = output_df.append(df)\n",
      "C:\\Users\\Kimbe\\AppData\\Local\\Temp/ipykernel_7100/3673173512.py:5: FutureWarning: The frame.append method is deprecated and will be removed from pandas in a future version. Use pandas.concat instead.\n",
      "  output_df = output_df.append(df)\n"
     ]
    },
    {
     "name": "stdout",
     "output_type": "stream",
     "text": [
      "Skipping row\n"
     ]
    },
    {
     "name": "stderr",
     "output_type": "stream",
     "text": [
      "C:\\Users\\Kimbe\\AppData\\Local\\Temp/ipykernel_7100/3673173512.py:5: FutureWarning: The frame.append method is deprecated and will be removed from pandas in a future version. Use pandas.concat instead.\n",
      "  output_df = output_df.append(df)\n",
      "C:\\Users\\Kimbe\\AppData\\Local\\Temp/ipykernel_7100/3673173512.py:5: FutureWarning: The frame.append method is deprecated and will be removed from pandas in a future version. Use pandas.concat instead.\n",
      "  output_df = output_df.append(df)\n",
      "C:\\Users\\Kimbe\\AppData\\Local\\Temp/ipykernel_7100/3673173512.py:5: FutureWarning: The frame.append method is deprecated and will be removed from pandas in a future version. Use pandas.concat instead.\n",
      "  output_df = output_df.append(df)\n",
      "C:\\Users\\Kimbe\\AppData\\Local\\Temp/ipykernel_7100/3673173512.py:5: FutureWarning: The frame.append method is deprecated and will be removed from pandas in a future version. Use pandas.concat instead.\n",
      "  output_df = output_df.append(df)\n",
      "C:\\Users\\Kimbe\\AppData\\Local\\Temp/ipykernel_7100/3673173512.py:5: FutureWarning: The frame.append method is deprecated and will be removed from pandas in a future version. Use pandas.concat instead.\n",
      "  output_df = output_df.append(df)\n",
      "C:\\Users\\Kimbe\\AppData\\Local\\Temp/ipykernel_7100/3673173512.py:5: FutureWarning: The frame.append method is deprecated and will be removed from pandas in a future version. Use pandas.concat instead.\n",
      "  output_df = output_df.append(df)\n",
      "C:\\Users\\Kimbe\\AppData\\Local\\Temp/ipykernel_7100/3673173512.py:5: FutureWarning: The frame.append method is deprecated and will be removed from pandas in a future version. Use pandas.concat instead.\n",
      "  output_df = output_df.append(df)\n",
      "C:\\Users\\Kimbe\\AppData\\Local\\Temp/ipykernel_7100/3673173512.py:5: FutureWarning: The frame.append method is deprecated and will be removed from pandas in a future version. Use pandas.concat instead.\n",
      "  output_df = output_df.append(df)\n"
     ]
    },
    {
     "name": "stdout",
     "output_type": "stream",
     "text": [
      "Skipping row\n"
     ]
    },
    {
     "name": "stderr",
     "output_type": "stream",
     "text": [
      "C:\\Users\\Kimbe\\AppData\\Local\\Temp/ipykernel_7100/3673173512.py:5: FutureWarning: The frame.append method is deprecated and will be removed from pandas in a future version. Use pandas.concat instead.\n",
      "  output_df = output_df.append(df)\n",
      "C:\\Users\\Kimbe\\AppData\\Local\\Temp/ipykernel_7100/3673173512.py:5: FutureWarning: The frame.append method is deprecated and will be removed from pandas in a future version. Use pandas.concat instead.\n",
      "  output_df = output_df.append(df)\n",
      "C:\\Users\\Kimbe\\AppData\\Local\\Temp/ipykernel_7100/3673173512.py:5: FutureWarning: The frame.append method is deprecated and will be removed from pandas in a future version. Use pandas.concat instead.\n",
      "  output_df = output_df.append(df)\n",
      "C:\\Users\\Kimbe\\AppData\\Local\\Temp/ipykernel_7100/3673173512.py:5: FutureWarning: The frame.append method is deprecated and will be removed from pandas in a future version. Use pandas.concat instead.\n",
      "  output_df = output_df.append(df)\n",
      "C:\\Users\\Kimbe\\AppData\\Local\\Temp/ipykernel_7100/3673173512.py:5: FutureWarning: The frame.append method is deprecated and will be removed from pandas in a future version. Use pandas.concat instead.\n",
      "  output_df = output_df.append(df)\n",
      "C:\\Users\\Kimbe\\AppData\\Local\\Temp/ipykernel_7100/3673173512.py:5: FutureWarning: The frame.append method is deprecated and will be removed from pandas in a future version. Use pandas.concat instead.\n",
      "  output_df = output_df.append(df)\n",
      "C:\\Users\\Kimbe\\AppData\\Local\\Temp/ipykernel_7100/3673173512.py:5: FutureWarning: The frame.append method is deprecated and will be removed from pandas in a future version. Use pandas.concat instead.\n",
      "  output_df = output_df.append(df)\n",
      "C:\\Users\\Kimbe\\AppData\\Local\\Temp/ipykernel_7100/3673173512.py:5: FutureWarning: The frame.append method is deprecated and will be removed from pandas in a future version. Use pandas.concat instead.\n",
      "  output_df = output_df.append(df)\n",
      "C:\\Users\\Kimbe\\AppData\\Local\\Temp/ipykernel_7100/3673173512.py:5: FutureWarning: The frame.append method is deprecated and will be removed from pandas in a future version. Use pandas.concat instead.\n",
      "  output_df = output_df.append(df)\n",
      "C:\\Users\\Kimbe\\AppData\\Local\\Temp/ipykernel_7100/3673173512.py:5: FutureWarning: The frame.append method is deprecated and will be removed from pandas in a future version. Use pandas.concat instead.\n",
      "  output_df = output_df.append(df)\n",
      "C:\\Users\\Kimbe\\AppData\\Local\\Temp/ipykernel_7100/3673173512.py:5: FutureWarning: The frame.append method is deprecated and will be removed from pandas in a future version. Use pandas.concat instead.\n",
      "  output_df = output_df.append(df)\n"
     ]
    },
    {
     "name": "stdout",
     "output_type": "stream",
     "text": [
      "Skipping row\n"
     ]
    },
    {
     "name": "stderr",
     "output_type": "stream",
     "text": [
      "C:\\Users\\Kimbe\\AppData\\Local\\Temp/ipykernel_7100/3673173512.py:5: FutureWarning: The frame.append method is deprecated and will be removed from pandas in a future version. Use pandas.concat instead.\n",
      "  output_df = output_df.append(df)\n",
      "C:\\Users\\Kimbe\\AppData\\Local\\Temp/ipykernel_7100/3673173512.py:5: FutureWarning: The frame.append method is deprecated and will be removed from pandas in a future version. Use pandas.concat instead.\n",
      "  output_df = output_df.append(df)\n",
      "C:\\Users\\Kimbe\\AppData\\Local\\Temp/ipykernel_7100/3673173512.py:5: FutureWarning: The frame.append method is deprecated and will be removed from pandas in a future version. Use pandas.concat instead.\n",
      "  output_df = output_df.append(df)\n",
      "C:\\Users\\Kimbe\\AppData\\Local\\Temp/ipykernel_7100/3673173512.py:5: FutureWarning: The frame.append method is deprecated and will be removed from pandas in a future version. Use pandas.concat instead.\n",
      "  output_df = output_df.append(df)\n",
      "C:\\Users\\Kimbe\\AppData\\Local\\Temp/ipykernel_7100/3673173512.py:5: FutureWarning: The frame.append method is deprecated and will be removed from pandas in a future version. Use pandas.concat instead.\n",
      "  output_df = output_df.append(df)\n",
      "C:\\Users\\Kimbe\\AppData\\Local\\Temp/ipykernel_7100/3673173512.py:5: FutureWarning: The frame.append method is deprecated and will be removed from pandas in a future version. Use pandas.concat instead.\n",
      "  output_df = output_df.append(df)\n",
      "C:\\Users\\Kimbe\\AppData\\Local\\Temp/ipykernel_7100/3673173512.py:5: FutureWarning: The frame.append method is deprecated and will be removed from pandas in a future version. Use pandas.concat instead.\n",
      "  output_df = output_df.append(df)\n",
      "C:\\Users\\Kimbe\\AppData\\Local\\Temp/ipykernel_7100/3673173512.py:5: FutureWarning: The frame.append method is deprecated and will be removed from pandas in a future version. Use pandas.concat instead.\n",
      "  output_df = output_df.append(df)\n",
      "C:\\Users\\Kimbe\\AppData\\Local\\Temp/ipykernel_7100/3673173512.py:5: FutureWarning: The frame.append method is deprecated and will be removed from pandas in a future version. Use pandas.concat instead.\n",
      "  output_df = output_df.append(df)\n",
      "C:\\Users\\Kimbe\\AppData\\Local\\Temp/ipykernel_7100/3673173512.py:5: FutureWarning: The frame.append method is deprecated and will be removed from pandas in a future version. Use pandas.concat instead.\n",
      "  output_df = output_df.append(df)\n"
     ]
    },
    {
     "name": "stdout",
     "output_type": "stream",
     "text": [
      "Skipping row\n"
     ]
    },
    {
     "name": "stderr",
     "output_type": "stream",
     "text": [
      "C:\\Users\\Kimbe\\AppData\\Local\\Temp/ipykernel_7100/3673173512.py:5: FutureWarning: The frame.append method is deprecated and will be removed from pandas in a future version. Use pandas.concat instead.\n",
      "  output_df = output_df.append(df)\n",
      "C:\\Users\\Kimbe\\AppData\\Local\\Temp/ipykernel_7100/3673173512.py:5: FutureWarning: The frame.append method is deprecated and will be removed from pandas in a future version. Use pandas.concat instead.\n",
      "  output_df = output_df.append(df)\n",
      "C:\\Users\\Kimbe\\AppData\\Local\\Temp/ipykernel_7100/3673173512.py:5: FutureWarning: The frame.append method is deprecated and will be removed from pandas in a future version. Use pandas.concat instead.\n",
      "  output_df = output_df.append(df)\n",
      "C:\\Users\\Kimbe\\AppData\\Local\\Temp/ipykernel_7100/3673173512.py:5: FutureWarning: The frame.append method is deprecated and will be removed from pandas in a future version. Use pandas.concat instead.\n",
      "  output_df = output_df.append(df)\n",
      "C:\\Users\\Kimbe\\AppData\\Local\\Temp/ipykernel_7100/3673173512.py:5: FutureWarning: The frame.append method is deprecated and will be removed from pandas in a future version. Use pandas.concat instead.\n",
      "  output_df = output_df.append(df)\n",
      "C:\\Users\\Kimbe\\AppData\\Local\\Temp/ipykernel_7100/3673173512.py:5: FutureWarning: The frame.append method is deprecated and will be removed from pandas in a future version. Use pandas.concat instead.\n",
      "  output_df = output_df.append(df)\n",
      "C:\\Users\\Kimbe\\AppData\\Local\\Temp/ipykernel_7100/3673173512.py:5: FutureWarning: The frame.append method is deprecated and will be removed from pandas in a future version. Use pandas.concat instead.\n",
      "  output_df = output_df.append(df)\n",
      "C:\\Users\\Kimbe\\AppData\\Local\\Temp/ipykernel_7100/3673173512.py:5: FutureWarning: The frame.append method is deprecated and will be removed from pandas in a future version. Use pandas.concat instead.\n",
      "  output_df = output_df.append(df)\n",
      "C:\\Users\\Kimbe\\AppData\\Local\\Temp/ipykernel_7100/3673173512.py:5: FutureWarning: The frame.append method is deprecated and will be removed from pandas in a future version. Use pandas.concat instead.\n",
      "  output_df = output_df.append(df)\n",
      "C:\\Users\\Kimbe\\AppData\\Local\\Temp/ipykernel_7100/3673173512.py:5: FutureWarning: The frame.append method is deprecated and will be removed from pandas in a future version. Use pandas.concat instead.\n",
      "  output_df = output_df.append(df)\n"
     ]
    },
    {
     "name": "stdout",
     "output_type": "stream",
     "text": [
      "Skipping row\n"
     ]
    },
    {
     "name": "stderr",
     "output_type": "stream",
     "text": [
      "C:\\Users\\Kimbe\\AppData\\Local\\Temp/ipykernel_7100/3673173512.py:5: FutureWarning: The frame.append method is deprecated and will be removed from pandas in a future version. Use pandas.concat instead.\n",
      "  output_df = output_df.append(df)\n",
      "C:\\Users\\Kimbe\\AppData\\Local\\Temp/ipykernel_7100/3673173512.py:5: FutureWarning: The frame.append method is deprecated and will be removed from pandas in a future version. Use pandas.concat instead.\n",
      "  output_df = output_df.append(df)\n",
      "C:\\Users\\Kimbe\\AppData\\Local\\Temp/ipykernel_7100/3673173512.py:5: FutureWarning: The frame.append method is deprecated and will be removed from pandas in a future version. Use pandas.concat instead.\n",
      "  output_df = output_df.append(df)\n",
      "C:\\Users\\Kimbe\\AppData\\Local\\Temp/ipykernel_7100/3673173512.py:5: FutureWarning: The frame.append method is deprecated and will be removed from pandas in a future version. Use pandas.concat instead.\n",
      "  output_df = output_df.append(df)\n",
      "C:\\Users\\Kimbe\\AppData\\Local\\Temp/ipykernel_7100/3673173512.py:5: FutureWarning: The frame.append method is deprecated and will be removed from pandas in a future version. Use pandas.concat instead.\n",
      "  output_df = output_df.append(df)\n",
      "C:\\Users\\Kimbe\\AppData\\Local\\Temp/ipykernel_7100/3673173512.py:5: FutureWarning: The frame.append method is deprecated and will be removed from pandas in a future version. Use pandas.concat instead.\n",
      "  output_df = output_df.append(df)\n",
      "C:\\Users\\Kimbe\\AppData\\Local\\Temp/ipykernel_7100/3673173512.py:5: FutureWarning: The frame.append method is deprecated and will be removed from pandas in a future version. Use pandas.concat instead.\n",
      "  output_df = output_df.append(df)\n",
      "C:\\Users\\Kimbe\\AppData\\Local\\Temp/ipykernel_7100/3673173512.py:5: FutureWarning: The frame.append method is deprecated and will be removed from pandas in a future version. Use pandas.concat instead.\n",
      "  output_df = output_df.append(df)\n",
      "C:\\Users\\Kimbe\\AppData\\Local\\Temp/ipykernel_7100/3673173512.py:5: FutureWarning: The frame.append method is deprecated and will be removed from pandas in a future version. Use pandas.concat instead.\n",
      "  output_df = output_df.append(df)\n",
      "C:\\Users\\Kimbe\\AppData\\Local\\Temp/ipykernel_7100/3673173512.py:5: FutureWarning: The frame.append method is deprecated and will be removed from pandas in a future version. Use pandas.concat instead.\n",
      "  output_df = output_df.append(df)\n",
      "C:\\Users\\Kimbe\\AppData\\Local\\Temp/ipykernel_7100/3673173512.py:5: FutureWarning: The frame.append method is deprecated and will be removed from pandas in a future version. Use pandas.concat instead.\n",
      "  output_df = output_df.append(df)\n",
      "C:\\Users\\Kimbe\\AppData\\Local\\Temp/ipykernel_7100/3673173512.py:5: FutureWarning: The frame.append method is deprecated and will be removed from pandas in a future version. Use pandas.concat instead.\n",
      "  output_df = output_df.append(df)\n",
      "C:\\Users\\Kimbe\\AppData\\Local\\Temp/ipykernel_7100/3673173512.py:5: FutureWarning: The frame.append method is deprecated and will be removed from pandas in a future version. Use pandas.concat instead.\n",
      "  output_df = output_df.append(df)\n",
      "C:\\Users\\Kimbe\\AppData\\Local\\Temp/ipykernel_7100/3673173512.py:5: FutureWarning: The frame.append method is deprecated and will be removed from pandas in a future version. Use pandas.concat instead.\n",
      "  output_df = output_df.append(df)\n",
      "C:\\Users\\Kimbe\\AppData\\Local\\Temp/ipykernel_7100/3673173512.py:5: FutureWarning: The frame.append method is deprecated and will be removed from pandas in a future version. Use pandas.concat instead.\n",
      "  output_df = output_df.append(df)\n",
      "C:\\Users\\Kimbe\\AppData\\Local\\Temp/ipykernel_7100/3673173512.py:5: FutureWarning: The frame.append method is deprecated and will be removed from pandas in a future version. Use pandas.concat instead.\n",
      "  output_df = output_df.append(df)\n",
      "C:\\Users\\Kimbe\\AppData\\Local\\Temp/ipykernel_7100/3673173512.py:5: FutureWarning: The frame.append method is deprecated and will be removed from pandas in a future version. Use pandas.concat instead.\n",
      "  output_df = output_df.append(df)\n"
     ]
    },
    {
     "name": "stdout",
     "output_type": "stream",
     "text": [
      "Skipping row\n"
     ]
    },
    {
     "name": "stderr",
     "output_type": "stream",
     "text": [
      "C:\\Users\\Kimbe\\AppData\\Local\\Temp/ipykernel_7100/3673173512.py:5: FutureWarning: The frame.append method is deprecated and will be removed from pandas in a future version. Use pandas.concat instead.\n",
      "  output_df = output_df.append(df)\n",
      "C:\\Users\\Kimbe\\AppData\\Local\\Temp/ipykernel_7100/3673173512.py:5: FutureWarning: The frame.append method is deprecated and will be removed from pandas in a future version. Use pandas.concat instead.\n",
      "  output_df = output_df.append(df)\n",
      "C:\\Users\\Kimbe\\AppData\\Local\\Temp/ipykernel_7100/3673173512.py:5: FutureWarning: The frame.append method is deprecated and will be removed from pandas in a future version. Use pandas.concat instead.\n",
      "  output_df = output_df.append(df)\n",
      "C:\\Users\\Kimbe\\AppData\\Local\\Temp/ipykernel_7100/3673173512.py:5: FutureWarning: The frame.append method is deprecated and will be removed from pandas in a future version. Use pandas.concat instead.\n",
      "  output_df = output_df.append(df)\n",
      "C:\\Users\\Kimbe\\AppData\\Local\\Temp/ipykernel_7100/3673173512.py:5: FutureWarning: The frame.append method is deprecated and will be removed from pandas in a future version. Use pandas.concat instead.\n",
      "  output_df = output_df.append(df)\n",
      "C:\\Users\\Kimbe\\AppData\\Local\\Temp/ipykernel_7100/3673173512.py:5: FutureWarning: The frame.append method is deprecated and will be removed from pandas in a future version. Use pandas.concat instead.\n",
      "  output_df = output_df.append(df)\n",
      "C:\\Users\\Kimbe\\AppData\\Local\\Temp/ipykernel_7100/3673173512.py:5: FutureWarning: The frame.append method is deprecated and will be removed from pandas in a future version. Use pandas.concat instead.\n",
      "  output_df = output_df.append(df)\n",
      "C:\\Users\\Kimbe\\AppData\\Local\\Temp/ipykernel_7100/3673173512.py:5: FutureWarning: The frame.append method is deprecated and will be removed from pandas in a future version. Use pandas.concat instead.\n",
      "  output_df = output_df.append(df)\n"
     ]
    },
    {
     "name": "stdout",
     "output_type": "stream",
     "text": [
      "Skipping row\n"
     ]
    },
    {
     "name": "stderr",
     "output_type": "stream",
     "text": [
      "C:\\Users\\Kimbe\\AppData\\Local\\Temp/ipykernel_7100/3673173512.py:5: FutureWarning: The frame.append method is deprecated and will be removed from pandas in a future version. Use pandas.concat instead.\n",
      "  output_df = output_df.append(df)\n",
      "C:\\Users\\Kimbe\\AppData\\Local\\Temp/ipykernel_7100/3673173512.py:5: FutureWarning: The frame.append method is deprecated and will be removed from pandas in a future version. Use pandas.concat instead.\n",
      "  output_df = output_df.append(df)\n",
      "C:\\Users\\Kimbe\\AppData\\Local\\Temp/ipykernel_7100/3673173512.py:5: FutureWarning: The frame.append method is deprecated and will be removed from pandas in a future version. Use pandas.concat instead.\n",
      "  output_df = output_df.append(df)\n",
      "C:\\Users\\Kimbe\\AppData\\Local\\Temp/ipykernel_7100/3673173512.py:5: FutureWarning: The frame.append method is deprecated and will be removed from pandas in a future version. Use pandas.concat instead.\n",
      "  output_df = output_df.append(df)\n",
      "C:\\Users\\Kimbe\\AppData\\Local\\Temp/ipykernel_7100/3673173512.py:5: FutureWarning: The frame.append method is deprecated and will be removed from pandas in a future version. Use pandas.concat instead.\n",
      "  output_df = output_df.append(df)\n",
      "C:\\Users\\Kimbe\\AppData\\Local\\Temp/ipykernel_7100/3673173512.py:5: FutureWarning: The frame.append method is deprecated and will be removed from pandas in a future version. Use pandas.concat instead.\n",
      "  output_df = output_df.append(df)\n",
      "C:\\Users\\Kimbe\\AppData\\Local\\Temp/ipykernel_7100/3673173512.py:5: FutureWarning: The frame.append method is deprecated and will be removed from pandas in a future version. Use pandas.concat instead.\n",
      "  output_df = output_df.append(df)\n",
      "C:\\Users\\Kimbe\\AppData\\Local\\Temp/ipykernel_7100/3673173512.py:5: FutureWarning: The frame.append method is deprecated and will be removed from pandas in a future version. Use pandas.concat instead.\n",
      "  output_df = output_df.append(df)\n",
      "C:\\Users\\Kimbe\\AppData\\Local\\Temp/ipykernel_7100/3673173512.py:5: FutureWarning: The frame.append method is deprecated and will be removed from pandas in a future version. Use pandas.concat instead.\n",
      "  output_df = output_df.append(df)\n",
      "C:\\Users\\Kimbe\\AppData\\Local\\Temp/ipykernel_7100/3673173512.py:5: FutureWarning: The frame.append method is deprecated and will be removed from pandas in a future version. Use pandas.concat instead.\n",
      "  output_df = output_df.append(df)\n"
     ]
    },
    {
     "name": "stdout",
     "output_type": "stream",
     "text": [
      "Skipping row\n"
     ]
    },
    {
     "name": "stderr",
     "output_type": "stream",
     "text": [
      "C:\\Users\\Kimbe\\AppData\\Local\\Temp/ipykernel_7100/3673173512.py:5: FutureWarning: The frame.append method is deprecated and will be removed from pandas in a future version. Use pandas.concat instead.\n",
      "  output_df = output_df.append(df)\n",
      "C:\\Users\\Kimbe\\AppData\\Local\\Temp/ipykernel_7100/3673173512.py:5: FutureWarning: The frame.append method is deprecated and will be removed from pandas in a future version. Use pandas.concat instead.\n",
      "  output_df = output_df.append(df)\n",
      "C:\\Users\\Kimbe\\AppData\\Local\\Temp/ipykernel_7100/3673173512.py:5: FutureWarning: The frame.append method is deprecated and will be removed from pandas in a future version. Use pandas.concat instead.\n",
      "  output_df = output_df.append(df)\n",
      "C:\\Users\\Kimbe\\AppData\\Local\\Temp/ipykernel_7100/3673173512.py:5: FutureWarning: The frame.append method is deprecated and will be removed from pandas in a future version. Use pandas.concat instead.\n",
      "  output_df = output_df.append(df)\n",
      "C:\\Users\\Kimbe\\AppData\\Local\\Temp/ipykernel_7100/3673173512.py:5: FutureWarning: The frame.append method is deprecated and will be removed from pandas in a future version. Use pandas.concat instead.\n",
      "  output_df = output_df.append(df)\n",
      "C:\\Users\\Kimbe\\AppData\\Local\\Temp/ipykernel_7100/3673173512.py:5: FutureWarning: The frame.append method is deprecated and will be removed from pandas in a future version. Use pandas.concat instead.\n",
      "  output_df = output_df.append(df)\n",
      "C:\\Users\\Kimbe\\AppData\\Local\\Temp/ipykernel_7100/3673173512.py:5: FutureWarning: The frame.append method is deprecated and will be removed from pandas in a future version. Use pandas.concat instead.\n",
      "  output_df = output_df.append(df)\n",
      "C:\\Users\\Kimbe\\AppData\\Local\\Temp/ipykernel_7100/3673173512.py:5: FutureWarning: The frame.append method is deprecated and will be removed from pandas in a future version. Use pandas.concat instead.\n",
      "  output_df = output_df.append(df)\n",
      "C:\\Users\\Kimbe\\AppData\\Local\\Temp/ipykernel_7100/3673173512.py:5: FutureWarning: The frame.append method is deprecated and will be removed from pandas in a future version. Use pandas.concat instead.\n",
      "  output_df = output_df.append(df)\n",
      "C:\\Users\\Kimbe\\AppData\\Local\\Temp/ipykernel_7100/3673173512.py:5: FutureWarning: The frame.append method is deprecated and will be removed from pandas in a future version. Use pandas.concat instead.\n",
      "  output_df = output_df.append(df)\n",
      "C:\\Users\\Kimbe\\AppData\\Local\\Temp/ipykernel_7100/3673173512.py:5: FutureWarning: The frame.append method is deprecated and will be removed from pandas in a future version. Use pandas.concat instead.\n",
      "  output_df = output_df.append(df)\n"
     ]
    },
    {
     "name": "stdout",
     "output_type": "stream",
     "text": [
      "Skipping row\n"
     ]
    },
    {
     "name": "stderr",
     "output_type": "stream",
     "text": [
      "C:\\Users\\Kimbe\\AppData\\Local\\Temp/ipykernel_7100/3673173512.py:5: FutureWarning: The frame.append method is deprecated and will be removed from pandas in a future version. Use pandas.concat instead.\n",
      "  output_df = output_df.append(df)\n",
      "C:\\Users\\Kimbe\\AppData\\Local\\Temp/ipykernel_7100/3673173512.py:5: FutureWarning: The frame.append method is deprecated and will be removed from pandas in a future version. Use pandas.concat instead.\n",
      "  output_df = output_df.append(df)\n",
      "C:\\Users\\Kimbe\\AppData\\Local\\Temp/ipykernel_7100/3673173512.py:5: FutureWarning: The frame.append method is deprecated and will be removed from pandas in a future version. Use pandas.concat instead.\n",
      "  output_df = output_df.append(df)\n",
      "C:\\Users\\Kimbe\\AppData\\Local\\Temp/ipykernel_7100/3673173512.py:5: FutureWarning: The frame.append method is deprecated and will be removed from pandas in a future version. Use pandas.concat instead.\n",
      "  output_df = output_df.append(df)\n",
      "C:\\Users\\Kimbe\\AppData\\Local\\Temp/ipykernel_7100/3673173512.py:5: FutureWarning: The frame.append method is deprecated and will be removed from pandas in a future version. Use pandas.concat instead.\n",
      "  output_df = output_df.append(df)\n",
      "C:\\Users\\Kimbe\\AppData\\Local\\Temp/ipykernel_7100/3673173512.py:5: FutureWarning: The frame.append method is deprecated and will be removed from pandas in a future version. Use pandas.concat instead.\n",
      "  output_df = output_df.append(df)\n",
      "C:\\Users\\Kimbe\\AppData\\Local\\Temp/ipykernel_7100/3673173512.py:5: FutureWarning: The frame.append method is deprecated and will be removed from pandas in a future version. Use pandas.concat instead.\n",
      "  output_df = output_df.append(df)\n",
      "C:\\Users\\Kimbe\\AppData\\Local\\Temp/ipykernel_7100/3673173512.py:5: FutureWarning: The frame.append method is deprecated and will be removed from pandas in a future version. Use pandas.concat instead.\n",
      "  output_df = output_df.append(df)\n",
      "C:\\Users\\Kimbe\\AppData\\Local\\Temp/ipykernel_7100/3673173512.py:5: FutureWarning: The frame.append method is deprecated and will be removed from pandas in a future version. Use pandas.concat instead.\n",
      "  output_df = output_df.append(df)\n",
      "C:\\Users\\Kimbe\\AppData\\Local\\Temp/ipykernel_7100/3673173512.py:5: FutureWarning: The frame.append method is deprecated and will be removed from pandas in a future version. Use pandas.concat instead.\n",
      "  output_df = output_df.append(df)\n"
     ]
    },
    {
     "name": "stdout",
     "output_type": "stream",
     "text": [
      "Skipping row\n"
     ]
    },
    {
     "name": "stderr",
     "output_type": "stream",
     "text": [
      "C:\\Users\\Kimbe\\AppData\\Local\\Temp/ipykernel_7100/3673173512.py:5: FutureWarning: The frame.append method is deprecated and will be removed from pandas in a future version. Use pandas.concat instead.\n",
      "  output_df = output_df.append(df)\n",
      "C:\\Users\\Kimbe\\AppData\\Local\\Temp/ipykernel_7100/3673173512.py:5: FutureWarning: The frame.append method is deprecated and will be removed from pandas in a future version. Use pandas.concat instead.\n",
      "  output_df = output_df.append(df)\n",
      "C:\\Users\\Kimbe\\AppData\\Local\\Temp/ipykernel_7100/3673173512.py:5: FutureWarning: The frame.append method is deprecated and will be removed from pandas in a future version. Use pandas.concat instead.\n",
      "  output_df = output_df.append(df)\n",
      "C:\\Users\\Kimbe\\AppData\\Local\\Temp/ipykernel_7100/3673173512.py:5: FutureWarning: The frame.append method is deprecated and will be removed from pandas in a future version. Use pandas.concat instead.\n",
      "  output_df = output_df.append(df)\n",
      "C:\\Users\\Kimbe\\AppData\\Local\\Temp/ipykernel_7100/3673173512.py:5: FutureWarning: The frame.append method is deprecated and will be removed from pandas in a future version. Use pandas.concat instead.\n",
      "  output_df = output_df.append(df)\n",
      "C:\\Users\\Kimbe\\AppData\\Local\\Temp/ipykernel_7100/3673173512.py:5: FutureWarning: The frame.append method is deprecated and will be removed from pandas in a future version. Use pandas.concat instead.\n",
      "  output_df = output_df.append(df)\n",
      "C:\\Users\\Kimbe\\AppData\\Local\\Temp/ipykernel_7100/3673173512.py:5: FutureWarning: The frame.append method is deprecated and will be removed from pandas in a future version. Use pandas.concat instead.\n",
      "  output_df = output_df.append(df)\n",
      "C:\\Users\\Kimbe\\AppData\\Local\\Temp/ipykernel_7100/3673173512.py:5: FutureWarning: The frame.append method is deprecated and will be removed from pandas in a future version. Use pandas.concat instead.\n",
      "  output_df = output_df.append(df)\n",
      "C:\\Users\\Kimbe\\AppData\\Local\\Temp/ipykernel_7100/3673173512.py:5: FutureWarning: The frame.append method is deprecated and will be removed from pandas in a future version. Use pandas.concat instead.\n",
      "  output_df = output_df.append(df)\n",
      "C:\\Users\\Kimbe\\AppData\\Local\\Temp/ipykernel_7100/3673173512.py:5: FutureWarning: The frame.append method is deprecated and will be removed from pandas in a future version. Use pandas.concat instead.\n",
      "  output_df = output_df.append(df)\n"
     ]
    },
    {
     "name": "stdout",
     "output_type": "stream",
     "text": [
      "Skipping row\n"
     ]
    },
    {
     "name": "stderr",
     "output_type": "stream",
     "text": [
      "C:\\Users\\Kimbe\\AppData\\Local\\Temp/ipykernel_7100/3673173512.py:5: FutureWarning: The frame.append method is deprecated and will be removed from pandas in a future version. Use pandas.concat instead.\n",
      "  output_df = output_df.append(df)\n",
      "C:\\Users\\Kimbe\\AppData\\Local\\Temp/ipykernel_7100/3673173512.py:5: FutureWarning: The frame.append method is deprecated and will be removed from pandas in a future version. Use pandas.concat instead.\n",
      "  output_df = output_df.append(df)\n",
      "C:\\Users\\Kimbe\\AppData\\Local\\Temp/ipykernel_7100/3673173512.py:5: FutureWarning: The frame.append method is deprecated and will be removed from pandas in a future version. Use pandas.concat instead.\n",
      "  output_df = output_df.append(df)\n",
      "C:\\Users\\Kimbe\\AppData\\Local\\Temp/ipykernel_7100/3673173512.py:5: FutureWarning: The frame.append method is deprecated and will be removed from pandas in a future version. Use pandas.concat instead.\n",
      "  output_df = output_df.append(df)\n",
      "C:\\Users\\Kimbe\\AppData\\Local\\Temp/ipykernel_7100/3673173512.py:5: FutureWarning: The frame.append method is deprecated and will be removed from pandas in a future version. Use pandas.concat instead.\n",
      "  output_df = output_df.append(df)\n",
      "C:\\Users\\Kimbe\\AppData\\Local\\Temp/ipykernel_7100/3673173512.py:5: FutureWarning: The frame.append method is deprecated and will be removed from pandas in a future version. Use pandas.concat instead.\n",
      "  output_df = output_df.append(df)\n",
      "C:\\Users\\Kimbe\\AppData\\Local\\Temp/ipykernel_7100/3673173512.py:5: FutureWarning: The frame.append method is deprecated and will be removed from pandas in a future version. Use pandas.concat instead.\n",
      "  output_df = output_df.append(df)\n",
      "C:\\Users\\Kimbe\\AppData\\Local\\Temp/ipykernel_7100/3673173512.py:5: FutureWarning: The frame.append method is deprecated and will be removed from pandas in a future version. Use pandas.concat instead.\n",
      "  output_df = output_df.append(df)\n",
      "C:\\Users\\Kimbe\\AppData\\Local\\Temp/ipykernel_7100/3673173512.py:5: FutureWarning: The frame.append method is deprecated and will be removed from pandas in a future version. Use pandas.concat instead.\n",
      "  output_df = output_df.append(df)\n",
      "C:\\Users\\Kimbe\\AppData\\Local\\Temp/ipykernel_7100/3673173512.py:5: FutureWarning: The frame.append method is deprecated and will be removed from pandas in a future version. Use pandas.concat instead.\n",
      "  output_df = output_df.append(df)\n",
      "C:\\Users\\Kimbe\\AppData\\Local\\Temp/ipykernel_7100/3673173512.py:5: FutureWarning: The frame.append method is deprecated and will be removed from pandas in a future version. Use pandas.concat instead.\n",
      "  output_df = output_df.append(df)\n"
     ]
    },
    {
     "name": "stdout",
     "output_type": "stream",
     "text": [
      "Skipping row\n"
     ]
    },
    {
     "name": "stderr",
     "output_type": "stream",
     "text": [
      "C:\\Users\\Kimbe\\AppData\\Local\\Temp/ipykernel_7100/3673173512.py:5: FutureWarning: The frame.append method is deprecated and will be removed from pandas in a future version. Use pandas.concat instead.\n",
      "  output_df = output_df.append(df)\n",
      "C:\\Users\\Kimbe\\AppData\\Local\\Temp/ipykernel_7100/3673173512.py:5: FutureWarning: The frame.append method is deprecated and will be removed from pandas in a future version. Use pandas.concat instead.\n",
      "  output_df = output_df.append(df)\n",
      "C:\\Users\\Kimbe\\AppData\\Local\\Temp/ipykernel_7100/3673173512.py:5: FutureWarning: The frame.append method is deprecated and will be removed from pandas in a future version. Use pandas.concat instead.\n",
      "  output_df = output_df.append(df)\n",
      "C:\\Users\\Kimbe\\AppData\\Local\\Temp/ipykernel_7100/3673173512.py:5: FutureWarning: The frame.append method is deprecated and will be removed from pandas in a future version. Use pandas.concat instead.\n",
      "  output_df = output_df.append(df)\n",
      "C:\\Users\\Kimbe\\AppData\\Local\\Temp/ipykernel_7100/3673173512.py:5: FutureWarning: The frame.append method is deprecated and will be removed from pandas in a future version. Use pandas.concat instead.\n",
      "  output_df = output_df.append(df)\n",
      "C:\\Users\\Kimbe\\AppData\\Local\\Temp/ipykernel_7100/3673173512.py:5: FutureWarning: The frame.append method is deprecated and will be removed from pandas in a future version. Use pandas.concat instead.\n",
      "  output_df = output_df.append(df)\n",
      "C:\\Users\\Kimbe\\AppData\\Local\\Temp/ipykernel_7100/3673173512.py:5: FutureWarning: The frame.append method is deprecated and will be removed from pandas in a future version. Use pandas.concat instead.\n",
      "  output_df = output_df.append(df)\n",
      "C:\\Users\\Kimbe\\AppData\\Local\\Temp/ipykernel_7100/3673173512.py:5: FutureWarning: The frame.append method is deprecated and will be removed from pandas in a future version. Use pandas.concat instead.\n",
      "  output_df = output_df.append(df)\n",
      "C:\\Users\\Kimbe\\AppData\\Local\\Temp/ipykernel_7100/3673173512.py:5: FutureWarning: The frame.append method is deprecated and will be removed from pandas in a future version. Use pandas.concat instead.\n",
      "  output_df = output_df.append(df)\n",
      "C:\\Users\\Kimbe\\AppData\\Local\\Temp/ipykernel_7100/3673173512.py:5: FutureWarning: The frame.append method is deprecated and will be removed from pandas in a future version. Use pandas.concat instead.\n",
      "  output_df = output_df.append(df)\n",
      "C:\\Users\\Kimbe\\AppData\\Local\\Temp/ipykernel_7100/3673173512.py:5: FutureWarning: The frame.append method is deprecated and will be removed from pandas in a future version. Use pandas.concat instead.\n",
      "  output_df = output_df.append(df)\n"
     ]
    },
    {
     "name": "stdout",
     "output_type": "stream",
     "text": [
      "Skipping row\n"
     ]
    },
    {
     "name": "stderr",
     "output_type": "stream",
     "text": [
      "C:\\Users\\Kimbe\\AppData\\Local\\Temp/ipykernel_7100/3673173512.py:5: FutureWarning: The frame.append method is deprecated and will be removed from pandas in a future version. Use pandas.concat instead.\n",
      "  output_df = output_df.append(df)\n",
      "C:\\Users\\Kimbe\\AppData\\Local\\Temp/ipykernel_7100/3673173512.py:5: FutureWarning: The frame.append method is deprecated and will be removed from pandas in a future version. Use pandas.concat instead.\n",
      "  output_df = output_df.append(df)\n",
      "C:\\Users\\Kimbe\\AppData\\Local\\Temp/ipykernel_7100/3673173512.py:5: FutureWarning: The frame.append method is deprecated and will be removed from pandas in a future version. Use pandas.concat instead.\n",
      "  output_df = output_df.append(df)\n",
      "C:\\Users\\Kimbe\\AppData\\Local\\Temp/ipykernel_7100/3673173512.py:5: FutureWarning: The frame.append method is deprecated and will be removed from pandas in a future version. Use pandas.concat instead.\n",
      "  output_df = output_df.append(df)\n",
      "C:\\Users\\Kimbe\\AppData\\Local\\Temp/ipykernel_7100/3673173512.py:5: FutureWarning: The frame.append method is deprecated and will be removed from pandas in a future version. Use pandas.concat instead.\n",
      "  output_df = output_df.append(df)\n",
      "C:\\Users\\Kimbe\\AppData\\Local\\Temp/ipykernel_7100/3673173512.py:5: FutureWarning: The frame.append method is deprecated and will be removed from pandas in a future version. Use pandas.concat instead.\n",
      "  output_df = output_df.append(df)\n",
      "C:\\Users\\Kimbe\\AppData\\Local\\Temp/ipykernel_7100/3673173512.py:5: FutureWarning: The frame.append method is deprecated and will be removed from pandas in a future version. Use pandas.concat instead.\n",
      "  output_df = output_df.append(df)\n",
      "C:\\Users\\Kimbe\\AppData\\Local\\Temp/ipykernel_7100/3673173512.py:5: FutureWarning: The frame.append method is deprecated and will be removed from pandas in a future version. Use pandas.concat instead.\n",
      "  output_df = output_df.append(df)\n",
      "C:\\Users\\Kimbe\\AppData\\Local\\Temp/ipykernel_7100/3673173512.py:5: FutureWarning: The frame.append method is deprecated and will be removed from pandas in a future version. Use pandas.concat instead.\n",
      "  output_df = output_df.append(df)\n",
      "C:\\Users\\Kimbe\\AppData\\Local\\Temp/ipykernel_7100/3673173512.py:5: FutureWarning: The frame.append method is deprecated and will be removed from pandas in a future version. Use pandas.concat instead.\n",
      "  output_df = output_df.append(df)\n",
      "C:\\Users\\Kimbe\\AppData\\Local\\Temp/ipykernel_7100/3673173512.py:5: FutureWarning: The frame.append method is deprecated and will be removed from pandas in a future version. Use pandas.concat instead.\n",
      "  output_df = output_df.append(df)\n"
     ]
    },
    {
     "name": "stdout",
     "output_type": "stream",
     "text": [
      "Skipping row\n"
     ]
    },
    {
     "name": "stderr",
     "output_type": "stream",
     "text": [
      "C:\\Users\\Kimbe\\AppData\\Local\\Temp/ipykernel_7100/3673173512.py:5: FutureWarning: The frame.append method is deprecated and will be removed from pandas in a future version. Use pandas.concat instead.\n",
      "  output_df = output_df.append(df)\n",
      "C:\\Users\\Kimbe\\AppData\\Local\\Temp/ipykernel_7100/3673173512.py:5: FutureWarning: The frame.append method is deprecated and will be removed from pandas in a future version. Use pandas.concat instead.\n",
      "  output_df = output_df.append(df)\n",
      "C:\\Users\\Kimbe\\AppData\\Local\\Temp/ipykernel_7100/3673173512.py:5: FutureWarning: The frame.append method is deprecated and will be removed from pandas in a future version. Use pandas.concat instead.\n",
      "  output_df = output_df.append(df)\n",
      "C:\\Users\\Kimbe\\AppData\\Local\\Temp/ipykernel_7100/3673173512.py:5: FutureWarning: The frame.append method is deprecated and will be removed from pandas in a future version. Use pandas.concat instead.\n",
      "  output_df = output_df.append(df)\n",
      "C:\\Users\\Kimbe\\AppData\\Local\\Temp/ipykernel_7100/3673173512.py:5: FutureWarning: The frame.append method is deprecated and will be removed from pandas in a future version. Use pandas.concat instead.\n",
      "  output_df = output_df.append(df)\n",
      "C:\\Users\\Kimbe\\AppData\\Local\\Temp/ipykernel_7100/3673173512.py:5: FutureWarning: The frame.append method is deprecated and will be removed from pandas in a future version. Use pandas.concat instead.\n",
      "  output_df = output_df.append(df)\n",
      "C:\\Users\\Kimbe\\AppData\\Local\\Temp/ipykernel_7100/3673173512.py:5: FutureWarning: The frame.append method is deprecated and will be removed from pandas in a future version. Use pandas.concat instead.\n",
      "  output_df = output_df.append(df)\n",
      "C:\\Users\\Kimbe\\AppData\\Local\\Temp/ipykernel_7100/3673173512.py:5: FutureWarning: The frame.append method is deprecated and will be removed from pandas in a future version. Use pandas.concat instead.\n",
      "  output_df = output_df.append(df)\n",
      "C:\\Users\\Kimbe\\AppData\\Local\\Temp/ipykernel_7100/3673173512.py:5: FutureWarning: The frame.append method is deprecated and will be removed from pandas in a future version. Use pandas.concat instead.\n",
      "  output_df = output_df.append(df)\n",
      "C:\\Users\\Kimbe\\AppData\\Local\\Temp/ipykernel_7100/3673173512.py:5: FutureWarning: The frame.append method is deprecated and will be removed from pandas in a future version. Use pandas.concat instead.\n",
      "  output_df = output_df.append(df)\n",
      "C:\\Users\\Kimbe\\AppData\\Local\\Temp/ipykernel_7100/3673173512.py:5: FutureWarning: The frame.append method is deprecated and will be removed from pandas in a future version. Use pandas.concat instead.\n",
      "  output_df = output_df.append(df)\n"
     ]
    },
    {
     "name": "stdout",
     "output_type": "stream",
     "text": [
      "Skipping row\n"
     ]
    },
    {
     "name": "stderr",
     "output_type": "stream",
     "text": [
      "C:\\Users\\Kimbe\\AppData\\Local\\Temp/ipykernel_7100/3673173512.py:5: FutureWarning: The frame.append method is deprecated and will be removed from pandas in a future version. Use pandas.concat instead.\n",
      "  output_df = output_df.append(df)\n",
      "C:\\Users\\Kimbe\\AppData\\Local\\Temp/ipykernel_7100/3673173512.py:5: FutureWarning: The frame.append method is deprecated and will be removed from pandas in a future version. Use pandas.concat instead.\n",
      "  output_df = output_df.append(df)\n",
      "C:\\Users\\Kimbe\\AppData\\Local\\Temp/ipykernel_7100/3673173512.py:5: FutureWarning: The frame.append method is deprecated and will be removed from pandas in a future version. Use pandas.concat instead.\n",
      "  output_df = output_df.append(df)\n",
      "C:\\Users\\Kimbe\\AppData\\Local\\Temp/ipykernel_7100/3673173512.py:5: FutureWarning: The frame.append method is deprecated and will be removed from pandas in a future version. Use pandas.concat instead.\n",
      "  output_df = output_df.append(df)\n",
      "C:\\Users\\Kimbe\\AppData\\Local\\Temp/ipykernel_7100/3673173512.py:5: FutureWarning: The frame.append method is deprecated and will be removed from pandas in a future version. Use pandas.concat instead.\n",
      "  output_df = output_df.append(df)\n",
      "C:\\Users\\Kimbe\\AppData\\Local\\Temp/ipykernel_7100/3673173512.py:5: FutureWarning: The frame.append method is deprecated and will be removed from pandas in a future version. Use pandas.concat instead.\n",
      "  output_df = output_df.append(df)\n",
      "C:\\Users\\Kimbe\\AppData\\Local\\Temp/ipykernel_7100/3673173512.py:5: FutureWarning: The frame.append method is deprecated and will be removed from pandas in a future version. Use pandas.concat instead.\n",
      "  output_df = output_df.append(df)\n",
      "C:\\Users\\Kimbe\\AppData\\Local\\Temp/ipykernel_7100/3673173512.py:5: FutureWarning: The frame.append method is deprecated and will be removed from pandas in a future version. Use pandas.concat instead.\n",
      "  output_df = output_df.append(df)\n",
      "C:\\Users\\Kimbe\\AppData\\Local\\Temp/ipykernel_7100/3673173512.py:5: FutureWarning: The frame.append method is deprecated and will be removed from pandas in a future version. Use pandas.concat instead.\n",
      "  output_df = output_df.append(df)\n",
      "C:\\Users\\Kimbe\\AppData\\Local\\Temp/ipykernel_7100/3673173512.py:5: FutureWarning: The frame.append method is deprecated and will be removed from pandas in a future version. Use pandas.concat instead.\n",
      "  output_df = output_df.append(df)\n",
      "C:\\Users\\Kimbe\\AppData\\Local\\Temp/ipykernel_7100/3673173512.py:5: FutureWarning: The frame.append method is deprecated and will be removed from pandas in a future version. Use pandas.concat instead.\n",
      "  output_df = output_df.append(df)\n",
      "C:\\Users\\Kimbe\\AppData\\Local\\Temp/ipykernel_7100/3673173512.py:5: FutureWarning: The frame.append method is deprecated and will be removed from pandas in a future version. Use pandas.concat instead.\n",
      "  output_df = output_df.append(df)\n",
      "C:\\Users\\Kimbe\\AppData\\Local\\Temp/ipykernel_7100/3673173512.py:5: FutureWarning: The frame.append method is deprecated and will be removed from pandas in a future version. Use pandas.concat instead.\n",
      "  output_df = output_df.append(df)\n",
      "C:\\Users\\Kimbe\\AppData\\Local\\Temp/ipykernel_7100/3673173512.py:5: FutureWarning: The frame.append method is deprecated and will be removed from pandas in a future version. Use pandas.concat instead.\n",
      "  output_df = output_df.append(df)\n",
      "C:\\Users\\Kimbe\\AppData\\Local\\Temp/ipykernel_7100/3673173512.py:5: FutureWarning: The frame.append method is deprecated and will be removed from pandas in a future version. Use pandas.concat instead.\n",
      "  output_df = output_df.append(df)\n",
      "C:\\Users\\Kimbe\\AppData\\Local\\Temp/ipykernel_7100/3673173512.py:5: FutureWarning: The frame.append method is deprecated and will be removed from pandas in a future version. Use pandas.concat instead.\n",
      "  output_df = output_df.append(df)\n",
      "C:\\Users\\Kimbe\\AppData\\Local\\Temp/ipykernel_7100/3673173512.py:5: FutureWarning: The frame.append method is deprecated and will be removed from pandas in a future version. Use pandas.concat instead.\n",
      "  output_df = output_df.append(df)\n",
      "C:\\Users\\Kimbe\\AppData\\Local\\Temp/ipykernel_7100/3673173512.py:5: FutureWarning: The frame.append method is deprecated and will be removed from pandas in a future version. Use pandas.concat instead.\n",
      "  output_df = output_df.append(df)\n",
      "C:\\Users\\Kimbe\\AppData\\Local\\Temp/ipykernel_7100/3673173512.py:5: FutureWarning: The frame.append method is deprecated and will be removed from pandas in a future version. Use pandas.concat instead.\n",
      "  output_df = output_df.append(df)\n",
      "C:\\Users\\Kimbe\\AppData\\Local\\Temp/ipykernel_7100/3673173512.py:5: FutureWarning: The frame.append method is deprecated and will be removed from pandas in a future version. Use pandas.concat instead.\n",
      "  output_df = output_df.append(df)\n"
     ]
    },
    {
     "name": "stdout",
     "output_type": "stream",
     "text": [
      "Skipping row\n"
     ]
    },
    {
     "name": "stderr",
     "output_type": "stream",
     "text": [
      "C:\\Users\\Kimbe\\AppData\\Local\\Temp/ipykernel_7100/3673173512.py:5: FutureWarning: The frame.append method is deprecated and will be removed from pandas in a future version. Use pandas.concat instead.\n",
      "  output_df = output_df.append(df)\n",
      "C:\\Users\\Kimbe\\AppData\\Local\\Temp/ipykernel_7100/3673173512.py:5: FutureWarning: The frame.append method is deprecated and will be removed from pandas in a future version. Use pandas.concat instead.\n",
      "  output_df = output_df.append(df)\n",
      "C:\\Users\\Kimbe\\AppData\\Local\\Temp/ipykernel_7100/3673173512.py:5: FutureWarning: The frame.append method is deprecated and will be removed from pandas in a future version. Use pandas.concat instead.\n",
      "  output_df = output_df.append(df)\n",
      "C:\\Users\\Kimbe\\AppData\\Local\\Temp/ipykernel_7100/3673173512.py:5: FutureWarning: The frame.append method is deprecated and will be removed from pandas in a future version. Use pandas.concat instead.\n",
      "  output_df = output_df.append(df)\n",
      "C:\\Users\\Kimbe\\AppData\\Local\\Temp/ipykernel_7100/3673173512.py:5: FutureWarning: The frame.append method is deprecated and will be removed from pandas in a future version. Use pandas.concat instead.\n",
      "  output_df = output_df.append(df)\n",
      "C:\\Users\\Kimbe\\AppData\\Local\\Temp/ipykernel_7100/3673173512.py:5: FutureWarning: The frame.append method is deprecated and will be removed from pandas in a future version. Use pandas.concat instead.\n",
      "  output_df = output_df.append(df)\n",
      "C:\\Users\\Kimbe\\AppData\\Local\\Temp/ipykernel_7100/3673173512.py:5: FutureWarning: The frame.append method is deprecated and will be removed from pandas in a future version. Use pandas.concat instead.\n",
      "  output_df = output_df.append(df)\n",
      "C:\\Users\\Kimbe\\AppData\\Local\\Temp/ipykernel_7100/3673173512.py:5: FutureWarning: The frame.append method is deprecated and will be removed from pandas in a future version. Use pandas.concat instead.\n",
      "  output_df = output_df.append(df)\n",
      "C:\\Users\\Kimbe\\AppData\\Local\\Temp/ipykernel_7100/3673173512.py:5: FutureWarning: The frame.append method is deprecated and will be removed from pandas in a future version. Use pandas.concat instead.\n",
      "  output_df = output_df.append(df)\n",
      "C:\\Users\\Kimbe\\AppData\\Local\\Temp/ipykernel_7100/3673173512.py:5: FutureWarning: The frame.append method is deprecated and will be removed from pandas in a future version. Use pandas.concat instead.\n",
      "  output_df = output_df.append(df)\n"
     ]
    },
    {
     "name": "stdout",
     "output_type": "stream",
     "text": [
      "Skipping row\n"
     ]
    },
    {
     "name": "stderr",
     "output_type": "stream",
     "text": [
      "C:\\Users\\Kimbe\\AppData\\Local\\Temp/ipykernel_7100/3673173512.py:5: FutureWarning: The frame.append method is deprecated and will be removed from pandas in a future version. Use pandas.concat instead.\n",
      "  output_df = output_df.append(df)\n",
      "C:\\Users\\Kimbe\\AppData\\Local\\Temp/ipykernel_7100/3673173512.py:5: FutureWarning: The frame.append method is deprecated and will be removed from pandas in a future version. Use pandas.concat instead.\n",
      "  output_df = output_df.append(df)\n",
      "C:\\Users\\Kimbe\\AppData\\Local\\Temp/ipykernel_7100/3673173512.py:5: FutureWarning: The frame.append method is deprecated and will be removed from pandas in a future version. Use pandas.concat instead.\n",
      "  output_df = output_df.append(df)\n",
      "C:\\Users\\Kimbe\\AppData\\Local\\Temp/ipykernel_7100/3673173512.py:5: FutureWarning: The frame.append method is deprecated and will be removed from pandas in a future version. Use pandas.concat instead.\n",
      "  output_df = output_df.append(df)\n",
      "C:\\Users\\Kimbe\\AppData\\Local\\Temp/ipykernel_7100/3673173512.py:5: FutureWarning: The frame.append method is deprecated and will be removed from pandas in a future version. Use pandas.concat instead.\n",
      "  output_df = output_df.append(df)\n",
      "C:\\Users\\Kimbe\\AppData\\Local\\Temp/ipykernel_7100/3673173512.py:5: FutureWarning: The frame.append method is deprecated and will be removed from pandas in a future version. Use pandas.concat instead.\n",
      "  output_df = output_df.append(df)\n",
      "C:\\Users\\Kimbe\\AppData\\Local\\Temp/ipykernel_7100/3673173512.py:5: FutureWarning: The frame.append method is deprecated and will be removed from pandas in a future version. Use pandas.concat instead.\n",
      "  output_df = output_df.append(df)\n",
      "C:\\Users\\Kimbe\\AppData\\Local\\Temp/ipykernel_7100/3673173512.py:5: FutureWarning: The frame.append method is deprecated and will be removed from pandas in a future version. Use pandas.concat instead.\n",
      "  output_df = output_df.append(df)\n",
      "C:\\Users\\Kimbe\\AppData\\Local\\Temp/ipykernel_7100/3673173512.py:5: FutureWarning: The frame.append method is deprecated and will be removed from pandas in a future version. Use pandas.concat instead.\n",
      "  output_df = output_df.append(df)\n",
      "C:\\Users\\Kimbe\\AppData\\Local\\Temp/ipykernel_7100/3673173512.py:5: FutureWarning: The frame.append method is deprecated and will be removed from pandas in a future version. Use pandas.concat instead.\n",
      "  output_df = output_df.append(df)\n",
      "C:\\Users\\Kimbe\\AppData\\Local\\Temp/ipykernel_7100/3673173512.py:5: FutureWarning: The frame.append method is deprecated and will be removed from pandas in a future version. Use pandas.concat instead.\n",
      "  output_df = output_df.append(df)\n"
     ]
    },
    {
     "name": "stdout",
     "output_type": "stream",
     "text": [
      "Skipping row\n"
     ]
    },
    {
     "name": "stderr",
     "output_type": "stream",
     "text": [
      "C:\\Users\\Kimbe\\AppData\\Local\\Temp/ipykernel_7100/3673173512.py:5: FutureWarning: The frame.append method is deprecated and will be removed from pandas in a future version. Use pandas.concat instead.\n",
      "  output_df = output_df.append(df)\n",
      "C:\\Users\\Kimbe\\AppData\\Local\\Temp/ipykernel_7100/3673173512.py:5: FutureWarning: The frame.append method is deprecated and will be removed from pandas in a future version. Use pandas.concat instead.\n",
      "  output_df = output_df.append(df)\n",
      "C:\\Users\\Kimbe\\AppData\\Local\\Temp/ipykernel_7100/3673173512.py:5: FutureWarning: The frame.append method is deprecated and will be removed from pandas in a future version. Use pandas.concat instead.\n",
      "  output_df = output_df.append(df)\n",
      "C:\\Users\\Kimbe\\AppData\\Local\\Temp/ipykernel_7100/3673173512.py:5: FutureWarning: The frame.append method is deprecated and will be removed from pandas in a future version. Use pandas.concat instead.\n",
      "  output_df = output_df.append(df)\n",
      "C:\\Users\\Kimbe\\AppData\\Local\\Temp/ipykernel_7100/3673173512.py:5: FutureWarning: The frame.append method is deprecated and will be removed from pandas in a future version. Use pandas.concat instead.\n",
      "  output_df = output_df.append(df)\n",
      "C:\\Users\\Kimbe\\AppData\\Local\\Temp/ipykernel_7100/3673173512.py:5: FutureWarning: The frame.append method is deprecated and will be removed from pandas in a future version. Use pandas.concat instead.\n",
      "  output_df = output_df.append(df)\n",
      "C:\\Users\\Kimbe\\AppData\\Local\\Temp/ipykernel_7100/3673173512.py:5: FutureWarning: The frame.append method is deprecated and will be removed from pandas in a future version. Use pandas.concat instead.\n",
      "  output_df = output_df.append(df)\n",
      "C:\\Users\\Kimbe\\AppData\\Local\\Temp/ipykernel_7100/3673173512.py:5: FutureWarning: The frame.append method is deprecated and will be removed from pandas in a future version. Use pandas.concat instead.\n",
      "  output_df = output_df.append(df)\n",
      "C:\\Users\\Kimbe\\AppData\\Local\\Temp/ipykernel_7100/3673173512.py:5: FutureWarning: The frame.append method is deprecated and will be removed from pandas in a future version. Use pandas.concat instead.\n",
      "  output_df = output_df.append(df)\n",
      "C:\\Users\\Kimbe\\AppData\\Local\\Temp/ipykernel_7100/3673173512.py:5: FutureWarning: The frame.append method is deprecated and will be removed from pandas in a future version. Use pandas.concat instead.\n",
      "  output_df = output_df.append(df)\n"
     ]
    },
    {
     "name": "stdout",
     "output_type": "stream",
     "text": [
      "Skipping row\n"
     ]
    },
    {
     "name": "stderr",
     "output_type": "stream",
     "text": [
      "C:\\Users\\Kimbe\\AppData\\Local\\Temp/ipykernel_7100/3673173512.py:5: FutureWarning: The frame.append method is deprecated and will be removed from pandas in a future version. Use pandas.concat instead.\n",
      "  output_df = output_df.append(df)\n",
      "C:\\Users\\Kimbe\\AppData\\Local\\Temp/ipykernel_7100/3673173512.py:5: FutureWarning: The frame.append method is deprecated and will be removed from pandas in a future version. Use pandas.concat instead.\n",
      "  output_df = output_df.append(df)\n",
      "C:\\Users\\Kimbe\\AppData\\Local\\Temp/ipykernel_7100/3673173512.py:5: FutureWarning: The frame.append method is deprecated and will be removed from pandas in a future version. Use pandas.concat instead.\n",
      "  output_df = output_df.append(df)\n",
      "C:\\Users\\Kimbe\\AppData\\Local\\Temp/ipykernel_7100/3673173512.py:5: FutureWarning: The frame.append method is deprecated and will be removed from pandas in a future version. Use pandas.concat instead.\n",
      "  output_df = output_df.append(df)\n",
      "C:\\Users\\Kimbe\\AppData\\Local\\Temp/ipykernel_7100/3673173512.py:5: FutureWarning: The frame.append method is deprecated and will be removed from pandas in a future version. Use pandas.concat instead.\n",
      "  output_df = output_df.append(df)\n",
      "C:\\Users\\Kimbe\\AppData\\Local\\Temp/ipykernel_7100/3673173512.py:5: FutureWarning: The frame.append method is deprecated and will be removed from pandas in a future version. Use pandas.concat instead.\n",
      "  output_df = output_df.append(df)\n",
      "C:\\Users\\Kimbe\\AppData\\Local\\Temp/ipykernel_7100/3673173512.py:5: FutureWarning: The frame.append method is deprecated and will be removed from pandas in a future version. Use pandas.concat instead.\n",
      "  output_df = output_df.append(df)\n",
      "C:\\Users\\Kimbe\\AppData\\Local\\Temp/ipykernel_7100/3673173512.py:5: FutureWarning: The frame.append method is deprecated and will be removed from pandas in a future version. Use pandas.concat instead.\n",
      "  output_df = output_df.append(df)\n",
      "C:\\Users\\Kimbe\\AppData\\Local\\Temp/ipykernel_7100/3673173512.py:5: FutureWarning: The frame.append method is deprecated and will be removed from pandas in a future version. Use pandas.concat instead.\n",
      "  output_df = output_df.append(df)\n",
      "C:\\Users\\Kimbe\\AppData\\Local\\Temp/ipykernel_7100/3673173512.py:5: FutureWarning: The frame.append method is deprecated and will be removed from pandas in a future version. Use pandas.concat instead.\n",
      "  output_df = output_df.append(df)\n"
     ]
    },
    {
     "name": "stdout",
     "output_type": "stream",
     "text": [
      "Skipping row\n"
     ]
    },
    {
     "name": "stderr",
     "output_type": "stream",
     "text": [
      "C:\\Users\\Kimbe\\AppData\\Local\\Temp/ipykernel_7100/3673173512.py:5: FutureWarning: The frame.append method is deprecated and will be removed from pandas in a future version. Use pandas.concat instead.\n",
      "  output_df = output_df.append(df)\n",
      "C:\\Users\\Kimbe\\AppData\\Local\\Temp/ipykernel_7100/3673173512.py:5: FutureWarning: The frame.append method is deprecated and will be removed from pandas in a future version. Use pandas.concat instead.\n",
      "  output_df = output_df.append(df)\n",
      "C:\\Users\\Kimbe\\AppData\\Local\\Temp/ipykernel_7100/3673173512.py:5: FutureWarning: The frame.append method is deprecated and will be removed from pandas in a future version. Use pandas.concat instead.\n",
      "  output_df = output_df.append(df)\n",
      "C:\\Users\\Kimbe\\AppData\\Local\\Temp/ipykernel_7100/3673173512.py:5: FutureWarning: The frame.append method is deprecated and will be removed from pandas in a future version. Use pandas.concat instead.\n",
      "  output_df = output_df.append(df)\n",
      "C:\\Users\\Kimbe\\AppData\\Local\\Temp/ipykernel_7100/3673173512.py:5: FutureWarning: The frame.append method is deprecated and will be removed from pandas in a future version. Use pandas.concat instead.\n",
      "  output_df = output_df.append(df)\n",
      "C:\\Users\\Kimbe\\AppData\\Local\\Temp/ipykernel_7100/3673173512.py:5: FutureWarning: The frame.append method is deprecated and will be removed from pandas in a future version. Use pandas.concat instead.\n",
      "  output_df = output_df.append(df)\n",
      "C:\\Users\\Kimbe\\AppData\\Local\\Temp/ipykernel_7100/3673173512.py:5: FutureWarning: The frame.append method is deprecated and will be removed from pandas in a future version. Use pandas.concat instead.\n",
      "  output_df = output_df.append(df)\n",
      "C:\\Users\\Kimbe\\AppData\\Local\\Temp/ipykernel_7100/3673173512.py:5: FutureWarning: The frame.append method is deprecated and will be removed from pandas in a future version. Use pandas.concat instead.\n",
      "  output_df = output_df.append(df)\n",
      "C:\\Users\\Kimbe\\AppData\\Local\\Temp/ipykernel_7100/3673173512.py:5: FutureWarning: The frame.append method is deprecated and will be removed from pandas in a future version. Use pandas.concat instead.\n",
      "  output_df = output_df.append(df)\n",
      "C:\\Users\\Kimbe\\AppData\\Local\\Temp/ipykernel_7100/3673173512.py:5: FutureWarning: The frame.append method is deprecated and will be removed from pandas in a future version. Use pandas.concat instead.\n",
      "  output_df = output_df.append(df)\n"
     ]
    },
    {
     "name": "stdout",
     "output_type": "stream",
     "text": [
      "Skipping row\n"
     ]
    },
    {
     "name": "stderr",
     "output_type": "stream",
     "text": [
      "C:\\Users\\Kimbe\\AppData\\Local\\Temp/ipykernel_7100/3673173512.py:5: FutureWarning: The frame.append method is deprecated and will be removed from pandas in a future version. Use pandas.concat instead.\n",
      "  output_df = output_df.append(df)\n",
      "C:\\Users\\Kimbe\\AppData\\Local\\Temp/ipykernel_7100/3673173512.py:5: FutureWarning: The frame.append method is deprecated and will be removed from pandas in a future version. Use pandas.concat instead.\n",
      "  output_df = output_df.append(df)\n",
      "C:\\Users\\Kimbe\\AppData\\Local\\Temp/ipykernel_7100/3673173512.py:5: FutureWarning: The frame.append method is deprecated and will be removed from pandas in a future version. Use pandas.concat instead.\n",
      "  output_df = output_df.append(df)\n",
      "C:\\Users\\Kimbe\\AppData\\Local\\Temp/ipykernel_7100/3673173512.py:5: FutureWarning: The frame.append method is deprecated and will be removed from pandas in a future version. Use pandas.concat instead.\n",
      "  output_df = output_df.append(df)\n",
      "C:\\Users\\Kimbe\\AppData\\Local\\Temp/ipykernel_7100/3673173512.py:5: FutureWarning: The frame.append method is deprecated and will be removed from pandas in a future version. Use pandas.concat instead.\n",
      "  output_df = output_df.append(df)\n",
      "C:\\Users\\Kimbe\\AppData\\Local\\Temp/ipykernel_7100/3673173512.py:5: FutureWarning: The frame.append method is deprecated and will be removed from pandas in a future version. Use pandas.concat instead.\n",
      "  output_df = output_df.append(df)\n",
      "C:\\Users\\Kimbe\\AppData\\Local\\Temp/ipykernel_7100/3673173512.py:5: FutureWarning: The frame.append method is deprecated and will be removed from pandas in a future version. Use pandas.concat instead.\n",
      "  output_df = output_df.append(df)\n",
      "C:\\Users\\Kimbe\\AppData\\Local\\Temp/ipykernel_7100/3673173512.py:5: FutureWarning: The frame.append method is deprecated and will be removed from pandas in a future version. Use pandas.concat instead.\n",
      "  output_df = output_df.append(df)\n",
      "C:\\Users\\Kimbe\\AppData\\Local\\Temp/ipykernel_7100/3673173512.py:5: FutureWarning: The frame.append method is deprecated and will be removed from pandas in a future version. Use pandas.concat instead.\n",
      "  output_df = output_df.append(df)\n",
      "C:\\Users\\Kimbe\\AppData\\Local\\Temp/ipykernel_7100/3673173512.py:5: FutureWarning: The frame.append method is deprecated and will be removed from pandas in a future version. Use pandas.concat instead.\n",
      "  output_df = output_df.append(df)\n",
      "C:\\Users\\Kimbe\\AppData\\Local\\Temp/ipykernel_7100/3673173512.py:5: FutureWarning: The frame.append method is deprecated and will be removed from pandas in a future version. Use pandas.concat instead.\n",
      "  output_df = output_df.append(df)\n"
     ]
    },
    {
     "name": "stdout",
     "output_type": "stream",
     "text": [
      "Skipping row\n"
     ]
    },
    {
     "name": "stderr",
     "output_type": "stream",
     "text": [
      "C:\\Users\\Kimbe\\AppData\\Local\\Temp/ipykernel_7100/3673173512.py:5: FutureWarning: The frame.append method is deprecated and will be removed from pandas in a future version. Use pandas.concat instead.\n",
      "  output_df = output_df.append(df)\n",
      "C:\\Users\\Kimbe\\AppData\\Local\\Temp/ipykernel_7100/3673173512.py:5: FutureWarning: The frame.append method is deprecated and will be removed from pandas in a future version. Use pandas.concat instead.\n",
      "  output_df = output_df.append(df)\n",
      "C:\\Users\\Kimbe\\AppData\\Local\\Temp/ipykernel_7100/3673173512.py:5: FutureWarning: The frame.append method is deprecated and will be removed from pandas in a future version. Use pandas.concat instead.\n",
      "  output_df = output_df.append(df)\n",
      "C:\\Users\\Kimbe\\AppData\\Local\\Temp/ipykernel_7100/3673173512.py:5: FutureWarning: The frame.append method is deprecated and will be removed from pandas in a future version. Use pandas.concat instead.\n",
      "  output_df = output_df.append(df)\n",
      "C:\\Users\\Kimbe\\AppData\\Local\\Temp/ipykernel_7100/3673173512.py:5: FutureWarning: The frame.append method is deprecated and will be removed from pandas in a future version. Use pandas.concat instead.\n",
      "  output_df = output_df.append(df)\n",
      "C:\\Users\\Kimbe\\AppData\\Local\\Temp/ipykernel_7100/3673173512.py:5: FutureWarning: The frame.append method is deprecated and will be removed from pandas in a future version. Use pandas.concat instead.\n",
      "  output_df = output_df.append(df)\n",
      "C:\\Users\\Kimbe\\AppData\\Local\\Temp/ipykernel_7100/3673173512.py:5: FutureWarning: The frame.append method is deprecated and will be removed from pandas in a future version. Use pandas.concat instead.\n",
      "  output_df = output_df.append(df)\n"
     ]
    },
    {
     "name": "stdout",
     "output_type": "stream",
     "text": [
      "Skipping row\n"
     ]
    },
    {
     "name": "stderr",
     "output_type": "stream",
     "text": [
      "C:\\Users\\Kimbe\\AppData\\Local\\Temp/ipykernel_7100/3673173512.py:5: FutureWarning: The frame.append method is deprecated and will be removed from pandas in a future version. Use pandas.concat instead.\n",
      "  output_df = output_df.append(df)\n",
      "C:\\Users\\Kimbe\\AppData\\Local\\Temp/ipykernel_7100/3673173512.py:5: FutureWarning: The frame.append method is deprecated and will be removed from pandas in a future version. Use pandas.concat instead.\n",
      "  output_df = output_df.append(df)\n",
      "C:\\Users\\Kimbe\\AppData\\Local\\Temp/ipykernel_7100/3673173512.py:5: FutureWarning: The frame.append method is deprecated and will be removed from pandas in a future version. Use pandas.concat instead.\n",
      "  output_df = output_df.append(df)\n",
      "C:\\Users\\Kimbe\\AppData\\Local\\Temp/ipykernel_7100/3673173512.py:5: FutureWarning: The frame.append method is deprecated and will be removed from pandas in a future version. Use pandas.concat instead.\n",
      "  output_df = output_df.append(df)\n",
      "C:\\Users\\Kimbe\\AppData\\Local\\Temp/ipykernel_7100/3673173512.py:5: FutureWarning: The frame.append method is deprecated and will be removed from pandas in a future version. Use pandas.concat instead.\n",
      "  output_df = output_df.append(df)\n",
      "C:\\Users\\Kimbe\\AppData\\Local\\Temp/ipykernel_7100/3673173512.py:5: FutureWarning: The frame.append method is deprecated and will be removed from pandas in a future version. Use pandas.concat instead.\n",
      "  output_df = output_df.append(df)\n",
      "C:\\Users\\Kimbe\\AppData\\Local\\Temp/ipykernel_7100/3673173512.py:5: FutureWarning: The frame.append method is deprecated and will be removed from pandas in a future version. Use pandas.concat instead.\n",
      "  output_df = output_df.append(df)\n",
      "C:\\Users\\Kimbe\\AppData\\Local\\Temp/ipykernel_7100/3673173512.py:5: FutureWarning: The frame.append method is deprecated and will be removed from pandas in a future version. Use pandas.concat instead.\n",
      "  output_df = output_df.append(df)\n",
      "C:\\Users\\Kimbe\\AppData\\Local\\Temp/ipykernel_7100/3673173512.py:5: FutureWarning: The frame.append method is deprecated and will be removed from pandas in a future version. Use pandas.concat instead.\n",
      "  output_df = output_df.append(df)\n",
      "C:\\Users\\Kimbe\\AppData\\Local\\Temp/ipykernel_7100/3673173512.py:5: FutureWarning: The frame.append method is deprecated and will be removed from pandas in a future version. Use pandas.concat instead.\n",
      "  output_df = output_df.append(df)\n"
     ]
    },
    {
     "name": "stdout",
     "output_type": "stream",
     "text": [
      "Skipping row\n"
     ]
    },
    {
     "name": "stderr",
     "output_type": "stream",
     "text": [
      "C:\\Users\\Kimbe\\AppData\\Local\\Temp/ipykernel_7100/3673173512.py:5: FutureWarning: The frame.append method is deprecated and will be removed from pandas in a future version. Use pandas.concat instead.\n",
      "  output_df = output_df.append(df)\n",
      "C:\\Users\\Kimbe\\AppData\\Local\\Temp/ipykernel_7100/3673173512.py:5: FutureWarning: The frame.append method is deprecated and will be removed from pandas in a future version. Use pandas.concat instead.\n",
      "  output_df = output_df.append(df)\n",
      "C:\\Users\\Kimbe\\AppData\\Local\\Temp/ipykernel_7100/3673173512.py:5: FutureWarning: The frame.append method is deprecated and will be removed from pandas in a future version. Use pandas.concat instead.\n",
      "  output_df = output_df.append(df)\n",
      "C:\\Users\\Kimbe\\AppData\\Local\\Temp/ipykernel_7100/3673173512.py:5: FutureWarning: The frame.append method is deprecated and will be removed from pandas in a future version. Use pandas.concat instead.\n",
      "  output_df = output_df.append(df)\n",
      "C:\\Users\\Kimbe\\AppData\\Local\\Temp/ipykernel_7100/3673173512.py:5: FutureWarning: The frame.append method is deprecated and will be removed from pandas in a future version. Use pandas.concat instead.\n",
      "  output_df = output_df.append(df)\n",
      "C:\\Users\\Kimbe\\AppData\\Local\\Temp/ipykernel_7100/3673173512.py:5: FutureWarning: The frame.append method is deprecated and will be removed from pandas in a future version. Use pandas.concat instead.\n",
      "  output_df = output_df.append(df)\n",
      "C:\\Users\\Kimbe\\AppData\\Local\\Temp/ipykernel_7100/3673173512.py:5: FutureWarning: The frame.append method is deprecated and will be removed from pandas in a future version. Use pandas.concat instead.\n",
      "  output_df = output_df.append(df)\n",
      "C:\\Users\\Kimbe\\AppData\\Local\\Temp/ipykernel_7100/3673173512.py:5: FutureWarning: The frame.append method is deprecated and will be removed from pandas in a future version. Use pandas.concat instead.\n",
      "  output_df = output_df.append(df)\n",
      "C:\\Users\\Kimbe\\AppData\\Local\\Temp/ipykernel_7100/3673173512.py:5: FutureWarning: The frame.append method is deprecated and will be removed from pandas in a future version. Use pandas.concat instead.\n",
      "  output_df = output_df.append(df)\n",
      "C:\\Users\\Kimbe\\AppData\\Local\\Temp/ipykernel_7100/3673173512.py:5: FutureWarning: The frame.append method is deprecated and will be removed from pandas in a future version. Use pandas.concat instead.\n",
      "  output_df = output_df.append(df)\n",
      "C:\\Users\\Kimbe\\AppData\\Local\\Temp/ipykernel_7100/3673173512.py:5: FutureWarning: The frame.append method is deprecated and will be removed from pandas in a future version. Use pandas.concat instead.\n",
      "  output_df = output_df.append(df)\n",
      "C:\\Users\\Kimbe\\AppData\\Local\\Temp/ipykernel_7100/3673173512.py:5: FutureWarning: The frame.append method is deprecated and will be removed from pandas in a future version. Use pandas.concat instead.\n",
      "  output_df = output_df.append(df)\n"
     ]
    },
    {
     "name": "stdout",
     "output_type": "stream",
     "text": [
      "Skipping row\n"
     ]
    },
    {
     "name": "stderr",
     "output_type": "stream",
     "text": [
      "C:\\Users\\Kimbe\\AppData\\Local\\Temp/ipykernel_7100/3673173512.py:5: FutureWarning: The frame.append method is deprecated and will be removed from pandas in a future version. Use pandas.concat instead.\n",
      "  output_df = output_df.append(df)\n",
      "C:\\Users\\Kimbe\\AppData\\Local\\Temp/ipykernel_7100/3673173512.py:5: FutureWarning: The frame.append method is deprecated and will be removed from pandas in a future version. Use pandas.concat instead.\n",
      "  output_df = output_df.append(df)\n",
      "C:\\Users\\Kimbe\\AppData\\Local\\Temp/ipykernel_7100/3673173512.py:5: FutureWarning: The frame.append method is deprecated and will be removed from pandas in a future version. Use pandas.concat instead.\n",
      "  output_df = output_df.append(df)\n",
      "C:\\Users\\Kimbe\\AppData\\Local\\Temp/ipykernel_7100/3673173512.py:5: FutureWarning: The frame.append method is deprecated and will be removed from pandas in a future version. Use pandas.concat instead.\n",
      "  output_df = output_df.append(df)\n",
      "C:\\Users\\Kimbe\\AppData\\Local\\Temp/ipykernel_7100/3673173512.py:5: FutureWarning: The frame.append method is deprecated and will be removed from pandas in a future version. Use pandas.concat instead.\n",
      "  output_df = output_df.append(df)\n",
      "C:\\Users\\Kimbe\\AppData\\Local\\Temp/ipykernel_7100/3673173512.py:5: FutureWarning: The frame.append method is deprecated and will be removed from pandas in a future version. Use pandas.concat instead.\n",
      "  output_df = output_df.append(df)\n",
      "C:\\Users\\Kimbe\\AppData\\Local\\Temp/ipykernel_7100/3673173512.py:5: FutureWarning: The frame.append method is deprecated and will be removed from pandas in a future version. Use pandas.concat instead.\n",
      "  output_df = output_df.append(df)\n",
      "C:\\Users\\Kimbe\\AppData\\Local\\Temp/ipykernel_7100/3673173512.py:5: FutureWarning: The frame.append method is deprecated and will be removed from pandas in a future version. Use pandas.concat instead.\n",
      "  output_df = output_df.append(df)\n",
      "C:\\Users\\Kimbe\\AppData\\Local\\Temp/ipykernel_7100/3673173512.py:5: FutureWarning: The frame.append method is deprecated and will be removed from pandas in a future version. Use pandas.concat instead.\n",
      "  output_df = output_df.append(df)\n",
      "C:\\Users\\Kimbe\\AppData\\Local\\Temp/ipykernel_7100/3673173512.py:5: FutureWarning: The frame.append method is deprecated and will be removed from pandas in a future version. Use pandas.concat instead.\n",
      "  output_df = output_df.append(df)\n",
      "C:\\Users\\Kimbe\\AppData\\Local\\Temp/ipykernel_7100/3673173512.py:5: FutureWarning: The frame.append method is deprecated and will be removed from pandas in a future version. Use pandas.concat instead.\n",
      "  output_df = output_df.append(df)\n",
      "C:\\Users\\Kimbe\\AppData\\Local\\Temp/ipykernel_7100/3673173512.py:5: FutureWarning: The frame.append method is deprecated and will be removed from pandas in a future version. Use pandas.concat instead.\n",
      "  output_df = output_df.append(df)\n"
     ]
    },
    {
     "name": "stdout",
     "output_type": "stream",
     "text": [
      "Skipping row\n"
     ]
    },
    {
     "name": "stderr",
     "output_type": "stream",
     "text": [
      "C:\\Users\\Kimbe\\AppData\\Local\\Temp/ipykernel_7100/3673173512.py:5: FutureWarning: The frame.append method is deprecated and will be removed from pandas in a future version. Use pandas.concat instead.\n",
      "  output_df = output_df.append(df)\n",
      "C:\\Users\\Kimbe\\AppData\\Local\\Temp/ipykernel_7100/3673173512.py:5: FutureWarning: The frame.append method is deprecated and will be removed from pandas in a future version. Use pandas.concat instead.\n",
      "  output_df = output_df.append(df)\n",
      "C:\\Users\\Kimbe\\AppData\\Local\\Temp/ipykernel_7100/3673173512.py:5: FutureWarning: The frame.append method is deprecated and will be removed from pandas in a future version. Use pandas.concat instead.\n",
      "  output_df = output_df.append(df)\n",
      "C:\\Users\\Kimbe\\AppData\\Local\\Temp/ipykernel_7100/3673173512.py:5: FutureWarning: The frame.append method is deprecated and will be removed from pandas in a future version. Use pandas.concat instead.\n",
      "  output_df = output_df.append(df)\n",
      "C:\\Users\\Kimbe\\AppData\\Local\\Temp/ipykernel_7100/3673173512.py:5: FutureWarning: The frame.append method is deprecated and will be removed from pandas in a future version. Use pandas.concat instead.\n",
      "  output_df = output_df.append(df)\n",
      "C:\\Users\\Kimbe\\AppData\\Local\\Temp/ipykernel_7100/3673173512.py:5: FutureWarning: The frame.append method is deprecated and will be removed from pandas in a future version. Use pandas.concat instead.\n",
      "  output_df = output_df.append(df)\n",
      "C:\\Users\\Kimbe\\AppData\\Local\\Temp/ipykernel_7100/3673173512.py:5: FutureWarning: The frame.append method is deprecated and will be removed from pandas in a future version. Use pandas.concat instead.\n",
      "  output_df = output_df.append(df)\n",
      "C:\\Users\\Kimbe\\AppData\\Local\\Temp/ipykernel_7100/3673173512.py:5: FutureWarning: The frame.append method is deprecated and will be removed from pandas in a future version. Use pandas.concat instead.\n",
      "  output_df = output_df.append(df)\n",
      "C:\\Users\\Kimbe\\AppData\\Local\\Temp/ipykernel_7100/3673173512.py:5: FutureWarning: The frame.append method is deprecated and will be removed from pandas in a future version. Use pandas.concat instead.\n",
      "  output_df = output_df.append(df)\n"
     ]
    },
    {
     "name": "stdout",
     "output_type": "stream",
     "text": [
      "Skipping row\n"
     ]
    },
    {
     "name": "stderr",
     "output_type": "stream",
     "text": [
      "C:\\Users\\Kimbe\\AppData\\Local\\Temp/ipykernel_7100/3673173512.py:5: FutureWarning: The frame.append method is deprecated and will be removed from pandas in a future version. Use pandas.concat instead.\n",
      "  output_df = output_df.append(df)\n",
      "C:\\Users\\Kimbe\\AppData\\Local\\Temp/ipykernel_7100/3673173512.py:5: FutureWarning: The frame.append method is deprecated and will be removed from pandas in a future version. Use pandas.concat instead.\n",
      "  output_df = output_df.append(df)\n",
      "C:\\Users\\Kimbe\\AppData\\Local\\Temp/ipykernel_7100/3673173512.py:5: FutureWarning: The frame.append method is deprecated and will be removed from pandas in a future version. Use pandas.concat instead.\n",
      "  output_df = output_df.append(df)\n",
      "C:\\Users\\Kimbe\\AppData\\Local\\Temp/ipykernel_7100/3673173512.py:5: FutureWarning: The frame.append method is deprecated and will be removed from pandas in a future version. Use pandas.concat instead.\n",
      "  output_df = output_df.append(df)\n",
      "C:\\Users\\Kimbe\\AppData\\Local\\Temp/ipykernel_7100/3673173512.py:5: FutureWarning: The frame.append method is deprecated and will be removed from pandas in a future version. Use pandas.concat instead.\n",
      "  output_df = output_df.append(df)\n",
      "C:\\Users\\Kimbe\\AppData\\Local\\Temp/ipykernel_7100/3673173512.py:5: FutureWarning: The frame.append method is deprecated and will be removed from pandas in a future version. Use pandas.concat instead.\n",
      "  output_df = output_df.append(df)\n",
      "C:\\Users\\Kimbe\\AppData\\Local\\Temp/ipykernel_7100/3673173512.py:5: FutureWarning: The frame.append method is deprecated and will be removed from pandas in a future version. Use pandas.concat instead.\n",
      "  output_df = output_df.append(df)\n",
      "C:\\Users\\Kimbe\\AppData\\Local\\Temp/ipykernel_7100/3673173512.py:5: FutureWarning: The frame.append method is deprecated and will be removed from pandas in a future version. Use pandas.concat instead.\n",
      "  output_df = output_df.append(df)\n",
      "C:\\Users\\Kimbe\\AppData\\Local\\Temp/ipykernel_7100/3673173512.py:5: FutureWarning: The frame.append method is deprecated and will be removed from pandas in a future version. Use pandas.concat instead.\n",
      "  output_df = output_df.append(df)\n",
      "C:\\Users\\Kimbe\\AppData\\Local\\Temp/ipykernel_7100/3673173512.py:5: FutureWarning: The frame.append method is deprecated and will be removed from pandas in a future version. Use pandas.concat instead.\n",
      "  output_df = output_df.append(df)\n",
      "C:\\Users\\Kimbe\\AppData\\Local\\Temp/ipykernel_7100/3673173512.py:5: FutureWarning: The frame.append method is deprecated and will be removed from pandas in a future version. Use pandas.concat instead.\n",
      "  output_df = output_df.append(df)\n"
     ]
    },
    {
     "name": "stdout",
     "output_type": "stream",
     "text": [
      "Skipping row\n",
      "Skipping row\n"
     ]
    },
    {
     "name": "stderr",
     "output_type": "stream",
     "text": [
      "C:\\Users\\Kimbe\\AppData\\Local\\Temp/ipykernel_7100/3673173512.py:5: FutureWarning: The frame.append method is deprecated and will be removed from pandas in a future version. Use pandas.concat instead.\n",
      "  output_df = output_df.append(df)\n",
      "C:\\Users\\Kimbe\\AppData\\Local\\Temp/ipykernel_7100/3673173512.py:5: FutureWarning: The frame.append method is deprecated and will be removed from pandas in a future version. Use pandas.concat instead.\n",
      "  output_df = output_df.append(df)\n",
      "C:\\Users\\Kimbe\\AppData\\Local\\Temp/ipykernel_7100/3673173512.py:5: FutureWarning: The frame.append method is deprecated and will be removed from pandas in a future version. Use pandas.concat instead.\n",
      "  output_df = output_df.append(df)\n",
      "C:\\Users\\Kimbe\\AppData\\Local\\Temp/ipykernel_7100/3673173512.py:5: FutureWarning: The frame.append method is deprecated and will be removed from pandas in a future version. Use pandas.concat instead.\n",
      "  output_df = output_df.append(df)\n",
      "C:\\Users\\Kimbe\\AppData\\Local\\Temp/ipykernel_7100/3673173512.py:5: FutureWarning: The frame.append method is deprecated and will be removed from pandas in a future version. Use pandas.concat instead.\n",
      "  output_df = output_df.append(df)\n",
      "C:\\Users\\Kimbe\\AppData\\Local\\Temp/ipykernel_7100/3673173512.py:5: FutureWarning: The frame.append method is deprecated and will be removed from pandas in a future version. Use pandas.concat instead.\n",
      "  output_df = output_df.append(df)\n",
      "C:\\Users\\Kimbe\\AppData\\Local\\Temp/ipykernel_7100/3673173512.py:5: FutureWarning: The frame.append method is deprecated and will be removed from pandas in a future version. Use pandas.concat instead.\n",
      "  output_df = output_df.append(df)\n",
      "C:\\Users\\Kimbe\\AppData\\Local\\Temp/ipykernel_7100/3673173512.py:5: FutureWarning: The frame.append method is deprecated and will be removed from pandas in a future version. Use pandas.concat instead.\n",
      "  output_df = output_df.append(df)\n",
      "C:\\Users\\Kimbe\\AppData\\Local\\Temp/ipykernel_7100/3673173512.py:5: FutureWarning: The frame.append method is deprecated and will be removed from pandas in a future version. Use pandas.concat instead.\n",
      "  output_df = output_df.append(df)\n",
      "C:\\Users\\Kimbe\\AppData\\Local\\Temp/ipykernel_7100/3673173512.py:5: FutureWarning: The frame.append method is deprecated and will be removed from pandas in a future version. Use pandas.concat instead.\n",
      "  output_df = output_df.append(df)\n",
      "C:\\Users\\Kimbe\\AppData\\Local\\Temp/ipykernel_7100/3673173512.py:5: FutureWarning: The frame.append method is deprecated and will be removed from pandas in a future version. Use pandas.concat instead.\n",
      "  output_df = output_df.append(df)\n",
      "C:\\Users\\Kimbe\\AppData\\Local\\Temp/ipykernel_7100/3673173512.py:5: FutureWarning: The frame.append method is deprecated and will be removed from pandas in a future version. Use pandas.concat instead.\n",
      "  output_df = output_df.append(df)\n",
      "C:\\Users\\Kimbe\\AppData\\Local\\Temp/ipykernel_7100/3673173512.py:5: FutureWarning: The frame.append method is deprecated and will be removed from pandas in a future version. Use pandas.concat instead.\n",
      "  output_df = output_df.append(df)\n",
      "C:\\Users\\Kimbe\\AppData\\Local\\Temp/ipykernel_7100/3673173512.py:5: FutureWarning: The frame.append method is deprecated and will be removed from pandas in a future version. Use pandas.concat instead.\n",
      "  output_df = output_df.append(df)\n",
      "C:\\Users\\Kimbe\\AppData\\Local\\Temp/ipykernel_7100/3673173512.py:5: FutureWarning: The frame.append method is deprecated and will be removed from pandas in a future version. Use pandas.concat instead.\n",
      "  output_df = output_df.append(df)\n",
      "C:\\Users\\Kimbe\\AppData\\Local\\Temp/ipykernel_7100/3673173512.py:5: FutureWarning: The frame.append method is deprecated and will be removed from pandas in a future version. Use pandas.concat instead.\n",
      "  output_df = output_df.append(df)\n",
      "C:\\Users\\Kimbe\\AppData\\Local\\Temp/ipykernel_7100/3673173512.py:5: FutureWarning: The frame.append method is deprecated and will be removed from pandas in a future version. Use pandas.concat instead.\n",
      "  output_df = output_df.append(df)\n",
      "C:\\Users\\Kimbe\\AppData\\Local\\Temp/ipykernel_7100/3673173512.py:5: FutureWarning: The frame.append method is deprecated and will be removed from pandas in a future version. Use pandas.concat instead.\n",
      "  output_df = output_df.append(df)\n",
      "C:\\Users\\Kimbe\\AppData\\Local\\Temp/ipykernel_7100/3673173512.py:5: FutureWarning: The frame.append method is deprecated and will be removed from pandas in a future version. Use pandas.concat instead.\n",
      "  output_df = output_df.append(df)\n",
      "C:\\Users\\Kimbe\\AppData\\Local\\Temp/ipykernel_7100/3673173512.py:5: FutureWarning: The frame.append method is deprecated and will be removed from pandas in a future version. Use pandas.concat instead.\n",
      "  output_df = output_df.append(df)\n",
      "C:\\Users\\Kimbe\\AppData\\Local\\Temp/ipykernel_7100/3673173512.py:5: FutureWarning: The frame.append method is deprecated and will be removed from pandas in a future version. Use pandas.concat instead.\n",
      "  output_df = output_df.append(df)\n",
      "C:\\Users\\Kimbe\\AppData\\Local\\Temp/ipykernel_7100/3673173512.py:5: FutureWarning: The frame.append method is deprecated and will be removed from pandas in a future version. Use pandas.concat instead.\n",
      "  output_df = output_df.append(df)\n",
      "C:\\Users\\Kimbe\\AppData\\Local\\Temp/ipykernel_7100/3673173512.py:5: FutureWarning: The frame.append method is deprecated and will be removed from pandas in a future version. Use pandas.concat instead.\n",
      "  output_df = output_df.append(df)\n"
     ]
    },
    {
     "name": "stdout",
     "output_type": "stream",
     "text": [
      "Skipping row\n"
     ]
    },
    {
     "name": "stderr",
     "output_type": "stream",
     "text": [
      "C:\\Users\\Kimbe\\AppData\\Local\\Temp/ipykernel_7100/3673173512.py:5: FutureWarning: The frame.append method is deprecated and will be removed from pandas in a future version. Use pandas.concat instead.\n",
      "  output_df = output_df.append(df)\n",
      "C:\\Users\\Kimbe\\AppData\\Local\\Temp/ipykernel_7100/3673173512.py:5: FutureWarning: The frame.append method is deprecated and will be removed from pandas in a future version. Use pandas.concat instead.\n",
      "  output_df = output_df.append(df)\n",
      "C:\\Users\\Kimbe\\AppData\\Local\\Temp/ipykernel_7100/3673173512.py:5: FutureWarning: The frame.append method is deprecated and will be removed from pandas in a future version. Use pandas.concat instead.\n",
      "  output_df = output_df.append(df)\n",
      "C:\\Users\\Kimbe\\AppData\\Local\\Temp/ipykernel_7100/3673173512.py:5: FutureWarning: The frame.append method is deprecated and will be removed from pandas in a future version. Use pandas.concat instead.\n",
      "  output_df = output_df.append(df)\n",
      "C:\\Users\\Kimbe\\AppData\\Local\\Temp/ipykernel_7100/3673173512.py:5: FutureWarning: The frame.append method is deprecated and will be removed from pandas in a future version. Use pandas.concat instead.\n",
      "  output_df = output_df.append(df)\n",
      "C:\\Users\\Kimbe\\AppData\\Local\\Temp/ipykernel_7100/3673173512.py:5: FutureWarning: The frame.append method is deprecated and will be removed from pandas in a future version. Use pandas.concat instead.\n",
      "  output_df = output_df.append(df)\n",
      "C:\\Users\\Kimbe\\AppData\\Local\\Temp/ipykernel_7100/3673173512.py:5: FutureWarning: The frame.append method is deprecated and will be removed from pandas in a future version. Use pandas.concat instead.\n",
      "  output_df = output_df.append(df)\n",
      "C:\\Users\\Kimbe\\AppData\\Local\\Temp/ipykernel_7100/3673173512.py:5: FutureWarning: The frame.append method is deprecated and will be removed from pandas in a future version. Use pandas.concat instead.\n",
      "  output_df = output_df.append(df)\n",
      "C:\\Users\\Kimbe\\AppData\\Local\\Temp/ipykernel_7100/3673173512.py:5: FutureWarning: The frame.append method is deprecated and will be removed from pandas in a future version. Use pandas.concat instead.\n",
      "  output_df = output_df.append(df)\n",
      "C:\\Users\\Kimbe\\AppData\\Local\\Temp/ipykernel_7100/3673173512.py:5: FutureWarning: The frame.append method is deprecated and will be removed from pandas in a future version. Use pandas.concat instead.\n",
      "  output_df = output_df.append(df)\n"
     ]
    },
    {
     "name": "stdout",
     "output_type": "stream",
     "text": [
      "Skipping row\n"
     ]
    },
    {
     "name": "stderr",
     "output_type": "stream",
     "text": [
      "C:\\Users\\Kimbe\\AppData\\Local\\Temp/ipykernel_7100/3673173512.py:5: FutureWarning: The frame.append method is deprecated and will be removed from pandas in a future version. Use pandas.concat instead.\n",
      "  output_df = output_df.append(df)\n",
      "C:\\Users\\Kimbe\\AppData\\Local\\Temp/ipykernel_7100/3673173512.py:5: FutureWarning: The frame.append method is deprecated and will be removed from pandas in a future version. Use pandas.concat instead.\n",
      "  output_df = output_df.append(df)\n",
      "C:\\Users\\Kimbe\\AppData\\Local\\Temp/ipykernel_7100/3673173512.py:5: FutureWarning: The frame.append method is deprecated and will be removed from pandas in a future version. Use pandas.concat instead.\n",
      "  output_df = output_df.append(df)\n",
      "C:\\Users\\Kimbe\\AppData\\Local\\Temp/ipykernel_7100/3673173512.py:5: FutureWarning: The frame.append method is deprecated and will be removed from pandas in a future version. Use pandas.concat instead.\n",
      "  output_df = output_df.append(df)\n",
      "C:\\Users\\Kimbe\\AppData\\Local\\Temp/ipykernel_7100/3673173512.py:5: FutureWarning: The frame.append method is deprecated and will be removed from pandas in a future version. Use pandas.concat instead.\n",
      "  output_df = output_df.append(df)\n",
      "C:\\Users\\Kimbe\\AppData\\Local\\Temp/ipykernel_7100/3673173512.py:5: FutureWarning: The frame.append method is deprecated and will be removed from pandas in a future version. Use pandas.concat instead.\n",
      "  output_df = output_df.append(df)\n",
      "C:\\Users\\Kimbe\\AppData\\Local\\Temp/ipykernel_7100/3673173512.py:5: FutureWarning: The frame.append method is deprecated and will be removed from pandas in a future version. Use pandas.concat instead.\n",
      "  output_df = output_df.append(df)\n",
      "C:\\Users\\Kimbe\\AppData\\Local\\Temp/ipykernel_7100/3673173512.py:5: FutureWarning: The frame.append method is deprecated and will be removed from pandas in a future version. Use pandas.concat instead.\n",
      "  output_df = output_df.append(df)\n",
      "C:\\Users\\Kimbe\\AppData\\Local\\Temp/ipykernel_7100/3673173512.py:5: FutureWarning: The frame.append method is deprecated and will be removed from pandas in a future version. Use pandas.concat instead.\n",
      "  output_df = output_df.append(df)\n",
      "C:\\Users\\Kimbe\\AppData\\Local\\Temp/ipykernel_7100/3673173512.py:5: FutureWarning: The frame.append method is deprecated and will be removed from pandas in a future version. Use pandas.concat instead.\n",
      "  output_df = output_df.append(df)\n",
      "C:\\Users\\Kimbe\\AppData\\Local\\Temp/ipykernel_7100/3673173512.py:5: FutureWarning: The frame.append method is deprecated and will be removed from pandas in a future version. Use pandas.concat instead.\n",
      "  output_df = output_df.append(df)\n"
     ]
    },
    {
     "name": "stdout",
     "output_type": "stream",
     "text": [
      "Skipping row\n"
     ]
    },
    {
     "name": "stderr",
     "output_type": "stream",
     "text": [
      "C:\\Users\\Kimbe\\AppData\\Local\\Temp/ipykernel_7100/3673173512.py:5: FutureWarning: The frame.append method is deprecated and will be removed from pandas in a future version. Use pandas.concat instead.\n",
      "  output_df = output_df.append(df)\n",
      "C:\\Users\\Kimbe\\AppData\\Local\\Temp/ipykernel_7100/3673173512.py:5: FutureWarning: The frame.append method is deprecated and will be removed from pandas in a future version. Use pandas.concat instead.\n",
      "  output_df = output_df.append(df)\n",
      "C:\\Users\\Kimbe\\AppData\\Local\\Temp/ipykernel_7100/3673173512.py:5: FutureWarning: The frame.append method is deprecated and will be removed from pandas in a future version. Use pandas.concat instead.\n",
      "  output_df = output_df.append(df)\n",
      "C:\\Users\\Kimbe\\AppData\\Local\\Temp/ipykernel_7100/3673173512.py:5: FutureWarning: The frame.append method is deprecated and will be removed from pandas in a future version. Use pandas.concat instead.\n",
      "  output_df = output_df.append(df)\n",
      "C:\\Users\\Kimbe\\AppData\\Local\\Temp/ipykernel_7100/3673173512.py:5: FutureWarning: The frame.append method is deprecated and will be removed from pandas in a future version. Use pandas.concat instead.\n",
      "  output_df = output_df.append(df)\n",
      "C:\\Users\\Kimbe\\AppData\\Local\\Temp/ipykernel_7100/3673173512.py:5: FutureWarning: The frame.append method is deprecated and will be removed from pandas in a future version. Use pandas.concat instead.\n",
      "  output_df = output_df.append(df)\n",
      "C:\\Users\\Kimbe\\AppData\\Local\\Temp/ipykernel_7100/3673173512.py:5: FutureWarning: The frame.append method is deprecated and will be removed from pandas in a future version. Use pandas.concat instead.\n",
      "  output_df = output_df.append(df)\n",
      "C:\\Users\\Kimbe\\AppData\\Local\\Temp/ipykernel_7100/3673173512.py:5: FutureWarning: The frame.append method is deprecated and will be removed from pandas in a future version. Use pandas.concat instead.\n",
      "  output_df = output_df.append(df)\n",
      "C:\\Users\\Kimbe\\AppData\\Local\\Temp/ipykernel_7100/3673173512.py:5: FutureWarning: The frame.append method is deprecated and will be removed from pandas in a future version. Use pandas.concat instead.\n",
      "  output_df = output_df.append(df)\n",
      "C:\\Users\\Kimbe\\AppData\\Local\\Temp/ipykernel_7100/3673173512.py:5: FutureWarning: The frame.append method is deprecated and will be removed from pandas in a future version. Use pandas.concat instead.\n",
      "  output_df = output_df.append(df)\n",
      "C:\\Users\\Kimbe\\AppData\\Local\\Temp/ipykernel_7100/3673173512.py:5: FutureWarning: The frame.append method is deprecated and will be removed from pandas in a future version. Use pandas.concat instead.\n",
      "  output_df = output_df.append(df)\n",
      "C:\\Users\\Kimbe\\AppData\\Local\\Temp/ipykernel_7100/3673173512.py:5: FutureWarning: The frame.append method is deprecated and will be removed from pandas in a future version. Use pandas.concat instead.\n",
      "  output_df = output_df.append(df)\n",
      "C:\\Users\\Kimbe\\AppData\\Local\\Temp/ipykernel_7100/3673173512.py:5: FutureWarning: The frame.append method is deprecated and will be removed from pandas in a future version. Use pandas.concat instead.\n",
      "  output_df = output_df.append(df)\n",
      "C:\\Users\\Kimbe\\AppData\\Local\\Temp/ipykernel_7100/3673173512.py:5: FutureWarning: The frame.append method is deprecated and will be removed from pandas in a future version. Use pandas.concat instead.\n",
      "  output_df = output_df.append(df)\n",
      "C:\\Users\\Kimbe\\AppData\\Local\\Temp/ipykernel_7100/3673173512.py:5: FutureWarning: The frame.append method is deprecated and will be removed from pandas in a future version. Use pandas.concat instead.\n",
      "  output_df = output_df.append(df)\n",
      "C:\\Users\\Kimbe\\AppData\\Local\\Temp/ipykernel_7100/3673173512.py:5: FutureWarning: The frame.append method is deprecated and will be removed from pandas in a future version. Use pandas.concat instead.\n",
      "  output_df = output_df.append(df)\n",
      "C:\\Users\\Kimbe\\AppData\\Local\\Temp/ipykernel_7100/3673173512.py:5: FutureWarning: The frame.append method is deprecated and will be removed from pandas in a future version. Use pandas.concat instead.\n",
      "  output_df = output_df.append(df)\n",
      "C:\\Users\\Kimbe\\AppData\\Local\\Temp/ipykernel_7100/3673173512.py:5: FutureWarning: The frame.append method is deprecated and will be removed from pandas in a future version. Use pandas.concat instead.\n",
      "  output_df = output_df.append(df)\n",
      "C:\\Users\\Kimbe\\AppData\\Local\\Temp/ipykernel_7100/3673173512.py:5: FutureWarning: The frame.append method is deprecated and will be removed from pandas in a future version. Use pandas.concat instead.\n",
      "  output_df = output_df.append(df)\n",
      "C:\\Users\\Kimbe\\AppData\\Local\\Temp/ipykernel_7100/3673173512.py:5: FutureWarning: The frame.append method is deprecated and will be removed from pandas in a future version. Use pandas.concat instead.\n",
      "  output_df = output_df.append(df)\n"
     ]
    },
    {
     "name": "stdout",
     "output_type": "stream",
     "text": [
      "Skipping row\n"
     ]
    },
    {
     "name": "stderr",
     "output_type": "stream",
     "text": [
      "C:\\Users\\Kimbe\\AppData\\Local\\Temp/ipykernel_7100/3673173512.py:5: FutureWarning: The frame.append method is deprecated and will be removed from pandas in a future version. Use pandas.concat instead.\n",
      "  output_df = output_df.append(df)\n",
      "C:\\Users\\Kimbe\\AppData\\Local\\Temp/ipykernel_7100/3673173512.py:5: FutureWarning: The frame.append method is deprecated and will be removed from pandas in a future version. Use pandas.concat instead.\n",
      "  output_df = output_df.append(df)\n",
      "C:\\Users\\Kimbe\\AppData\\Local\\Temp/ipykernel_7100/3673173512.py:5: FutureWarning: The frame.append method is deprecated and will be removed from pandas in a future version. Use pandas.concat instead.\n",
      "  output_df = output_df.append(df)\n",
      "C:\\Users\\Kimbe\\AppData\\Local\\Temp/ipykernel_7100/3673173512.py:5: FutureWarning: The frame.append method is deprecated and will be removed from pandas in a future version. Use pandas.concat instead.\n",
      "  output_df = output_df.append(df)\n",
      "C:\\Users\\Kimbe\\AppData\\Local\\Temp/ipykernel_7100/3673173512.py:5: FutureWarning: The frame.append method is deprecated and will be removed from pandas in a future version. Use pandas.concat instead.\n",
      "  output_df = output_df.append(df)\n",
      "C:\\Users\\Kimbe\\AppData\\Local\\Temp/ipykernel_7100/3673173512.py:5: FutureWarning: The frame.append method is deprecated and will be removed from pandas in a future version. Use pandas.concat instead.\n",
      "  output_df = output_df.append(df)\n",
      "C:\\Users\\Kimbe\\AppData\\Local\\Temp/ipykernel_7100/3673173512.py:5: FutureWarning: The frame.append method is deprecated and will be removed from pandas in a future version. Use pandas.concat instead.\n",
      "  output_df = output_df.append(df)\n",
      "C:\\Users\\Kimbe\\AppData\\Local\\Temp/ipykernel_7100/3673173512.py:5: FutureWarning: The frame.append method is deprecated and will be removed from pandas in a future version. Use pandas.concat instead.\n",
      "  output_df = output_df.append(df)\n"
     ]
    },
    {
     "name": "stdout",
     "output_type": "stream",
     "text": [
      "Skipping row\n"
     ]
    },
    {
     "name": "stderr",
     "output_type": "stream",
     "text": [
      "C:\\Users\\Kimbe\\AppData\\Local\\Temp/ipykernel_7100/3673173512.py:5: FutureWarning: The frame.append method is deprecated and will be removed from pandas in a future version. Use pandas.concat instead.\n",
      "  output_df = output_df.append(df)\n",
      "C:\\Users\\Kimbe\\AppData\\Local\\Temp/ipykernel_7100/3673173512.py:5: FutureWarning: The frame.append method is deprecated and will be removed from pandas in a future version. Use pandas.concat instead.\n",
      "  output_df = output_df.append(df)\n",
      "C:\\Users\\Kimbe\\AppData\\Local\\Temp/ipykernel_7100/3673173512.py:5: FutureWarning: The frame.append method is deprecated and will be removed from pandas in a future version. Use pandas.concat instead.\n",
      "  output_df = output_df.append(df)\n",
      "C:\\Users\\Kimbe\\AppData\\Local\\Temp/ipykernel_7100/3673173512.py:5: FutureWarning: The frame.append method is deprecated and will be removed from pandas in a future version. Use pandas.concat instead.\n",
      "  output_df = output_df.append(df)\n",
      "C:\\Users\\Kimbe\\AppData\\Local\\Temp/ipykernel_7100/3673173512.py:5: FutureWarning: The frame.append method is deprecated and will be removed from pandas in a future version. Use pandas.concat instead.\n",
      "  output_df = output_df.append(df)\n",
      "C:\\Users\\Kimbe\\AppData\\Local\\Temp/ipykernel_7100/3673173512.py:5: FutureWarning: The frame.append method is deprecated and will be removed from pandas in a future version. Use pandas.concat instead.\n",
      "  output_df = output_df.append(df)\n",
      "C:\\Users\\Kimbe\\AppData\\Local\\Temp/ipykernel_7100/3673173512.py:5: FutureWarning: The frame.append method is deprecated and will be removed from pandas in a future version. Use pandas.concat instead.\n",
      "  output_df = output_df.append(df)\n",
      "C:\\Users\\Kimbe\\AppData\\Local\\Temp/ipykernel_7100/3673173512.py:5: FutureWarning: The frame.append method is deprecated and will be removed from pandas in a future version. Use pandas.concat instead.\n",
      "  output_df = output_df.append(df)\n"
     ]
    },
    {
     "name": "stdout",
     "output_type": "stream",
     "text": [
      "Skipping row\n"
     ]
    },
    {
     "name": "stderr",
     "output_type": "stream",
     "text": [
      "C:\\Users\\Kimbe\\AppData\\Local\\Temp/ipykernel_7100/3673173512.py:5: FutureWarning: The frame.append method is deprecated and will be removed from pandas in a future version. Use pandas.concat instead.\n",
      "  output_df = output_df.append(df)\n",
      "C:\\Users\\Kimbe\\AppData\\Local\\Temp/ipykernel_7100/3673173512.py:5: FutureWarning: The frame.append method is deprecated and will be removed from pandas in a future version. Use pandas.concat instead.\n",
      "  output_df = output_df.append(df)\n",
      "C:\\Users\\Kimbe\\AppData\\Local\\Temp/ipykernel_7100/3673173512.py:5: FutureWarning: The frame.append method is deprecated and will be removed from pandas in a future version. Use pandas.concat instead.\n",
      "  output_df = output_df.append(df)\n",
      "C:\\Users\\Kimbe\\AppData\\Local\\Temp/ipykernel_7100/3673173512.py:5: FutureWarning: The frame.append method is deprecated and will be removed from pandas in a future version. Use pandas.concat instead.\n",
      "  output_df = output_df.append(df)\n",
      "C:\\Users\\Kimbe\\AppData\\Local\\Temp/ipykernel_7100/3673173512.py:5: FutureWarning: The frame.append method is deprecated and will be removed from pandas in a future version. Use pandas.concat instead.\n",
      "  output_df = output_df.append(df)\n",
      "C:\\Users\\Kimbe\\AppData\\Local\\Temp/ipykernel_7100/3673173512.py:5: FutureWarning: The frame.append method is deprecated and will be removed from pandas in a future version. Use pandas.concat instead.\n",
      "  output_df = output_df.append(df)\n",
      "C:\\Users\\Kimbe\\AppData\\Local\\Temp/ipykernel_7100/3673173512.py:5: FutureWarning: The frame.append method is deprecated and will be removed from pandas in a future version. Use pandas.concat instead.\n",
      "  output_df = output_df.append(df)\n",
      "C:\\Users\\Kimbe\\AppData\\Local\\Temp/ipykernel_7100/3673173512.py:5: FutureWarning: The frame.append method is deprecated and will be removed from pandas in a future version. Use pandas.concat instead.\n",
      "  output_df = output_df.append(df)\n"
     ]
    },
    {
     "name": "stdout",
     "output_type": "stream",
     "text": [
      "Skipping row\n"
     ]
    },
    {
     "name": "stderr",
     "output_type": "stream",
     "text": [
      "C:\\Users\\Kimbe\\AppData\\Local\\Temp/ipykernel_7100/3673173512.py:5: FutureWarning: The frame.append method is deprecated and will be removed from pandas in a future version. Use pandas.concat instead.\n",
      "  output_df = output_df.append(df)\n",
      "C:\\Users\\Kimbe\\AppData\\Local\\Temp/ipykernel_7100/3673173512.py:5: FutureWarning: The frame.append method is deprecated and will be removed from pandas in a future version. Use pandas.concat instead.\n",
      "  output_df = output_df.append(df)\n",
      "C:\\Users\\Kimbe\\AppData\\Local\\Temp/ipykernel_7100/3673173512.py:5: FutureWarning: The frame.append method is deprecated and will be removed from pandas in a future version. Use pandas.concat instead.\n",
      "  output_df = output_df.append(df)\n",
      "C:\\Users\\Kimbe\\AppData\\Local\\Temp/ipykernel_7100/3673173512.py:5: FutureWarning: The frame.append method is deprecated and will be removed from pandas in a future version. Use pandas.concat instead.\n",
      "  output_df = output_df.append(df)\n",
      "C:\\Users\\Kimbe\\AppData\\Local\\Temp/ipykernel_7100/3673173512.py:5: FutureWarning: The frame.append method is deprecated and will be removed from pandas in a future version. Use pandas.concat instead.\n",
      "  output_df = output_df.append(df)\n",
      "C:\\Users\\Kimbe\\AppData\\Local\\Temp/ipykernel_7100/3673173512.py:5: FutureWarning: The frame.append method is deprecated and will be removed from pandas in a future version. Use pandas.concat instead.\n",
      "  output_df = output_df.append(df)\n",
      "C:\\Users\\Kimbe\\AppData\\Local\\Temp/ipykernel_7100/3673173512.py:5: FutureWarning: The frame.append method is deprecated and will be removed from pandas in a future version. Use pandas.concat instead.\n",
      "  output_df = output_df.append(df)\n",
      "C:\\Users\\Kimbe\\AppData\\Local\\Temp/ipykernel_7100/3673173512.py:5: FutureWarning: The frame.append method is deprecated and will be removed from pandas in a future version. Use pandas.concat instead.\n",
      "  output_df = output_df.append(df)\n",
      "C:\\Users\\Kimbe\\AppData\\Local\\Temp/ipykernel_7100/3673173512.py:5: FutureWarning: The frame.append method is deprecated and will be removed from pandas in a future version. Use pandas.concat instead.\n",
      "  output_df = output_df.append(df)\n",
      "C:\\Users\\Kimbe\\AppData\\Local\\Temp/ipykernel_7100/3673173512.py:5: FutureWarning: The frame.append method is deprecated and will be removed from pandas in a future version. Use pandas.concat instead.\n",
      "  output_df = output_df.append(df)\n",
      "C:\\Users\\Kimbe\\AppData\\Local\\Temp/ipykernel_7100/3673173512.py:5: FutureWarning: The frame.append method is deprecated and will be removed from pandas in a future version. Use pandas.concat instead.\n",
      "  output_df = output_df.append(df)\n",
      "C:\\Users\\Kimbe\\AppData\\Local\\Temp/ipykernel_7100/3673173512.py:5: FutureWarning: The frame.append method is deprecated and will be removed from pandas in a future version. Use pandas.concat instead.\n",
      "  output_df = output_df.append(df)\n",
      "C:\\Users\\Kimbe\\AppData\\Local\\Temp/ipykernel_7100/3673173512.py:5: FutureWarning: The frame.append method is deprecated and will be removed from pandas in a future version. Use pandas.concat instead.\n",
      "  output_df = output_df.append(df)\n",
      "C:\\Users\\Kimbe\\AppData\\Local\\Temp/ipykernel_7100/3673173512.py:5: FutureWarning: The frame.append method is deprecated and will be removed from pandas in a future version. Use pandas.concat instead.\n",
      "  output_df = output_df.append(df)\n",
      "C:\\Users\\Kimbe\\AppData\\Local\\Temp/ipykernel_7100/3673173512.py:5: FutureWarning: The frame.append method is deprecated and will be removed from pandas in a future version. Use pandas.concat instead.\n",
      "  output_df = output_df.append(df)\n",
      "C:\\Users\\Kimbe\\AppData\\Local\\Temp/ipykernel_7100/3673173512.py:5: FutureWarning: The frame.append method is deprecated and will be removed from pandas in a future version. Use pandas.concat instead.\n",
      "  output_df = output_df.append(df)\n",
      "C:\\Users\\Kimbe\\AppData\\Local\\Temp/ipykernel_7100/3673173512.py:5: FutureWarning: The frame.append method is deprecated and will be removed from pandas in a future version. Use pandas.concat instead.\n",
      "  output_df = output_df.append(df)\n",
      "C:\\Users\\Kimbe\\AppData\\Local\\Temp/ipykernel_7100/3673173512.py:5: FutureWarning: The frame.append method is deprecated and will be removed from pandas in a future version. Use pandas.concat instead.\n",
      "  output_df = output_df.append(df)\n",
      "C:\\Users\\Kimbe\\AppData\\Local\\Temp/ipykernel_7100/3673173512.py:5: FutureWarning: The frame.append method is deprecated and will be removed from pandas in a future version. Use pandas.concat instead.\n",
      "  output_df = output_df.append(df)\n"
     ]
    },
    {
     "name": "stdout",
     "output_type": "stream",
     "text": [
      "Skipping row\n"
     ]
    },
    {
     "name": "stderr",
     "output_type": "stream",
     "text": [
      "C:\\Users\\Kimbe\\AppData\\Local\\Temp/ipykernel_7100/3673173512.py:5: FutureWarning: The frame.append method is deprecated and will be removed from pandas in a future version. Use pandas.concat instead.\n",
      "  output_df = output_df.append(df)\n",
      "C:\\Users\\Kimbe\\AppData\\Local\\Temp/ipykernel_7100/3673173512.py:5: FutureWarning: The frame.append method is deprecated and will be removed from pandas in a future version. Use pandas.concat instead.\n",
      "  output_df = output_df.append(df)\n",
      "C:\\Users\\Kimbe\\AppData\\Local\\Temp/ipykernel_7100/3673173512.py:5: FutureWarning: The frame.append method is deprecated and will be removed from pandas in a future version. Use pandas.concat instead.\n",
      "  output_df = output_df.append(df)\n",
      "C:\\Users\\Kimbe\\AppData\\Local\\Temp/ipykernel_7100/3673173512.py:5: FutureWarning: The frame.append method is deprecated and will be removed from pandas in a future version. Use pandas.concat instead.\n",
      "  output_df = output_df.append(df)\n",
      "C:\\Users\\Kimbe\\AppData\\Local\\Temp/ipykernel_7100/3673173512.py:5: FutureWarning: The frame.append method is deprecated and will be removed from pandas in a future version. Use pandas.concat instead.\n",
      "  output_df = output_df.append(df)\n",
      "C:\\Users\\Kimbe\\AppData\\Local\\Temp/ipykernel_7100/3673173512.py:5: FutureWarning: The frame.append method is deprecated and will be removed from pandas in a future version. Use pandas.concat instead.\n",
      "  output_df = output_df.append(df)\n",
      "C:\\Users\\Kimbe\\AppData\\Local\\Temp/ipykernel_7100/3673173512.py:5: FutureWarning: The frame.append method is deprecated and will be removed from pandas in a future version. Use pandas.concat instead.\n",
      "  output_df = output_df.append(df)\n",
      "C:\\Users\\Kimbe\\AppData\\Local\\Temp/ipykernel_7100/3673173512.py:5: FutureWarning: The frame.append method is deprecated and will be removed from pandas in a future version. Use pandas.concat instead.\n",
      "  output_df = output_df.append(df)\n",
      "C:\\Users\\Kimbe\\AppData\\Local\\Temp/ipykernel_7100/3673173512.py:5: FutureWarning: The frame.append method is deprecated and will be removed from pandas in a future version. Use pandas.concat instead.\n",
      "  output_df = output_df.append(df)\n",
      "C:\\Users\\Kimbe\\AppData\\Local\\Temp/ipykernel_7100/3673173512.py:5: FutureWarning: The frame.append method is deprecated and will be removed from pandas in a future version. Use pandas.concat instead.\n",
      "  output_df = output_df.append(df)\n"
     ]
    },
    {
     "name": "stdout",
     "output_type": "stream",
     "text": [
      "Skipping row\n"
     ]
    },
    {
     "name": "stderr",
     "output_type": "stream",
     "text": [
      "C:\\Users\\Kimbe\\AppData\\Local\\Temp/ipykernel_7100/3673173512.py:5: FutureWarning: The frame.append method is deprecated and will be removed from pandas in a future version. Use pandas.concat instead.\n",
      "  output_df = output_df.append(df)\n",
      "C:\\Users\\Kimbe\\AppData\\Local\\Temp/ipykernel_7100/3673173512.py:5: FutureWarning: The frame.append method is deprecated and will be removed from pandas in a future version. Use pandas.concat instead.\n",
      "  output_df = output_df.append(df)\n",
      "C:\\Users\\Kimbe\\AppData\\Local\\Temp/ipykernel_7100/3673173512.py:5: FutureWarning: The frame.append method is deprecated and will be removed from pandas in a future version. Use pandas.concat instead.\n",
      "  output_df = output_df.append(df)\n",
      "C:\\Users\\Kimbe\\AppData\\Local\\Temp/ipykernel_7100/3673173512.py:5: FutureWarning: The frame.append method is deprecated and will be removed from pandas in a future version. Use pandas.concat instead.\n",
      "  output_df = output_df.append(df)\n",
      "C:\\Users\\Kimbe\\AppData\\Local\\Temp/ipykernel_7100/3673173512.py:5: FutureWarning: The frame.append method is deprecated and will be removed from pandas in a future version. Use pandas.concat instead.\n",
      "  output_df = output_df.append(df)\n",
      "C:\\Users\\Kimbe\\AppData\\Local\\Temp/ipykernel_7100/3673173512.py:5: FutureWarning: The frame.append method is deprecated and will be removed from pandas in a future version. Use pandas.concat instead.\n",
      "  output_df = output_df.append(df)\n",
      "C:\\Users\\Kimbe\\AppData\\Local\\Temp/ipykernel_7100/3673173512.py:5: FutureWarning: The frame.append method is deprecated and will be removed from pandas in a future version. Use pandas.concat instead.\n",
      "  output_df = output_df.append(df)\n",
      "C:\\Users\\Kimbe\\AppData\\Local\\Temp/ipykernel_7100/3673173512.py:5: FutureWarning: The frame.append method is deprecated and will be removed from pandas in a future version. Use pandas.concat instead.\n",
      "  output_df = output_df.append(df)\n",
      "C:\\Users\\Kimbe\\AppData\\Local\\Temp/ipykernel_7100/3673173512.py:5: FutureWarning: The frame.append method is deprecated and will be removed from pandas in a future version. Use pandas.concat instead.\n",
      "  output_df = output_df.append(df)\n",
      "C:\\Users\\Kimbe\\AppData\\Local\\Temp/ipykernel_7100/3673173512.py:5: FutureWarning: The frame.append method is deprecated and will be removed from pandas in a future version. Use pandas.concat instead.\n",
      "  output_df = output_df.append(df)\n"
     ]
    },
    {
     "name": "stdout",
     "output_type": "stream",
     "text": [
      "Skipping row\n"
     ]
    },
    {
     "name": "stderr",
     "output_type": "stream",
     "text": [
      "C:\\Users\\Kimbe\\AppData\\Local\\Temp/ipykernel_7100/3673173512.py:5: FutureWarning: The frame.append method is deprecated and will be removed from pandas in a future version. Use pandas.concat instead.\n",
      "  output_df = output_df.append(df)\n",
      "C:\\Users\\Kimbe\\AppData\\Local\\Temp/ipykernel_7100/3673173512.py:5: FutureWarning: The frame.append method is deprecated and will be removed from pandas in a future version. Use pandas.concat instead.\n",
      "  output_df = output_df.append(df)\n",
      "C:\\Users\\Kimbe\\AppData\\Local\\Temp/ipykernel_7100/3673173512.py:5: FutureWarning: The frame.append method is deprecated and will be removed from pandas in a future version. Use pandas.concat instead.\n",
      "  output_df = output_df.append(df)\n",
      "C:\\Users\\Kimbe\\AppData\\Local\\Temp/ipykernel_7100/3673173512.py:5: FutureWarning: The frame.append method is deprecated and will be removed from pandas in a future version. Use pandas.concat instead.\n",
      "  output_df = output_df.append(df)\n",
      "C:\\Users\\Kimbe\\AppData\\Local\\Temp/ipykernel_7100/3673173512.py:5: FutureWarning: The frame.append method is deprecated and will be removed from pandas in a future version. Use pandas.concat instead.\n",
      "  output_df = output_df.append(df)\n",
      "C:\\Users\\Kimbe\\AppData\\Local\\Temp/ipykernel_7100/3673173512.py:5: FutureWarning: The frame.append method is deprecated and will be removed from pandas in a future version. Use pandas.concat instead.\n",
      "  output_df = output_df.append(df)\n",
      "C:\\Users\\Kimbe\\AppData\\Local\\Temp/ipykernel_7100/3673173512.py:5: FutureWarning: The frame.append method is deprecated and will be removed from pandas in a future version. Use pandas.concat instead.\n",
      "  output_df = output_df.append(df)\n",
      "C:\\Users\\Kimbe\\AppData\\Local\\Temp/ipykernel_7100/3673173512.py:5: FutureWarning: The frame.append method is deprecated and will be removed from pandas in a future version. Use pandas.concat instead.\n",
      "  output_df = output_df.append(df)\n",
      "C:\\Users\\Kimbe\\AppData\\Local\\Temp/ipykernel_7100/3673173512.py:5: FutureWarning: The frame.append method is deprecated and will be removed from pandas in a future version. Use pandas.concat instead.\n",
      "  output_df = output_df.append(df)\n",
      "C:\\Users\\Kimbe\\AppData\\Local\\Temp/ipykernel_7100/3673173512.py:5: FutureWarning: The frame.append method is deprecated and will be removed from pandas in a future version. Use pandas.concat instead.\n",
      "  output_df = output_df.append(df)\n",
      "C:\\Users\\Kimbe\\AppData\\Local\\Temp/ipykernel_7100/3673173512.py:5: FutureWarning: The frame.append method is deprecated and will be removed from pandas in a future version. Use pandas.concat instead.\n",
      "  output_df = output_df.append(df)\n"
     ]
    },
    {
     "name": "stdout",
     "output_type": "stream",
     "text": [
      "Skipping row\n"
     ]
    },
    {
     "name": "stderr",
     "output_type": "stream",
     "text": [
      "C:\\Users\\Kimbe\\AppData\\Local\\Temp/ipykernel_7100/3673173512.py:5: FutureWarning: The frame.append method is deprecated and will be removed from pandas in a future version. Use pandas.concat instead.\n",
      "  output_df = output_df.append(df)\n",
      "C:\\Users\\Kimbe\\AppData\\Local\\Temp/ipykernel_7100/3673173512.py:5: FutureWarning: The frame.append method is deprecated and will be removed from pandas in a future version. Use pandas.concat instead.\n",
      "  output_df = output_df.append(df)\n",
      "C:\\Users\\Kimbe\\AppData\\Local\\Temp/ipykernel_7100/3673173512.py:5: FutureWarning: The frame.append method is deprecated and will be removed from pandas in a future version. Use pandas.concat instead.\n",
      "  output_df = output_df.append(df)\n",
      "C:\\Users\\Kimbe\\AppData\\Local\\Temp/ipykernel_7100/3673173512.py:5: FutureWarning: The frame.append method is deprecated and will be removed from pandas in a future version. Use pandas.concat instead.\n",
      "  output_df = output_df.append(df)\n",
      "C:\\Users\\Kimbe\\AppData\\Local\\Temp/ipykernel_7100/3673173512.py:5: FutureWarning: The frame.append method is deprecated and will be removed from pandas in a future version. Use pandas.concat instead.\n",
      "  output_df = output_df.append(df)\n",
      "C:\\Users\\Kimbe\\AppData\\Local\\Temp/ipykernel_7100/3673173512.py:5: FutureWarning: The frame.append method is deprecated and will be removed from pandas in a future version. Use pandas.concat instead.\n",
      "  output_df = output_df.append(df)\n",
      "C:\\Users\\Kimbe\\AppData\\Local\\Temp/ipykernel_7100/3673173512.py:5: FutureWarning: The frame.append method is deprecated and will be removed from pandas in a future version. Use pandas.concat instead.\n",
      "  output_df = output_df.append(df)\n",
      "C:\\Users\\Kimbe\\AppData\\Local\\Temp/ipykernel_7100/3673173512.py:5: FutureWarning: The frame.append method is deprecated and will be removed from pandas in a future version. Use pandas.concat instead.\n",
      "  output_df = output_df.append(df)\n",
      "C:\\Users\\Kimbe\\AppData\\Local\\Temp/ipykernel_7100/3673173512.py:5: FutureWarning: The frame.append method is deprecated and will be removed from pandas in a future version. Use pandas.concat instead.\n",
      "  output_df = output_df.append(df)\n",
      "C:\\Users\\Kimbe\\AppData\\Local\\Temp/ipykernel_7100/3673173512.py:5: FutureWarning: The frame.append method is deprecated and will be removed from pandas in a future version. Use pandas.concat instead.\n",
      "  output_df = output_df.append(df)\n",
      "C:\\Users\\Kimbe\\AppData\\Local\\Temp/ipykernel_7100/3673173512.py:5: FutureWarning: The frame.append method is deprecated and will be removed from pandas in a future version. Use pandas.concat instead.\n",
      "  output_df = output_df.append(df)\n"
     ]
    },
    {
     "name": "stdout",
     "output_type": "stream",
     "text": [
      "Skipping row\n"
     ]
    },
    {
     "name": "stderr",
     "output_type": "stream",
     "text": [
      "C:\\Users\\Kimbe\\AppData\\Local\\Temp/ipykernel_7100/3673173512.py:5: FutureWarning: The frame.append method is deprecated and will be removed from pandas in a future version. Use pandas.concat instead.\n",
      "  output_df = output_df.append(df)\n",
      "C:\\Users\\Kimbe\\AppData\\Local\\Temp/ipykernel_7100/3673173512.py:5: FutureWarning: The frame.append method is deprecated and will be removed from pandas in a future version. Use pandas.concat instead.\n",
      "  output_df = output_df.append(df)\n",
      "C:\\Users\\Kimbe\\AppData\\Local\\Temp/ipykernel_7100/3673173512.py:5: FutureWarning: The frame.append method is deprecated and will be removed from pandas in a future version. Use pandas.concat instead.\n",
      "  output_df = output_df.append(df)\n",
      "C:\\Users\\Kimbe\\AppData\\Local\\Temp/ipykernel_7100/3673173512.py:5: FutureWarning: The frame.append method is deprecated and will be removed from pandas in a future version. Use pandas.concat instead.\n",
      "  output_df = output_df.append(df)\n",
      "C:\\Users\\Kimbe\\AppData\\Local\\Temp/ipykernel_7100/3673173512.py:5: FutureWarning: The frame.append method is deprecated and will be removed from pandas in a future version. Use pandas.concat instead.\n",
      "  output_df = output_df.append(df)\n",
      "C:\\Users\\Kimbe\\AppData\\Local\\Temp/ipykernel_7100/3673173512.py:5: FutureWarning: The frame.append method is deprecated and will be removed from pandas in a future version. Use pandas.concat instead.\n",
      "  output_df = output_df.append(df)\n",
      "C:\\Users\\Kimbe\\AppData\\Local\\Temp/ipykernel_7100/3673173512.py:5: FutureWarning: The frame.append method is deprecated and will be removed from pandas in a future version. Use pandas.concat instead.\n",
      "  output_df = output_df.append(df)\n",
      "C:\\Users\\Kimbe\\AppData\\Local\\Temp/ipykernel_7100/3673173512.py:5: FutureWarning: The frame.append method is deprecated and will be removed from pandas in a future version. Use pandas.concat instead.\n",
      "  output_df = output_df.append(df)\n",
      "C:\\Users\\Kimbe\\AppData\\Local\\Temp/ipykernel_7100/3673173512.py:5: FutureWarning: The frame.append method is deprecated and will be removed from pandas in a future version. Use pandas.concat instead.\n",
      "  output_df = output_df.append(df)\n",
      "C:\\Users\\Kimbe\\AppData\\Local\\Temp/ipykernel_7100/3673173512.py:5: FutureWarning: The frame.append method is deprecated and will be removed from pandas in a future version. Use pandas.concat instead.\n",
      "  output_df = output_df.append(df)\n",
      "C:\\Users\\Kimbe\\AppData\\Local\\Temp/ipykernel_7100/3673173512.py:5: FutureWarning: The frame.append method is deprecated and will be removed from pandas in a future version. Use pandas.concat instead.\n",
      "  output_df = output_df.append(df)\n"
     ]
    },
    {
     "name": "stdout",
     "output_type": "stream",
     "text": [
      "Skipping row\n"
     ]
    },
    {
     "name": "stderr",
     "output_type": "stream",
     "text": [
      "C:\\Users\\Kimbe\\AppData\\Local\\Temp/ipykernel_7100/3673173512.py:5: FutureWarning: The frame.append method is deprecated and will be removed from pandas in a future version. Use pandas.concat instead.\n",
      "  output_df = output_df.append(df)\n",
      "C:\\Users\\Kimbe\\AppData\\Local\\Temp/ipykernel_7100/3673173512.py:5: FutureWarning: The frame.append method is deprecated and will be removed from pandas in a future version. Use pandas.concat instead.\n",
      "  output_df = output_df.append(df)\n",
      "C:\\Users\\Kimbe\\AppData\\Local\\Temp/ipykernel_7100/3673173512.py:5: FutureWarning: The frame.append method is deprecated and will be removed from pandas in a future version. Use pandas.concat instead.\n",
      "  output_df = output_df.append(df)\n",
      "C:\\Users\\Kimbe\\AppData\\Local\\Temp/ipykernel_7100/3673173512.py:5: FutureWarning: The frame.append method is deprecated and will be removed from pandas in a future version. Use pandas.concat instead.\n",
      "  output_df = output_df.append(df)\n",
      "C:\\Users\\Kimbe\\AppData\\Local\\Temp/ipykernel_7100/3673173512.py:5: FutureWarning: The frame.append method is deprecated and will be removed from pandas in a future version. Use pandas.concat instead.\n",
      "  output_df = output_df.append(df)\n",
      "C:\\Users\\Kimbe\\AppData\\Local\\Temp/ipykernel_7100/3673173512.py:5: FutureWarning: The frame.append method is deprecated and will be removed from pandas in a future version. Use pandas.concat instead.\n",
      "  output_df = output_df.append(df)\n",
      "C:\\Users\\Kimbe\\AppData\\Local\\Temp/ipykernel_7100/3673173512.py:5: FutureWarning: The frame.append method is deprecated and will be removed from pandas in a future version. Use pandas.concat instead.\n",
      "  output_df = output_df.append(df)\n",
      "C:\\Users\\Kimbe\\AppData\\Local\\Temp/ipykernel_7100/3673173512.py:5: FutureWarning: The frame.append method is deprecated and will be removed from pandas in a future version. Use pandas.concat instead.\n",
      "  output_df = output_df.append(df)\n",
      "C:\\Users\\Kimbe\\AppData\\Local\\Temp/ipykernel_7100/3673173512.py:5: FutureWarning: The frame.append method is deprecated and will be removed from pandas in a future version. Use pandas.concat instead.\n",
      "  output_df = output_df.append(df)\n",
      "C:\\Users\\Kimbe\\AppData\\Local\\Temp/ipykernel_7100/3673173512.py:5: FutureWarning: The frame.append method is deprecated and will be removed from pandas in a future version. Use pandas.concat instead.\n",
      "  output_df = output_df.append(df)\n",
      "C:\\Users\\Kimbe\\AppData\\Local\\Temp/ipykernel_7100/3673173512.py:5: FutureWarning: The frame.append method is deprecated and will be removed from pandas in a future version. Use pandas.concat instead.\n",
      "  output_df = output_df.append(df)\n"
     ]
    },
    {
     "name": "stdout",
     "output_type": "stream",
     "text": [
      "Skipping row\n"
     ]
    },
    {
     "name": "stderr",
     "output_type": "stream",
     "text": [
      "C:\\Users\\Kimbe\\AppData\\Local\\Temp/ipykernel_7100/3673173512.py:5: FutureWarning: The frame.append method is deprecated and will be removed from pandas in a future version. Use pandas.concat instead.\n",
      "  output_df = output_df.append(df)\n",
      "C:\\Users\\Kimbe\\AppData\\Local\\Temp/ipykernel_7100/3673173512.py:5: FutureWarning: The frame.append method is deprecated and will be removed from pandas in a future version. Use pandas.concat instead.\n",
      "  output_df = output_df.append(df)\n",
      "C:\\Users\\Kimbe\\AppData\\Local\\Temp/ipykernel_7100/3673173512.py:5: FutureWarning: The frame.append method is deprecated and will be removed from pandas in a future version. Use pandas.concat instead.\n",
      "  output_df = output_df.append(df)\n",
      "C:\\Users\\Kimbe\\AppData\\Local\\Temp/ipykernel_7100/3673173512.py:5: FutureWarning: The frame.append method is deprecated and will be removed from pandas in a future version. Use pandas.concat instead.\n",
      "  output_df = output_df.append(df)\n",
      "C:\\Users\\Kimbe\\AppData\\Local\\Temp/ipykernel_7100/3673173512.py:5: FutureWarning: The frame.append method is deprecated and will be removed from pandas in a future version. Use pandas.concat instead.\n",
      "  output_df = output_df.append(df)\n",
      "C:\\Users\\Kimbe\\AppData\\Local\\Temp/ipykernel_7100/3673173512.py:5: FutureWarning: The frame.append method is deprecated and will be removed from pandas in a future version. Use pandas.concat instead.\n",
      "  output_df = output_df.append(df)\n",
      "C:\\Users\\Kimbe\\AppData\\Local\\Temp/ipykernel_7100/3673173512.py:5: FutureWarning: The frame.append method is deprecated and will be removed from pandas in a future version. Use pandas.concat instead.\n",
      "  output_df = output_df.append(df)\n",
      "C:\\Users\\Kimbe\\AppData\\Local\\Temp/ipykernel_7100/3673173512.py:5: FutureWarning: The frame.append method is deprecated and will be removed from pandas in a future version. Use pandas.concat instead.\n",
      "  output_df = output_df.append(df)\n",
      "C:\\Users\\Kimbe\\AppData\\Local\\Temp/ipykernel_7100/3673173512.py:5: FutureWarning: The frame.append method is deprecated and will be removed from pandas in a future version. Use pandas.concat instead.\n",
      "  output_df = output_df.append(df)\n",
      "C:\\Users\\Kimbe\\AppData\\Local\\Temp/ipykernel_7100/3673173512.py:5: FutureWarning: The frame.append method is deprecated and will be removed from pandas in a future version. Use pandas.concat instead.\n",
      "  output_df = output_df.append(df)\n",
      "C:\\Users\\Kimbe\\AppData\\Local\\Temp/ipykernel_7100/3673173512.py:5: FutureWarning: The frame.append method is deprecated and will be removed from pandas in a future version. Use pandas.concat instead.\n",
      "  output_df = output_df.append(df)\n"
     ]
    },
    {
     "name": "stdout",
     "output_type": "stream",
     "text": [
      "Skipping row\n"
     ]
    },
    {
     "name": "stderr",
     "output_type": "stream",
     "text": [
      "C:\\Users\\Kimbe\\AppData\\Local\\Temp/ipykernel_7100/3673173512.py:5: FutureWarning: The frame.append method is deprecated and will be removed from pandas in a future version. Use pandas.concat instead.\n",
      "  output_df = output_df.append(df)\n",
      "C:\\Users\\Kimbe\\AppData\\Local\\Temp/ipykernel_7100/3673173512.py:5: FutureWarning: The frame.append method is deprecated and will be removed from pandas in a future version. Use pandas.concat instead.\n",
      "  output_df = output_df.append(df)\n",
      "C:\\Users\\Kimbe\\AppData\\Local\\Temp/ipykernel_7100/3673173512.py:5: FutureWarning: The frame.append method is deprecated and will be removed from pandas in a future version. Use pandas.concat instead.\n",
      "  output_df = output_df.append(df)\n",
      "C:\\Users\\Kimbe\\AppData\\Local\\Temp/ipykernel_7100/3673173512.py:5: FutureWarning: The frame.append method is deprecated and will be removed from pandas in a future version. Use pandas.concat instead.\n",
      "  output_df = output_df.append(df)\n",
      "C:\\Users\\Kimbe\\AppData\\Local\\Temp/ipykernel_7100/3673173512.py:5: FutureWarning: The frame.append method is deprecated and will be removed from pandas in a future version. Use pandas.concat instead.\n",
      "  output_df = output_df.append(df)\n",
      "C:\\Users\\Kimbe\\AppData\\Local\\Temp/ipykernel_7100/3673173512.py:5: FutureWarning: The frame.append method is deprecated and will be removed from pandas in a future version. Use pandas.concat instead.\n",
      "  output_df = output_df.append(df)\n",
      "C:\\Users\\Kimbe\\AppData\\Local\\Temp/ipykernel_7100/3673173512.py:5: FutureWarning: The frame.append method is deprecated and will be removed from pandas in a future version. Use pandas.concat instead.\n",
      "  output_df = output_df.append(df)\n",
      "C:\\Users\\Kimbe\\AppData\\Local\\Temp/ipykernel_7100/3673173512.py:5: FutureWarning: The frame.append method is deprecated and will be removed from pandas in a future version. Use pandas.concat instead.\n",
      "  output_df = output_df.append(df)\n",
      "C:\\Users\\Kimbe\\AppData\\Local\\Temp/ipykernel_7100/3673173512.py:5: FutureWarning: The frame.append method is deprecated and will be removed from pandas in a future version. Use pandas.concat instead.\n",
      "  output_df = output_df.append(df)\n",
      "C:\\Users\\Kimbe\\AppData\\Local\\Temp/ipykernel_7100/3673173512.py:5: FutureWarning: The frame.append method is deprecated and will be removed from pandas in a future version. Use pandas.concat instead.\n",
      "  output_df = output_df.append(df)\n",
      "C:\\Users\\Kimbe\\AppData\\Local\\Temp/ipykernel_7100/3673173512.py:5: FutureWarning: The frame.append method is deprecated and will be removed from pandas in a future version. Use pandas.concat instead.\n",
      "  output_df = output_df.append(df)\n"
     ]
    },
    {
     "name": "stdout",
     "output_type": "stream",
     "text": [
      "Skipping row\n"
     ]
    },
    {
     "name": "stderr",
     "output_type": "stream",
     "text": [
      "C:\\Users\\Kimbe\\AppData\\Local\\Temp/ipykernel_7100/3673173512.py:5: FutureWarning: The frame.append method is deprecated and will be removed from pandas in a future version. Use pandas.concat instead.\n",
      "  output_df = output_df.append(df)\n",
      "C:\\Users\\Kimbe\\AppData\\Local\\Temp/ipykernel_7100/3673173512.py:5: FutureWarning: The frame.append method is deprecated and will be removed from pandas in a future version. Use pandas.concat instead.\n",
      "  output_df = output_df.append(df)\n",
      "C:\\Users\\Kimbe\\AppData\\Local\\Temp/ipykernel_7100/3673173512.py:5: FutureWarning: The frame.append method is deprecated and will be removed from pandas in a future version. Use pandas.concat instead.\n",
      "  output_df = output_df.append(df)\n",
      "C:\\Users\\Kimbe\\AppData\\Local\\Temp/ipykernel_7100/3673173512.py:5: FutureWarning: The frame.append method is deprecated and will be removed from pandas in a future version. Use pandas.concat instead.\n",
      "  output_df = output_df.append(df)\n",
      "C:\\Users\\Kimbe\\AppData\\Local\\Temp/ipykernel_7100/3673173512.py:5: FutureWarning: The frame.append method is deprecated and will be removed from pandas in a future version. Use pandas.concat instead.\n",
      "  output_df = output_df.append(df)\n",
      "C:\\Users\\Kimbe\\AppData\\Local\\Temp/ipykernel_7100/3673173512.py:5: FutureWarning: The frame.append method is deprecated and will be removed from pandas in a future version. Use pandas.concat instead.\n",
      "  output_df = output_df.append(df)\n",
      "C:\\Users\\Kimbe\\AppData\\Local\\Temp/ipykernel_7100/3673173512.py:5: FutureWarning: The frame.append method is deprecated and will be removed from pandas in a future version. Use pandas.concat instead.\n",
      "  output_df = output_df.append(df)\n",
      "C:\\Users\\Kimbe\\AppData\\Local\\Temp/ipykernel_7100/3673173512.py:5: FutureWarning: The frame.append method is deprecated and will be removed from pandas in a future version. Use pandas.concat instead.\n",
      "  output_df = output_df.append(df)\n",
      "C:\\Users\\Kimbe\\AppData\\Local\\Temp/ipykernel_7100/3673173512.py:5: FutureWarning: The frame.append method is deprecated and will be removed from pandas in a future version. Use pandas.concat instead.\n",
      "  output_df = output_df.append(df)\n",
      "C:\\Users\\Kimbe\\AppData\\Local\\Temp/ipykernel_7100/3673173512.py:5: FutureWarning: The frame.append method is deprecated and will be removed from pandas in a future version. Use pandas.concat instead.\n",
      "  output_df = output_df.append(df)\n",
      "C:\\Users\\Kimbe\\AppData\\Local\\Temp/ipykernel_7100/3673173512.py:5: FutureWarning: The frame.append method is deprecated and will be removed from pandas in a future version. Use pandas.concat instead.\n",
      "  output_df = output_df.append(df)\n"
     ]
    },
    {
     "name": "stdout",
     "output_type": "stream",
     "text": [
      "Skipping row\n"
     ]
    },
    {
     "name": "stderr",
     "output_type": "stream",
     "text": [
      "C:\\Users\\Kimbe\\AppData\\Local\\Temp/ipykernel_7100/3673173512.py:5: FutureWarning: The frame.append method is deprecated and will be removed from pandas in a future version. Use pandas.concat instead.\n",
      "  output_df = output_df.append(df)\n",
      "C:\\Users\\Kimbe\\AppData\\Local\\Temp/ipykernel_7100/3673173512.py:5: FutureWarning: The frame.append method is deprecated and will be removed from pandas in a future version. Use pandas.concat instead.\n",
      "  output_df = output_df.append(df)\n",
      "C:\\Users\\Kimbe\\AppData\\Local\\Temp/ipykernel_7100/3673173512.py:5: FutureWarning: The frame.append method is deprecated and will be removed from pandas in a future version. Use pandas.concat instead.\n",
      "  output_df = output_df.append(df)\n",
      "C:\\Users\\Kimbe\\AppData\\Local\\Temp/ipykernel_7100/3673173512.py:5: FutureWarning: The frame.append method is deprecated and will be removed from pandas in a future version. Use pandas.concat instead.\n",
      "  output_df = output_df.append(df)\n",
      "C:\\Users\\Kimbe\\AppData\\Local\\Temp/ipykernel_7100/3673173512.py:5: FutureWarning: The frame.append method is deprecated and will be removed from pandas in a future version. Use pandas.concat instead.\n",
      "  output_df = output_df.append(df)\n",
      "C:\\Users\\Kimbe\\AppData\\Local\\Temp/ipykernel_7100/3673173512.py:5: FutureWarning: The frame.append method is deprecated and will be removed from pandas in a future version. Use pandas.concat instead.\n",
      "  output_df = output_df.append(df)\n",
      "C:\\Users\\Kimbe\\AppData\\Local\\Temp/ipykernel_7100/3673173512.py:5: FutureWarning: The frame.append method is deprecated and will be removed from pandas in a future version. Use pandas.concat instead.\n",
      "  output_df = output_df.append(df)\n",
      "C:\\Users\\Kimbe\\AppData\\Local\\Temp/ipykernel_7100/3673173512.py:5: FutureWarning: The frame.append method is deprecated and will be removed from pandas in a future version. Use pandas.concat instead.\n",
      "  output_df = output_df.append(df)\n",
      "C:\\Users\\Kimbe\\AppData\\Local\\Temp/ipykernel_7100/3673173512.py:5: FutureWarning: The frame.append method is deprecated and will be removed from pandas in a future version. Use pandas.concat instead.\n",
      "  output_df = output_df.append(df)\n",
      "C:\\Users\\Kimbe\\AppData\\Local\\Temp/ipykernel_7100/3673173512.py:5: FutureWarning: The frame.append method is deprecated and will be removed from pandas in a future version. Use pandas.concat instead.\n",
      "  output_df = output_df.append(df)\n"
     ]
    },
    {
     "name": "stdout",
     "output_type": "stream",
     "text": [
      "Skipping row\n"
     ]
    },
    {
     "name": "stderr",
     "output_type": "stream",
     "text": [
      "C:\\Users\\Kimbe\\AppData\\Local\\Temp/ipykernel_7100/3673173512.py:5: FutureWarning: The frame.append method is deprecated and will be removed from pandas in a future version. Use pandas.concat instead.\n",
      "  output_df = output_df.append(df)\n",
      "C:\\Users\\Kimbe\\AppData\\Local\\Temp/ipykernel_7100/3673173512.py:5: FutureWarning: The frame.append method is deprecated and will be removed from pandas in a future version. Use pandas.concat instead.\n",
      "  output_df = output_df.append(df)\n",
      "C:\\Users\\Kimbe\\AppData\\Local\\Temp/ipykernel_7100/3673173512.py:5: FutureWarning: The frame.append method is deprecated and will be removed from pandas in a future version. Use pandas.concat instead.\n",
      "  output_df = output_df.append(df)\n",
      "C:\\Users\\Kimbe\\AppData\\Local\\Temp/ipykernel_7100/3673173512.py:5: FutureWarning: The frame.append method is deprecated and will be removed from pandas in a future version. Use pandas.concat instead.\n",
      "  output_df = output_df.append(df)\n",
      "C:\\Users\\Kimbe\\AppData\\Local\\Temp/ipykernel_7100/3673173512.py:5: FutureWarning: The frame.append method is deprecated and will be removed from pandas in a future version. Use pandas.concat instead.\n",
      "  output_df = output_df.append(df)\n",
      "C:\\Users\\Kimbe\\AppData\\Local\\Temp/ipykernel_7100/3673173512.py:5: FutureWarning: The frame.append method is deprecated and will be removed from pandas in a future version. Use pandas.concat instead.\n",
      "  output_df = output_df.append(df)\n",
      "C:\\Users\\Kimbe\\AppData\\Local\\Temp/ipykernel_7100/3673173512.py:5: FutureWarning: The frame.append method is deprecated and will be removed from pandas in a future version. Use pandas.concat instead.\n",
      "  output_df = output_df.append(df)\n",
      "C:\\Users\\Kimbe\\AppData\\Local\\Temp/ipykernel_7100/3673173512.py:5: FutureWarning: The frame.append method is deprecated and will be removed from pandas in a future version. Use pandas.concat instead.\n",
      "  output_df = output_df.append(df)\n",
      "C:\\Users\\Kimbe\\AppData\\Local\\Temp/ipykernel_7100/3673173512.py:5: FutureWarning: The frame.append method is deprecated and will be removed from pandas in a future version. Use pandas.concat instead.\n",
      "  output_df = output_df.append(df)\n",
      "C:\\Users\\Kimbe\\AppData\\Local\\Temp/ipykernel_7100/3673173512.py:5: FutureWarning: The frame.append method is deprecated and will be removed from pandas in a future version. Use pandas.concat instead.\n",
      "  output_df = output_df.append(df)\n",
      "C:\\Users\\Kimbe\\AppData\\Local\\Temp/ipykernel_7100/3673173512.py:5: FutureWarning: The frame.append method is deprecated and will be removed from pandas in a future version. Use pandas.concat instead.\n",
      "  output_df = output_df.append(df)\n"
     ]
    },
    {
     "name": "stdout",
     "output_type": "stream",
     "text": [
      "Skipping row\n"
     ]
    },
    {
     "name": "stderr",
     "output_type": "stream",
     "text": [
      "C:\\Users\\Kimbe\\AppData\\Local\\Temp/ipykernel_7100/3673173512.py:5: FutureWarning: The frame.append method is deprecated and will be removed from pandas in a future version. Use pandas.concat instead.\n",
      "  output_df = output_df.append(df)\n",
      "C:\\Users\\Kimbe\\AppData\\Local\\Temp/ipykernel_7100/3673173512.py:5: FutureWarning: The frame.append method is deprecated and will be removed from pandas in a future version. Use pandas.concat instead.\n",
      "  output_df = output_df.append(df)\n",
      "C:\\Users\\Kimbe\\AppData\\Local\\Temp/ipykernel_7100/3673173512.py:5: FutureWarning: The frame.append method is deprecated and will be removed from pandas in a future version. Use pandas.concat instead.\n",
      "  output_df = output_df.append(df)\n",
      "C:\\Users\\Kimbe\\AppData\\Local\\Temp/ipykernel_7100/3673173512.py:5: FutureWarning: The frame.append method is deprecated and will be removed from pandas in a future version. Use pandas.concat instead.\n",
      "  output_df = output_df.append(df)\n",
      "C:\\Users\\Kimbe\\AppData\\Local\\Temp/ipykernel_7100/3673173512.py:5: FutureWarning: The frame.append method is deprecated and will be removed from pandas in a future version. Use pandas.concat instead.\n",
      "  output_df = output_df.append(df)\n",
      "C:\\Users\\Kimbe\\AppData\\Local\\Temp/ipykernel_7100/3673173512.py:5: FutureWarning: The frame.append method is deprecated and will be removed from pandas in a future version. Use pandas.concat instead.\n",
      "  output_df = output_df.append(df)\n",
      "C:\\Users\\Kimbe\\AppData\\Local\\Temp/ipykernel_7100/3673173512.py:5: FutureWarning: The frame.append method is deprecated and will be removed from pandas in a future version. Use pandas.concat instead.\n",
      "  output_df = output_df.append(df)\n",
      "C:\\Users\\Kimbe\\AppData\\Local\\Temp/ipykernel_7100/3673173512.py:5: FutureWarning: The frame.append method is deprecated and will be removed from pandas in a future version. Use pandas.concat instead.\n",
      "  output_df = output_df.append(df)\n",
      "C:\\Users\\Kimbe\\AppData\\Local\\Temp/ipykernel_7100/3673173512.py:5: FutureWarning: The frame.append method is deprecated and will be removed from pandas in a future version. Use pandas.concat instead.\n",
      "  output_df = output_df.append(df)\n",
      "C:\\Users\\Kimbe\\AppData\\Local\\Temp/ipykernel_7100/3673173512.py:5: FutureWarning: The frame.append method is deprecated and will be removed from pandas in a future version. Use pandas.concat instead.\n",
      "  output_df = output_df.append(df)\n"
     ]
    },
    {
     "name": "stdout",
     "output_type": "stream",
     "text": [
      "Skipping row\n"
     ]
    },
    {
     "name": "stderr",
     "output_type": "stream",
     "text": [
      "C:\\Users\\Kimbe\\AppData\\Local\\Temp/ipykernel_7100/3673173512.py:5: FutureWarning: The frame.append method is deprecated and will be removed from pandas in a future version. Use pandas.concat instead.\n",
      "  output_df = output_df.append(df)\n",
      "C:\\Users\\Kimbe\\AppData\\Local\\Temp/ipykernel_7100/3673173512.py:5: FutureWarning: The frame.append method is deprecated and will be removed from pandas in a future version. Use pandas.concat instead.\n",
      "  output_df = output_df.append(df)\n",
      "C:\\Users\\Kimbe\\AppData\\Local\\Temp/ipykernel_7100/3673173512.py:5: FutureWarning: The frame.append method is deprecated and will be removed from pandas in a future version. Use pandas.concat instead.\n",
      "  output_df = output_df.append(df)\n",
      "C:\\Users\\Kimbe\\AppData\\Local\\Temp/ipykernel_7100/3673173512.py:5: FutureWarning: The frame.append method is deprecated and will be removed from pandas in a future version. Use pandas.concat instead.\n",
      "  output_df = output_df.append(df)\n",
      "C:\\Users\\Kimbe\\AppData\\Local\\Temp/ipykernel_7100/3673173512.py:5: FutureWarning: The frame.append method is deprecated and will be removed from pandas in a future version. Use pandas.concat instead.\n",
      "  output_df = output_df.append(df)\n",
      "C:\\Users\\Kimbe\\AppData\\Local\\Temp/ipykernel_7100/3673173512.py:5: FutureWarning: The frame.append method is deprecated and will be removed from pandas in a future version. Use pandas.concat instead.\n",
      "  output_df = output_df.append(df)\n",
      "C:\\Users\\Kimbe\\AppData\\Local\\Temp/ipykernel_7100/3673173512.py:5: FutureWarning: The frame.append method is deprecated and will be removed from pandas in a future version. Use pandas.concat instead.\n",
      "  output_df = output_df.append(df)\n",
      "C:\\Users\\Kimbe\\AppData\\Local\\Temp/ipykernel_7100/3673173512.py:5: FutureWarning: The frame.append method is deprecated and will be removed from pandas in a future version. Use pandas.concat instead.\n",
      "  output_df = output_df.append(df)\n",
      "C:\\Users\\Kimbe\\AppData\\Local\\Temp/ipykernel_7100/3673173512.py:5: FutureWarning: The frame.append method is deprecated and will be removed from pandas in a future version. Use pandas.concat instead.\n",
      "  output_df = output_df.append(df)\n",
      "C:\\Users\\Kimbe\\AppData\\Local\\Temp/ipykernel_7100/3673173512.py:5: FutureWarning: The frame.append method is deprecated and will be removed from pandas in a future version. Use pandas.concat instead.\n",
      "  output_df = output_df.append(df)\n"
     ]
    },
    {
     "name": "stdout",
     "output_type": "stream",
     "text": [
      "Skipping row\n"
     ]
    },
    {
     "name": "stderr",
     "output_type": "stream",
     "text": [
      "C:\\Users\\Kimbe\\AppData\\Local\\Temp/ipykernel_7100/3673173512.py:5: FutureWarning: The frame.append method is deprecated and will be removed from pandas in a future version. Use pandas.concat instead.\n",
      "  output_df = output_df.append(df)\n",
      "C:\\Users\\Kimbe\\AppData\\Local\\Temp/ipykernel_7100/3673173512.py:5: FutureWarning: The frame.append method is deprecated and will be removed from pandas in a future version. Use pandas.concat instead.\n",
      "  output_df = output_df.append(df)\n",
      "C:\\Users\\Kimbe\\AppData\\Local\\Temp/ipykernel_7100/3673173512.py:5: FutureWarning: The frame.append method is deprecated and will be removed from pandas in a future version. Use pandas.concat instead.\n",
      "  output_df = output_df.append(df)\n",
      "C:\\Users\\Kimbe\\AppData\\Local\\Temp/ipykernel_7100/3673173512.py:5: FutureWarning: The frame.append method is deprecated and will be removed from pandas in a future version. Use pandas.concat instead.\n",
      "  output_df = output_df.append(df)\n",
      "C:\\Users\\Kimbe\\AppData\\Local\\Temp/ipykernel_7100/3673173512.py:5: FutureWarning: The frame.append method is deprecated and will be removed from pandas in a future version. Use pandas.concat instead.\n",
      "  output_df = output_df.append(df)\n",
      "C:\\Users\\Kimbe\\AppData\\Local\\Temp/ipykernel_7100/3673173512.py:5: FutureWarning: The frame.append method is deprecated and will be removed from pandas in a future version. Use pandas.concat instead.\n",
      "  output_df = output_df.append(df)\n",
      "C:\\Users\\Kimbe\\AppData\\Local\\Temp/ipykernel_7100/3673173512.py:5: FutureWarning: The frame.append method is deprecated and will be removed from pandas in a future version. Use pandas.concat instead.\n",
      "  output_df = output_df.append(df)\n",
      "C:\\Users\\Kimbe\\AppData\\Local\\Temp/ipykernel_7100/3673173512.py:5: FutureWarning: The frame.append method is deprecated and will be removed from pandas in a future version. Use pandas.concat instead.\n",
      "  output_df = output_df.append(df)\n",
      "C:\\Users\\Kimbe\\AppData\\Local\\Temp/ipykernel_7100/3673173512.py:5: FutureWarning: The frame.append method is deprecated and will be removed from pandas in a future version. Use pandas.concat instead.\n",
      "  output_df = output_df.append(df)\n",
      "C:\\Users\\Kimbe\\AppData\\Local\\Temp/ipykernel_7100/3673173512.py:5: FutureWarning: The frame.append method is deprecated and will be removed from pandas in a future version. Use pandas.concat instead.\n",
      "  output_df = output_df.append(df)\n",
      "C:\\Users\\Kimbe\\AppData\\Local\\Temp/ipykernel_7100/3673173512.py:5: FutureWarning: The frame.append method is deprecated and will be removed from pandas in a future version. Use pandas.concat instead.\n",
      "  output_df = output_df.append(df)\n"
     ]
    },
    {
     "name": "stdout",
     "output_type": "stream",
     "text": [
      "Skipping row\n"
     ]
    },
    {
     "name": "stderr",
     "output_type": "stream",
     "text": [
      "C:\\Users\\Kimbe\\AppData\\Local\\Temp/ipykernel_7100/3673173512.py:5: FutureWarning: The frame.append method is deprecated and will be removed from pandas in a future version. Use pandas.concat instead.\n",
      "  output_df = output_df.append(df)\n",
      "C:\\Users\\Kimbe\\AppData\\Local\\Temp/ipykernel_7100/3673173512.py:5: FutureWarning: The frame.append method is deprecated and will be removed from pandas in a future version. Use pandas.concat instead.\n",
      "  output_df = output_df.append(df)\n",
      "C:\\Users\\Kimbe\\AppData\\Local\\Temp/ipykernel_7100/3673173512.py:5: FutureWarning: The frame.append method is deprecated and will be removed from pandas in a future version. Use pandas.concat instead.\n",
      "  output_df = output_df.append(df)\n",
      "C:\\Users\\Kimbe\\AppData\\Local\\Temp/ipykernel_7100/3673173512.py:5: FutureWarning: The frame.append method is deprecated and will be removed from pandas in a future version. Use pandas.concat instead.\n",
      "  output_df = output_df.append(df)\n",
      "C:\\Users\\Kimbe\\AppData\\Local\\Temp/ipykernel_7100/3673173512.py:5: FutureWarning: The frame.append method is deprecated and will be removed from pandas in a future version. Use pandas.concat instead.\n",
      "  output_df = output_df.append(df)\n",
      "C:\\Users\\Kimbe\\AppData\\Local\\Temp/ipykernel_7100/3673173512.py:5: FutureWarning: The frame.append method is deprecated and will be removed from pandas in a future version. Use pandas.concat instead.\n",
      "  output_df = output_df.append(df)\n",
      "C:\\Users\\Kimbe\\AppData\\Local\\Temp/ipykernel_7100/3673173512.py:5: FutureWarning: The frame.append method is deprecated and will be removed from pandas in a future version. Use pandas.concat instead.\n",
      "  output_df = output_df.append(df)\n",
      "C:\\Users\\Kimbe\\AppData\\Local\\Temp/ipykernel_7100/3673173512.py:5: FutureWarning: The frame.append method is deprecated and will be removed from pandas in a future version. Use pandas.concat instead.\n",
      "  output_df = output_df.append(df)\n",
      "C:\\Users\\Kimbe\\AppData\\Local\\Temp/ipykernel_7100/3673173512.py:5: FutureWarning: The frame.append method is deprecated and will be removed from pandas in a future version. Use pandas.concat instead.\n",
      "  output_df = output_df.append(df)\n",
      "C:\\Users\\Kimbe\\AppData\\Local\\Temp/ipykernel_7100/3673173512.py:5: FutureWarning: The frame.append method is deprecated and will be removed from pandas in a future version. Use pandas.concat instead.\n",
      "  output_df = output_df.append(df)\n",
      "C:\\Users\\Kimbe\\AppData\\Local\\Temp/ipykernel_7100/3673173512.py:5: FutureWarning: The frame.append method is deprecated and will be removed from pandas in a future version. Use pandas.concat instead.\n",
      "  output_df = output_df.append(df)\n"
     ]
    },
    {
     "name": "stdout",
     "output_type": "stream",
     "text": [
      "Skipping row\n"
     ]
    },
    {
     "name": "stderr",
     "output_type": "stream",
     "text": [
      "C:\\Users\\Kimbe\\AppData\\Local\\Temp/ipykernel_7100/3673173512.py:5: FutureWarning: The frame.append method is deprecated and will be removed from pandas in a future version. Use pandas.concat instead.\n",
      "  output_df = output_df.append(df)\n",
      "C:\\Users\\Kimbe\\AppData\\Local\\Temp/ipykernel_7100/3673173512.py:5: FutureWarning: The frame.append method is deprecated and will be removed from pandas in a future version. Use pandas.concat instead.\n",
      "  output_df = output_df.append(df)\n",
      "C:\\Users\\Kimbe\\AppData\\Local\\Temp/ipykernel_7100/3673173512.py:5: FutureWarning: The frame.append method is deprecated and will be removed from pandas in a future version. Use pandas.concat instead.\n",
      "  output_df = output_df.append(df)\n",
      "C:\\Users\\Kimbe\\AppData\\Local\\Temp/ipykernel_7100/3673173512.py:5: FutureWarning: The frame.append method is deprecated and will be removed from pandas in a future version. Use pandas.concat instead.\n",
      "  output_df = output_df.append(df)\n",
      "C:\\Users\\Kimbe\\AppData\\Local\\Temp/ipykernel_7100/3673173512.py:5: FutureWarning: The frame.append method is deprecated and will be removed from pandas in a future version. Use pandas.concat instead.\n",
      "  output_df = output_df.append(df)\n",
      "C:\\Users\\Kimbe\\AppData\\Local\\Temp/ipykernel_7100/3673173512.py:5: FutureWarning: The frame.append method is deprecated and will be removed from pandas in a future version. Use pandas.concat instead.\n",
      "  output_df = output_df.append(df)\n",
      "C:\\Users\\Kimbe\\AppData\\Local\\Temp/ipykernel_7100/3673173512.py:5: FutureWarning: The frame.append method is deprecated and will be removed from pandas in a future version. Use pandas.concat instead.\n",
      "  output_df = output_df.append(df)\n",
      "C:\\Users\\Kimbe\\AppData\\Local\\Temp/ipykernel_7100/3673173512.py:5: FutureWarning: The frame.append method is deprecated and will be removed from pandas in a future version. Use pandas.concat instead.\n",
      "  output_df = output_df.append(df)\n",
      "C:\\Users\\Kimbe\\AppData\\Local\\Temp/ipykernel_7100/3673173512.py:5: FutureWarning: The frame.append method is deprecated and will be removed from pandas in a future version. Use pandas.concat instead.\n",
      "  output_df = output_df.append(df)\n",
      "C:\\Users\\Kimbe\\AppData\\Local\\Temp/ipykernel_7100/3673173512.py:5: FutureWarning: The frame.append method is deprecated and will be removed from pandas in a future version. Use pandas.concat instead.\n",
      "  output_df = output_df.append(df)\n",
      "C:\\Users\\Kimbe\\AppData\\Local\\Temp/ipykernel_7100/3673173512.py:5: FutureWarning: The frame.append method is deprecated and will be removed from pandas in a future version. Use pandas.concat instead.\n",
      "  output_df = output_df.append(df)\n"
     ]
    },
    {
     "name": "stdout",
     "output_type": "stream",
     "text": [
      "Skipping row\n"
     ]
    },
    {
     "name": "stderr",
     "output_type": "stream",
     "text": [
      "C:\\Users\\Kimbe\\AppData\\Local\\Temp/ipykernel_7100/3673173512.py:5: FutureWarning: The frame.append method is deprecated and will be removed from pandas in a future version. Use pandas.concat instead.\n",
      "  output_df = output_df.append(df)\n",
      "C:\\Users\\Kimbe\\AppData\\Local\\Temp/ipykernel_7100/3673173512.py:5: FutureWarning: The frame.append method is deprecated and will be removed from pandas in a future version. Use pandas.concat instead.\n",
      "  output_df = output_df.append(df)\n",
      "C:\\Users\\Kimbe\\AppData\\Local\\Temp/ipykernel_7100/3673173512.py:5: FutureWarning: The frame.append method is deprecated and will be removed from pandas in a future version. Use pandas.concat instead.\n",
      "  output_df = output_df.append(df)\n",
      "C:\\Users\\Kimbe\\AppData\\Local\\Temp/ipykernel_7100/3673173512.py:5: FutureWarning: The frame.append method is deprecated and will be removed from pandas in a future version. Use pandas.concat instead.\n",
      "  output_df = output_df.append(df)\n",
      "C:\\Users\\Kimbe\\AppData\\Local\\Temp/ipykernel_7100/3673173512.py:5: FutureWarning: The frame.append method is deprecated and will be removed from pandas in a future version. Use pandas.concat instead.\n",
      "  output_df = output_df.append(df)\n",
      "C:\\Users\\Kimbe\\AppData\\Local\\Temp/ipykernel_7100/3673173512.py:5: FutureWarning: The frame.append method is deprecated and will be removed from pandas in a future version. Use pandas.concat instead.\n",
      "  output_df = output_df.append(df)\n",
      "C:\\Users\\Kimbe\\AppData\\Local\\Temp/ipykernel_7100/3673173512.py:5: FutureWarning: The frame.append method is deprecated and will be removed from pandas in a future version. Use pandas.concat instead.\n",
      "  output_df = output_df.append(df)\n",
      "C:\\Users\\Kimbe\\AppData\\Local\\Temp/ipykernel_7100/3673173512.py:5: FutureWarning: The frame.append method is deprecated and will be removed from pandas in a future version. Use pandas.concat instead.\n",
      "  output_df = output_df.append(df)\n",
      "C:\\Users\\Kimbe\\AppData\\Local\\Temp/ipykernel_7100/3673173512.py:5: FutureWarning: The frame.append method is deprecated and will be removed from pandas in a future version. Use pandas.concat instead.\n",
      "  output_df = output_df.append(df)\n",
      "C:\\Users\\Kimbe\\AppData\\Local\\Temp/ipykernel_7100/3673173512.py:5: FutureWarning: The frame.append method is deprecated and will be removed from pandas in a future version. Use pandas.concat instead.\n",
      "  output_df = output_df.append(df)\n",
      "C:\\Users\\Kimbe\\AppData\\Local\\Temp/ipykernel_7100/3673173512.py:5: FutureWarning: The frame.append method is deprecated and will be removed from pandas in a future version. Use pandas.concat instead.\n",
      "  output_df = output_df.append(df)\n"
     ]
    },
    {
     "name": "stdout",
     "output_type": "stream",
     "text": [
      "Skipping row\n"
     ]
    },
    {
     "name": "stderr",
     "output_type": "stream",
     "text": [
      "C:\\Users\\Kimbe\\AppData\\Local\\Temp/ipykernel_7100/3673173512.py:5: FutureWarning: The frame.append method is deprecated and will be removed from pandas in a future version. Use pandas.concat instead.\n",
      "  output_df = output_df.append(df)\n",
      "C:\\Users\\Kimbe\\AppData\\Local\\Temp/ipykernel_7100/3673173512.py:5: FutureWarning: The frame.append method is deprecated and will be removed from pandas in a future version. Use pandas.concat instead.\n",
      "  output_df = output_df.append(df)\n",
      "C:\\Users\\Kimbe\\AppData\\Local\\Temp/ipykernel_7100/3673173512.py:5: FutureWarning: The frame.append method is deprecated and will be removed from pandas in a future version. Use pandas.concat instead.\n",
      "  output_df = output_df.append(df)\n",
      "C:\\Users\\Kimbe\\AppData\\Local\\Temp/ipykernel_7100/3673173512.py:5: FutureWarning: The frame.append method is deprecated and will be removed from pandas in a future version. Use pandas.concat instead.\n",
      "  output_df = output_df.append(df)\n",
      "C:\\Users\\Kimbe\\AppData\\Local\\Temp/ipykernel_7100/3673173512.py:5: FutureWarning: The frame.append method is deprecated and will be removed from pandas in a future version. Use pandas.concat instead.\n",
      "  output_df = output_df.append(df)\n",
      "C:\\Users\\Kimbe\\AppData\\Local\\Temp/ipykernel_7100/3673173512.py:5: FutureWarning: The frame.append method is deprecated and will be removed from pandas in a future version. Use pandas.concat instead.\n",
      "  output_df = output_df.append(df)\n",
      "C:\\Users\\Kimbe\\AppData\\Local\\Temp/ipykernel_7100/3673173512.py:5: FutureWarning: The frame.append method is deprecated and will be removed from pandas in a future version. Use pandas.concat instead.\n",
      "  output_df = output_df.append(df)\n",
      "C:\\Users\\Kimbe\\AppData\\Local\\Temp/ipykernel_7100/3673173512.py:5: FutureWarning: The frame.append method is deprecated and will be removed from pandas in a future version. Use pandas.concat instead.\n",
      "  output_df = output_df.append(df)\n",
      "C:\\Users\\Kimbe\\AppData\\Local\\Temp/ipykernel_7100/3673173512.py:5: FutureWarning: The frame.append method is deprecated and will be removed from pandas in a future version. Use pandas.concat instead.\n",
      "  output_df = output_df.append(df)\n",
      "C:\\Users\\Kimbe\\AppData\\Local\\Temp/ipykernel_7100/3673173512.py:5: FutureWarning: The frame.append method is deprecated and will be removed from pandas in a future version. Use pandas.concat instead.\n",
      "  output_df = output_df.append(df)\n",
      "C:\\Users\\Kimbe\\AppData\\Local\\Temp/ipykernel_7100/3673173512.py:5: FutureWarning: The frame.append method is deprecated and will be removed from pandas in a future version. Use pandas.concat instead.\n",
      "  output_df = output_df.append(df)\n"
     ]
    },
    {
     "name": "stdout",
     "output_type": "stream",
     "text": [
      "Skipping row\n"
     ]
    },
    {
     "name": "stderr",
     "output_type": "stream",
     "text": [
      "C:\\Users\\Kimbe\\AppData\\Local\\Temp/ipykernel_7100/3673173512.py:5: FutureWarning: The frame.append method is deprecated and will be removed from pandas in a future version. Use pandas.concat instead.\n",
      "  output_df = output_df.append(df)\n",
      "C:\\Users\\Kimbe\\AppData\\Local\\Temp/ipykernel_7100/3673173512.py:5: FutureWarning: The frame.append method is deprecated and will be removed from pandas in a future version. Use pandas.concat instead.\n",
      "  output_df = output_df.append(df)\n",
      "C:\\Users\\Kimbe\\AppData\\Local\\Temp/ipykernel_7100/3673173512.py:5: FutureWarning: The frame.append method is deprecated and will be removed from pandas in a future version. Use pandas.concat instead.\n",
      "  output_df = output_df.append(df)\n",
      "C:\\Users\\Kimbe\\AppData\\Local\\Temp/ipykernel_7100/3673173512.py:5: FutureWarning: The frame.append method is deprecated and will be removed from pandas in a future version. Use pandas.concat instead.\n",
      "  output_df = output_df.append(df)\n",
      "C:\\Users\\Kimbe\\AppData\\Local\\Temp/ipykernel_7100/3673173512.py:5: FutureWarning: The frame.append method is deprecated and will be removed from pandas in a future version. Use pandas.concat instead.\n",
      "  output_df = output_df.append(df)\n",
      "C:\\Users\\Kimbe\\AppData\\Local\\Temp/ipykernel_7100/3673173512.py:5: FutureWarning: The frame.append method is deprecated and will be removed from pandas in a future version. Use pandas.concat instead.\n",
      "  output_df = output_df.append(df)\n",
      "C:\\Users\\Kimbe\\AppData\\Local\\Temp/ipykernel_7100/3673173512.py:5: FutureWarning: The frame.append method is deprecated and will be removed from pandas in a future version. Use pandas.concat instead.\n",
      "  output_df = output_df.append(df)\n",
      "C:\\Users\\Kimbe\\AppData\\Local\\Temp/ipykernel_7100/3673173512.py:5: FutureWarning: The frame.append method is deprecated and will be removed from pandas in a future version. Use pandas.concat instead.\n",
      "  output_df = output_df.append(df)\n",
      "C:\\Users\\Kimbe\\AppData\\Local\\Temp/ipykernel_7100/3673173512.py:5: FutureWarning: The frame.append method is deprecated and will be removed from pandas in a future version. Use pandas.concat instead.\n",
      "  output_df = output_df.append(df)\n",
      "C:\\Users\\Kimbe\\AppData\\Local\\Temp/ipykernel_7100/3673173512.py:5: FutureWarning: The frame.append method is deprecated and will be removed from pandas in a future version. Use pandas.concat instead.\n",
      "  output_df = output_df.append(df)\n",
      "C:\\Users\\Kimbe\\AppData\\Local\\Temp/ipykernel_7100/3673173512.py:5: FutureWarning: The frame.append method is deprecated and will be removed from pandas in a future version. Use pandas.concat instead.\n",
      "  output_df = output_df.append(df)\n"
     ]
    },
    {
     "name": "stdout",
     "output_type": "stream",
     "text": [
      "Skipping row\n"
     ]
    },
    {
     "name": "stderr",
     "output_type": "stream",
     "text": [
      "C:\\Users\\Kimbe\\AppData\\Local\\Temp/ipykernel_7100/3673173512.py:5: FutureWarning: The frame.append method is deprecated and will be removed from pandas in a future version. Use pandas.concat instead.\n",
      "  output_df = output_df.append(df)\n",
      "C:\\Users\\Kimbe\\AppData\\Local\\Temp/ipykernel_7100/3673173512.py:5: FutureWarning: The frame.append method is deprecated and will be removed from pandas in a future version. Use pandas.concat instead.\n",
      "  output_df = output_df.append(df)\n",
      "C:\\Users\\Kimbe\\AppData\\Local\\Temp/ipykernel_7100/3673173512.py:5: FutureWarning: The frame.append method is deprecated and will be removed from pandas in a future version. Use pandas.concat instead.\n",
      "  output_df = output_df.append(df)\n",
      "C:\\Users\\Kimbe\\AppData\\Local\\Temp/ipykernel_7100/3673173512.py:5: FutureWarning: The frame.append method is deprecated and will be removed from pandas in a future version. Use pandas.concat instead.\n",
      "  output_df = output_df.append(df)\n",
      "C:\\Users\\Kimbe\\AppData\\Local\\Temp/ipykernel_7100/3673173512.py:5: FutureWarning: The frame.append method is deprecated and will be removed from pandas in a future version. Use pandas.concat instead.\n",
      "  output_df = output_df.append(df)\n",
      "C:\\Users\\Kimbe\\AppData\\Local\\Temp/ipykernel_7100/3673173512.py:5: FutureWarning: The frame.append method is deprecated and will be removed from pandas in a future version. Use pandas.concat instead.\n",
      "  output_df = output_df.append(df)\n",
      "C:\\Users\\Kimbe\\AppData\\Local\\Temp/ipykernel_7100/3673173512.py:5: FutureWarning: The frame.append method is deprecated and will be removed from pandas in a future version. Use pandas.concat instead.\n",
      "  output_df = output_df.append(df)\n",
      "C:\\Users\\Kimbe\\AppData\\Local\\Temp/ipykernel_7100/3673173512.py:5: FutureWarning: The frame.append method is deprecated and will be removed from pandas in a future version. Use pandas.concat instead.\n",
      "  output_df = output_df.append(df)\n",
      "C:\\Users\\Kimbe\\AppData\\Local\\Temp/ipykernel_7100/3673173512.py:5: FutureWarning: The frame.append method is deprecated and will be removed from pandas in a future version. Use pandas.concat instead.\n",
      "  output_df = output_df.append(df)\n",
      "C:\\Users\\Kimbe\\AppData\\Local\\Temp/ipykernel_7100/3673173512.py:5: FutureWarning: The frame.append method is deprecated and will be removed from pandas in a future version. Use pandas.concat instead.\n",
      "  output_df = output_df.append(df)\n",
      "C:\\Users\\Kimbe\\AppData\\Local\\Temp/ipykernel_7100/3673173512.py:5: FutureWarning: The frame.append method is deprecated and will be removed from pandas in a future version. Use pandas.concat instead.\n",
      "  output_df = output_df.append(df)\n"
     ]
    },
    {
     "name": "stdout",
     "output_type": "stream",
     "text": [
      "Skipping row\n"
     ]
    },
    {
     "name": "stderr",
     "output_type": "stream",
     "text": [
      "C:\\Users\\Kimbe\\AppData\\Local\\Temp/ipykernel_7100/3673173512.py:5: FutureWarning: The frame.append method is deprecated and will be removed from pandas in a future version. Use pandas.concat instead.\n",
      "  output_df = output_df.append(df)\n",
      "C:\\Users\\Kimbe\\AppData\\Local\\Temp/ipykernel_7100/3673173512.py:5: FutureWarning: The frame.append method is deprecated and will be removed from pandas in a future version. Use pandas.concat instead.\n",
      "  output_df = output_df.append(df)\n",
      "C:\\Users\\Kimbe\\AppData\\Local\\Temp/ipykernel_7100/3673173512.py:5: FutureWarning: The frame.append method is deprecated and will be removed from pandas in a future version. Use pandas.concat instead.\n",
      "  output_df = output_df.append(df)\n",
      "C:\\Users\\Kimbe\\AppData\\Local\\Temp/ipykernel_7100/3673173512.py:5: FutureWarning: The frame.append method is deprecated and will be removed from pandas in a future version. Use pandas.concat instead.\n",
      "  output_df = output_df.append(df)\n",
      "C:\\Users\\Kimbe\\AppData\\Local\\Temp/ipykernel_7100/3673173512.py:5: FutureWarning: The frame.append method is deprecated and will be removed from pandas in a future version. Use pandas.concat instead.\n",
      "  output_df = output_df.append(df)\n",
      "C:\\Users\\Kimbe\\AppData\\Local\\Temp/ipykernel_7100/3673173512.py:5: FutureWarning: The frame.append method is deprecated and will be removed from pandas in a future version. Use pandas.concat instead.\n",
      "  output_df = output_df.append(df)\n",
      "C:\\Users\\Kimbe\\AppData\\Local\\Temp/ipykernel_7100/3673173512.py:5: FutureWarning: The frame.append method is deprecated and will be removed from pandas in a future version. Use pandas.concat instead.\n",
      "  output_df = output_df.append(df)\n",
      "C:\\Users\\Kimbe\\AppData\\Local\\Temp/ipykernel_7100/3673173512.py:5: FutureWarning: The frame.append method is deprecated and will be removed from pandas in a future version. Use pandas.concat instead.\n",
      "  output_df = output_df.append(df)\n",
      "C:\\Users\\Kimbe\\AppData\\Local\\Temp/ipykernel_7100/3673173512.py:5: FutureWarning: The frame.append method is deprecated and will be removed from pandas in a future version. Use pandas.concat instead.\n",
      "  output_df = output_df.append(df)\n",
      "C:\\Users\\Kimbe\\AppData\\Local\\Temp/ipykernel_7100/3673173512.py:5: FutureWarning: The frame.append method is deprecated and will be removed from pandas in a future version. Use pandas.concat instead.\n",
      "  output_df = output_df.append(df)\n",
      "C:\\Users\\Kimbe\\AppData\\Local\\Temp/ipykernel_7100/3673173512.py:5: FutureWarning: The frame.append method is deprecated and will be removed from pandas in a future version. Use pandas.concat instead.\n",
      "  output_df = output_df.append(df)\n"
     ]
    },
    {
     "name": "stdout",
     "output_type": "stream",
     "text": [
      "Skipping row\n"
     ]
    },
    {
     "name": "stderr",
     "output_type": "stream",
     "text": [
      "C:\\Users\\Kimbe\\AppData\\Local\\Temp/ipykernel_7100/3673173512.py:5: FutureWarning: The frame.append method is deprecated and will be removed from pandas in a future version. Use pandas.concat instead.\n",
      "  output_df = output_df.append(df)\n",
      "C:\\Users\\Kimbe\\AppData\\Local\\Temp/ipykernel_7100/3673173512.py:5: FutureWarning: The frame.append method is deprecated and will be removed from pandas in a future version. Use pandas.concat instead.\n",
      "  output_df = output_df.append(df)\n",
      "C:\\Users\\Kimbe\\AppData\\Local\\Temp/ipykernel_7100/3673173512.py:5: FutureWarning: The frame.append method is deprecated and will be removed from pandas in a future version. Use pandas.concat instead.\n",
      "  output_df = output_df.append(df)\n",
      "C:\\Users\\Kimbe\\AppData\\Local\\Temp/ipykernel_7100/3673173512.py:5: FutureWarning: The frame.append method is deprecated and will be removed from pandas in a future version. Use pandas.concat instead.\n",
      "  output_df = output_df.append(df)\n",
      "C:\\Users\\Kimbe\\AppData\\Local\\Temp/ipykernel_7100/3673173512.py:5: FutureWarning: The frame.append method is deprecated and will be removed from pandas in a future version. Use pandas.concat instead.\n",
      "  output_df = output_df.append(df)\n",
      "C:\\Users\\Kimbe\\AppData\\Local\\Temp/ipykernel_7100/3673173512.py:5: FutureWarning: The frame.append method is deprecated and will be removed from pandas in a future version. Use pandas.concat instead.\n",
      "  output_df = output_df.append(df)\n",
      "C:\\Users\\Kimbe\\AppData\\Local\\Temp/ipykernel_7100/3673173512.py:5: FutureWarning: The frame.append method is deprecated and will be removed from pandas in a future version. Use pandas.concat instead.\n",
      "  output_df = output_df.append(df)\n",
      "C:\\Users\\Kimbe\\AppData\\Local\\Temp/ipykernel_7100/3673173512.py:5: FutureWarning: The frame.append method is deprecated and will be removed from pandas in a future version. Use pandas.concat instead.\n",
      "  output_df = output_df.append(df)\n",
      "C:\\Users\\Kimbe\\AppData\\Local\\Temp/ipykernel_7100/3673173512.py:5: FutureWarning: The frame.append method is deprecated and will be removed from pandas in a future version. Use pandas.concat instead.\n",
      "  output_df = output_df.append(df)\n",
      "C:\\Users\\Kimbe\\AppData\\Local\\Temp/ipykernel_7100/3673173512.py:5: FutureWarning: The frame.append method is deprecated and will be removed from pandas in a future version. Use pandas.concat instead.\n",
      "  output_df = output_df.append(df)\n",
      "C:\\Users\\Kimbe\\AppData\\Local\\Temp/ipykernel_7100/3673173512.py:5: FutureWarning: The frame.append method is deprecated and will be removed from pandas in a future version. Use pandas.concat instead.\n",
      "  output_df = output_df.append(df)\n"
     ]
    },
    {
     "name": "stdout",
     "output_type": "stream",
     "text": [
      "Skipping row\n"
     ]
    },
    {
     "name": "stderr",
     "output_type": "stream",
     "text": [
      "C:\\Users\\Kimbe\\AppData\\Local\\Temp/ipykernel_7100/3673173512.py:5: FutureWarning: The frame.append method is deprecated and will be removed from pandas in a future version. Use pandas.concat instead.\n",
      "  output_df = output_df.append(df)\n",
      "C:\\Users\\Kimbe\\AppData\\Local\\Temp/ipykernel_7100/3673173512.py:5: FutureWarning: The frame.append method is deprecated and will be removed from pandas in a future version. Use pandas.concat instead.\n",
      "  output_df = output_df.append(df)\n",
      "C:\\Users\\Kimbe\\AppData\\Local\\Temp/ipykernel_7100/3673173512.py:5: FutureWarning: The frame.append method is deprecated and will be removed from pandas in a future version. Use pandas.concat instead.\n",
      "  output_df = output_df.append(df)\n",
      "C:\\Users\\Kimbe\\AppData\\Local\\Temp/ipykernel_7100/3673173512.py:5: FutureWarning: The frame.append method is deprecated and will be removed from pandas in a future version. Use pandas.concat instead.\n",
      "  output_df = output_df.append(df)\n",
      "C:\\Users\\Kimbe\\AppData\\Local\\Temp/ipykernel_7100/3673173512.py:5: FutureWarning: The frame.append method is deprecated and will be removed from pandas in a future version. Use pandas.concat instead.\n",
      "  output_df = output_df.append(df)\n",
      "C:\\Users\\Kimbe\\AppData\\Local\\Temp/ipykernel_7100/3673173512.py:5: FutureWarning: The frame.append method is deprecated and will be removed from pandas in a future version. Use pandas.concat instead.\n",
      "  output_df = output_df.append(df)\n",
      "C:\\Users\\Kimbe\\AppData\\Local\\Temp/ipykernel_7100/3673173512.py:5: FutureWarning: The frame.append method is deprecated and will be removed from pandas in a future version. Use pandas.concat instead.\n",
      "  output_df = output_df.append(df)\n",
      "C:\\Users\\Kimbe\\AppData\\Local\\Temp/ipykernel_7100/3673173512.py:5: FutureWarning: The frame.append method is deprecated and will be removed from pandas in a future version. Use pandas.concat instead.\n",
      "  output_df = output_df.append(df)\n",
      "C:\\Users\\Kimbe\\AppData\\Local\\Temp/ipykernel_7100/3673173512.py:5: FutureWarning: The frame.append method is deprecated and will be removed from pandas in a future version. Use pandas.concat instead.\n",
      "  output_df = output_df.append(df)\n",
      "C:\\Users\\Kimbe\\AppData\\Local\\Temp/ipykernel_7100/3673173512.py:5: FutureWarning: The frame.append method is deprecated and will be removed from pandas in a future version. Use pandas.concat instead.\n",
      "  output_df = output_df.append(df)\n",
      "C:\\Users\\Kimbe\\AppData\\Local\\Temp/ipykernel_7100/3673173512.py:5: FutureWarning: The frame.append method is deprecated and will be removed from pandas in a future version. Use pandas.concat instead.\n",
      "  output_df = output_df.append(df)\n"
     ]
    },
    {
     "name": "stdout",
     "output_type": "stream",
     "text": [
      "Skipping row\n"
     ]
    },
    {
     "name": "stderr",
     "output_type": "stream",
     "text": [
      "C:\\Users\\Kimbe\\AppData\\Local\\Temp/ipykernel_7100/3673173512.py:5: FutureWarning: The frame.append method is deprecated and will be removed from pandas in a future version. Use pandas.concat instead.\n",
      "  output_df = output_df.append(df)\n",
      "C:\\Users\\Kimbe\\AppData\\Local\\Temp/ipykernel_7100/3673173512.py:5: FutureWarning: The frame.append method is deprecated and will be removed from pandas in a future version. Use pandas.concat instead.\n",
      "  output_df = output_df.append(df)\n",
      "C:\\Users\\Kimbe\\AppData\\Local\\Temp/ipykernel_7100/3673173512.py:5: FutureWarning: The frame.append method is deprecated and will be removed from pandas in a future version. Use pandas.concat instead.\n",
      "  output_df = output_df.append(df)\n",
      "C:\\Users\\Kimbe\\AppData\\Local\\Temp/ipykernel_7100/3673173512.py:5: FutureWarning: The frame.append method is deprecated and will be removed from pandas in a future version. Use pandas.concat instead.\n",
      "  output_df = output_df.append(df)\n",
      "C:\\Users\\Kimbe\\AppData\\Local\\Temp/ipykernel_7100/3673173512.py:5: FutureWarning: The frame.append method is deprecated and will be removed from pandas in a future version. Use pandas.concat instead.\n",
      "  output_df = output_df.append(df)\n",
      "C:\\Users\\Kimbe\\AppData\\Local\\Temp/ipykernel_7100/3673173512.py:5: FutureWarning: The frame.append method is deprecated and will be removed from pandas in a future version. Use pandas.concat instead.\n",
      "  output_df = output_df.append(df)\n",
      "C:\\Users\\Kimbe\\AppData\\Local\\Temp/ipykernel_7100/3673173512.py:5: FutureWarning: The frame.append method is deprecated and will be removed from pandas in a future version. Use pandas.concat instead.\n",
      "  output_df = output_df.append(df)\n",
      "C:\\Users\\Kimbe\\AppData\\Local\\Temp/ipykernel_7100/3673173512.py:5: FutureWarning: The frame.append method is deprecated and will be removed from pandas in a future version. Use pandas.concat instead.\n",
      "  output_df = output_df.append(df)\n",
      "C:\\Users\\Kimbe\\AppData\\Local\\Temp/ipykernel_7100/3673173512.py:5: FutureWarning: The frame.append method is deprecated and will be removed from pandas in a future version. Use pandas.concat instead.\n",
      "  output_df = output_df.append(df)\n",
      "C:\\Users\\Kimbe\\AppData\\Local\\Temp/ipykernel_7100/3673173512.py:5: FutureWarning: The frame.append method is deprecated and will be removed from pandas in a future version. Use pandas.concat instead.\n",
      "  output_df = output_df.append(df)\n",
      "C:\\Users\\Kimbe\\AppData\\Local\\Temp/ipykernel_7100/3673173512.py:5: FutureWarning: The frame.append method is deprecated and will be removed from pandas in a future version. Use pandas.concat instead.\n",
      "  output_df = output_df.append(df)\n"
     ]
    },
    {
     "name": "stdout",
     "output_type": "stream",
     "text": [
      "Skipping row\n"
     ]
    },
    {
     "name": "stderr",
     "output_type": "stream",
     "text": [
      "C:\\Users\\Kimbe\\AppData\\Local\\Temp/ipykernel_7100/3673173512.py:5: FutureWarning: The frame.append method is deprecated and will be removed from pandas in a future version. Use pandas.concat instead.\n",
      "  output_df = output_df.append(df)\n",
      "C:\\Users\\Kimbe\\AppData\\Local\\Temp/ipykernel_7100/3673173512.py:5: FutureWarning: The frame.append method is deprecated and will be removed from pandas in a future version. Use pandas.concat instead.\n",
      "  output_df = output_df.append(df)\n",
      "C:\\Users\\Kimbe\\AppData\\Local\\Temp/ipykernel_7100/3673173512.py:5: FutureWarning: The frame.append method is deprecated and will be removed from pandas in a future version. Use pandas.concat instead.\n",
      "  output_df = output_df.append(df)\n",
      "C:\\Users\\Kimbe\\AppData\\Local\\Temp/ipykernel_7100/3673173512.py:5: FutureWarning: The frame.append method is deprecated and will be removed from pandas in a future version. Use pandas.concat instead.\n",
      "  output_df = output_df.append(df)\n",
      "C:\\Users\\Kimbe\\AppData\\Local\\Temp/ipykernel_7100/3673173512.py:5: FutureWarning: The frame.append method is deprecated and will be removed from pandas in a future version. Use pandas.concat instead.\n",
      "  output_df = output_df.append(df)\n",
      "C:\\Users\\Kimbe\\AppData\\Local\\Temp/ipykernel_7100/3673173512.py:5: FutureWarning: The frame.append method is deprecated and will be removed from pandas in a future version. Use pandas.concat instead.\n",
      "  output_df = output_df.append(df)\n",
      "C:\\Users\\Kimbe\\AppData\\Local\\Temp/ipykernel_7100/3673173512.py:5: FutureWarning: The frame.append method is deprecated and will be removed from pandas in a future version. Use pandas.concat instead.\n",
      "  output_df = output_df.append(df)\n",
      "C:\\Users\\Kimbe\\AppData\\Local\\Temp/ipykernel_7100/3673173512.py:5: FutureWarning: The frame.append method is deprecated and will be removed from pandas in a future version. Use pandas.concat instead.\n",
      "  output_df = output_df.append(df)\n",
      "C:\\Users\\Kimbe\\AppData\\Local\\Temp/ipykernel_7100/3673173512.py:5: FutureWarning: The frame.append method is deprecated and will be removed from pandas in a future version. Use pandas.concat instead.\n",
      "  output_df = output_df.append(df)\n",
      "C:\\Users\\Kimbe\\AppData\\Local\\Temp/ipykernel_7100/3673173512.py:5: FutureWarning: The frame.append method is deprecated and will be removed from pandas in a future version. Use pandas.concat instead.\n",
      "  output_df = output_df.append(df)\n",
      "C:\\Users\\Kimbe\\AppData\\Local\\Temp/ipykernel_7100/3673173512.py:5: FutureWarning: The frame.append method is deprecated and will be removed from pandas in a future version. Use pandas.concat instead.\n",
      "  output_df = output_df.append(df)\n"
     ]
    },
    {
     "name": "stdout",
     "output_type": "stream",
     "text": [
      "Skipping row\n"
     ]
    },
    {
     "name": "stderr",
     "output_type": "stream",
     "text": [
      "C:\\Users\\Kimbe\\AppData\\Local\\Temp/ipykernel_7100/3673173512.py:5: FutureWarning: The frame.append method is deprecated and will be removed from pandas in a future version. Use pandas.concat instead.\n",
      "  output_df = output_df.append(df)\n",
      "C:\\Users\\Kimbe\\AppData\\Local\\Temp/ipykernel_7100/3673173512.py:5: FutureWarning: The frame.append method is deprecated and will be removed from pandas in a future version. Use pandas.concat instead.\n",
      "  output_df = output_df.append(df)\n",
      "C:\\Users\\Kimbe\\AppData\\Local\\Temp/ipykernel_7100/3673173512.py:5: FutureWarning: The frame.append method is deprecated and will be removed from pandas in a future version. Use pandas.concat instead.\n",
      "  output_df = output_df.append(df)\n",
      "C:\\Users\\Kimbe\\AppData\\Local\\Temp/ipykernel_7100/3673173512.py:5: FutureWarning: The frame.append method is deprecated and will be removed from pandas in a future version. Use pandas.concat instead.\n",
      "  output_df = output_df.append(df)\n",
      "C:\\Users\\Kimbe\\AppData\\Local\\Temp/ipykernel_7100/3673173512.py:5: FutureWarning: The frame.append method is deprecated and will be removed from pandas in a future version. Use pandas.concat instead.\n",
      "  output_df = output_df.append(df)\n",
      "C:\\Users\\Kimbe\\AppData\\Local\\Temp/ipykernel_7100/3673173512.py:5: FutureWarning: The frame.append method is deprecated and will be removed from pandas in a future version. Use pandas.concat instead.\n",
      "  output_df = output_df.append(df)\n",
      "C:\\Users\\Kimbe\\AppData\\Local\\Temp/ipykernel_7100/3673173512.py:5: FutureWarning: The frame.append method is deprecated and will be removed from pandas in a future version. Use pandas.concat instead.\n",
      "  output_df = output_df.append(df)\n",
      "C:\\Users\\Kimbe\\AppData\\Local\\Temp/ipykernel_7100/3673173512.py:5: FutureWarning: The frame.append method is deprecated and will be removed from pandas in a future version. Use pandas.concat instead.\n",
      "  output_df = output_df.append(df)\n",
      "C:\\Users\\Kimbe\\AppData\\Local\\Temp/ipykernel_7100/3673173512.py:5: FutureWarning: The frame.append method is deprecated and will be removed from pandas in a future version. Use pandas.concat instead.\n",
      "  output_df = output_df.append(df)\n",
      "C:\\Users\\Kimbe\\AppData\\Local\\Temp/ipykernel_7100/3673173512.py:5: FutureWarning: The frame.append method is deprecated and will be removed from pandas in a future version. Use pandas.concat instead.\n",
      "  output_df = output_df.append(df)\n",
      "C:\\Users\\Kimbe\\AppData\\Local\\Temp/ipykernel_7100/3673173512.py:5: FutureWarning: The frame.append method is deprecated and will be removed from pandas in a future version. Use pandas.concat instead.\n",
      "  output_df = output_df.append(df)\n"
     ]
    },
    {
     "name": "stdout",
     "output_type": "stream",
     "text": [
      "Skipping row\n"
     ]
    },
    {
     "name": "stderr",
     "output_type": "stream",
     "text": [
      "C:\\Users\\Kimbe\\AppData\\Local\\Temp/ipykernel_7100/3673173512.py:5: FutureWarning: The frame.append method is deprecated and will be removed from pandas in a future version. Use pandas.concat instead.\n",
      "  output_df = output_df.append(df)\n",
      "C:\\Users\\Kimbe\\AppData\\Local\\Temp/ipykernel_7100/3673173512.py:5: FutureWarning: The frame.append method is deprecated and will be removed from pandas in a future version. Use pandas.concat instead.\n",
      "  output_df = output_df.append(df)\n",
      "C:\\Users\\Kimbe\\AppData\\Local\\Temp/ipykernel_7100/3673173512.py:5: FutureWarning: The frame.append method is deprecated and will be removed from pandas in a future version. Use pandas.concat instead.\n",
      "  output_df = output_df.append(df)\n",
      "C:\\Users\\Kimbe\\AppData\\Local\\Temp/ipykernel_7100/3673173512.py:5: FutureWarning: The frame.append method is deprecated and will be removed from pandas in a future version. Use pandas.concat instead.\n",
      "  output_df = output_df.append(df)\n",
      "C:\\Users\\Kimbe\\AppData\\Local\\Temp/ipykernel_7100/3673173512.py:5: FutureWarning: The frame.append method is deprecated and will be removed from pandas in a future version. Use pandas.concat instead.\n",
      "  output_df = output_df.append(df)\n",
      "C:\\Users\\Kimbe\\AppData\\Local\\Temp/ipykernel_7100/3673173512.py:5: FutureWarning: The frame.append method is deprecated and will be removed from pandas in a future version. Use pandas.concat instead.\n",
      "  output_df = output_df.append(df)\n",
      "C:\\Users\\Kimbe\\AppData\\Local\\Temp/ipykernel_7100/3673173512.py:5: FutureWarning: The frame.append method is deprecated and will be removed from pandas in a future version. Use pandas.concat instead.\n",
      "  output_df = output_df.append(df)\n",
      "C:\\Users\\Kimbe\\AppData\\Local\\Temp/ipykernel_7100/3673173512.py:5: FutureWarning: The frame.append method is deprecated and will be removed from pandas in a future version. Use pandas.concat instead.\n",
      "  output_df = output_df.append(df)\n",
      "C:\\Users\\Kimbe\\AppData\\Local\\Temp/ipykernel_7100/3673173512.py:5: FutureWarning: The frame.append method is deprecated and will be removed from pandas in a future version. Use pandas.concat instead.\n",
      "  output_df = output_df.append(df)\n",
      "C:\\Users\\Kimbe\\AppData\\Local\\Temp/ipykernel_7100/3673173512.py:5: FutureWarning: The frame.append method is deprecated and will be removed from pandas in a future version. Use pandas.concat instead.\n",
      "  output_df = output_df.append(df)\n",
      "C:\\Users\\Kimbe\\AppData\\Local\\Temp/ipykernel_7100/3673173512.py:5: FutureWarning: The frame.append method is deprecated and will be removed from pandas in a future version. Use pandas.concat instead.\n",
      "  output_df = output_df.append(df)\n"
     ]
    },
    {
     "name": "stdout",
     "output_type": "stream",
     "text": [
      "Skipping row\n"
     ]
    },
    {
     "name": "stderr",
     "output_type": "stream",
     "text": [
      "C:\\Users\\Kimbe\\AppData\\Local\\Temp/ipykernel_7100/3673173512.py:5: FutureWarning: The frame.append method is deprecated and will be removed from pandas in a future version. Use pandas.concat instead.\n",
      "  output_df = output_df.append(df)\n",
      "C:\\Users\\Kimbe\\AppData\\Local\\Temp/ipykernel_7100/3673173512.py:5: FutureWarning: The frame.append method is deprecated and will be removed from pandas in a future version. Use pandas.concat instead.\n",
      "  output_df = output_df.append(df)\n",
      "C:\\Users\\Kimbe\\AppData\\Local\\Temp/ipykernel_7100/3673173512.py:5: FutureWarning: The frame.append method is deprecated and will be removed from pandas in a future version. Use pandas.concat instead.\n",
      "  output_df = output_df.append(df)\n",
      "C:\\Users\\Kimbe\\AppData\\Local\\Temp/ipykernel_7100/3673173512.py:5: FutureWarning: The frame.append method is deprecated and will be removed from pandas in a future version. Use pandas.concat instead.\n",
      "  output_df = output_df.append(df)\n",
      "C:\\Users\\Kimbe\\AppData\\Local\\Temp/ipykernel_7100/3673173512.py:5: FutureWarning: The frame.append method is deprecated and will be removed from pandas in a future version. Use pandas.concat instead.\n",
      "  output_df = output_df.append(df)\n",
      "C:\\Users\\Kimbe\\AppData\\Local\\Temp/ipykernel_7100/3673173512.py:5: FutureWarning: The frame.append method is deprecated and will be removed from pandas in a future version. Use pandas.concat instead.\n",
      "  output_df = output_df.append(df)\n",
      "C:\\Users\\Kimbe\\AppData\\Local\\Temp/ipykernel_7100/3673173512.py:5: FutureWarning: The frame.append method is deprecated and will be removed from pandas in a future version. Use pandas.concat instead.\n",
      "  output_df = output_df.append(df)\n",
      "C:\\Users\\Kimbe\\AppData\\Local\\Temp/ipykernel_7100/3673173512.py:5: FutureWarning: The frame.append method is deprecated and will be removed from pandas in a future version. Use pandas.concat instead.\n",
      "  output_df = output_df.append(df)\n",
      "C:\\Users\\Kimbe\\AppData\\Local\\Temp/ipykernel_7100/3673173512.py:5: FutureWarning: The frame.append method is deprecated and will be removed from pandas in a future version. Use pandas.concat instead.\n",
      "  output_df = output_df.append(df)\n",
      "C:\\Users\\Kimbe\\AppData\\Local\\Temp/ipykernel_7100/3673173512.py:5: FutureWarning: The frame.append method is deprecated and will be removed from pandas in a future version. Use pandas.concat instead.\n",
      "  output_df = output_df.append(df)\n",
      "C:\\Users\\Kimbe\\AppData\\Local\\Temp/ipykernel_7100/3673173512.py:5: FutureWarning: The frame.append method is deprecated and will be removed from pandas in a future version. Use pandas.concat instead.\n",
      "  output_df = output_df.append(df)\n"
     ]
    },
    {
     "name": "stdout",
     "output_type": "stream",
     "text": [
      "Skipping row\n"
     ]
    },
    {
     "name": "stderr",
     "output_type": "stream",
     "text": [
      "C:\\Users\\Kimbe\\AppData\\Local\\Temp/ipykernel_7100/3673173512.py:5: FutureWarning: The frame.append method is deprecated and will be removed from pandas in a future version. Use pandas.concat instead.\n",
      "  output_df = output_df.append(df)\n",
      "C:\\Users\\Kimbe\\AppData\\Local\\Temp/ipykernel_7100/3673173512.py:5: FutureWarning: The frame.append method is deprecated and will be removed from pandas in a future version. Use pandas.concat instead.\n",
      "  output_df = output_df.append(df)\n",
      "C:\\Users\\Kimbe\\AppData\\Local\\Temp/ipykernel_7100/3673173512.py:5: FutureWarning: The frame.append method is deprecated and will be removed from pandas in a future version. Use pandas.concat instead.\n",
      "  output_df = output_df.append(df)\n",
      "C:\\Users\\Kimbe\\AppData\\Local\\Temp/ipykernel_7100/3673173512.py:5: FutureWarning: The frame.append method is deprecated and will be removed from pandas in a future version. Use pandas.concat instead.\n",
      "  output_df = output_df.append(df)\n",
      "C:\\Users\\Kimbe\\AppData\\Local\\Temp/ipykernel_7100/3673173512.py:5: FutureWarning: The frame.append method is deprecated and will be removed from pandas in a future version. Use pandas.concat instead.\n",
      "  output_df = output_df.append(df)\n",
      "C:\\Users\\Kimbe\\AppData\\Local\\Temp/ipykernel_7100/3673173512.py:5: FutureWarning: The frame.append method is deprecated and will be removed from pandas in a future version. Use pandas.concat instead.\n",
      "  output_df = output_df.append(df)\n",
      "C:\\Users\\Kimbe\\AppData\\Local\\Temp/ipykernel_7100/3673173512.py:5: FutureWarning: The frame.append method is deprecated and will be removed from pandas in a future version. Use pandas.concat instead.\n",
      "  output_df = output_df.append(df)\n",
      "C:\\Users\\Kimbe\\AppData\\Local\\Temp/ipykernel_7100/3673173512.py:5: FutureWarning: The frame.append method is deprecated and will be removed from pandas in a future version. Use pandas.concat instead.\n",
      "  output_df = output_df.append(df)\n",
      "C:\\Users\\Kimbe\\AppData\\Local\\Temp/ipykernel_7100/3673173512.py:5: FutureWarning: The frame.append method is deprecated and will be removed from pandas in a future version. Use pandas.concat instead.\n",
      "  output_df = output_df.append(df)\n",
      "C:\\Users\\Kimbe\\AppData\\Local\\Temp/ipykernel_7100/3673173512.py:5: FutureWarning: The frame.append method is deprecated and will be removed from pandas in a future version. Use pandas.concat instead.\n",
      "  output_df = output_df.append(df)\n",
      "C:\\Users\\Kimbe\\AppData\\Local\\Temp/ipykernel_7100/3673173512.py:5: FutureWarning: The frame.append method is deprecated and will be removed from pandas in a future version. Use pandas.concat instead.\n",
      "  output_df = output_df.append(df)\n",
      "C:\\Users\\Kimbe\\AppData\\Local\\Temp/ipykernel_7100/3673173512.py:5: FutureWarning: The frame.append method is deprecated and will be removed from pandas in a future version. Use pandas.concat instead.\n",
      "  output_df = output_df.append(df)\n"
     ]
    },
    {
     "name": "stdout",
     "output_type": "stream",
     "text": [
      "Skipping row\n"
     ]
    },
    {
     "name": "stderr",
     "output_type": "stream",
     "text": [
      "C:\\Users\\Kimbe\\AppData\\Local\\Temp/ipykernel_7100/3673173512.py:5: FutureWarning: The frame.append method is deprecated and will be removed from pandas in a future version. Use pandas.concat instead.\n",
      "  output_df = output_df.append(df)\n",
      "C:\\Users\\Kimbe\\AppData\\Local\\Temp/ipykernel_7100/3673173512.py:5: FutureWarning: The frame.append method is deprecated and will be removed from pandas in a future version. Use pandas.concat instead.\n",
      "  output_df = output_df.append(df)\n",
      "C:\\Users\\Kimbe\\AppData\\Local\\Temp/ipykernel_7100/3673173512.py:5: FutureWarning: The frame.append method is deprecated and will be removed from pandas in a future version. Use pandas.concat instead.\n",
      "  output_df = output_df.append(df)\n",
      "C:\\Users\\Kimbe\\AppData\\Local\\Temp/ipykernel_7100/3673173512.py:5: FutureWarning: The frame.append method is deprecated and will be removed from pandas in a future version. Use pandas.concat instead.\n",
      "  output_df = output_df.append(df)\n",
      "C:\\Users\\Kimbe\\AppData\\Local\\Temp/ipykernel_7100/3673173512.py:5: FutureWarning: The frame.append method is deprecated and will be removed from pandas in a future version. Use pandas.concat instead.\n",
      "  output_df = output_df.append(df)\n",
      "C:\\Users\\Kimbe\\AppData\\Local\\Temp/ipykernel_7100/3673173512.py:5: FutureWarning: The frame.append method is deprecated and will be removed from pandas in a future version. Use pandas.concat instead.\n",
      "  output_df = output_df.append(df)\n",
      "C:\\Users\\Kimbe\\AppData\\Local\\Temp/ipykernel_7100/3673173512.py:5: FutureWarning: The frame.append method is deprecated and will be removed from pandas in a future version. Use pandas.concat instead.\n",
      "  output_df = output_df.append(df)\n",
      "C:\\Users\\Kimbe\\AppData\\Local\\Temp/ipykernel_7100/3673173512.py:5: FutureWarning: The frame.append method is deprecated and will be removed from pandas in a future version. Use pandas.concat instead.\n",
      "  output_df = output_df.append(df)\n",
      "C:\\Users\\Kimbe\\AppData\\Local\\Temp/ipykernel_7100/3673173512.py:5: FutureWarning: The frame.append method is deprecated and will be removed from pandas in a future version. Use pandas.concat instead.\n",
      "  output_df = output_df.append(df)\n",
      "C:\\Users\\Kimbe\\AppData\\Local\\Temp/ipykernel_7100/3673173512.py:5: FutureWarning: The frame.append method is deprecated and will be removed from pandas in a future version. Use pandas.concat instead.\n",
      "  output_df = output_df.append(df)\n",
      "C:\\Users\\Kimbe\\AppData\\Local\\Temp/ipykernel_7100/3673173512.py:5: FutureWarning: The frame.append method is deprecated and will be removed from pandas in a future version. Use pandas.concat instead.\n",
      "  output_df = output_df.append(df)\n"
     ]
    },
    {
     "name": "stdout",
     "output_type": "stream",
     "text": [
      "Skipping row\n"
     ]
    },
    {
     "name": "stderr",
     "output_type": "stream",
     "text": [
      "C:\\Users\\Kimbe\\AppData\\Local\\Temp/ipykernel_7100/3673173512.py:5: FutureWarning: The frame.append method is deprecated and will be removed from pandas in a future version. Use pandas.concat instead.\n",
      "  output_df = output_df.append(df)\n",
      "C:\\Users\\Kimbe\\AppData\\Local\\Temp/ipykernel_7100/3673173512.py:5: FutureWarning: The frame.append method is deprecated and will be removed from pandas in a future version. Use pandas.concat instead.\n",
      "  output_df = output_df.append(df)\n",
      "C:\\Users\\Kimbe\\AppData\\Local\\Temp/ipykernel_7100/3673173512.py:5: FutureWarning: The frame.append method is deprecated and will be removed from pandas in a future version. Use pandas.concat instead.\n",
      "  output_df = output_df.append(df)\n",
      "C:\\Users\\Kimbe\\AppData\\Local\\Temp/ipykernel_7100/3673173512.py:5: FutureWarning: The frame.append method is deprecated and will be removed from pandas in a future version. Use pandas.concat instead.\n",
      "  output_df = output_df.append(df)\n",
      "C:\\Users\\Kimbe\\AppData\\Local\\Temp/ipykernel_7100/3673173512.py:5: FutureWarning: The frame.append method is deprecated and will be removed from pandas in a future version. Use pandas.concat instead.\n",
      "  output_df = output_df.append(df)\n",
      "C:\\Users\\Kimbe\\AppData\\Local\\Temp/ipykernel_7100/3673173512.py:5: FutureWarning: The frame.append method is deprecated and will be removed from pandas in a future version. Use pandas.concat instead.\n",
      "  output_df = output_df.append(df)\n",
      "C:\\Users\\Kimbe\\AppData\\Local\\Temp/ipykernel_7100/3673173512.py:5: FutureWarning: The frame.append method is deprecated and will be removed from pandas in a future version. Use pandas.concat instead.\n",
      "  output_df = output_df.append(df)\n",
      "C:\\Users\\Kimbe\\AppData\\Local\\Temp/ipykernel_7100/3673173512.py:5: FutureWarning: The frame.append method is deprecated and will be removed from pandas in a future version. Use pandas.concat instead.\n",
      "  output_df = output_df.append(df)\n",
      "C:\\Users\\Kimbe\\AppData\\Local\\Temp/ipykernel_7100/3673173512.py:5: FutureWarning: The frame.append method is deprecated and will be removed from pandas in a future version. Use pandas.concat instead.\n",
      "  output_df = output_df.append(df)\n",
      "C:\\Users\\Kimbe\\AppData\\Local\\Temp/ipykernel_7100/3673173512.py:5: FutureWarning: The frame.append method is deprecated and will be removed from pandas in a future version. Use pandas.concat instead.\n",
      "  output_df = output_df.append(df)\n"
     ]
    },
    {
     "name": "stdout",
     "output_type": "stream",
     "text": [
      "Skipping row\n"
     ]
    },
    {
     "name": "stderr",
     "output_type": "stream",
     "text": [
      "C:\\Users\\Kimbe\\AppData\\Local\\Temp/ipykernel_7100/3673173512.py:5: FutureWarning: The frame.append method is deprecated and will be removed from pandas in a future version. Use pandas.concat instead.\n",
      "  output_df = output_df.append(df)\n",
      "C:\\Users\\Kimbe\\AppData\\Local\\Temp/ipykernel_7100/3673173512.py:5: FutureWarning: The frame.append method is deprecated and will be removed from pandas in a future version. Use pandas.concat instead.\n",
      "  output_df = output_df.append(df)\n",
      "C:\\Users\\Kimbe\\AppData\\Local\\Temp/ipykernel_7100/3673173512.py:5: FutureWarning: The frame.append method is deprecated and will be removed from pandas in a future version. Use pandas.concat instead.\n",
      "  output_df = output_df.append(df)\n",
      "C:\\Users\\Kimbe\\AppData\\Local\\Temp/ipykernel_7100/3673173512.py:5: FutureWarning: The frame.append method is deprecated and will be removed from pandas in a future version. Use pandas.concat instead.\n",
      "  output_df = output_df.append(df)\n",
      "C:\\Users\\Kimbe\\AppData\\Local\\Temp/ipykernel_7100/3673173512.py:5: FutureWarning: The frame.append method is deprecated and will be removed from pandas in a future version. Use pandas.concat instead.\n",
      "  output_df = output_df.append(df)\n",
      "C:\\Users\\Kimbe\\AppData\\Local\\Temp/ipykernel_7100/3673173512.py:5: FutureWarning: The frame.append method is deprecated and will be removed from pandas in a future version. Use pandas.concat instead.\n",
      "  output_df = output_df.append(df)\n",
      "C:\\Users\\Kimbe\\AppData\\Local\\Temp/ipykernel_7100/3673173512.py:5: FutureWarning: The frame.append method is deprecated and will be removed from pandas in a future version. Use pandas.concat instead.\n",
      "  output_df = output_df.append(df)\n",
      "C:\\Users\\Kimbe\\AppData\\Local\\Temp/ipykernel_7100/3673173512.py:5: FutureWarning: The frame.append method is deprecated and will be removed from pandas in a future version. Use pandas.concat instead.\n",
      "  output_df = output_df.append(df)\n",
      "C:\\Users\\Kimbe\\AppData\\Local\\Temp/ipykernel_7100/3673173512.py:5: FutureWarning: The frame.append method is deprecated and will be removed from pandas in a future version. Use pandas.concat instead.\n",
      "  output_df = output_df.append(df)\n",
      "C:\\Users\\Kimbe\\AppData\\Local\\Temp/ipykernel_7100/3673173512.py:5: FutureWarning: The frame.append method is deprecated and will be removed from pandas in a future version. Use pandas.concat instead.\n",
      "  output_df = output_df.append(df)\n",
      "C:\\Users\\Kimbe\\AppData\\Local\\Temp/ipykernel_7100/3673173512.py:5: FutureWarning: The frame.append method is deprecated and will be removed from pandas in a future version. Use pandas.concat instead.\n",
      "  output_df = output_df.append(df)\n"
     ]
    },
    {
     "name": "stdout",
     "output_type": "stream",
     "text": [
      "Skipping row\n"
     ]
    },
    {
     "name": "stderr",
     "output_type": "stream",
     "text": [
      "C:\\Users\\Kimbe\\AppData\\Local\\Temp/ipykernel_7100/3673173512.py:5: FutureWarning: The frame.append method is deprecated and will be removed from pandas in a future version. Use pandas.concat instead.\n",
      "  output_df = output_df.append(df)\n",
      "C:\\Users\\Kimbe\\AppData\\Local\\Temp/ipykernel_7100/3673173512.py:5: FutureWarning: The frame.append method is deprecated and will be removed from pandas in a future version. Use pandas.concat instead.\n",
      "  output_df = output_df.append(df)\n",
      "C:\\Users\\Kimbe\\AppData\\Local\\Temp/ipykernel_7100/3673173512.py:5: FutureWarning: The frame.append method is deprecated and will be removed from pandas in a future version. Use pandas.concat instead.\n",
      "  output_df = output_df.append(df)\n",
      "C:\\Users\\Kimbe\\AppData\\Local\\Temp/ipykernel_7100/3673173512.py:5: FutureWarning: The frame.append method is deprecated and will be removed from pandas in a future version. Use pandas.concat instead.\n",
      "  output_df = output_df.append(df)\n",
      "C:\\Users\\Kimbe\\AppData\\Local\\Temp/ipykernel_7100/3673173512.py:5: FutureWarning: The frame.append method is deprecated and will be removed from pandas in a future version. Use pandas.concat instead.\n",
      "  output_df = output_df.append(df)\n",
      "C:\\Users\\Kimbe\\AppData\\Local\\Temp/ipykernel_7100/3673173512.py:5: FutureWarning: The frame.append method is deprecated and will be removed from pandas in a future version. Use pandas.concat instead.\n",
      "  output_df = output_df.append(df)\n",
      "C:\\Users\\Kimbe\\AppData\\Local\\Temp/ipykernel_7100/3673173512.py:5: FutureWarning: The frame.append method is deprecated and will be removed from pandas in a future version. Use pandas.concat instead.\n",
      "  output_df = output_df.append(df)\n",
      "C:\\Users\\Kimbe\\AppData\\Local\\Temp/ipykernel_7100/3673173512.py:5: FutureWarning: The frame.append method is deprecated and will be removed from pandas in a future version. Use pandas.concat instead.\n",
      "  output_df = output_df.append(df)\n",
      "C:\\Users\\Kimbe\\AppData\\Local\\Temp/ipykernel_7100/3673173512.py:5: FutureWarning: The frame.append method is deprecated and will be removed from pandas in a future version. Use pandas.concat instead.\n",
      "  output_df = output_df.append(df)\n",
      "C:\\Users\\Kimbe\\AppData\\Local\\Temp/ipykernel_7100/3673173512.py:5: FutureWarning: The frame.append method is deprecated and will be removed from pandas in a future version. Use pandas.concat instead.\n",
      "  output_df = output_df.append(df)\n",
      "C:\\Users\\Kimbe\\AppData\\Local\\Temp/ipykernel_7100/3673173512.py:5: FutureWarning: The frame.append method is deprecated and will be removed from pandas in a future version. Use pandas.concat instead.\n",
      "  output_df = output_df.append(df)\n"
     ]
    },
    {
     "name": "stdout",
     "output_type": "stream",
     "text": [
      "Skipping row\n"
     ]
    },
    {
     "name": "stderr",
     "output_type": "stream",
     "text": [
      "C:\\Users\\Kimbe\\AppData\\Local\\Temp/ipykernel_7100/3673173512.py:5: FutureWarning: The frame.append method is deprecated and will be removed from pandas in a future version. Use pandas.concat instead.\n",
      "  output_df = output_df.append(df)\n",
      "C:\\Users\\Kimbe\\AppData\\Local\\Temp/ipykernel_7100/3673173512.py:5: FutureWarning: The frame.append method is deprecated and will be removed from pandas in a future version. Use pandas.concat instead.\n",
      "  output_df = output_df.append(df)\n",
      "C:\\Users\\Kimbe\\AppData\\Local\\Temp/ipykernel_7100/3673173512.py:5: FutureWarning: The frame.append method is deprecated and will be removed from pandas in a future version. Use pandas.concat instead.\n",
      "  output_df = output_df.append(df)\n",
      "C:\\Users\\Kimbe\\AppData\\Local\\Temp/ipykernel_7100/3673173512.py:5: FutureWarning: The frame.append method is deprecated and will be removed from pandas in a future version. Use pandas.concat instead.\n",
      "  output_df = output_df.append(df)\n",
      "C:\\Users\\Kimbe\\AppData\\Local\\Temp/ipykernel_7100/3673173512.py:5: FutureWarning: The frame.append method is deprecated and will be removed from pandas in a future version. Use pandas.concat instead.\n",
      "  output_df = output_df.append(df)\n",
      "C:\\Users\\Kimbe\\AppData\\Local\\Temp/ipykernel_7100/3673173512.py:5: FutureWarning: The frame.append method is deprecated and will be removed from pandas in a future version. Use pandas.concat instead.\n",
      "  output_df = output_df.append(df)\n",
      "C:\\Users\\Kimbe\\AppData\\Local\\Temp/ipykernel_7100/3673173512.py:5: FutureWarning: The frame.append method is deprecated and will be removed from pandas in a future version. Use pandas.concat instead.\n",
      "  output_df = output_df.append(df)\n",
      "C:\\Users\\Kimbe\\AppData\\Local\\Temp/ipykernel_7100/3673173512.py:5: FutureWarning: The frame.append method is deprecated and will be removed from pandas in a future version. Use pandas.concat instead.\n",
      "  output_df = output_df.append(df)\n",
      "C:\\Users\\Kimbe\\AppData\\Local\\Temp/ipykernel_7100/3673173512.py:5: FutureWarning: The frame.append method is deprecated and will be removed from pandas in a future version. Use pandas.concat instead.\n",
      "  output_df = output_df.append(df)\n",
      "C:\\Users\\Kimbe\\AppData\\Local\\Temp/ipykernel_7100/3673173512.py:5: FutureWarning: The frame.append method is deprecated and will be removed from pandas in a future version. Use pandas.concat instead.\n",
      "  output_df = output_df.append(df)\n",
      "C:\\Users\\Kimbe\\AppData\\Local\\Temp/ipykernel_7100/3673173512.py:5: FutureWarning: The frame.append method is deprecated and will be removed from pandas in a future version. Use pandas.concat instead.\n",
      "  output_df = output_df.append(df)\n"
     ]
    },
    {
     "name": "stdout",
     "output_type": "stream",
     "text": [
      "Skipping row\n"
     ]
    },
    {
     "name": "stderr",
     "output_type": "stream",
     "text": [
      "C:\\Users\\Kimbe\\AppData\\Local\\Temp/ipykernel_7100/3673173512.py:5: FutureWarning: The frame.append method is deprecated and will be removed from pandas in a future version. Use pandas.concat instead.\n",
      "  output_df = output_df.append(df)\n",
      "C:\\Users\\Kimbe\\AppData\\Local\\Temp/ipykernel_7100/3673173512.py:5: FutureWarning: The frame.append method is deprecated and will be removed from pandas in a future version. Use pandas.concat instead.\n",
      "  output_df = output_df.append(df)\n",
      "C:\\Users\\Kimbe\\AppData\\Local\\Temp/ipykernel_7100/3673173512.py:5: FutureWarning: The frame.append method is deprecated and will be removed from pandas in a future version. Use pandas.concat instead.\n",
      "  output_df = output_df.append(df)\n",
      "C:\\Users\\Kimbe\\AppData\\Local\\Temp/ipykernel_7100/3673173512.py:5: FutureWarning: The frame.append method is deprecated and will be removed from pandas in a future version. Use pandas.concat instead.\n",
      "  output_df = output_df.append(df)\n",
      "C:\\Users\\Kimbe\\AppData\\Local\\Temp/ipykernel_7100/3673173512.py:5: FutureWarning: The frame.append method is deprecated and will be removed from pandas in a future version. Use pandas.concat instead.\n",
      "  output_df = output_df.append(df)\n",
      "C:\\Users\\Kimbe\\AppData\\Local\\Temp/ipykernel_7100/3673173512.py:5: FutureWarning: The frame.append method is deprecated and will be removed from pandas in a future version. Use pandas.concat instead.\n",
      "  output_df = output_df.append(df)\n",
      "C:\\Users\\Kimbe\\AppData\\Local\\Temp/ipykernel_7100/3673173512.py:5: FutureWarning: The frame.append method is deprecated and will be removed from pandas in a future version. Use pandas.concat instead.\n",
      "  output_df = output_df.append(df)\n",
      "C:\\Users\\Kimbe\\AppData\\Local\\Temp/ipykernel_7100/3673173512.py:5: FutureWarning: The frame.append method is deprecated and will be removed from pandas in a future version. Use pandas.concat instead.\n",
      "  output_df = output_df.append(df)\n",
      "C:\\Users\\Kimbe\\AppData\\Local\\Temp/ipykernel_7100/3673173512.py:5: FutureWarning: The frame.append method is deprecated and will be removed from pandas in a future version. Use pandas.concat instead.\n",
      "  output_df = output_df.append(df)\n",
      "C:\\Users\\Kimbe\\AppData\\Local\\Temp/ipykernel_7100/3673173512.py:5: FutureWarning: The frame.append method is deprecated and will be removed from pandas in a future version. Use pandas.concat instead.\n",
      "  output_df = output_df.append(df)\n",
      "C:\\Users\\Kimbe\\AppData\\Local\\Temp/ipykernel_7100/3673173512.py:5: FutureWarning: The frame.append method is deprecated and will be removed from pandas in a future version. Use pandas.concat instead.\n",
      "  output_df = output_df.append(df)\n",
      "C:\\Users\\Kimbe\\AppData\\Local\\Temp/ipykernel_7100/3673173512.py:5: FutureWarning: The frame.append method is deprecated and will be removed from pandas in a future version. Use pandas.concat instead.\n",
      "  output_df = output_df.append(df)\n"
     ]
    },
    {
     "name": "stdout",
     "output_type": "stream",
     "text": [
      "Skipping row\n"
     ]
    },
    {
     "name": "stderr",
     "output_type": "stream",
     "text": [
      "C:\\Users\\Kimbe\\AppData\\Local\\Temp/ipykernel_7100/3673173512.py:5: FutureWarning: The frame.append method is deprecated and will be removed from pandas in a future version. Use pandas.concat instead.\n",
      "  output_df = output_df.append(df)\n",
      "C:\\Users\\Kimbe\\AppData\\Local\\Temp/ipykernel_7100/3673173512.py:5: FutureWarning: The frame.append method is deprecated and will be removed from pandas in a future version. Use pandas.concat instead.\n",
      "  output_df = output_df.append(df)\n",
      "C:\\Users\\Kimbe\\AppData\\Local\\Temp/ipykernel_7100/3673173512.py:5: FutureWarning: The frame.append method is deprecated and will be removed from pandas in a future version. Use pandas.concat instead.\n",
      "  output_df = output_df.append(df)\n",
      "C:\\Users\\Kimbe\\AppData\\Local\\Temp/ipykernel_7100/3673173512.py:5: FutureWarning: The frame.append method is deprecated and will be removed from pandas in a future version. Use pandas.concat instead.\n",
      "  output_df = output_df.append(df)\n",
      "C:\\Users\\Kimbe\\AppData\\Local\\Temp/ipykernel_7100/3673173512.py:5: FutureWarning: The frame.append method is deprecated and will be removed from pandas in a future version. Use pandas.concat instead.\n",
      "  output_df = output_df.append(df)\n",
      "C:\\Users\\Kimbe\\AppData\\Local\\Temp/ipykernel_7100/3673173512.py:5: FutureWarning: The frame.append method is deprecated and will be removed from pandas in a future version. Use pandas.concat instead.\n",
      "  output_df = output_df.append(df)\n",
      "C:\\Users\\Kimbe\\AppData\\Local\\Temp/ipykernel_7100/3673173512.py:5: FutureWarning: The frame.append method is deprecated and will be removed from pandas in a future version. Use pandas.concat instead.\n",
      "  output_df = output_df.append(df)\n",
      "C:\\Users\\Kimbe\\AppData\\Local\\Temp/ipykernel_7100/3673173512.py:5: FutureWarning: The frame.append method is deprecated and will be removed from pandas in a future version. Use pandas.concat instead.\n",
      "  output_df = output_df.append(df)\n",
      "C:\\Users\\Kimbe\\AppData\\Local\\Temp/ipykernel_7100/3673173512.py:5: FutureWarning: The frame.append method is deprecated and will be removed from pandas in a future version. Use pandas.concat instead.\n",
      "  output_df = output_df.append(df)\n",
      "C:\\Users\\Kimbe\\AppData\\Local\\Temp/ipykernel_7100/3673173512.py:5: FutureWarning: The frame.append method is deprecated and will be removed from pandas in a future version. Use pandas.concat instead.\n",
      "  output_df = output_df.append(df)\n",
      "C:\\Users\\Kimbe\\AppData\\Local\\Temp/ipykernel_7100/3673173512.py:5: FutureWarning: The frame.append method is deprecated and will be removed from pandas in a future version. Use pandas.concat instead.\n",
      "  output_df = output_df.append(df)\n"
     ]
    },
    {
     "name": "stdout",
     "output_type": "stream",
     "text": [
      "Skipping row\n"
     ]
    },
    {
     "name": "stderr",
     "output_type": "stream",
     "text": [
      "C:\\Users\\Kimbe\\AppData\\Local\\Temp/ipykernel_7100/3673173512.py:5: FutureWarning: The frame.append method is deprecated and will be removed from pandas in a future version. Use pandas.concat instead.\n",
      "  output_df = output_df.append(df)\n",
      "C:\\Users\\Kimbe\\AppData\\Local\\Temp/ipykernel_7100/3673173512.py:5: FutureWarning: The frame.append method is deprecated and will be removed from pandas in a future version. Use pandas.concat instead.\n",
      "  output_df = output_df.append(df)\n",
      "C:\\Users\\Kimbe\\AppData\\Local\\Temp/ipykernel_7100/3673173512.py:5: FutureWarning: The frame.append method is deprecated and will be removed from pandas in a future version. Use pandas.concat instead.\n",
      "  output_df = output_df.append(df)\n",
      "C:\\Users\\Kimbe\\AppData\\Local\\Temp/ipykernel_7100/3673173512.py:5: FutureWarning: The frame.append method is deprecated and will be removed from pandas in a future version. Use pandas.concat instead.\n",
      "  output_df = output_df.append(df)\n",
      "C:\\Users\\Kimbe\\AppData\\Local\\Temp/ipykernel_7100/3673173512.py:5: FutureWarning: The frame.append method is deprecated and will be removed from pandas in a future version. Use pandas.concat instead.\n",
      "  output_df = output_df.append(df)\n",
      "C:\\Users\\Kimbe\\AppData\\Local\\Temp/ipykernel_7100/3673173512.py:5: FutureWarning: The frame.append method is deprecated and will be removed from pandas in a future version. Use pandas.concat instead.\n",
      "  output_df = output_df.append(df)\n",
      "C:\\Users\\Kimbe\\AppData\\Local\\Temp/ipykernel_7100/3673173512.py:5: FutureWarning: The frame.append method is deprecated and will be removed from pandas in a future version. Use pandas.concat instead.\n",
      "  output_df = output_df.append(df)\n",
      "C:\\Users\\Kimbe\\AppData\\Local\\Temp/ipykernel_7100/3673173512.py:5: FutureWarning: The frame.append method is deprecated and will be removed from pandas in a future version. Use pandas.concat instead.\n",
      "  output_df = output_df.append(df)\n",
      "C:\\Users\\Kimbe\\AppData\\Local\\Temp/ipykernel_7100/3673173512.py:5: FutureWarning: The frame.append method is deprecated and will be removed from pandas in a future version. Use pandas.concat instead.\n",
      "  output_df = output_df.append(df)\n",
      "C:\\Users\\Kimbe\\AppData\\Local\\Temp/ipykernel_7100/3673173512.py:5: FutureWarning: The frame.append method is deprecated and will be removed from pandas in a future version. Use pandas.concat instead.\n",
      "  output_df = output_df.append(df)\n",
      "C:\\Users\\Kimbe\\AppData\\Local\\Temp/ipykernel_7100/3673173512.py:5: FutureWarning: The frame.append method is deprecated and will be removed from pandas in a future version. Use pandas.concat instead.\n",
      "  output_df = output_df.append(df)\n"
     ]
    },
    {
     "name": "stdout",
     "output_type": "stream",
     "text": [
      "Skipping row\n"
     ]
    },
    {
     "name": "stderr",
     "output_type": "stream",
     "text": [
      "C:\\Users\\Kimbe\\AppData\\Local\\Temp/ipykernel_7100/3673173512.py:5: FutureWarning: The frame.append method is deprecated and will be removed from pandas in a future version. Use pandas.concat instead.\n",
      "  output_df = output_df.append(df)\n",
      "C:\\Users\\Kimbe\\AppData\\Local\\Temp/ipykernel_7100/3673173512.py:5: FutureWarning: The frame.append method is deprecated and will be removed from pandas in a future version. Use pandas.concat instead.\n",
      "  output_df = output_df.append(df)\n",
      "C:\\Users\\Kimbe\\AppData\\Local\\Temp/ipykernel_7100/3673173512.py:5: FutureWarning: The frame.append method is deprecated and will be removed from pandas in a future version. Use pandas.concat instead.\n",
      "  output_df = output_df.append(df)\n",
      "C:\\Users\\Kimbe\\AppData\\Local\\Temp/ipykernel_7100/3673173512.py:5: FutureWarning: The frame.append method is deprecated and will be removed from pandas in a future version. Use pandas.concat instead.\n",
      "  output_df = output_df.append(df)\n",
      "C:\\Users\\Kimbe\\AppData\\Local\\Temp/ipykernel_7100/3673173512.py:5: FutureWarning: The frame.append method is deprecated and will be removed from pandas in a future version. Use pandas.concat instead.\n",
      "  output_df = output_df.append(df)\n",
      "C:\\Users\\Kimbe\\AppData\\Local\\Temp/ipykernel_7100/3673173512.py:5: FutureWarning: The frame.append method is deprecated and will be removed from pandas in a future version. Use pandas.concat instead.\n",
      "  output_df = output_df.append(df)\n",
      "C:\\Users\\Kimbe\\AppData\\Local\\Temp/ipykernel_7100/3673173512.py:5: FutureWarning: The frame.append method is deprecated and will be removed from pandas in a future version. Use pandas.concat instead.\n",
      "  output_df = output_df.append(df)\n",
      "C:\\Users\\Kimbe\\AppData\\Local\\Temp/ipykernel_7100/3673173512.py:5: FutureWarning: The frame.append method is deprecated and will be removed from pandas in a future version. Use pandas.concat instead.\n",
      "  output_df = output_df.append(df)\n",
      "C:\\Users\\Kimbe\\AppData\\Local\\Temp/ipykernel_7100/3673173512.py:5: FutureWarning: The frame.append method is deprecated and will be removed from pandas in a future version. Use pandas.concat instead.\n",
      "  output_df = output_df.append(df)\n",
      "C:\\Users\\Kimbe\\AppData\\Local\\Temp/ipykernel_7100/3673173512.py:5: FutureWarning: The frame.append method is deprecated and will be removed from pandas in a future version. Use pandas.concat instead.\n",
      "  output_df = output_df.append(df)\n",
      "C:\\Users\\Kimbe\\AppData\\Local\\Temp/ipykernel_7100/3673173512.py:5: FutureWarning: The frame.append method is deprecated and will be removed from pandas in a future version. Use pandas.concat instead.\n",
      "  output_df = output_df.append(df)\n"
     ]
    },
    {
     "name": "stdout",
     "output_type": "stream",
     "text": [
      "Skipping row\n"
     ]
    },
    {
     "name": "stderr",
     "output_type": "stream",
     "text": [
      "C:\\Users\\Kimbe\\AppData\\Local\\Temp/ipykernel_7100/3673173512.py:5: FutureWarning: The frame.append method is deprecated and will be removed from pandas in a future version. Use pandas.concat instead.\n",
      "  output_df = output_df.append(df)\n",
      "C:\\Users\\Kimbe\\AppData\\Local\\Temp/ipykernel_7100/3673173512.py:5: FutureWarning: The frame.append method is deprecated and will be removed from pandas in a future version. Use pandas.concat instead.\n",
      "  output_df = output_df.append(df)\n",
      "C:\\Users\\Kimbe\\AppData\\Local\\Temp/ipykernel_7100/3673173512.py:5: FutureWarning: The frame.append method is deprecated and will be removed from pandas in a future version. Use pandas.concat instead.\n",
      "  output_df = output_df.append(df)\n",
      "C:\\Users\\Kimbe\\AppData\\Local\\Temp/ipykernel_7100/3673173512.py:5: FutureWarning: The frame.append method is deprecated and will be removed from pandas in a future version. Use pandas.concat instead.\n",
      "  output_df = output_df.append(df)\n",
      "C:\\Users\\Kimbe\\AppData\\Local\\Temp/ipykernel_7100/3673173512.py:5: FutureWarning: The frame.append method is deprecated and will be removed from pandas in a future version. Use pandas.concat instead.\n",
      "  output_df = output_df.append(df)\n",
      "C:\\Users\\Kimbe\\AppData\\Local\\Temp/ipykernel_7100/3673173512.py:5: FutureWarning: The frame.append method is deprecated and will be removed from pandas in a future version. Use pandas.concat instead.\n",
      "  output_df = output_df.append(df)\n",
      "C:\\Users\\Kimbe\\AppData\\Local\\Temp/ipykernel_7100/3673173512.py:5: FutureWarning: The frame.append method is deprecated and will be removed from pandas in a future version. Use pandas.concat instead.\n",
      "  output_df = output_df.append(df)\n",
      "C:\\Users\\Kimbe\\AppData\\Local\\Temp/ipykernel_7100/3673173512.py:5: FutureWarning: The frame.append method is deprecated and will be removed from pandas in a future version. Use pandas.concat instead.\n",
      "  output_df = output_df.append(df)\n",
      "C:\\Users\\Kimbe\\AppData\\Local\\Temp/ipykernel_7100/3673173512.py:5: FutureWarning: The frame.append method is deprecated and will be removed from pandas in a future version. Use pandas.concat instead.\n",
      "  output_df = output_df.append(df)\n",
      "C:\\Users\\Kimbe\\AppData\\Local\\Temp/ipykernel_7100/3673173512.py:5: FutureWarning: The frame.append method is deprecated and will be removed from pandas in a future version. Use pandas.concat instead.\n",
      "  output_df = output_df.append(df)\n",
      "C:\\Users\\Kimbe\\AppData\\Local\\Temp/ipykernel_7100/3673173512.py:5: FutureWarning: The frame.append method is deprecated and will be removed from pandas in a future version. Use pandas.concat instead.\n",
      "  output_df = output_df.append(df)\n"
     ]
    },
    {
     "name": "stdout",
     "output_type": "stream",
     "text": [
      "Skipping row\n"
     ]
    },
    {
     "name": "stderr",
     "output_type": "stream",
     "text": [
      "C:\\Users\\Kimbe\\AppData\\Local\\Temp/ipykernel_7100/3673173512.py:5: FutureWarning: The frame.append method is deprecated and will be removed from pandas in a future version. Use pandas.concat instead.\n",
      "  output_df = output_df.append(df)\n",
      "C:\\Users\\Kimbe\\AppData\\Local\\Temp/ipykernel_7100/3673173512.py:5: FutureWarning: The frame.append method is deprecated and will be removed from pandas in a future version. Use pandas.concat instead.\n",
      "  output_df = output_df.append(df)\n",
      "C:\\Users\\Kimbe\\AppData\\Local\\Temp/ipykernel_7100/3673173512.py:5: FutureWarning: The frame.append method is deprecated and will be removed from pandas in a future version. Use pandas.concat instead.\n",
      "  output_df = output_df.append(df)\n",
      "C:\\Users\\Kimbe\\AppData\\Local\\Temp/ipykernel_7100/3673173512.py:5: FutureWarning: The frame.append method is deprecated and will be removed from pandas in a future version. Use pandas.concat instead.\n",
      "  output_df = output_df.append(df)\n",
      "C:\\Users\\Kimbe\\AppData\\Local\\Temp/ipykernel_7100/3673173512.py:5: FutureWarning: The frame.append method is deprecated and will be removed from pandas in a future version. Use pandas.concat instead.\n",
      "  output_df = output_df.append(df)\n",
      "C:\\Users\\Kimbe\\AppData\\Local\\Temp/ipykernel_7100/3673173512.py:5: FutureWarning: The frame.append method is deprecated and will be removed from pandas in a future version. Use pandas.concat instead.\n",
      "  output_df = output_df.append(df)\n",
      "C:\\Users\\Kimbe\\AppData\\Local\\Temp/ipykernel_7100/3673173512.py:5: FutureWarning: The frame.append method is deprecated and will be removed from pandas in a future version. Use pandas.concat instead.\n",
      "  output_df = output_df.append(df)\n",
      "C:\\Users\\Kimbe\\AppData\\Local\\Temp/ipykernel_7100/3673173512.py:5: FutureWarning: The frame.append method is deprecated and will be removed from pandas in a future version. Use pandas.concat instead.\n",
      "  output_df = output_df.append(df)\n",
      "C:\\Users\\Kimbe\\AppData\\Local\\Temp/ipykernel_7100/3673173512.py:5: FutureWarning: The frame.append method is deprecated and will be removed from pandas in a future version. Use pandas.concat instead.\n",
      "  output_df = output_df.append(df)\n",
      "C:\\Users\\Kimbe\\AppData\\Local\\Temp/ipykernel_7100/3673173512.py:5: FutureWarning: The frame.append method is deprecated and will be removed from pandas in a future version. Use pandas.concat instead.\n",
      "  output_df = output_df.append(df)\n",
      "C:\\Users\\Kimbe\\AppData\\Local\\Temp/ipykernel_7100/3673173512.py:5: FutureWarning: The frame.append method is deprecated and will be removed from pandas in a future version. Use pandas.concat instead.\n",
      "  output_df = output_df.append(df)\n"
     ]
    },
    {
     "name": "stdout",
     "output_type": "stream",
     "text": [
      "Skipping row\n"
     ]
    },
    {
     "name": "stderr",
     "output_type": "stream",
     "text": [
      "C:\\Users\\Kimbe\\AppData\\Local\\Temp/ipykernel_7100/3673173512.py:5: FutureWarning: The frame.append method is deprecated and will be removed from pandas in a future version. Use pandas.concat instead.\n",
      "  output_df = output_df.append(df)\n",
      "C:\\Users\\Kimbe\\AppData\\Local\\Temp/ipykernel_7100/3673173512.py:5: FutureWarning: The frame.append method is deprecated and will be removed from pandas in a future version. Use pandas.concat instead.\n",
      "  output_df = output_df.append(df)\n",
      "C:\\Users\\Kimbe\\AppData\\Local\\Temp/ipykernel_7100/3673173512.py:5: FutureWarning: The frame.append method is deprecated and will be removed from pandas in a future version. Use pandas.concat instead.\n",
      "  output_df = output_df.append(df)\n",
      "C:\\Users\\Kimbe\\AppData\\Local\\Temp/ipykernel_7100/3673173512.py:5: FutureWarning: The frame.append method is deprecated and will be removed from pandas in a future version. Use pandas.concat instead.\n",
      "  output_df = output_df.append(df)\n",
      "C:\\Users\\Kimbe\\AppData\\Local\\Temp/ipykernel_7100/3673173512.py:5: FutureWarning: The frame.append method is deprecated and will be removed from pandas in a future version. Use pandas.concat instead.\n",
      "  output_df = output_df.append(df)\n",
      "C:\\Users\\Kimbe\\AppData\\Local\\Temp/ipykernel_7100/3673173512.py:5: FutureWarning: The frame.append method is deprecated and will be removed from pandas in a future version. Use pandas.concat instead.\n",
      "  output_df = output_df.append(df)\n",
      "C:\\Users\\Kimbe\\AppData\\Local\\Temp/ipykernel_7100/3673173512.py:5: FutureWarning: The frame.append method is deprecated and will be removed from pandas in a future version. Use pandas.concat instead.\n",
      "  output_df = output_df.append(df)\n",
      "C:\\Users\\Kimbe\\AppData\\Local\\Temp/ipykernel_7100/3673173512.py:5: FutureWarning: The frame.append method is deprecated and will be removed from pandas in a future version. Use pandas.concat instead.\n",
      "  output_df = output_df.append(df)\n",
      "C:\\Users\\Kimbe\\AppData\\Local\\Temp/ipykernel_7100/3673173512.py:5: FutureWarning: The frame.append method is deprecated and will be removed from pandas in a future version. Use pandas.concat instead.\n",
      "  output_df = output_df.append(df)\n",
      "C:\\Users\\Kimbe\\AppData\\Local\\Temp/ipykernel_7100/3673173512.py:5: FutureWarning: The frame.append method is deprecated and will be removed from pandas in a future version. Use pandas.concat instead.\n",
      "  output_df = output_df.append(df)\n",
      "C:\\Users\\Kimbe\\AppData\\Local\\Temp/ipykernel_7100/3673173512.py:5: FutureWarning: The frame.append method is deprecated and will be removed from pandas in a future version. Use pandas.concat instead.\n",
      "  output_df = output_df.append(df)\n"
     ]
    },
    {
     "name": "stdout",
     "output_type": "stream",
     "text": [
      "Skipping row\n"
     ]
    },
    {
     "name": "stderr",
     "output_type": "stream",
     "text": [
      "C:\\Users\\Kimbe\\AppData\\Local\\Temp/ipykernel_7100/3673173512.py:5: FutureWarning: The frame.append method is deprecated and will be removed from pandas in a future version. Use pandas.concat instead.\n",
      "  output_df = output_df.append(df)\n",
      "C:\\Users\\Kimbe\\AppData\\Local\\Temp/ipykernel_7100/3673173512.py:5: FutureWarning: The frame.append method is deprecated and will be removed from pandas in a future version. Use pandas.concat instead.\n",
      "  output_df = output_df.append(df)\n",
      "C:\\Users\\Kimbe\\AppData\\Local\\Temp/ipykernel_7100/3673173512.py:5: FutureWarning: The frame.append method is deprecated and will be removed from pandas in a future version. Use pandas.concat instead.\n",
      "  output_df = output_df.append(df)\n",
      "C:\\Users\\Kimbe\\AppData\\Local\\Temp/ipykernel_7100/3673173512.py:5: FutureWarning: The frame.append method is deprecated and will be removed from pandas in a future version. Use pandas.concat instead.\n",
      "  output_df = output_df.append(df)\n",
      "C:\\Users\\Kimbe\\AppData\\Local\\Temp/ipykernel_7100/3673173512.py:5: FutureWarning: The frame.append method is deprecated and will be removed from pandas in a future version. Use pandas.concat instead.\n",
      "  output_df = output_df.append(df)\n",
      "C:\\Users\\Kimbe\\AppData\\Local\\Temp/ipykernel_7100/3673173512.py:5: FutureWarning: The frame.append method is deprecated and will be removed from pandas in a future version. Use pandas.concat instead.\n",
      "  output_df = output_df.append(df)\n",
      "C:\\Users\\Kimbe\\AppData\\Local\\Temp/ipykernel_7100/3673173512.py:5: FutureWarning: The frame.append method is deprecated and will be removed from pandas in a future version. Use pandas.concat instead.\n",
      "  output_df = output_df.append(df)\n",
      "C:\\Users\\Kimbe\\AppData\\Local\\Temp/ipykernel_7100/3673173512.py:5: FutureWarning: The frame.append method is deprecated and will be removed from pandas in a future version. Use pandas.concat instead.\n",
      "  output_df = output_df.append(df)\n",
      "C:\\Users\\Kimbe\\AppData\\Local\\Temp/ipykernel_7100/3673173512.py:5: FutureWarning: The frame.append method is deprecated and will be removed from pandas in a future version. Use pandas.concat instead.\n",
      "  output_df = output_df.append(df)\n",
      "C:\\Users\\Kimbe\\AppData\\Local\\Temp/ipykernel_7100/3673173512.py:5: FutureWarning: The frame.append method is deprecated and will be removed from pandas in a future version. Use pandas.concat instead.\n",
      "  output_df = output_df.append(df)\n",
      "C:\\Users\\Kimbe\\AppData\\Local\\Temp/ipykernel_7100/3673173512.py:5: FutureWarning: The frame.append method is deprecated and will be removed from pandas in a future version. Use pandas.concat instead.\n",
      "  output_df = output_df.append(df)\n"
     ]
    },
    {
     "name": "stdout",
     "output_type": "stream",
     "text": [
      "Skipping row\n"
     ]
    },
    {
     "name": "stderr",
     "output_type": "stream",
     "text": [
      "C:\\Users\\Kimbe\\AppData\\Local\\Temp/ipykernel_7100/3673173512.py:5: FutureWarning: The frame.append method is deprecated and will be removed from pandas in a future version. Use pandas.concat instead.\n",
      "  output_df = output_df.append(df)\n",
      "C:\\Users\\Kimbe\\AppData\\Local\\Temp/ipykernel_7100/3673173512.py:5: FutureWarning: The frame.append method is deprecated and will be removed from pandas in a future version. Use pandas.concat instead.\n",
      "  output_df = output_df.append(df)\n",
      "C:\\Users\\Kimbe\\AppData\\Local\\Temp/ipykernel_7100/3673173512.py:5: FutureWarning: The frame.append method is deprecated and will be removed from pandas in a future version. Use pandas.concat instead.\n",
      "  output_df = output_df.append(df)\n",
      "C:\\Users\\Kimbe\\AppData\\Local\\Temp/ipykernel_7100/3673173512.py:5: FutureWarning: The frame.append method is deprecated and will be removed from pandas in a future version. Use pandas.concat instead.\n",
      "  output_df = output_df.append(df)\n",
      "C:\\Users\\Kimbe\\AppData\\Local\\Temp/ipykernel_7100/3673173512.py:5: FutureWarning: The frame.append method is deprecated and will be removed from pandas in a future version. Use pandas.concat instead.\n",
      "  output_df = output_df.append(df)\n",
      "C:\\Users\\Kimbe\\AppData\\Local\\Temp/ipykernel_7100/3673173512.py:5: FutureWarning: The frame.append method is deprecated and will be removed from pandas in a future version. Use pandas.concat instead.\n",
      "  output_df = output_df.append(df)\n",
      "C:\\Users\\Kimbe\\AppData\\Local\\Temp/ipykernel_7100/3673173512.py:5: FutureWarning: The frame.append method is deprecated and will be removed from pandas in a future version. Use pandas.concat instead.\n",
      "  output_df = output_df.append(df)\n",
      "C:\\Users\\Kimbe\\AppData\\Local\\Temp/ipykernel_7100/3673173512.py:5: FutureWarning: The frame.append method is deprecated and will be removed from pandas in a future version. Use pandas.concat instead.\n",
      "  output_df = output_df.append(df)\n",
      "C:\\Users\\Kimbe\\AppData\\Local\\Temp/ipykernel_7100/3673173512.py:5: FutureWarning: The frame.append method is deprecated and will be removed from pandas in a future version. Use pandas.concat instead.\n",
      "  output_df = output_df.append(df)\n",
      "C:\\Users\\Kimbe\\AppData\\Local\\Temp/ipykernel_7100/3673173512.py:5: FutureWarning: The frame.append method is deprecated and will be removed from pandas in a future version. Use pandas.concat instead.\n",
      "  output_df = output_df.append(df)\n",
      "C:\\Users\\Kimbe\\AppData\\Local\\Temp/ipykernel_7100/3673173512.py:5: FutureWarning: The frame.append method is deprecated and will be removed from pandas in a future version. Use pandas.concat instead.\n",
      "  output_df = output_df.append(df)\n"
     ]
    },
    {
     "name": "stdout",
     "output_type": "stream",
     "text": [
      "Skipping row\n"
     ]
    },
    {
     "name": "stderr",
     "output_type": "stream",
     "text": [
      "C:\\Users\\Kimbe\\AppData\\Local\\Temp/ipykernel_7100/3673173512.py:5: FutureWarning: The frame.append method is deprecated and will be removed from pandas in a future version. Use pandas.concat instead.\n",
      "  output_df = output_df.append(df)\n",
      "C:\\Users\\Kimbe\\AppData\\Local\\Temp/ipykernel_7100/3673173512.py:5: FutureWarning: The frame.append method is deprecated and will be removed from pandas in a future version. Use pandas.concat instead.\n",
      "  output_df = output_df.append(df)\n",
      "C:\\Users\\Kimbe\\AppData\\Local\\Temp/ipykernel_7100/3673173512.py:5: FutureWarning: The frame.append method is deprecated and will be removed from pandas in a future version. Use pandas.concat instead.\n",
      "  output_df = output_df.append(df)\n",
      "C:\\Users\\Kimbe\\AppData\\Local\\Temp/ipykernel_7100/3673173512.py:5: FutureWarning: The frame.append method is deprecated and will be removed from pandas in a future version. Use pandas.concat instead.\n",
      "  output_df = output_df.append(df)\n",
      "C:\\Users\\Kimbe\\AppData\\Local\\Temp/ipykernel_7100/3673173512.py:5: FutureWarning: The frame.append method is deprecated and will be removed from pandas in a future version. Use pandas.concat instead.\n",
      "  output_df = output_df.append(df)\n",
      "C:\\Users\\Kimbe\\AppData\\Local\\Temp/ipykernel_7100/3673173512.py:5: FutureWarning: The frame.append method is deprecated and will be removed from pandas in a future version. Use pandas.concat instead.\n",
      "  output_df = output_df.append(df)\n",
      "C:\\Users\\Kimbe\\AppData\\Local\\Temp/ipykernel_7100/3673173512.py:5: FutureWarning: The frame.append method is deprecated and will be removed from pandas in a future version. Use pandas.concat instead.\n",
      "  output_df = output_df.append(df)\n",
      "C:\\Users\\Kimbe\\AppData\\Local\\Temp/ipykernel_7100/3673173512.py:5: FutureWarning: The frame.append method is deprecated and will be removed from pandas in a future version. Use pandas.concat instead.\n",
      "  output_df = output_df.append(df)\n",
      "C:\\Users\\Kimbe\\AppData\\Local\\Temp/ipykernel_7100/3673173512.py:5: FutureWarning: The frame.append method is deprecated and will be removed from pandas in a future version. Use pandas.concat instead.\n",
      "  output_df = output_df.append(df)\n",
      "C:\\Users\\Kimbe\\AppData\\Local\\Temp/ipykernel_7100/3673173512.py:5: FutureWarning: The frame.append method is deprecated and will be removed from pandas in a future version. Use pandas.concat instead.\n",
      "  output_df = output_df.append(df)\n",
      "C:\\Users\\Kimbe\\AppData\\Local\\Temp/ipykernel_7100/3673173512.py:5: FutureWarning: The frame.append method is deprecated and will be removed from pandas in a future version. Use pandas.concat instead.\n",
      "  output_df = output_df.append(df)\n"
     ]
    },
    {
     "name": "stdout",
     "output_type": "stream",
     "text": [
      "Skipping row\n"
     ]
    },
    {
     "name": "stderr",
     "output_type": "stream",
     "text": [
      "C:\\Users\\Kimbe\\AppData\\Local\\Temp/ipykernel_7100/3673173512.py:5: FutureWarning: The frame.append method is deprecated and will be removed from pandas in a future version. Use pandas.concat instead.\n",
      "  output_df = output_df.append(df)\n",
      "C:\\Users\\Kimbe\\AppData\\Local\\Temp/ipykernel_7100/3673173512.py:5: FutureWarning: The frame.append method is deprecated and will be removed from pandas in a future version. Use pandas.concat instead.\n",
      "  output_df = output_df.append(df)\n",
      "C:\\Users\\Kimbe\\AppData\\Local\\Temp/ipykernel_7100/3673173512.py:5: FutureWarning: The frame.append method is deprecated and will be removed from pandas in a future version. Use pandas.concat instead.\n",
      "  output_df = output_df.append(df)\n",
      "C:\\Users\\Kimbe\\AppData\\Local\\Temp/ipykernel_7100/3673173512.py:5: FutureWarning: The frame.append method is deprecated and will be removed from pandas in a future version. Use pandas.concat instead.\n",
      "  output_df = output_df.append(df)\n",
      "C:\\Users\\Kimbe\\AppData\\Local\\Temp/ipykernel_7100/3673173512.py:5: FutureWarning: The frame.append method is deprecated and will be removed from pandas in a future version. Use pandas.concat instead.\n",
      "  output_df = output_df.append(df)\n",
      "C:\\Users\\Kimbe\\AppData\\Local\\Temp/ipykernel_7100/3673173512.py:5: FutureWarning: The frame.append method is deprecated and will be removed from pandas in a future version. Use pandas.concat instead.\n",
      "  output_df = output_df.append(df)\n",
      "C:\\Users\\Kimbe\\AppData\\Local\\Temp/ipykernel_7100/3673173512.py:5: FutureWarning: The frame.append method is deprecated and will be removed from pandas in a future version. Use pandas.concat instead.\n",
      "  output_df = output_df.append(df)\n",
      "C:\\Users\\Kimbe\\AppData\\Local\\Temp/ipykernel_7100/3673173512.py:5: FutureWarning: The frame.append method is deprecated and will be removed from pandas in a future version. Use pandas.concat instead.\n",
      "  output_df = output_df.append(df)\n",
      "C:\\Users\\Kimbe\\AppData\\Local\\Temp/ipykernel_7100/3673173512.py:5: FutureWarning: The frame.append method is deprecated and will be removed from pandas in a future version. Use pandas.concat instead.\n",
      "  output_df = output_df.append(df)\n",
      "C:\\Users\\Kimbe\\AppData\\Local\\Temp/ipykernel_7100/3673173512.py:5: FutureWarning: The frame.append method is deprecated and will be removed from pandas in a future version. Use pandas.concat instead.\n",
      "  output_df = output_df.append(df)\n",
      "C:\\Users\\Kimbe\\AppData\\Local\\Temp/ipykernel_7100/3673173512.py:5: FutureWarning: The frame.append method is deprecated and will be removed from pandas in a future version. Use pandas.concat instead.\n",
      "  output_df = output_df.append(df)\n"
     ]
    },
    {
     "name": "stdout",
     "output_type": "stream",
     "text": [
      "Skipping row\n"
     ]
    },
    {
     "name": "stderr",
     "output_type": "stream",
     "text": [
      "C:\\Users\\Kimbe\\AppData\\Local\\Temp/ipykernel_7100/3673173512.py:5: FutureWarning: The frame.append method is deprecated and will be removed from pandas in a future version. Use pandas.concat instead.\n",
      "  output_df = output_df.append(df)\n",
      "C:\\Users\\Kimbe\\AppData\\Local\\Temp/ipykernel_7100/3673173512.py:5: FutureWarning: The frame.append method is deprecated and will be removed from pandas in a future version. Use pandas.concat instead.\n",
      "  output_df = output_df.append(df)\n",
      "C:\\Users\\Kimbe\\AppData\\Local\\Temp/ipykernel_7100/3673173512.py:5: FutureWarning: The frame.append method is deprecated and will be removed from pandas in a future version. Use pandas.concat instead.\n",
      "  output_df = output_df.append(df)\n",
      "C:\\Users\\Kimbe\\AppData\\Local\\Temp/ipykernel_7100/3673173512.py:5: FutureWarning: The frame.append method is deprecated and will be removed from pandas in a future version. Use pandas.concat instead.\n",
      "  output_df = output_df.append(df)\n",
      "C:\\Users\\Kimbe\\AppData\\Local\\Temp/ipykernel_7100/3673173512.py:5: FutureWarning: The frame.append method is deprecated and will be removed from pandas in a future version. Use pandas.concat instead.\n",
      "  output_df = output_df.append(df)\n",
      "C:\\Users\\Kimbe\\AppData\\Local\\Temp/ipykernel_7100/3673173512.py:5: FutureWarning: The frame.append method is deprecated and will be removed from pandas in a future version. Use pandas.concat instead.\n",
      "  output_df = output_df.append(df)\n",
      "C:\\Users\\Kimbe\\AppData\\Local\\Temp/ipykernel_7100/3673173512.py:5: FutureWarning: The frame.append method is deprecated and will be removed from pandas in a future version. Use pandas.concat instead.\n",
      "  output_df = output_df.append(df)\n",
      "C:\\Users\\Kimbe\\AppData\\Local\\Temp/ipykernel_7100/3673173512.py:5: FutureWarning: The frame.append method is deprecated and will be removed from pandas in a future version. Use pandas.concat instead.\n",
      "  output_df = output_df.append(df)\n",
      "C:\\Users\\Kimbe\\AppData\\Local\\Temp/ipykernel_7100/3673173512.py:5: FutureWarning: The frame.append method is deprecated and will be removed from pandas in a future version. Use pandas.concat instead.\n",
      "  output_df = output_df.append(df)\n",
      "C:\\Users\\Kimbe\\AppData\\Local\\Temp/ipykernel_7100/3673173512.py:5: FutureWarning: The frame.append method is deprecated and will be removed from pandas in a future version. Use pandas.concat instead.\n",
      "  output_df = output_df.append(df)\n",
      "C:\\Users\\Kimbe\\AppData\\Local\\Temp/ipykernel_7100/3673173512.py:5: FutureWarning: The frame.append method is deprecated and will be removed from pandas in a future version. Use pandas.concat instead.\n",
      "  output_df = output_df.append(df)\n"
     ]
    },
    {
     "name": "stdout",
     "output_type": "stream",
     "text": [
      "Skipping row\n"
     ]
    },
    {
     "name": "stderr",
     "output_type": "stream",
     "text": [
      "C:\\Users\\Kimbe\\AppData\\Local\\Temp/ipykernel_7100/3673173512.py:5: FutureWarning: The frame.append method is deprecated and will be removed from pandas in a future version. Use pandas.concat instead.\n",
      "  output_df = output_df.append(df)\n",
      "C:\\Users\\Kimbe\\AppData\\Local\\Temp/ipykernel_7100/3673173512.py:5: FutureWarning: The frame.append method is deprecated and will be removed from pandas in a future version. Use pandas.concat instead.\n",
      "  output_df = output_df.append(df)\n",
      "C:\\Users\\Kimbe\\AppData\\Local\\Temp/ipykernel_7100/3673173512.py:5: FutureWarning: The frame.append method is deprecated and will be removed from pandas in a future version. Use pandas.concat instead.\n",
      "  output_df = output_df.append(df)\n",
      "C:\\Users\\Kimbe\\AppData\\Local\\Temp/ipykernel_7100/3673173512.py:5: FutureWarning: The frame.append method is deprecated and will be removed from pandas in a future version. Use pandas.concat instead.\n",
      "  output_df = output_df.append(df)\n",
      "C:\\Users\\Kimbe\\AppData\\Local\\Temp/ipykernel_7100/3673173512.py:5: FutureWarning: The frame.append method is deprecated and will be removed from pandas in a future version. Use pandas.concat instead.\n",
      "  output_df = output_df.append(df)\n",
      "C:\\Users\\Kimbe\\AppData\\Local\\Temp/ipykernel_7100/3673173512.py:5: FutureWarning: The frame.append method is deprecated and will be removed from pandas in a future version. Use pandas.concat instead.\n",
      "  output_df = output_df.append(df)\n",
      "C:\\Users\\Kimbe\\AppData\\Local\\Temp/ipykernel_7100/3673173512.py:5: FutureWarning: The frame.append method is deprecated and will be removed from pandas in a future version. Use pandas.concat instead.\n",
      "  output_df = output_df.append(df)\n",
      "C:\\Users\\Kimbe\\AppData\\Local\\Temp/ipykernel_7100/3673173512.py:5: FutureWarning: The frame.append method is deprecated and will be removed from pandas in a future version. Use pandas.concat instead.\n",
      "  output_df = output_df.append(df)\n",
      "C:\\Users\\Kimbe\\AppData\\Local\\Temp/ipykernel_7100/3673173512.py:5: FutureWarning: The frame.append method is deprecated and will be removed from pandas in a future version. Use pandas.concat instead.\n",
      "  output_df = output_df.append(df)\n",
      "C:\\Users\\Kimbe\\AppData\\Local\\Temp/ipykernel_7100/3673173512.py:5: FutureWarning: The frame.append method is deprecated and will be removed from pandas in a future version. Use pandas.concat instead.\n",
      "  output_df = output_df.append(df)\n",
      "C:\\Users\\Kimbe\\AppData\\Local\\Temp/ipykernel_7100/3673173512.py:5: FutureWarning: The frame.append method is deprecated and will be removed from pandas in a future version. Use pandas.concat instead.\n",
      "  output_df = output_df.append(df)\n"
     ]
    },
    {
     "name": "stdout",
     "output_type": "stream",
     "text": [
      "Skipping row\n"
     ]
    },
    {
     "name": "stderr",
     "output_type": "stream",
     "text": [
      "C:\\Users\\Kimbe\\AppData\\Local\\Temp/ipykernel_7100/3673173512.py:5: FutureWarning: The frame.append method is deprecated and will be removed from pandas in a future version. Use pandas.concat instead.\n",
      "  output_df = output_df.append(df)\n",
      "C:\\Users\\Kimbe\\AppData\\Local\\Temp/ipykernel_7100/3673173512.py:5: FutureWarning: The frame.append method is deprecated and will be removed from pandas in a future version. Use pandas.concat instead.\n",
      "  output_df = output_df.append(df)\n",
      "C:\\Users\\Kimbe\\AppData\\Local\\Temp/ipykernel_7100/3673173512.py:5: FutureWarning: The frame.append method is deprecated and will be removed from pandas in a future version. Use pandas.concat instead.\n",
      "  output_df = output_df.append(df)\n",
      "C:\\Users\\Kimbe\\AppData\\Local\\Temp/ipykernel_7100/3673173512.py:5: FutureWarning: The frame.append method is deprecated and will be removed from pandas in a future version. Use pandas.concat instead.\n",
      "  output_df = output_df.append(df)\n",
      "C:\\Users\\Kimbe\\AppData\\Local\\Temp/ipykernel_7100/3673173512.py:5: FutureWarning: The frame.append method is deprecated and will be removed from pandas in a future version. Use pandas.concat instead.\n",
      "  output_df = output_df.append(df)\n",
      "C:\\Users\\Kimbe\\AppData\\Local\\Temp/ipykernel_7100/3673173512.py:5: FutureWarning: The frame.append method is deprecated and will be removed from pandas in a future version. Use pandas.concat instead.\n",
      "  output_df = output_df.append(df)\n",
      "C:\\Users\\Kimbe\\AppData\\Local\\Temp/ipykernel_7100/3673173512.py:5: FutureWarning: The frame.append method is deprecated and will be removed from pandas in a future version. Use pandas.concat instead.\n",
      "  output_df = output_df.append(df)\n",
      "C:\\Users\\Kimbe\\AppData\\Local\\Temp/ipykernel_7100/3673173512.py:5: FutureWarning: The frame.append method is deprecated and will be removed from pandas in a future version. Use pandas.concat instead.\n",
      "  output_df = output_df.append(df)\n",
      "C:\\Users\\Kimbe\\AppData\\Local\\Temp/ipykernel_7100/3673173512.py:5: FutureWarning: The frame.append method is deprecated and will be removed from pandas in a future version. Use pandas.concat instead.\n",
      "  output_df = output_df.append(df)\n",
      "C:\\Users\\Kimbe\\AppData\\Local\\Temp/ipykernel_7100/3673173512.py:5: FutureWarning: The frame.append method is deprecated and will be removed from pandas in a future version. Use pandas.concat instead.\n",
      "  output_df = output_df.append(df)\n",
      "C:\\Users\\Kimbe\\AppData\\Local\\Temp/ipykernel_7100/3673173512.py:5: FutureWarning: The frame.append method is deprecated and will be removed from pandas in a future version. Use pandas.concat instead.\n",
      "  output_df = output_df.append(df)\n"
     ]
    },
    {
     "name": "stdout",
     "output_type": "stream",
     "text": [
      "Skipping row\n"
     ]
    },
    {
     "name": "stderr",
     "output_type": "stream",
     "text": [
      "C:\\Users\\Kimbe\\AppData\\Local\\Temp/ipykernel_7100/3673173512.py:5: FutureWarning: The frame.append method is deprecated and will be removed from pandas in a future version. Use pandas.concat instead.\n",
      "  output_df = output_df.append(df)\n",
      "C:\\Users\\Kimbe\\AppData\\Local\\Temp/ipykernel_7100/3673173512.py:5: FutureWarning: The frame.append method is deprecated and will be removed from pandas in a future version. Use pandas.concat instead.\n",
      "  output_df = output_df.append(df)\n",
      "C:\\Users\\Kimbe\\AppData\\Local\\Temp/ipykernel_7100/3673173512.py:5: FutureWarning: The frame.append method is deprecated and will be removed from pandas in a future version. Use pandas.concat instead.\n",
      "  output_df = output_df.append(df)\n",
      "C:\\Users\\Kimbe\\AppData\\Local\\Temp/ipykernel_7100/3673173512.py:5: FutureWarning: The frame.append method is deprecated and will be removed from pandas in a future version. Use pandas.concat instead.\n",
      "  output_df = output_df.append(df)\n",
      "C:\\Users\\Kimbe\\AppData\\Local\\Temp/ipykernel_7100/3673173512.py:5: FutureWarning: The frame.append method is deprecated and will be removed from pandas in a future version. Use pandas.concat instead.\n",
      "  output_df = output_df.append(df)\n",
      "C:\\Users\\Kimbe\\AppData\\Local\\Temp/ipykernel_7100/3673173512.py:5: FutureWarning: The frame.append method is deprecated and will be removed from pandas in a future version. Use pandas.concat instead.\n",
      "  output_df = output_df.append(df)\n",
      "C:\\Users\\Kimbe\\AppData\\Local\\Temp/ipykernel_7100/3673173512.py:5: FutureWarning: The frame.append method is deprecated and will be removed from pandas in a future version. Use pandas.concat instead.\n",
      "  output_df = output_df.append(df)\n",
      "C:\\Users\\Kimbe\\AppData\\Local\\Temp/ipykernel_7100/3673173512.py:5: FutureWarning: The frame.append method is deprecated and will be removed from pandas in a future version. Use pandas.concat instead.\n",
      "  output_df = output_df.append(df)\n",
      "C:\\Users\\Kimbe\\AppData\\Local\\Temp/ipykernel_7100/3673173512.py:5: FutureWarning: The frame.append method is deprecated and will be removed from pandas in a future version. Use pandas.concat instead.\n",
      "  output_df = output_df.append(df)\n",
      "C:\\Users\\Kimbe\\AppData\\Local\\Temp/ipykernel_7100/3673173512.py:5: FutureWarning: The frame.append method is deprecated and will be removed from pandas in a future version. Use pandas.concat instead.\n",
      "  output_df = output_df.append(df)\n",
      "C:\\Users\\Kimbe\\AppData\\Local\\Temp/ipykernel_7100/3673173512.py:5: FutureWarning: The frame.append method is deprecated and will be removed from pandas in a future version. Use pandas.concat instead.\n",
      "  output_df = output_df.append(df)\n"
     ]
    },
    {
     "name": "stdout",
     "output_type": "stream",
     "text": [
      "Skipping row\n"
     ]
    },
    {
     "name": "stderr",
     "output_type": "stream",
     "text": [
      "C:\\Users\\Kimbe\\AppData\\Local\\Temp/ipykernel_7100/3673173512.py:5: FutureWarning: The frame.append method is deprecated and will be removed from pandas in a future version. Use pandas.concat instead.\n",
      "  output_df = output_df.append(df)\n",
      "C:\\Users\\Kimbe\\AppData\\Local\\Temp/ipykernel_7100/3673173512.py:5: FutureWarning: The frame.append method is deprecated and will be removed from pandas in a future version. Use pandas.concat instead.\n",
      "  output_df = output_df.append(df)\n",
      "C:\\Users\\Kimbe\\AppData\\Local\\Temp/ipykernel_7100/3673173512.py:5: FutureWarning: The frame.append method is deprecated and will be removed from pandas in a future version. Use pandas.concat instead.\n",
      "  output_df = output_df.append(df)\n",
      "C:\\Users\\Kimbe\\AppData\\Local\\Temp/ipykernel_7100/3673173512.py:5: FutureWarning: The frame.append method is deprecated and will be removed from pandas in a future version. Use pandas.concat instead.\n",
      "  output_df = output_df.append(df)\n",
      "C:\\Users\\Kimbe\\AppData\\Local\\Temp/ipykernel_7100/3673173512.py:5: FutureWarning: The frame.append method is deprecated and will be removed from pandas in a future version. Use pandas.concat instead.\n",
      "  output_df = output_df.append(df)\n",
      "C:\\Users\\Kimbe\\AppData\\Local\\Temp/ipykernel_7100/3673173512.py:5: FutureWarning: The frame.append method is deprecated and will be removed from pandas in a future version. Use pandas.concat instead.\n",
      "  output_df = output_df.append(df)\n",
      "C:\\Users\\Kimbe\\AppData\\Local\\Temp/ipykernel_7100/3673173512.py:5: FutureWarning: The frame.append method is deprecated and will be removed from pandas in a future version. Use pandas.concat instead.\n",
      "  output_df = output_df.append(df)\n",
      "C:\\Users\\Kimbe\\AppData\\Local\\Temp/ipykernel_7100/3673173512.py:5: FutureWarning: The frame.append method is deprecated and will be removed from pandas in a future version. Use pandas.concat instead.\n",
      "  output_df = output_df.append(df)\n",
      "C:\\Users\\Kimbe\\AppData\\Local\\Temp/ipykernel_7100/3673173512.py:5: FutureWarning: The frame.append method is deprecated and will be removed from pandas in a future version. Use pandas.concat instead.\n",
      "  output_df = output_df.append(df)\n",
      "C:\\Users\\Kimbe\\AppData\\Local\\Temp/ipykernel_7100/3673173512.py:5: FutureWarning: The frame.append method is deprecated and will be removed from pandas in a future version. Use pandas.concat instead.\n",
      "  output_df = output_df.append(df)\n",
      "C:\\Users\\Kimbe\\AppData\\Local\\Temp/ipykernel_7100/3673173512.py:5: FutureWarning: The frame.append method is deprecated and will be removed from pandas in a future version. Use pandas.concat instead.\n",
      "  output_df = output_df.append(df)\n"
     ]
    },
    {
     "name": "stdout",
     "output_type": "stream",
     "text": [
      "Skipping row\n"
     ]
    },
    {
     "name": "stderr",
     "output_type": "stream",
     "text": [
      "C:\\Users\\Kimbe\\AppData\\Local\\Temp/ipykernel_7100/3673173512.py:5: FutureWarning: The frame.append method is deprecated and will be removed from pandas in a future version. Use pandas.concat instead.\n",
      "  output_df = output_df.append(df)\n",
      "C:\\Users\\Kimbe\\AppData\\Local\\Temp/ipykernel_7100/3673173512.py:5: FutureWarning: The frame.append method is deprecated and will be removed from pandas in a future version. Use pandas.concat instead.\n",
      "  output_df = output_df.append(df)\n",
      "C:\\Users\\Kimbe\\AppData\\Local\\Temp/ipykernel_7100/3673173512.py:5: FutureWarning: The frame.append method is deprecated and will be removed from pandas in a future version. Use pandas.concat instead.\n",
      "  output_df = output_df.append(df)\n",
      "C:\\Users\\Kimbe\\AppData\\Local\\Temp/ipykernel_7100/3673173512.py:5: FutureWarning: The frame.append method is deprecated and will be removed from pandas in a future version. Use pandas.concat instead.\n",
      "  output_df = output_df.append(df)\n",
      "C:\\Users\\Kimbe\\AppData\\Local\\Temp/ipykernel_7100/3673173512.py:5: FutureWarning: The frame.append method is deprecated and will be removed from pandas in a future version. Use pandas.concat instead.\n",
      "  output_df = output_df.append(df)\n",
      "C:\\Users\\Kimbe\\AppData\\Local\\Temp/ipykernel_7100/3673173512.py:5: FutureWarning: The frame.append method is deprecated and will be removed from pandas in a future version. Use pandas.concat instead.\n",
      "  output_df = output_df.append(df)\n",
      "C:\\Users\\Kimbe\\AppData\\Local\\Temp/ipykernel_7100/3673173512.py:5: FutureWarning: The frame.append method is deprecated and will be removed from pandas in a future version. Use pandas.concat instead.\n",
      "  output_df = output_df.append(df)\n",
      "C:\\Users\\Kimbe\\AppData\\Local\\Temp/ipykernel_7100/3673173512.py:5: FutureWarning: The frame.append method is deprecated and will be removed from pandas in a future version. Use pandas.concat instead.\n",
      "  output_df = output_df.append(df)\n",
      "C:\\Users\\Kimbe\\AppData\\Local\\Temp/ipykernel_7100/3673173512.py:5: FutureWarning: The frame.append method is deprecated and will be removed from pandas in a future version. Use pandas.concat instead.\n",
      "  output_df = output_df.append(df)\n",
      "C:\\Users\\Kimbe\\AppData\\Local\\Temp/ipykernel_7100/3673173512.py:5: FutureWarning: The frame.append method is deprecated and will be removed from pandas in a future version. Use pandas.concat instead.\n",
      "  output_df = output_df.append(df)\n",
      "C:\\Users\\Kimbe\\AppData\\Local\\Temp/ipykernel_7100/3673173512.py:5: FutureWarning: The frame.append method is deprecated and will be removed from pandas in a future version. Use pandas.concat instead.\n",
      "  output_df = output_df.append(df)\n"
     ]
    },
    {
     "name": "stdout",
     "output_type": "stream",
     "text": [
      "Skipping row\n"
     ]
    },
    {
     "name": "stderr",
     "output_type": "stream",
     "text": [
      "C:\\Users\\Kimbe\\AppData\\Local\\Temp/ipykernel_7100/3673173512.py:5: FutureWarning: The frame.append method is deprecated and will be removed from pandas in a future version. Use pandas.concat instead.\n",
      "  output_df = output_df.append(df)\n",
      "C:\\Users\\Kimbe\\AppData\\Local\\Temp/ipykernel_7100/3673173512.py:5: FutureWarning: The frame.append method is deprecated and will be removed from pandas in a future version. Use pandas.concat instead.\n",
      "  output_df = output_df.append(df)\n",
      "C:\\Users\\Kimbe\\AppData\\Local\\Temp/ipykernel_7100/3673173512.py:5: FutureWarning: The frame.append method is deprecated and will be removed from pandas in a future version. Use pandas.concat instead.\n",
      "  output_df = output_df.append(df)\n",
      "C:\\Users\\Kimbe\\AppData\\Local\\Temp/ipykernel_7100/3673173512.py:5: FutureWarning: The frame.append method is deprecated and will be removed from pandas in a future version. Use pandas.concat instead.\n",
      "  output_df = output_df.append(df)\n",
      "C:\\Users\\Kimbe\\AppData\\Local\\Temp/ipykernel_7100/3673173512.py:5: FutureWarning: The frame.append method is deprecated and will be removed from pandas in a future version. Use pandas.concat instead.\n",
      "  output_df = output_df.append(df)\n",
      "C:\\Users\\Kimbe\\AppData\\Local\\Temp/ipykernel_7100/3673173512.py:5: FutureWarning: The frame.append method is deprecated and will be removed from pandas in a future version. Use pandas.concat instead.\n",
      "  output_df = output_df.append(df)\n",
      "C:\\Users\\Kimbe\\AppData\\Local\\Temp/ipykernel_7100/3673173512.py:5: FutureWarning: The frame.append method is deprecated and will be removed from pandas in a future version. Use pandas.concat instead.\n",
      "  output_df = output_df.append(df)\n",
      "C:\\Users\\Kimbe\\AppData\\Local\\Temp/ipykernel_7100/3673173512.py:5: FutureWarning: The frame.append method is deprecated and will be removed from pandas in a future version. Use pandas.concat instead.\n",
      "  output_df = output_df.append(df)\n",
      "C:\\Users\\Kimbe\\AppData\\Local\\Temp/ipykernel_7100/3673173512.py:5: FutureWarning: The frame.append method is deprecated and will be removed from pandas in a future version. Use pandas.concat instead.\n",
      "  output_df = output_df.append(df)\n",
      "C:\\Users\\Kimbe\\AppData\\Local\\Temp/ipykernel_7100/3673173512.py:5: FutureWarning: The frame.append method is deprecated and will be removed from pandas in a future version. Use pandas.concat instead.\n",
      "  output_df = output_df.append(df)\n",
      "C:\\Users\\Kimbe\\AppData\\Local\\Temp/ipykernel_7100/3673173512.py:5: FutureWarning: The frame.append method is deprecated and will be removed from pandas in a future version. Use pandas.concat instead.\n",
      "  output_df = output_df.append(df)\n"
     ]
    },
    {
     "name": "stdout",
     "output_type": "stream",
     "text": [
      "Skipping row\n"
     ]
    },
    {
     "name": "stderr",
     "output_type": "stream",
     "text": [
      "C:\\Users\\Kimbe\\AppData\\Local\\Temp/ipykernel_7100/3673173512.py:5: FutureWarning: The frame.append method is deprecated and will be removed from pandas in a future version. Use pandas.concat instead.\n",
      "  output_df = output_df.append(df)\n",
      "C:\\Users\\Kimbe\\AppData\\Local\\Temp/ipykernel_7100/3673173512.py:5: FutureWarning: The frame.append method is deprecated and will be removed from pandas in a future version. Use pandas.concat instead.\n",
      "  output_df = output_df.append(df)\n",
      "C:\\Users\\Kimbe\\AppData\\Local\\Temp/ipykernel_7100/3673173512.py:5: FutureWarning: The frame.append method is deprecated and will be removed from pandas in a future version. Use pandas.concat instead.\n",
      "  output_df = output_df.append(df)\n",
      "C:\\Users\\Kimbe\\AppData\\Local\\Temp/ipykernel_7100/3673173512.py:5: FutureWarning: The frame.append method is deprecated and will be removed from pandas in a future version. Use pandas.concat instead.\n",
      "  output_df = output_df.append(df)\n",
      "C:\\Users\\Kimbe\\AppData\\Local\\Temp/ipykernel_7100/3673173512.py:5: FutureWarning: The frame.append method is deprecated and will be removed from pandas in a future version. Use pandas.concat instead.\n",
      "  output_df = output_df.append(df)\n",
      "C:\\Users\\Kimbe\\AppData\\Local\\Temp/ipykernel_7100/3673173512.py:5: FutureWarning: The frame.append method is deprecated and will be removed from pandas in a future version. Use pandas.concat instead.\n",
      "  output_df = output_df.append(df)\n",
      "C:\\Users\\Kimbe\\AppData\\Local\\Temp/ipykernel_7100/3673173512.py:5: FutureWarning: The frame.append method is deprecated and will be removed from pandas in a future version. Use pandas.concat instead.\n",
      "  output_df = output_df.append(df)\n",
      "C:\\Users\\Kimbe\\AppData\\Local\\Temp/ipykernel_7100/3673173512.py:5: FutureWarning: The frame.append method is deprecated and will be removed from pandas in a future version. Use pandas.concat instead.\n",
      "  output_df = output_df.append(df)\n",
      "C:\\Users\\Kimbe\\AppData\\Local\\Temp/ipykernel_7100/3673173512.py:5: FutureWarning: The frame.append method is deprecated and will be removed from pandas in a future version. Use pandas.concat instead.\n",
      "  output_df = output_df.append(df)\n",
      "C:\\Users\\Kimbe\\AppData\\Local\\Temp/ipykernel_7100/3673173512.py:5: FutureWarning: The frame.append method is deprecated and will be removed from pandas in a future version. Use pandas.concat instead.\n",
      "  output_df = output_df.append(df)\n",
      "C:\\Users\\Kimbe\\AppData\\Local\\Temp/ipykernel_7100/3673173512.py:5: FutureWarning: The frame.append method is deprecated and will be removed from pandas in a future version. Use pandas.concat instead.\n",
      "  output_df = output_df.append(df)\n"
     ]
    },
    {
     "name": "stdout",
     "output_type": "stream",
     "text": [
      "Skipping row\n"
     ]
    },
    {
     "name": "stderr",
     "output_type": "stream",
     "text": [
      "C:\\Users\\Kimbe\\AppData\\Local\\Temp/ipykernel_7100/3673173512.py:5: FutureWarning: The frame.append method is deprecated and will be removed from pandas in a future version. Use pandas.concat instead.\n",
      "  output_df = output_df.append(df)\n",
      "C:\\Users\\Kimbe\\AppData\\Local\\Temp/ipykernel_7100/3673173512.py:5: FutureWarning: The frame.append method is deprecated and will be removed from pandas in a future version. Use pandas.concat instead.\n",
      "  output_df = output_df.append(df)\n",
      "C:\\Users\\Kimbe\\AppData\\Local\\Temp/ipykernel_7100/3673173512.py:5: FutureWarning: The frame.append method is deprecated and will be removed from pandas in a future version. Use pandas.concat instead.\n",
      "  output_df = output_df.append(df)\n",
      "C:\\Users\\Kimbe\\AppData\\Local\\Temp/ipykernel_7100/3673173512.py:5: FutureWarning: The frame.append method is deprecated and will be removed from pandas in a future version. Use pandas.concat instead.\n",
      "  output_df = output_df.append(df)\n",
      "C:\\Users\\Kimbe\\AppData\\Local\\Temp/ipykernel_7100/3673173512.py:5: FutureWarning: The frame.append method is deprecated and will be removed from pandas in a future version. Use pandas.concat instead.\n",
      "  output_df = output_df.append(df)\n",
      "C:\\Users\\Kimbe\\AppData\\Local\\Temp/ipykernel_7100/3673173512.py:5: FutureWarning: The frame.append method is deprecated and will be removed from pandas in a future version. Use pandas.concat instead.\n",
      "  output_df = output_df.append(df)\n",
      "C:\\Users\\Kimbe\\AppData\\Local\\Temp/ipykernel_7100/3673173512.py:5: FutureWarning: The frame.append method is deprecated and will be removed from pandas in a future version. Use pandas.concat instead.\n",
      "  output_df = output_df.append(df)\n",
      "C:\\Users\\Kimbe\\AppData\\Local\\Temp/ipykernel_7100/3673173512.py:5: FutureWarning: The frame.append method is deprecated and will be removed from pandas in a future version. Use pandas.concat instead.\n",
      "  output_df = output_df.append(df)\n",
      "C:\\Users\\Kimbe\\AppData\\Local\\Temp/ipykernel_7100/3673173512.py:5: FutureWarning: The frame.append method is deprecated and will be removed from pandas in a future version. Use pandas.concat instead.\n",
      "  output_df = output_df.append(df)\n",
      "C:\\Users\\Kimbe\\AppData\\Local\\Temp/ipykernel_7100/3673173512.py:5: FutureWarning: The frame.append method is deprecated and will be removed from pandas in a future version. Use pandas.concat instead.\n",
      "  output_df = output_df.append(df)\n",
      "C:\\Users\\Kimbe\\AppData\\Local\\Temp/ipykernel_7100/3673173512.py:5: FutureWarning: The frame.append method is deprecated and will be removed from pandas in a future version. Use pandas.concat instead.\n",
      "  output_df = output_df.append(df)\n"
     ]
    },
    {
     "name": "stdout",
     "output_type": "stream",
     "text": [
      "Skipping row\n"
     ]
    },
    {
     "name": "stderr",
     "output_type": "stream",
     "text": [
      "C:\\Users\\Kimbe\\AppData\\Local\\Temp/ipykernel_7100/3673173512.py:5: FutureWarning: The frame.append method is deprecated and will be removed from pandas in a future version. Use pandas.concat instead.\n",
      "  output_df = output_df.append(df)\n",
      "C:\\Users\\Kimbe\\AppData\\Local\\Temp/ipykernel_7100/3673173512.py:5: FutureWarning: The frame.append method is deprecated and will be removed from pandas in a future version. Use pandas.concat instead.\n",
      "  output_df = output_df.append(df)\n",
      "C:\\Users\\Kimbe\\AppData\\Local\\Temp/ipykernel_7100/3673173512.py:5: FutureWarning: The frame.append method is deprecated and will be removed from pandas in a future version. Use pandas.concat instead.\n",
      "  output_df = output_df.append(df)\n",
      "C:\\Users\\Kimbe\\AppData\\Local\\Temp/ipykernel_7100/3673173512.py:5: FutureWarning: The frame.append method is deprecated and will be removed from pandas in a future version. Use pandas.concat instead.\n",
      "  output_df = output_df.append(df)\n",
      "C:\\Users\\Kimbe\\AppData\\Local\\Temp/ipykernel_7100/3673173512.py:5: FutureWarning: The frame.append method is deprecated and will be removed from pandas in a future version. Use pandas.concat instead.\n",
      "  output_df = output_df.append(df)\n",
      "C:\\Users\\Kimbe\\AppData\\Local\\Temp/ipykernel_7100/3673173512.py:5: FutureWarning: The frame.append method is deprecated and will be removed from pandas in a future version. Use pandas.concat instead.\n",
      "  output_df = output_df.append(df)\n",
      "C:\\Users\\Kimbe\\AppData\\Local\\Temp/ipykernel_7100/3673173512.py:5: FutureWarning: The frame.append method is deprecated and will be removed from pandas in a future version. Use pandas.concat instead.\n",
      "  output_df = output_df.append(df)\n",
      "C:\\Users\\Kimbe\\AppData\\Local\\Temp/ipykernel_7100/3673173512.py:5: FutureWarning: The frame.append method is deprecated and will be removed from pandas in a future version. Use pandas.concat instead.\n",
      "  output_df = output_df.append(df)\n",
      "C:\\Users\\Kimbe\\AppData\\Local\\Temp/ipykernel_7100/3673173512.py:5: FutureWarning: The frame.append method is deprecated and will be removed from pandas in a future version. Use pandas.concat instead.\n",
      "  output_df = output_df.append(df)\n",
      "C:\\Users\\Kimbe\\AppData\\Local\\Temp/ipykernel_7100/3673173512.py:5: FutureWarning: The frame.append method is deprecated and will be removed from pandas in a future version. Use pandas.concat instead.\n",
      "  output_df = output_df.append(df)\n",
      "C:\\Users\\Kimbe\\AppData\\Local\\Temp/ipykernel_7100/3673173512.py:5: FutureWarning: The frame.append method is deprecated and will be removed from pandas in a future version. Use pandas.concat instead.\n",
      "  output_df = output_df.append(df)\n"
     ]
    },
    {
     "name": "stdout",
     "output_type": "stream",
     "text": [
      "Skipping row\n"
     ]
    },
    {
     "name": "stderr",
     "output_type": "stream",
     "text": [
      "C:\\Users\\Kimbe\\AppData\\Local\\Temp/ipykernel_7100/3673173512.py:5: FutureWarning: The frame.append method is deprecated and will be removed from pandas in a future version. Use pandas.concat instead.\n",
      "  output_df = output_df.append(df)\n",
      "C:\\Users\\Kimbe\\AppData\\Local\\Temp/ipykernel_7100/3673173512.py:5: FutureWarning: The frame.append method is deprecated and will be removed from pandas in a future version. Use pandas.concat instead.\n",
      "  output_df = output_df.append(df)\n",
      "C:\\Users\\Kimbe\\AppData\\Local\\Temp/ipykernel_7100/3673173512.py:5: FutureWarning: The frame.append method is deprecated and will be removed from pandas in a future version. Use pandas.concat instead.\n",
      "  output_df = output_df.append(df)\n",
      "C:\\Users\\Kimbe\\AppData\\Local\\Temp/ipykernel_7100/3673173512.py:5: FutureWarning: The frame.append method is deprecated and will be removed from pandas in a future version. Use pandas.concat instead.\n",
      "  output_df = output_df.append(df)\n",
      "C:\\Users\\Kimbe\\AppData\\Local\\Temp/ipykernel_7100/3673173512.py:5: FutureWarning: The frame.append method is deprecated and will be removed from pandas in a future version. Use pandas.concat instead.\n",
      "  output_df = output_df.append(df)\n",
      "C:\\Users\\Kimbe\\AppData\\Local\\Temp/ipykernel_7100/3673173512.py:5: FutureWarning: The frame.append method is deprecated and will be removed from pandas in a future version. Use pandas.concat instead.\n",
      "  output_df = output_df.append(df)\n",
      "C:\\Users\\Kimbe\\AppData\\Local\\Temp/ipykernel_7100/3673173512.py:5: FutureWarning: The frame.append method is deprecated and will be removed from pandas in a future version. Use pandas.concat instead.\n",
      "  output_df = output_df.append(df)\n",
      "C:\\Users\\Kimbe\\AppData\\Local\\Temp/ipykernel_7100/3673173512.py:5: FutureWarning: The frame.append method is deprecated and will be removed from pandas in a future version. Use pandas.concat instead.\n",
      "  output_df = output_df.append(df)\n",
      "C:\\Users\\Kimbe\\AppData\\Local\\Temp/ipykernel_7100/3673173512.py:5: FutureWarning: The frame.append method is deprecated and will be removed from pandas in a future version. Use pandas.concat instead.\n",
      "  output_df = output_df.append(df)\n",
      "C:\\Users\\Kimbe\\AppData\\Local\\Temp/ipykernel_7100/3673173512.py:5: FutureWarning: The frame.append method is deprecated and will be removed from pandas in a future version. Use pandas.concat instead.\n",
      "  output_df = output_df.append(df)\n",
      "C:\\Users\\Kimbe\\AppData\\Local\\Temp/ipykernel_7100/3673173512.py:5: FutureWarning: The frame.append method is deprecated and will be removed from pandas in a future version. Use pandas.concat instead.\n",
      "  output_df = output_df.append(df)\n"
     ]
    },
    {
     "name": "stdout",
     "output_type": "stream",
     "text": [
      "Skipping row\n"
     ]
    },
    {
     "name": "stderr",
     "output_type": "stream",
     "text": [
      "C:\\Users\\Kimbe\\AppData\\Local\\Temp/ipykernel_7100/3673173512.py:5: FutureWarning: The frame.append method is deprecated and will be removed from pandas in a future version. Use pandas.concat instead.\n",
      "  output_df = output_df.append(df)\n",
      "C:\\Users\\Kimbe\\AppData\\Local\\Temp/ipykernel_7100/3673173512.py:5: FutureWarning: The frame.append method is deprecated and will be removed from pandas in a future version. Use pandas.concat instead.\n",
      "  output_df = output_df.append(df)\n",
      "C:\\Users\\Kimbe\\AppData\\Local\\Temp/ipykernel_7100/3673173512.py:5: FutureWarning: The frame.append method is deprecated and will be removed from pandas in a future version. Use pandas.concat instead.\n",
      "  output_df = output_df.append(df)\n",
      "C:\\Users\\Kimbe\\AppData\\Local\\Temp/ipykernel_7100/3673173512.py:5: FutureWarning: The frame.append method is deprecated and will be removed from pandas in a future version. Use pandas.concat instead.\n",
      "  output_df = output_df.append(df)\n",
      "C:\\Users\\Kimbe\\AppData\\Local\\Temp/ipykernel_7100/3673173512.py:5: FutureWarning: The frame.append method is deprecated and will be removed from pandas in a future version. Use pandas.concat instead.\n",
      "  output_df = output_df.append(df)\n",
      "C:\\Users\\Kimbe\\AppData\\Local\\Temp/ipykernel_7100/3673173512.py:5: FutureWarning: The frame.append method is deprecated and will be removed from pandas in a future version. Use pandas.concat instead.\n",
      "  output_df = output_df.append(df)\n",
      "C:\\Users\\Kimbe\\AppData\\Local\\Temp/ipykernel_7100/3673173512.py:5: FutureWarning: The frame.append method is deprecated and will be removed from pandas in a future version. Use pandas.concat instead.\n",
      "  output_df = output_df.append(df)\n",
      "C:\\Users\\Kimbe\\AppData\\Local\\Temp/ipykernel_7100/3673173512.py:5: FutureWarning: The frame.append method is deprecated and will be removed from pandas in a future version. Use pandas.concat instead.\n",
      "  output_df = output_df.append(df)\n",
      "C:\\Users\\Kimbe\\AppData\\Local\\Temp/ipykernel_7100/3673173512.py:5: FutureWarning: The frame.append method is deprecated and will be removed from pandas in a future version. Use pandas.concat instead.\n",
      "  output_df = output_df.append(df)\n",
      "C:\\Users\\Kimbe\\AppData\\Local\\Temp/ipykernel_7100/3673173512.py:5: FutureWarning: The frame.append method is deprecated and will be removed from pandas in a future version. Use pandas.concat instead.\n",
      "  output_df = output_df.append(df)\n",
      "C:\\Users\\Kimbe\\AppData\\Local\\Temp/ipykernel_7100/3673173512.py:5: FutureWarning: The frame.append method is deprecated and will be removed from pandas in a future version. Use pandas.concat instead.\n",
      "  output_df = output_df.append(df)\n"
     ]
    },
    {
     "name": "stdout",
     "output_type": "stream",
     "text": [
      "Skipping row\n"
     ]
    },
    {
     "name": "stderr",
     "output_type": "stream",
     "text": [
      "C:\\Users\\Kimbe\\AppData\\Local\\Temp/ipykernel_7100/3673173512.py:5: FutureWarning: The frame.append method is deprecated and will be removed from pandas in a future version. Use pandas.concat instead.\n",
      "  output_df = output_df.append(df)\n",
      "C:\\Users\\Kimbe\\AppData\\Local\\Temp/ipykernel_7100/3673173512.py:5: FutureWarning: The frame.append method is deprecated and will be removed from pandas in a future version. Use pandas.concat instead.\n",
      "  output_df = output_df.append(df)\n",
      "C:\\Users\\Kimbe\\AppData\\Local\\Temp/ipykernel_7100/3673173512.py:5: FutureWarning: The frame.append method is deprecated and will be removed from pandas in a future version. Use pandas.concat instead.\n",
      "  output_df = output_df.append(df)\n",
      "C:\\Users\\Kimbe\\AppData\\Local\\Temp/ipykernel_7100/3673173512.py:5: FutureWarning: The frame.append method is deprecated and will be removed from pandas in a future version. Use pandas.concat instead.\n",
      "  output_df = output_df.append(df)\n",
      "C:\\Users\\Kimbe\\AppData\\Local\\Temp/ipykernel_7100/3673173512.py:5: FutureWarning: The frame.append method is deprecated and will be removed from pandas in a future version. Use pandas.concat instead.\n",
      "  output_df = output_df.append(df)\n",
      "C:\\Users\\Kimbe\\AppData\\Local\\Temp/ipykernel_7100/3673173512.py:5: FutureWarning: The frame.append method is deprecated and will be removed from pandas in a future version. Use pandas.concat instead.\n",
      "  output_df = output_df.append(df)\n",
      "C:\\Users\\Kimbe\\AppData\\Local\\Temp/ipykernel_7100/3673173512.py:5: FutureWarning: The frame.append method is deprecated and will be removed from pandas in a future version. Use pandas.concat instead.\n",
      "  output_df = output_df.append(df)\n",
      "C:\\Users\\Kimbe\\AppData\\Local\\Temp/ipykernel_7100/3673173512.py:5: FutureWarning: The frame.append method is deprecated and will be removed from pandas in a future version. Use pandas.concat instead.\n",
      "  output_df = output_df.append(df)\n",
      "C:\\Users\\Kimbe\\AppData\\Local\\Temp/ipykernel_7100/3673173512.py:5: FutureWarning: The frame.append method is deprecated and will be removed from pandas in a future version. Use pandas.concat instead.\n",
      "  output_df = output_df.append(df)\n",
      "C:\\Users\\Kimbe\\AppData\\Local\\Temp/ipykernel_7100/3673173512.py:5: FutureWarning: The frame.append method is deprecated and will be removed from pandas in a future version. Use pandas.concat instead.\n",
      "  output_df = output_df.append(df)\n",
      "C:\\Users\\Kimbe\\AppData\\Local\\Temp/ipykernel_7100/3673173512.py:5: FutureWarning: The frame.append method is deprecated and will be removed from pandas in a future version. Use pandas.concat instead.\n",
      "  output_df = output_df.append(df)\n"
     ]
    },
    {
     "name": "stdout",
     "output_type": "stream",
     "text": [
      "Skipping row\n"
     ]
    },
    {
     "name": "stderr",
     "output_type": "stream",
     "text": [
      "C:\\Users\\Kimbe\\AppData\\Local\\Temp/ipykernel_7100/3673173512.py:5: FutureWarning: The frame.append method is deprecated and will be removed from pandas in a future version. Use pandas.concat instead.\n",
      "  output_df = output_df.append(df)\n",
      "C:\\Users\\Kimbe\\AppData\\Local\\Temp/ipykernel_7100/3673173512.py:5: FutureWarning: The frame.append method is deprecated and will be removed from pandas in a future version. Use pandas.concat instead.\n",
      "  output_df = output_df.append(df)\n",
      "C:\\Users\\Kimbe\\AppData\\Local\\Temp/ipykernel_7100/3673173512.py:5: FutureWarning: The frame.append method is deprecated and will be removed from pandas in a future version. Use pandas.concat instead.\n",
      "  output_df = output_df.append(df)\n",
      "C:\\Users\\Kimbe\\AppData\\Local\\Temp/ipykernel_7100/3673173512.py:5: FutureWarning: The frame.append method is deprecated and will be removed from pandas in a future version. Use pandas.concat instead.\n",
      "  output_df = output_df.append(df)\n",
      "C:\\Users\\Kimbe\\AppData\\Local\\Temp/ipykernel_7100/3673173512.py:5: FutureWarning: The frame.append method is deprecated and will be removed from pandas in a future version. Use pandas.concat instead.\n",
      "  output_df = output_df.append(df)\n",
      "C:\\Users\\Kimbe\\AppData\\Local\\Temp/ipykernel_7100/3673173512.py:5: FutureWarning: The frame.append method is deprecated and will be removed from pandas in a future version. Use pandas.concat instead.\n",
      "  output_df = output_df.append(df)\n",
      "C:\\Users\\Kimbe\\AppData\\Local\\Temp/ipykernel_7100/3673173512.py:5: FutureWarning: The frame.append method is deprecated and will be removed from pandas in a future version. Use pandas.concat instead.\n",
      "  output_df = output_df.append(df)\n",
      "C:\\Users\\Kimbe\\AppData\\Local\\Temp/ipykernel_7100/3673173512.py:5: FutureWarning: The frame.append method is deprecated and will be removed from pandas in a future version. Use pandas.concat instead.\n",
      "  output_df = output_df.append(df)\n",
      "C:\\Users\\Kimbe\\AppData\\Local\\Temp/ipykernel_7100/3673173512.py:5: FutureWarning: The frame.append method is deprecated and will be removed from pandas in a future version. Use pandas.concat instead.\n",
      "  output_df = output_df.append(df)\n",
      "C:\\Users\\Kimbe\\AppData\\Local\\Temp/ipykernel_7100/3673173512.py:5: FutureWarning: The frame.append method is deprecated and will be removed from pandas in a future version. Use pandas.concat instead.\n",
      "  output_df = output_df.append(df)\n",
      "C:\\Users\\Kimbe\\AppData\\Local\\Temp/ipykernel_7100/3673173512.py:5: FutureWarning: The frame.append method is deprecated and will be removed from pandas in a future version. Use pandas.concat instead.\n",
      "  output_df = output_df.append(df)\n"
     ]
    },
    {
     "name": "stdout",
     "output_type": "stream",
     "text": [
      "Skipping row\n"
     ]
    },
    {
     "name": "stderr",
     "output_type": "stream",
     "text": [
      "C:\\Users\\Kimbe\\AppData\\Local\\Temp/ipykernel_7100/3673173512.py:5: FutureWarning: The frame.append method is deprecated and will be removed from pandas in a future version. Use pandas.concat instead.\n",
      "  output_df = output_df.append(df)\n",
      "C:\\Users\\Kimbe\\AppData\\Local\\Temp/ipykernel_7100/3673173512.py:5: FutureWarning: The frame.append method is deprecated and will be removed from pandas in a future version. Use pandas.concat instead.\n",
      "  output_df = output_df.append(df)\n",
      "C:\\Users\\Kimbe\\AppData\\Local\\Temp/ipykernel_7100/3673173512.py:5: FutureWarning: The frame.append method is deprecated and will be removed from pandas in a future version. Use pandas.concat instead.\n",
      "  output_df = output_df.append(df)\n",
      "C:\\Users\\Kimbe\\AppData\\Local\\Temp/ipykernel_7100/3673173512.py:5: FutureWarning: The frame.append method is deprecated and will be removed from pandas in a future version. Use pandas.concat instead.\n",
      "  output_df = output_df.append(df)\n",
      "C:\\Users\\Kimbe\\AppData\\Local\\Temp/ipykernel_7100/3673173512.py:5: FutureWarning: The frame.append method is deprecated and will be removed from pandas in a future version. Use pandas.concat instead.\n",
      "  output_df = output_df.append(df)\n",
      "C:\\Users\\Kimbe\\AppData\\Local\\Temp/ipykernel_7100/3673173512.py:5: FutureWarning: The frame.append method is deprecated and will be removed from pandas in a future version. Use pandas.concat instead.\n",
      "  output_df = output_df.append(df)\n",
      "C:\\Users\\Kimbe\\AppData\\Local\\Temp/ipykernel_7100/3673173512.py:5: FutureWarning: The frame.append method is deprecated and will be removed from pandas in a future version. Use pandas.concat instead.\n",
      "  output_df = output_df.append(df)\n",
      "C:\\Users\\Kimbe\\AppData\\Local\\Temp/ipykernel_7100/3673173512.py:5: FutureWarning: The frame.append method is deprecated and will be removed from pandas in a future version. Use pandas.concat instead.\n",
      "  output_df = output_df.append(df)\n",
      "C:\\Users\\Kimbe\\AppData\\Local\\Temp/ipykernel_7100/3673173512.py:5: FutureWarning: The frame.append method is deprecated and will be removed from pandas in a future version. Use pandas.concat instead.\n",
      "  output_df = output_df.append(df)\n",
      "C:\\Users\\Kimbe\\AppData\\Local\\Temp/ipykernel_7100/3673173512.py:5: FutureWarning: The frame.append method is deprecated and will be removed from pandas in a future version. Use pandas.concat instead.\n",
      "  output_df = output_df.append(df)\n",
      "C:\\Users\\Kimbe\\AppData\\Local\\Temp/ipykernel_7100/3673173512.py:5: FutureWarning: The frame.append method is deprecated and will be removed from pandas in a future version. Use pandas.concat instead.\n",
      "  output_df = output_df.append(df)\n"
     ]
    },
    {
     "name": "stdout",
     "output_type": "stream",
     "text": [
      "Skipping row\n"
     ]
    },
    {
     "name": "stderr",
     "output_type": "stream",
     "text": [
      "C:\\Users\\Kimbe\\AppData\\Local\\Temp/ipykernel_7100/3673173512.py:5: FutureWarning: The frame.append method is deprecated and will be removed from pandas in a future version. Use pandas.concat instead.\n",
      "  output_df = output_df.append(df)\n",
      "C:\\Users\\Kimbe\\AppData\\Local\\Temp/ipykernel_7100/3673173512.py:5: FutureWarning: The frame.append method is deprecated and will be removed from pandas in a future version. Use pandas.concat instead.\n",
      "  output_df = output_df.append(df)\n",
      "C:\\Users\\Kimbe\\AppData\\Local\\Temp/ipykernel_7100/3673173512.py:5: FutureWarning: The frame.append method is deprecated and will be removed from pandas in a future version. Use pandas.concat instead.\n",
      "  output_df = output_df.append(df)\n",
      "C:\\Users\\Kimbe\\AppData\\Local\\Temp/ipykernel_7100/3673173512.py:5: FutureWarning: The frame.append method is deprecated and will be removed from pandas in a future version. Use pandas.concat instead.\n",
      "  output_df = output_df.append(df)\n",
      "C:\\Users\\Kimbe\\AppData\\Local\\Temp/ipykernel_7100/3673173512.py:5: FutureWarning: The frame.append method is deprecated and will be removed from pandas in a future version. Use pandas.concat instead.\n",
      "  output_df = output_df.append(df)\n",
      "C:\\Users\\Kimbe\\AppData\\Local\\Temp/ipykernel_7100/3673173512.py:5: FutureWarning: The frame.append method is deprecated and will be removed from pandas in a future version. Use pandas.concat instead.\n",
      "  output_df = output_df.append(df)\n",
      "C:\\Users\\Kimbe\\AppData\\Local\\Temp/ipykernel_7100/3673173512.py:5: FutureWarning: The frame.append method is deprecated and will be removed from pandas in a future version. Use pandas.concat instead.\n",
      "  output_df = output_df.append(df)\n",
      "C:\\Users\\Kimbe\\AppData\\Local\\Temp/ipykernel_7100/3673173512.py:5: FutureWarning: The frame.append method is deprecated and will be removed from pandas in a future version. Use pandas.concat instead.\n",
      "  output_df = output_df.append(df)\n",
      "C:\\Users\\Kimbe\\AppData\\Local\\Temp/ipykernel_7100/3673173512.py:5: FutureWarning: The frame.append method is deprecated and will be removed from pandas in a future version. Use pandas.concat instead.\n",
      "  output_df = output_df.append(df)\n",
      "C:\\Users\\Kimbe\\AppData\\Local\\Temp/ipykernel_7100/3673173512.py:5: FutureWarning: The frame.append method is deprecated and will be removed from pandas in a future version. Use pandas.concat instead.\n",
      "  output_df = output_df.append(df)\n",
      "C:\\Users\\Kimbe\\AppData\\Local\\Temp/ipykernel_7100/3673173512.py:5: FutureWarning: The frame.append method is deprecated and will be removed from pandas in a future version. Use pandas.concat instead.\n",
      "  output_df = output_df.append(df)\n"
     ]
    },
    {
     "name": "stdout",
     "output_type": "stream",
     "text": [
      "Skipping row\n"
     ]
    },
    {
     "name": "stderr",
     "output_type": "stream",
     "text": [
      "C:\\Users\\Kimbe\\AppData\\Local\\Temp/ipykernel_7100/3673173512.py:5: FutureWarning: The frame.append method is deprecated and will be removed from pandas in a future version. Use pandas.concat instead.\n",
      "  output_df = output_df.append(df)\n",
      "C:\\Users\\Kimbe\\AppData\\Local\\Temp/ipykernel_7100/3673173512.py:5: FutureWarning: The frame.append method is deprecated and will be removed from pandas in a future version. Use pandas.concat instead.\n",
      "  output_df = output_df.append(df)\n",
      "C:\\Users\\Kimbe\\AppData\\Local\\Temp/ipykernel_7100/3673173512.py:5: FutureWarning: The frame.append method is deprecated and will be removed from pandas in a future version. Use pandas.concat instead.\n",
      "  output_df = output_df.append(df)\n",
      "C:\\Users\\Kimbe\\AppData\\Local\\Temp/ipykernel_7100/3673173512.py:5: FutureWarning: The frame.append method is deprecated and will be removed from pandas in a future version. Use pandas.concat instead.\n",
      "  output_df = output_df.append(df)\n",
      "C:\\Users\\Kimbe\\AppData\\Local\\Temp/ipykernel_7100/3673173512.py:5: FutureWarning: The frame.append method is deprecated and will be removed from pandas in a future version. Use pandas.concat instead.\n",
      "  output_df = output_df.append(df)\n",
      "C:\\Users\\Kimbe\\AppData\\Local\\Temp/ipykernel_7100/3673173512.py:5: FutureWarning: The frame.append method is deprecated and will be removed from pandas in a future version. Use pandas.concat instead.\n",
      "  output_df = output_df.append(df)\n",
      "C:\\Users\\Kimbe\\AppData\\Local\\Temp/ipykernel_7100/3673173512.py:5: FutureWarning: The frame.append method is deprecated and will be removed from pandas in a future version. Use pandas.concat instead.\n",
      "  output_df = output_df.append(df)\n",
      "C:\\Users\\Kimbe\\AppData\\Local\\Temp/ipykernel_7100/3673173512.py:5: FutureWarning: The frame.append method is deprecated and will be removed from pandas in a future version. Use pandas.concat instead.\n",
      "  output_df = output_df.append(df)\n",
      "C:\\Users\\Kimbe\\AppData\\Local\\Temp/ipykernel_7100/3673173512.py:5: FutureWarning: The frame.append method is deprecated and will be removed from pandas in a future version. Use pandas.concat instead.\n",
      "  output_df = output_df.append(df)\n",
      "C:\\Users\\Kimbe\\AppData\\Local\\Temp/ipykernel_7100/3673173512.py:5: FutureWarning: The frame.append method is deprecated and will be removed from pandas in a future version. Use pandas.concat instead.\n",
      "  output_df = output_df.append(df)\n",
      "C:\\Users\\Kimbe\\AppData\\Local\\Temp/ipykernel_7100/3673173512.py:5: FutureWarning: The frame.append method is deprecated and will be removed from pandas in a future version. Use pandas.concat instead.\n",
      "  output_df = output_df.append(df)\n"
     ]
    },
    {
     "name": "stdout",
     "output_type": "stream",
     "text": [
      "Skipping row\n"
     ]
    },
    {
     "name": "stderr",
     "output_type": "stream",
     "text": [
      "C:\\Users\\Kimbe\\AppData\\Local\\Temp/ipykernel_7100/3673173512.py:5: FutureWarning: The frame.append method is deprecated and will be removed from pandas in a future version. Use pandas.concat instead.\n",
      "  output_df = output_df.append(df)\n",
      "C:\\Users\\Kimbe\\AppData\\Local\\Temp/ipykernel_7100/3673173512.py:5: FutureWarning: The frame.append method is deprecated and will be removed from pandas in a future version. Use pandas.concat instead.\n",
      "  output_df = output_df.append(df)\n",
      "C:\\Users\\Kimbe\\AppData\\Local\\Temp/ipykernel_7100/3673173512.py:5: FutureWarning: The frame.append method is deprecated and will be removed from pandas in a future version. Use pandas.concat instead.\n",
      "  output_df = output_df.append(df)\n",
      "C:\\Users\\Kimbe\\AppData\\Local\\Temp/ipykernel_7100/3673173512.py:5: FutureWarning: The frame.append method is deprecated and will be removed from pandas in a future version. Use pandas.concat instead.\n",
      "  output_df = output_df.append(df)\n",
      "C:\\Users\\Kimbe\\AppData\\Local\\Temp/ipykernel_7100/3673173512.py:5: FutureWarning: The frame.append method is deprecated and will be removed from pandas in a future version. Use pandas.concat instead.\n",
      "  output_df = output_df.append(df)\n",
      "C:\\Users\\Kimbe\\AppData\\Local\\Temp/ipykernel_7100/3673173512.py:5: FutureWarning: The frame.append method is deprecated and will be removed from pandas in a future version. Use pandas.concat instead.\n",
      "  output_df = output_df.append(df)\n",
      "C:\\Users\\Kimbe\\AppData\\Local\\Temp/ipykernel_7100/3673173512.py:5: FutureWarning: The frame.append method is deprecated and will be removed from pandas in a future version. Use pandas.concat instead.\n",
      "  output_df = output_df.append(df)\n",
      "C:\\Users\\Kimbe\\AppData\\Local\\Temp/ipykernel_7100/3673173512.py:5: FutureWarning: The frame.append method is deprecated and will be removed from pandas in a future version. Use pandas.concat instead.\n",
      "  output_df = output_df.append(df)\n",
      "C:\\Users\\Kimbe\\AppData\\Local\\Temp/ipykernel_7100/3673173512.py:5: FutureWarning: The frame.append method is deprecated and will be removed from pandas in a future version. Use pandas.concat instead.\n",
      "  output_df = output_df.append(df)\n",
      "C:\\Users\\Kimbe\\AppData\\Local\\Temp/ipykernel_7100/3673173512.py:5: FutureWarning: The frame.append method is deprecated and will be removed from pandas in a future version. Use pandas.concat instead.\n",
      "  output_df = output_df.append(df)\n",
      "C:\\Users\\Kimbe\\AppData\\Local\\Temp/ipykernel_7100/3673173512.py:5: FutureWarning: The frame.append method is deprecated and will be removed from pandas in a future version. Use pandas.concat instead.\n",
      "  output_df = output_df.append(df)\n"
     ]
    },
    {
     "name": "stdout",
     "output_type": "stream",
     "text": [
      "Skipping row\n"
     ]
    },
    {
     "name": "stderr",
     "output_type": "stream",
     "text": [
      "C:\\Users\\Kimbe\\AppData\\Local\\Temp/ipykernel_7100/3673173512.py:5: FutureWarning: The frame.append method is deprecated and will be removed from pandas in a future version. Use pandas.concat instead.\n",
      "  output_df = output_df.append(df)\n",
      "C:\\Users\\Kimbe\\AppData\\Local\\Temp/ipykernel_7100/3673173512.py:5: FutureWarning: The frame.append method is deprecated and will be removed from pandas in a future version. Use pandas.concat instead.\n",
      "  output_df = output_df.append(df)\n",
      "C:\\Users\\Kimbe\\AppData\\Local\\Temp/ipykernel_7100/3673173512.py:5: FutureWarning: The frame.append method is deprecated and will be removed from pandas in a future version. Use pandas.concat instead.\n",
      "  output_df = output_df.append(df)\n",
      "C:\\Users\\Kimbe\\AppData\\Local\\Temp/ipykernel_7100/3673173512.py:5: FutureWarning: The frame.append method is deprecated and will be removed from pandas in a future version. Use pandas.concat instead.\n",
      "  output_df = output_df.append(df)\n",
      "C:\\Users\\Kimbe\\AppData\\Local\\Temp/ipykernel_7100/3673173512.py:5: FutureWarning: The frame.append method is deprecated and will be removed from pandas in a future version. Use pandas.concat instead.\n",
      "  output_df = output_df.append(df)\n",
      "C:\\Users\\Kimbe\\AppData\\Local\\Temp/ipykernel_7100/3673173512.py:5: FutureWarning: The frame.append method is deprecated and will be removed from pandas in a future version. Use pandas.concat instead.\n",
      "  output_df = output_df.append(df)\n",
      "C:\\Users\\Kimbe\\AppData\\Local\\Temp/ipykernel_7100/3673173512.py:5: FutureWarning: The frame.append method is deprecated and will be removed from pandas in a future version. Use pandas.concat instead.\n",
      "  output_df = output_df.append(df)\n",
      "C:\\Users\\Kimbe\\AppData\\Local\\Temp/ipykernel_7100/3673173512.py:5: FutureWarning: The frame.append method is deprecated and will be removed from pandas in a future version. Use pandas.concat instead.\n",
      "  output_df = output_df.append(df)\n",
      "C:\\Users\\Kimbe\\AppData\\Local\\Temp/ipykernel_7100/3673173512.py:5: FutureWarning: The frame.append method is deprecated and will be removed from pandas in a future version. Use pandas.concat instead.\n",
      "  output_df = output_df.append(df)\n",
      "C:\\Users\\Kimbe\\AppData\\Local\\Temp/ipykernel_7100/3673173512.py:5: FutureWarning: The frame.append method is deprecated and will be removed from pandas in a future version. Use pandas.concat instead.\n",
      "  output_df = output_df.append(df)\n",
      "C:\\Users\\Kimbe\\AppData\\Local\\Temp/ipykernel_7100/3673173512.py:5: FutureWarning: The frame.append method is deprecated and will be removed from pandas in a future version. Use pandas.concat instead.\n",
      "  output_df = output_df.append(df)\n"
     ]
    },
    {
     "name": "stdout",
     "output_type": "stream",
     "text": [
      "Skipping row\n"
     ]
    },
    {
     "name": "stderr",
     "output_type": "stream",
     "text": [
      "C:\\Users\\Kimbe\\AppData\\Local\\Temp/ipykernel_7100/3673173512.py:5: FutureWarning: The frame.append method is deprecated and will be removed from pandas in a future version. Use pandas.concat instead.\n",
      "  output_df = output_df.append(df)\n",
      "C:\\Users\\Kimbe\\AppData\\Local\\Temp/ipykernel_7100/3673173512.py:5: FutureWarning: The frame.append method is deprecated and will be removed from pandas in a future version. Use pandas.concat instead.\n",
      "  output_df = output_df.append(df)\n",
      "C:\\Users\\Kimbe\\AppData\\Local\\Temp/ipykernel_7100/3673173512.py:5: FutureWarning: The frame.append method is deprecated and will be removed from pandas in a future version. Use pandas.concat instead.\n",
      "  output_df = output_df.append(df)\n",
      "C:\\Users\\Kimbe\\AppData\\Local\\Temp/ipykernel_7100/3673173512.py:5: FutureWarning: The frame.append method is deprecated and will be removed from pandas in a future version. Use pandas.concat instead.\n",
      "  output_df = output_df.append(df)\n",
      "C:\\Users\\Kimbe\\AppData\\Local\\Temp/ipykernel_7100/3673173512.py:5: FutureWarning: The frame.append method is deprecated and will be removed from pandas in a future version. Use pandas.concat instead.\n",
      "  output_df = output_df.append(df)\n",
      "C:\\Users\\Kimbe\\AppData\\Local\\Temp/ipykernel_7100/3673173512.py:5: FutureWarning: The frame.append method is deprecated and will be removed from pandas in a future version. Use pandas.concat instead.\n",
      "  output_df = output_df.append(df)\n",
      "C:\\Users\\Kimbe\\AppData\\Local\\Temp/ipykernel_7100/3673173512.py:5: FutureWarning: The frame.append method is deprecated and will be removed from pandas in a future version. Use pandas.concat instead.\n",
      "  output_df = output_df.append(df)\n",
      "C:\\Users\\Kimbe\\AppData\\Local\\Temp/ipykernel_7100/3673173512.py:5: FutureWarning: The frame.append method is deprecated and will be removed from pandas in a future version. Use pandas.concat instead.\n",
      "  output_df = output_df.append(df)\n",
      "C:\\Users\\Kimbe\\AppData\\Local\\Temp/ipykernel_7100/3673173512.py:5: FutureWarning: The frame.append method is deprecated and will be removed from pandas in a future version. Use pandas.concat instead.\n",
      "  output_df = output_df.append(df)\n",
      "C:\\Users\\Kimbe\\AppData\\Local\\Temp/ipykernel_7100/3673173512.py:5: FutureWarning: The frame.append method is deprecated and will be removed from pandas in a future version. Use pandas.concat instead.\n",
      "  output_df = output_df.append(df)\n"
     ]
    },
    {
     "name": "stdout",
     "output_type": "stream",
     "text": [
      "Skipping row\n"
     ]
    },
    {
     "name": "stderr",
     "output_type": "stream",
     "text": [
      "C:\\Users\\Kimbe\\AppData\\Local\\Temp/ipykernel_7100/3673173512.py:5: FutureWarning: The frame.append method is deprecated and will be removed from pandas in a future version. Use pandas.concat instead.\n",
      "  output_df = output_df.append(df)\n",
      "C:\\Users\\Kimbe\\AppData\\Local\\Temp/ipykernel_7100/3673173512.py:5: FutureWarning: The frame.append method is deprecated and will be removed from pandas in a future version. Use pandas.concat instead.\n",
      "  output_df = output_df.append(df)\n",
      "C:\\Users\\Kimbe\\AppData\\Local\\Temp/ipykernel_7100/3673173512.py:5: FutureWarning: The frame.append method is deprecated and will be removed from pandas in a future version. Use pandas.concat instead.\n",
      "  output_df = output_df.append(df)\n",
      "C:\\Users\\Kimbe\\AppData\\Local\\Temp/ipykernel_7100/3673173512.py:5: FutureWarning: The frame.append method is deprecated and will be removed from pandas in a future version. Use pandas.concat instead.\n",
      "  output_df = output_df.append(df)\n",
      "C:\\Users\\Kimbe\\AppData\\Local\\Temp/ipykernel_7100/3673173512.py:5: FutureWarning: The frame.append method is deprecated and will be removed from pandas in a future version. Use pandas.concat instead.\n",
      "  output_df = output_df.append(df)\n",
      "C:\\Users\\Kimbe\\AppData\\Local\\Temp/ipykernel_7100/3673173512.py:5: FutureWarning: The frame.append method is deprecated and will be removed from pandas in a future version. Use pandas.concat instead.\n",
      "  output_df = output_df.append(df)\n",
      "C:\\Users\\Kimbe\\AppData\\Local\\Temp/ipykernel_7100/3673173512.py:5: FutureWarning: The frame.append method is deprecated and will be removed from pandas in a future version. Use pandas.concat instead.\n",
      "  output_df = output_df.append(df)\n",
      "C:\\Users\\Kimbe\\AppData\\Local\\Temp/ipykernel_7100/3673173512.py:5: FutureWarning: The frame.append method is deprecated and will be removed from pandas in a future version. Use pandas.concat instead.\n",
      "  output_df = output_df.append(df)\n",
      "C:\\Users\\Kimbe\\AppData\\Local\\Temp/ipykernel_7100/3673173512.py:5: FutureWarning: The frame.append method is deprecated and will be removed from pandas in a future version. Use pandas.concat instead.\n",
      "  output_df = output_df.append(df)\n",
      "C:\\Users\\Kimbe\\AppData\\Local\\Temp/ipykernel_7100/3673173512.py:5: FutureWarning: The frame.append method is deprecated and will be removed from pandas in a future version. Use pandas.concat instead.\n",
      "  output_df = output_df.append(df)\n"
     ]
    },
    {
     "name": "stdout",
     "output_type": "stream",
     "text": [
      "Skipping row\n"
     ]
    },
    {
     "name": "stderr",
     "output_type": "stream",
     "text": [
      "C:\\Users\\Kimbe\\AppData\\Local\\Temp/ipykernel_7100/3673173512.py:5: FutureWarning: The frame.append method is deprecated and will be removed from pandas in a future version. Use pandas.concat instead.\n",
      "  output_df = output_df.append(df)\n",
      "C:\\Users\\Kimbe\\AppData\\Local\\Temp/ipykernel_7100/3673173512.py:5: FutureWarning: The frame.append method is deprecated and will be removed from pandas in a future version. Use pandas.concat instead.\n",
      "  output_df = output_df.append(df)\n",
      "C:\\Users\\Kimbe\\AppData\\Local\\Temp/ipykernel_7100/3673173512.py:5: FutureWarning: The frame.append method is deprecated and will be removed from pandas in a future version. Use pandas.concat instead.\n",
      "  output_df = output_df.append(df)\n",
      "C:\\Users\\Kimbe\\AppData\\Local\\Temp/ipykernel_7100/3673173512.py:5: FutureWarning: The frame.append method is deprecated and will be removed from pandas in a future version. Use pandas.concat instead.\n",
      "  output_df = output_df.append(df)\n",
      "C:\\Users\\Kimbe\\AppData\\Local\\Temp/ipykernel_7100/3673173512.py:5: FutureWarning: The frame.append method is deprecated and will be removed from pandas in a future version. Use pandas.concat instead.\n",
      "  output_df = output_df.append(df)\n",
      "C:\\Users\\Kimbe\\AppData\\Local\\Temp/ipykernel_7100/3673173512.py:5: FutureWarning: The frame.append method is deprecated and will be removed from pandas in a future version. Use pandas.concat instead.\n",
      "  output_df = output_df.append(df)\n",
      "C:\\Users\\Kimbe\\AppData\\Local\\Temp/ipykernel_7100/3673173512.py:5: FutureWarning: The frame.append method is deprecated and will be removed from pandas in a future version. Use pandas.concat instead.\n",
      "  output_df = output_df.append(df)\n",
      "C:\\Users\\Kimbe\\AppData\\Local\\Temp/ipykernel_7100/3673173512.py:5: FutureWarning: The frame.append method is deprecated and will be removed from pandas in a future version. Use pandas.concat instead.\n",
      "  output_df = output_df.append(df)\n",
      "C:\\Users\\Kimbe\\AppData\\Local\\Temp/ipykernel_7100/3673173512.py:5: FutureWarning: The frame.append method is deprecated and will be removed from pandas in a future version. Use pandas.concat instead.\n",
      "  output_df = output_df.append(df)\n",
      "C:\\Users\\Kimbe\\AppData\\Local\\Temp/ipykernel_7100/3673173512.py:5: FutureWarning: The frame.append method is deprecated and will be removed from pandas in a future version. Use pandas.concat instead.\n",
      "  output_df = output_df.append(df)\n",
      "C:\\Users\\Kimbe\\AppData\\Local\\Temp/ipykernel_7100/3673173512.py:5: FutureWarning: The frame.append method is deprecated and will be removed from pandas in a future version. Use pandas.concat instead.\n",
      "  output_df = output_df.append(df)\n"
     ]
    },
    {
     "name": "stdout",
     "output_type": "stream",
     "text": [
      "Skipping row\n"
     ]
    },
    {
     "name": "stderr",
     "output_type": "stream",
     "text": [
      "C:\\Users\\Kimbe\\AppData\\Local\\Temp/ipykernel_7100/3673173512.py:5: FutureWarning: The frame.append method is deprecated and will be removed from pandas in a future version. Use pandas.concat instead.\n",
      "  output_df = output_df.append(df)\n",
      "C:\\Users\\Kimbe\\AppData\\Local\\Temp/ipykernel_7100/3673173512.py:5: FutureWarning: The frame.append method is deprecated and will be removed from pandas in a future version. Use pandas.concat instead.\n",
      "  output_df = output_df.append(df)\n",
      "C:\\Users\\Kimbe\\AppData\\Local\\Temp/ipykernel_7100/3673173512.py:5: FutureWarning: The frame.append method is deprecated and will be removed from pandas in a future version. Use pandas.concat instead.\n",
      "  output_df = output_df.append(df)\n",
      "C:\\Users\\Kimbe\\AppData\\Local\\Temp/ipykernel_7100/3673173512.py:5: FutureWarning: The frame.append method is deprecated and will be removed from pandas in a future version. Use pandas.concat instead.\n",
      "  output_df = output_df.append(df)\n",
      "C:\\Users\\Kimbe\\AppData\\Local\\Temp/ipykernel_7100/3673173512.py:5: FutureWarning: The frame.append method is deprecated and will be removed from pandas in a future version. Use pandas.concat instead.\n",
      "  output_df = output_df.append(df)\n",
      "C:\\Users\\Kimbe\\AppData\\Local\\Temp/ipykernel_7100/3673173512.py:5: FutureWarning: The frame.append method is deprecated and will be removed from pandas in a future version. Use pandas.concat instead.\n",
      "  output_df = output_df.append(df)\n",
      "C:\\Users\\Kimbe\\AppData\\Local\\Temp/ipykernel_7100/3673173512.py:5: FutureWarning: The frame.append method is deprecated and will be removed from pandas in a future version. Use pandas.concat instead.\n",
      "  output_df = output_df.append(df)\n",
      "C:\\Users\\Kimbe\\AppData\\Local\\Temp/ipykernel_7100/3673173512.py:5: FutureWarning: The frame.append method is deprecated and will be removed from pandas in a future version. Use pandas.concat instead.\n",
      "  output_df = output_df.append(df)\n",
      "C:\\Users\\Kimbe\\AppData\\Local\\Temp/ipykernel_7100/3673173512.py:5: FutureWarning: The frame.append method is deprecated and will be removed from pandas in a future version. Use pandas.concat instead.\n",
      "  output_df = output_df.append(df)\n",
      "C:\\Users\\Kimbe\\AppData\\Local\\Temp/ipykernel_7100/3673173512.py:5: FutureWarning: The frame.append method is deprecated and will be removed from pandas in a future version. Use pandas.concat instead.\n",
      "  output_df = output_df.append(df)\n",
      "C:\\Users\\Kimbe\\AppData\\Local\\Temp/ipykernel_7100/3673173512.py:5: FutureWarning: The frame.append method is deprecated and will be removed from pandas in a future version. Use pandas.concat instead.\n",
      "  output_df = output_df.append(df)\n"
     ]
    },
    {
     "name": "stdout",
     "output_type": "stream",
     "text": [
      "Skipping row\n"
     ]
    },
    {
     "name": "stderr",
     "output_type": "stream",
     "text": [
      "C:\\Users\\Kimbe\\AppData\\Local\\Temp/ipykernel_7100/3673173512.py:5: FutureWarning: The frame.append method is deprecated and will be removed from pandas in a future version. Use pandas.concat instead.\n",
      "  output_df = output_df.append(df)\n",
      "C:\\Users\\Kimbe\\AppData\\Local\\Temp/ipykernel_7100/3673173512.py:5: FutureWarning: The frame.append method is deprecated and will be removed from pandas in a future version. Use pandas.concat instead.\n",
      "  output_df = output_df.append(df)\n",
      "C:\\Users\\Kimbe\\AppData\\Local\\Temp/ipykernel_7100/3673173512.py:5: FutureWarning: The frame.append method is deprecated and will be removed from pandas in a future version. Use pandas.concat instead.\n",
      "  output_df = output_df.append(df)\n",
      "C:\\Users\\Kimbe\\AppData\\Local\\Temp/ipykernel_7100/3673173512.py:5: FutureWarning: The frame.append method is deprecated and will be removed from pandas in a future version. Use pandas.concat instead.\n",
      "  output_df = output_df.append(df)\n",
      "C:\\Users\\Kimbe\\AppData\\Local\\Temp/ipykernel_7100/3673173512.py:5: FutureWarning: The frame.append method is deprecated and will be removed from pandas in a future version. Use pandas.concat instead.\n",
      "  output_df = output_df.append(df)\n",
      "C:\\Users\\Kimbe\\AppData\\Local\\Temp/ipykernel_7100/3673173512.py:5: FutureWarning: The frame.append method is deprecated and will be removed from pandas in a future version. Use pandas.concat instead.\n",
      "  output_df = output_df.append(df)\n",
      "C:\\Users\\Kimbe\\AppData\\Local\\Temp/ipykernel_7100/3673173512.py:5: FutureWarning: The frame.append method is deprecated and will be removed from pandas in a future version. Use pandas.concat instead.\n",
      "  output_df = output_df.append(df)\n",
      "C:\\Users\\Kimbe\\AppData\\Local\\Temp/ipykernel_7100/3673173512.py:5: FutureWarning: The frame.append method is deprecated and will be removed from pandas in a future version. Use pandas.concat instead.\n",
      "  output_df = output_df.append(df)\n",
      "C:\\Users\\Kimbe\\AppData\\Local\\Temp/ipykernel_7100/3673173512.py:5: FutureWarning: The frame.append method is deprecated and will be removed from pandas in a future version. Use pandas.concat instead.\n",
      "  output_df = output_df.append(df)\n",
      "C:\\Users\\Kimbe\\AppData\\Local\\Temp/ipykernel_7100/3673173512.py:5: FutureWarning: The frame.append method is deprecated and will be removed from pandas in a future version. Use pandas.concat instead.\n",
      "  output_df = output_df.append(df)\n",
      "C:\\Users\\Kimbe\\AppData\\Local\\Temp/ipykernel_7100/3673173512.py:5: FutureWarning: The frame.append method is deprecated and will be removed from pandas in a future version. Use pandas.concat instead.\n",
      "  output_df = output_df.append(df)\n"
     ]
    },
    {
     "name": "stdout",
     "output_type": "stream",
     "text": [
      "Skipping row\n"
     ]
    },
    {
     "name": "stderr",
     "output_type": "stream",
     "text": [
      "C:\\Users\\Kimbe\\AppData\\Local\\Temp/ipykernel_7100/3673173512.py:5: FutureWarning: The frame.append method is deprecated and will be removed from pandas in a future version. Use pandas.concat instead.\n",
      "  output_df = output_df.append(df)\n",
      "C:\\Users\\Kimbe\\AppData\\Local\\Temp/ipykernel_7100/3673173512.py:5: FutureWarning: The frame.append method is deprecated and will be removed from pandas in a future version. Use pandas.concat instead.\n",
      "  output_df = output_df.append(df)\n",
      "C:\\Users\\Kimbe\\AppData\\Local\\Temp/ipykernel_7100/3673173512.py:5: FutureWarning: The frame.append method is deprecated and will be removed from pandas in a future version. Use pandas.concat instead.\n",
      "  output_df = output_df.append(df)\n",
      "C:\\Users\\Kimbe\\AppData\\Local\\Temp/ipykernel_7100/3673173512.py:5: FutureWarning: The frame.append method is deprecated and will be removed from pandas in a future version. Use pandas.concat instead.\n",
      "  output_df = output_df.append(df)\n",
      "C:\\Users\\Kimbe\\AppData\\Local\\Temp/ipykernel_7100/3673173512.py:5: FutureWarning: The frame.append method is deprecated and will be removed from pandas in a future version. Use pandas.concat instead.\n",
      "  output_df = output_df.append(df)\n",
      "C:\\Users\\Kimbe\\AppData\\Local\\Temp/ipykernel_7100/3673173512.py:5: FutureWarning: The frame.append method is deprecated and will be removed from pandas in a future version. Use pandas.concat instead.\n",
      "  output_df = output_df.append(df)\n",
      "C:\\Users\\Kimbe\\AppData\\Local\\Temp/ipykernel_7100/3673173512.py:5: FutureWarning: The frame.append method is deprecated and will be removed from pandas in a future version. Use pandas.concat instead.\n",
      "  output_df = output_df.append(df)\n",
      "C:\\Users\\Kimbe\\AppData\\Local\\Temp/ipykernel_7100/3673173512.py:5: FutureWarning: The frame.append method is deprecated and will be removed from pandas in a future version. Use pandas.concat instead.\n",
      "  output_df = output_df.append(df)\n",
      "C:\\Users\\Kimbe\\AppData\\Local\\Temp/ipykernel_7100/3673173512.py:5: FutureWarning: The frame.append method is deprecated and will be removed from pandas in a future version. Use pandas.concat instead.\n",
      "  output_df = output_df.append(df)\n",
      "C:\\Users\\Kimbe\\AppData\\Local\\Temp/ipykernel_7100/3673173512.py:5: FutureWarning: The frame.append method is deprecated and will be removed from pandas in a future version. Use pandas.concat instead.\n",
      "  output_df = output_df.append(df)\n",
      "C:\\Users\\Kimbe\\AppData\\Local\\Temp/ipykernel_7100/3673173512.py:5: FutureWarning: The frame.append method is deprecated and will be removed from pandas in a future version. Use pandas.concat instead.\n",
      "  output_df = output_df.append(df)\n"
     ]
    },
    {
     "name": "stdout",
     "output_type": "stream",
     "text": [
      "Skipping row\n"
     ]
    },
    {
     "name": "stderr",
     "output_type": "stream",
     "text": [
      "C:\\Users\\Kimbe\\AppData\\Local\\Temp/ipykernel_7100/3673173512.py:5: FutureWarning: The frame.append method is deprecated and will be removed from pandas in a future version. Use pandas.concat instead.\n",
      "  output_df = output_df.append(df)\n",
      "C:\\Users\\Kimbe\\AppData\\Local\\Temp/ipykernel_7100/3673173512.py:5: FutureWarning: The frame.append method is deprecated and will be removed from pandas in a future version. Use pandas.concat instead.\n",
      "  output_df = output_df.append(df)\n",
      "C:\\Users\\Kimbe\\AppData\\Local\\Temp/ipykernel_7100/3673173512.py:5: FutureWarning: The frame.append method is deprecated and will be removed from pandas in a future version. Use pandas.concat instead.\n",
      "  output_df = output_df.append(df)\n",
      "C:\\Users\\Kimbe\\AppData\\Local\\Temp/ipykernel_7100/3673173512.py:5: FutureWarning: The frame.append method is deprecated and will be removed from pandas in a future version. Use pandas.concat instead.\n",
      "  output_df = output_df.append(df)\n",
      "C:\\Users\\Kimbe\\AppData\\Local\\Temp/ipykernel_7100/3673173512.py:5: FutureWarning: The frame.append method is deprecated and will be removed from pandas in a future version. Use pandas.concat instead.\n",
      "  output_df = output_df.append(df)\n",
      "C:\\Users\\Kimbe\\AppData\\Local\\Temp/ipykernel_7100/3673173512.py:5: FutureWarning: The frame.append method is deprecated and will be removed from pandas in a future version. Use pandas.concat instead.\n",
      "  output_df = output_df.append(df)\n",
      "C:\\Users\\Kimbe\\AppData\\Local\\Temp/ipykernel_7100/3673173512.py:5: FutureWarning: The frame.append method is deprecated and will be removed from pandas in a future version. Use pandas.concat instead.\n",
      "  output_df = output_df.append(df)\n",
      "C:\\Users\\Kimbe\\AppData\\Local\\Temp/ipykernel_7100/3673173512.py:5: FutureWarning: The frame.append method is deprecated and will be removed from pandas in a future version. Use pandas.concat instead.\n",
      "  output_df = output_df.append(df)\n",
      "C:\\Users\\Kimbe\\AppData\\Local\\Temp/ipykernel_7100/3673173512.py:5: FutureWarning: The frame.append method is deprecated and will be removed from pandas in a future version. Use pandas.concat instead.\n",
      "  output_df = output_df.append(df)\n",
      "C:\\Users\\Kimbe\\AppData\\Local\\Temp/ipykernel_7100/3673173512.py:5: FutureWarning: The frame.append method is deprecated and will be removed from pandas in a future version. Use pandas.concat instead.\n",
      "  output_df = output_df.append(df)\n",
      "C:\\Users\\Kimbe\\AppData\\Local\\Temp/ipykernel_7100/3673173512.py:5: FutureWarning: The frame.append method is deprecated and will be removed from pandas in a future version. Use pandas.concat instead.\n",
      "  output_df = output_df.append(df)\n"
     ]
    },
    {
     "name": "stdout",
     "output_type": "stream",
     "text": [
      "Skipping row\n"
     ]
    },
    {
     "name": "stderr",
     "output_type": "stream",
     "text": [
      "C:\\Users\\Kimbe\\AppData\\Local\\Temp/ipykernel_7100/3673173512.py:5: FutureWarning: The frame.append method is deprecated and will be removed from pandas in a future version. Use pandas.concat instead.\n",
      "  output_df = output_df.append(df)\n",
      "C:\\Users\\Kimbe\\AppData\\Local\\Temp/ipykernel_7100/3673173512.py:5: FutureWarning: The frame.append method is deprecated and will be removed from pandas in a future version. Use pandas.concat instead.\n",
      "  output_df = output_df.append(df)\n",
      "C:\\Users\\Kimbe\\AppData\\Local\\Temp/ipykernel_7100/3673173512.py:5: FutureWarning: The frame.append method is deprecated and will be removed from pandas in a future version. Use pandas.concat instead.\n",
      "  output_df = output_df.append(df)\n",
      "C:\\Users\\Kimbe\\AppData\\Local\\Temp/ipykernel_7100/3673173512.py:5: FutureWarning: The frame.append method is deprecated and will be removed from pandas in a future version. Use pandas.concat instead.\n",
      "  output_df = output_df.append(df)\n",
      "C:\\Users\\Kimbe\\AppData\\Local\\Temp/ipykernel_7100/3673173512.py:5: FutureWarning: The frame.append method is deprecated and will be removed from pandas in a future version. Use pandas.concat instead.\n",
      "  output_df = output_df.append(df)\n",
      "C:\\Users\\Kimbe\\AppData\\Local\\Temp/ipykernel_7100/3673173512.py:5: FutureWarning: The frame.append method is deprecated and will be removed from pandas in a future version. Use pandas.concat instead.\n",
      "  output_df = output_df.append(df)\n",
      "C:\\Users\\Kimbe\\AppData\\Local\\Temp/ipykernel_7100/3673173512.py:5: FutureWarning: The frame.append method is deprecated and will be removed from pandas in a future version. Use pandas.concat instead.\n",
      "  output_df = output_df.append(df)\n",
      "C:\\Users\\Kimbe\\AppData\\Local\\Temp/ipykernel_7100/3673173512.py:5: FutureWarning: The frame.append method is deprecated and will be removed from pandas in a future version. Use pandas.concat instead.\n",
      "  output_df = output_df.append(df)\n",
      "C:\\Users\\Kimbe\\AppData\\Local\\Temp/ipykernel_7100/3673173512.py:5: FutureWarning: The frame.append method is deprecated and will be removed from pandas in a future version. Use pandas.concat instead.\n",
      "  output_df = output_df.append(df)\n",
      "C:\\Users\\Kimbe\\AppData\\Local\\Temp/ipykernel_7100/3673173512.py:5: FutureWarning: The frame.append method is deprecated and will be removed from pandas in a future version. Use pandas.concat instead.\n",
      "  output_df = output_df.append(df)\n",
      "C:\\Users\\Kimbe\\AppData\\Local\\Temp/ipykernel_7100/3673173512.py:5: FutureWarning: The frame.append method is deprecated and will be removed from pandas in a future version. Use pandas.concat instead.\n",
      "  output_df = output_df.append(df)\n"
     ]
    },
    {
     "name": "stdout",
     "output_type": "stream",
     "text": [
      "Skipping row\n"
     ]
    },
    {
     "name": "stderr",
     "output_type": "stream",
     "text": [
      "C:\\Users\\Kimbe\\AppData\\Local\\Temp/ipykernel_7100/3673173512.py:5: FutureWarning: The frame.append method is deprecated and will be removed from pandas in a future version. Use pandas.concat instead.\n",
      "  output_df = output_df.append(df)\n",
      "C:\\Users\\Kimbe\\AppData\\Local\\Temp/ipykernel_7100/3673173512.py:5: FutureWarning: The frame.append method is deprecated and will be removed from pandas in a future version. Use pandas.concat instead.\n",
      "  output_df = output_df.append(df)\n",
      "C:\\Users\\Kimbe\\AppData\\Local\\Temp/ipykernel_7100/3673173512.py:5: FutureWarning: The frame.append method is deprecated and will be removed from pandas in a future version. Use pandas.concat instead.\n",
      "  output_df = output_df.append(df)\n",
      "C:\\Users\\Kimbe\\AppData\\Local\\Temp/ipykernel_7100/3673173512.py:5: FutureWarning: The frame.append method is deprecated and will be removed from pandas in a future version. Use pandas.concat instead.\n",
      "  output_df = output_df.append(df)\n",
      "C:\\Users\\Kimbe\\AppData\\Local\\Temp/ipykernel_7100/3673173512.py:5: FutureWarning: The frame.append method is deprecated and will be removed from pandas in a future version. Use pandas.concat instead.\n",
      "  output_df = output_df.append(df)\n",
      "C:\\Users\\Kimbe\\AppData\\Local\\Temp/ipykernel_7100/3673173512.py:5: FutureWarning: The frame.append method is deprecated and will be removed from pandas in a future version. Use pandas.concat instead.\n",
      "  output_df = output_df.append(df)\n",
      "C:\\Users\\Kimbe\\AppData\\Local\\Temp/ipykernel_7100/3673173512.py:5: FutureWarning: The frame.append method is deprecated and will be removed from pandas in a future version. Use pandas.concat instead.\n",
      "  output_df = output_df.append(df)\n",
      "C:\\Users\\Kimbe\\AppData\\Local\\Temp/ipykernel_7100/3673173512.py:5: FutureWarning: The frame.append method is deprecated and will be removed from pandas in a future version. Use pandas.concat instead.\n",
      "  output_df = output_df.append(df)\n",
      "C:\\Users\\Kimbe\\AppData\\Local\\Temp/ipykernel_7100/3673173512.py:5: FutureWarning: The frame.append method is deprecated and will be removed from pandas in a future version. Use pandas.concat instead.\n",
      "  output_df = output_df.append(df)\n",
      "C:\\Users\\Kimbe\\AppData\\Local\\Temp/ipykernel_7100/3673173512.py:5: FutureWarning: The frame.append method is deprecated and will be removed from pandas in a future version. Use pandas.concat instead.\n",
      "  output_df = output_df.append(df)\n",
      "C:\\Users\\Kimbe\\AppData\\Local\\Temp/ipykernel_7100/3673173512.py:5: FutureWarning: The frame.append method is deprecated and will be removed from pandas in a future version. Use pandas.concat instead.\n",
      "  output_df = output_df.append(df)\n"
     ]
    },
    {
     "name": "stdout",
     "output_type": "stream",
     "text": [
      "Skipping row\n"
     ]
    },
    {
     "name": "stderr",
     "output_type": "stream",
     "text": [
      "C:\\Users\\Kimbe\\AppData\\Local\\Temp/ipykernel_7100/3673173512.py:5: FutureWarning: The frame.append method is deprecated and will be removed from pandas in a future version. Use pandas.concat instead.\n",
      "  output_df = output_df.append(df)\n",
      "C:\\Users\\Kimbe\\AppData\\Local\\Temp/ipykernel_7100/3673173512.py:5: FutureWarning: The frame.append method is deprecated and will be removed from pandas in a future version. Use pandas.concat instead.\n",
      "  output_df = output_df.append(df)\n",
      "C:\\Users\\Kimbe\\AppData\\Local\\Temp/ipykernel_7100/3673173512.py:5: FutureWarning: The frame.append method is deprecated and will be removed from pandas in a future version. Use pandas.concat instead.\n",
      "  output_df = output_df.append(df)\n",
      "C:\\Users\\Kimbe\\AppData\\Local\\Temp/ipykernel_7100/3673173512.py:5: FutureWarning: The frame.append method is deprecated and will be removed from pandas in a future version. Use pandas.concat instead.\n",
      "  output_df = output_df.append(df)\n",
      "C:\\Users\\Kimbe\\AppData\\Local\\Temp/ipykernel_7100/3673173512.py:5: FutureWarning: The frame.append method is deprecated and will be removed from pandas in a future version. Use pandas.concat instead.\n",
      "  output_df = output_df.append(df)\n",
      "C:\\Users\\Kimbe\\AppData\\Local\\Temp/ipykernel_7100/3673173512.py:5: FutureWarning: The frame.append method is deprecated and will be removed from pandas in a future version. Use pandas.concat instead.\n",
      "  output_df = output_df.append(df)\n",
      "C:\\Users\\Kimbe\\AppData\\Local\\Temp/ipykernel_7100/3673173512.py:5: FutureWarning: The frame.append method is deprecated and will be removed from pandas in a future version. Use pandas.concat instead.\n",
      "  output_df = output_df.append(df)\n",
      "C:\\Users\\Kimbe\\AppData\\Local\\Temp/ipykernel_7100/3673173512.py:5: FutureWarning: The frame.append method is deprecated and will be removed from pandas in a future version. Use pandas.concat instead.\n",
      "  output_df = output_df.append(df)\n",
      "C:\\Users\\Kimbe\\AppData\\Local\\Temp/ipykernel_7100/3673173512.py:5: FutureWarning: The frame.append method is deprecated and will be removed from pandas in a future version. Use pandas.concat instead.\n",
      "  output_df = output_df.append(df)\n",
      "C:\\Users\\Kimbe\\AppData\\Local\\Temp/ipykernel_7100/3673173512.py:5: FutureWarning: The frame.append method is deprecated and will be removed from pandas in a future version. Use pandas.concat instead.\n",
      "  output_df = output_df.append(df)\n"
     ]
    },
    {
     "name": "stdout",
     "output_type": "stream",
     "text": [
      "Skipping row\n"
     ]
    },
    {
     "name": "stderr",
     "output_type": "stream",
     "text": [
      "C:\\Users\\Kimbe\\AppData\\Local\\Temp/ipykernel_7100/3673173512.py:5: FutureWarning: The frame.append method is deprecated and will be removed from pandas in a future version. Use pandas.concat instead.\n",
      "  output_df = output_df.append(df)\n",
      "C:\\Users\\Kimbe\\AppData\\Local\\Temp/ipykernel_7100/3673173512.py:5: FutureWarning: The frame.append method is deprecated and will be removed from pandas in a future version. Use pandas.concat instead.\n",
      "  output_df = output_df.append(df)\n",
      "C:\\Users\\Kimbe\\AppData\\Local\\Temp/ipykernel_7100/3673173512.py:5: FutureWarning: The frame.append method is deprecated and will be removed from pandas in a future version. Use pandas.concat instead.\n",
      "  output_df = output_df.append(df)\n",
      "C:\\Users\\Kimbe\\AppData\\Local\\Temp/ipykernel_7100/3673173512.py:5: FutureWarning: The frame.append method is deprecated and will be removed from pandas in a future version. Use pandas.concat instead.\n",
      "  output_df = output_df.append(df)\n",
      "C:\\Users\\Kimbe\\AppData\\Local\\Temp/ipykernel_7100/3673173512.py:5: FutureWarning: The frame.append method is deprecated and will be removed from pandas in a future version. Use pandas.concat instead.\n",
      "  output_df = output_df.append(df)\n",
      "C:\\Users\\Kimbe\\AppData\\Local\\Temp/ipykernel_7100/3673173512.py:5: FutureWarning: The frame.append method is deprecated and will be removed from pandas in a future version. Use pandas.concat instead.\n",
      "  output_df = output_df.append(df)\n",
      "C:\\Users\\Kimbe\\AppData\\Local\\Temp/ipykernel_7100/3673173512.py:5: FutureWarning: The frame.append method is deprecated and will be removed from pandas in a future version. Use pandas.concat instead.\n",
      "  output_df = output_df.append(df)\n",
      "C:\\Users\\Kimbe\\AppData\\Local\\Temp/ipykernel_7100/3673173512.py:5: FutureWarning: The frame.append method is deprecated and will be removed from pandas in a future version. Use pandas.concat instead.\n",
      "  output_df = output_df.append(df)\n",
      "C:\\Users\\Kimbe\\AppData\\Local\\Temp/ipykernel_7100/3673173512.py:5: FutureWarning: The frame.append method is deprecated and will be removed from pandas in a future version. Use pandas.concat instead.\n",
      "  output_df = output_df.append(df)\n",
      "C:\\Users\\Kimbe\\AppData\\Local\\Temp/ipykernel_7100/3673173512.py:5: FutureWarning: The frame.append method is deprecated and will be removed from pandas in a future version. Use pandas.concat instead.\n",
      "  output_df = output_df.append(df)\n"
     ]
    },
    {
     "name": "stdout",
     "output_type": "stream",
     "text": [
      "Skipping row\n"
     ]
    },
    {
     "name": "stderr",
     "output_type": "stream",
     "text": [
      "C:\\Users\\Kimbe\\AppData\\Local\\Temp/ipykernel_7100/3673173512.py:5: FutureWarning: The frame.append method is deprecated and will be removed from pandas in a future version. Use pandas.concat instead.\n",
      "  output_df = output_df.append(df)\n",
      "C:\\Users\\Kimbe\\AppData\\Local\\Temp/ipykernel_7100/3673173512.py:5: FutureWarning: The frame.append method is deprecated and will be removed from pandas in a future version. Use pandas.concat instead.\n",
      "  output_df = output_df.append(df)\n",
      "C:\\Users\\Kimbe\\AppData\\Local\\Temp/ipykernel_7100/3673173512.py:5: FutureWarning: The frame.append method is deprecated and will be removed from pandas in a future version. Use pandas.concat instead.\n",
      "  output_df = output_df.append(df)\n",
      "C:\\Users\\Kimbe\\AppData\\Local\\Temp/ipykernel_7100/3673173512.py:5: FutureWarning: The frame.append method is deprecated and will be removed from pandas in a future version. Use pandas.concat instead.\n",
      "  output_df = output_df.append(df)\n",
      "C:\\Users\\Kimbe\\AppData\\Local\\Temp/ipykernel_7100/3673173512.py:5: FutureWarning: The frame.append method is deprecated and will be removed from pandas in a future version. Use pandas.concat instead.\n",
      "  output_df = output_df.append(df)\n",
      "C:\\Users\\Kimbe\\AppData\\Local\\Temp/ipykernel_7100/3673173512.py:5: FutureWarning: The frame.append method is deprecated and will be removed from pandas in a future version. Use pandas.concat instead.\n",
      "  output_df = output_df.append(df)\n",
      "C:\\Users\\Kimbe\\AppData\\Local\\Temp/ipykernel_7100/3673173512.py:5: FutureWarning: The frame.append method is deprecated and will be removed from pandas in a future version. Use pandas.concat instead.\n",
      "  output_df = output_df.append(df)\n",
      "C:\\Users\\Kimbe\\AppData\\Local\\Temp/ipykernel_7100/3673173512.py:5: FutureWarning: The frame.append method is deprecated and will be removed from pandas in a future version. Use pandas.concat instead.\n",
      "  output_df = output_df.append(df)\n",
      "C:\\Users\\Kimbe\\AppData\\Local\\Temp/ipykernel_7100/3673173512.py:5: FutureWarning: The frame.append method is deprecated and will be removed from pandas in a future version. Use pandas.concat instead.\n",
      "  output_df = output_df.append(df)\n",
      "C:\\Users\\Kimbe\\AppData\\Local\\Temp/ipykernel_7100/3673173512.py:5: FutureWarning: The frame.append method is deprecated and will be removed from pandas in a future version. Use pandas.concat instead.\n",
      "  output_df = output_df.append(df)\n",
      "C:\\Users\\Kimbe\\AppData\\Local\\Temp/ipykernel_7100/3673173512.py:5: FutureWarning: The frame.append method is deprecated and will be removed from pandas in a future version. Use pandas.concat instead.\n",
      "  output_df = output_df.append(df)\n",
      "C:\\Users\\Kimbe\\AppData\\Local\\Temp/ipykernel_7100/3673173512.py:5: FutureWarning: The frame.append method is deprecated and will be removed from pandas in a future version. Use pandas.concat instead.\n",
      "  output_df = output_df.append(df)\n",
      "C:\\Users\\Kimbe\\AppData\\Local\\Temp/ipykernel_7100/3673173512.py:5: FutureWarning: The frame.append method is deprecated and will be removed from pandas in a future version. Use pandas.concat instead.\n",
      "  output_df = output_df.append(df)\n",
      "C:\\Users\\Kimbe\\AppData\\Local\\Temp/ipykernel_7100/3673173512.py:5: FutureWarning: The frame.append method is deprecated and will be removed from pandas in a future version. Use pandas.concat instead.\n",
      "  output_df = output_df.append(df)\n",
      "C:\\Users\\Kimbe\\AppData\\Local\\Temp/ipykernel_7100/3673173512.py:5: FutureWarning: The frame.append method is deprecated and will be removed from pandas in a future version. Use pandas.concat instead.\n",
      "  output_df = output_df.append(df)\n",
      "C:\\Users\\Kimbe\\AppData\\Local\\Temp/ipykernel_7100/3673173512.py:5: FutureWarning: The frame.append method is deprecated and will be removed from pandas in a future version. Use pandas.concat instead.\n",
      "  output_df = output_df.append(df)\n",
      "C:\\Users\\Kimbe\\AppData\\Local\\Temp/ipykernel_7100/3673173512.py:5: FutureWarning: The frame.append method is deprecated and will be removed from pandas in a future version. Use pandas.concat instead.\n",
      "  output_df = output_df.append(df)\n",
      "C:\\Users\\Kimbe\\AppData\\Local\\Temp/ipykernel_7100/3673173512.py:5: FutureWarning: The frame.append method is deprecated and will be removed from pandas in a future version. Use pandas.concat instead.\n",
      "  output_df = output_df.append(df)\n",
      "C:\\Users\\Kimbe\\AppData\\Local\\Temp/ipykernel_7100/3673173512.py:5: FutureWarning: The frame.append method is deprecated and will be removed from pandas in a future version. Use pandas.concat instead.\n",
      "  output_df = output_df.append(df)\n",
      "C:\\Users\\Kimbe\\AppData\\Local\\Temp/ipykernel_7100/3673173512.py:5: FutureWarning: The frame.append method is deprecated and will be removed from pandas in a future version. Use pandas.concat instead.\n",
      "  output_df = output_df.append(df)\n"
     ]
    },
    {
     "name": "stdout",
     "output_type": "stream",
     "text": [
      "Skipping row\n"
     ]
    },
    {
     "name": "stderr",
     "output_type": "stream",
     "text": [
      "C:\\Users\\Kimbe\\AppData\\Local\\Temp/ipykernel_7100/3673173512.py:5: FutureWarning: The frame.append method is deprecated and will be removed from pandas in a future version. Use pandas.concat instead.\n",
      "  output_df = output_df.append(df)\n",
      "C:\\Users\\Kimbe\\AppData\\Local\\Temp/ipykernel_7100/3673173512.py:5: FutureWarning: The frame.append method is deprecated and will be removed from pandas in a future version. Use pandas.concat instead.\n",
      "  output_df = output_df.append(df)\n",
      "C:\\Users\\Kimbe\\AppData\\Local\\Temp/ipykernel_7100/3673173512.py:5: FutureWarning: The frame.append method is deprecated and will be removed from pandas in a future version. Use pandas.concat instead.\n",
      "  output_df = output_df.append(df)\n",
      "C:\\Users\\Kimbe\\AppData\\Local\\Temp/ipykernel_7100/3673173512.py:5: FutureWarning: The frame.append method is deprecated and will be removed from pandas in a future version. Use pandas.concat instead.\n",
      "  output_df = output_df.append(df)\n",
      "C:\\Users\\Kimbe\\AppData\\Local\\Temp/ipykernel_7100/3673173512.py:5: FutureWarning: The frame.append method is deprecated and will be removed from pandas in a future version. Use pandas.concat instead.\n",
      "  output_df = output_df.append(df)\n",
      "C:\\Users\\Kimbe\\AppData\\Local\\Temp/ipykernel_7100/3673173512.py:5: FutureWarning: The frame.append method is deprecated and will be removed from pandas in a future version. Use pandas.concat instead.\n",
      "  output_df = output_df.append(df)\n",
      "C:\\Users\\Kimbe\\AppData\\Local\\Temp/ipykernel_7100/3673173512.py:5: FutureWarning: The frame.append method is deprecated and will be removed from pandas in a future version. Use pandas.concat instead.\n",
      "  output_df = output_df.append(df)\n",
      "C:\\Users\\Kimbe\\AppData\\Local\\Temp/ipykernel_7100/3673173512.py:5: FutureWarning: The frame.append method is deprecated and will be removed from pandas in a future version. Use pandas.concat instead.\n",
      "  output_df = output_df.append(df)\n",
      "C:\\Users\\Kimbe\\AppData\\Local\\Temp/ipykernel_7100/3673173512.py:5: FutureWarning: The frame.append method is deprecated and will be removed from pandas in a future version. Use pandas.concat instead.\n",
      "  output_df = output_df.append(df)\n",
      "C:\\Users\\Kimbe\\AppData\\Local\\Temp/ipykernel_7100/3673173512.py:5: FutureWarning: The frame.append method is deprecated and will be removed from pandas in a future version. Use pandas.concat instead.\n",
      "  output_df = output_df.append(df)\n"
     ]
    },
    {
     "name": "stdout",
     "output_type": "stream",
     "text": [
      "Skipping row\n"
     ]
    },
    {
     "name": "stderr",
     "output_type": "stream",
     "text": [
      "C:\\Users\\Kimbe\\AppData\\Local\\Temp/ipykernel_7100/3673173512.py:5: FutureWarning: The frame.append method is deprecated and will be removed from pandas in a future version. Use pandas.concat instead.\n",
      "  output_df = output_df.append(df)\n",
      "C:\\Users\\Kimbe\\AppData\\Local\\Temp/ipykernel_7100/3673173512.py:5: FutureWarning: The frame.append method is deprecated and will be removed from pandas in a future version. Use pandas.concat instead.\n",
      "  output_df = output_df.append(df)\n",
      "C:\\Users\\Kimbe\\AppData\\Local\\Temp/ipykernel_7100/3673173512.py:5: FutureWarning: The frame.append method is deprecated and will be removed from pandas in a future version. Use pandas.concat instead.\n",
      "  output_df = output_df.append(df)\n",
      "C:\\Users\\Kimbe\\AppData\\Local\\Temp/ipykernel_7100/3673173512.py:5: FutureWarning: The frame.append method is deprecated and will be removed from pandas in a future version. Use pandas.concat instead.\n",
      "  output_df = output_df.append(df)\n",
      "C:\\Users\\Kimbe\\AppData\\Local\\Temp/ipykernel_7100/3673173512.py:5: FutureWarning: The frame.append method is deprecated and will be removed from pandas in a future version. Use pandas.concat instead.\n",
      "  output_df = output_df.append(df)\n",
      "C:\\Users\\Kimbe\\AppData\\Local\\Temp/ipykernel_7100/3673173512.py:5: FutureWarning: The frame.append method is deprecated and will be removed from pandas in a future version. Use pandas.concat instead.\n",
      "  output_df = output_df.append(df)\n",
      "C:\\Users\\Kimbe\\AppData\\Local\\Temp/ipykernel_7100/3673173512.py:5: FutureWarning: The frame.append method is deprecated and will be removed from pandas in a future version. Use pandas.concat instead.\n",
      "  output_df = output_df.append(df)\n",
      "C:\\Users\\Kimbe\\AppData\\Local\\Temp/ipykernel_7100/3673173512.py:5: FutureWarning: The frame.append method is deprecated and will be removed from pandas in a future version. Use pandas.concat instead.\n",
      "  output_df = output_df.append(df)\n",
      "C:\\Users\\Kimbe\\AppData\\Local\\Temp/ipykernel_7100/3673173512.py:5: FutureWarning: The frame.append method is deprecated and will be removed from pandas in a future version. Use pandas.concat instead.\n",
      "  output_df = output_df.append(df)\n",
      "C:\\Users\\Kimbe\\AppData\\Local\\Temp/ipykernel_7100/3673173512.py:5: FutureWarning: The frame.append method is deprecated and will be removed from pandas in a future version. Use pandas.concat instead.\n",
      "  output_df = output_df.append(df)\n"
     ]
    },
    {
     "name": "stdout",
     "output_type": "stream",
     "text": [
      "Skipping row\n",
      "Skipping row\n"
     ]
    },
    {
     "name": "stderr",
     "output_type": "stream",
     "text": [
      "C:\\Users\\Kimbe\\AppData\\Local\\Temp/ipykernel_7100/3673173512.py:5: FutureWarning: The frame.append method is deprecated and will be removed from pandas in a future version. Use pandas.concat instead.\n",
      "  output_df = output_df.append(df)\n",
      "C:\\Users\\Kimbe\\AppData\\Local\\Temp/ipykernel_7100/3673173512.py:5: FutureWarning: The frame.append method is deprecated and will be removed from pandas in a future version. Use pandas.concat instead.\n",
      "  output_df = output_df.append(df)\n",
      "C:\\Users\\Kimbe\\AppData\\Local\\Temp/ipykernel_7100/3673173512.py:5: FutureWarning: The frame.append method is deprecated and will be removed from pandas in a future version. Use pandas.concat instead.\n",
      "  output_df = output_df.append(df)\n",
      "C:\\Users\\Kimbe\\AppData\\Local\\Temp/ipykernel_7100/3673173512.py:5: FutureWarning: The frame.append method is deprecated and will be removed from pandas in a future version. Use pandas.concat instead.\n",
      "  output_df = output_df.append(df)\n",
      "C:\\Users\\Kimbe\\AppData\\Local\\Temp/ipykernel_7100/3673173512.py:5: FutureWarning: The frame.append method is deprecated and will be removed from pandas in a future version. Use pandas.concat instead.\n",
      "  output_df = output_df.append(df)\n",
      "C:\\Users\\Kimbe\\AppData\\Local\\Temp/ipykernel_7100/3673173512.py:5: FutureWarning: The frame.append method is deprecated and will be removed from pandas in a future version. Use pandas.concat instead.\n",
      "  output_df = output_df.append(df)\n",
      "C:\\Users\\Kimbe\\AppData\\Local\\Temp/ipykernel_7100/3673173512.py:5: FutureWarning: The frame.append method is deprecated and will be removed from pandas in a future version. Use pandas.concat instead.\n",
      "  output_df = output_df.append(df)\n",
      "C:\\Users\\Kimbe\\AppData\\Local\\Temp/ipykernel_7100/3673173512.py:5: FutureWarning: The frame.append method is deprecated and will be removed from pandas in a future version. Use pandas.concat instead.\n",
      "  output_df = output_df.append(df)\n",
      "C:\\Users\\Kimbe\\AppData\\Local\\Temp/ipykernel_7100/3673173512.py:5: FutureWarning: The frame.append method is deprecated and will be removed from pandas in a future version. Use pandas.concat instead.\n",
      "  output_df = output_df.append(df)\n",
      "C:\\Users\\Kimbe\\AppData\\Local\\Temp/ipykernel_7100/3673173512.py:5: FutureWarning: The frame.append method is deprecated and will be removed from pandas in a future version. Use pandas.concat instead.\n",
      "  output_df = output_df.append(df)\n",
      "C:\\Users\\Kimbe\\AppData\\Local\\Temp/ipykernel_7100/3673173512.py:5: FutureWarning: The frame.append method is deprecated and will be removed from pandas in a future version. Use pandas.concat instead.\n",
      "  output_df = output_df.append(df)\n",
      "C:\\Users\\Kimbe\\AppData\\Local\\Temp/ipykernel_7100/3673173512.py:5: FutureWarning: The frame.append method is deprecated and will be removed from pandas in a future version. Use pandas.concat instead.\n",
      "  output_df = output_df.append(df)\n",
      "C:\\Users\\Kimbe\\AppData\\Local\\Temp/ipykernel_7100/3673173512.py:5: FutureWarning: The frame.append method is deprecated and will be removed from pandas in a future version. Use pandas.concat instead.\n",
      "  output_df = output_df.append(df)\n",
      "C:\\Users\\Kimbe\\AppData\\Local\\Temp/ipykernel_7100/3673173512.py:5: FutureWarning: The frame.append method is deprecated and will be removed from pandas in a future version. Use pandas.concat instead.\n",
      "  output_df = output_df.append(df)\n",
      "C:\\Users\\Kimbe\\AppData\\Local\\Temp/ipykernel_7100/3673173512.py:5: FutureWarning: The frame.append method is deprecated and will be removed from pandas in a future version. Use pandas.concat instead.\n",
      "  output_df = output_df.append(df)\n",
      "C:\\Users\\Kimbe\\AppData\\Local\\Temp/ipykernel_7100/3673173512.py:5: FutureWarning: The frame.append method is deprecated and will be removed from pandas in a future version. Use pandas.concat instead.\n",
      "  output_df = output_df.append(df)\n",
      "C:\\Users\\Kimbe\\AppData\\Local\\Temp/ipykernel_7100/3673173512.py:5: FutureWarning: The frame.append method is deprecated and will be removed from pandas in a future version. Use pandas.concat instead.\n",
      "  output_df = output_df.append(df)\n",
      "C:\\Users\\Kimbe\\AppData\\Local\\Temp/ipykernel_7100/3673173512.py:5: FutureWarning: The frame.append method is deprecated and will be removed from pandas in a future version. Use pandas.concat instead.\n",
      "  output_df = output_df.append(df)\n"
     ]
    },
    {
     "name": "stdout",
     "output_type": "stream",
     "text": [
      "Skipping row\n",
      "Skipping row\n"
     ]
    },
    {
     "name": "stderr",
     "output_type": "stream",
     "text": [
      "C:\\Users\\Kimbe\\AppData\\Local\\Temp/ipykernel_7100/3673173512.py:5: FutureWarning: The frame.append method is deprecated and will be removed from pandas in a future version. Use pandas.concat instead.\n",
      "  output_df = output_df.append(df)\n",
      "C:\\Users\\Kimbe\\AppData\\Local\\Temp/ipykernel_7100/3673173512.py:5: FutureWarning: The frame.append method is deprecated and will be removed from pandas in a future version. Use pandas.concat instead.\n",
      "  output_df = output_df.append(df)\n",
      "C:\\Users\\Kimbe\\AppData\\Local\\Temp/ipykernel_7100/3673173512.py:5: FutureWarning: The frame.append method is deprecated and will be removed from pandas in a future version. Use pandas.concat instead.\n",
      "  output_df = output_df.append(df)\n",
      "C:\\Users\\Kimbe\\AppData\\Local\\Temp/ipykernel_7100/3673173512.py:5: FutureWarning: The frame.append method is deprecated and will be removed from pandas in a future version. Use pandas.concat instead.\n",
      "  output_df = output_df.append(df)\n",
      "C:\\Users\\Kimbe\\AppData\\Local\\Temp/ipykernel_7100/3673173512.py:5: FutureWarning: The frame.append method is deprecated and will be removed from pandas in a future version. Use pandas.concat instead.\n",
      "  output_df = output_df.append(df)\n",
      "C:\\Users\\Kimbe\\AppData\\Local\\Temp/ipykernel_7100/3673173512.py:5: FutureWarning: The frame.append method is deprecated and will be removed from pandas in a future version. Use pandas.concat instead.\n",
      "  output_df = output_df.append(df)\n",
      "C:\\Users\\Kimbe\\AppData\\Local\\Temp/ipykernel_7100/3673173512.py:5: FutureWarning: The frame.append method is deprecated and will be removed from pandas in a future version. Use pandas.concat instead.\n",
      "  output_df = output_df.append(df)\n",
      "C:\\Users\\Kimbe\\AppData\\Local\\Temp/ipykernel_7100/3673173512.py:5: FutureWarning: The frame.append method is deprecated and will be removed from pandas in a future version. Use pandas.concat instead.\n",
      "  output_df = output_df.append(df)\n",
      "C:\\Users\\Kimbe\\AppData\\Local\\Temp/ipykernel_7100/3673173512.py:5: FutureWarning: The frame.append method is deprecated and will be removed from pandas in a future version. Use pandas.concat instead.\n",
      "  output_df = output_df.append(df)\n",
      "C:\\Users\\Kimbe\\AppData\\Local\\Temp/ipykernel_7100/3673173512.py:5: FutureWarning: The frame.append method is deprecated and will be removed from pandas in a future version. Use pandas.concat instead.\n",
      "  output_df = output_df.append(df)\n",
      "C:\\Users\\Kimbe\\AppData\\Local\\Temp/ipykernel_7100/3673173512.py:5: FutureWarning: The frame.append method is deprecated and will be removed from pandas in a future version. Use pandas.concat instead.\n",
      "  output_df = output_df.append(df)\n",
      "C:\\Users\\Kimbe\\AppData\\Local\\Temp/ipykernel_7100/3673173512.py:5: FutureWarning: The frame.append method is deprecated and will be removed from pandas in a future version. Use pandas.concat instead.\n",
      "  output_df = output_df.append(df)\n",
      "C:\\Users\\Kimbe\\AppData\\Local\\Temp/ipykernel_7100/3673173512.py:5: FutureWarning: The frame.append method is deprecated and will be removed from pandas in a future version. Use pandas.concat instead.\n",
      "  output_df = output_df.append(df)\n",
      "C:\\Users\\Kimbe\\AppData\\Local\\Temp/ipykernel_7100/3673173512.py:5: FutureWarning: The frame.append method is deprecated and will be removed from pandas in a future version. Use pandas.concat instead.\n",
      "  output_df = output_df.append(df)\n",
      "C:\\Users\\Kimbe\\AppData\\Local\\Temp/ipykernel_7100/3673173512.py:5: FutureWarning: The frame.append method is deprecated and will be removed from pandas in a future version. Use pandas.concat instead.\n",
      "  output_df = output_df.append(df)\n",
      "C:\\Users\\Kimbe\\AppData\\Local\\Temp/ipykernel_7100/3673173512.py:5: FutureWarning: The frame.append method is deprecated and will be removed from pandas in a future version. Use pandas.concat instead.\n",
      "  output_df = output_df.append(df)\n",
      "C:\\Users\\Kimbe\\AppData\\Local\\Temp/ipykernel_7100/3673173512.py:5: FutureWarning: The frame.append method is deprecated and will be removed from pandas in a future version. Use pandas.concat instead.\n",
      "  output_df = output_df.append(df)\n",
      "C:\\Users\\Kimbe\\AppData\\Local\\Temp/ipykernel_7100/3673173512.py:5: FutureWarning: The frame.append method is deprecated and will be removed from pandas in a future version. Use pandas.concat instead.\n",
      "  output_df = output_df.append(df)\n",
      "C:\\Users\\Kimbe\\AppData\\Local\\Temp/ipykernel_7100/3673173512.py:5: FutureWarning: The frame.append method is deprecated and will be removed from pandas in a future version. Use pandas.concat instead.\n",
      "  output_df = output_df.append(df)\n",
      "C:\\Users\\Kimbe\\AppData\\Local\\Temp/ipykernel_7100/3673173512.py:5: FutureWarning: The frame.append method is deprecated and will be removed from pandas in a future version. Use pandas.concat instead.\n",
      "  output_df = output_df.append(df)\n",
      "C:\\Users\\Kimbe\\AppData\\Local\\Temp/ipykernel_7100/3673173512.py:5: FutureWarning: The frame.append method is deprecated and will be removed from pandas in a future version. Use pandas.concat instead.\n",
      "  output_df = output_df.append(df)\n",
      "C:\\Users\\Kimbe\\AppData\\Local\\Temp/ipykernel_7100/3673173512.py:5: FutureWarning: The frame.append method is deprecated and will be removed from pandas in a future version. Use pandas.concat instead.\n",
      "  output_df = output_df.append(df)\n",
      "C:\\Users\\Kimbe\\AppData\\Local\\Temp/ipykernel_7100/3673173512.py:5: FutureWarning: The frame.append method is deprecated and will be removed from pandas in a future version. Use pandas.concat instead.\n",
      "  output_df = output_df.append(df)\n",
      "C:\\Users\\Kimbe\\AppData\\Local\\Temp/ipykernel_7100/3673173512.py:5: FutureWarning: The frame.append method is deprecated and will be removed from pandas in a future version. Use pandas.concat instead.\n",
      "  output_df = output_df.append(df)\n",
      "C:\\Users\\Kimbe\\AppData\\Local\\Temp/ipykernel_7100/3673173512.py:5: FutureWarning: The frame.append method is deprecated and will be removed from pandas in a future version. Use pandas.concat instead.\n",
      "  output_df = output_df.append(df)\n",
      "C:\\Users\\Kimbe\\AppData\\Local\\Temp/ipykernel_7100/3673173512.py:5: FutureWarning: The frame.append method is deprecated and will be removed from pandas in a future version. Use pandas.concat instead.\n",
      "  output_df = output_df.append(df)\n",
      "C:\\Users\\Kimbe\\AppData\\Local\\Temp/ipykernel_7100/3673173512.py:5: FutureWarning: The frame.append method is deprecated and will be removed from pandas in a future version. Use pandas.concat instead.\n",
      "  output_df = output_df.append(df)\n",
      "C:\\Users\\Kimbe\\AppData\\Local\\Temp/ipykernel_7100/3673173512.py:5: FutureWarning: The frame.append method is deprecated and will be removed from pandas in a future version. Use pandas.concat instead.\n",
      "  output_df = output_df.append(df)\n",
      "C:\\Users\\Kimbe\\AppData\\Local\\Temp/ipykernel_7100/3673173512.py:5: FutureWarning: The frame.append method is deprecated and will be removed from pandas in a future version. Use pandas.concat instead.\n",
      "  output_df = output_df.append(df)\n",
      "C:\\Users\\Kimbe\\AppData\\Local\\Temp/ipykernel_7100/3673173512.py:5: FutureWarning: The frame.append method is deprecated and will be removed from pandas in a future version. Use pandas.concat instead.\n",
      "  output_df = output_df.append(df)\n",
      "C:\\Users\\Kimbe\\AppData\\Local\\Temp/ipykernel_7100/3673173512.py:5: FutureWarning: The frame.append method is deprecated and will be removed from pandas in a future version. Use pandas.concat instead.\n",
      "  output_df = output_df.append(df)\n",
      "C:\\Users\\Kimbe\\AppData\\Local\\Temp/ipykernel_7100/3673173512.py:5: FutureWarning: The frame.append method is deprecated and will be removed from pandas in a future version. Use pandas.concat instead.\n",
      "  output_df = output_df.append(df)\n",
      "C:\\Users\\Kimbe\\AppData\\Local\\Temp/ipykernel_7100/3673173512.py:5: FutureWarning: The frame.append method is deprecated and will be removed from pandas in a future version. Use pandas.concat instead.\n",
      "  output_df = output_df.append(df)\n"
     ]
    },
    {
     "name": "stdout",
     "output_type": "stream",
     "text": [
      "Skipping row\n",
      "Skipping row\n"
     ]
    },
    {
     "name": "stderr",
     "output_type": "stream",
     "text": [
      "C:\\Users\\Kimbe\\AppData\\Local\\Temp/ipykernel_7100/3673173512.py:5: FutureWarning: The frame.append method is deprecated and will be removed from pandas in a future version. Use pandas.concat instead.\n",
      "  output_df = output_df.append(df)\n",
      "C:\\Users\\Kimbe\\AppData\\Local\\Temp/ipykernel_7100/3673173512.py:5: FutureWarning: The frame.append method is deprecated and will be removed from pandas in a future version. Use pandas.concat instead.\n",
      "  output_df = output_df.append(df)\n",
      "C:\\Users\\Kimbe\\AppData\\Local\\Temp/ipykernel_7100/3673173512.py:5: FutureWarning: The frame.append method is deprecated and will be removed from pandas in a future version. Use pandas.concat instead.\n",
      "  output_df = output_df.append(df)\n",
      "C:\\Users\\Kimbe\\AppData\\Local\\Temp/ipykernel_7100/3673173512.py:5: FutureWarning: The frame.append method is deprecated and will be removed from pandas in a future version. Use pandas.concat instead.\n",
      "  output_df = output_df.append(df)\n",
      "C:\\Users\\Kimbe\\AppData\\Local\\Temp/ipykernel_7100/3673173512.py:5: FutureWarning: The frame.append method is deprecated and will be removed from pandas in a future version. Use pandas.concat instead.\n",
      "  output_df = output_df.append(df)\n",
      "C:\\Users\\Kimbe\\AppData\\Local\\Temp/ipykernel_7100/3673173512.py:5: FutureWarning: The frame.append method is deprecated and will be removed from pandas in a future version. Use pandas.concat instead.\n",
      "  output_df = output_df.append(df)\n",
      "C:\\Users\\Kimbe\\AppData\\Local\\Temp/ipykernel_7100/3673173512.py:5: FutureWarning: The frame.append method is deprecated and will be removed from pandas in a future version. Use pandas.concat instead.\n",
      "  output_df = output_df.append(df)\n",
      "C:\\Users\\Kimbe\\AppData\\Local\\Temp/ipykernel_7100/3673173512.py:5: FutureWarning: The frame.append method is deprecated and will be removed from pandas in a future version. Use pandas.concat instead.\n",
      "  output_df = output_df.append(df)\n",
      "C:\\Users\\Kimbe\\AppData\\Local\\Temp/ipykernel_7100/3673173512.py:5: FutureWarning: The frame.append method is deprecated and will be removed from pandas in a future version. Use pandas.concat instead.\n",
      "  output_df = output_df.append(df)\n",
      "C:\\Users\\Kimbe\\AppData\\Local\\Temp/ipykernel_7100/3673173512.py:5: FutureWarning: The frame.append method is deprecated and will be removed from pandas in a future version. Use pandas.concat instead.\n",
      "  output_df = output_df.append(df)\n"
     ]
    },
    {
     "name": "stdout",
     "output_type": "stream",
     "text": [
      "Skipping row\n"
     ]
    },
    {
     "name": "stderr",
     "output_type": "stream",
     "text": [
      "C:\\Users\\Kimbe\\AppData\\Local\\Temp/ipykernel_7100/3673173512.py:5: FutureWarning: The frame.append method is deprecated and will be removed from pandas in a future version. Use pandas.concat instead.\n",
      "  output_df = output_df.append(df)\n",
      "C:\\Users\\Kimbe\\AppData\\Local\\Temp/ipykernel_7100/3673173512.py:5: FutureWarning: The frame.append method is deprecated and will be removed from pandas in a future version. Use pandas.concat instead.\n",
      "  output_df = output_df.append(df)\n",
      "C:\\Users\\Kimbe\\AppData\\Local\\Temp/ipykernel_7100/3673173512.py:5: FutureWarning: The frame.append method is deprecated and will be removed from pandas in a future version. Use pandas.concat instead.\n",
      "  output_df = output_df.append(df)\n",
      "C:\\Users\\Kimbe\\AppData\\Local\\Temp/ipykernel_7100/3673173512.py:5: FutureWarning: The frame.append method is deprecated and will be removed from pandas in a future version. Use pandas.concat instead.\n",
      "  output_df = output_df.append(df)\n",
      "C:\\Users\\Kimbe\\AppData\\Local\\Temp/ipykernel_7100/3673173512.py:5: FutureWarning: The frame.append method is deprecated and will be removed from pandas in a future version. Use pandas.concat instead.\n",
      "  output_df = output_df.append(df)\n",
      "C:\\Users\\Kimbe\\AppData\\Local\\Temp/ipykernel_7100/3673173512.py:5: FutureWarning: The frame.append method is deprecated and will be removed from pandas in a future version. Use pandas.concat instead.\n",
      "  output_df = output_df.append(df)\n",
      "C:\\Users\\Kimbe\\AppData\\Local\\Temp/ipykernel_7100/3673173512.py:5: FutureWarning: The frame.append method is deprecated and will be removed from pandas in a future version. Use pandas.concat instead.\n",
      "  output_df = output_df.append(df)\n",
      "C:\\Users\\Kimbe\\AppData\\Local\\Temp/ipykernel_7100/3673173512.py:5: FutureWarning: The frame.append method is deprecated and will be removed from pandas in a future version. Use pandas.concat instead.\n",
      "  output_df = output_df.append(df)\n",
      "C:\\Users\\Kimbe\\AppData\\Local\\Temp/ipykernel_7100/3673173512.py:5: FutureWarning: The frame.append method is deprecated and will be removed from pandas in a future version. Use pandas.concat instead.\n",
      "  output_df = output_df.append(df)\n",
      "C:\\Users\\Kimbe\\AppData\\Local\\Temp/ipykernel_7100/3673173512.py:5: FutureWarning: The frame.append method is deprecated and will be removed from pandas in a future version. Use pandas.concat instead.\n",
      "  output_df = output_df.append(df)\n",
      "C:\\Users\\Kimbe\\AppData\\Local\\Temp/ipykernel_7100/3673173512.py:5: FutureWarning: The frame.append method is deprecated and will be removed from pandas in a future version. Use pandas.concat instead.\n",
      "  output_df = output_df.append(df)\n"
     ]
    },
    {
     "name": "stdout",
     "output_type": "stream",
     "text": [
      "Skipping row\n"
     ]
    },
    {
     "name": "stderr",
     "output_type": "stream",
     "text": [
      "C:\\Users\\Kimbe\\AppData\\Local\\Temp/ipykernel_7100/3673173512.py:5: FutureWarning: The frame.append method is deprecated and will be removed from pandas in a future version. Use pandas.concat instead.\n",
      "  output_df = output_df.append(df)\n",
      "C:\\Users\\Kimbe\\AppData\\Local\\Temp/ipykernel_7100/3673173512.py:5: FutureWarning: The frame.append method is deprecated and will be removed from pandas in a future version. Use pandas.concat instead.\n",
      "  output_df = output_df.append(df)\n",
      "C:\\Users\\Kimbe\\AppData\\Local\\Temp/ipykernel_7100/3673173512.py:5: FutureWarning: The frame.append method is deprecated and will be removed from pandas in a future version. Use pandas.concat instead.\n",
      "  output_df = output_df.append(df)\n",
      "C:\\Users\\Kimbe\\AppData\\Local\\Temp/ipykernel_7100/3673173512.py:5: FutureWarning: The frame.append method is deprecated and will be removed from pandas in a future version. Use pandas.concat instead.\n",
      "  output_df = output_df.append(df)\n",
      "C:\\Users\\Kimbe\\AppData\\Local\\Temp/ipykernel_7100/3673173512.py:5: FutureWarning: The frame.append method is deprecated and will be removed from pandas in a future version. Use pandas.concat instead.\n",
      "  output_df = output_df.append(df)\n",
      "C:\\Users\\Kimbe\\AppData\\Local\\Temp/ipykernel_7100/3673173512.py:5: FutureWarning: The frame.append method is deprecated and will be removed from pandas in a future version. Use pandas.concat instead.\n",
      "  output_df = output_df.append(df)\n",
      "C:\\Users\\Kimbe\\AppData\\Local\\Temp/ipykernel_7100/3673173512.py:5: FutureWarning: The frame.append method is deprecated and will be removed from pandas in a future version. Use pandas.concat instead.\n",
      "  output_df = output_df.append(df)\n",
      "C:\\Users\\Kimbe\\AppData\\Local\\Temp/ipykernel_7100/3673173512.py:5: FutureWarning: The frame.append method is deprecated and will be removed from pandas in a future version. Use pandas.concat instead.\n",
      "  output_df = output_df.append(df)\n",
      "C:\\Users\\Kimbe\\AppData\\Local\\Temp/ipykernel_7100/3673173512.py:5: FutureWarning: The frame.append method is deprecated and will be removed from pandas in a future version. Use pandas.concat instead.\n",
      "  output_df = output_df.append(df)\n",
      "C:\\Users\\Kimbe\\AppData\\Local\\Temp/ipykernel_7100/3673173512.py:5: FutureWarning: The frame.append method is deprecated and will be removed from pandas in a future version. Use pandas.concat instead.\n",
      "  output_df = output_df.append(df)\n"
     ]
    },
    {
     "name": "stdout",
     "output_type": "stream",
     "text": [
      "Skipping row\n"
     ]
    },
    {
     "name": "stderr",
     "output_type": "stream",
     "text": [
      "C:\\Users\\Kimbe\\AppData\\Local\\Temp/ipykernel_7100/3673173512.py:5: FutureWarning: The frame.append method is deprecated and will be removed from pandas in a future version. Use pandas.concat instead.\n",
      "  output_df = output_df.append(df)\n",
      "C:\\Users\\Kimbe\\AppData\\Local\\Temp/ipykernel_7100/3673173512.py:5: FutureWarning: The frame.append method is deprecated and will be removed from pandas in a future version. Use pandas.concat instead.\n",
      "  output_df = output_df.append(df)\n",
      "C:\\Users\\Kimbe\\AppData\\Local\\Temp/ipykernel_7100/3673173512.py:5: FutureWarning: The frame.append method is deprecated and will be removed from pandas in a future version. Use pandas.concat instead.\n",
      "  output_df = output_df.append(df)\n",
      "C:\\Users\\Kimbe\\AppData\\Local\\Temp/ipykernel_7100/3673173512.py:5: FutureWarning: The frame.append method is deprecated and will be removed from pandas in a future version. Use pandas.concat instead.\n",
      "  output_df = output_df.append(df)\n",
      "C:\\Users\\Kimbe\\AppData\\Local\\Temp/ipykernel_7100/3673173512.py:5: FutureWarning: The frame.append method is deprecated and will be removed from pandas in a future version. Use pandas.concat instead.\n",
      "  output_df = output_df.append(df)\n",
      "C:\\Users\\Kimbe\\AppData\\Local\\Temp/ipykernel_7100/3673173512.py:5: FutureWarning: The frame.append method is deprecated and will be removed from pandas in a future version. Use pandas.concat instead.\n",
      "  output_df = output_df.append(df)\n",
      "C:\\Users\\Kimbe\\AppData\\Local\\Temp/ipykernel_7100/3673173512.py:5: FutureWarning: The frame.append method is deprecated and will be removed from pandas in a future version. Use pandas.concat instead.\n",
      "  output_df = output_df.append(df)\n",
      "C:\\Users\\Kimbe\\AppData\\Local\\Temp/ipykernel_7100/3673173512.py:5: FutureWarning: The frame.append method is deprecated and will be removed from pandas in a future version. Use pandas.concat instead.\n",
      "  output_df = output_df.append(df)\n",
      "C:\\Users\\Kimbe\\AppData\\Local\\Temp/ipykernel_7100/3673173512.py:5: FutureWarning: The frame.append method is deprecated and will be removed from pandas in a future version. Use pandas.concat instead.\n",
      "  output_df = output_df.append(df)\n",
      "C:\\Users\\Kimbe\\AppData\\Local\\Temp/ipykernel_7100/3673173512.py:5: FutureWarning: The frame.append method is deprecated and will be removed from pandas in a future version. Use pandas.concat instead.\n",
      "  output_df = output_df.append(df)\n"
     ]
    },
    {
     "name": "stdout",
     "output_type": "stream",
     "text": [
      "Skipping row\n"
     ]
    },
    {
     "name": "stderr",
     "output_type": "stream",
     "text": [
      "C:\\Users\\Kimbe\\AppData\\Local\\Temp/ipykernel_7100/3673173512.py:5: FutureWarning: The frame.append method is deprecated and will be removed from pandas in a future version. Use pandas.concat instead.\n",
      "  output_df = output_df.append(df)\n",
      "C:\\Users\\Kimbe\\AppData\\Local\\Temp/ipykernel_7100/3673173512.py:5: FutureWarning: The frame.append method is deprecated and will be removed from pandas in a future version. Use pandas.concat instead.\n",
      "  output_df = output_df.append(df)\n",
      "C:\\Users\\Kimbe\\AppData\\Local\\Temp/ipykernel_7100/3673173512.py:5: FutureWarning: The frame.append method is deprecated and will be removed from pandas in a future version. Use pandas.concat instead.\n",
      "  output_df = output_df.append(df)\n",
      "C:\\Users\\Kimbe\\AppData\\Local\\Temp/ipykernel_7100/3673173512.py:5: FutureWarning: The frame.append method is deprecated and will be removed from pandas in a future version. Use pandas.concat instead.\n",
      "  output_df = output_df.append(df)\n",
      "C:\\Users\\Kimbe\\AppData\\Local\\Temp/ipykernel_7100/3673173512.py:5: FutureWarning: The frame.append method is deprecated and will be removed from pandas in a future version. Use pandas.concat instead.\n",
      "  output_df = output_df.append(df)\n",
      "C:\\Users\\Kimbe\\AppData\\Local\\Temp/ipykernel_7100/3673173512.py:5: FutureWarning: The frame.append method is deprecated and will be removed from pandas in a future version. Use pandas.concat instead.\n",
      "  output_df = output_df.append(df)\n",
      "C:\\Users\\Kimbe\\AppData\\Local\\Temp/ipykernel_7100/3673173512.py:5: FutureWarning: The frame.append method is deprecated and will be removed from pandas in a future version. Use pandas.concat instead.\n",
      "  output_df = output_df.append(df)\n",
      "C:\\Users\\Kimbe\\AppData\\Local\\Temp/ipykernel_7100/3673173512.py:5: FutureWarning: The frame.append method is deprecated and will be removed from pandas in a future version. Use pandas.concat instead.\n",
      "  output_df = output_df.append(df)\n",
      "C:\\Users\\Kimbe\\AppData\\Local\\Temp/ipykernel_7100/3673173512.py:5: FutureWarning: The frame.append method is deprecated and will be removed from pandas in a future version. Use pandas.concat instead.\n",
      "  output_df = output_df.append(df)\n",
      "C:\\Users\\Kimbe\\AppData\\Local\\Temp/ipykernel_7100/3673173512.py:5: FutureWarning: The frame.append method is deprecated and will be removed from pandas in a future version. Use pandas.concat instead.\n",
      "  output_df = output_df.append(df)\n",
      "C:\\Users\\Kimbe\\AppData\\Local\\Temp/ipykernel_7100/3673173512.py:5: FutureWarning: The frame.append method is deprecated and will be removed from pandas in a future version. Use pandas.concat instead.\n",
      "  output_df = output_df.append(df)\n"
     ]
    },
    {
     "name": "stdout",
     "output_type": "stream",
     "text": [
      "Skipping row\n"
     ]
    },
    {
     "name": "stderr",
     "output_type": "stream",
     "text": [
      "C:\\Users\\Kimbe\\AppData\\Local\\Temp/ipykernel_7100/3673173512.py:5: FutureWarning: The frame.append method is deprecated and will be removed from pandas in a future version. Use pandas.concat instead.\n",
      "  output_df = output_df.append(df)\n",
      "C:\\Users\\Kimbe\\AppData\\Local\\Temp/ipykernel_7100/3673173512.py:5: FutureWarning: The frame.append method is deprecated and will be removed from pandas in a future version. Use pandas.concat instead.\n",
      "  output_df = output_df.append(df)\n",
      "C:\\Users\\Kimbe\\AppData\\Local\\Temp/ipykernel_7100/3673173512.py:5: FutureWarning: The frame.append method is deprecated and will be removed from pandas in a future version. Use pandas.concat instead.\n",
      "  output_df = output_df.append(df)\n",
      "C:\\Users\\Kimbe\\AppData\\Local\\Temp/ipykernel_7100/3673173512.py:5: FutureWarning: The frame.append method is deprecated and will be removed from pandas in a future version. Use pandas.concat instead.\n",
      "  output_df = output_df.append(df)\n",
      "C:\\Users\\Kimbe\\AppData\\Local\\Temp/ipykernel_7100/3673173512.py:5: FutureWarning: The frame.append method is deprecated and will be removed from pandas in a future version. Use pandas.concat instead.\n",
      "  output_df = output_df.append(df)\n",
      "C:\\Users\\Kimbe\\AppData\\Local\\Temp/ipykernel_7100/3673173512.py:5: FutureWarning: The frame.append method is deprecated and will be removed from pandas in a future version. Use pandas.concat instead.\n",
      "  output_df = output_df.append(df)\n",
      "C:\\Users\\Kimbe\\AppData\\Local\\Temp/ipykernel_7100/3673173512.py:5: FutureWarning: The frame.append method is deprecated and will be removed from pandas in a future version. Use pandas.concat instead.\n",
      "  output_df = output_df.append(df)\n",
      "C:\\Users\\Kimbe\\AppData\\Local\\Temp/ipykernel_7100/3673173512.py:5: FutureWarning: The frame.append method is deprecated and will be removed from pandas in a future version. Use pandas.concat instead.\n",
      "  output_df = output_df.append(df)\n",
      "C:\\Users\\Kimbe\\AppData\\Local\\Temp/ipykernel_7100/3673173512.py:5: FutureWarning: The frame.append method is deprecated and will be removed from pandas in a future version. Use pandas.concat instead.\n",
      "  output_df = output_df.append(df)\n",
      "C:\\Users\\Kimbe\\AppData\\Local\\Temp/ipykernel_7100/3673173512.py:5: FutureWarning: The frame.append method is deprecated and will be removed from pandas in a future version. Use pandas.concat instead.\n",
      "  output_df = output_df.append(df)\n",
      "C:\\Users\\Kimbe\\AppData\\Local\\Temp/ipykernel_7100/3673173512.py:5: FutureWarning: The frame.append method is deprecated and will be removed from pandas in a future version. Use pandas.concat instead.\n",
      "  output_df = output_df.append(df)\n",
      "C:\\Users\\Kimbe\\AppData\\Local\\Temp/ipykernel_7100/3673173512.py:5: FutureWarning: The frame.append method is deprecated and will be removed from pandas in a future version. Use pandas.concat instead.\n",
      "  output_df = output_df.append(df)\n",
      "C:\\Users\\Kimbe\\AppData\\Local\\Temp/ipykernel_7100/3673173512.py:5: FutureWarning: The frame.append method is deprecated and will be removed from pandas in a future version. Use pandas.concat instead.\n",
      "  output_df = output_df.append(df)\n",
      "C:\\Users\\Kimbe\\AppData\\Local\\Temp/ipykernel_7100/3673173512.py:5: FutureWarning: The frame.append method is deprecated and will be removed from pandas in a future version. Use pandas.concat instead.\n",
      "  output_df = output_df.append(df)\n",
      "C:\\Users\\Kimbe\\AppData\\Local\\Temp/ipykernel_7100/3673173512.py:5: FutureWarning: The frame.append method is deprecated and will be removed from pandas in a future version. Use pandas.concat instead.\n",
      "  output_df = output_df.append(df)\n",
      "C:\\Users\\Kimbe\\AppData\\Local\\Temp/ipykernel_7100/3673173512.py:5: FutureWarning: The frame.append method is deprecated and will be removed from pandas in a future version. Use pandas.concat instead.\n",
      "  output_df = output_df.append(df)\n",
      "C:\\Users\\Kimbe\\AppData\\Local\\Temp/ipykernel_7100/3673173512.py:5: FutureWarning: The frame.append method is deprecated and will be removed from pandas in a future version. Use pandas.concat instead.\n",
      "  output_df = output_df.append(df)\n",
      "C:\\Users\\Kimbe\\AppData\\Local\\Temp/ipykernel_7100/3673173512.py:5: FutureWarning: The frame.append method is deprecated and will be removed from pandas in a future version. Use pandas.concat instead.\n",
      "  output_df = output_df.append(df)\n",
      "C:\\Users\\Kimbe\\AppData\\Local\\Temp/ipykernel_7100/3673173512.py:5: FutureWarning: The frame.append method is deprecated and will be removed from pandas in a future version. Use pandas.concat instead.\n",
      "  output_df = output_df.append(df)\n",
      "C:\\Users\\Kimbe\\AppData\\Local\\Temp/ipykernel_7100/3673173512.py:5: FutureWarning: The frame.append method is deprecated and will be removed from pandas in a future version. Use pandas.concat instead.\n",
      "  output_df = output_df.append(df)\n"
     ]
    },
    {
     "name": "stdout",
     "output_type": "stream",
     "text": [
      "Skipping row\n"
     ]
    },
    {
     "name": "stderr",
     "output_type": "stream",
     "text": [
      "C:\\Users\\Kimbe\\AppData\\Local\\Temp/ipykernel_7100/3673173512.py:5: FutureWarning: The frame.append method is deprecated and will be removed from pandas in a future version. Use pandas.concat instead.\n",
      "  output_df = output_df.append(df)\n",
      "C:\\Users\\Kimbe\\AppData\\Local\\Temp/ipykernel_7100/3673173512.py:5: FutureWarning: The frame.append method is deprecated and will be removed from pandas in a future version. Use pandas.concat instead.\n",
      "  output_df = output_df.append(df)\n",
      "C:\\Users\\Kimbe\\AppData\\Local\\Temp/ipykernel_7100/3673173512.py:5: FutureWarning: The frame.append method is deprecated and will be removed from pandas in a future version. Use pandas.concat instead.\n",
      "  output_df = output_df.append(df)\n",
      "C:\\Users\\Kimbe\\AppData\\Local\\Temp/ipykernel_7100/3673173512.py:5: FutureWarning: The frame.append method is deprecated and will be removed from pandas in a future version. Use pandas.concat instead.\n",
      "  output_df = output_df.append(df)\n",
      "C:\\Users\\Kimbe\\AppData\\Local\\Temp/ipykernel_7100/3673173512.py:5: FutureWarning: The frame.append method is deprecated and will be removed from pandas in a future version. Use pandas.concat instead.\n",
      "  output_df = output_df.append(df)\n",
      "C:\\Users\\Kimbe\\AppData\\Local\\Temp/ipykernel_7100/3673173512.py:5: FutureWarning: The frame.append method is deprecated and will be removed from pandas in a future version. Use pandas.concat instead.\n",
      "  output_df = output_df.append(df)\n",
      "C:\\Users\\Kimbe\\AppData\\Local\\Temp/ipykernel_7100/3673173512.py:5: FutureWarning: The frame.append method is deprecated and will be removed from pandas in a future version. Use pandas.concat instead.\n",
      "  output_df = output_df.append(df)\n",
      "C:\\Users\\Kimbe\\AppData\\Local\\Temp/ipykernel_7100/3673173512.py:5: FutureWarning: The frame.append method is deprecated and will be removed from pandas in a future version. Use pandas.concat instead.\n",
      "  output_df = output_df.append(df)\n",
      "C:\\Users\\Kimbe\\AppData\\Local\\Temp/ipykernel_7100/3673173512.py:5: FutureWarning: The frame.append method is deprecated and will be removed from pandas in a future version. Use pandas.concat instead.\n",
      "  output_df = output_df.append(df)\n",
      "C:\\Users\\Kimbe\\AppData\\Local\\Temp/ipykernel_7100/3673173512.py:5: FutureWarning: The frame.append method is deprecated and will be removed from pandas in a future version. Use pandas.concat instead.\n",
      "  output_df = output_df.append(df)\n"
     ]
    },
    {
     "name": "stdout",
     "output_type": "stream",
     "text": [
      "Skipping row\n"
     ]
    },
    {
     "name": "stderr",
     "output_type": "stream",
     "text": [
      "C:\\Users\\Kimbe\\AppData\\Local\\Temp/ipykernel_7100/3673173512.py:5: FutureWarning: The frame.append method is deprecated and will be removed from pandas in a future version. Use pandas.concat instead.\n",
      "  output_df = output_df.append(df)\n",
      "C:\\Users\\Kimbe\\AppData\\Local\\Temp/ipykernel_7100/3673173512.py:5: FutureWarning: The frame.append method is deprecated and will be removed from pandas in a future version. Use pandas.concat instead.\n",
      "  output_df = output_df.append(df)\n",
      "C:\\Users\\Kimbe\\AppData\\Local\\Temp/ipykernel_7100/3673173512.py:5: FutureWarning: The frame.append method is deprecated and will be removed from pandas in a future version. Use pandas.concat instead.\n",
      "  output_df = output_df.append(df)\n",
      "C:\\Users\\Kimbe\\AppData\\Local\\Temp/ipykernel_7100/3673173512.py:5: FutureWarning: The frame.append method is deprecated and will be removed from pandas in a future version. Use pandas.concat instead.\n",
      "  output_df = output_df.append(df)\n",
      "C:\\Users\\Kimbe\\AppData\\Local\\Temp/ipykernel_7100/3673173512.py:5: FutureWarning: The frame.append method is deprecated and will be removed from pandas in a future version. Use pandas.concat instead.\n",
      "  output_df = output_df.append(df)\n",
      "C:\\Users\\Kimbe\\AppData\\Local\\Temp/ipykernel_7100/3673173512.py:5: FutureWarning: The frame.append method is deprecated and will be removed from pandas in a future version. Use pandas.concat instead.\n",
      "  output_df = output_df.append(df)\n",
      "C:\\Users\\Kimbe\\AppData\\Local\\Temp/ipykernel_7100/3673173512.py:5: FutureWarning: The frame.append method is deprecated and will be removed from pandas in a future version. Use pandas.concat instead.\n",
      "  output_df = output_df.append(df)\n",
      "C:\\Users\\Kimbe\\AppData\\Local\\Temp/ipykernel_7100/3673173512.py:5: FutureWarning: The frame.append method is deprecated and will be removed from pandas in a future version. Use pandas.concat instead.\n",
      "  output_df = output_df.append(df)\n",
      "C:\\Users\\Kimbe\\AppData\\Local\\Temp/ipykernel_7100/3673173512.py:5: FutureWarning: The frame.append method is deprecated and will be removed from pandas in a future version. Use pandas.concat instead.\n",
      "  output_df = output_df.append(df)\n",
      "C:\\Users\\Kimbe\\AppData\\Local\\Temp/ipykernel_7100/3673173512.py:5: FutureWarning: The frame.append method is deprecated and will be removed from pandas in a future version. Use pandas.concat instead.\n",
      "  output_df = output_df.append(df)\n"
     ]
    },
    {
     "name": "stdout",
     "output_type": "stream",
     "text": [
      "Skipping row\n"
     ]
    },
    {
     "name": "stderr",
     "output_type": "stream",
     "text": [
      "C:\\Users\\Kimbe\\AppData\\Local\\Temp/ipykernel_7100/3673173512.py:5: FutureWarning: The frame.append method is deprecated and will be removed from pandas in a future version. Use pandas.concat instead.\n",
      "  output_df = output_df.append(df)\n",
      "C:\\Users\\Kimbe\\AppData\\Local\\Temp/ipykernel_7100/3673173512.py:5: FutureWarning: The frame.append method is deprecated and will be removed from pandas in a future version. Use pandas.concat instead.\n",
      "  output_df = output_df.append(df)\n",
      "C:\\Users\\Kimbe\\AppData\\Local\\Temp/ipykernel_7100/3673173512.py:5: FutureWarning: The frame.append method is deprecated and will be removed from pandas in a future version. Use pandas.concat instead.\n",
      "  output_df = output_df.append(df)\n",
      "C:\\Users\\Kimbe\\AppData\\Local\\Temp/ipykernel_7100/3673173512.py:5: FutureWarning: The frame.append method is deprecated and will be removed from pandas in a future version. Use pandas.concat instead.\n",
      "  output_df = output_df.append(df)\n",
      "C:\\Users\\Kimbe\\AppData\\Local\\Temp/ipykernel_7100/3673173512.py:5: FutureWarning: The frame.append method is deprecated and will be removed from pandas in a future version. Use pandas.concat instead.\n",
      "  output_df = output_df.append(df)\n",
      "C:\\Users\\Kimbe\\AppData\\Local\\Temp/ipykernel_7100/3673173512.py:5: FutureWarning: The frame.append method is deprecated and will be removed from pandas in a future version. Use pandas.concat instead.\n",
      "  output_df = output_df.append(df)\n",
      "C:\\Users\\Kimbe\\AppData\\Local\\Temp/ipykernel_7100/3673173512.py:5: FutureWarning: The frame.append method is deprecated and will be removed from pandas in a future version. Use pandas.concat instead.\n",
      "  output_df = output_df.append(df)\n",
      "C:\\Users\\Kimbe\\AppData\\Local\\Temp/ipykernel_7100/3673173512.py:5: FutureWarning: The frame.append method is deprecated and will be removed from pandas in a future version. Use pandas.concat instead.\n",
      "  output_df = output_df.append(df)\n",
      "C:\\Users\\Kimbe\\AppData\\Local\\Temp/ipykernel_7100/3673173512.py:5: FutureWarning: The frame.append method is deprecated and will be removed from pandas in a future version. Use pandas.concat instead.\n",
      "  output_df = output_df.append(df)\n",
      "C:\\Users\\Kimbe\\AppData\\Local\\Temp/ipykernel_7100/3673173512.py:5: FutureWarning: The frame.append method is deprecated and will be removed from pandas in a future version. Use pandas.concat instead.\n",
      "  output_df = output_df.append(df)\n"
     ]
    },
    {
     "name": "stdout",
     "output_type": "stream",
     "text": [
      "Skipping row\n"
     ]
    },
    {
     "name": "stderr",
     "output_type": "stream",
     "text": [
      "C:\\Users\\Kimbe\\AppData\\Local\\Temp/ipykernel_7100/3673173512.py:5: FutureWarning: The frame.append method is deprecated and will be removed from pandas in a future version. Use pandas.concat instead.\n",
      "  output_df = output_df.append(df)\n",
      "C:\\Users\\Kimbe\\AppData\\Local\\Temp/ipykernel_7100/3673173512.py:5: FutureWarning: The frame.append method is deprecated and will be removed from pandas in a future version. Use pandas.concat instead.\n",
      "  output_df = output_df.append(df)\n",
      "C:\\Users\\Kimbe\\AppData\\Local\\Temp/ipykernel_7100/3673173512.py:5: FutureWarning: The frame.append method is deprecated and will be removed from pandas in a future version. Use pandas.concat instead.\n",
      "  output_df = output_df.append(df)\n",
      "C:\\Users\\Kimbe\\AppData\\Local\\Temp/ipykernel_7100/3673173512.py:5: FutureWarning: The frame.append method is deprecated and will be removed from pandas in a future version. Use pandas.concat instead.\n",
      "  output_df = output_df.append(df)\n",
      "C:\\Users\\Kimbe\\AppData\\Local\\Temp/ipykernel_7100/3673173512.py:5: FutureWarning: The frame.append method is deprecated and will be removed from pandas in a future version. Use pandas.concat instead.\n",
      "  output_df = output_df.append(df)\n",
      "C:\\Users\\Kimbe\\AppData\\Local\\Temp/ipykernel_7100/3673173512.py:5: FutureWarning: The frame.append method is deprecated and will be removed from pandas in a future version. Use pandas.concat instead.\n",
      "  output_df = output_df.append(df)\n",
      "C:\\Users\\Kimbe\\AppData\\Local\\Temp/ipykernel_7100/3673173512.py:5: FutureWarning: The frame.append method is deprecated and will be removed from pandas in a future version. Use pandas.concat instead.\n",
      "  output_df = output_df.append(df)\n",
      "C:\\Users\\Kimbe\\AppData\\Local\\Temp/ipykernel_7100/3673173512.py:5: FutureWarning: The frame.append method is deprecated and will be removed from pandas in a future version. Use pandas.concat instead.\n",
      "  output_df = output_df.append(df)\n",
      "C:\\Users\\Kimbe\\AppData\\Local\\Temp/ipykernel_7100/3673173512.py:5: FutureWarning: The frame.append method is deprecated and will be removed from pandas in a future version. Use pandas.concat instead.\n",
      "  output_df = output_df.append(df)\n",
      "C:\\Users\\Kimbe\\AppData\\Local\\Temp/ipykernel_7100/3673173512.py:5: FutureWarning: The frame.append method is deprecated and will be removed from pandas in a future version. Use pandas.concat instead.\n",
      "  output_df = output_df.append(df)\n"
     ]
    },
    {
     "name": "stdout",
     "output_type": "stream",
     "text": [
      "Skipping row\n"
     ]
    },
    {
     "name": "stderr",
     "output_type": "stream",
     "text": [
      "C:\\Users\\Kimbe\\AppData\\Local\\Temp/ipykernel_7100/3673173512.py:5: FutureWarning: The frame.append method is deprecated and will be removed from pandas in a future version. Use pandas.concat instead.\n",
      "  output_df = output_df.append(df)\n",
      "C:\\Users\\Kimbe\\AppData\\Local\\Temp/ipykernel_7100/3673173512.py:5: FutureWarning: The frame.append method is deprecated and will be removed from pandas in a future version. Use pandas.concat instead.\n",
      "  output_df = output_df.append(df)\n",
      "C:\\Users\\Kimbe\\AppData\\Local\\Temp/ipykernel_7100/3673173512.py:5: FutureWarning: The frame.append method is deprecated and will be removed from pandas in a future version. Use pandas.concat instead.\n",
      "  output_df = output_df.append(df)\n",
      "C:\\Users\\Kimbe\\AppData\\Local\\Temp/ipykernel_7100/3673173512.py:5: FutureWarning: The frame.append method is deprecated and will be removed from pandas in a future version. Use pandas.concat instead.\n",
      "  output_df = output_df.append(df)\n",
      "C:\\Users\\Kimbe\\AppData\\Local\\Temp/ipykernel_7100/3673173512.py:5: FutureWarning: The frame.append method is deprecated and will be removed from pandas in a future version. Use pandas.concat instead.\n",
      "  output_df = output_df.append(df)\n",
      "C:\\Users\\Kimbe\\AppData\\Local\\Temp/ipykernel_7100/3673173512.py:5: FutureWarning: The frame.append method is deprecated and will be removed from pandas in a future version. Use pandas.concat instead.\n",
      "  output_df = output_df.append(df)\n",
      "C:\\Users\\Kimbe\\AppData\\Local\\Temp/ipykernel_7100/3673173512.py:5: FutureWarning: The frame.append method is deprecated and will be removed from pandas in a future version. Use pandas.concat instead.\n",
      "  output_df = output_df.append(df)\n",
      "C:\\Users\\Kimbe\\AppData\\Local\\Temp/ipykernel_7100/3673173512.py:5: FutureWarning: The frame.append method is deprecated and will be removed from pandas in a future version. Use pandas.concat instead.\n",
      "  output_df = output_df.append(df)\n",
      "C:\\Users\\Kimbe\\AppData\\Local\\Temp/ipykernel_7100/3673173512.py:5: FutureWarning: The frame.append method is deprecated and will be removed from pandas in a future version. Use pandas.concat instead.\n",
      "  output_df = output_df.append(df)\n",
      "C:\\Users\\Kimbe\\AppData\\Local\\Temp/ipykernel_7100/3673173512.py:5: FutureWarning: The frame.append method is deprecated and will be removed from pandas in a future version. Use pandas.concat instead.\n",
      "  output_df = output_df.append(df)\n",
      "C:\\Users\\Kimbe\\AppData\\Local\\Temp/ipykernel_7100/3673173512.py:5: FutureWarning: The frame.append method is deprecated and will be removed from pandas in a future version. Use pandas.concat instead.\n",
      "  output_df = output_df.append(df)\n"
     ]
    },
    {
     "name": "stdout",
     "output_type": "stream",
     "text": [
      "Skipping row\n"
     ]
    },
    {
     "name": "stderr",
     "output_type": "stream",
     "text": [
      "C:\\Users\\Kimbe\\AppData\\Local\\Temp/ipykernel_7100/3673173512.py:5: FutureWarning: The frame.append method is deprecated and will be removed from pandas in a future version. Use pandas.concat instead.\n",
      "  output_df = output_df.append(df)\n",
      "C:\\Users\\Kimbe\\AppData\\Local\\Temp/ipykernel_7100/3673173512.py:5: FutureWarning: The frame.append method is deprecated and will be removed from pandas in a future version. Use pandas.concat instead.\n",
      "  output_df = output_df.append(df)\n",
      "C:\\Users\\Kimbe\\AppData\\Local\\Temp/ipykernel_7100/3673173512.py:5: FutureWarning: The frame.append method is deprecated and will be removed from pandas in a future version. Use pandas.concat instead.\n",
      "  output_df = output_df.append(df)\n",
      "C:\\Users\\Kimbe\\AppData\\Local\\Temp/ipykernel_7100/3673173512.py:5: FutureWarning: The frame.append method is deprecated and will be removed from pandas in a future version. Use pandas.concat instead.\n",
      "  output_df = output_df.append(df)\n",
      "C:\\Users\\Kimbe\\AppData\\Local\\Temp/ipykernel_7100/3673173512.py:5: FutureWarning: The frame.append method is deprecated and will be removed from pandas in a future version. Use pandas.concat instead.\n",
      "  output_df = output_df.append(df)\n",
      "C:\\Users\\Kimbe\\AppData\\Local\\Temp/ipykernel_7100/3673173512.py:5: FutureWarning: The frame.append method is deprecated and will be removed from pandas in a future version. Use pandas.concat instead.\n",
      "  output_df = output_df.append(df)\n",
      "C:\\Users\\Kimbe\\AppData\\Local\\Temp/ipykernel_7100/3673173512.py:5: FutureWarning: The frame.append method is deprecated and will be removed from pandas in a future version. Use pandas.concat instead.\n",
      "  output_df = output_df.append(df)\n",
      "C:\\Users\\Kimbe\\AppData\\Local\\Temp/ipykernel_7100/3673173512.py:5: FutureWarning: The frame.append method is deprecated and will be removed from pandas in a future version. Use pandas.concat instead.\n",
      "  output_df = output_df.append(df)\n",
      "C:\\Users\\Kimbe\\AppData\\Local\\Temp/ipykernel_7100/3673173512.py:5: FutureWarning: The frame.append method is deprecated and will be removed from pandas in a future version. Use pandas.concat instead.\n",
      "  output_df = output_df.append(df)\n",
      "C:\\Users\\Kimbe\\AppData\\Local\\Temp/ipykernel_7100/3673173512.py:5: FutureWarning: The frame.append method is deprecated and will be removed from pandas in a future version. Use pandas.concat instead.\n",
      "  output_df = output_df.append(df)\n"
     ]
    },
    {
     "name": "stdout",
     "output_type": "stream",
     "text": [
      "Skipping row\n"
     ]
    },
    {
     "name": "stderr",
     "output_type": "stream",
     "text": [
      "C:\\Users\\Kimbe\\AppData\\Local\\Temp/ipykernel_7100/3673173512.py:5: FutureWarning: The frame.append method is deprecated and will be removed from pandas in a future version. Use pandas.concat instead.\n",
      "  output_df = output_df.append(df)\n",
      "C:\\Users\\Kimbe\\AppData\\Local\\Temp/ipykernel_7100/3673173512.py:5: FutureWarning: The frame.append method is deprecated and will be removed from pandas in a future version. Use pandas.concat instead.\n",
      "  output_df = output_df.append(df)\n",
      "C:\\Users\\Kimbe\\AppData\\Local\\Temp/ipykernel_7100/3673173512.py:5: FutureWarning: The frame.append method is deprecated and will be removed from pandas in a future version. Use pandas.concat instead.\n",
      "  output_df = output_df.append(df)\n",
      "C:\\Users\\Kimbe\\AppData\\Local\\Temp/ipykernel_7100/3673173512.py:5: FutureWarning: The frame.append method is deprecated and will be removed from pandas in a future version. Use pandas.concat instead.\n",
      "  output_df = output_df.append(df)\n",
      "C:\\Users\\Kimbe\\AppData\\Local\\Temp/ipykernel_7100/3673173512.py:5: FutureWarning: The frame.append method is deprecated and will be removed from pandas in a future version. Use pandas.concat instead.\n",
      "  output_df = output_df.append(df)\n",
      "C:\\Users\\Kimbe\\AppData\\Local\\Temp/ipykernel_7100/3673173512.py:5: FutureWarning: The frame.append method is deprecated and will be removed from pandas in a future version. Use pandas.concat instead.\n",
      "  output_df = output_df.append(df)\n",
      "C:\\Users\\Kimbe\\AppData\\Local\\Temp/ipykernel_7100/3673173512.py:5: FutureWarning: The frame.append method is deprecated and will be removed from pandas in a future version. Use pandas.concat instead.\n",
      "  output_df = output_df.append(df)\n",
      "C:\\Users\\Kimbe\\AppData\\Local\\Temp/ipykernel_7100/3673173512.py:5: FutureWarning: The frame.append method is deprecated and will be removed from pandas in a future version. Use pandas.concat instead.\n",
      "  output_df = output_df.append(df)\n",
      "C:\\Users\\Kimbe\\AppData\\Local\\Temp/ipykernel_7100/3673173512.py:5: FutureWarning: The frame.append method is deprecated and will be removed from pandas in a future version. Use pandas.concat instead.\n",
      "  output_df = output_df.append(df)\n"
     ]
    },
    {
     "name": "stdout",
     "output_type": "stream",
     "text": [
      "Skipping row\n"
     ]
    },
    {
     "name": "stderr",
     "output_type": "stream",
     "text": [
      "C:\\Users\\Kimbe\\AppData\\Local\\Temp/ipykernel_7100/3673173512.py:5: FutureWarning: The frame.append method is deprecated and will be removed from pandas in a future version. Use pandas.concat instead.\n",
      "  output_df = output_df.append(df)\n",
      "C:\\Users\\Kimbe\\AppData\\Local\\Temp/ipykernel_7100/3673173512.py:5: FutureWarning: The frame.append method is deprecated and will be removed from pandas in a future version. Use pandas.concat instead.\n",
      "  output_df = output_df.append(df)\n",
      "C:\\Users\\Kimbe\\AppData\\Local\\Temp/ipykernel_7100/3673173512.py:5: FutureWarning: The frame.append method is deprecated and will be removed from pandas in a future version. Use pandas.concat instead.\n",
      "  output_df = output_df.append(df)\n",
      "C:\\Users\\Kimbe\\AppData\\Local\\Temp/ipykernel_7100/3673173512.py:5: FutureWarning: The frame.append method is deprecated and will be removed from pandas in a future version. Use pandas.concat instead.\n",
      "  output_df = output_df.append(df)\n",
      "C:\\Users\\Kimbe\\AppData\\Local\\Temp/ipykernel_7100/3673173512.py:5: FutureWarning: The frame.append method is deprecated and will be removed from pandas in a future version. Use pandas.concat instead.\n",
      "  output_df = output_df.append(df)\n",
      "C:\\Users\\Kimbe\\AppData\\Local\\Temp/ipykernel_7100/3673173512.py:5: FutureWarning: The frame.append method is deprecated and will be removed from pandas in a future version. Use pandas.concat instead.\n",
      "  output_df = output_df.append(df)\n",
      "C:\\Users\\Kimbe\\AppData\\Local\\Temp/ipykernel_7100/3673173512.py:5: FutureWarning: The frame.append method is deprecated and will be removed from pandas in a future version. Use pandas.concat instead.\n",
      "  output_df = output_df.append(df)\n",
      "C:\\Users\\Kimbe\\AppData\\Local\\Temp/ipykernel_7100/3673173512.py:5: FutureWarning: The frame.append method is deprecated and will be removed from pandas in a future version. Use pandas.concat instead.\n",
      "  output_df = output_df.append(df)\n",
      "C:\\Users\\Kimbe\\AppData\\Local\\Temp/ipykernel_7100/3673173512.py:5: FutureWarning: The frame.append method is deprecated and will be removed from pandas in a future version. Use pandas.concat instead.\n",
      "  output_df = output_df.append(df)\n"
     ]
    },
    {
     "name": "stdout",
     "output_type": "stream",
     "text": [
      "Skipping row\n"
     ]
    },
    {
     "name": "stderr",
     "output_type": "stream",
     "text": [
      "C:\\Users\\Kimbe\\AppData\\Local\\Temp/ipykernel_7100/3673173512.py:5: FutureWarning: The frame.append method is deprecated and will be removed from pandas in a future version. Use pandas.concat instead.\n",
      "  output_df = output_df.append(df)\n",
      "C:\\Users\\Kimbe\\AppData\\Local\\Temp/ipykernel_7100/3673173512.py:5: FutureWarning: The frame.append method is deprecated and will be removed from pandas in a future version. Use pandas.concat instead.\n",
      "  output_df = output_df.append(df)\n",
      "C:\\Users\\Kimbe\\AppData\\Local\\Temp/ipykernel_7100/3673173512.py:5: FutureWarning: The frame.append method is deprecated and will be removed from pandas in a future version. Use pandas.concat instead.\n",
      "  output_df = output_df.append(df)\n",
      "C:\\Users\\Kimbe\\AppData\\Local\\Temp/ipykernel_7100/3673173512.py:5: FutureWarning: The frame.append method is deprecated and will be removed from pandas in a future version. Use pandas.concat instead.\n",
      "  output_df = output_df.append(df)\n",
      "C:\\Users\\Kimbe\\AppData\\Local\\Temp/ipykernel_7100/3673173512.py:5: FutureWarning: The frame.append method is deprecated and will be removed from pandas in a future version. Use pandas.concat instead.\n",
      "  output_df = output_df.append(df)\n",
      "C:\\Users\\Kimbe\\AppData\\Local\\Temp/ipykernel_7100/3673173512.py:5: FutureWarning: The frame.append method is deprecated and will be removed from pandas in a future version. Use pandas.concat instead.\n",
      "  output_df = output_df.append(df)\n",
      "C:\\Users\\Kimbe\\AppData\\Local\\Temp/ipykernel_7100/3673173512.py:5: FutureWarning: The frame.append method is deprecated and will be removed from pandas in a future version. Use pandas.concat instead.\n",
      "  output_df = output_df.append(df)\n",
      "C:\\Users\\Kimbe\\AppData\\Local\\Temp/ipykernel_7100/3673173512.py:5: FutureWarning: The frame.append method is deprecated and will be removed from pandas in a future version. Use pandas.concat instead.\n",
      "  output_df = output_df.append(df)\n",
      "C:\\Users\\Kimbe\\AppData\\Local\\Temp/ipykernel_7100/3673173512.py:5: FutureWarning: The frame.append method is deprecated and will be removed from pandas in a future version. Use pandas.concat instead.\n",
      "  output_df = output_df.append(df)\n",
      "C:\\Users\\Kimbe\\AppData\\Local\\Temp/ipykernel_7100/3673173512.py:5: FutureWarning: The frame.append method is deprecated and will be removed from pandas in a future version. Use pandas.concat instead.\n",
      "  output_df = output_df.append(df)\n",
      "C:\\Users\\Kimbe\\AppData\\Local\\Temp/ipykernel_7100/3673173512.py:5: FutureWarning: The frame.append method is deprecated and will be removed from pandas in a future version. Use pandas.concat instead.\n",
      "  output_df = output_df.append(df)\n",
      "C:\\Users\\Kimbe\\AppData\\Local\\Temp/ipykernel_7100/3673173512.py:5: FutureWarning: The frame.append method is deprecated and will be removed from pandas in a future version. Use pandas.concat instead.\n",
      "  output_df = output_df.append(df)\n",
      "C:\\Users\\Kimbe\\AppData\\Local\\Temp/ipykernel_7100/3673173512.py:5: FutureWarning: The frame.append method is deprecated and will be removed from pandas in a future version. Use pandas.concat instead.\n",
      "  output_df = output_df.append(df)\n",
      "C:\\Users\\Kimbe\\AppData\\Local\\Temp/ipykernel_7100/3673173512.py:5: FutureWarning: The frame.append method is deprecated and will be removed from pandas in a future version. Use pandas.concat instead.\n",
      "  output_df = output_df.append(df)\n",
      "C:\\Users\\Kimbe\\AppData\\Local\\Temp/ipykernel_7100/3673173512.py:5: FutureWarning: The frame.append method is deprecated and will be removed from pandas in a future version. Use pandas.concat instead.\n",
      "  output_df = output_df.append(df)\n",
      "C:\\Users\\Kimbe\\AppData\\Local\\Temp/ipykernel_7100/3673173512.py:5: FutureWarning: The frame.append method is deprecated and will be removed from pandas in a future version. Use pandas.concat instead.\n",
      "  output_df = output_df.append(df)\n",
      "C:\\Users\\Kimbe\\AppData\\Local\\Temp/ipykernel_7100/3673173512.py:5: FutureWarning: The frame.append method is deprecated and will be removed from pandas in a future version. Use pandas.concat instead.\n",
      "  output_df = output_df.append(df)\n",
      "C:\\Users\\Kimbe\\AppData\\Local\\Temp/ipykernel_7100/3673173512.py:5: FutureWarning: The frame.append method is deprecated and will be removed from pandas in a future version. Use pandas.concat instead.\n",
      "  output_df = output_df.append(df)\n",
      "C:\\Users\\Kimbe\\AppData\\Local\\Temp/ipykernel_7100/3673173512.py:5: FutureWarning: The frame.append method is deprecated and will be removed from pandas in a future version. Use pandas.concat instead.\n",
      "  output_df = output_df.append(df)\n"
     ]
    },
    {
     "name": "stdout",
     "output_type": "stream",
     "text": [
      "Skipping row\n"
     ]
    },
    {
     "name": "stderr",
     "output_type": "stream",
     "text": [
      "C:\\Users\\Kimbe\\AppData\\Local\\Temp/ipykernel_7100/3673173512.py:5: FutureWarning: The frame.append method is deprecated and will be removed from pandas in a future version. Use pandas.concat instead.\n",
      "  output_df = output_df.append(df)\n",
      "C:\\Users\\Kimbe\\AppData\\Local\\Temp/ipykernel_7100/3673173512.py:5: FutureWarning: The frame.append method is deprecated and will be removed from pandas in a future version. Use pandas.concat instead.\n",
      "  output_df = output_df.append(df)\n",
      "C:\\Users\\Kimbe\\AppData\\Local\\Temp/ipykernel_7100/3673173512.py:5: FutureWarning: The frame.append method is deprecated and will be removed from pandas in a future version. Use pandas.concat instead.\n",
      "  output_df = output_df.append(df)\n",
      "C:\\Users\\Kimbe\\AppData\\Local\\Temp/ipykernel_7100/3673173512.py:5: FutureWarning: The frame.append method is deprecated and will be removed from pandas in a future version. Use pandas.concat instead.\n",
      "  output_df = output_df.append(df)\n",
      "C:\\Users\\Kimbe\\AppData\\Local\\Temp/ipykernel_7100/3673173512.py:5: FutureWarning: The frame.append method is deprecated and will be removed from pandas in a future version. Use pandas.concat instead.\n",
      "  output_df = output_df.append(df)\n",
      "C:\\Users\\Kimbe\\AppData\\Local\\Temp/ipykernel_7100/3673173512.py:5: FutureWarning: The frame.append method is deprecated and will be removed from pandas in a future version. Use pandas.concat instead.\n",
      "  output_df = output_df.append(df)\n",
      "C:\\Users\\Kimbe\\AppData\\Local\\Temp/ipykernel_7100/3673173512.py:5: FutureWarning: The frame.append method is deprecated and will be removed from pandas in a future version. Use pandas.concat instead.\n",
      "  output_df = output_df.append(df)\n",
      "C:\\Users\\Kimbe\\AppData\\Local\\Temp/ipykernel_7100/3673173512.py:5: FutureWarning: The frame.append method is deprecated and will be removed from pandas in a future version. Use pandas.concat instead.\n",
      "  output_df = output_df.append(df)\n",
      "C:\\Users\\Kimbe\\AppData\\Local\\Temp/ipykernel_7100/3673173512.py:5: FutureWarning: The frame.append method is deprecated and will be removed from pandas in a future version. Use pandas.concat instead.\n",
      "  output_df = output_df.append(df)\n",
      "C:\\Users\\Kimbe\\AppData\\Local\\Temp/ipykernel_7100/3673173512.py:5: FutureWarning: The frame.append method is deprecated and will be removed from pandas in a future version. Use pandas.concat instead.\n",
      "  output_df = output_df.append(df)\n"
     ]
    },
    {
     "name": "stdout",
     "output_type": "stream",
     "text": [
      "Skipping row\n"
     ]
    },
    {
     "name": "stderr",
     "output_type": "stream",
     "text": [
      "C:\\Users\\Kimbe\\AppData\\Local\\Temp/ipykernel_7100/3673173512.py:5: FutureWarning: The frame.append method is deprecated and will be removed from pandas in a future version. Use pandas.concat instead.\n",
      "  output_df = output_df.append(df)\n",
      "C:\\Users\\Kimbe\\AppData\\Local\\Temp/ipykernel_7100/3673173512.py:5: FutureWarning: The frame.append method is deprecated and will be removed from pandas in a future version. Use pandas.concat instead.\n",
      "  output_df = output_df.append(df)\n",
      "C:\\Users\\Kimbe\\AppData\\Local\\Temp/ipykernel_7100/3673173512.py:5: FutureWarning: The frame.append method is deprecated and will be removed from pandas in a future version. Use pandas.concat instead.\n",
      "  output_df = output_df.append(df)\n",
      "C:\\Users\\Kimbe\\AppData\\Local\\Temp/ipykernel_7100/3673173512.py:5: FutureWarning: The frame.append method is deprecated and will be removed from pandas in a future version. Use pandas.concat instead.\n",
      "  output_df = output_df.append(df)\n",
      "C:\\Users\\Kimbe\\AppData\\Local\\Temp/ipykernel_7100/3673173512.py:5: FutureWarning: The frame.append method is deprecated and will be removed from pandas in a future version. Use pandas.concat instead.\n",
      "  output_df = output_df.append(df)\n",
      "C:\\Users\\Kimbe\\AppData\\Local\\Temp/ipykernel_7100/3673173512.py:5: FutureWarning: The frame.append method is deprecated and will be removed from pandas in a future version. Use pandas.concat instead.\n",
      "  output_df = output_df.append(df)\n",
      "C:\\Users\\Kimbe\\AppData\\Local\\Temp/ipykernel_7100/3673173512.py:5: FutureWarning: The frame.append method is deprecated and will be removed from pandas in a future version. Use pandas.concat instead.\n",
      "  output_df = output_df.append(df)\n",
      "C:\\Users\\Kimbe\\AppData\\Local\\Temp/ipykernel_7100/3673173512.py:5: FutureWarning: The frame.append method is deprecated and will be removed from pandas in a future version. Use pandas.concat instead.\n",
      "  output_df = output_df.append(df)\n",
      "C:\\Users\\Kimbe\\AppData\\Local\\Temp/ipykernel_7100/3673173512.py:5: FutureWarning: The frame.append method is deprecated and will be removed from pandas in a future version. Use pandas.concat instead.\n",
      "  output_df = output_df.append(df)\n",
      "C:\\Users\\Kimbe\\AppData\\Local\\Temp/ipykernel_7100/3673173512.py:5: FutureWarning: The frame.append method is deprecated and will be removed from pandas in a future version. Use pandas.concat instead.\n",
      "  output_df = output_df.append(df)\n"
     ]
    },
    {
     "name": "stdout",
     "output_type": "stream",
     "text": [
      "Skipping row\n"
     ]
    },
    {
     "name": "stderr",
     "output_type": "stream",
     "text": [
      "C:\\Users\\Kimbe\\AppData\\Local\\Temp/ipykernel_7100/3673173512.py:5: FutureWarning: The frame.append method is deprecated and will be removed from pandas in a future version. Use pandas.concat instead.\n",
      "  output_df = output_df.append(df)\n",
      "C:\\Users\\Kimbe\\AppData\\Local\\Temp/ipykernel_7100/3673173512.py:5: FutureWarning: The frame.append method is deprecated and will be removed from pandas in a future version. Use pandas.concat instead.\n",
      "  output_df = output_df.append(df)\n",
      "C:\\Users\\Kimbe\\AppData\\Local\\Temp/ipykernel_7100/3673173512.py:5: FutureWarning: The frame.append method is deprecated and will be removed from pandas in a future version. Use pandas.concat instead.\n",
      "  output_df = output_df.append(df)\n",
      "C:\\Users\\Kimbe\\AppData\\Local\\Temp/ipykernel_7100/3673173512.py:5: FutureWarning: The frame.append method is deprecated and will be removed from pandas in a future version. Use pandas.concat instead.\n",
      "  output_df = output_df.append(df)\n",
      "C:\\Users\\Kimbe\\AppData\\Local\\Temp/ipykernel_7100/3673173512.py:5: FutureWarning: The frame.append method is deprecated and will be removed from pandas in a future version. Use pandas.concat instead.\n",
      "  output_df = output_df.append(df)\n",
      "C:\\Users\\Kimbe\\AppData\\Local\\Temp/ipykernel_7100/3673173512.py:5: FutureWarning: The frame.append method is deprecated and will be removed from pandas in a future version. Use pandas.concat instead.\n",
      "  output_df = output_df.append(df)\n",
      "C:\\Users\\Kimbe\\AppData\\Local\\Temp/ipykernel_7100/3673173512.py:5: FutureWarning: The frame.append method is deprecated and will be removed from pandas in a future version. Use pandas.concat instead.\n",
      "  output_df = output_df.append(df)\n",
      "C:\\Users\\Kimbe\\AppData\\Local\\Temp/ipykernel_7100/3673173512.py:5: FutureWarning: The frame.append method is deprecated and will be removed from pandas in a future version. Use pandas.concat instead.\n",
      "  output_df = output_df.append(df)\n",
      "C:\\Users\\Kimbe\\AppData\\Local\\Temp/ipykernel_7100/3673173512.py:5: FutureWarning: The frame.append method is deprecated and will be removed from pandas in a future version. Use pandas.concat instead.\n",
      "  output_df = output_df.append(df)\n",
      "C:\\Users\\Kimbe\\AppData\\Local\\Temp/ipykernel_7100/3673173512.py:5: FutureWarning: The frame.append method is deprecated and will be removed from pandas in a future version. Use pandas.concat instead.\n",
      "  output_df = output_df.append(df)\n",
      "C:\\Users\\Kimbe\\AppData\\Local\\Temp/ipykernel_7100/3673173512.py:5: FutureWarning: The frame.append method is deprecated and will be removed from pandas in a future version. Use pandas.concat instead.\n",
      "  output_df = output_df.append(df)\n"
     ]
    },
    {
     "name": "stdout",
     "output_type": "stream",
     "text": [
      "Skipping row\n"
     ]
    },
    {
     "name": "stderr",
     "output_type": "stream",
     "text": [
      "C:\\Users\\Kimbe\\AppData\\Local\\Temp/ipykernel_7100/3673173512.py:5: FutureWarning: The frame.append method is deprecated and will be removed from pandas in a future version. Use pandas.concat instead.\n",
      "  output_df = output_df.append(df)\n",
      "C:\\Users\\Kimbe\\AppData\\Local\\Temp/ipykernel_7100/3673173512.py:5: FutureWarning: The frame.append method is deprecated and will be removed from pandas in a future version. Use pandas.concat instead.\n",
      "  output_df = output_df.append(df)\n",
      "C:\\Users\\Kimbe\\AppData\\Local\\Temp/ipykernel_7100/3673173512.py:5: FutureWarning: The frame.append method is deprecated and will be removed from pandas in a future version. Use pandas.concat instead.\n",
      "  output_df = output_df.append(df)\n",
      "C:\\Users\\Kimbe\\AppData\\Local\\Temp/ipykernel_7100/3673173512.py:5: FutureWarning: The frame.append method is deprecated and will be removed from pandas in a future version. Use pandas.concat instead.\n",
      "  output_df = output_df.append(df)\n",
      "C:\\Users\\Kimbe\\AppData\\Local\\Temp/ipykernel_7100/3673173512.py:5: FutureWarning: The frame.append method is deprecated and will be removed from pandas in a future version. Use pandas.concat instead.\n",
      "  output_df = output_df.append(df)\n",
      "C:\\Users\\Kimbe\\AppData\\Local\\Temp/ipykernel_7100/3673173512.py:5: FutureWarning: The frame.append method is deprecated and will be removed from pandas in a future version. Use pandas.concat instead.\n",
      "  output_df = output_df.append(df)\n",
      "C:\\Users\\Kimbe\\AppData\\Local\\Temp/ipykernel_7100/3673173512.py:5: FutureWarning: The frame.append method is deprecated and will be removed from pandas in a future version. Use pandas.concat instead.\n",
      "  output_df = output_df.append(df)\n",
      "C:\\Users\\Kimbe\\AppData\\Local\\Temp/ipykernel_7100/3673173512.py:5: FutureWarning: The frame.append method is deprecated and will be removed from pandas in a future version. Use pandas.concat instead.\n",
      "  output_df = output_df.append(df)\n",
      "C:\\Users\\Kimbe\\AppData\\Local\\Temp/ipykernel_7100/3673173512.py:5: FutureWarning: The frame.append method is deprecated and will be removed from pandas in a future version. Use pandas.concat instead.\n",
      "  output_df = output_df.append(df)\n",
      "C:\\Users\\Kimbe\\AppData\\Local\\Temp/ipykernel_7100/3673173512.py:5: FutureWarning: The frame.append method is deprecated and will be removed from pandas in a future version. Use pandas.concat instead.\n",
      "  output_df = output_df.append(df)\n",
      "C:\\Users\\Kimbe\\AppData\\Local\\Temp/ipykernel_7100/3673173512.py:5: FutureWarning: The frame.append method is deprecated and will be removed from pandas in a future version. Use pandas.concat instead.\n",
      "  output_df = output_df.append(df)\n"
     ]
    },
    {
     "name": "stdout",
     "output_type": "stream",
     "text": [
      "Skipping row\n"
     ]
    },
    {
     "name": "stderr",
     "output_type": "stream",
     "text": [
      "C:\\Users\\Kimbe\\AppData\\Local\\Temp/ipykernel_7100/3673173512.py:5: FutureWarning: The frame.append method is deprecated and will be removed from pandas in a future version. Use pandas.concat instead.\n",
      "  output_df = output_df.append(df)\n",
      "C:\\Users\\Kimbe\\AppData\\Local\\Temp/ipykernel_7100/3673173512.py:5: FutureWarning: The frame.append method is deprecated and will be removed from pandas in a future version. Use pandas.concat instead.\n",
      "  output_df = output_df.append(df)\n",
      "C:\\Users\\Kimbe\\AppData\\Local\\Temp/ipykernel_7100/3673173512.py:5: FutureWarning: The frame.append method is deprecated and will be removed from pandas in a future version. Use pandas.concat instead.\n",
      "  output_df = output_df.append(df)\n",
      "C:\\Users\\Kimbe\\AppData\\Local\\Temp/ipykernel_7100/3673173512.py:5: FutureWarning: The frame.append method is deprecated and will be removed from pandas in a future version. Use pandas.concat instead.\n",
      "  output_df = output_df.append(df)\n",
      "C:\\Users\\Kimbe\\AppData\\Local\\Temp/ipykernel_7100/3673173512.py:5: FutureWarning: The frame.append method is deprecated and will be removed from pandas in a future version. Use pandas.concat instead.\n",
      "  output_df = output_df.append(df)\n",
      "C:\\Users\\Kimbe\\AppData\\Local\\Temp/ipykernel_7100/3673173512.py:5: FutureWarning: The frame.append method is deprecated and will be removed from pandas in a future version. Use pandas.concat instead.\n",
      "  output_df = output_df.append(df)\n",
      "C:\\Users\\Kimbe\\AppData\\Local\\Temp/ipykernel_7100/3673173512.py:5: FutureWarning: The frame.append method is deprecated and will be removed from pandas in a future version. Use pandas.concat instead.\n",
      "  output_df = output_df.append(df)\n",
      "C:\\Users\\Kimbe\\AppData\\Local\\Temp/ipykernel_7100/3673173512.py:5: FutureWarning: The frame.append method is deprecated and will be removed from pandas in a future version. Use pandas.concat instead.\n",
      "  output_df = output_df.append(df)\n",
      "C:\\Users\\Kimbe\\AppData\\Local\\Temp/ipykernel_7100/3673173512.py:5: FutureWarning: The frame.append method is deprecated and will be removed from pandas in a future version. Use pandas.concat instead.\n",
      "  output_df = output_df.append(df)\n",
      "C:\\Users\\Kimbe\\AppData\\Local\\Temp/ipykernel_7100/3673173512.py:5: FutureWarning: The frame.append method is deprecated and will be removed from pandas in a future version. Use pandas.concat instead.\n",
      "  output_df = output_df.append(df)\n",
      "C:\\Users\\Kimbe\\AppData\\Local\\Temp/ipykernel_7100/3673173512.py:5: FutureWarning: The frame.append method is deprecated and will be removed from pandas in a future version. Use pandas.concat instead.\n",
      "  output_df = output_df.append(df)\n"
     ]
    },
    {
     "name": "stdout",
     "output_type": "stream",
     "text": [
      "Skipping row\n"
     ]
    },
    {
     "name": "stderr",
     "output_type": "stream",
     "text": [
      "C:\\Users\\Kimbe\\AppData\\Local\\Temp/ipykernel_7100/3673173512.py:5: FutureWarning: The frame.append method is deprecated and will be removed from pandas in a future version. Use pandas.concat instead.\n",
      "  output_df = output_df.append(df)\n",
      "C:\\Users\\Kimbe\\AppData\\Local\\Temp/ipykernel_7100/3673173512.py:5: FutureWarning: The frame.append method is deprecated and will be removed from pandas in a future version. Use pandas.concat instead.\n",
      "  output_df = output_df.append(df)\n",
      "C:\\Users\\Kimbe\\AppData\\Local\\Temp/ipykernel_7100/3673173512.py:5: FutureWarning: The frame.append method is deprecated and will be removed from pandas in a future version. Use pandas.concat instead.\n",
      "  output_df = output_df.append(df)\n",
      "C:\\Users\\Kimbe\\AppData\\Local\\Temp/ipykernel_7100/3673173512.py:5: FutureWarning: The frame.append method is deprecated and will be removed from pandas in a future version. Use pandas.concat instead.\n",
      "  output_df = output_df.append(df)\n",
      "C:\\Users\\Kimbe\\AppData\\Local\\Temp/ipykernel_7100/3673173512.py:5: FutureWarning: The frame.append method is deprecated and will be removed from pandas in a future version. Use pandas.concat instead.\n",
      "  output_df = output_df.append(df)\n",
      "C:\\Users\\Kimbe\\AppData\\Local\\Temp/ipykernel_7100/3673173512.py:5: FutureWarning: The frame.append method is deprecated and will be removed from pandas in a future version. Use pandas.concat instead.\n",
      "  output_df = output_df.append(df)\n",
      "C:\\Users\\Kimbe\\AppData\\Local\\Temp/ipykernel_7100/3673173512.py:5: FutureWarning: The frame.append method is deprecated and will be removed from pandas in a future version. Use pandas.concat instead.\n",
      "  output_df = output_df.append(df)\n",
      "C:\\Users\\Kimbe\\AppData\\Local\\Temp/ipykernel_7100/3673173512.py:5: FutureWarning: The frame.append method is deprecated and will be removed from pandas in a future version. Use pandas.concat instead.\n",
      "  output_df = output_df.append(df)\n",
      "C:\\Users\\Kimbe\\AppData\\Local\\Temp/ipykernel_7100/3673173512.py:5: FutureWarning: The frame.append method is deprecated and will be removed from pandas in a future version. Use pandas.concat instead.\n",
      "  output_df = output_df.append(df)\n",
      "C:\\Users\\Kimbe\\AppData\\Local\\Temp/ipykernel_7100/3673173512.py:5: FutureWarning: The frame.append method is deprecated and will be removed from pandas in a future version. Use pandas.concat instead.\n",
      "  output_df = output_df.append(df)\n"
     ]
    },
    {
     "name": "stdout",
     "output_type": "stream",
     "text": [
      "Skipping row\n"
     ]
    },
    {
     "name": "stderr",
     "output_type": "stream",
     "text": [
      "C:\\Users\\Kimbe\\AppData\\Local\\Temp/ipykernel_7100/3673173512.py:5: FutureWarning: The frame.append method is deprecated and will be removed from pandas in a future version. Use pandas.concat instead.\n",
      "  output_df = output_df.append(df)\n",
      "C:\\Users\\Kimbe\\AppData\\Local\\Temp/ipykernel_7100/3673173512.py:5: FutureWarning: The frame.append method is deprecated and will be removed from pandas in a future version. Use pandas.concat instead.\n",
      "  output_df = output_df.append(df)\n",
      "C:\\Users\\Kimbe\\AppData\\Local\\Temp/ipykernel_7100/3673173512.py:5: FutureWarning: The frame.append method is deprecated and will be removed from pandas in a future version. Use pandas.concat instead.\n",
      "  output_df = output_df.append(df)\n",
      "C:\\Users\\Kimbe\\AppData\\Local\\Temp/ipykernel_7100/3673173512.py:5: FutureWarning: The frame.append method is deprecated and will be removed from pandas in a future version. Use pandas.concat instead.\n",
      "  output_df = output_df.append(df)\n",
      "C:\\Users\\Kimbe\\AppData\\Local\\Temp/ipykernel_7100/3673173512.py:5: FutureWarning: The frame.append method is deprecated and will be removed from pandas in a future version. Use pandas.concat instead.\n",
      "  output_df = output_df.append(df)\n",
      "C:\\Users\\Kimbe\\AppData\\Local\\Temp/ipykernel_7100/3673173512.py:5: FutureWarning: The frame.append method is deprecated and will be removed from pandas in a future version. Use pandas.concat instead.\n",
      "  output_df = output_df.append(df)\n",
      "C:\\Users\\Kimbe\\AppData\\Local\\Temp/ipykernel_7100/3673173512.py:5: FutureWarning: The frame.append method is deprecated and will be removed from pandas in a future version. Use pandas.concat instead.\n",
      "  output_df = output_df.append(df)\n",
      "C:\\Users\\Kimbe\\AppData\\Local\\Temp/ipykernel_7100/3673173512.py:5: FutureWarning: The frame.append method is deprecated and will be removed from pandas in a future version. Use pandas.concat instead.\n",
      "  output_df = output_df.append(df)\n",
      "C:\\Users\\Kimbe\\AppData\\Local\\Temp/ipykernel_7100/3673173512.py:5: FutureWarning: The frame.append method is deprecated and will be removed from pandas in a future version. Use pandas.concat instead.\n",
      "  output_df = output_df.append(df)\n"
     ]
    },
    {
     "name": "stdout",
     "output_type": "stream",
     "text": [
      "Skipping row\n"
     ]
    },
    {
     "name": "stderr",
     "output_type": "stream",
     "text": [
      "C:\\Users\\Kimbe\\AppData\\Local\\Temp/ipykernel_7100/3673173512.py:5: FutureWarning: The frame.append method is deprecated and will be removed from pandas in a future version. Use pandas.concat instead.\n",
      "  output_df = output_df.append(df)\n",
      "C:\\Users\\Kimbe\\AppData\\Local\\Temp/ipykernel_7100/3673173512.py:5: FutureWarning: The frame.append method is deprecated and will be removed from pandas in a future version. Use pandas.concat instead.\n",
      "  output_df = output_df.append(df)\n",
      "C:\\Users\\Kimbe\\AppData\\Local\\Temp/ipykernel_7100/3673173512.py:5: FutureWarning: The frame.append method is deprecated and will be removed from pandas in a future version. Use pandas.concat instead.\n",
      "  output_df = output_df.append(df)\n",
      "C:\\Users\\Kimbe\\AppData\\Local\\Temp/ipykernel_7100/3673173512.py:5: FutureWarning: The frame.append method is deprecated and will be removed from pandas in a future version. Use pandas.concat instead.\n",
      "  output_df = output_df.append(df)\n",
      "C:\\Users\\Kimbe\\AppData\\Local\\Temp/ipykernel_7100/3673173512.py:5: FutureWarning: The frame.append method is deprecated and will be removed from pandas in a future version. Use pandas.concat instead.\n",
      "  output_df = output_df.append(df)\n",
      "C:\\Users\\Kimbe\\AppData\\Local\\Temp/ipykernel_7100/3673173512.py:5: FutureWarning: The frame.append method is deprecated and will be removed from pandas in a future version. Use pandas.concat instead.\n",
      "  output_df = output_df.append(df)\n",
      "C:\\Users\\Kimbe\\AppData\\Local\\Temp/ipykernel_7100/3673173512.py:5: FutureWarning: The frame.append method is deprecated and will be removed from pandas in a future version. Use pandas.concat instead.\n",
      "  output_df = output_df.append(df)\n",
      "C:\\Users\\Kimbe\\AppData\\Local\\Temp/ipykernel_7100/3673173512.py:5: FutureWarning: The frame.append method is deprecated and will be removed from pandas in a future version. Use pandas.concat instead.\n",
      "  output_df = output_df.append(df)\n",
      "C:\\Users\\Kimbe\\AppData\\Local\\Temp/ipykernel_7100/3673173512.py:5: FutureWarning: The frame.append method is deprecated and will be removed from pandas in a future version. Use pandas.concat instead.\n",
      "  output_df = output_df.append(df)\n",
      "C:\\Users\\Kimbe\\AppData\\Local\\Temp/ipykernel_7100/3673173512.py:5: FutureWarning: The frame.append method is deprecated and will be removed from pandas in a future version. Use pandas.concat instead.\n",
      "  output_df = output_df.append(df)\n",
      "C:\\Users\\Kimbe\\AppData\\Local\\Temp/ipykernel_7100/3673173512.py:5: FutureWarning: The frame.append method is deprecated and will be removed from pandas in a future version. Use pandas.concat instead.\n",
      "  output_df = output_df.append(df)\n"
     ]
    },
    {
     "name": "stdout",
     "output_type": "stream",
     "text": [
      "Skipping row\n"
     ]
    },
    {
     "name": "stderr",
     "output_type": "stream",
     "text": [
      "C:\\Users\\Kimbe\\AppData\\Local\\Temp/ipykernel_7100/3673173512.py:5: FutureWarning: The frame.append method is deprecated and will be removed from pandas in a future version. Use pandas.concat instead.\n",
      "  output_df = output_df.append(df)\n",
      "C:\\Users\\Kimbe\\AppData\\Local\\Temp/ipykernel_7100/3673173512.py:5: FutureWarning: The frame.append method is deprecated and will be removed from pandas in a future version. Use pandas.concat instead.\n",
      "  output_df = output_df.append(df)\n",
      "C:\\Users\\Kimbe\\AppData\\Local\\Temp/ipykernel_7100/3673173512.py:5: FutureWarning: The frame.append method is deprecated and will be removed from pandas in a future version. Use pandas.concat instead.\n",
      "  output_df = output_df.append(df)\n",
      "C:\\Users\\Kimbe\\AppData\\Local\\Temp/ipykernel_7100/3673173512.py:5: FutureWarning: The frame.append method is deprecated and will be removed from pandas in a future version. Use pandas.concat instead.\n",
      "  output_df = output_df.append(df)\n",
      "C:\\Users\\Kimbe\\AppData\\Local\\Temp/ipykernel_7100/3673173512.py:5: FutureWarning: The frame.append method is deprecated and will be removed from pandas in a future version. Use pandas.concat instead.\n",
      "  output_df = output_df.append(df)\n",
      "C:\\Users\\Kimbe\\AppData\\Local\\Temp/ipykernel_7100/3673173512.py:5: FutureWarning: The frame.append method is deprecated and will be removed from pandas in a future version. Use pandas.concat instead.\n",
      "  output_df = output_df.append(df)\n",
      "C:\\Users\\Kimbe\\AppData\\Local\\Temp/ipykernel_7100/3673173512.py:5: FutureWarning: The frame.append method is deprecated and will be removed from pandas in a future version. Use pandas.concat instead.\n",
      "  output_df = output_df.append(df)\n",
      "C:\\Users\\Kimbe\\AppData\\Local\\Temp/ipykernel_7100/3673173512.py:5: FutureWarning: The frame.append method is deprecated and will be removed from pandas in a future version. Use pandas.concat instead.\n",
      "  output_df = output_df.append(df)\n",
      "C:\\Users\\Kimbe\\AppData\\Local\\Temp/ipykernel_7100/3673173512.py:5: FutureWarning: The frame.append method is deprecated and will be removed from pandas in a future version. Use pandas.concat instead.\n",
      "  output_df = output_df.append(df)\n",
      "C:\\Users\\Kimbe\\AppData\\Local\\Temp/ipykernel_7100/3673173512.py:5: FutureWarning: The frame.append method is deprecated and will be removed from pandas in a future version. Use pandas.concat instead.\n",
      "  output_df = output_df.append(df)\n",
      "C:\\Users\\Kimbe\\AppData\\Local\\Temp/ipykernel_7100/3673173512.py:5: FutureWarning: The frame.append method is deprecated and will be removed from pandas in a future version. Use pandas.concat instead.\n",
      "  output_df = output_df.append(df)\n"
     ]
    },
    {
     "name": "stdout",
     "output_type": "stream",
     "text": [
      "Skipping row\n"
     ]
    },
    {
     "name": "stderr",
     "output_type": "stream",
     "text": [
      "C:\\Users\\Kimbe\\AppData\\Local\\Temp/ipykernel_7100/3673173512.py:5: FutureWarning: The frame.append method is deprecated and will be removed from pandas in a future version. Use pandas.concat instead.\n",
      "  output_df = output_df.append(df)\n",
      "C:\\Users\\Kimbe\\AppData\\Local\\Temp/ipykernel_7100/3673173512.py:5: FutureWarning: The frame.append method is deprecated and will be removed from pandas in a future version. Use pandas.concat instead.\n",
      "  output_df = output_df.append(df)\n",
      "C:\\Users\\Kimbe\\AppData\\Local\\Temp/ipykernel_7100/3673173512.py:5: FutureWarning: The frame.append method is deprecated and will be removed from pandas in a future version. Use pandas.concat instead.\n",
      "  output_df = output_df.append(df)\n",
      "C:\\Users\\Kimbe\\AppData\\Local\\Temp/ipykernel_7100/3673173512.py:5: FutureWarning: The frame.append method is deprecated and will be removed from pandas in a future version. Use pandas.concat instead.\n",
      "  output_df = output_df.append(df)\n",
      "C:\\Users\\Kimbe\\AppData\\Local\\Temp/ipykernel_7100/3673173512.py:5: FutureWarning: The frame.append method is deprecated and will be removed from pandas in a future version. Use pandas.concat instead.\n",
      "  output_df = output_df.append(df)\n",
      "C:\\Users\\Kimbe\\AppData\\Local\\Temp/ipykernel_7100/3673173512.py:5: FutureWarning: The frame.append method is deprecated and will be removed from pandas in a future version. Use pandas.concat instead.\n",
      "  output_df = output_df.append(df)\n",
      "C:\\Users\\Kimbe\\AppData\\Local\\Temp/ipykernel_7100/3673173512.py:5: FutureWarning: The frame.append method is deprecated and will be removed from pandas in a future version. Use pandas.concat instead.\n",
      "  output_df = output_df.append(df)\n",
      "C:\\Users\\Kimbe\\AppData\\Local\\Temp/ipykernel_7100/3673173512.py:5: FutureWarning: The frame.append method is deprecated and will be removed from pandas in a future version. Use pandas.concat instead.\n",
      "  output_df = output_df.append(df)\n",
      "C:\\Users\\Kimbe\\AppData\\Local\\Temp/ipykernel_7100/3673173512.py:5: FutureWarning: The frame.append method is deprecated and will be removed from pandas in a future version. Use pandas.concat instead.\n",
      "  output_df = output_df.append(df)\n",
      "C:\\Users\\Kimbe\\AppData\\Local\\Temp/ipykernel_7100/3673173512.py:5: FutureWarning: The frame.append method is deprecated and will be removed from pandas in a future version. Use pandas.concat instead.\n",
      "  output_df = output_df.append(df)\n"
     ]
    },
    {
     "name": "stdout",
     "output_type": "stream",
     "text": [
      "Skipping row\n"
     ]
    },
    {
     "name": "stderr",
     "output_type": "stream",
     "text": [
      "C:\\Users\\Kimbe\\AppData\\Local\\Temp/ipykernel_7100/3673173512.py:5: FutureWarning: The frame.append method is deprecated and will be removed from pandas in a future version. Use pandas.concat instead.\n",
      "  output_df = output_df.append(df)\n",
      "C:\\Users\\Kimbe\\AppData\\Local\\Temp/ipykernel_7100/3673173512.py:5: FutureWarning: The frame.append method is deprecated and will be removed from pandas in a future version. Use pandas.concat instead.\n",
      "  output_df = output_df.append(df)\n",
      "C:\\Users\\Kimbe\\AppData\\Local\\Temp/ipykernel_7100/3673173512.py:5: FutureWarning: The frame.append method is deprecated and will be removed from pandas in a future version. Use pandas.concat instead.\n",
      "  output_df = output_df.append(df)\n",
      "C:\\Users\\Kimbe\\AppData\\Local\\Temp/ipykernel_7100/3673173512.py:5: FutureWarning: The frame.append method is deprecated and will be removed from pandas in a future version. Use pandas.concat instead.\n",
      "  output_df = output_df.append(df)\n",
      "C:\\Users\\Kimbe\\AppData\\Local\\Temp/ipykernel_7100/3673173512.py:5: FutureWarning: The frame.append method is deprecated and will be removed from pandas in a future version. Use pandas.concat instead.\n",
      "  output_df = output_df.append(df)\n",
      "C:\\Users\\Kimbe\\AppData\\Local\\Temp/ipykernel_7100/3673173512.py:5: FutureWarning: The frame.append method is deprecated and will be removed from pandas in a future version. Use pandas.concat instead.\n",
      "  output_df = output_df.append(df)\n",
      "C:\\Users\\Kimbe\\AppData\\Local\\Temp/ipykernel_7100/3673173512.py:5: FutureWarning: The frame.append method is deprecated and will be removed from pandas in a future version. Use pandas.concat instead.\n",
      "  output_df = output_df.append(df)\n",
      "C:\\Users\\Kimbe\\AppData\\Local\\Temp/ipykernel_7100/3673173512.py:5: FutureWarning: The frame.append method is deprecated and will be removed from pandas in a future version. Use pandas.concat instead.\n",
      "  output_df = output_df.append(df)\n",
      "C:\\Users\\Kimbe\\AppData\\Local\\Temp/ipykernel_7100/3673173512.py:5: FutureWarning: The frame.append method is deprecated and will be removed from pandas in a future version. Use pandas.concat instead.\n",
      "  output_df = output_df.append(df)\n",
      "C:\\Users\\Kimbe\\AppData\\Local\\Temp/ipykernel_7100/3673173512.py:5: FutureWarning: The frame.append method is deprecated and will be removed from pandas in a future version. Use pandas.concat instead.\n",
      "  output_df = output_df.append(df)\n"
     ]
    },
    {
     "name": "stdout",
     "output_type": "stream",
     "text": [
      "Skipping row\n"
     ]
    },
    {
     "name": "stderr",
     "output_type": "stream",
     "text": [
      "C:\\Users\\Kimbe\\AppData\\Local\\Temp/ipykernel_7100/3673173512.py:5: FutureWarning: The frame.append method is deprecated and will be removed from pandas in a future version. Use pandas.concat instead.\n",
      "  output_df = output_df.append(df)\n",
      "C:\\Users\\Kimbe\\AppData\\Local\\Temp/ipykernel_7100/3673173512.py:5: FutureWarning: The frame.append method is deprecated and will be removed from pandas in a future version. Use pandas.concat instead.\n",
      "  output_df = output_df.append(df)\n",
      "C:\\Users\\Kimbe\\AppData\\Local\\Temp/ipykernel_7100/3673173512.py:5: FutureWarning: The frame.append method is deprecated and will be removed from pandas in a future version. Use pandas.concat instead.\n",
      "  output_df = output_df.append(df)\n",
      "C:\\Users\\Kimbe\\AppData\\Local\\Temp/ipykernel_7100/3673173512.py:5: FutureWarning: The frame.append method is deprecated and will be removed from pandas in a future version. Use pandas.concat instead.\n",
      "  output_df = output_df.append(df)\n",
      "C:\\Users\\Kimbe\\AppData\\Local\\Temp/ipykernel_7100/3673173512.py:5: FutureWarning: The frame.append method is deprecated and will be removed from pandas in a future version. Use pandas.concat instead.\n",
      "  output_df = output_df.append(df)\n",
      "C:\\Users\\Kimbe\\AppData\\Local\\Temp/ipykernel_7100/3673173512.py:5: FutureWarning: The frame.append method is deprecated and will be removed from pandas in a future version. Use pandas.concat instead.\n",
      "  output_df = output_df.append(df)\n",
      "C:\\Users\\Kimbe\\AppData\\Local\\Temp/ipykernel_7100/3673173512.py:5: FutureWarning: The frame.append method is deprecated and will be removed from pandas in a future version. Use pandas.concat instead.\n",
      "  output_df = output_df.append(df)\n",
      "C:\\Users\\Kimbe\\AppData\\Local\\Temp/ipykernel_7100/3673173512.py:5: FutureWarning: The frame.append method is deprecated and will be removed from pandas in a future version. Use pandas.concat instead.\n",
      "  output_df = output_df.append(df)\n",
      "C:\\Users\\Kimbe\\AppData\\Local\\Temp/ipykernel_7100/3673173512.py:5: FutureWarning: The frame.append method is deprecated and will be removed from pandas in a future version. Use pandas.concat instead.\n",
      "  output_df = output_df.append(df)\n",
      "C:\\Users\\Kimbe\\AppData\\Local\\Temp/ipykernel_7100/3673173512.py:5: FutureWarning: The frame.append method is deprecated and will be removed from pandas in a future version. Use pandas.concat instead.\n",
      "  output_df = output_df.append(df)\n",
      "C:\\Users\\Kimbe\\AppData\\Local\\Temp/ipykernel_7100/3673173512.py:5: FutureWarning: The frame.append method is deprecated and will be removed from pandas in a future version. Use pandas.concat instead.\n",
      "  output_df = output_df.append(df)\n",
      "C:\\Users\\Kimbe\\AppData\\Local\\Temp/ipykernel_7100/3673173512.py:5: FutureWarning: The frame.append method is deprecated and will be removed from pandas in a future version. Use pandas.concat instead.\n",
      "  output_df = output_df.append(df)\n",
      "C:\\Users\\Kimbe\\AppData\\Local\\Temp/ipykernel_7100/3673173512.py:5: FutureWarning: The frame.append method is deprecated and will be removed from pandas in a future version. Use pandas.concat instead.\n",
      "  output_df = output_df.append(df)\n",
      "C:\\Users\\Kimbe\\AppData\\Local\\Temp/ipykernel_7100/3673173512.py:5: FutureWarning: The frame.append method is deprecated and will be removed from pandas in a future version. Use pandas.concat instead.\n",
      "  output_df = output_df.append(df)\n",
      "C:\\Users\\Kimbe\\AppData\\Local\\Temp/ipykernel_7100/3673173512.py:5: FutureWarning: The frame.append method is deprecated and will be removed from pandas in a future version. Use pandas.concat instead.\n",
      "  output_df = output_df.append(df)\n",
      "C:\\Users\\Kimbe\\AppData\\Local\\Temp/ipykernel_7100/3673173512.py:5: FutureWarning: The frame.append method is deprecated and will be removed from pandas in a future version. Use pandas.concat instead.\n",
      "  output_df = output_df.append(df)\n",
      "C:\\Users\\Kimbe\\AppData\\Local\\Temp/ipykernel_7100/3673173512.py:5: FutureWarning: The frame.append method is deprecated and will be removed from pandas in a future version. Use pandas.concat instead.\n",
      "  output_df = output_df.append(df)\n",
      "C:\\Users\\Kimbe\\AppData\\Local\\Temp/ipykernel_7100/3673173512.py:5: FutureWarning: The frame.append method is deprecated and will be removed from pandas in a future version. Use pandas.concat instead.\n",
      "  output_df = output_df.append(df)\n",
      "C:\\Users\\Kimbe\\AppData\\Local\\Temp/ipykernel_7100/3673173512.py:5: FutureWarning: The frame.append method is deprecated and will be removed from pandas in a future version. Use pandas.concat instead.\n",
      "  output_df = output_df.append(df)\n",
      "C:\\Users\\Kimbe\\AppData\\Local\\Temp/ipykernel_7100/3673173512.py:5: FutureWarning: The frame.append method is deprecated and will be removed from pandas in a future version. Use pandas.concat instead.\n",
      "  output_df = output_df.append(df)\n"
     ]
    },
    {
     "name": "stdout",
     "output_type": "stream",
     "text": [
      "Skipping row\n"
     ]
    },
    {
     "name": "stderr",
     "output_type": "stream",
     "text": [
      "C:\\Users\\Kimbe\\AppData\\Local\\Temp/ipykernel_7100/3673173512.py:5: FutureWarning: The frame.append method is deprecated and will be removed from pandas in a future version. Use pandas.concat instead.\n",
      "  output_df = output_df.append(df)\n",
      "C:\\Users\\Kimbe\\AppData\\Local\\Temp/ipykernel_7100/3673173512.py:5: FutureWarning: The frame.append method is deprecated and will be removed from pandas in a future version. Use pandas.concat instead.\n",
      "  output_df = output_df.append(df)\n",
      "C:\\Users\\Kimbe\\AppData\\Local\\Temp/ipykernel_7100/3673173512.py:5: FutureWarning: The frame.append method is deprecated and will be removed from pandas in a future version. Use pandas.concat instead.\n",
      "  output_df = output_df.append(df)\n",
      "C:\\Users\\Kimbe\\AppData\\Local\\Temp/ipykernel_7100/3673173512.py:5: FutureWarning: The frame.append method is deprecated and will be removed from pandas in a future version. Use pandas.concat instead.\n",
      "  output_df = output_df.append(df)\n",
      "C:\\Users\\Kimbe\\AppData\\Local\\Temp/ipykernel_7100/3673173512.py:5: FutureWarning: The frame.append method is deprecated and will be removed from pandas in a future version. Use pandas.concat instead.\n",
      "  output_df = output_df.append(df)\n",
      "C:\\Users\\Kimbe\\AppData\\Local\\Temp/ipykernel_7100/3673173512.py:5: FutureWarning: The frame.append method is deprecated and will be removed from pandas in a future version. Use pandas.concat instead.\n",
      "  output_df = output_df.append(df)\n",
      "C:\\Users\\Kimbe\\AppData\\Local\\Temp/ipykernel_7100/3673173512.py:5: FutureWarning: The frame.append method is deprecated and will be removed from pandas in a future version. Use pandas.concat instead.\n",
      "  output_df = output_df.append(df)\n",
      "C:\\Users\\Kimbe\\AppData\\Local\\Temp/ipykernel_7100/3673173512.py:5: FutureWarning: The frame.append method is deprecated and will be removed from pandas in a future version. Use pandas.concat instead.\n",
      "  output_df = output_df.append(df)\n",
      "C:\\Users\\Kimbe\\AppData\\Local\\Temp/ipykernel_7100/3673173512.py:5: FutureWarning: The frame.append method is deprecated and will be removed from pandas in a future version. Use pandas.concat instead.\n",
      "  output_df = output_df.append(df)\n",
      "C:\\Users\\Kimbe\\AppData\\Local\\Temp/ipykernel_7100/3673173512.py:5: FutureWarning: The frame.append method is deprecated and will be removed from pandas in a future version. Use pandas.concat instead.\n",
      "  output_df = output_df.append(df)\n",
      "C:\\Users\\Kimbe\\AppData\\Local\\Temp/ipykernel_7100/3673173512.py:5: FutureWarning: The frame.append method is deprecated and will be removed from pandas in a future version. Use pandas.concat instead.\n",
      "  output_df = output_df.append(df)\n"
     ]
    },
    {
     "name": "stdout",
     "output_type": "stream",
     "text": [
      "Skipping row\n"
     ]
    },
    {
     "name": "stderr",
     "output_type": "stream",
     "text": [
      "C:\\Users\\Kimbe\\AppData\\Local\\Temp/ipykernel_7100/3673173512.py:5: FutureWarning: The frame.append method is deprecated and will be removed from pandas in a future version. Use pandas.concat instead.\n",
      "  output_df = output_df.append(df)\n",
      "C:\\Users\\Kimbe\\AppData\\Local\\Temp/ipykernel_7100/3673173512.py:5: FutureWarning: The frame.append method is deprecated and will be removed from pandas in a future version. Use pandas.concat instead.\n",
      "  output_df = output_df.append(df)\n",
      "C:\\Users\\Kimbe\\AppData\\Local\\Temp/ipykernel_7100/3673173512.py:5: FutureWarning: The frame.append method is deprecated and will be removed from pandas in a future version. Use pandas.concat instead.\n",
      "  output_df = output_df.append(df)\n",
      "C:\\Users\\Kimbe\\AppData\\Local\\Temp/ipykernel_7100/3673173512.py:5: FutureWarning: The frame.append method is deprecated and will be removed from pandas in a future version. Use pandas.concat instead.\n",
      "  output_df = output_df.append(df)\n",
      "C:\\Users\\Kimbe\\AppData\\Local\\Temp/ipykernel_7100/3673173512.py:5: FutureWarning: The frame.append method is deprecated and will be removed from pandas in a future version. Use pandas.concat instead.\n",
      "  output_df = output_df.append(df)\n",
      "C:\\Users\\Kimbe\\AppData\\Local\\Temp/ipykernel_7100/3673173512.py:5: FutureWarning: The frame.append method is deprecated and will be removed from pandas in a future version. Use pandas.concat instead.\n",
      "  output_df = output_df.append(df)\n",
      "C:\\Users\\Kimbe\\AppData\\Local\\Temp/ipykernel_7100/3673173512.py:5: FutureWarning: The frame.append method is deprecated and will be removed from pandas in a future version. Use pandas.concat instead.\n",
      "  output_df = output_df.append(df)\n",
      "C:\\Users\\Kimbe\\AppData\\Local\\Temp/ipykernel_7100/3673173512.py:5: FutureWarning: The frame.append method is deprecated and will be removed from pandas in a future version. Use pandas.concat instead.\n",
      "  output_df = output_df.append(df)\n",
      "C:\\Users\\Kimbe\\AppData\\Local\\Temp/ipykernel_7100/3673173512.py:5: FutureWarning: The frame.append method is deprecated and will be removed from pandas in a future version. Use pandas.concat instead.\n",
      "  output_df = output_df.append(df)\n",
      "C:\\Users\\Kimbe\\AppData\\Local\\Temp/ipykernel_7100/3673173512.py:5: FutureWarning: The frame.append method is deprecated and will be removed from pandas in a future version. Use pandas.concat instead.\n",
      "  output_df = output_df.append(df)\n",
      "C:\\Users\\Kimbe\\AppData\\Local\\Temp/ipykernel_7100/3673173512.py:5: FutureWarning: The frame.append method is deprecated and will be removed from pandas in a future version. Use pandas.concat instead.\n",
      "  output_df = output_df.append(df)\n"
     ]
    },
    {
     "name": "stdout",
     "output_type": "stream",
     "text": [
      "Skipping row\n"
     ]
    },
    {
     "name": "stderr",
     "output_type": "stream",
     "text": [
      "C:\\Users\\Kimbe\\AppData\\Local\\Temp/ipykernel_7100/3673173512.py:5: FutureWarning: The frame.append method is deprecated and will be removed from pandas in a future version. Use pandas.concat instead.\n",
      "  output_df = output_df.append(df)\n",
      "C:\\Users\\Kimbe\\AppData\\Local\\Temp/ipykernel_7100/3673173512.py:5: FutureWarning: The frame.append method is deprecated and will be removed from pandas in a future version. Use pandas.concat instead.\n",
      "  output_df = output_df.append(df)\n",
      "C:\\Users\\Kimbe\\AppData\\Local\\Temp/ipykernel_7100/3673173512.py:5: FutureWarning: The frame.append method is deprecated and will be removed from pandas in a future version. Use pandas.concat instead.\n",
      "  output_df = output_df.append(df)\n",
      "C:\\Users\\Kimbe\\AppData\\Local\\Temp/ipykernel_7100/3673173512.py:5: FutureWarning: The frame.append method is deprecated and will be removed from pandas in a future version. Use pandas.concat instead.\n",
      "  output_df = output_df.append(df)\n",
      "C:\\Users\\Kimbe\\AppData\\Local\\Temp/ipykernel_7100/3673173512.py:5: FutureWarning: The frame.append method is deprecated and will be removed from pandas in a future version. Use pandas.concat instead.\n",
      "  output_df = output_df.append(df)\n",
      "C:\\Users\\Kimbe\\AppData\\Local\\Temp/ipykernel_7100/3673173512.py:5: FutureWarning: The frame.append method is deprecated and will be removed from pandas in a future version. Use pandas.concat instead.\n",
      "  output_df = output_df.append(df)\n",
      "C:\\Users\\Kimbe\\AppData\\Local\\Temp/ipykernel_7100/3673173512.py:5: FutureWarning: The frame.append method is deprecated and will be removed from pandas in a future version. Use pandas.concat instead.\n",
      "  output_df = output_df.append(df)\n",
      "C:\\Users\\Kimbe\\AppData\\Local\\Temp/ipykernel_7100/3673173512.py:5: FutureWarning: The frame.append method is deprecated and will be removed from pandas in a future version. Use pandas.concat instead.\n",
      "  output_df = output_df.append(df)\n",
      "C:\\Users\\Kimbe\\AppData\\Local\\Temp/ipykernel_7100/3673173512.py:5: FutureWarning: The frame.append method is deprecated and will be removed from pandas in a future version. Use pandas.concat instead.\n",
      "  output_df = output_df.append(df)\n",
      "C:\\Users\\Kimbe\\AppData\\Local\\Temp/ipykernel_7100/3673173512.py:5: FutureWarning: The frame.append method is deprecated and will be removed from pandas in a future version. Use pandas.concat instead.\n",
      "  output_df = output_df.append(df)\n"
     ]
    },
    {
     "name": "stdout",
     "output_type": "stream",
     "text": [
      "Skipping row\n"
     ]
    },
    {
     "name": "stderr",
     "output_type": "stream",
     "text": [
      "C:\\Users\\Kimbe\\AppData\\Local\\Temp/ipykernel_7100/3673173512.py:5: FutureWarning: The frame.append method is deprecated and will be removed from pandas in a future version. Use pandas.concat instead.\n",
      "  output_df = output_df.append(df)\n",
      "C:\\Users\\Kimbe\\AppData\\Local\\Temp/ipykernel_7100/3673173512.py:5: FutureWarning: The frame.append method is deprecated and will be removed from pandas in a future version. Use pandas.concat instead.\n",
      "  output_df = output_df.append(df)\n",
      "C:\\Users\\Kimbe\\AppData\\Local\\Temp/ipykernel_7100/3673173512.py:5: FutureWarning: The frame.append method is deprecated and will be removed from pandas in a future version. Use pandas.concat instead.\n",
      "  output_df = output_df.append(df)\n",
      "C:\\Users\\Kimbe\\AppData\\Local\\Temp/ipykernel_7100/3673173512.py:5: FutureWarning: The frame.append method is deprecated and will be removed from pandas in a future version. Use pandas.concat instead.\n",
      "  output_df = output_df.append(df)\n",
      "C:\\Users\\Kimbe\\AppData\\Local\\Temp/ipykernel_7100/3673173512.py:5: FutureWarning: The frame.append method is deprecated and will be removed from pandas in a future version. Use pandas.concat instead.\n",
      "  output_df = output_df.append(df)\n",
      "C:\\Users\\Kimbe\\AppData\\Local\\Temp/ipykernel_7100/3673173512.py:5: FutureWarning: The frame.append method is deprecated and will be removed from pandas in a future version. Use pandas.concat instead.\n",
      "  output_df = output_df.append(df)\n",
      "C:\\Users\\Kimbe\\AppData\\Local\\Temp/ipykernel_7100/3673173512.py:5: FutureWarning: The frame.append method is deprecated and will be removed from pandas in a future version. Use pandas.concat instead.\n",
      "  output_df = output_df.append(df)\n",
      "C:\\Users\\Kimbe\\AppData\\Local\\Temp/ipykernel_7100/3673173512.py:5: FutureWarning: The frame.append method is deprecated and will be removed from pandas in a future version. Use pandas.concat instead.\n",
      "  output_df = output_df.append(df)\n",
      "C:\\Users\\Kimbe\\AppData\\Local\\Temp/ipykernel_7100/3673173512.py:5: FutureWarning: The frame.append method is deprecated and will be removed from pandas in a future version. Use pandas.concat instead.\n",
      "  output_df = output_df.append(df)\n",
      "C:\\Users\\Kimbe\\AppData\\Local\\Temp/ipykernel_7100/3673173512.py:5: FutureWarning: The frame.append method is deprecated and will be removed from pandas in a future version. Use pandas.concat instead.\n",
      "  output_df = output_df.append(df)\n",
      "C:\\Users\\Kimbe\\AppData\\Local\\Temp/ipykernel_7100/3673173512.py:5: FutureWarning: The frame.append method is deprecated and will be removed from pandas in a future version. Use pandas.concat instead.\n",
      "  output_df = output_df.append(df)\n"
     ]
    },
    {
     "name": "stdout",
     "output_type": "stream",
     "text": [
      "Skipping row\n"
     ]
    },
    {
     "name": "stderr",
     "output_type": "stream",
     "text": [
      "C:\\Users\\Kimbe\\AppData\\Local\\Temp/ipykernel_7100/3673173512.py:5: FutureWarning: The frame.append method is deprecated and will be removed from pandas in a future version. Use pandas.concat instead.\n",
      "  output_df = output_df.append(df)\n",
      "C:\\Users\\Kimbe\\AppData\\Local\\Temp/ipykernel_7100/3673173512.py:5: FutureWarning: The frame.append method is deprecated and will be removed from pandas in a future version. Use pandas.concat instead.\n",
      "  output_df = output_df.append(df)\n",
      "C:\\Users\\Kimbe\\AppData\\Local\\Temp/ipykernel_7100/3673173512.py:5: FutureWarning: The frame.append method is deprecated and will be removed from pandas in a future version. Use pandas.concat instead.\n",
      "  output_df = output_df.append(df)\n",
      "C:\\Users\\Kimbe\\AppData\\Local\\Temp/ipykernel_7100/3673173512.py:5: FutureWarning: The frame.append method is deprecated and will be removed from pandas in a future version. Use pandas.concat instead.\n",
      "  output_df = output_df.append(df)\n",
      "C:\\Users\\Kimbe\\AppData\\Local\\Temp/ipykernel_7100/3673173512.py:5: FutureWarning: The frame.append method is deprecated and will be removed from pandas in a future version. Use pandas.concat instead.\n",
      "  output_df = output_df.append(df)\n",
      "C:\\Users\\Kimbe\\AppData\\Local\\Temp/ipykernel_7100/3673173512.py:5: FutureWarning: The frame.append method is deprecated and will be removed from pandas in a future version. Use pandas.concat instead.\n",
      "  output_df = output_df.append(df)\n",
      "C:\\Users\\Kimbe\\AppData\\Local\\Temp/ipykernel_7100/3673173512.py:5: FutureWarning: The frame.append method is deprecated and will be removed from pandas in a future version. Use pandas.concat instead.\n",
      "  output_df = output_df.append(df)\n",
      "C:\\Users\\Kimbe\\AppData\\Local\\Temp/ipykernel_7100/3673173512.py:5: FutureWarning: The frame.append method is deprecated and will be removed from pandas in a future version. Use pandas.concat instead.\n",
      "  output_df = output_df.append(df)\n",
      "C:\\Users\\Kimbe\\AppData\\Local\\Temp/ipykernel_7100/3673173512.py:5: FutureWarning: The frame.append method is deprecated and will be removed from pandas in a future version. Use pandas.concat instead.\n",
      "  output_df = output_df.append(df)\n",
      "C:\\Users\\Kimbe\\AppData\\Local\\Temp/ipykernel_7100/3673173512.py:5: FutureWarning: The frame.append method is deprecated and will be removed from pandas in a future version. Use pandas.concat instead.\n",
      "  output_df = output_df.append(df)\n",
      "C:\\Users\\Kimbe\\AppData\\Local\\Temp/ipykernel_7100/3673173512.py:5: FutureWarning: The frame.append method is deprecated and will be removed from pandas in a future version. Use pandas.concat instead.\n",
      "  output_df = output_df.append(df)\n",
      "C:\\Users\\Kimbe\\AppData\\Local\\Temp/ipykernel_7100/3673173512.py:5: FutureWarning: The frame.append method is deprecated and will be removed from pandas in a future version. Use pandas.concat instead.\n",
      "  output_df = output_df.append(df)\n"
     ]
    },
    {
     "name": "stdout",
     "output_type": "stream",
     "text": [
      "Skipping row\n"
     ]
    },
    {
     "name": "stderr",
     "output_type": "stream",
     "text": [
      "C:\\Users\\Kimbe\\AppData\\Local\\Temp/ipykernel_7100/3673173512.py:5: FutureWarning: The frame.append method is deprecated and will be removed from pandas in a future version. Use pandas.concat instead.\n",
      "  output_df = output_df.append(df)\n",
      "C:\\Users\\Kimbe\\AppData\\Local\\Temp/ipykernel_7100/3673173512.py:5: FutureWarning: The frame.append method is deprecated and will be removed from pandas in a future version. Use pandas.concat instead.\n",
      "  output_df = output_df.append(df)\n",
      "C:\\Users\\Kimbe\\AppData\\Local\\Temp/ipykernel_7100/3673173512.py:5: FutureWarning: The frame.append method is deprecated and will be removed from pandas in a future version. Use pandas.concat instead.\n",
      "  output_df = output_df.append(df)\n",
      "C:\\Users\\Kimbe\\AppData\\Local\\Temp/ipykernel_7100/3673173512.py:5: FutureWarning: The frame.append method is deprecated and will be removed from pandas in a future version. Use pandas.concat instead.\n",
      "  output_df = output_df.append(df)\n",
      "C:\\Users\\Kimbe\\AppData\\Local\\Temp/ipykernel_7100/3673173512.py:5: FutureWarning: The frame.append method is deprecated and will be removed from pandas in a future version. Use pandas.concat instead.\n",
      "  output_df = output_df.append(df)\n",
      "C:\\Users\\Kimbe\\AppData\\Local\\Temp/ipykernel_7100/3673173512.py:5: FutureWarning: The frame.append method is deprecated and will be removed from pandas in a future version. Use pandas.concat instead.\n",
      "  output_df = output_df.append(df)\n",
      "C:\\Users\\Kimbe\\AppData\\Local\\Temp/ipykernel_7100/3673173512.py:5: FutureWarning: The frame.append method is deprecated and will be removed from pandas in a future version. Use pandas.concat instead.\n",
      "  output_df = output_df.append(df)\n",
      "C:\\Users\\Kimbe\\AppData\\Local\\Temp/ipykernel_7100/3673173512.py:5: FutureWarning: The frame.append method is deprecated and will be removed from pandas in a future version. Use pandas.concat instead.\n",
      "  output_df = output_df.append(df)\n",
      "C:\\Users\\Kimbe\\AppData\\Local\\Temp/ipykernel_7100/3673173512.py:5: FutureWarning: The frame.append method is deprecated and will be removed from pandas in a future version. Use pandas.concat instead.\n",
      "  output_df = output_df.append(df)\n",
      "C:\\Users\\Kimbe\\AppData\\Local\\Temp/ipykernel_7100/3673173512.py:5: FutureWarning: The frame.append method is deprecated and will be removed from pandas in a future version. Use pandas.concat instead.\n",
      "  output_df = output_df.append(df)\n",
      "C:\\Users\\Kimbe\\AppData\\Local\\Temp/ipykernel_7100/3673173512.py:5: FutureWarning: The frame.append method is deprecated and will be removed from pandas in a future version. Use pandas.concat instead.\n",
      "  output_df = output_df.append(df)\n"
     ]
    },
    {
     "name": "stdout",
     "output_type": "stream",
     "text": [
      "Skipping row\n"
     ]
    },
    {
     "name": "stderr",
     "output_type": "stream",
     "text": [
      "C:\\Users\\Kimbe\\AppData\\Local\\Temp/ipykernel_7100/3673173512.py:5: FutureWarning: The frame.append method is deprecated and will be removed from pandas in a future version. Use pandas.concat instead.\n",
      "  output_df = output_df.append(df)\n",
      "C:\\Users\\Kimbe\\AppData\\Local\\Temp/ipykernel_7100/3673173512.py:5: FutureWarning: The frame.append method is deprecated and will be removed from pandas in a future version. Use pandas.concat instead.\n",
      "  output_df = output_df.append(df)\n",
      "C:\\Users\\Kimbe\\AppData\\Local\\Temp/ipykernel_7100/3673173512.py:5: FutureWarning: The frame.append method is deprecated and will be removed from pandas in a future version. Use pandas.concat instead.\n",
      "  output_df = output_df.append(df)\n",
      "C:\\Users\\Kimbe\\AppData\\Local\\Temp/ipykernel_7100/3673173512.py:5: FutureWarning: The frame.append method is deprecated and will be removed from pandas in a future version. Use pandas.concat instead.\n",
      "  output_df = output_df.append(df)\n",
      "C:\\Users\\Kimbe\\AppData\\Local\\Temp/ipykernel_7100/3673173512.py:5: FutureWarning: The frame.append method is deprecated and will be removed from pandas in a future version. Use pandas.concat instead.\n",
      "  output_df = output_df.append(df)\n",
      "C:\\Users\\Kimbe\\AppData\\Local\\Temp/ipykernel_7100/3673173512.py:5: FutureWarning: The frame.append method is deprecated and will be removed from pandas in a future version. Use pandas.concat instead.\n",
      "  output_df = output_df.append(df)\n",
      "C:\\Users\\Kimbe\\AppData\\Local\\Temp/ipykernel_7100/3673173512.py:5: FutureWarning: The frame.append method is deprecated and will be removed from pandas in a future version. Use pandas.concat instead.\n",
      "  output_df = output_df.append(df)\n",
      "C:\\Users\\Kimbe\\AppData\\Local\\Temp/ipykernel_7100/3673173512.py:5: FutureWarning: The frame.append method is deprecated and will be removed from pandas in a future version. Use pandas.concat instead.\n",
      "  output_df = output_df.append(df)\n",
      "C:\\Users\\Kimbe\\AppData\\Local\\Temp/ipykernel_7100/3673173512.py:5: FutureWarning: The frame.append method is deprecated and will be removed from pandas in a future version. Use pandas.concat instead.\n",
      "  output_df = output_df.append(df)\n",
      "C:\\Users\\Kimbe\\AppData\\Local\\Temp/ipykernel_7100/3673173512.py:5: FutureWarning: The frame.append method is deprecated and will be removed from pandas in a future version. Use pandas.concat instead.\n",
      "  output_df = output_df.append(df)\n",
      "C:\\Users\\Kimbe\\AppData\\Local\\Temp/ipykernel_7100/3673173512.py:5: FutureWarning: The frame.append method is deprecated and will be removed from pandas in a future version. Use pandas.concat instead.\n",
      "  output_df = output_df.append(df)\n"
     ]
    },
    {
     "name": "stdout",
     "output_type": "stream",
     "text": [
      "Skipping row\n"
     ]
    },
    {
     "name": "stderr",
     "output_type": "stream",
     "text": [
      "C:\\Users\\Kimbe\\AppData\\Local\\Temp/ipykernel_7100/3673173512.py:5: FutureWarning: The frame.append method is deprecated and will be removed from pandas in a future version. Use pandas.concat instead.\n",
      "  output_df = output_df.append(df)\n",
      "C:\\Users\\Kimbe\\AppData\\Local\\Temp/ipykernel_7100/3673173512.py:5: FutureWarning: The frame.append method is deprecated and will be removed from pandas in a future version. Use pandas.concat instead.\n",
      "  output_df = output_df.append(df)\n",
      "C:\\Users\\Kimbe\\AppData\\Local\\Temp/ipykernel_7100/3673173512.py:5: FutureWarning: The frame.append method is deprecated and will be removed from pandas in a future version. Use pandas.concat instead.\n",
      "  output_df = output_df.append(df)\n",
      "C:\\Users\\Kimbe\\AppData\\Local\\Temp/ipykernel_7100/3673173512.py:5: FutureWarning: The frame.append method is deprecated and will be removed from pandas in a future version. Use pandas.concat instead.\n",
      "  output_df = output_df.append(df)\n",
      "C:\\Users\\Kimbe\\AppData\\Local\\Temp/ipykernel_7100/3673173512.py:5: FutureWarning: The frame.append method is deprecated and will be removed from pandas in a future version. Use pandas.concat instead.\n",
      "  output_df = output_df.append(df)\n",
      "C:\\Users\\Kimbe\\AppData\\Local\\Temp/ipykernel_7100/3673173512.py:5: FutureWarning: The frame.append method is deprecated and will be removed from pandas in a future version. Use pandas.concat instead.\n",
      "  output_df = output_df.append(df)\n",
      "C:\\Users\\Kimbe\\AppData\\Local\\Temp/ipykernel_7100/3673173512.py:5: FutureWarning: The frame.append method is deprecated and will be removed from pandas in a future version. Use pandas.concat instead.\n",
      "  output_df = output_df.append(df)\n",
      "C:\\Users\\Kimbe\\AppData\\Local\\Temp/ipykernel_7100/3673173512.py:5: FutureWarning: The frame.append method is deprecated and will be removed from pandas in a future version. Use pandas.concat instead.\n",
      "  output_df = output_df.append(df)\n",
      "C:\\Users\\Kimbe\\AppData\\Local\\Temp/ipykernel_7100/3673173512.py:5: FutureWarning: The frame.append method is deprecated and will be removed from pandas in a future version. Use pandas.concat instead.\n",
      "  output_df = output_df.append(df)\n",
      "C:\\Users\\Kimbe\\AppData\\Local\\Temp/ipykernel_7100/3673173512.py:5: FutureWarning: The frame.append method is deprecated and will be removed from pandas in a future version. Use pandas.concat instead.\n",
      "  output_df = output_df.append(df)\n",
      "C:\\Users\\Kimbe\\AppData\\Local\\Temp/ipykernel_7100/3673173512.py:5: FutureWarning: The frame.append method is deprecated and will be removed from pandas in a future version. Use pandas.concat instead.\n",
      "  output_df = output_df.append(df)\n"
     ]
    },
    {
     "name": "stdout",
     "output_type": "stream",
     "text": [
      "Skipping row\n"
     ]
    },
    {
     "name": "stderr",
     "output_type": "stream",
     "text": [
      "C:\\Users\\Kimbe\\AppData\\Local\\Temp/ipykernel_7100/3673173512.py:5: FutureWarning: The frame.append method is deprecated and will be removed from pandas in a future version. Use pandas.concat instead.\n",
      "  output_df = output_df.append(df)\n",
      "C:\\Users\\Kimbe\\AppData\\Local\\Temp/ipykernel_7100/3673173512.py:5: FutureWarning: The frame.append method is deprecated and will be removed from pandas in a future version. Use pandas.concat instead.\n",
      "  output_df = output_df.append(df)\n",
      "C:\\Users\\Kimbe\\AppData\\Local\\Temp/ipykernel_7100/3673173512.py:5: FutureWarning: The frame.append method is deprecated and will be removed from pandas in a future version. Use pandas.concat instead.\n",
      "  output_df = output_df.append(df)\n",
      "C:\\Users\\Kimbe\\AppData\\Local\\Temp/ipykernel_7100/3673173512.py:5: FutureWarning: The frame.append method is deprecated and will be removed from pandas in a future version. Use pandas.concat instead.\n",
      "  output_df = output_df.append(df)\n",
      "C:\\Users\\Kimbe\\AppData\\Local\\Temp/ipykernel_7100/3673173512.py:5: FutureWarning: The frame.append method is deprecated and will be removed from pandas in a future version. Use pandas.concat instead.\n",
      "  output_df = output_df.append(df)\n",
      "C:\\Users\\Kimbe\\AppData\\Local\\Temp/ipykernel_7100/3673173512.py:5: FutureWarning: The frame.append method is deprecated and will be removed from pandas in a future version. Use pandas.concat instead.\n",
      "  output_df = output_df.append(df)\n",
      "C:\\Users\\Kimbe\\AppData\\Local\\Temp/ipykernel_7100/3673173512.py:5: FutureWarning: The frame.append method is deprecated and will be removed from pandas in a future version. Use pandas.concat instead.\n",
      "  output_df = output_df.append(df)\n",
      "C:\\Users\\Kimbe\\AppData\\Local\\Temp/ipykernel_7100/3673173512.py:5: FutureWarning: The frame.append method is deprecated and will be removed from pandas in a future version. Use pandas.concat instead.\n",
      "  output_df = output_df.append(df)\n",
      "C:\\Users\\Kimbe\\AppData\\Local\\Temp/ipykernel_7100/3673173512.py:5: FutureWarning: The frame.append method is deprecated and will be removed from pandas in a future version. Use pandas.concat instead.\n",
      "  output_df = output_df.append(df)\n",
      "C:\\Users\\Kimbe\\AppData\\Local\\Temp/ipykernel_7100/3673173512.py:5: FutureWarning: The frame.append method is deprecated and will be removed from pandas in a future version. Use pandas.concat instead.\n",
      "  output_df = output_df.append(df)\n",
      "C:\\Users\\Kimbe\\AppData\\Local\\Temp/ipykernel_7100/3673173512.py:5: FutureWarning: The frame.append method is deprecated and will be removed from pandas in a future version. Use pandas.concat instead.\n",
      "  output_df = output_df.append(df)\n"
     ]
    },
    {
     "name": "stdout",
     "output_type": "stream",
     "text": [
      "Skipping row\n"
     ]
    },
    {
     "name": "stderr",
     "output_type": "stream",
     "text": [
      "C:\\Users\\Kimbe\\AppData\\Local\\Temp/ipykernel_7100/3673173512.py:5: FutureWarning: The frame.append method is deprecated and will be removed from pandas in a future version. Use pandas.concat instead.\n",
      "  output_df = output_df.append(df)\n",
      "C:\\Users\\Kimbe\\AppData\\Local\\Temp/ipykernel_7100/3673173512.py:5: FutureWarning: The frame.append method is deprecated and will be removed from pandas in a future version. Use pandas.concat instead.\n",
      "  output_df = output_df.append(df)\n",
      "C:\\Users\\Kimbe\\AppData\\Local\\Temp/ipykernel_7100/3673173512.py:5: FutureWarning: The frame.append method is deprecated and will be removed from pandas in a future version. Use pandas.concat instead.\n",
      "  output_df = output_df.append(df)\n",
      "C:\\Users\\Kimbe\\AppData\\Local\\Temp/ipykernel_7100/3673173512.py:5: FutureWarning: The frame.append method is deprecated and will be removed from pandas in a future version. Use pandas.concat instead.\n",
      "  output_df = output_df.append(df)\n",
      "C:\\Users\\Kimbe\\AppData\\Local\\Temp/ipykernel_7100/3673173512.py:5: FutureWarning: The frame.append method is deprecated and will be removed from pandas in a future version. Use pandas.concat instead.\n",
      "  output_df = output_df.append(df)\n",
      "C:\\Users\\Kimbe\\AppData\\Local\\Temp/ipykernel_7100/3673173512.py:5: FutureWarning: The frame.append method is deprecated and will be removed from pandas in a future version. Use pandas.concat instead.\n",
      "  output_df = output_df.append(df)\n",
      "C:\\Users\\Kimbe\\AppData\\Local\\Temp/ipykernel_7100/3673173512.py:5: FutureWarning: The frame.append method is deprecated and will be removed from pandas in a future version. Use pandas.concat instead.\n",
      "  output_df = output_df.append(df)\n",
      "C:\\Users\\Kimbe\\AppData\\Local\\Temp/ipykernel_7100/3673173512.py:5: FutureWarning: The frame.append method is deprecated and will be removed from pandas in a future version. Use pandas.concat instead.\n",
      "  output_df = output_df.append(df)\n",
      "C:\\Users\\Kimbe\\AppData\\Local\\Temp/ipykernel_7100/3673173512.py:5: FutureWarning: The frame.append method is deprecated and will be removed from pandas in a future version. Use pandas.concat instead.\n",
      "  output_df = output_df.append(df)\n",
      "C:\\Users\\Kimbe\\AppData\\Local\\Temp/ipykernel_7100/3673173512.py:5: FutureWarning: The frame.append method is deprecated and will be removed from pandas in a future version. Use pandas.concat instead.\n",
      "  output_df = output_df.append(df)\n"
     ]
    },
    {
     "name": "stdout",
     "output_type": "stream",
     "text": [
      "Skipping row\n"
     ]
    },
    {
     "name": "stderr",
     "output_type": "stream",
     "text": [
      "C:\\Users\\Kimbe\\AppData\\Local\\Temp/ipykernel_7100/3673173512.py:5: FutureWarning: The frame.append method is deprecated and will be removed from pandas in a future version. Use pandas.concat instead.\n",
      "  output_df = output_df.append(df)\n",
      "C:\\Users\\Kimbe\\AppData\\Local\\Temp/ipykernel_7100/3673173512.py:5: FutureWarning: The frame.append method is deprecated and will be removed from pandas in a future version. Use pandas.concat instead.\n",
      "  output_df = output_df.append(df)\n",
      "C:\\Users\\Kimbe\\AppData\\Local\\Temp/ipykernel_7100/3673173512.py:5: FutureWarning: The frame.append method is deprecated and will be removed from pandas in a future version. Use pandas.concat instead.\n",
      "  output_df = output_df.append(df)\n",
      "C:\\Users\\Kimbe\\AppData\\Local\\Temp/ipykernel_7100/3673173512.py:5: FutureWarning: The frame.append method is deprecated and will be removed from pandas in a future version. Use pandas.concat instead.\n",
      "  output_df = output_df.append(df)\n",
      "C:\\Users\\Kimbe\\AppData\\Local\\Temp/ipykernel_7100/3673173512.py:5: FutureWarning: The frame.append method is deprecated and will be removed from pandas in a future version. Use pandas.concat instead.\n",
      "  output_df = output_df.append(df)\n",
      "C:\\Users\\Kimbe\\AppData\\Local\\Temp/ipykernel_7100/3673173512.py:5: FutureWarning: The frame.append method is deprecated and will be removed from pandas in a future version. Use pandas.concat instead.\n",
      "  output_df = output_df.append(df)\n",
      "C:\\Users\\Kimbe\\AppData\\Local\\Temp/ipykernel_7100/3673173512.py:5: FutureWarning: The frame.append method is deprecated and will be removed from pandas in a future version. Use pandas.concat instead.\n",
      "  output_df = output_df.append(df)\n",
      "C:\\Users\\Kimbe\\AppData\\Local\\Temp/ipykernel_7100/3673173512.py:5: FutureWarning: The frame.append method is deprecated and will be removed from pandas in a future version. Use pandas.concat instead.\n",
      "  output_df = output_df.append(df)\n",
      "C:\\Users\\Kimbe\\AppData\\Local\\Temp/ipykernel_7100/3673173512.py:5: FutureWarning: The frame.append method is deprecated and will be removed from pandas in a future version. Use pandas.concat instead.\n",
      "  output_df = output_df.append(df)\n",
      "C:\\Users\\Kimbe\\AppData\\Local\\Temp/ipykernel_7100/3673173512.py:5: FutureWarning: The frame.append method is deprecated and will be removed from pandas in a future version. Use pandas.concat instead.\n",
      "  output_df = output_df.append(df)\n",
      "C:\\Users\\Kimbe\\AppData\\Local\\Temp/ipykernel_7100/3673173512.py:5: FutureWarning: The frame.append method is deprecated and will be removed from pandas in a future version. Use pandas.concat instead.\n",
      "  output_df = output_df.append(df)\n"
     ]
    },
    {
     "name": "stdout",
     "output_type": "stream",
     "text": [
      "Skipping row\n"
     ]
    },
    {
     "name": "stderr",
     "output_type": "stream",
     "text": [
      "C:\\Users\\Kimbe\\AppData\\Local\\Temp/ipykernel_7100/3673173512.py:5: FutureWarning: The frame.append method is deprecated and will be removed from pandas in a future version. Use pandas.concat instead.\n",
      "  output_df = output_df.append(df)\n",
      "C:\\Users\\Kimbe\\AppData\\Local\\Temp/ipykernel_7100/3673173512.py:5: FutureWarning: The frame.append method is deprecated and will be removed from pandas in a future version. Use pandas.concat instead.\n",
      "  output_df = output_df.append(df)\n",
      "C:\\Users\\Kimbe\\AppData\\Local\\Temp/ipykernel_7100/3673173512.py:5: FutureWarning: The frame.append method is deprecated and will be removed from pandas in a future version. Use pandas.concat instead.\n",
      "  output_df = output_df.append(df)\n",
      "C:\\Users\\Kimbe\\AppData\\Local\\Temp/ipykernel_7100/3673173512.py:5: FutureWarning: The frame.append method is deprecated and will be removed from pandas in a future version. Use pandas.concat instead.\n",
      "  output_df = output_df.append(df)\n",
      "C:\\Users\\Kimbe\\AppData\\Local\\Temp/ipykernel_7100/3673173512.py:5: FutureWarning: The frame.append method is deprecated and will be removed from pandas in a future version. Use pandas.concat instead.\n",
      "  output_df = output_df.append(df)\n",
      "C:\\Users\\Kimbe\\AppData\\Local\\Temp/ipykernel_7100/3673173512.py:5: FutureWarning: The frame.append method is deprecated and will be removed from pandas in a future version. Use pandas.concat instead.\n",
      "  output_df = output_df.append(df)\n",
      "C:\\Users\\Kimbe\\AppData\\Local\\Temp/ipykernel_7100/3673173512.py:5: FutureWarning: The frame.append method is deprecated and will be removed from pandas in a future version. Use pandas.concat instead.\n",
      "  output_df = output_df.append(df)\n",
      "C:\\Users\\Kimbe\\AppData\\Local\\Temp/ipykernel_7100/3673173512.py:5: FutureWarning: The frame.append method is deprecated and will be removed from pandas in a future version. Use pandas.concat instead.\n",
      "  output_df = output_df.append(df)\n",
      "C:\\Users\\Kimbe\\AppData\\Local\\Temp/ipykernel_7100/3673173512.py:5: FutureWarning: The frame.append method is deprecated and will be removed from pandas in a future version. Use pandas.concat instead.\n",
      "  output_df = output_df.append(df)\n",
      "C:\\Users\\Kimbe\\AppData\\Local\\Temp/ipykernel_7100/3673173512.py:5: FutureWarning: The frame.append method is deprecated and will be removed from pandas in a future version. Use pandas.concat instead.\n",
      "  output_df = output_df.append(df)\n",
      "C:\\Users\\Kimbe\\AppData\\Local\\Temp/ipykernel_7100/3673173512.py:5: FutureWarning: The frame.append method is deprecated and will be removed from pandas in a future version. Use pandas.concat instead.\n",
      "  output_df = output_df.append(df)\n"
     ]
    },
    {
     "name": "stdout",
     "output_type": "stream",
     "text": [
      "Skipping row\n"
     ]
    },
    {
     "name": "stderr",
     "output_type": "stream",
     "text": [
      "C:\\Users\\Kimbe\\AppData\\Local\\Temp/ipykernel_7100/3673173512.py:5: FutureWarning: The frame.append method is deprecated and will be removed from pandas in a future version. Use pandas.concat instead.\n",
      "  output_df = output_df.append(df)\n",
      "C:\\Users\\Kimbe\\AppData\\Local\\Temp/ipykernel_7100/3673173512.py:5: FutureWarning: The frame.append method is deprecated and will be removed from pandas in a future version. Use pandas.concat instead.\n",
      "  output_df = output_df.append(df)\n",
      "C:\\Users\\Kimbe\\AppData\\Local\\Temp/ipykernel_7100/3673173512.py:5: FutureWarning: The frame.append method is deprecated and will be removed from pandas in a future version. Use pandas.concat instead.\n",
      "  output_df = output_df.append(df)\n",
      "C:\\Users\\Kimbe\\AppData\\Local\\Temp/ipykernel_7100/3673173512.py:5: FutureWarning: The frame.append method is deprecated and will be removed from pandas in a future version. Use pandas.concat instead.\n",
      "  output_df = output_df.append(df)\n",
      "C:\\Users\\Kimbe\\AppData\\Local\\Temp/ipykernel_7100/3673173512.py:5: FutureWarning: The frame.append method is deprecated and will be removed from pandas in a future version. Use pandas.concat instead.\n",
      "  output_df = output_df.append(df)\n",
      "C:\\Users\\Kimbe\\AppData\\Local\\Temp/ipykernel_7100/3673173512.py:5: FutureWarning: The frame.append method is deprecated and will be removed from pandas in a future version. Use pandas.concat instead.\n",
      "  output_df = output_df.append(df)\n",
      "C:\\Users\\Kimbe\\AppData\\Local\\Temp/ipykernel_7100/3673173512.py:5: FutureWarning: The frame.append method is deprecated and will be removed from pandas in a future version. Use pandas.concat instead.\n",
      "  output_df = output_df.append(df)\n",
      "C:\\Users\\Kimbe\\AppData\\Local\\Temp/ipykernel_7100/3673173512.py:5: FutureWarning: The frame.append method is deprecated and will be removed from pandas in a future version. Use pandas.concat instead.\n",
      "  output_df = output_df.append(df)\n",
      "C:\\Users\\Kimbe\\AppData\\Local\\Temp/ipykernel_7100/3673173512.py:5: FutureWarning: The frame.append method is deprecated and will be removed from pandas in a future version. Use pandas.concat instead.\n",
      "  output_df = output_df.append(df)\n",
      "C:\\Users\\Kimbe\\AppData\\Local\\Temp/ipykernel_7100/3673173512.py:5: FutureWarning: The frame.append method is deprecated and will be removed from pandas in a future version. Use pandas.concat instead.\n",
      "  output_df = output_df.append(df)\n",
      "C:\\Users\\Kimbe\\AppData\\Local\\Temp/ipykernel_7100/3673173512.py:5: FutureWarning: The frame.append method is deprecated and will be removed from pandas in a future version. Use pandas.concat instead.\n",
      "  output_df = output_df.append(df)\n"
     ]
    },
    {
     "name": "stdout",
     "output_type": "stream",
     "text": [
      "Skipping row\n"
     ]
    },
    {
     "name": "stderr",
     "output_type": "stream",
     "text": [
      "C:\\Users\\Kimbe\\AppData\\Local\\Temp/ipykernel_7100/3673173512.py:5: FutureWarning: The frame.append method is deprecated and will be removed from pandas in a future version. Use pandas.concat instead.\n",
      "  output_df = output_df.append(df)\n",
      "C:\\Users\\Kimbe\\AppData\\Local\\Temp/ipykernel_7100/3673173512.py:5: FutureWarning: The frame.append method is deprecated and will be removed from pandas in a future version. Use pandas.concat instead.\n",
      "  output_df = output_df.append(df)\n",
      "C:\\Users\\Kimbe\\AppData\\Local\\Temp/ipykernel_7100/3673173512.py:5: FutureWarning: The frame.append method is deprecated and will be removed from pandas in a future version. Use pandas.concat instead.\n",
      "  output_df = output_df.append(df)\n",
      "C:\\Users\\Kimbe\\AppData\\Local\\Temp/ipykernel_7100/3673173512.py:5: FutureWarning: The frame.append method is deprecated and will be removed from pandas in a future version. Use pandas.concat instead.\n",
      "  output_df = output_df.append(df)\n",
      "C:\\Users\\Kimbe\\AppData\\Local\\Temp/ipykernel_7100/3673173512.py:5: FutureWarning: The frame.append method is deprecated and will be removed from pandas in a future version. Use pandas.concat instead.\n",
      "  output_df = output_df.append(df)\n",
      "C:\\Users\\Kimbe\\AppData\\Local\\Temp/ipykernel_7100/3673173512.py:5: FutureWarning: The frame.append method is deprecated and will be removed from pandas in a future version. Use pandas.concat instead.\n",
      "  output_df = output_df.append(df)\n",
      "C:\\Users\\Kimbe\\AppData\\Local\\Temp/ipykernel_7100/3673173512.py:5: FutureWarning: The frame.append method is deprecated and will be removed from pandas in a future version. Use pandas.concat instead.\n",
      "  output_df = output_df.append(df)\n",
      "C:\\Users\\Kimbe\\AppData\\Local\\Temp/ipykernel_7100/3673173512.py:5: FutureWarning: The frame.append method is deprecated and will be removed from pandas in a future version. Use pandas.concat instead.\n",
      "  output_df = output_df.append(df)\n",
      "C:\\Users\\Kimbe\\AppData\\Local\\Temp/ipykernel_7100/3673173512.py:5: FutureWarning: The frame.append method is deprecated and will be removed from pandas in a future version. Use pandas.concat instead.\n",
      "  output_df = output_df.append(df)\n",
      "C:\\Users\\Kimbe\\AppData\\Local\\Temp/ipykernel_7100/3673173512.py:5: FutureWarning: The frame.append method is deprecated and will be removed from pandas in a future version. Use pandas.concat instead.\n",
      "  output_df = output_df.append(df)\n",
      "C:\\Users\\Kimbe\\AppData\\Local\\Temp/ipykernel_7100/3673173512.py:5: FutureWarning: The frame.append method is deprecated and will be removed from pandas in a future version. Use pandas.concat instead.\n",
      "  output_df = output_df.append(df)\n"
     ]
    },
    {
     "name": "stdout",
     "output_type": "stream",
     "text": [
      "Skipping row\n"
     ]
    },
    {
     "name": "stderr",
     "output_type": "stream",
     "text": [
      "C:\\Users\\Kimbe\\AppData\\Local\\Temp/ipykernel_7100/3673173512.py:5: FutureWarning: The frame.append method is deprecated and will be removed from pandas in a future version. Use pandas.concat instead.\n",
      "  output_df = output_df.append(df)\n",
      "C:\\Users\\Kimbe\\AppData\\Local\\Temp/ipykernel_7100/3673173512.py:5: FutureWarning: The frame.append method is deprecated and will be removed from pandas in a future version. Use pandas.concat instead.\n",
      "  output_df = output_df.append(df)\n",
      "C:\\Users\\Kimbe\\AppData\\Local\\Temp/ipykernel_7100/3673173512.py:5: FutureWarning: The frame.append method is deprecated and will be removed from pandas in a future version. Use pandas.concat instead.\n",
      "  output_df = output_df.append(df)\n",
      "C:\\Users\\Kimbe\\AppData\\Local\\Temp/ipykernel_7100/3673173512.py:5: FutureWarning: The frame.append method is deprecated and will be removed from pandas in a future version. Use pandas.concat instead.\n",
      "  output_df = output_df.append(df)\n",
      "C:\\Users\\Kimbe\\AppData\\Local\\Temp/ipykernel_7100/3673173512.py:5: FutureWarning: The frame.append method is deprecated and will be removed from pandas in a future version. Use pandas.concat instead.\n",
      "  output_df = output_df.append(df)\n",
      "C:\\Users\\Kimbe\\AppData\\Local\\Temp/ipykernel_7100/3673173512.py:5: FutureWarning: The frame.append method is deprecated and will be removed from pandas in a future version. Use pandas.concat instead.\n",
      "  output_df = output_df.append(df)\n",
      "C:\\Users\\Kimbe\\AppData\\Local\\Temp/ipykernel_7100/3673173512.py:5: FutureWarning: The frame.append method is deprecated and will be removed from pandas in a future version. Use pandas.concat instead.\n",
      "  output_df = output_df.append(df)\n",
      "C:\\Users\\Kimbe\\AppData\\Local\\Temp/ipykernel_7100/3673173512.py:5: FutureWarning: The frame.append method is deprecated and will be removed from pandas in a future version. Use pandas.concat instead.\n",
      "  output_df = output_df.append(df)\n",
      "C:\\Users\\Kimbe\\AppData\\Local\\Temp/ipykernel_7100/3673173512.py:5: FutureWarning: The frame.append method is deprecated and will be removed from pandas in a future version. Use pandas.concat instead.\n",
      "  output_df = output_df.append(df)\n",
      "C:\\Users\\Kimbe\\AppData\\Local\\Temp/ipykernel_7100/3673173512.py:5: FutureWarning: The frame.append method is deprecated and will be removed from pandas in a future version. Use pandas.concat instead.\n",
      "  output_df = output_df.append(df)\n",
      "C:\\Users\\Kimbe\\AppData\\Local\\Temp/ipykernel_7100/3673173512.py:5: FutureWarning: The frame.append method is deprecated and will be removed from pandas in a future version. Use pandas.concat instead.\n",
      "  output_df = output_df.append(df)\n"
     ]
    },
    {
     "name": "stdout",
     "output_type": "stream",
     "text": [
      "Skipping row\n"
     ]
    },
    {
     "name": "stderr",
     "output_type": "stream",
     "text": [
      "C:\\Users\\Kimbe\\AppData\\Local\\Temp/ipykernel_7100/3673173512.py:5: FutureWarning: The frame.append method is deprecated and will be removed from pandas in a future version. Use pandas.concat instead.\n",
      "  output_df = output_df.append(df)\n",
      "C:\\Users\\Kimbe\\AppData\\Local\\Temp/ipykernel_7100/3673173512.py:5: FutureWarning: The frame.append method is deprecated and will be removed from pandas in a future version. Use pandas.concat instead.\n",
      "  output_df = output_df.append(df)\n",
      "C:\\Users\\Kimbe\\AppData\\Local\\Temp/ipykernel_7100/3673173512.py:5: FutureWarning: The frame.append method is deprecated and will be removed from pandas in a future version. Use pandas.concat instead.\n",
      "  output_df = output_df.append(df)\n",
      "C:\\Users\\Kimbe\\AppData\\Local\\Temp/ipykernel_7100/3673173512.py:5: FutureWarning: The frame.append method is deprecated and will be removed from pandas in a future version. Use pandas.concat instead.\n",
      "  output_df = output_df.append(df)\n",
      "C:\\Users\\Kimbe\\AppData\\Local\\Temp/ipykernel_7100/3673173512.py:5: FutureWarning: The frame.append method is deprecated and will be removed from pandas in a future version. Use pandas.concat instead.\n",
      "  output_df = output_df.append(df)\n",
      "C:\\Users\\Kimbe\\AppData\\Local\\Temp/ipykernel_7100/3673173512.py:5: FutureWarning: The frame.append method is deprecated and will be removed from pandas in a future version. Use pandas.concat instead.\n",
      "  output_df = output_df.append(df)\n",
      "C:\\Users\\Kimbe\\AppData\\Local\\Temp/ipykernel_7100/3673173512.py:5: FutureWarning: The frame.append method is deprecated and will be removed from pandas in a future version. Use pandas.concat instead.\n",
      "  output_df = output_df.append(df)\n",
      "C:\\Users\\Kimbe\\AppData\\Local\\Temp/ipykernel_7100/3673173512.py:5: FutureWarning: The frame.append method is deprecated and will be removed from pandas in a future version. Use pandas.concat instead.\n",
      "  output_df = output_df.append(df)\n",
      "C:\\Users\\Kimbe\\AppData\\Local\\Temp/ipykernel_7100/3673173512.py:5: FutureWarning: The frame.append method is deprecated and will be removed from pandas in a future version. Use pandas.concat instead.\n",
      "  output_df = output_df.append(df)\n",
      "C:\\Users\\Kimbe\\AppData\\Local\\Temp/ipykernel_7100/3673173512.py:5: FutureWarning: The frame.append method is deprecated and will be removed from pandas in a future version. Use pandas.concat instead.\n",
      "  output_df = output_df.append(df)\n",
      "C:\\Users\\Kimbe\\AppData\\Local\\Temp/ipykernel_7100/3673173512.py:5: FutureWarning: The frame.append method is deprecated and will be removed from pandas in a future version. Use pandas.concat instead.\n",
      "  output_df = output_df.append(df)\n"
     ]
    },
    {
     "name": "stdout",
     "output_type": "stream",
     "text": [
      "Skipping row\n"
     ]
    },
    {
     "name": "stderr",
     "output_type": "stream",
     "text": [
      "C:\\Users\\Kimbe\\AppData\\Local\\Temp/ipykernel_7100/3673173512.py:5: FutureWarning: The frame.append method is deprecated and will be removed from pandas in a future version. Use pandas.concat instead.\n",
      "  output_df = output_df.append(df)\n",
      "C:\\Users\\Kimbe\\AppData\\Local\\Temp/ipykernel_7100/3673173512.py:5: FutureWarning: The frame.append method is deprecated and will be removed from pandas in a future version. Use pandas.concat instead.\n",
      "  output_df = output_df.append(df)\n",
      "C:\\Users\\Kimbe\\AppData\\Local\\Temp/ipykernel_7100/3673173512.py:5: FutureWarning: The frame.append method is deprecated and will be removed from pandas in a future version. Use pandas.concat instead.\n",
      "  output_df = output_df.append(df)\n",
      "C:\\Users\\Kimbe\\AppData\\Local\\Temp/ipykernel_7100/3673173512.py:5: FutureWarning: The frame.append method is deprecated and will be removed from pandas in a future version. Use pandas.concat instead.\n",
      "  output_df = output_df.append(df)\n",
      "C:\\Users\\Kimbe\\AppData\\Local\\Temp/ipykernel_7100/3673173512.py:5: FutureWarning: The frame.append method is deprecated and will be removed from pandas in a future version. Use pandas.concat instead.\n",
      "  output_df = output_df.append(df)\n",
      "C:\\Users\\Kimbe\\AppData\\Local\\Temp/ipykernel_7100/3673173512.py:5: FutureWarning: The frame.append method is deprecated and will be removed from pandas in a future version. Use pandas.concat instead.\n",
      "  output_df = output_df.append(df)\n",
      "C:\\Users\\Kimbe\\AppData\\Local\\Temp/ipykernel_7100/3673173512.py:5: FutureWarning: The frame.append method is deprecated and will be removed from pandas in a future version. Use pandas.concat instead.\n",
      "  output_df = output_df.append(df)\n",
      "C:\\Users\\Kimbe\\AppData\\Local\\Temp/ipykernel_7100/3673173512.py:5: FutureWarning: The frame.append method is deprecated and will be removed from pandas in a future version. Use pandas.concat instead.\n",
      "  output_df = output_df.append(df)\n",
      "C:\\Users\\Kimbe\\AppData\\Local\\Temp/ipykernel_7100/3673173512.py:5: FutureWarning: The frame.append method is deprecated and will be removed from pandas in a future version. Use pandas.concat instead.\n",
      "  output_df = output_df.append(df)\n",
      "C:\\Users\\Kimbe\\AppData\\Local\\Temp/ipykernel_7100/3673173512.py:5: FutureWarning: The frame.append method is deprecated and will be removed from pandas in a future version. Use pandas.concat instead.\n",
      "  output_df = output_df.append(df)\n",
      "C:\\Users\\Kimbe\\AppData\\Local\\Temp/ipykernel_7100/3673173512.py:5: FutureWarning: The frame.append method is deprecated and will be removed from pandas in a future version. Use pandas.concat instead.\n",
      "  output_df = output_df.append(df)\n"
     ]
    },
    {
     "name": "stdout",
     "output_type": "stream",
     "text": [
      "Skipping row\n"
     ]
    },
    {
     "name": "stderr",
     "output_type": "stream",
     "text": [
      "C:\\Users\\Kimbe\\AppData\\Local\\Temp/ipykernel_7100/3673173512.py:5: FutureWarning: The frame.append method is deprecated and will be removed from pandas in a future version. Use pandas.concat instead.\n",
      "  output_df = output_df.append(df)\n",
      "C:\\Users\\Kimbe\\AppData\\Local\\Temp/ipykernel_7100/3673173512.py:5: FutureWarning: The frame.append method is deprecated and will be removed from pandas in a future version. Use pandas.concat instead.\n",
      "  output_df = output_df.append(df)\n",
      "C:\\Users\\Kimbe\\AppData\\Local\\Temp/ipykernel_7100/3673173512.py:5: FutureWarning: The frame.append method is deprecated and will be removed from pandas in a future version. Use pandas.concat instead.\n",
      "  output_df = output_df.append(df)\n",
      "C:\\Users\\Kimbe\\AppData\\Local\\Temp/ipykernel_7100/3673173512.py:5: FutureWarning: The frame.append method is deprecated and will be removed from pandas in a future version. Use pandas.concat instead.\n",
      "  output_df = output_df.append(df)\n",
      "C:\\Users\\Kimbe\\AppData\\Local\\Temp/ipykernel_7100/3673173512.py:5: FutureWarning: The frame.append method is deprecated and will be removed from pandas in a future version. Use pandas.concat instead.\n",
      "  output_df = output_df.append(df)\n",
      "C:\\Users\\Kimbe\\AppData\\Local\\Temp/ipykernel_7100/3673173512.py:5: FutureWarning: The frame.append method is deprecated and will be removed from pandas in a future version. Use pandas.concat instead.\n",
      "  output_df = output_df.append(df)\n",
      "C:\\Users\\Kimbe\\AppData\\Local\\Temp/ipykernel_7100/3673173512.py:5: FutureWarning: The frame.append method is deprecated and will be removed from pandas in a future version. Use pandas.concat instead.\n",
      "  output_df = output_df.append(df)\n",
      "C:\\Users\\Kimbe\\AppData\\Local\\Temp/ipykernel_7100/3673173512.py:5: FutureWarning: The frame.append method is deprecated and will be removed from pandas in a future version. Use pandas.concat instead.\n",
      "  output_df = output_df.append(df)\n",
      "C:\\Users\\Kimbe\\AppData\\Local\\Temp/ipykernel_7100/3673173512.py:5: FutureWarning: The frame.append method is deprecated and will be removed from pandas in a future version. Use pandas.concat instead.\n",
      "  output_df = output_df.append(df)\n",
      "C:\\Users\\Kimbe\\AppData\\Local\\Temp/ipykernel_7100/3673173512.py:5: FutureWarning: The frame.append method is deprecated and will be removed from pandas in a future version. Use pandas.concat instead.\n",
      "  output_df = output_df.append(df)\n",
      "C:\\Users\\Kimbe\\AppData\\Local\\Temp/ipykernel_7100/3673173512.py:5: FutureWarning: The frame.append method is deprecated and will be removed from pandas in a future version. Use pandas.concat instead.\n",
      "  output_df = output_df.append(df)\n"
     ]
    },
    {
     "name": "stdout",
     "output_type": "stream",
     "text": [
      "Skipping row\n"
     ]
    },
    {
     "name": "stderr",
     "output_type": "stream",
     "text": [
      "C:\\Users\\Kimbe\\AppData\\Local\\Temp/ipykernel_7100/3673173512.py:5: FutureWarning: The frame.append method is deprecated and will be removed from pandas in a future version. Use pandas.concat instead.\n",
      "  output_df = output_df.append(df)\n",
      "C:\\Users\\Kimbe\\AppData\\Local\\Temp/ipykernel_7100/3673173512.py:5: FutureWarning: The frame.append method is deprecated and will be removed from pandas in a future version. Use pandas.concat instead.\n",
      "  output_df = output_df.append(df)\n",
      "C:\\Users\\Kimbe\\AppData\\Local\\Temp/ipykernel_7100/3673173512.py:5: FutureWarning: The frame.append method is deprecated and will be removed from pandas in a future version. Use pandas.concat instead.\n",
      "  output_df = output_df.append(df)\n",
      "C:\\Users\\Kimbe\\AppData\\Local\\Temp/ipykernel_7100/3673173512.py:5: FutureWarning: The frame.append method is deprecated and will be removed from pandas in a future version. Use pandas.concat instead.\n",
      "  output_df = output_df.append(df)\n",
      "C:\\Users\\Kimbe\\AppData\\Local\\Temp/ipykernel_7100/3673173512.py:5: FutureWarning: The frame.append method is deprecated and will be removed from pandas in a future version. Use pandas.concat instead.\n",
      "  output_df = output_df.append(df)\n",
      "C:\\Users\\Kimbe\\AppData\\Local\\Temp/ipykernel_7100/3673173512.py:5: FutureWarning: The frame.append method is deprecated and will be removed from pandas in a future version. Use pandas.concat instead.\n",
      "  output_df = output_df.append(df)\n",
      "C:\\Users\\Kimbe\\AppData\\Local\\Temp/ipykernel_7100/3673173512.py:5: FutureWarning: The frame.append method is deprecated and will be removed from pandas in a future version. Use pandas.concat instead.\n",
      "  output_df = output_df.append(df)\n",
      "C:\\Users\\Kimbe\\AppData\\Local\\Temp/ipykernel_7100/3673173512.py:5: FutureWarning: The frame.append method is deprecated and will be removed from pandas in a future version. Use pandas.concat instead.\n",
      "  output_df = output_df.append(df)\n",
      "C:\\Users\\Kimbe\\AppData\\Local\\Temp/ipykernel_7100/3673173512.py:5: FutureWarning: The frame.append method is deprecated and will be removed from pandas in a future version. Use pandas.concat instead.\n",
      "  output_df = output_df.append(df)\n",
      "C:\\Users\\Kimbe\\AppData\\Local\\Temp/ipykernel_7100/3673173512.py:5: FutureWarning: The frame.append method is deprecated and will be removed from pandas in a future version. Use pandas.concat instead.\n",
      "  output_df = output_df.append(df)\n",
      "C:\\Users\\Kimbe\\AppData\\Local\\Temp/ipykernel_7100/3673173512.py:5: FutureWarning: The frame.append method is deprecated and will be removed from pandas in a future version. Use pandas.concat instead.\n",
      "  output_df = output_df.append(df)\n"
     ]
    },
    {
     "name": "stdout",
     "output_type": "stream",
     "text": [
      "Skipping row\n"
     ]
    },
    {
     "name": "stderr",
     "output_type": "stream",
     "text": [
      "C:\\Users\\Kimbe\\AppData\\Local\\Temp/ipykernel_7100/3673173512.py:5: FutureWarning: The frame.append method is deprecated and will be removed from pandas in a future version. Use pandas.concat instead.\n",
      "  output_df = output_df.append(df)\n",
      "C:\\Users\\Kimbe\\AppData\\Local\\Temp/ipykernel_7100/3673173512.py:5: FutureWarning: The frame.append method is deprecated and will be removed from pandas in a future version. Use pandas.concat instead.\n",
      "  output_df = output_df.append(df)\n",
      "C:\\Users\\Kimbe\\AppData\\Local\\Temp/ipykernel_7100/3673173512.py:5: FutureWarning: The frame.append method is deprecated and will be removed from pandas in a future version. Use pandas.concat instead.\n",
      "  output_df = output_df.append(df)\n",
      "C:\\Users\\Kimbe\\AppData\\Local\\Temp/ipykernel_7100/3673173512.py:5: FutureWarning: The frame.append method is deprecated and will be removed from pandas in a future version. Use pandas.concat instead.\n",
      "  output_df = output_df.append(df)\n",
      "C:\\Users\\Kimbe\\AppData\\Local\\Temp/ipykernel_7100/3673173512.py:5: FutureWarning: The frame.append method is deprecated and will be removed from pandas in a future version. Use pandas.concat instead.\n",
      "  output_df = output_df.append(df)\n",
      "C:\\Users\\Kimbe\\AppData\\Local\\Temp/ipykernel_7100/3673173512.py:5: FutureWarning: The frame.append method is deprecated and will be removed from pandas in a future version. Use pandas.concat instead.\n",
      "  output_df = output_df.append(df)\n",
      "C:\\Users\\Kimbe\\AppData\\Local\\Temp/ipykernel_7100/3673173512.py:5: FutureWarning: The frame.append method is deprecated and will be removed from pandas in a future version. Use pandas.concat instead.\n",
      "  output_df = output_df.append(df)\n",
      "C:\\Users\\Kimbe\\AppData\\Local\\Temp/ipykernel_7100/3673173512.py:5: FutureWarning: The frame.append method is deprecated and will be removed from pandas in a future version. Use pandas.concat instead.\n",
      "  output_df = output_df.append(df)\n",
      "C:\\Users\\Kimbe\\AppData\\Local\\Temp/ipykernel_7100/3673173512.py:5: FutureWarning: The frame.append method is deprecated and will be removed from pandas in a future version. Use pandas.concat instead.\n",
      "  output_df = output_df.append(df)\n",
      "C:\\Users\\Kimbe\\AppData\\Local\\Temp/ipykernel_7100/3673173512.py:5: FutureWarning: The frame.append method is deprecated and will be removed from pandas in a future version. Use pandas.concat instead.\n",
      "  output_df = output_df.append(df)\n"
     ]
    },
    {
     "name": "stdout",
     "output_type": "stream",
     "text": [
      "Skipping row\n"
     ]
    },
    {
     "name": "stderr",
     "output_type": "stream",
     "text": [
      "C:\\Users\\Kimbe\\AppData\\Local\\Temp/ipykernel_7100/3673173512.py:5: FutureWarning: The frame.append method is deprecated and will be removed from pandas in a future version. Use pandas.concat instead.\n",
      "  output_df = output_df.append(df)\n",
      "C:\\Users\\Kimbe\\AppData\\Local\\Temp/ipykernel_7100/3673173512.py:5: FutureWarning: The frame.append method is deprecated and will be removed from pandas in a future version. Use pandas.concat instead.\n",
      "  output_df = output_df.append(df)\n",
      "C:\\Users\\Kimbe\\AppData\\Local\\Temp/ipykernel_7100/3673173512.py:5: FutureWarning: The frame.append method is deprecated and will be removed from pandas in a future version. Use pandas.concat instead.\n",
      "  output_df = output_df.append(df)\n",
      "C:\\Users\\Kimbe\\AppData\\Local\\Temp/ipykernel_7100/3673173512.py:5: FutureWarning: The frame.append method is deprecated and will be removed from pandas in a future version. Use pandas.concat instead.\n",
      "  output_df = output_df.append(df)\n",
      "C:\\Users\\Kimbe\\AppData\\Local\\Temp/ipykernel_7100/3673173512.py:5: FutureWarning: The frame.append method is deprecated and will be removed from pandas in a future version. Use pandas.concat instead.\n",
      "  output_df = output_df.append(df)\n",
      "C:\\Users\\Kimbe\\AppData\\Local\\Temp/ipykernel_7100/3673173512.py:5: FutureWarning: The frame.append method is deprecated and will be removed from pandas in a future version. Use pandas.concat instead.\n",
      "  output_df = output_df.append(df)\n",
      "C:\\Users\\Kimbe\\AppData\\Local\\Temp/ipykernel_7100/3673173512.py:5: FutureWarning: The frame.append method is deprecated and will be removed from pandas in a future version. Use pandas.concat instead.\n",
      "  output_df = output_df.append(df)\n",
      "C:\\Users\\Kimbe\\AppData\\Local\\Temp/ipykernel_7100/3673173512.py:5: FutureWarning: The frame.append method is deprecated and will be removed from pandas in a future version. Use pandas.concat instead.\n",
      "  output_df = output_df.append(df)\n",
      "C:\\Users\\Kimbe\\AppData\\Local\\Temp/ipykernel_7100/3673173512.py:5: FutureWarning: The frame.append method is deprecated and will be removed from pandas in a future version. Use pandas.concat instead.\n",
      "  output_df = output_df.append(df)\n",
      "C:\\Users\\Kimbe\\AppData\\Local\\Temp/ipykernel_7100/3673173512.py:5: FutureWarning: The frame.append method is deprecated and will be removed from pandas in a future version. Use pandas.concat instead.\n",
      "  output_df = output_df.append(df)\n"
     ]
    },
    {
     "name": "stdout",
     "output_type": "stream",
     "text": [
      "Skipping row\n"
     ]
    },
    {
     "name": "stderr",
     "output_type": "stream",
     "text": [
      "C:\\Users\\Kimbe\\AppData\\Local\\Temp/ipykernel_7100/3673173512.py:5: FutureWarning: The frame.append method is deprecated and will be removed from pandas in a future version. Use pandas.concat instead.\n",
      "  output_df = output_df.append(df)\n",
      "C:\\Users\\Kimbe\\AppData\\Local\\Temp/ipykernel_7100/3673173512.py:5: FutureWarning: The frame.append method is deprecated and will be removed from pandas in a future version. Use pandas.concat instead.\n",
      "  output_df = output_df.append(df)\n",
      "C:\\Users\\Kimbe\\AppData\\Local\\Temp/ipykernel_7100/3673173512.py:5: FutureWarning: The frame.append method is deprecated and will be removed from pandas in a future version. Use pandas.concat instead.\n",
      "  output_df = output_df.append(df)\n",
      "C:\\Users\\Kimbe\\AppData\\Local\\Temp/ipykernel_7100/3673173512.py:5: FutureWarning: The frame.append method is deprecated and will be removed from pandas in a future version. Use pandas.concat instead.\n",
      "  output_df = output_df.append(df)\n",
      "C:\\Users\\Kimbe\\AppData\\Local\\Temp/ipykernel_7100/3673173512.py:5: FutureWarning: The frame.append method is deprecated and will be removed from pandas in a future version. Use pandas.concat instead.\n",
      "  output_df = output_df.append(df)\n",
      "C:\\Users\\Kimbe\\AppData\\Local\\Temp/ipykernel_7100/3673173512.py:5: FutureWarning: The frame.append method is deprecated and will be removed from pandas in a future version. Use pandas.concat instead.\n",
      "  output_df = output_df.append(df)\n",
      "C:\\Users\\Kimbe\\AppData\\Local\\Temp/ipykernel_7100/3673173512.py:5: FutureWarning: The frame.append method is deprecated and will be removed from pandas in a future version. Use pandas.concat instead.\n",
      "  output_df = output_df.append(df)\n",
      "C:\\Users\\Kimbe\\AppData\\Local\\Temp/ipykernel_7100/3673173512.py:5: FutureWarning: The frame.append method is deprecated and will be removed from pandas in a future version. Use pandas.concat instead.\n",
      "  output_df = output_df.append(df)\n",
      "C:\\Users\\Kimbe\\AppData\\Local\\Temp/ipykernel_7100/3673173512.py:5: FutureWarning: The frame.append method is deprecated and will be removed from pandas in a future version. Use pandas.concat instead.\n",
      "  output_df = output_df.append(df)\n",
      "C:\\Users\\Kimbe\\AppData\\Local\\Temp/ipykernel_7100/3673173512.py:5: FutureWarning: The frame.append method is deprecated and will be removed from pandas in a future version. Use pandas.concat instead.\n",
      "  output_df = output_df.append(df)\n",
      "C:\\Users\\Kimbe\\AppData\\Local\\Temp/ipykernel_7100/3673173512.py:5: FutureWarning: The frame.append method is deprecated and will be removed from pandas in a future version. Use pandas.concat instead.\n",
      "  output_df = output_df.append(df)\n"
     ]
    },
    {
     "name": "stdout",
     "output_type": "stream",
     "text": [
      "Skipping row\n"
     ]
    },
    {
     "name": "stderr",
     "output_type": "stream",
     "text": [
      "C:\\Users\\Kimbe\\AppData\\Local\\Temp/ipykernel_7100/3673173512.py:5: FutureWarning: The frame.append method is deprecated and will be removed from pandas in a future version. Use pandas.concat instead.\n",
      "  output_df = output_df.append(df)\n",
      "C:\\Users\\Kimbe\\AppData\\Local\\Temp/ipykernel_7100/3673173512.py:5: FutureWarning: The frame.append method is deprecated and will be removed from pandas in a future version. Use pandas.concat instead.\n",
      "  output_df = output_df.append(df)\n",
      "C:\\Users\\Kimbe\\AppData\\Local\\Temp/ipykernel_7100/3673173512.py:5: FutureWarning: The frame.append method is deprecated and will be removed from pandas in a future version. Use pandas.concat instead.\n",
      "  output_df = output_df.append(df)\n",
      "C:\\Users\\Kimbe\\AppData\\Local\\Temp/ipykernel_7100/3673173512.py:5: FutureWarning: The frame.append method is deprecated and will be removed from pandas in a future version. Use pandas.concat instead.\n",
      "  output_df = output_df.append(df)\n",
      "C:\\Users\\Kimbe\\AppData\\Local\\Temp/ipykernel_7100/3673173512.py:5: FutureWarning: The frame.append method is deprecated and will be removed from pandas in a future version. Use pandas.concat instead.\n",
      "  output_df = output_df.append(df)\n",
      "C:\\Users\\Kimbe\\AppData\\Local\\Temp/ipykernel_7100/3673173512.py:5: FutureWarning: The frame.append method is deprecated and will be removed from pandas in a future version. Use pandas.concat instead.\n",
      "  output_df = output_df.append(df)\n",
      "C:\\Users\\Kimbe\\AppData\\Local\\Temp/ipykernel_7100/3673173512.py:5: FutureWarning: The frame.append method is deprecated and will be removed from pandas in a future version. Use pandas.concat instead.\n",
      "  output_df = output_df.append(df)\n",
      "C:\\Users\\Kimbe\\AppData\\Local\\Temp/ipykernel_7100/3673173512.py:5: FutureWarning: The frame.append method is deprecated and will be removed from pandas in a future version. Use pandas.concat instead.\n",
      "  output_df = output_df.append(df)\n",
      "C:\\Users\\Kimbe\\AppData\\Local\\Temp/ipykernel_7100/3673173512.py:5: FutureWarning: The frame.append method is deprecated and will be removed from pandas in a future version. Use pandas.concat instead.\n",
      "  output_df = output_df.append(df)\n",
      "C:\\Users\\Kimbe\\AppData\\Local\\Temp/ipykernel_7100/3673173512.py:5: FutureWarning: The frame.append method is deprecated and will be removed from pandas in a future version. Use pandas.concat instead.\n",
      "  output_df = output_df.append(df)\n",
      "C:\\Users\\Kimbe\\AppData\\Local\\Temp/ipykernel_7100/3673173512.py:5: FutureWarning: The frame.append method is deprecated and will be removed from pandas in a future version. Use pandas.concat instead.\n",
      "  output_df = output_df.append(df)\n"
     ]
    },
    {
     "name": "stdout",
     "output_type": "stream",
     "text": [
      "Skipping row\n"
     ]
    },
    {
     "name": "stderr",
     "output_type": "stream",
     "text": [
      "C:\\Users\\Kimbe\\AppData\\Local\\Temp/ipykernel_7100/3673173512.py:5: FutureWarning: The frame.append method is deprecated and will be removed from pandas in a future version. Use pandas.concat instead.\n",
      "  output_df = output_df.append(df)\n",
      "C:\\Users\\Kimbe\\AppData\\Local\\Temp/ipykernel_7100/3673173512.py:5: FutureWarning: The frame.append method is deprecated and will be removed from pandas in a future version. Use pandas.concat instead.\n",
      "  output_df = output_df.append(df)\n",
      "C:\\Users\\Kimbe\\AppData\\Local\\Temp/ipykernel_7100/3673173512.py:5: FutureWarning: The frame.append method is deprecated and will be removed from pandas in a future version. Use pandas.concat instead.\n",
      "  output_df = output_df.append(df)\n",
      "C:\\Users\\Kimbe\\AppData\\Local\\Temp/ipykernel_7100/3673173512.py:5: FutureWarning: The frame.append method is deprecated and will be removed from pandas in a future version. Use pandas.concat instead.\n",
      "  output_df = output_df.append(df)\n",
      "C:\\Users\\Kimbe\\AppData\\Local\\Temp/ipykernel_7100/3673173512.py:5: FutureWarning: The frame.append method is deprecated and will be removed from pandas in a future version. Use pandas.concat instead.\n",
      "  output_df = output_df.append(df)\n",
      "C:\\Users\\Kimbe\\AppData\\Local\\Temp/ipykernel_7100/3673173512.py:5: FutureWarning: The frame.append method is deprecated and will be removed from pandas in a future version. Use pandas.concat instead.\n",
      "  output_df = output_df.append(df)\n",
      "C:\\Users\\Kimbe\\AppData\\Local\\Temp/ipykernel_7100/3673173512.py:5: FutureWarning: The frame.append method is deprecated and will be removed from pandas in a future version. Use pandas.concat instead.\n",
      "  output_df = output_df.append(df)\n",
      "C:\\Users\\Kimbe\\AppData\\Local\\Temp/ipykernel_7100/3673173512.py:5: FutureWarning: The frame.append method is deprecated and will be removed from pandas in a future version. Use pandas.concat instead.\n",
      "  output_df = output_df.append(df)\n",
      "C:\\Users\\Kimbe\\AppData\\Local\\Temp/ipykernel_7100/3673173512.py:5: FutureWarning: The frame.append method is deprecated and will be removed from pandas in a future version. Use pandas.concat instead.\n",
      "  output_df = output_df.append(df)\n",
      "C:\\Users\\Kimbe\\AppData\\Local\\Temp/ipykernel_7100/3673173512.py:5: FutureWarning: The frame.append method is deprecated and will be removed from pandas in a future version. Use pandas.concat instead.\n",
      "  output_df = output_df.append(df)\n",
      "C:\\Users\\Kimbe\\AppData\\Local\\Temp/ipykernel_7100/3673173512.py:5: FutureWarning: The frame.append method is deprecated and will be removed from pandas in a future version. Use pandas.concat instead.\n",
      "  output_df = output_df.append(df)\n"
     ]
    },
    {
     "name": "stdout",
     "output_type": "stream",
     "text": [
      "Skipping row\n"
     ]
    },
    {
     "name": "stderr",
     "output_type": "stream",
     "text": [
      "C:\\Users\\Kimbe\\AppData\\Local\\Temp/ipykernel_7100/3673173512.py:5: FutureWarning: The frame.append method is deprecated and will be removed from pandas in a future version. Use pandas.concat instead.\n",
      "  output_df = output_df.append(df)\n",
      "C:\\Users\\Kimbe\\AppData\\Local\\Temp/ipykernel_7100/3673173512.py:5: FutureWarning: The frame.append method is deprecated and will be removed from pandas in a future version. Use pandas.concat instead.\n",
      "  output_df = output_df.append(df)\n",
      "C:\\Users\\Kimbe\\AppData\\Local\\Temp/ipykernel_7100/3673173512.py:5: FutureWarning: The frame.append method is deprecated and will be removed from pandas in a future version. Use pandas.concat instead.\n",
      "  output_df = output_df.append(df)\n",
      "C:\\Users\\Kimbe\\AppData\\Local\\Temp/ipykernel_7100/3673173512.py:5: FutureWarning: The frame.append method is deprecated and will be removed from pandas in a future version. Use pandas.concat instead.\n",
      "  output_df = output_df.append(df)\n",
      "C:\\Users\\Kimbe\\AppData\\Local\\Temp/ipykernel_7100/3673173512.py:5: FutureWarning: The frame.append method is deprecated and will be removed from pandas in a future version. Use pandas.concat instead.\n",
      "  output_df = output_df.append(df)\n",
      "C:\\Users\\Kimbe\\AppData\\Local\\Temp/ipykernel_7100/3673173512.py:5: FutureWarning: The frame.append method is deprecated and will be removed from pandas in a future version. Use pandas.concat instead.\n",
      "  output_df = output_df.append(df)\n",
      "C:\\Users\\Kimbe\\AppData\\Local\\Temp/ipykernel_7100/3673173512.py:5: FutureWarning: The frame.append method is deprecated and will be removed from pandas in a future version. Use pandas.concat instead.\n",
      "  output_df = output_df.append(df)\n",
      "C:\\Users\\Kimbe\\AppData\\Local\\Temp/ipykernel_7100/3673173512.py:5: FutureWarning: The frame.append method is deprecated and will be removed from pandas in a future version. Use pandas.concat instead.\n",
      "  output_df = output_df.append(df)\n",
      "C:\\Users\\Kimbe\\AppData\\Local\\Temp/ipykernel_7100/3673173512.py:5: FutureWarning: The frame.append method is deprecated and will be removed from pandas in a future version. Use pandas.concat instead.\n",
      "  output_df = output_df.append(df)\n",
      "C:\\Users\\Kimbe\\AppData\\Local\\Temp/ipykernel_7100/3673173512.py:5: FutureWarning: The frame.append method is deprecated and will be removed from pandas in a future version. Use pandas.concat instead.\n",
      "  output_df = output_df.append(df)\n",
      "C:\\Users\\Kimbe\\AppData\\Local\\Temp/ipykernel_7100/3673173512.py:5: FutureWarning: The frame.append method is deprecated and will be removed from pandas in a future version. Use pandas.concat instead.\n",
      "  output_df = output_df.append(df)\n"
     ]
    },
    {
     "name": "stdout",
     "output_type": "stream",
     "text": [
      "Skipping row\n"
     ]
    },
    {
     "name": "stderr",
     "output_type": "stream",
     "text": [
      "C:\\Users\\Kimbe\\AppData\\Local\\Temp/ipykernel_7100/3673173512.py:5: FutureWarning: The frame.append method is deprecated and will be removed from pandas in a future version. Use pandas.concat instead.\n",
      "  output_df = output_df.append(df)\n",
      "C:\\Users\\Kimbe\\AppData\\Local\\Temp/ipykernel_7100/3673173512.py:5: FutureWarning: The frame.append method is deprecated and will be removed from pandas in a future version. Use pandas.concat instead.\n",
      "  output_df = output_df.append(df)\n",
      "C:\\Users\\Kimbe\\AppData\\Local\\Temp/ipykernel_7100/3673173512.py:5: FutureWarning: The frame.append method is deprecated and will be removed from pandas in a future version. Use pandas.concat instead.\n",
      "  output_df = output_df.append(df)\n",
      "C:\\Users\\Kimbe\\AppData\\Local\\Temp/ipykernel_7100/3673173512.py:5: FutureWarning: The frame.append method is deprecated and will be removed from pandas in a future version. Use pandas.concat instead.\n",
      "  output_df = output_df.append(df)\n",
      "C:\\Users\\Kimbe\\AppData\\Local\\Temp/ipykernel_7100/3673173512.py:5: FutureWarning: The frame.append method is deprecated and will be removed from pandas in a future version. Use pandas.concat instead.\n",
      "  output_df = output_df.append(df)\n",
      "C:\\Users\\Kimbe\\AppData\\Local\\Temp/ipykernel_7100/3673173512.py:5: FutureWarning: The frame.append method is deprecated and will be removed from pandas in a future version. Use pandas.concat instead.\n",
      "  output_df = output_df.append(df)\n",
      "C:\\Users\\Kimbe\\AppData\\Local\\Temp/ipykernel_7100/3673173512.py:5: FutureWarning: The frame.append method is deprecated and will be removed from pandas in a future version. Use pandas.concat instead.\n",
      "  output_df = output_df.append(df)\n",
      "C:\\Users\\Kimbe\\AppData\\Local\\Temp/ipykernel_7100/3673173512.py:5: FutureWarning: The frame.append method is deprecated and will be removed from pandas in a future version. Use pandas.concat instead.\n",
      "  output_df = output_df.append(df)\n",
      "C:\\Users\\Kimbe\\AppData\\Local\\Temp/ipykernel_7100/3673173512.py:5: FutureWarning: The frame.append method is deprecated and will be removed from pandas in a future version. Use pandas.concat instead.\n",
      "  output_df = output_df.append(df)\n",
      "C:\\Users\\Kimbe\\AppData\\Local\\Temp/ipykernel_7100/3673173512.py:5: FutureWarning: The frame.append method is deprecated and will be removed from pandas in a future version. Use pandas.concat instead.\n",
      "  output_df = output_df.append(df)\n",
      "C:\\Users\\Kimbe\\AppData\\Local\\Temp/ipykernel_7100/3673173512.py:5: FutureWarning: The frame.append method is deprecated and will be removed from pandas in a future version. Use pandas.concat instead.\n",
      "  output_df = output_df.append(df)\n"
     ]
    },
    {
     "name": "stdout",
     "output_type": "stream",
     "text": [
      "Skipping row\n"
     ]
    },
    {
     "name": "stderr",
     "output_type": "stream",
     "text": [
      "C:\\Users\\Kimbe\\AppData\\Local\\Temp/ipykernel_7100/3673173512.py:5: FutureWarning: The frame.append method is deprecated and will be removed from pandas in a future version. Use pandas.concat instead.\n",
      "  output_df = output_df.append(df)\n",
      "C:\\Users\\Kimbe\\AppData\\Local\\Temp/ipykernel_7100/3673173512.py:5: FutureWarning: The frame.append method is deprecated and will be removed from pandas in a future version. Use pandas.concat instead.\n",
      "  output_df = output_df.append(df)\n",
      "C:\\Users\\Kimbe\\AppData\\Local\\Temp/ipykernel_7100/3673173512.py:5: FutureWarning: The frame.append method is deprecated and will be removed from pandas in a future version. Use pandas.concat instead.\n",
      "  output_df = output_df.append(df)\n",
      "C:\\Users\\Kimbe\\AppData\\Local\\Temp/ipykernel_7100/3673173512.py:5: FutureWarning: The frame.append method is deprecated and will be removed from pandas in a future version. Use pandas.concat instead.\n",
      "  output_df = output_df.append(df)\n",
      "C:\\Users\\Kimbe\\AppData\\Local\\Temp/ipykernel_7100/3673173512.py:5: FutureWarning: The frame.append method is deprecated and will be removed from pandas in a future version. Use pandas.concat instead.\n",
      "  output_df = output_df.append(df)\n",
      "C:\\Users\\Kimbe\\AppData\\Local\\Temp/ipykernel_7100/3673173512.py:5: FutureWarning: The frame.append method is deprecated and will be removed from pandas in a future version. Use pandas.concat instead.\n",
      "  output_df = output_df.append(df)\n",
      "C:\\Users\\Kimbe\\AppData\\Local\\Temp/ipykernel_7100/3673173512.py:5: FutureWarning: The frame.append method is deprecated and will be removed from pandas in a future version. Use pandas.concat instead.\n",
      "  output_df = output_df.append(df)\n",
      "C:\\Users\\Kimbe\\AppData\\Local\\Temp/ipykernel_7100/3673173512.py:5: FutureWarning: The frame.append method is deprecated and will be removed from pandas in a future version. Use pandas.concat instead.\n",
      "  output_df = output_df.append(df)\n",
      "C:\\Users\\Kimbe\\AppData\\Local\\Temp/ipykernel_7100/3673173512.py:5: FutureWarning: The frame.append method is deprecated and will be removed from pandas in a future version. Use pandas.concat instead.\n",
      "  output_df = output_df.append(df)\n",
      "C:\\Users\\Kimbe\\AppData\\Local\\Temp/ipykernel_7100/3673173512.py:5: FutureWarning: The frame.append method is deprecated and will be removed from pandas in a future version. Use pandas.concat instead.\n",
      "  output_df = output_df.append(df)\n"
     ]
    },
    {
     "name": "stdout",
     "output_type": "stream",
     "text": [
      "Skipping row\n"
     ]
    },
    {
     "name": "stderr",
     "output_type": "stream",
     "text": [
      "C:\\Users\\Kimbe\\AppData\\Local\\Temp/ipykernel_7100/3673173512.py:5: FutureWarning: The frame.append method is deprecated and will be removed from pandas in a future version. Use pandas.concat instead.\n",
      "  output_df = output_df.append(df)\n",
      "C:\\Users\\Kimbe\\AppData\\Local\\Temp/ipykernel_7100/3673173512.py:5: FutureWarning: The frame.append method is deprecated and will be removed from pandas in a future version. Use pandas.concat instead.\n",
      "  output_df = output_df.append(df)\n",
      "C:\\Users\\Kimbe\\AppData\\Local\\Temp/ipykernel_7100/3673173512.py:5: FutureWarning: The frame.append method is deprecated and will be removed from pandas in a future version. Use pandas.concat instead.\n",
      "  output_df = output_df.append(df)\n",
      "C:\\Users\\Kimbe\\AppData\\Local\\Temp/ipykernel_7100/3673173512.py:5: FutureWarning: The frame.append method is deprecated and will be removed from pandas in a future version. Use pandas.concat instead.\n",
      "  output_df = output_df.append(df)\n",
      "C:\\Users\\Kimbe\\AppData\\Local\\Temp/ipykernel_7100/3673173512.py:5: FutureWarning: The frame.append method is deprecated and will be removed from pandas in a future version. Use pandas.concat instead.\n",
      "  output_df = output_df.append(df)\n",
      "C:\\Users\\Kimbe\\AppData\\Local\\Temp/ipykernel_7100/3673173512.py:5: FutureWarning: The frame.append method is deprecated and will be removed from pandas in a future version. Use pandas.concat instead.\n",
      "  output_df = output_df.append(df)\n",
      "C:\\Users\\Kimbe\\AppData\\Local\\Temp/ipykernel_7100/3673173512.py:5: FutureWarning: The frame.append method is deprecated and will be removed from pandas in a future version. Use pandas.concat instead.\n",
      "  output_df = output_df.append(df)\n",
      "C:\\Users\\Kimbe\\AppData\\Local\\Temp/ipykernel_7100/3673173512.py:5: FutureWarning: The frame.append method is deprecated and will be removed from pandas in a future version. Use pandas.concat instead.\n",
      "  output_df = output_df.append(df)\n",
      "C:\\Users\\Kimbe\\AppData\\Local\\Temp/ipykernel_7100/3673173512.py:5: FutureWarning: The frame.append method is deprecated and will be removed from pandas in a future version. Use pandas.concat instead.\n",
      "  output_df = output_df.append(df)\n",
      "C:\\Users\\Kimbe\\AppData\\Local\\Temp/ipykernel_7100/3673173512.py:5: FutureWarning: The frame.append method is deprecated and will be removed from pandas in a future version. Use pandas.concat instead.\n",
      "  output_df = output_df.append(df)\n"
     ]
    },
    {
     "name": "stdout",
     "output_type": "stream",
     "text": [
      "Skipping row\n"
     ]
    },
    {
     "name": "stderr",
     "output_type": "stream",
     "text": [
      "C:\\Users\\Kimbe\\AppData\\Local\\Temp/ipykernel_7100/3673173512.py:5: FutureWarning: The frame.append method is deprecated and will be removed from pandas in a future version. Use pandas.concat instead.\n",
      "  output_df = output_df.append(df)\n",
      "C:\\Users\\Kimbe\\AppData\\Local\\Temp/ipykernel_7100/3673173512.py:5: FutureWarning: The frame.append method is deprecated and will be removed from pandas in a future version. Use pandas.concat instead.\n",
      "  output_df = output_df.append(df)\n",
      "C:\\Users\\Kimbe\\AppData\\Local\\Temp/ipykernel_7100/3673173512.py:5: FutureWarning: The frame.append method is deprecated and will be removed from pandas in a future version. Use pandas.concat instead.\n",
      "  output_df = output_df.append(df)\n",
      "C:\\Users\\Kimbe\\AppData\\Local\\Temp/ipykernel_7100/3673173512.py:5: FutureWarning: The frame.append method is deprecated and will be removed from pandas in a future version. Use pandas.concat instead.\n",
      "  output_df = output_df.append(df)\n",
      "C:\\Users\\Kimbe\\AppData\\Local\\Temp/ipykernel_7100/3673173512.py:5: FutureWarning: The frame.append method is deprecated and will be removed from pandas in a future version. Use pandas.concat instead.\n",
      "  output_df = output_df.append(df)\n",
      "C:\\Users\\Kimbe\\AppData\\Local\\Temp/ipykernel_7100/3673173512.py:5: FutureWarning: The frame.append method is deprecated and will be removed from pandas in a future version. Use pandas.concat instead.\n",
      "  output_df = output_df.append(df)\n",
      "C:\\Users\\Kimbe\\AppData\\Local\\Temp/ipykernel_7100/3673173512.py:5: FutureWarning: The frame.append method is deprecated and will be removed from pandas in a future version. Use pandas.concat instead.\n",
      "  output_df = output_df.append(df)\n",
      "C:\\Users\\Kimbe\\AppData\\Local\\Temp/ipykernel_7100/3673173512.py:5: FutureWarning: The frame.append method is deprecated and will be removed from pandas in a future version. Use pandas.concat instead.\n",
      "  output_df = output_df.append(df)\n",
      "C:\\Users\\Kimbe\\AppData\\Local\\Temp/ipykernel_7100/3673173512.py:5: FutureWarning: The frame.append method is deprecated and will be removed from pandas in a future version. Use pandas.concat instead.\n",
      "  output_df = output_df.append(df)\n",
      "C:\\Users\\Kimbe\\AppData\\Local\\Temp/ipykernel_7100/3673173512.py:5: FutureWarning: The frame.append method is deprecated and will be removed from pandas in a future version. Use pandas.concat instead.\n",
      "  output_df = output_df.append(df)\n"
     ]
    },
    {
     "name": "stdout",
     "output_type": "stream",
     "text": [
      "Skipping row\n"
     ]
    },
    {
     "name": "stderr",
     "output_type": "stream",
     "text": [
      "C:\\Users\\Kimbe\\AppData\\Local\\Temp/ipykernel_7100/3673173512.py:5: FutureWarning: The frame.append method is deprecated and will be removed from pandas in a future version. Use pandas.concat instead.\n",
      "  output_df = output_df.append(df)\n",
      "C:\\Users\\Kimbe\\AppData\\Local\\Temp/ipykernel_7100/3673173512.py:5: FutureWarning: The frame.append method is deprecated and will be removed from pandas in a future version. Use pandas.concat instead.\n",
      "  output_df = output_df.append(df)\n",
      "C:\\Users\\Kimbe\\AppData\\Local\\Temp/ipykernel_7100/3673173512.py:5: FutureWarning: The frame.append method is deprecated and will be removed from pandas in a future version. Use pandas.concat instead.\n",
      "  output_df = output_df.append(df)\n",
      "C:\\Users\\Kimbe\\AppData\\Local\\Temp/ipykernel_7100/3673173512.py:5: FutureWarning: The frame.append method is deprecated and will be removed from pandas in a future version. Use pandas.concat instead.\n",
      "  output_df = output_df.append(df)\n",
      "C:\\Users\\Kimbe\\AppData\\Local\\Temp/ipykernel_7100/3673173512.py:5: FutureWarning: The frame.append method is deprecated and will be removed from pandas in a future version. Use pandas.concat instead.\n",
      "  output_df = output_df.append(df)\n",
      "C:\\Users\\Kimbe\\AppData\\Local\\Temp/ipykernel_7100/3673173512.py:5: FutureWarning: The frame.append method is deprecated and will be removed from pandas in a future version. Use pandas.concat instead.\n",
      "  output_df = output_df.append(df)\n",
      "C:\\Users\\Kimbe\\AppData\\Local\\Temp/ipykernel_7100/3673173512.py:5: FutureWarning: The frame.append method is deprecated and will be removed from pandas in a future version. Use pandas.concat instead.\n",
      "  output_df = output_df.append(df)\n",
      "C:\\Users\\Kimbe\\AppData\\Local\\Temp/ipykernel_7100/3673173512.py:5: FutureWarning: The frame.append method is deprecated and will be removed from pandas in a future version. Use pandas.concat instead.\n",
      "  output_df = output_df.append(df)\n",
      "C:\\Users\\Kimbe\\AppData\\Local\\Temp/ipykernel_7100/3673173512.py:5: FutureWarning: The frame.append method is deprecated and will be removed from pandas in a future version. Use pandas.concat instead.\n",
      "  output_df = output_df.append(df)\n",
      "C:\\Users\\Kimbe\\AppData\\Local\\Temp/ipykernel_7100/3673173512.py:5: FutureWarning: The frame.append method is deprecated and will be removed from pandas in a future version. Use pandas.concat instead.\n",
      "  output_df = output_df.append(df)\n",
      "C:\\Users\\Kimbe\\AppData\\Local\\Temp/ipykernel_7100/3673173512.py:5: FutureWarning: The frame.append method is deprecated and will be removed from pandas in a future version. Use pandas.concat instead.\n",
      "  output_df = output_df.append(df)\n"
     ]
    },
    {
     "name": "stdout",
     "output_type": "stream",
     "text": [
      "Skipping row\n"
     ]
    },
    {
     "name": "stderr",
     "output_type": "stream",
     "text": [
      "C:\\Users\\Kimbe\\AppData\\Local\\Temp/ipykernel_7100/3673173512.py:5: FutureWarning: The frame.append method is deprecated and will be removed from pandas in a future version. Use pandas.concat instead.\n",
      "  output_df = output_df.append(df)\n",
      "C:\\Users\\Kimbe\\AppData\\Local\\Temp/ipykernel_7100/3673173512.py:5: FutureWarning: The frame.append method is deprecated and will be removed from pandas in a future version. Use pandas.concat instead.\n",
      "  output_df = output_df.append(df)\n",
      "C:\\Users\\Kimbe\\AppData\\Local\\Temp/ipykernel_7100/3673173512.py:5: FutureWarning: The frame.append method is deprecated and will be removed from pandas in a future version. Use pandas.concat instead.\n",
      "  output_df = output_df.append(df)\n",
      "C:\\Users\\Kimbe\\AppData\\Local\\Temp/ipykernel_7100/3673173512.py:5: FutureWarning: The frame.append method is deprecated and will be removed from pandas in a future version. Use pandas.concat instead.\n",
      "  output_df = output_df.append(df)\n",
      "C:\\Users\\Kimbe\\AppData\\Local\\Temp/ipykernel_7100/3673173512.py:5: FutureWarning: The frame.append method is deprecated and will be removed from pandas in a future version. Use pandas.concat instead.\n",
      "  output_df = output_df.append(df)\n",
      "C:\\Users\\Kimbe\\AppData\\Local\\Temp/ipykernel_7100/3673173512.py:5: FutureWarning: The frame.append method is deprecated and will be removed from pandas in a future version. Use pandas.concat instead.\n",
      "  output_df = output_df.append(df)\n",
      "C:\\Users\\Kimbe\\AppData\\Local\\Temp/ipykernel_7100/3673173512.py:5: FutureWarning: The frame.append method is deprecated and will be removed from pandas in a future version. Use pandas.concat instead.\n",
      "  output_df = output_df.append(df)\n",
      "C:\\Users\\Kimbe\\AppData\\Local\\Temp/ipykernel_7100/3673173512.py:5: FutureWarning: The frame.append method is deprecated and will be removed from pandas in a future version. Use pandas.concat instead.\n",
      "  output_df = output_df.append(df)\n",
      "C:\\Users\\Kimbe\\AppData\\Local\\Temp/ipykernel_7100/3673173512.py:5: FutureWarning: The frame.append method is deprecated and will be removed from pandas in a future version. Use pandas.concat instead.\n",
      "  output_df = output_df.append(df)\n",
      "C:\\Users\\Kimbe\\AppData\\Local\\Temp/ipykernel_7100/3673173512.py:5: FutureWarning: The frame.append method is deprecated and will be removed from pandas in a future version. Use pandas.concat instead.\n",
      "  output_df = output_df.append(df)\n"
     ]
    },
    {
     "name": "stdout",
     "output_type": "stream",
     "text": [
      "Skipping row\n"
     ]
    },
    {
     "name": "stderr",
     "output_type": "stream",
     "text": [
      "C:\\Users\\Kimbe\\AppData\\Local\\Temp/ipykernel_7100/3673173512.py:5: FutureWarning: The frame.append method is deprecated and will be removed from pandas in a future version. Use pandas.concat instead.\n",
      "  output_df = output_df.append(df)\n",
      "C:\\Users\\Kimbe\\AppData\\Local\\Temp/ipykernel_7100/3673173512.py:5: FutureWarning: The frame.append method is deprecated and will be removed from pandas in a future version. Use pandas.concat instead.\n",
      "  output_df = output_df.append(df)\n",
      "C:\\Users\\Kimbe\\AppData\\Local\\Temp/ipykernel_7100/3673173512.py:5: FutureWarning: The frame.append method is deprecated and will be removed from pandas in a future version. Use pandas.concat instead.\n",
      "  output_df = output_df.append(df)\n",
      "C:\\Users\\Kimbe\\AppData\\Local\\Temp/ipykernel_7100/3673173512.py:5: FutureWarning: The frame.append method is deprecated and will be removed from pandas in a future version. Use pandas.concat instead.\n",
      "  output_df = output_df.append(df)\n",
      "C:\\Users\\Kimbe\\AppData\\Local\\Temp/ipykernel_7100/3673173512.py:5: FutureWarning: The frame.append method is deprecated and will be removed from pandas in a future version. Use pandas.concat instead.\n",
      "  output_df = output_df.append(df)\n",
      "C:\\Users\\Kimbe\\AppData\\Local\\Temp/ipykernel_7100/3673173512.py:5: FutureWarning: The frame.append method is deprecated and will be removed from pandas in a future version. Use pandas.concat instead.\n",
      "  output_df = output_df.append(df)\n",
      "C:\\Users\\Kimbe\\AppData\\Local\\Temp/ipykernel_7100/3673173512.py:5: FutureWarning: The frame.append method is deprecated and will be removed from pandas in a future version. Use pandas.concat instead.\n",
      "  output_df = output_df.append(df)\n",
      "C:\\Users\\Kimbe\\AppData\\Local\\Temp/ipykernel_7100/3673173512.py:5: FutureWarning: The frame.append method is deprecated and will be removed from pandas in a future version. Use pandas.concat instead.\n",
      "  output_df = output_df.append(df)\n",
      "C:\\Users\\Kimbe\\AppData\\Local\\Temp/ipykernel_7100/3673173512.py:5: FutureWarning: The frame.append method is deprecated and will be removed from pandas in a future version. Use pandas.concat instead.\n",
      "  output_df = output_df.append(df)\n",
      "C:\\Users\\Kimbe\\AppData\\Local\\Temp/ipykernel_7100/3673173512.py:5: FutureWarning: The frame.append method is deprecated and will be removed from pandas in a future version. Use pandas.concat instead.\n",
      "  output_df = output_df.append(df)\n",
      "C:\\Users\\Kimbe\\AppData\\Local\\Temp/ipykernel_7100/3673173512.py:5: FutureWarning: The frame.append method is deprecated and will be removed from pandas in a future version. Use pandas.concat instead.\n",
      "  output_df = output_df.append(df)\n"
     ]
    },
    {
     "name": "stdout",
     "output_type": "stream",
     "text": [
      "Skipping row\n"
     ]
    },
    {
     "name": "stderr",
     "output_type": "stream",
     "text": [
      "C:\\Users\\Kimbe\\AppData\\Local\\Temp/ipykernel_7100/3673173512.py:5: FutureWarning: The frame.append method is deprecated and will be removed from pandas in a future version. Use pandas.concat instead.\n",
      "  output_df = output_df.append(df)\n",
      "C:\\Users\\Kimbe\\AppData\\Local\\Temp/ipykernel_7100/3673173512.py:5: FutureWarning: The frame.append method is deprecated and will be removed from pandas in a future version. Use pandas.concat instead.\n",
      "  output_df = output_df.append(df)\n",
      "C:\\Users\\Kimbe\\AppData\\Local\\Temp/ipykernel_7100/3673173512.py:5: FutureWarning: The frame.append method is deprecated and will be removed from pandas in a future version. Use pandas.concat instead.\n",
      "  output_df = output_df.append(df)\n",
      "C:\\Users\\Kimbe\\AppData\\Local\\Temp/ipykernel_7100/3673173512.py:5: FutureWarning: The frame.append method is deprecated and will be removed from pandas in a future version. Use pandas.concat instead.\n",
      "  output_df = output_df.append(df)\n",
      "C:\\Users\\Kimbe\\AppData\\Local\\Temp/ipykernel_7100/3673173512.py:5: FutureWarning: The frame.append method is deprecated and will be removed from pandas in a future version. Use pandas.concat instead.\n",
      "  output_df = output_df.append(df)\n",
      "C:\\Users\\Kimbe\\AppData\\Local\\Temp/ipykernel_7100/3673173512.py:5: FutureWarning: The frame.append method is deprecated and will be removed from pandas in a future version. Use pandas.concat instead.\n",
      "  output_df = output_df.append(df)\n",
      "C:\\Users\\Kimbe\\AppData\\Local\\Temp/ipykernel_7100/3673173512.py:5: FutureWarning: The frame.append method is deprecated and will be removed from pandas in a future version. Use pandas.concat instead.\n",
      "  output_df = output_df.append(df)\n",
      "C:\\Users\\Kimbe\\AppData\\Local\\Temp/ipykernel_7100/3673173512.py:5: FutureWarning: The frame.append method is deprecated and will be removed from pandas in a future version. Use pandas.concat instead.\n",
      "  output_df = output_df.append(df)\n",
      "C:\\Users\\Kimbe\\AppData\\Local\\Temp/ipykernel_7100/3673173512.py:5: FutureWarning: The frame.append method is deprecated and will be removed from pandas in a future version. Use pandas.concat instead.\n",
      "  output_df = output_df.append(df)\n",
      "C:\\Users\\Kimbe\\AppData\\Local\\Temp/ipykernel_7100/3673173512.py:5: FutureWarning: The frame.append method is deprecated and will be removed from pandas in a future version. Use pandas.concat instead.\n",
      "  output_df = output_df.append(df)\n",
      "C:\\Users\\Kimbe\\AppData\\Local\\Temp/ipykernel_7100/3673173512.py:5: FutureWarning: The frame.append method is deprecated and will be removed from pandas in a future version. Use pandas.concat instead.\n",
      "  output_df = output_df.append(df)\n"
     ]
    },
    {
     "name": "stdout",
     "output_type": "stream",
     "text": [
      "Skipping row\n"
     ]
    },
    {
     "name": "stderr",
     "output_type": "stream",
     "text": [
      "C:\\Users\\Kimbe\\AppData\\Local\\Temp/ipykernel_7100/3673173512.py:5: FutureWarning: The frame.append method is deprecated and will be removed from pandas in a future version. Use pandas.concat instead.\n",
      "  output_df = output_df.append(df)\n",
      "C:\\Users\\Kimbe\\AppData\\Local\\Temp/ipykernel_7100/3673173512.py:5: FutureWarning: The frame.append method is deprecated and will be removed from pandas in a future version. Use pandas.concat instead.\n",
      "  output_df = output_df.append(df)\n",
      "C:\\Users\\Kimbe\\AppData\\Local\\Temp/ipykernel_7100/3673173512.py:5: FutureWarning: The frame.append method is deprecated and will be removed from pandas in a future version. Use pandas.concat instead.\n",
      "  output_df = output_df.append(df)\n",
      "C:\\Users\\Kimbe\\AppData\\Local\\Temp/ipykernel_7100/3673173512.py:5: FutureWarning: The frame.append method is deprecated and will be removed from pandas in a future version. Use pandas.concat instead.\n",
      "  output_df = output_df.append(df)\n",
      "C:\\Users\\Kimbe\\AppData\\Local\\Temp/ipykernel_7100/3673173512.py:5: FutureWarning: The frame.append method is deprecated and will be removed from pandas in a future version. Use pandas.concat instead.\n",
      "  output_df = output_df.append(df)\n",
      "C:\\Users\\Kimbe\\AppData\\Local\\Temp/ipykernel_7100/3673173512.py:5: FutureWarning: The frame.append method is deprecated and will be removed from pandas in a future version. Use pandas.concat instead.\n",
      "  output_df = output_df.append(df)\n",
      "C:\\Users\\Kimbe\\AppData\\Local\\Temp/ipykernel_7100/3673173512.py:5: FutureWarning: The frame.append method is deprecated and will be removed from pandas in a future version. Use pandas.concat instead.\n",
      "  output_df = output_df.append(df)\n",
      "C:\\Users\\Kimbe\\AppData\\Local\\Temp/ipykernel_7100/3673173512.py:5: FutureWarning: The frame.append method is deprecated and will be removed from pandas in a future version. Use pandas.concat instead.\n",
      "  output_df = output_df.append(df)\n",
      "C:\\Users\\Kimbe\\AppData\\Local\\Temp/ipykernel_7100/3673173512.py:5: FutureWarning: The frame.append method is deprecated and will be removed from pandas in a future version. Use pandas.concat instead.\n",
      "  output_df = output_df.append(df)\n",
      "C:\\Users\\Kimbe\\AppData\\Local\\Temp/ipykernel_7100/3673173512.py:5: FutureWarning: The frame.append method is deprecated and will be removed from pandas in a future version. Use pandas.concat instead.\n",
      "  output_df = output_df.append(df)\n",
      "C:\\Users\\Kimbe\\AppData\\Local\\Temp/ipykernel_7100/3673173512.py:5: FutureWarning: The frame.append method is deprecated and will be removed from pandas in a future version. Use pandas.concat instead.\n",
      "  output_df = output_df.append(df)\n"
     ]
    },
    {
     "name": "stdout",
     "output_type": "stream",
     "text": [
      "Skipping row\n"
     ]
    },
    {
     "name": "stderr",
     "output_type": "stream",
     "text": [
      "C:\\Users\\Kimbe\\AppData\\Local\\Temp/ipykernel_7100/3673173512.py:5: FutureWarning: The frame.append method is deprecated and will be removed from pandas in a future version. Use pandas.concat instead.\n",
      "  output_df = output_df.append(df)\n",
      "C:\\Users\\Kimbe\\AppData\\Local\\Temp/ipykernel_7100/3673173512.py:5: FutureWarning: The frame.append method is deprecated and will be removed from pandas in a future version. Use pandas.concat instead.\n",
      "  output_df = output_df.append(df)\n",
      "C:\\Users\\Kimbe\\AppData\\Local\\Temp/ipykernel_7100/3673173512.py:5: FutureWarning: The frame.append method is deprecated and will be removed from pandas in a future version. Use pandas.concat instead.\n",
      "  output_df = output_df.append(df)\n",
      "C:\\Users\\Kimbe\\AppData\\Local\\Temp/ipykernel_7100/3673173512.py:5: FutureWarning: The frame.append method is deprecated and will be removed from pandas in a future version. Use pandas.concat instead.\n",
      "  output_df = output_df.append(df)\n",
      "C:\\Users\\Kimbe\\AppData\\Local\\Temp/ipykernel_7100/3673173512.py:5: FutureWarning: The frame.append method is deprecated and will be removed from pandas in a future version. Use pandas.concat instead.\n",
      "  output_df = output_df.append(df)\n",
      "C:\\Users\\Kimbe\\AppData\\Local\\Temp/ipykernel_7100/3673173512.py:5: FutureWarning: The frame.append method is deprecated and will be removed from pandas in a future version. Use pandas.concat instead.\n",
      "  output_df = output_df.append(df)\n",
      "C:\\Users\\Kimbe\\AppData\\Local\\Temp/ipykernel_7100/3673173512.py:5: FutureWarning: The frame.append method is deprecated and will be removed from pandas in a future version. Use pandas.concat instead.\n",
      "  output_df = output_df.append(df)\n",
      "C:\\Users\\Kimbe\\AppData\\Local\\Temp/ipykernel_7100/3673173512.py:5: FutureWarning: The frame.append method is deprecated and will be removed from pandas in a future version. Use pandas.concat instead.\n",
      "  output_df = output_df.append(df)\n",
      "C:\\Users\\Kimbe\\AppData\\Local\\Temp/ipykernel_7100/3673173512.py:5: FutureWarning: The frame.append method is deprecated and will be removed from pandas in a future version. Use pandas.concat instead.\n",
      "  output_df = output_df.append(df)\n",
      "C:\\Users\\Kimbe\\AppData\\Local\\Temp/ipykernel_7100/3673173512.py:5: FutureWarning: The frame.append method is deprecated and will be removed from pandas in a future version. Use pandas.concat instead.\n",
      "  output_df = output_df.append(df)\n",
      "C:\\Users\\Kimbe\\AppData\\Local\\Temp/ipykernel_7100/3673173512.py:5: FutureWarning: The frame.append method is deprecated and will be removed from pandas in a future version. Use pandas.concat instead.\n",
      "  output_df = output_df.append(df)\n"
     ]
    },
    {
     "name": "stdout",
     "output_type": "stream",
     "text": [
      "Skipping row\n"
     ]
    },
    {
     "name": "stderr",
     "output_type": "stream",
     "text": [
      "C:\\Users\\Kimbe\\AppData\\Local\\Temp/ipykernel_7100/3673173512.py:5: FutureWarning: The frame.append method is deprecated and will be removed from pandas in a future version. Use pandas.concat instead.\n",
      "  output_df = output_df.append(df)\n",
      "C:\\Users\\Kimbe\\AppData\\Local\\Temp/ipykernel_7100/3673173512.py:5: FutureWarning: The frame.append method is deprecated and will be removed from pandas in a future version. Use pandas.concat instead.\n",
      "  output_df = output_df.append(df)\n",
      "C:\\Users\\Kimbe\\AppData\\Local\\Temp/ipykernel_7100/3673173512.py:5: FutureWarning: The frame.append method is deprecated and will be removed from pandas in a future version. Use pandas.concat instead.\n",
      "  output_df = output_df.append(df)\n",
      "C:\\Users\\Kimbe\\AppData\\Local\\Temp/ipykernel_7100/3673173512.py:5: FutureWarning: The frame.append method is deprecated and will be removed from pandas in a future version. Use pandas.concat instead.\n",
      "  output_df = output_df.append(df)\n",
      "C:\\Users\\Kimbe\\AppData\\Local\\Temp/ipykernel_7100/3673173512.py:5: FutureWarning: The frame.append method is deprecated and will be removed from pandas in a future version. Use pandas.concat instead.\n",
      "  output_df = output_df.append(df)\n",
      "C:\\Users\\Kimbe\\AppData\\Local\\Temp/ipykernel_7100/3673173512.py:5: FutureWarning: The frame.append method is deprecated and will be removed from pandas in a future version. Use pandas.concat instead.\n",
      "  output_df = output_df.append(df)\n",
      "C:\\Users\\Kimbe\\AppData\\Local\\Temp/ipykernel_7100/3673173512.py:5: FutureWarning: The frame.append method is deprecated and will be removed from pandas in a future version. Use pandas.concat instead.\n",
      "  output_df = output_df.append(df)\n",
      "C:\\Users\\Kimbe\\AppData\\Local\\Temp/ipykernel_7100/3673173512.py:5: FutureWarning: The frame.append method is deprecated and will be removed from pandas in a future version. Use pandas.concat instead.\n",
      "  output_df = output_df.append(df)\n",
      "C:\\Users\\Kimbe\\AppData\\Local\\Temp/ipykernel_7100/3673173512.py:5: FutureWarning: The frame.append method is deprecated and will be removed from pandas in a future version. Use pandas.concat instead.\n",
      "  output_df = output_df.append(df)\n",
      "C:\\Users\\Kimbe\\AppData\\Local\\Temp/ipykernel_7100/3673173512.py:5: FutureWarning: The frame.append method is deprecated and will be removed from pandas in a future version. Use pandas.concat instead.\n",
      "  output_df = output_df.append(df)\n",
      "C:\\Users\\Kimbe\\AppData\\Local\\Temp/ipykernel_7100/3673173512.py:5: FutureWarning: The frame.append method is deprecated and will be removed from pandas in a future version. Use pandas.concat instead.\n",
      "  output_df = output_df.append(df)\n"
     ]
    },
    {
     "name": "stdout",
     "output_type": "stream",
     "text": [
      "Skipping row\n"
     ]
    },
    {
     "name": "stderr",
     "output_type": "stream",
     "text": [
      "C:\\Users\\Kimbe\\AppData\\Local\\Temp/ipykernel_7100/3673173512.py:5: FutureWarning: The frame.append method is deprecated and will be removed from pandas in a future version. Use pandas.concat instead.\n",
      "  output_df = output_df.append(df)\n",
      "C:\\Users\\Kimbe\\AppData\\Local\\Temp/ipykernel_7100/3673173512.py:5: FutureWarning: The frame.append method is deprecated and will be removed from pandas in a future version. Use pandas.concat instead.\n",
      "  output_df = output_df.append(df)\n",
      "C:\\Users\\Kimbe\\AppData\\Local\\Temp/ipykernel_7100/3673173512.py:5: FutureWarning: The frame.append method is deprecated and will be removed from pandas in a future version. Use pandas.concat instead.\n",
      "  output_df = output_df.append(df)\n",
      "C:\\Users\\Kimbe\\AppData\\Local\\Temp/ipykernel_7100/3673173512.py:5: FutureWarning: The frame.append method is deprecated and will be removed from pandas in a future version. Use pandas.concat instead.\n",
      "  output_df = output_df.append(df)\n",
      "C:\\Users\\Kimbe\\AppData\\Local\\Temp/ipykernel_7100/3673173512.py:5: FutureWarning: The frame.append method is deprecated and will be removed from pandas in a future version. Use pandas.concat instead.\n",
      "  output_df = output_df.append(df)\n",
      "C:\\Users\\Kimbe\\AppData\\Local\\Temp/ipykernel_7100/3673173512.py:5: FutureWarning: The frame.append method is deprecated and will be removed from pandas in a future version. Use pandas.concat instead.\n",
      "  output_df = output_df.append(df)\n",
      "C:\\Users\\Kimbe\\AppData\\Local\\Temp/ipykernel_7100/3673173512.py:5: FutureWarning: The frame.append method is deprecated and will be removed from pandas in a future version. Use pandas.concat instead.\n",
      "  output_df = output_df.append(df)\n",
      "C:\\Users\\Kimbe\\AppData\\Local\\Temp/ipykernel_7100/3673173512.py:5: FutureWarning: The frame.append method is deprecated and will be removed from pandas in a future version. Use pandas.concat instead.\n",
      "  output_df = output_df.append(df)\n",
      "C:\\Users\\Kimbe\\AppData\\Local\\Temp/ipykernel_7100/3673173512.py:5: FutureWarning: The frame.append method is deprecated and will be removed from pandas in a future version. Use pandas.concat instead.\n",
      "  output_df = output_df.append(df)\n",
      "C:\\Users\\Kimbe\\AppData\\Local\\Temp/ipykernel_7100/3673173512.py:5: FutureWarning: The frame.append method is deprecated and will be removed from pandas in a future version. Use pandas.concat instead.\n",
      "  output_df = output_df.append(df)\n",
      "C:\\Users\\Kimbe\\AppData\\Local\\Temp/ipykernel_7100/3673173512.py:5: FutureWarning: The frame.append method is deprecated and will be removed from pandas in a future version. Use pandas.concat instead.\n",
      "  output_df = output_df.append(df)\n"
     ]
    },
    {
     "name": "stdout",
     "output_type": "stream",
     "text": [
      "Skipping row\n"
     ]
    },
    {
     "name": "stderr",
     "output_type": "stream",
     "text": [
      "C:\\Users\\Kimbe\\AppData\\Local\\Temp/ipykernel_7100/3673173512.py:5: FutureWarning: The frame.append method is deprecated and will be removed from pandas in a future version. Use pandas.concat instead.\n",
      "  output_df = output_df.append(df)\n",
      "C:\\Users\\Kimbe\\AppData\\Local\\Temp/ipykernel_7100/3673173512.py:5: FutureWarning: The frame.append method is deprecated and will be removed from pandas in a future version. Use pandas.concat instead.\n",
      "  output_df = output_df.append(df)\n",
      "C:\\Users\\Kimbe\\AppData\\Local\\Temp/ipykernel_7100/3673173512.py:5: FutureWarning: The frame.append method is deprecated and will be removed from pandas in a future version. Use pandas.concat instead.\n",
      "  output_df = output_df.append(df)\n",
      "C:\\Users\\Kimbe\\AppData\\Local\\Temp/ipykernel_7100/3673173512.py:5: FutureWarning: The frame.append method is deprecated and will be removed from pandas in a future version. Use pandas.concat instead.\n",
      "  output_df = output_df.append(df)\n",
      "C:\\Users\\Kimbe\\AppData\\Local\\Temp/ipykernel_7100/3673173512.py:5: FutureWarning: The frame.append method is deprecated and will be removed from pandas in a future version. Use pandas.concat instead.\n",
      "  output_df = output_df.append(df)\n",
      "C:\\Users\\Kimbe\\AppData\\Local\\Temp/ipykernel_7100/3673173512.py:5: FutureWarning: The frame.append method is deprecated and will be removed from pandas in a future version. Use pandas.concat instead.\n",
      "  output_df = output_df.append(df)\n",
      "C:\\Users\\Kimbe\\AppData\\Local\\Temp/ipykernel_7100/3673173512.py:5: FutureWarning: The frame.append method is deprecated and will be removed from pandas in a future version. Use pandas.concat instead.\n",
      "  output_df = output_df.append(df)\n",
      "C:\\Users\\Kimbe\\AppData\\Local\\Temp/ipykernel_7100/3673173512.py:5: FutureWarning: The frame.append method is deprecated and will be removed from pandas in a future version. Use pandas.concat instead.\n",
      "  output_df = output_df.append(df)\n",
      "C:\\Users\\Kimbe\\AppData\\Local\\Temp/ipykernel_7100/3673173512.py:5: FutureWarning: The frame.append method is deprecated and will be removed from pandas in a future version. Use pandas.concat instead.\n",
      "  output_df = output_df.append(df)\n",
      "C:\\Users\\Kimbe\\AppData\\Local\\Temp/ipykernel_7100/3673173512.py:5: FutureWarning: The frame.append method is deprecated and will be removed from pandas in a future version. Use pandas.concat instead.\n",
      "  output_df = output_df.append(df)\n",
      "C:\\Users\\Kimbe\\AppData\\Local\\Temp/ipykernel_7100/3673173512.py:5: FutureWarning: The frame.append method is deprecated and will be removed from pandas in a future version. Use pandas.concat instead.\n",
      "  output_df = output_df.append(df)\n"
     ]
    },
    {
     "name": "stdout",
     "output_type": "stream",
     "text": [
      "Skipping row\n"
     ]
    },
    {
     "name": "stderr",
     "output_type": "stream",
     "text": [
      "C:\\Users\\Kimbe\\AppData\\Local\\Temp/ipykernel_7100/3673173512.py:5: FutureWarning: The frame.append method is deprecated and will be removed from pandas in a future version. Use pandas.concat instead.\n",
      "  output_df = output_df.append(df)\n",
      "C:\\Users\\Kimbe\\AppData\\Local\\Temp/ipykernel_7100/3673173512.py:5: FutureWarning: The frame.append method is deprecated and will be removed from pandas in a future version. Use pandas.concat instead.\n",
      "  output_df = output_df.append(df)\n",
      "C:\\Users\\Kimbe\\AppData\\Local\\Temp/ipykernel_7100/3673173512.py:5: FutureWarning: The frame.append method is deprecated and will be removed from pandas in a future version. Use pandas.concat instead.\n",
      "  output_df = output_df.append(df)\n",
      "C:\\Users\\Kimbe\\AppData\\Local\\Temp/ipykernel_7100/3673173512.py:5: FutureWarning: The frame.append method is deprecated and will be removed from pandas in a future version. Use pandas.concat instead.\n",
      "  output_df = output_df.append(df)\n",
      "C:\\Users\\Kimbe\\AppData\\Local\\Temp/ipykernel_7100/3673173512.py:5: FutureWarning: The frame.append method is deprecated and will be removed from pandas in a future version. Use pandas.concat instead.\n",
      "  output_df = output_df.append(df)\n",
      "C:\\Users\\Kimbe\\AppData\\Local\\Temp/ipykernel_7100/3673173512.py:5: FutureWarning: The frame.append method is deprecated and will be removed from pandas in a future version. Use pandas.concat instead.\n",
      "  output_df = output_df.append(df)\n",
      "C:\\Users\\Kimbe\\AppData\\Local\\Temp/ipykernel_7100/3673173512.py:5: FutureWarning: The frame.append method is deprecated and will be removed from pandas in a future version. Use pandas.concat instead.\n",
      "  output_df = output_df.append(df)\n",
      "C:\\Users\\Kimbe\\AppData\\Local\\Temp/ipykernel_7100/3673173512.py:5: FutureWarning: The frame.append method is deprecated and will be removed from pandas in a future version. Use pandas.concat instead.\n",
      "  output_df = output_df.append(df)\n",
      "C:\\Users\\Kimbe\\AppData\\Local\\Temp/ipykernel_7100/3673173512.py:5: FutureWarning: The frame.append method is deprecated and will be removed from pandas in a future version. Use pandas.concat instead.\n",
      "  output_df = output_df.append(df)\n",
      "C:\\Users\\Kimbe\\AppData\\Local\\Temp/ipykernel_7100/3673173512.py:5: FutureWarning: The frame.append method is deprecated and will be removed from pandas in a future version. Use pandas.concat instead.\n",
      "  output_df = output_df.append(df)\n"
     ]
    },
    {
     "name": "stdout",
     "output_type": "stream",
     "text": [
      "Skipping row\n"
     ]
    },
    {
     "name": "stderr",
     "output_type": "stream",
     "text": [
      "C:\\Users\\Kimbe\\AppData\\Local\\Temp/ipykernel_7100/3673173512.py:5: FutureWarning: The frame.append method is deprecated and will be removed from pandas in a future version. Use pandas.concat instead.\n",
      "  output_df = output_df.append(df)\n",
      "C:\\Users\\Kimbe\\AppData\\Local\\Temp/ipykernel_7100/3673173512.py:5: FutureWarning: The frame.append method is deprecated and will be removed from pandas in a future version. Use pandas.concat instead.\n",
      "  output_df = output_df.append(df)\n",
      "C:\\Users\\Kimbe\\AppData\\Local\\Temp/ipykernel_7100/3673173512.py:5: FutureWarning: The frame.append method is deprecated and will be removed from pandas in a future version. Use pandas.concat instead.\n",
      "  output_df = output_df.append(df)\n",
      "C:\\Users\\Kimbe\\AppData\\Local\\Temp/ipykernel_7100/3673173512.py:5: FutureWarning: The frame.append method is deprecated and will be removed from pandas in a future version. Use pandas.concat instead.\n",
      "  output_df = output_df.append(df)\n",
      "C:\\Users\\Kimbe\\AppData\\Local\\Temp/ipykernel_7100/3673173512.py:5: FutureWarning: The frame.append method is deprecated and will be removed from pandas in a future version. Use pandas.concat instead.\n",
      "  output_df = output_df.append(df)\n",
      "C:\\Users\\Kimbe\\AppData\\Local\\Temp/ipykernel_7100/3673173512.py:5: FutureWarning: The frame.append method is deprecated and will be removed from pandas in a future version. Use pandas.concat instead.\n",
      "  output_df = output_df.append(df)\n",
      "C:\\Users\\Kimbe\\AppData\\Local\\Temp/ipykernel_7100/3673173512.py:5: FutureWarning: The frame.append method is deprecated and will be removed from pandas in a future version. Use pandas.concat instead.\n",
      "  output_df = output_df.append(df)\n",
      "C:\\Users\\Kimbe\\AppData\\Local\\Temp/ipykernel_7100/3673173512.py:5: FutureWarning: The frame.append method is deprecated and will be removed from pandas in a future version. Use pandas.concat instead.\n",
      "  output_df = output_df.append(df)\n",
      "C:\\Users\\Kimbe\\AppData\\Local\\Temp/ipykernel_7100/3673173512.py:5: FutureWarning: The frame.append method is deprecated and will be removed from pandas in a future version. Use pandas.concat instead.\n",
      "  output_df = output_df.append(df)\n",
      "C:\\Users\\Kimbe\\AppData\\Local\\Temp/ipykernel_7100/3673173512.py:5: FutureWarning: The frame.append method is deprecated and will be removed from pandas in a future version. Use pandas.concat instead.\n",
      "  output_df = output_df.append(df)\n",
      "C:\\Users\\Kimbe\\AppData\\Local\\Temp/ipykernel_7100/3673173512.py:5: FutureWarning: The frame.append method is deprecated and will be removed from pandas in a future version. Use pandas.concat instead.\n",
      "  output_df = output_df.append(df)\n"
     ]
    },
    {
     "name": "stdout",
     "output_type": "stream",
     "text": [
      "Skipping row\n"
     ]
    },
    {
     "name": "stderr",
     "output_type": "stream",
     "text": [
      "C:\\Users\\Kimbe\\AppData\\Local\\Temp/ipykernel_7100/3673173512.py:5: FutureWarning: The frame.append method is deprecated and will be removed from pandas in a future version. Use pandas.concat instead.\n",
      "  output_df = output_df.append(df)\n",
      "C:\\Users\\Kimbe\\AppData\\Local\\Temp/ipykernel_7100/3673173512.py:5: FutureWarning: The frame.append method is deprecated and will be removed from pandas in a future version. Use pandas.concat instead.\n",
      "  output_df = output_df.append(df)\n",
      "C:\\Users\\Kimbe\\AppData\\Local\\Temp/ipykernel_7100/3673173512.py:5: FutureWarning: The frame.append method is deprecated and will be removed from pandas in a future version. Use pandas.concat instead.\n",
      "  output_df = output_df.append(df)\n",
      "C:\\Users\\Kimbe\\AppData\\Local\\Temp/ipykernel_7100/3673173512.py:5: FutureWarning: The frame.append method is deprecated and will be removed from pandas in a future version. Use pandas.concat instead.\n",
      "  output_df = output_df.append(df)\n",
      "C:\\Users\\Kimbe\\AppData\\Local\\Temp/ipykernel_7100/3673173512.py:5: FutureWarning: The frame.append method is deprecated and will be removed from pandas in a future version. Use pandas.concat instead.\n",
      "  output_df = output_df.append(df)\n",
      "C:\\Users\\Kimbe\\AppData\\Local\\Temp/ipykernel_7100/3673173512.py:5: FutureWarning: The frame.append method is deprecated and will be removed from pandas in a future version. Use pandas.concat instead.\n",
      "  output_df = output_df.append(df)\n",
      "C:\\Users\\Kimbe\\AppData\\Local\\Temp/ipykernel_7100/3673173512.py:5: FutureWarning: The frame.append method is deprecated and will be removed from pandas in a future version. Use pandas.concat instead.\n",
      "  output_df = output_df.append(df)\n",
      "C:\\Users\\Kimbe\\AppData\\Local\\Temp/ipykernel_7100/3673173512.py:5: FutureWarning: The frame.append method is deprecated and will be removed from pandas in a future version. Use pandas.concat instead.\n",
      "  output_df = output_df.append(df)\n",
      "C:\\Users\\Kimbe\\AppData\\Local\\Temp/ipykernel_7100/3673173512.py:5: FutureWarning: The frame.append method is deprecated and will be removed from pandas in a future version. Use pandas.concat instead.\n",
      "  output_df = output_df.append(df)\n",
      "C:\\Users\\Kimbe\\AppData\\Local\\Temp/ipykernel_7100/3673173512.py:5: FutureWarning: The frame.append method is deprecated and will be removed from pandas in a future version. Use pandas.concat instead.\n",
      "  output_df = output_df.append(df)\n",
      "C:\\Users\\Kimbe\\AppData\\Local\\Temp/ipykernel_7100/3673173512.py:5: FutureWarning: The frame.append method is deprecated and will be removed from pandas in a future version. Use pandas.concat instead.\n",
      "  output_df = output_df.append(df)\n"
     ]
    },
    {
     "name": "stdout",
     "output_type": "stream",
     "text": [
      "Skipping row\n",
      "Skipping row\n"
     ]
    },
    {
     "name": "stderr",
     "output_type": "stream",
     "text": [
      "C:\\Users\\Kimbe\\AppData\\Local\\Temp/ipykernel_7100/3673173512.py:5: FutureWarning: The frame.append method is deprecated and will be removed from pandas in a future version. Use pandas.concat instead.\n",
      "  output_df = output_df.append(df)\n",
      "C:\\Users\\Kimbe\\AppData\\Local\\Temp/ipykernel_7100/3673173512.py:5: FutureWarning: The frame.append method is deprecated and will be removed from pandas in a future version. Use pandas.concat instead.\n",
      "  output_df = output_df.append(df)\n",
      "C:\\Users\\Kimbe\\AppData\\Local\\Temp/ipykernel_7100/3673173512.py:5: FutureWarning: The frame.append method is deprecated and will be removed from pandas in a future version. Use pandas.concat instead.\n",
      "  output_df = output_df.append(df)\n",
      "C:\\Users\\Kimbe\\AppData\\Local\\Temp/ipykernel_7100/3673173512.py:5: FutureWarning: The frame.append method is deprecated and will be removed from pandas in a future version. Use pandas.concat instead.\n",
      "  output_df = output_df.append(df)\n",
      "C:\\Users\\Kimbe\\AppData\\Local\\Temp/ipykernel_7100/3673173512.py:5: FutureWarning: The frame.append method is deprecated and will be removed from pandas in a future version. Use pandas.concat instead.\n",
      "  output_df = output_df.append(df)\n",
      "C:\\Users\\Kimbe\\AppData\\Local\\Temp/ipykernel_7100/3673173512.py:5: FutureWarning: The frame.append method is deprecated and will be removed from pandas in a future version. Use pandas.concat instead.\n",
      "  output_df = output_df.append(df)\n",
      "C:\\Users\\Kimbe\\AppData\\Local\\Temp/ipykernel_7100/3673173512.py:5: FutureWarning: The frame.append method is deprecated and will be removed from pandas in a future version. Use pandas.concat instead.\n",
      "  output_df = output_df.append(df)\n",
      "C:\\Users\\Kimbe\\AppData\\Local\\Temp/ipykernel_7100/3673173512.py:5: FutureWarning: The frame.append method is deprecated and will be removed from pandas in a future version. Use pandas.concat instead.\n",
      "  output_df = output_df.append(df)\n",
      "C:\\Users\\Kimbe\\AppData\\Local\\Temp/ipykernel_7100/3673173512.py:5: FutureWarning: The frame.append method is deprecated and will be removed from pandas in a future version. Use pandas.concat instead.\n",
      "  output_df = output_df.append(df)\n",
      "C:\\Users\\Kimbe\\AppData\\Local\\Temp/ipykernel_7100/3673173512.py:5: FutureWarning: The frame.append method is deprecated and will be removed from pandas in a future version. Use pandas.concat instead.\n",
      "  output_df = output_df.append(df)\n"
     ]
    },
    {
     "name": "stdout",
     "output_type": "stream",
     "text": [
      "Skipping row\n",
      "Skipping row\n"
     ]
    },
    {
     "name": "stderr",
     "output_type": "stream",
     "text": [
      "C:\\Users\\Kimbe\\AppData\\Local\\Temp/ipykernel_7100/3673173512.py:5: FutureWarning: The frame.append method is deprecated and will be removed from pandas in a future version. Use pandas.concat instead.\n",
      "  output_df = output_df.append(df)\n",
      "C:\\Users\\Kimbe\\AppData\\Local\\Temp/ipykernel_7100/3673173512.py:5: FutureWarning: The frame.append method is deprecated and will be removed from pandas in a future version. Use pandas.concat instead.\n",
      "  output_df = output_df.append(df)\n",
      "C:\\Users\\Kimbe\\AppData\\Local\\Temp/ipykernel_7100/3673173512.py:5: FutureWarning: The frame.append method is deprecated and will be removed from pandas in a future version. Use pandas.concat instead.\n",
      "  output_df = output_df.append(df)\n",
      "C:\\Users\\Kimbe\\AppData\\Local\\Temp/ipykernel_7100/3673173512.py:5: FutureWarning: The frame.append method is deprecated and will be removed from pandas in a future version. Use pandas.concat instead.\n",
      "  output_df = output_df.append(df)\n",
      "C:\\Users\\Kimbe\\AppData\\Local\\Temp/ipykernel_7100/3673173512.py:5: FutureWarning: The frame.append method is deprecated and will be removed from pandas in a future version. Use pandas.concat instead.\n",
      "  output_df = output_df.append(df)\n",
      "C:\\Users\\Kimbe\\AppData\\Local\\Temp/ipykernel_7100/3673173512.py:5: FutureWarning: The frame.append method is deprecated and will be removed from pandas in a future version. Use pandas.concat instead.\n",
      "  output_df = output_df.append(df)\n",
      "C:\\Users\\Kimbe\\AppData\\Local\\Temp/ipykernel_7100/3673173512.py:5: FutureWarning: The frame.append method is deprecated and will be removed from pandas in a future version. Use pandas.concat instead.\n",
      "  output_df = output_df.append(df)\n",
      "C:\\Users\\Kimbe\\AppData\\Local\\Temp/ipykernel_7100/3673173512.py:5: FutureWarning: The frame.append method is deprecated and will be removed from pandas in a future version. Use pandas.concat instead.\n",
      "  output_df = output_df.append(df)\n",
      "C:\\Users\\Kimbe\\AppData\\Local\\Temp/ipykernel_7100/3673173512.py:5: FutureWarning: The frame.append method is deprecated and will be removed from pandas in a future version. Use pandas.concat instead.\n",
      "  output_df = output_df.append(df)\n",
      "C:\\Users\\Kimbe\\AppData\\Local\\Temp/ipykernel_7100/3673173512.py:5: FutureWarning: The frame.append method is deprecated and will be removed from pandas in a future version. Use pandas.concat instead.\n",
      "  output_df = output_df.append(df)\n",
      "C:\\Users\\Kimbe\\AppData\\Local\\Temp/ipykernel_7100/3673173512.py:5: FutureWarning: The frame.append method is deprecated and will be removed from pandas in a future version. Use pandas.concat instead.\n",
      "  output_df = output_df.append(df)\n",
      "C:\\Users\\Kimbe\\AppData\\Local\\Temp/ipykernel_7100/3673173512.py:5: FutureWarning: The frame.append method is deprecated and will be removed from pandas in a future version. Use pandas.concat instead.\n",
      "  output_df = output_df.append(df)\n",
      "C:\\Users\\Kimbe\\AppData\\Local\\Temp/ipykernel_7100/3673173512.py:5: FutureWarning: The frame.append method is deprecated and will be removed from pandas in a future version. Use pandas.concat instead.\n",
      "  output_df = output_df.append(df)\n",
      "C:\\Users\\Kimbe\\AppData\\Local\\Temp/ipykernel_7100/3673173512.py:5: FutureWarning: The frame.append method is deprecated and will be removed from pandas in a future version. Use pandas.concat instead.\n",
      "  output_df = output_df.append(df)\n",
      "C:\\Users\\Kimbe\\AppData\\Local\\Temp/ipykernel_7100/3673173512.py:5: FutureWarning: The frame.append method is deprecated and will be removed from pandas in a future version. Use pandas.concat instead.\n",
      "  output_df = output_df.append(df)\n",
      "C:\\Users\\Kimbe\\AppData\\Local\\Temp/ipykernel_7100/3673173512.py:5: FutureWarning: The frame.append method is deprecated and will be removed from pandas in a future version. Use pandas.concat instead.\n",
      "  output_df = output_df.append(df)\n",
      "C:\\Users\\Kimbe\\AppData\\Local\\Temp/ipykernel_7100/3673173512.py:5: FutureWarning: The frame.append method is deprecated and will be removed from pandas in a future version. Use pandas.concat instead.\n",
      "  output_df = output_df.append(df)\n",
      "C:\\Users\\Kimbe\\AppData\\Local\\Temp/ipykernel_7100/3673173512.py:5: FutureWarning: The frame.append method is deprecated and will be removed from pandas in a future version. Use pandas.concat instead.\n",
      "  output_df = output_df.append(df)\n",
      "C:\\Users\\Kimbe\\AppData\\Local\\Temp/ipykernel_7100/3673173512.py:5: FutureWarning: The frame.append method is deprecated and will be removed from pandas in a future version. Use pandas.concat instead.\n",
      "  output_df = output_df.append(df)\n",
      "C:\\Users\\Kimbe\\AppData\\Local\\Temp/ipykernel_7100/3673173512.py:5: FutureWarning: The frame.append method is deprecated and will be removed from pandas in a future version. Use pandas.concat instead.\n",
      "  output_df = output_df.append(df)\n",
      "C:\\Users\\Kimbe\\AppData\\Local\\Temp/ipykernel_7100/3673173512.py:5: FutureWarning: The frame.append method is deprecated and will be removed from pandas in a future version. Use pandas.concat instead.\n",
      "  output_df = output_df.append(df)\n",
      "C:\\Users\\Kimbe\\AppData\\Local\\Temp/ipykernel_7100/3673173512.py:5: FutureWarning: The frame.append method is deprecated and will be removed from pandas in a future version. Use pandas.concat instead.\n",
      "  output_df = output_df.append(df)\n"
     ]
    },
    {
     "name": "stdout",
     "output_type": "stream",
     "text": [
      "Skipping row\n",
      "Skipping row\n"
     ]
    },
    {
     "name": "stderr",
     "output_type": "stream",
     "text": [
      "C:\\Users\\Kimbe\\AppData\\Local\\Temp/ipykernel_7100/3673173512.py:5: FutureWarning: The frame.append method is deprecated and will be removed from pandas in a future version. Use pandas.concat instead.\n",
      "  output_df = output_df.append(df)\n",
      "C:\\Users\\Kimbe\\AppData\\Local\\Temp/ipykernel_7100/3673173512.py:5: FutureWarning: The frame.append method is deprecated and will be removed from pandas in a future version. Use pandas.concat instead.\n",
      "  output_df = output_df.append(df)\n",
      "C:\\Users\\Kimbe\\AppData\\Local\\Temp/ipykernel_7100/3673173512.py:5: FutureWarning: The frame.append method is deprecated and will be removed from pandas in a future version. Use pandas.concat instead.\n",
      "  output_df = output_df.append(df)\n",
      "C:\\Users\\Kimbe\\AppData\\Local\\Temp/ipykernel_7100/3673173512.py:5: FutureWarning: The frame.append method is deprecated and will be removed from pandas in a future version. Use pandas.concat instead.\n",
      "  output_df = output_df.append(df)\n",
      "C:\\Users\\Kimbe\\AppData\\Local\\Temp/ipykernel_7100/3673173512.py:5: FutureWarning: The frame.append method is deprecated and will be removed from pandas in a future version. Use pandas.concat instead.\n",
      "  output_df = output_df.append(df)\n",
      "C:\\Users\\Kimbe\\AppData\\Local\\Temp/ipykernel_7100/3673173512.py:5: FutureWarning: The frame.append method is deprecated and will be removed from pandas in a future version. Use pandas.concat instead.\n",
      "  output_df = output_df.append(df)\n",
      "C:\\Users\\Kimbe\\AppData\\Local\\Temp/ipykernel_7100/3673173512.py:5: FutureWarning: The frame.append method is deprecated and will be removed from pandas in a future version. Use pandas.concat instead.\n",
      "  output_df = output_df.append(df)\n",
      "C:\\Users\\Kimbe\\AppData\\Local\\Temp/ipykernel_7100/3673173512.py:5: FutureWarning: The frame.append method is deprecated and will be removed from pandas in a future version. Use pandas.concat instead.\n",
      "  output_df = output_df.append(df)\n",
      "C:\\Users\\Kimbe\\AppData\\Local\\Temp/ipykernel_7100/3673173512.py:5: FutureWarning: The frame.append method is deprecated and will be removed from pandas in a future version. Use pandas.concat instead.\n",
      "  output_df = output_df.append(df)\n",
      "C:\\Users\\Kimbe\\AppData\\Local\\Temp/ipykernel_7100/3673173512.py:5: FutureWarning: The frame.append method is deprecated and will be removed from pandas in a future version. Use pandas.concat instead.\n",
      "  output_df = output_df.append(df)\n",
      "C:\\Users\\Kimbe\\AppData\\Local\\Temp/ipykernel_7100/3673173512.py:5: FutureWarning: The frame.append method is deprecated and will be removed from pandas in a future version. Use pandas.concat instead.\n",
      "  output_df = output_df.append(df)\n"
     ]
    },
    {
     "name": "stdout",
     "output_type": "stream",
     "text": [
      "Skipping row\n",
      "Skipping row\n"
     ]
    },
    {
     "name": "stderr",
     "output_type": "stream",
     "text": [
      "C:\\Users\\Kimbe\\AppData\\Local\\Temp/ipykernel_7100/3673173512.py:5: FutureWarning: The frame.append method is deprecated and will be removed from pandas in a future version. Use pandas.concat instead.\n",
      "  output_df = output_df.append(df)\n",
      "C:\\Users\\Kimbe\\AppData\\Local\\Temp/ipykernel_7100/3673173512.py:5: FutureWarning: The frame.append method is deprecated and will be removed from pandas in a future version. Use pandas.concat instead.\n",
      "  output_df = output_df.append(df)\n",
      "C:\\Users\\Kimbe\\AppData\\Local\\Temp/ipykernel_7100/3673173512.py:5: FutureWarning: The frame.append method is deprecated and will be removed from pandas in a future version. Use pandas.concat instead.\n",
      "  output_df = output_df.append(df)\n",
      "C:\\Users\\Kimbe\\AppData\\Local\\Temp/ipykernel_7100/3673173512.py:5: FutureWarning: The frame.append method is deprecated and will be removed from pandas in a future version. Use pandas.concat instead.\n",
      "  output_df = output_df.append(df)\n",
      "C:\\Users\\Kimbe\\AppData\\Local\\Temp/ipykernel_7100/3673173512.py:5: FutureWarning: The frame.append method is deprecated and will be removed from pandas in a future version. Use pandas.concat instead.\n",
      "  output_df = output_df.append(df)\n",
      "C:\\Users\\Kimbe\\AppData\\Local\\Temp/ipykernel_7100/3673173512.py:5: FutureWarning: The frame.append method is deprecated and will be removed from pandas in a future version. Use pandas.concat instead.\n",
      "  output_df = output_df.append(df)\n",
      "C:\\Users\\Kimbe\\AppData\\Local\\Temp/ipykernel_7100/3673173512.py:5: FutureWarning: The frame.append method is deprecated and will be removed from pandas in a future version. Use pandas.concat instead.\n",
      "  output_df = output_df.append(df)\n",
      "C:\\Users\\Kimbe\\AppData\\Local\\Temp/ipykernel_7100/3673173512.py:5: FutureWarning: The frame.append method is deprecated and will be removed from pandas in a future version. Use pandas.concat instead.\n",
      "  output_df = output_df.append(df)\n",
      "C:\\Users\\Kimbe\\AppData\\Local\\Temp/ipykernel_7100/3673173512.py:5: FutureWarning: The frame.append method is deprecated and will be removed from pandas in a future version. Use pandas.concat instead.\n",
      "  output_df = output_df.append(df)\n",
      "C:\\Users\\Kimbe\\AppData\\Local\\Temp/ipykernel_7100/3673173512.py:5: FutureWarning: The frame.append method is deprecated and will be removed from pandas in a future version. Use pandas.concat instead.\n",
      "  output_df = output_df.append(df)\n"
     ]
    },
    {
     "name": "stdout",
     "output_type": "stream",
     "text": [
      "Skipping row\n",
      "Skipping row\n"
     ]
    },
    {
     "name": "stderr",
     "output_type": "stream",
     "text": [
      "C:\\Users\\Kimbe\\AppData\\Local\\Temp/ipykernel_7100/3673173512.py:5: FutureWarning: The frame.append method is deprecated and will be removed from pandas in a future version. Use pandas.concat instead.\n",
      "  output_df = output_df.append(df)\n",
      "C:\\Users\\Kimbe\\AppData\\Local\\Temp/ipykernel_7100/3673173512.py:5: FutureWarning: The frame.append method is deprecated and will be removed from pandas in a future version. Use pandas.concat instead.\n",
      "  output_df = output_df.append(df)\n",
      "C:\\Users\\Kimbe\\AppData\\Local\\Temp/ipykernel_7100/3673173512.py:5: FutureWarning: The frame.append method is deprecated and will be removed from pandas in a future version. Use pandas.concat instead.\n",
      "  output_df = output_df.append(df)\n",
      "C:\\Users\\Kimbe\\AppData\\Local\\Temp/ipykernel_7100/3673173512.py:5: FutureWarning: The frame.append method is deprecated and will be removed from pandas in a future version. Use pandas.concat instead.\n",
      "  output_df = output_df.append(df)\n",
      "C:\\Users\\Kimbe\\AppData\\Local\\Temp/ipykernel_7100/3673173512.py:5: FutureWarning: The frame.append method is deprecated and will be removed from pandas in a future version. Use pandas.concat instead.\n",
      "  output_df = output_df.append(df)\n",
      "C:\\Users\\Kimbe\\AppData\\Local\\Temp/ipykernel_7100/3673173512.py:5: FutureWarning: The frame.append method is deprecated and will be removed from pandas in a future version. Use pandas.concat instead.\n",
      "  output_df = output_df.append(df)\n",
      "C:\\Users\\Kimbe\\AppData\\Local\\Temp/ipykernel_7100/3673173512.py:5: FutureWarning: The frame.append method is deprecated and will be removed from pandas in a future version. Use pandas.concat instead.\n",
      "  output_df = output_df.append(df)\n",
      "C:\\Users\\Kimbe\\AppData\\Local\\Temp/ipykernel_7100/3673173512.py:5: FutureWarning: The frame.append method is deprecated and will be removed from pandas in a future version. Use pandas.concat instead.\n",
      "  output_df = output_df.append(df)\n",
      "C:\\Users\\Kimbe\\AppData\\Local\\Temp/ipykernel_7100/3673173512.py:5: FutureWarning: The frame.append method is deprecated and will be removed from pandas in a future version. Use pandas.concat instead.\n",
      "  output_df = output_df.append(df)\n",
      "C:\\Users\\Kimbe\\AppData\\Local\\Temp/ipykernel_7100/3673173512.py:5: FutureWarning: The frame.append method is deprecated and will be removed from pandas in a future version. Use pandas.concat instead.\n",
      "  output_df = output_df.append(df)\n",
      "C:\\Users\\Kimbe\\AppData\\Local\\Temp/ipykernel_7100/3673173512.py:5: FutureWarning: The frame.append method is deprecated and will be removed from pandas in a future version. Use pandas.concat instead.\n",
      "  output_df = output_df.append(df)\n"
     ]
    },
    {
     "name": "stdout",
     "output_type": "stream",
     "text": [
      "Skipping row\n",
      "Skipping row\n"
     ]
    },
    {
     "name": "stderr",
     "output_type": "stream",
     "text": [
      "C:\\Users\\Kimbe\\AppData\\Local\\Temp/ipykernel_7100/3673173512.py:5: FutureWarning: The frame.append method is deprecated and will be removed from pandas in a future version. Use pandas.concat instead.\n",
      "  output_df = output_df.append(df)\n",
      "C:\\Users\\Kimbe\\AppData\\Local\\Temp/ipykernel_7100/3673173512.py:5: FutureWarning: The frame.append method is deprecated and will be removed from pandas in a future version. Use pandas.concat instead.\n",
      "  output_df = output_df.append(df)\n",
      "C:\\Users\\Kimbe\\AppData\\Local\\Temp/ipykernel_7100/3673173512.py:5: FutureWarning: The frame.append method is deprecated and will be removed from pandas in a future version. Use pandas.concat instead.\n",
      "  output_df = output_df.append(df)\n",
      "C:\\Users\\Kimbe\\AppData\\Local\\Temp/ipykernel_7100/3673173512.py:5: FutureWarning: The frame.append method is deprecated and will be removed from pandas in a future version. Use pandas.concat instead.\n",
      "  output_df = output_df.append(df)\n",
      "C:\\Users\\Kimbe\\AppData\\Local\\Temp/ipykernel_7100/3673173512.py:5: FutureWarning: The frame.append method is deprecated and will be removed from pandas in a future version. Use pandas.concat instead.\n",
      "  output_df = output_df.append(df)\n",
      "C:\\Users\\Kimbe\\AppData\\Local\\Temp/ipykernel_7100/3673173512.py:5: FutureWarning: The frame.append method is deprecated and will be removed from pandas in a future version. Use pandas.concat instead.\n",
      "  output_df = output_df.append(df)\n",
      "C:\\Users\\Kimbe\\AppData\\Local\\Temp/ipykernel_7100/3673173512.py:5: FutureWarning: The frame.append method is deprecated and will be removed from pandas in a future version. Use pandas.concat instead.\n",
      "  output_df = output_df.append(df)\n",
      "C:\\Users\\Kimbe\\AppData\\Local\\Temp/ipykernel_7100/3673173512.py:5: FutureWarning: The frame.append method is deprecated and will be removed from pandas in a future version. Use pandas.concat instead.\n",
      "  output_df = output_df.append(df)\n",
      "C:\\Users\\Kimbe\\AppData\\Local\\Temp/ipykernel_7100/3673173512.py:5: FutureWarning: The frame.append method is deprecated and will be removed from pandas in a future version. Use pandas.concat instead.\n",
      "  output_df = output_df.append(df)\n",
      "C:\\Users\\Kimbe\\AppData\\Local\\Temp/ipykernel_7100/3673173512.py:5: FutureWarning: The frame.append method is deprecated and will be removed from pandas in a future version. Use pandas.concat instead.\n",
      "  output_df = output_df.append(df)\n",
      "C:\\Users\\Kimbe\\AppData\\Local\\Temp/ipykernel_7100/3673173512.py:5: FutureWarning: The frame.append method is deprecated and will be removed from pandas in a future version. Use pandas.concat instead.\n",
      "  output_df = output_df.append(df)\n"
     ]
    },
    {
     "name": "stdout",
     "output_type": "stream",
     "text": [
      "Skipping row\n",
      "Skipping row\n"
     ]
    },
    {
     "name": "stderr",
     "output_type": "stream",
     "text": [
      "C:\\Users\\Kimbe\\AppData\\Local\\Temp/ipykernel_7100/3673173512.py:5: FutureWarning: The frame.append method is deprecated and will be removed from pandas in a future version. Use pandas.concat instead.\n",
      "  output_df = output_df.append(df)\n",
      "C:\\Users\\Kimbe\\AppData\\Local\\Temp/ipykernel_7100/3673173512.py:5: FutureWarning: The frame.append method is deprecated and will be removed from pandas in a future version. Use pandas.concat instead.\n",
      "  output_df = output_df.append(df)\n",
      "C:\\Users\\Kimbe\\AppData\\Local\\Temp/ipykernel_7100/3673173512.py:5: FutureWarning: The frame.append method is deprecated and will be removed from pandas in a future version. Use pandas.concat instead.\n",
      "  output_df = output_df.append(df)\n",
      "C:\\Users\\Kimbe\\AppData\\Local\\Temp/ipykernel_7100/3673173512.py:5: FutureWarning: The frame.append method is deprecated and will be removed from pandas in a future version. Use pandas.concat instead.\n",
      "  output_df = output_df.append(df)\n",
      "C:\\Users\\Kimbe\\AppData\\Local\\Temp/ipykernel_7100/3673173512.py:5: FutureWarning: The frame.append method is deprecated and will be removed from pandas in a future version. Use pandas.concat instead.\n",
      "  output_df = output_df.append(df)\n",
      "C:\\Users\\Kimbe\\AppData\\Local\\Temp/ipykernel_7100/3673173512.py:5: FutureWarning: The frame.append method is deprecated and will be removed from pandas in a future version. Use pandas.concat instead.\n",
      "  output_df = output_df.append(df)\n",
      "C:\\Users\\Kimbe\\AppData\\Local\\Temp/ipykernel_7100/3673173512.py:5: FutureWarning: The frame.append method is deprecated and will be removed from pandas in a future version. Use pandas.concat instead.\n",
      "  output_df = output_df.append(df)\n",
      "C:\\Users\\Kimbe\\AppData\\Local\\Temp/ipykernel_7100/3673173512.py:5: FutureWarning: The frame.append method is deprecated and will be removed from pandas in a future version. Use pandas.concat instead.\n",
      "  output_df = output_df.append(df)\n",
      "C:\\Users\\Kimbe\\AppData\\Local\\Temp/ipykernel_7100/3673173512.py:5: FutureWarning: The frame.append method is deprecated and will be removed from pandas in a future version. Use pandas.concat instead.\n",
      "  output_df = output_df.append(df)\n",
      "C:\\Users\\Kimbe\\AppData\\Local\\Temp/ipykernel_7100/3673173512.py:5: FutureWarning: The frame.append method is deprecated and will be removed from pandas in a future version. Use pandas.concat instead.\n",
      "  output_df = output_df.append(df)\n",
      "C:\\Users\\Kimbe\\AppData\\Local\\Temp/ipykernel_7100/3673173512.py:5: FutureWarning: The frame.append method is deprecated and will be removed from pandas in a future version. Use pandas.concat instead.\n",
      "  output_df = output_df.append(df)\n"
     ]
    },
    {
     "name": "stdout",
     "output_type": "stream",
     "text": [
      "Skipping row\n",
      "Skipping row\n"
     ]
    },
    {
     "name": "stderr",
     "output_type": "stream",
     "text": [
      "C:\\Users\\Kimbe\\AppData\\Local\\Temp/ipykernel_7100/3673173512.py:5: FutureWarning: The frame.append method is deprecated and will be removed from pandas in a future version. Use pandas.concat instead.\n",
      "  output_df = output_df.append(df)\n",
      "C:\\Users\\Kimbe\\AppData\\Local\\Temp/ipykernel_7100/3673173512.py:5: FutureWarning: The frame.append method is deprecated and will be removed from pandas in a future version. Use pandas.concat instead.\n",
      "  output_df = output_df.append(df)\n",
      "C:\\Users\\Kimbe\\AppData\\Local\\Temp/ipykernel_7100/3673173512.py:5: FutureWarning: The frame.append method is deprecated and will be removed from pandas in a future version. Use pandas.concat instead.\n",
      "  output_df = output_df.append(df)\n",
      "C:\\Users\\Kimbe\\AppData\\Local\\Temp/ipykernel_7100/3673173512.py:5: FutureWarning: The frame.append method is deprecated and will be removed from pandas in a future version. Use pandas.concat instead.\n",
      "  output_df = output_df.append(df)\n",
      "C:\\Users\\Kimbe\\AppData\\Local\\Temp/ipykernel_7100/3673173512.py:5: FutureWarning: The frame.append method is deprecated and will be removed from pandas in a future version. Use pandas.concat instead.\n",
      "  output_df = output_df.append(df)\n",
      "C:\\Users\\Kimbe\\AppData\\Local\\Temp/ipykernel_7100/3673173512.py:5: FutureWarning: The frame.append method is deprecated and will be removed from pandas in a future version. Use pandas.concat instead.\n",
      "  output_df = output_df.append(df)\n",
      "C:\\Users\\Kimbe\\AppData\\Local\\Temp/ipykernel_7100/3673173512.py:5: FutureWarning: The frame.append method is deprecated and will be removed from pandas in a future version. Use pandas.concat instead.\n",
      "  output_df = output_df.append(df)\n",
      "C:\\Users\\Kimbe\\AppData\\Local\\Temp/ipykernel_7100/3673173512.py:5: FutureWarning: The frame.append method is deprecated and will be removed from pandas in a future version. Use pandas.concat instead.\n",
      "  output_df = output_df.append(df)\n",
      "C:\\Users\\Kimbe\\AppData\\Local\\Temp/ipykernel_7100/3673173512.py:5: FutureWarning: The frame.append method is deprecated and will be removed from pandas in a future version. Use pandas.concat instead.\n",
      "  output_df = output_df.append(df)\n",
      "C:\\Users\\Kimbe\\AppData\\Local\\Temp/ipykernel_7100/3673173512.py:5: FutureWarning: The frame.append method is deprecated and will be removed from pandas in a future version. Use pandas.concat instead.\n",
      "  output_df = output_df.append(df)\n",
      "C:\\Users\\Kimbe\\AppData\\Local\\Temp/ipykernel_7100/3673173512.py:5: FutureWarning: The frame.append method is deprecated and will be removed from pandas in a future version. Use pandas.concat instead.\n",
      "  output_df = output_df.append(df)\n"
     ]
    },
    {
     "name": "stdout",
     "output_type": "stream",
     "text": [
      "Skipping row\n",
      "Skipping row\n"
     ]
    },
    {
     "name": "stderr",
     "output_type": "stream",
     "text": [
      "C:\\Users\\Kimbe\\AppData\\Local\\Temp/ipykernel_7100/3673173512.py:5: FutureWarning: The frame.append method is deprecated and will be removed from pandas in a future version. Use pandas.concat instead.\n",
      "  output_df = output_df.append(df)\n",
      "C:\\Users\\Kimbe\\AppData\\Local\\Temp/ipykernel_7100/3673173512.py:5: FutureWarning: The frame.append method is deprecated and will be removed from pandas in a future version. Use pandas.concat instead.\n",
      "  output_df = output_df.append(df)\n",
      "C:\\Users\\Kimbe\\AppData\\Local\\Temp/ipykernel_7100/3673173512.py:5: FutureWarning: The frame.append method is deprecated and will be removed from pandas in a future version. Use pandas.concat instead.\n",
      "  output_df = output_df.append(df)\n",
      "C:\\Users\\Kimbe\\AppData\\Local\\Temp/ipykernel_7100/3673173512.py:5: FutureWarning: The frame.append method is deprecated and will be removed from pandas in a future version. Use pandas.concat instead.\n",
      "  output_df = output_df.append(df)\n",
      "C:\\Users\\Kimbe\\AppData\\Local\\Temp/ipykernel_7100/3673173512.py:5: FutureWarning: The frame.append method is deprecated and will be removed from pandas in a future version. Use pandas.concat instead.\n",
      "  output_df = output_df.append(df)\n",
      "C:\\Users\\Kimbe\\AppData\\Local\\Temp/ipykernel_7100/3673173512.py:5: FutureWarning: The frame.append method is deprecated and will be removed from pandas in a future version. Use pandas.concat instead.\n",
      "  output_df = output_df.append(df)\n",
      "C:\\Users\\Kimbe\\AppData\\Local\\Temp/ipykernel_7100/3673173512.py:5: FutureWarning: The frame.append method is deprecated and will be removed from pandas in a future version. Use pandas.concat instead.\n",
      "  output_df = output_df.append(df)\n",
      "C:\\Users\\Kimbe\\AppData\\Local\\Temp/ipykernel_7100/3673173512.py:5: FutureWarning: The frame.append method is deprecated and will be removed from pandas in a future version. Use pandas.concat instead.\n",
      "  output_df = output_df.append(df)\n",
      "C:\\Users\\Kimbe\\AppData\\Local\\Temp/ipykernel_7100/3673173512.py:5: FutureWarning: The frame.append method is deprecated and will be removed from pandas in a future version. Use pandas.concat instead.\n",
      "  output_df = output_df.append(df)\n",
      "C:\\Users\\Kimbe\\AppData\\Local\\Temp/ipykernel_7100/3673173512.py:5: FutureWarning: The frame.append method is deprecated and will be removed from pandas in a future version. Use pandas.concat instead.\n",
      "  output_df = output_df.append(df)\n",
      "C:\\Users\\Kimbe\\AppData\\Local\\Temp/ipykernel_7100/3673173512.py:5: FutureWarning: The frame.append method is deprecated and will be removed from pandas in a future version. Use pandas.concat instead.\n",
      "  output_df = output_df.append(df)\n"
     ]
    },
    {
     "name": "stdout",
     "output_type": "stream",
     "text": [
      "Skipping row\n",
      "Skipping row\n"
     ]
    },
    {
     "name": "stderr",
     "output_type": "stream",
     "text": [
      "C:\\Users\\Kimbe\\AppData\\Local\\Temp/ipykernel_7100/3673173512.py:5: FutureWarning: The frame.append method is deprecated and will be removed from pandas in a future version. Use pandas.concat instead.\n",
      "  output_df = output_df.append(df)\n",
      "C:\\Users\\Kimbe\\AppData\\Local\\Temp/ipykernel_7100/3673173512.py:5: FutureWarning: The frame.append method is deprecated and will be removed from pandas in a future version. Use pandas.concat instead.\n",
      "  output_df = output_df.append(df)\n",
      "C:\\Users\\Kimbe\\AppData\\Local\\Temp/ipykernel_7100/3673173512.py:5: FutureWarning: The frame.append method is deprecated and will be removed from pandas in a future version. Use pandas.concat instead.\n",
      "  output_df = output_df.append(df)\n",
      "C:\\Users\\Kimbe\\AppData\\Local\\Temp/ipykernel_7100/3673173512.py:5: FutureWarning: The frame.append method is deprecated and will be removed from pandas in a future version. Use pandas.concat instead.\n",
      "  output_df = output_df.append(df)\n",
      "C:\\Users\\Kimbe\\AppData\\Local\\Temp/ipykernel_7100/3673173512.py:5: FutureWarning: The frame.append method is deprecated and will be removed from pandas in a future version. Use pandas.concat instead.\n",
      "  output_df = output_df.append(df)\n",
      "C:\\Users\\Kimbe\\AppData\\Local\\Temp/ipykernel_7100/3673173512.py:5: FutureWarning: The frame.append method is deprecated and will be removed from pandas in a future version. Use pandas.concat instead.\n",
      "  output_df = output_df.append(df)\n",
      "C:\\Users\\Kimbe\\AppData\\Local\\Temp/ipykernel_7100/3673173512.py:5: FutureWarning: The frame.append method is deprecated and will be removed from pandas in a future version. Use pandas.concat instead.\n",
      "  output_df = output_df.append(df)\n",
      "C:\\Users\\Kimbe\\AppData\\Local\\Temp/ipykernel_7100/3673173512.py:5: FutureWarning: The frame.append method is deprecated and will be removed from pandas in a future version. Use pandas.concat instead.\n",
      "  output_df = output_df.append(df)\n",
      "C:\\Users\\Kimbe\\AppData\\Local\\Temp/ipykernel_7100/3673173512.py:5: FutureWarning: The frame.append method is deprecated and will be removed from pandas in a future version. Use pandas.concat instead.\n",
      "  output_df = output_df.append(df)\n",
      "C:\\Users\\Kimbe\\AppData\\Local\\Temp/ipykernel_7100/3673173512.py:5: FutureWarning: The frame.append method is deprecated and will be removed from pandas in a future version. Use pandas.concat instead.\n",
      "  output_df = output_df.append(df)\n",
      "C:\\Users\\Kimbe\\AppData\\Local\\Temp/ipykernel_7100/3673173512.py:5: FutureWarning: The frame.append method is deprecated and will be removed from pandas in a future version. Use pandas.concat instead.\n",
      "  output_df = output_df.append(df)\n"
     ]
    },
    {
     "name": "stdout",
     "output_type": "stream",
     "text": [
      "Skipping row\n",
      "Skipping row\n"
     ]
    },
    {
     "name": "stderr",
     "output_type": "stream",
     "text": [
      "C:\\Users\\Kimbe\\AppData\\Local\\Temp/ipykernel_7100/3673173512.py:5: FutureWarning: The frame.append method is deprecated and will be removed from pandas in a future version. Use pandas.concat instead.\n",
      "  output_df = output_df.append(df)\n",
      "C:\\Users\\Kimbe\\AppData\\Local\\Temp/ipykernel_7100/3673173512.py:5: FutureWarning: The frame.append method is deprecated and will be removed from pandas in a future version. Use pandas.concat instead.\n",
      "  output_df = output_df.append(df)\n",
      "C:\\Users\\Kimbe\\AppData\\Local\\Temp/ipykernel_7100/3673173512.py:5: FutureWarning: The frame.append method is deprecated and will be removed from pandas in a future version. Use pandas.concat instead.\n",
      "  output_df = output_df.append(df)\n",
      "C:\\Users\\Kimbe\\AppData\\Local\\Temp/ipykernel_7100/3673173512.py:5: FutureWarning: The frame.append method is deprecated and will be removed from pandas in a future version. Use pandas.concat instead.\n",
      "  output_df = output_df.append(df)\n",
      "C:\\Users\\Kimbe\\AppData\\Local\\Temp/ipykernel_7100/3673173512.py:5: FutureWarning: The frame.append method is deprecated and will be removed from pandas in a future version. Use pandas.concat instead.\n",
      "  output_df = output_df.append(df)\n",
      "C:\\Users\\Kimbe\\AppData\\Local\\Temp/ipykernel_7100/3673173512.py:5: FutureWarning: The frame.append method is deprecated and will be removed from pandas in a future version. Use pandas.concat instead.\n",
      "  output_df = output_df.append(df)\n",
      "C:\\Users\\Kimbe\\AppData\\Local\\Temp/ipykernel_7100/3673173512.py:5: FutureWarning: The frame.append method is deprecated and will be removed from pandas in a future version. Use pandas.concat instead.\n",
      "  output_df = output_df.append(df)\n",
      "C:\\Users\\Kimbe\\AppData\\Local\\Temp/ipykernel_7100/3673173512.py:5: FutureWarning: The frame.append method is deprecated and will be removed from pandas in a future version. Use pandas.concat instead.\n",
      "  output_df = output_df.append(df)\n",
      "C:\\Users\\Kimbe\\AppData\\Local\\Temp/ipykernel_7100/3673173512.py:5: FutureWarning: The frame.append method is deprecated and will be removed from pandas in a future version. Use pandas.concat instead.\n",
      "  output_df = output_df.append(df)\n",
      "C:\\Users\\Kimbe\\AppData\\Local\\Temp/ipykernel_7100/3673173512.py:5: FutureWarning: The frame.append method is deprecated and will be removed from pandas in a future version. Use pandas.concat instead.\n",
      "  output_df = output_df.append(df)\n",
      "C:\\Users\\Kimbe\\AppData\\Local\\Temp/ipykernel_7100/3673173512.py:5: FutureWarning: The frame.append method is deprecated and will be removed from pandas in a future version. Use pandas.concat instead.\n",
      "  output_df = output_df.append(df)\n"
     ]
    },
    {
     "name": "stdout",
     "output_type": "stream",
     "text": [
      "Skipping row\n",
      "Skipping row\n"
     ]
    },
    {
     "name": "stderr",
     "output_type": "stream",
     "text": [
      "C:\\Users\\Kimbe\\AppData\\Local\\Temp/ipykernel_7100/3673173512.py:5: FutureWarning: The frame.append method is deprecated and will be removed from pandas in a future version. Use pandas.concat instead.\n",
      "  output_df = output_df.append(df)\n",
      "C:\\Users\\Kimbe\\AppData\\Local\\Temp/ipykernel_7100/3673173512.py:5: FutureWarning: The frame.append method is deprecated and will be removed from pandas in a future version. Use pandas.concat instead.\n",
      "  output_df = output_df.append(df)\n",
      "C:\\Users\\Kimbe\\AppData\\Local\\Temp/ipykernel_7100/3673173512.py:5: FutureWarning: The frame.append method is deprecated and will be removed from pandas in a future version. Use pandas.concat instead.\n",
      "  output_df = output_df.append(df)\n",
      "C:\\Users\\Kimbe\\AppData\\Local\\Temp/ipykernel_7100/3673173512.py:5: FutureWarning: The frame.append method is deprecated and will be removed from pandas in a future version. Use pandas.concat instead.\n",
      "  output_df = output_df.append(df)\n",
      "C:\\Users\\Kimbe\\AppData\\Local\\Temp/ipykernel_7100/3673173512.py:5: FutureWarning: The frame.append method is deprecated and will be removed from pandas in a future version. Use pandas.concat instead.\n",
      "  output_df = output_df.append(df)\n",
      "C:\\Users\\Kimbe\\AppData\\Local\\Temp/ipykernel_7100/3673173512.py:5: FutureWarning: The frame.append method is deprecated and will be removed from pandas in a future version. Use pandas.concat instead.\n",
      "  output_df = output_df.append(df)\n",
      "C:\\Users\\Kimbe\\AppData\\Local\\Temp/ipykernel_7100/3673173512.py:5: FutureWarning: The frame.append method is deprecated and will be removed from pandas in a future version. Use pandas.concat instead.\n",
      "  output_df = output_df.append(df)\n",
      "C:\\Users\\Kimbe\\AppData\\Local\\Temp/ipykernel_7100/3673173512.py:5: FutureWarning: The frame.append method is deprecated and will be removed from pandas in a future version. Use pandas.concat instead.\n",
      "  output_df = output_df.append(df)\n",
      "C:\\Users\\Kimbe\\AppData\\Local\\Temp/ipykernel_7100/3673173512.py:5: FutureWarning: The frame.append method is deprecated and will be removed from pandas in a future version. Use pandas.concat instead.\n",
      "  output_df = output_df.append(df)\n",
      "C:\\Users\\Kimbe\\AppData\\Local\\Temp/ipykernel_7100/3673173512.py:5: FutureWarning: The frame.append method is deprecated and will be removed from pandas in a future version. Use pandas.concat instead.\n",
      "  output_df = output_df.append(df)\n",
      "C:\\Users\\Kimbe\\AppData\\Local\\Temp/ipykernel_7100/3673173512.py:5: FutureWarning: The frame.append method is deprecated and will be removed from pandas in a future version. Use pandas.concat instead.\n",
      "  output_df = output_df.append(df)\n",
      "C:\\Users\\Kimbe\\AppData\\Local\\Temp/ipykernel_7100/3673173512.py:5: FutureWarning: The frame.append method is deprecated and will be removed from pandas in a future version. Use pandas.concat instead.\n",
      "  output_df = output_df.append(df)\n",
      "C:\\Users\\Kimbe\\AppData\\Local\\Temp/ipykernel_7100/3673173512.py:5: FutureWarning: The frame.append method is deprecated and will be removed from pandas in a future version. Use pandas.concat instead.\n",
      "  output_df = output_df.append(df)\n",
      "C:\\Users\\Kimbe\\AppData\\Local\\Temp/ipykernel_7100/3673173512.py:5: FutureWarning: The frame.append method is deprecated and will be removed from pandas in a future version. Use pandas.concat instead.\n",
      "  output_df = output_df.append(df)\n",
      "C:\\Users\\Kimbe\\AppData\\Local\\Temp/ipykernel_7100/3673173512.py:5: FutureWarning: The frame.append method is deprecated and will be removed from pandas in a future version. Use pandas.concat instead.\n",
      "  output_df = output_df.append(df)\n",
      "C:\\Users\\Kimbe\\AppData\\Local\\Temp/ipykernel_7100/3673173512.py:5: FutureWarning: The frame.append method is deprecated and will be removed from pandas in a future version. Use pandas.concat instead.\n",
      "  output_df = output_df.append(df)\n",
      "C:\\Users\\Kimbe\\AppData\\Local\\Temp/ipykernel_7100/3673173512.py:5: FutureWarning: The frame.append method is deprecated and will be removed from pandas in a future version. Use pandas.concat instead.\n",
      "  output_df = output_df.append(df)\n",
      "C:\\Users\\Kimbe\\AppData\\Local\\Temp/ipykernel_7100/3673173512.py:5: FutureWarning: The frame.append method is deprecated and will be removed from pandas in a future version. Use pandas.concat instead.\n",
      "  output_df = output_df.append(df)\n",
      "C:\\Users\\Kimbe\\AppData\\Local\\Temp/ipykernel_7100/3673173512.py:5: FutureWarning: The frame.append method is deprecated and will be removed from pandas in a future version. Use pandas.concat instead.\n",
      "  output_df = output_df.append(df)\n",
      "C:\\Users\\Kimbe\\AppData\\Local\\Temp/ipykernel_7100/3673173512.py:5: FutureWarning: The frame.append method is deprecated and will be removed from pandas in a future version. Use pandas.concat instead.\n",
      "  output_df = output_df.append(df)\n",
      "C:\\Users\\Kimbe\\AppData\\Local\\Temp/ipykernel_7100/3673173512.py:5: FutureWarning: The frame.append method is deprecated and will be removed from pandas in a future version. Use pandas.concat instead.\n",
      "  output_df = output_df.append(df)\n",
      "C:\\Users\\Kimbe\\AppData\\Local\\Temp/ipykernel_7100/3673173512.py:5: FutureWarning: The frame.append method is deprecated and will be removed from pandas in a future version. Use pandas.concat instead.\n",
      "  output_df = output_df.append(df)\n"
     ]
    },
    {
     "name": "stdout",
     "output_type": "stream",
     "text": [
      "Skipping row\n",
      "Skipping row\n"
     ]
    },
    {
     "name": "stderr",
     "output_type": "stream",
     "text": [
      "C:\\Users\\Kimbe\\AppData\\Local\\Temp/ipykernel_7100/3673173512.py:5: FutureWarning: The frame.append method is deprecated and will be removed from pandas in a future version. Use pandas.concat instead.\n",
      "  output_df = output_df.append(df)\n",
      "C:\\Users\\Kimbe\\AppData\\Local\\Temp/ipykernel_7100/3673173512.py:5: FutureWarning: The frame.append method is deprecated and will be removed from pandas in a future version. Use pandas.concat instead.\n",
      "  output_df = output_df.append(df)\n",
      "C:\\Users\\Kimbe\\AppData\\Local\\Temp/ipykernel_7100/3673173512.py:5: FutureWarning: The frame.append method is deprecated and will be removed from pandas in a future version. Use pandas.concat instead.\n",
      "  output_df = output_df.append(df)\n",
      "C:\\Users\\Kimbe\\AppData\\Local\\Temp/ipykernel_7100/3673173512.py:5: FutureWarning: The frame.append method is deprecated and will be removed from pandas in a future version. Use pandas.concat instead.\n",
      "  output_df = output_df.append(df)\n",
      "C:\\Users\\Kimbe\\AppData\\Local\\Temp/ipykernel_7100/3673173512.py:5: FutureWarning: The frame.append method is deprecated and will be removed from pandas in a future version. Use pandas.concat instead.\n",
      "  output_df = output_df.append(df)\n",
      "C:\\Users\\Kimbe\\AppData\\Local\\Temp/ipykernel_7100/3673173512.py:5: FutureWarning: The frame.append method is deprecated and will be removed from pandas in a future version. Use pandas.concat instead.\n",
      "  output_df = output_df.append(df)\n",
      "C:\\Users\\Kimbe\\AppData\\Local\\Temp/ipykernel_7100/3673173512.py:5: FutureWarning: The frame.append method is deprecated and will be removed from pandas in a future version. Use pandas.concat instead.\n",
      "  output_df = output_df.append(df)\n",
      "C:\\Users\\Kimbe\\AppData\\Local\\Temp/ipykernel_7100/3673173512.py:5: FutureWarning: The frame.append method is deprecated and will be removed from pandas in a future version. Use pandas.concat instead.\n",
      "  output_df = output_df.append(df)\n",
      "C:\\Users\\Kimbe\\AppData\\Local\\Temp/ipykernel_7100/3673173512.py:5: FutureWarning: The frame.append method is deprecated and will be removed from pandas in a future version. Use pandas.concat instead.\n",
      "  output_df = output_df.append(df)\n",
      "C:\\Users\\Kimbe\\AppData\\Local\\Temp/ipykernel_7100/3673173512.py:5: FutureWarning: The frame.append method is deprecated and will be removed from pandas in a future version. Use pandas.concat instead.\n",
      "  output_df = output_df.append(df)\n",
      "C:\\Users\\Kimbe\\AppData\\Local\\Temp/ipykernel_7100/3673173512.py:5: FutureWarning: The frame.append method is deprecated and will be removed from pandas in a future version. Use pandas.concat instead.\n",
      "  output_df = output_df.append(df)\n"
     ]
    },
    {
     "name": "stdout",
     "output_type": "stream",
     "text": [
      "Skipping row\n",
      "Skipping row\n"
     ]
    },
    {
     "name": "stderr",
     "output_type": "stream",
     "text": [
      "C:\\Users\\Kimbe\\AppData\\Local\\Temp/ipykernel_7100/3673173512.py:5: FutureWarning: The frame.append method is deprecated and will be removed from pandas in a future version. Use pandas.concat instead.\n",
      "  output_df = output_df.append(df)\n",
      "C:\\Users\\Kimbe\\AppData\\Local\\Temp/ipykernel_7100/3673173512.py:5: FutureWarning: The frame.append method is deprecated and will be removed from pandas in a future version. Use pandas.concat instead.\n",
      "  output_df = output_df.append(df)\n",
      "C:\\Users\\Kimbe\\AppData\\Local\\Temp/ipykernel_7100/3673173512.py:5: FutureWarning: The frame.append method is deprecated and will be removed from pandas in a future version. Use pandas.concat instead.\n",
      "  output_df = output_df.append(df)\n",
      "C:\\Users\\Kimbe\\AppData\\Local\\Temp/ipykernel_7100/3673173512.py:5: FutureWarning: The frame.append method is deprecated and will be removed from pandas in a future version. Use pandas.concat instead.\n",
      "  output_df = output_df.append(df)\n",
      "C:\\Users\\Kimbe\\AppData\\Local\\Temp/ipykernel_7100/3673173512.py:5: FutureWarning: The frame.append method is deprecated and will be removed from pandas in a future version. Use pandas.concat instead.\n",
      "  output_df = output_df.append(df)\n",
      "C:\\Users\\Kimbe\\AppData\\Local\\Temp/ipykernel_7100/3673173512.py:5: FutureWarning: The frame.append method is deprecated and will be removed from pandas in a future version. Use pandas.concat instead.\n",
      "  output_df = output_df.append(df)\n",
      "C:\\Users\\Kimbe\\AppData\\Local\\Temp/ipykernel_7100/3673173512.py:5: FutureWarning: The frame.append method is deprecated and will be removed from pandas in a future version. Use pandas.concat instead.\n",
      "  output_df = output_df.append(df)\n",
      "C:\\Users\\Kimbe\\AppData\\Local\\Temp/ipykernel_7100/3673173512.py:5: FutureWarning: The frame.append method is deprecated and will be removed from pandas in a future version. Use pandas.concat instead.\n",
      "  output_df = output_df.append(df)\n",
      "C:\\Users\\Kimbe\\AppData\\Local\\Temp/ipykernel_7100/3673173512.py:5: FutureWarning: The frame.append method is deprecated and will be removed from pandas in a future version. Use pandas.concat instead.\n",
      "  output_df = output_df.append(df)\n",
      "C:\\Users\\Kimbe\\AppData\\Local\\Temp/ipykernel_7100/3673173512.py:5: FutureWarning: The frame.append method is deprecated and will be removed from pandas in a future version. Use pandas.concat instead.\n",
      "  output_df = output_df.append(df)\n",
      "C:\\Users\\Kimbe\\AppData\\Local\\Temp/ipykernel_7100/3673173512.py:5: FutureWarning: The frame.append method is deprecated and will be removed from pandas in a future version. Use pandas.concat instead.\n",
      "  output_df = output_df.append(df)\n"
     ]
    },
    {
     "name": "stdout",
     "output_type": "stream",
     "text": [
      "Skipping row\n",
      "Skipping row\n"
     ]
    },
    {
     "name": "stderr",
     "output_type": "stream",
     "text": [
      "C:\\Users\\Kimbe\\AppData\\Local\\Temp/ipykernel_7100/3673173512.py:5: FutureWarning: The frame.append method is deprecated and will be removed from pandas in a future version. Use pandas.concat instead.\n",
      "  output_df = output_df.append(df)\n",
      "C:\\Users\\Kimbe\\AppData\\Local\\Temp/ipykernel_7100/3673173512.py:5: FutureWarning: The frame.append method is deprecated and will be removed from pandas in a future version. Use pandas.concat instead.\n",
      "  output_df = output_df.append(df)\n",
      "C:\\Users\\Kimbe\\AppData\\Local\\Temp/ipykernel_7100/3673173512.py:5: FutureWarning: The frame.append method is deprecated and will be removed from pandas in a future version. Use pandas.concat instead.\n",
      "  output_df = output_df.append(df)\n",
      "C:\\Users\\Kimbe\\AppData\\Local\\Temp/ipykernel_7100/3673173512.py:5: FutureWarning: The frame.append method is deprecated and will be removed from pandas in a future version. Use pandas.concat instead.\n",
      "  output_df = output_df.append(df)\n",
      "C:\\Users\\Kimbe\\AppData\\Local\\Temp/ipykernel_7100/3673173512.py:5: FutureWarning: The frame.append method is deprecated and will be removed from pandas in a future version. Use pandas.concat instead.\n",
      "  output_df = output_df.append(df)\n",
      "C:\\Users\\Kimbe\\AppData\\Local\\Temp/ipykernel_7100/3673173512.py:5: FutureWarning: The frame.append method is deprecated and will be removed from pandas in a future version. Use pandas.concat instead.\n",
      "  output_df = output_df.append(df)\n",
      "C:\\Users\\Kimbe\\AppData\\Local\\Temp/ipykernel_7100/3673173512.py:5: FutureWarning: The frame.append method is deprecated and will be removed from pandas in a future version. Use pandas.concat instead.\n",
      "  output_df = output_df.append(df)\n",
      "C:\\Users\\Kimbe\\AppData\\Local\\Temp/ipykernel_7100/3673173512.py:5: FutureWarning: The frame.append method is deprecated and will be removed from pandas in a future version. Use pandas.concat instead.\n",
      "  output_df = output_df.append(df)\n",
      "C:\\Users\\Kimbe\\AppData\\Local\\Temp/ipykernel_7100/3673173512.py:5: FutureWarning: The frame.append method is deprecated and will be removed from pandas in a future version. Use pandas.concat instead.\n",
      "  output_df = output_df.append(df)\n",
      "C:\\Users\\Kimbe\\AppData\\Local\\Temp/ipykernel_7100/3673173512.py:5: FutureWarning: The frame.append method is deprecated and will be removed from pandas in a future version. Use pandas.concat instead.\n",
      "  output_df = output_df.append(df)\n",
      "C:\\Users\\Kimbe\\AppData\\Local\\Temp/ipykernel_7100/3673173512.py:5: FutureWarning: The frame.append method is deprecated and will be removed from pandas in a future version. Use pandas.concat instead.\n",
      "  output_df = output_df.append(df)\n"
     ]
    },
    {
     "name": "stdout",
     "output_type": "stream",
     "text": [
      "Skipping row\n",
      "Skipping row\n"
     ]
    },
    {
     "name": "stderr",
     "output_type": "stream",
     "text": [
      "C:\\Users\\Kimbe\\AppData\\Local\\Temp/ipykernel_7100/3673173512.py:5: FutureWarning: The frame.append method is deprecated and will be removed from pandas in a future version. Use pandas.concat instead.\n",
      "  output_df = output_df.append(df)\n",
      "C:\\Users\\Kimbe\\AppData\\Local\\Temp/ipykernel_7100/3673173512.py:5: FutureWarning: The frame.append method is deprecated and will be removed from pandas in a future version. Use pandas.concat instead.\n",
      "  output_df = output_df.append(df)\n",
      "C:\\Users\\Kimbe\\AppData\\Local\\Temp/ipykernel_7100/3673173512.py:5: FutureWarning: The frame.append method is deprecated and will be removed from pandas in a future version. Use pandas.concat instead.\n",
      "  output_df = output_df.append(df)\n",
      "C:\\Users\\Kimbe\\AppData\\Local\\Temp/ipykernel_7100/3673173512.py:5: FutureWarning: The frame.append method is deprecated and will be removed from pandas in a future version. Use pandas.concat instead.\n",
      "  output_df = output_df.append(df)\n",
      "C:\\Users\\Kimbe\\AppData\\Local\\Temp/ipykernel_7100/3673173512.py:5: FutureWarning: The frame.append method is deprecated and will be removed from pandas in a future version. Use pandas.concat instead.\n",
      "  output_df = output_df.append(df)\n",
      "C:\\Users\\Kimbe\\AppData\\Local\\Temp/ipykernel_7100/3673173512.py:5: FutureWarning: The frame.append method is deprecated and will be removed from pandas in a future version. Use pandas.concat instead.\n",
      "  output_df = output_df.append(df)\n",
      "C:\\Users\\Kimbe\\AppData\\Local\\Temp/ipykernel_7100/3673173512.py:5: FutureWarning: The frame.append method is deprecated and will be removed from pandas in a future version. Use pandas.concat instead.\n",
      "  output_df = output_df.append(df)\n",
      "C:\\Users\\Kimbe\\AppData\\Local\\Temp/ipykernel_7100/3673173512.py:5: FutureWarning: The frame.append method is deprecated and will be removed from pandas in a future version. Use pandas.concat instead.\n",
      "  output_df = output_df.append(df)\n",
      "C:\\Users\\Kimbe\\AppData\\Local\\Temp/ipykernel_7100/3673173512.py:5: FutureWarning: The frame.append method is deprecated and will be removed from pandas in a future version. Use pandas.concat instead.\n",
      "  output_df = output_df.append(df)\n",
      "C:\\Users\\Kimbe\\AppData\\Local\\Temp/ipykernel_7100/3673173512.py:5: FutureWarning: The frame.append method is deprecated and will be removed from pandas in a future version. Use pandas.concat instead.\n",
      "  output_df = output_df.append(df)\n",
      "C:\\Users\\Kimbe\\AppData\\Local\\Temp/ipykernel_7100/3673173512.py:5: FutureWarning: The frame.append method is deprecated and will be removed from pandas in a future version. Use pandas.concat instead.\n",
      "  output_df = output_df.append(df)\n"
     ]
    },
    {
     "name": "stdout",
     "output_type": "stream",
     "text": [
      "Skipping row\n",
      "Skipping row\n"
     ]
    },
    {
     "name": "stderr",
     "output_type": "stream",
     "text": [
      "C:\\Users\\Kimbe\\AppData\\Local\\Temp/ipykernel_7100/3673173512.py:5: FutureWarning: The frame.append method is deprecated and will be removed from pandas in a future version. Use pandas.concat instead.\n",
      "  output_df = output_df.append(df)\n",
      "C:\\Users\\Kimbe\\AppData\\Local\\Temp/ipykernel_7100/3673173512.py:5: FutureWarning: The frame.append method is deprecated and will be removed from pandas in a future version. Use pandas.concat instead.\n",
      "  output_df = output_df.append(df)\n",
      "C:\\Users\\Kimbe\\AppData\\Local\\Temp/ipykernel_7100/3673173512.py:5: FutureWarning: The frame.append method is deprecated and will be removed from pandas in a future version. Use pandas.concat instead.\n",
      "  output_df = output_df.append(df)\n",
      "C:\\Users\\Kimbe\\AppData\\Local\\Temp/ipykernel_7100/3673173512.py:5: FutureWarning: The frame.append method is deprecated and will be removed from pandas in a future version. Use pandas.concat instead.\n",
      "  output_df = output_df.append(df)\n",
      "C:\\Users\\Kimbe\\AppData\\Local\\Temp/ipykernel_7100/3673173512.py:5: FutureWarning: The frame.append method is deprecated and will be removed from pandas in a future version. Use pandas.concat instead.\n",
      "  output_df = output_df.append(df)\n",
      "C:\\Users\\Kimbe\\AppData\\Local\\Temp/ipykernel_7100/3673173512.py:5: FutureWarning: The frame.append method is deprecated and will be removed from pandas in a future version. Use pandas.concat instead.\n",
      "  output_df = output_df.append(df)\n",
      "C:\\Users\\Kimbe\\AppData\\Local\\Temp/ipykernel_7100/3673173512.py:5: FutureWarning: The frame.append method is deprecated and will be removed from pandas in a future version. Use pandas.concat instead.\n",
      "  output_df = output_df.append(df)\n",
      "C:\\Users\\Kimbe\\AppData\\Local\\Temp/ipykernel_7100/3673173512.py:5: FutureWarning: The frame.append method is deprecated and will be removed from pandas in a future version. Use pandas.concat instead.\n",
      "  output_df = output_df.append(df)\n",
      "C:\\Users\\Kimbe\\AppData\\Local\\Temp/ipykernel_7100/3673173512.py:5: FutureWarning: The frame.append method is deprecated and will be removed from pandas in a future version. Use pandas.concat instead.\n",
      "  output_df = output_df.append(df)\n",
      "C:\\Users\\Kimbe\\AppData\\Local\\Temp/ipykernel_7100/3673173512.py:5: FutureWarning: The frame.append method is deprecated and will be removed from pandas in a future version. Use pandas.concat instead.\n",
      "  output_df = output_df.append(df)\n"
     ]
    },
    {
     "name": "stdout",
     "output_type": "stream",
     "text": [
      "Skipping row\n",
      "Skipping row\n"
     ]
    },
    {
     "name": "stderr",
     "output_type": "stream",
     "text": [
      "C:\\Users\\Kimbe\\AppData\\Local\\Temp/ipykernel_7100/3673173512.py:5: FutureWarning: The frame.append method is deprecated and will be removed from pandas in a future version. Use pandas.concat instead.\n",
      "  output_df = output_df.append(df)\n",
      "C:\\Users\\Kimbe\\AppData\\Local\\Temp/ipykernel_7100/3673173512.py:5: FutureWarning: The frame.append method is deprecated and will be removed from pandas in a future version. Use pandas.concat instead.\n",
      "  output_df = output_df.append(df)\n",
      "C:\\Users\\Kimbe\\AppData\\Local\\Temp/ipykernel_7100/3673173512.py:5: FutureWarning: The frame.append method is deprecated and will be removed from pandas in a future version. Use pandas.concat instead.\n",
      "  output_df = output_df.append(df)\n",
      "C:\\Users\\Kimbe\\AppData\\Local\\Temp/ipykernel_7100/3673173512.py:5: FutureWarning: The frame.append method is deprecated and will be removed from pandas in a future version. Use pandas.concat instead.\n",
      "  output_df = output_df.append(df)\n",
      "C:\\Users\\Kimbe\\AppData\\Local\\Temp/ipykernel_7100/3673173512.py:5: FutureWarning: The frame.append method is deprecated and will be removed from pandas in a future version. Use pandas.concat instead.\n",
      "  output_df = output_df.append(df)\n",
      "C:\\Users\\Kimbe\\AppData\\Local\\Temp/ipykernel_7100/3673173512.py:5: FutureWarning: The frame.append method is deprecated and will be removed from pandas in a future version. Use pandas.concat instead.\n",
      "  output_df = output_df.append(df)\n",
      "C:\\Users\\Kimbe\\AppData\\Local\\Temp/ipykernel_7100/3673173512.py:5: FutureWarning: The frame.append method is deprecated and will be removed from pandas in a future version. Use pandas.concat instead.\n",
      "  output_df = output_df.append(df)\n",
      "C:\\Users\\Kimbe\\AppData\\Local\\Temp/ipykernel_7100/3673173512.py:5: FutureWarning: The frame.append method is deprecated and will be removed from pandas in a future version. Use pandas.concat instead.\n",
      "  output_df = output_df.append(df)\n",
      "C:\\Users\\Kimbe\\AppData\\Local\\Temp/ipykernel_7100/3673173512.py:5: FutureWarning: The frame.append method is deprecated and will be removed from pandas in a future version. Use pandas.concat instead.\n",
      "  output_df = output_df.append(df)\n",
      "C:\\Users\\Kimbe\\AppData\\Local\\Temp/ipykernel_7100/3673173512.py:5: FutureWarning: The frame.append method is deprecated and will be removed from pandas in a future version. Use pandas.concat instead.\n",
      "  output_df = output_df.append(df)\n"
     ]
    },
    {
     "name": "stdout",
     "output_type": "stream",
     "text": [
      "Skipping row\n",
      "Skipping row\n"
     ]
    },
    {
     "name": "stderr",
     "output_type": "stream",
     "text": [
      "C:\\Users\\Kimbe\\AppData\\Local\\Temp/ipykernel_7100/3673173512.py:5: FutureWarning: The frame.append method is deprecated and will be removed from pandas in a future version. Use pandas.concat instead.\n",
      "  output_df = output_df.append(df)\n",
      "C:\\Users\\Kimbe\\AppData\\Local\\Temp/ipykernel_7100/3673173512.py:5: FutureWarning: The frame.append method is deprecated and will be removed from pandas in a future version. Use pandas.concat instead.\n",
      "  output_df = output_df.append(df)\n",
      "C:\\Users\\Kimbe\\AppData\\Local\\Temp/ipykernel_7100/3673173512.py:5: FutureWarning: The frame.append method is deprecated and will be removed from pandas in a future version. Use pandas.concat instead.\n",
      "  output_df = output_df.append(df)\n",
      "C:\\Users\\Kimbe\\AppData\\Local\\Temp/ipykernel_7100/3673173512.py:5: FutureWarning: The frame.append method is deprecated and will be removed from pandas in a future version. Use pandas.concat instead.\n",
      "  output_df = output_df.append(df)\n",
      "C:\\Users\\Kimbe\\AppData\\Local\\Temp/ipykernel_7100/3673173512.py:5: FutureWarning: The frame.append method is deprecated and will be removed from pandas in a future version. Use pandas.concat instead.\n",
      "  output_df = output_df.append(df)\n",
      "C:\\Users\\Kimbe\\AppData\\Local\\Temp/ipykernel_7100/3673173512.py:5: FutureWarning: The frame.append method is deprecated and will be removed from pandas in a future version. Use pandas.concat instead.\n",
      "  output_df = output_df.append(df)\n",
      "C:\\Users\\Kimbe\\AppData\\Local\\Temp/ipykernel_7100/3673173512.py:5: FutureWarning: The frame.append method is deprecated and will be removed from pandas in a future version. Use pandas.concat instead.\n",
      "  output_df = output_df.append(df)\n",
      "C:\\Users\\Kimbe\\AppData\\Local\\Temp/ipykernel_7100/3673173512.py:5: FutureWarning: The frame.append method is deprecated and will be removed from pandas in a future version. Use pandas.concat instead.\n",
      "  output_df = output_df.append(df)\n",
      "C:\\Users\\Kimbe\\AppData\\Local\\Temp/ipykernel_7100/3673173512.py:5: FutureWarning: The frame.append method is deprecated and will be removed from pandas in a future version. Use pandas.concat instead.\n",
      "  output_df = output_df.append(df)\n",
      "C:\\Users\\Kimbe\\AppData\\Local\\Temp/ipykernel_7100/3673173512.py:5: FutureWarning: The frame.append method is deprecated and will be removed from pandas in a future version. Use pandas.concat instead.\n",
      "  output_df = output_df.append(df)\n",
      "C:\\Users\\Kimbe\\AppData\\Local\\Temp/ipykernel_7100/3673173512.py:5: FutureWarning: The frame.append method is deprecated and will be removed from pandas in a future version. Use pandas.concat instead.\n",
      "  output_df = output_df.append(df)\n"
     ]
    },
    {
     "name": "stdout",
     "output_type": "stream",
     "text": [
      "Skipping row\n",
      "Skipping row\n"
     ]
    },
    {
     "name": "stderr",
     "output_type": "stream",
     "text": [
      "C:\\Users\\Kimbe\\AppData\\Local\\Temp/ipykernel_7100/3673173512.py:5: FutureWarning: The frame.append method is deprecated and will be removed from pandas in a future version. Use pandas.concat instead.\n",
      "  output_df = output_df.append(df)\n",
      "C:\\Users\\Kimbe\\AppData\\Local\\Temp/ipykernel_7100/3673173512.py:5: FutureWarning: The frame.append method is deprecated and will be removed from pandas in a future version. Use pandas.concat instead.\n",
      "  output_df = output_df.append(df)\n",
      "C:\\Users\\Kimbe\\AppData\\Local\\Temp/ipykernel_7100/3673173512.py:5: FutureWarning: The frame.append method is deprecated and will be removed from pandas in a future version. Use pandas.concat instead.\n",
      "  output_df = output_df.append(df)\n",
      "C:\\Users\\Kimbe\\AppData\\Local\\Temp/ipykernel_7100/3673173512.py:5: FutureWarning: The frame.append method is deprecated and will be removed from pandas in a future version. Use pandas.concat instead.\n",
      "  output_df = output_df.append(df)\n",
      "C:\\Users\\Kimbe\\AppData\\Local\\Temp/ipykernel_7100/3673173512.py:5: FutureWarning: The frame.append method is deprecated and will be removed from pandas in a future version. Use pandas.concat instead.\n",
      "  output_df = output_df.append(df)\n",
      "C:\\Users\\Kimbe\\AppData\\Local\\Temp/ipykernel_7100/3673173512.py:5: FutureWarning: The frame.append method is deprecated and will be removed from pandas in a future version. Use pandas.concat instead.\n",
      "  output_df = output_df.append(df)\n",
      "C:\\Users\\Kimbe\\AppData\\Local\\Temp/ipykernel_7100/3673173512.py:5: FutureWarning: The frame.append method is deprecated and will be removed from pandas in a future version. Use pandas.concat instead.\n",
      "  output_df = output_df.append(df)\n",
      "C:\\Users\\Kimbe\\AppData\\Local\\Temp/ipykernel_7100/3673173512.py:5: FutureWarning: The frame.append method is deprecated and will be removed from pandas in a future version. Use pandas.concat instead.\n",
      "  output_df = output_df.append(df)\n",
      "C:\\Users\\Kimbe\\AppData\\Local\\Temp/ipykernel_7100/3673173512.py:5: FutureWarning: The frame.append method is deprecated and will be removed from pandas in a future version. Use pandas.concat instead.\n",
      "  output_df = output_df.append(df)\n",
      "C:\\Users\\Kimbe\\AppData\\Local\\Temp/ipykernel_7100/3673173512.py:5: FutureWarning: The frame.append method is deprecated and will be removed from pandas in a future version. Use pandas.concat instead.\n",
      "  output_df = output_df.append(df)\n",
      "C:\\Users\\Kimbe\\AppData\\Local\\Temp/ipykernel_7100/3673173512.py:5: FutureWarning: The frame.append method is deprecated and will be removed from pandas in a future version. Use pandas.concat instead.\n",
      "  output_df = output_df.append(df)\n",
      "C:\\Users\\Kimbe\\AppData\\Local\\Temp/ipykernel_7100/3673173512.py:5: FutureWarning: The frame.append method is deprecated and will be removed from pandas in a future version. Use pandas.concat instead.\n",
      "  output_df = output_df.append(df)\n",
      "C:\\Users\\Kimbe\\AppData\\Local\\Temp/ipykernel_7100/3673173512.py:5: FutureWarning: The frame.append method is deprecated and will be removed from pandas in a future version. Use pandas.concat instead.\n",
      "  output_df = output_df.append(df)\n",
      "C:\\Users\\Kimbe\\AppData\\Local\\Temp/ipykernel_7100/3673173512.py:5: FutureWarning: The frame.append method is deprecated and will be removed from pandas in a future version. Use pandas.concat instead.\n",
      "  output_df = output_df.append(df)\n",
      "C:\\Users\\Kimbe\\AppData\\Local\\Temp/ipykernel_7100/3673173512.py:5: FutureWarning: The frame.append method is deprecated and will be removed from pandas in a future version. Use pandas.concat instead.\n",
      "  output_df = output_df.append(df)\n",
      "C:\\Users\\Kimbe\\AppData\\Local\\Temp/ipykernel_7100/3673173512.py:5: FutureWarning: The frame.append method is deprecated and will be removed from pandas in a future version. Use pandas.concat instead.\n",
      "  output_df = output_df.append(df)\n",
      "C:\\Users\\Kimbe\\AppData\\Local\\Temp/ipykernel_7100/3673173512.py:5: FutureWarning: The frame.append method is deprecated and will be removed from pandas in a future version. Use pandas.concat instead.\n",
      "  output_df = output_df.append(df)\n",
      "C:\\Users\\Kimbe\\AppData\\Local\\Temp/ipykernel_7100/3673173512.py:5: FutureWarning: The frame.append method is deprecated and will be removed from pandas in a future version. Use pandas.concat instead.\n",
      "  output_df = output_df.append(df)\n",
      "C:\\Users\\Kimbe\\AppData\\Local\\Temp/ipykernel_7100/3673173512.py:5: FutureWarning: The frame.append method is deprecated and will be removed from pandas in a future version. Use pandas.concat instead.\n",
      "  output_df = output_df.append(df)\n",
      "C:\\Users\\Kimbe\\AppData\\Local\\Temp/ipykernel_7100/3673173512.py:5: FutureWarning: The frame.append method is deprecated and will be removed from pandas in a future version. Use pandas.concat instead.\n",
      "  output_df = output_df.append(df)\n",
      "C:\\Users\\Kimbe\\AppData\\Local\\Temp/ipykernel_7100/3673173512.py:5: FutureWarning: The frame.append method is deprecated and will be removed from pandas in a future version. Use pandas.concat instead.\n",
      "  output_df = output_df.append(df)\n"
     ]
    },
    {
     "name": "stdout",
     "output_type": "stream",
     "text": [
      "Skipping row\n",
      "Skipping row\n"
     ]
    },
    {
     "name": "stderr",
     "output_type": "stream",
     "text": [
      "C:\\Users\\Kimbe\\AppData\\Local\\Temp/ipykernel_7100/3673173512.py:5: FutureWarning: The frame.append method is deprecated and will be removed from pandas in a future version. Use pandas.concat instead.\n",
      "  output_df = output_df.append(df)\n",
      "C:\\Users\\Kimbe\\AppData\\Local\\Temp/ipykernel_7100/3673173512.py:5: FutureWarning: The frame.append method is deprecated and will be removed from pandas in a future version. Use pandas.concat instead.\n",
      "  output_df = output_df.append(df)\n",
      "C:\\Users\\Kimbe\\AppData\\Local\\Temp/ipykernel_7100/3673173512.py:5: FutureWarning: The frame.append method is deprecated and will be removed from pandas in a future version. Use pandas.concat instead.\n",
      "  output_df = output_df.append(df)\n",
      "C:\\Users\\Kimbe\\AppData\\Local\\Temp/ipykernel_7100/3673173512.py:5: FutureWarning: The frame.append method is deprecated and will be removed from pandas in a future version. Use pandas.concat instead.\n",
      "  output_df = output_df.append(df)\n",
      "C:\\Users\\Kimbe\\AppData\\Local\\Temp/ipykernel_7100/3673173512.py:5: FutureWarning: The frame.append method is deprecated and will be removed from pandas in a future version. Use pandas.concat instead.\n",
      "  output_df = output_df.append(df)\n",
      "C:\\Users\\Kimbe\\AppData\\Local\\Temp/ipykernel_7100/3673173512.py:5: FutureWarning: The frame.append method is deprecated and will be removed from pandas in a future version. Use pandas.concat instead.\n",
      "  output_df = output_df.append(df)\n",
      "C:\\Users\\Kimbe\\AppData\\Local\\Temp/ipykernel_7100/3673173512.py:5: FutureWarning: The frame.append method is deprecated and will be removed from pandas in a future version. Use pandas.concat instead.\n",
      "  output_df = output_df.append(df)\n",
      "C:\\Users\\Kimbe\\AppData\\Local\\Temp/ipykernel_7100/3673173512.py:5: FutureWarning: The frame.append method is deprecated and will be removed from pandas in a future version. Use pandas.concat instead.\n",
      "  output_df = output_df.append(df)\n",
      "C:\\Users\\Kimbe\\AppData\\Local\\Temp/ipykernel_7100/3673173512.py:5: FutureWarning: The frame.append method is deprecated and will be removed from pandas in a future version. Use pandas.concat instead.\n",
      "  output_df = output_df.append(df)\n",
      "C:\\Users\\Kimbe\\AppData\\Local\\Temp/ipykernel_7100/3673173512.py:5: FutureWarning: The frame.append method is deprecated and will be removed from pandas in a future version. Use pandas.concat instead.\n",
      "  output_df = output_df.append(df)\n"
     ]
    },
    {
     "name": "stdout",
     "output_type": "stream",
     "text": [
      "Skipping row\n",
      "Skipping row\n"
     ]
    },
    {
     "name": "stderr",
     "output_type": "stream",
     "text": [
      "C:\\Users\\Kimbe\\AppData\\Local\\Temp/ipykernel_7100/3673173512.py:5: FutureWarning: The frame.append method is deprecated and will be removed from pandas in a future version. Use pandas.concat instead.\n",
      "  output_df = output_df.append(df)\n",
      "C:\\Users\\Kimbe\\AppData\\Local\\Temp/ipykernel_7100/3673173512.py:5: FutureWarning: The frame.append method is deprecated and will be removed from pandas in a future version. Use pandas.concat instead.\n",
      "  output_df = output_df.append(df)\n",
      "C:\\Users\\Kimbe\\AppData\\Local\\Temp/ipykernel_7100/3673173512.py:5: FutureWarning: The frame.append method is deprecated and will be removed from pandas in a future version. Use pandas.concat instead.\n",
      "  output_df = output_df.append(df)\n",
      "C:\\Users\\Kimbe\\AppData\\Local\\Temp/ipykernel_7100/3673173512.py:5: FutureWarning: The frame.append method is deprecated and will be removed from pandas in a future version. Use pandas.concat instead.\n",
      "  output_df = output_df.append(df)\n",
      "C:\\Users\\Kimbe\\AppData\\Local\\Temp/ipykernel_7100/3673173512.py:5: FutureWarning: The frame.append method is deprecated and will be removed from pandas in a future version. Use pandas.concat instead.\n",
      "  output_df = output_df.append(df)\n",
      "C:\\Users\\Kimbe\\AppData\\Local\\Temp/ipykernel_7100/3673173512.py:5: FutureWarning: The frame.append method is deprecated and will be removed from pandas in a future version. Use pandas.concat instead.\n",
      "  output_df = output_df.append(df)\n",
      "C:\\Users\\Kimbe\\AppData\\Local\\Temp/ipykernel_7100/3673173512.py:5: FutureWarning: The frame.append method is deprecated and will be removed from pandas in a future version. Use pandas.concat instead.\n",
      "  output_df = output_df.append(df)\n",
      "C:\\Users\\Kimbe\\AppData\\Local\\Temp/ipykernel_7100/3673173512.py:5: FutureWarning: The frame.append method is deprecated and will be removed from pandas in a future version. Use pandas.concat instead.\n",
      "  output_df = output_df.append(df)\n",
      "C:\\Users\\Kimbe\\AppData\\Local\\Temp/ipykernel_7100/3673173512.py:5: FutureWarning: The frame.append method is deprecated and will be removed from pandas in a future version. Use pandas.concat instead.\n",
      "  output_df = output_df.append(df)\n",
      "C:\\Users\\Kimbe\\AppData\\Local\\Temp/ipykernel_7100/3673173512.py:5: FutureWarning: The frame.append method is deprecated and will be removed from pandas in a future version. Use pandas.concat instead.\n",
      "  output_df = output_df.append(df)\n",
      "C:\\Users\\Kimbe\\AppData\\Local\\Temp/ipykernel_7100/3673173512.py:5: FutureWarning: The frame.append method is deprecated and will be removed from pandas in a future version. Use pandas.concat instead.\n",
      "  output_df = output_df.append(df)\n"
     ]
    },
    {
     "name": "stdout",
     "output_type": "stream",
     "text": [
      "Skipping row\n",
      "Skipping row\n"
     ]
    },
    {
     "name": "stderr",
     "output_type": "stream",
     "text": [
      "C:\\Users\\Kimbe\\AppData\\Local\\Temp/ipykernel_7100/3673173512.py:5: FutureWarning: The frame.append method is deprecated and will be removed from pandas in a future version. Use pandas.concat instead.\n",
      "  output_df = output_df.append(df)\n",
      "C:\\Users\\Kimbe\\AppData\\Local\\Temp/ipykernel_7100/3673173512.py:5: FutureWarning: The frame.append method is deprecated and will be removed from pandas in a future version. Use pandas.concat instead.\n",
      "  output_df = output_df.append(df)\n",
      "C:\\Users\\Kimbe\\AppData\\Local\\Temp/ipykernel_7100/3673173512.py:5: FutureWarning: The frame.append method is deprecated and will be removed from pandas in a future version. Use pandas.concat instead.\n",
      "  output_df = output_df.append(df)\n",
      "C:\\Users\\Kimbe\\AppData\\Local\\Temp/ipykernel_7100/3673173512.py:5: FutureWarning: The frame.append method is deprecated and will be removed from pandas in a future version. Use pandas.concat instead.\n",
      "  output_df = output_df.append(df)\n",
      "C:\\Users\\Kimbe\\AppData\\Local\\Temp/ipykernel_7100/3673173512.py:5: FutureWarning: The frame.append method is deprecated and will be removed from pandas in a future version. Use pandas.concat instead.\n",
      "  output_df = output_df.append(df)\n",
      "C:\\Users\\Kimbe\\AppData\\Local\\Temp/ipykernel_7100/3673173512.py:5: FutureWarning: The frame.append method is deprecated and will be removed from pandas in a future version. Use pandas.concat instead.\n",
      "  output_df = output_df.append(df)\n",
      "C:\\Users\\Kimbe\\AppData\\Local\\Temp/ipykernel_7100/3673173512.py:5: FutureWarning: The frame.append method is deprecated and will be removed from pandas in a future version. Use pandas.concat instead.\n",
      "  output_df = output_df.append(df)\n",
      "C:\\Users\\Kimbe\\AppData\\Local\\Temp/ipykernel_7100/3673173512.py:5: FutureWarning: The frame.append method is deprecated and will be removed from pandas in a future version. Use pandas.concat instead.\n",
      "  output_df = output_df.append(df)\n",
      "C:\\Users\\Kimbe\\AppData\\Local\\Temp/ipykernel_7100/3673173512.py:5: FutureWarning: The frame.append method is deprecated and will be removed from pandas in a future version. Use pandas.concat instead.\n",
      "  output_df = output_df.append(df)\n",
      "C:\\Users\\Kimbe\\AppData\\Local\\Temp/ipykernel_7100/3673173512.py:5: FutureWarning: The frame.append method is deprecated and will be removed from pandas in a future version. Use pandas.concat instead.\n",
      "  output_df = output_df.append(df)\n",
      "C:\\Users\\Kimbe\\AppData\\Local\\Temp/ipykernel_7100/3673173512.py:5: FutureWarning: The frame.append method is deprecated and will be removed from pandas in a future version. Use pandas.concat instead.\n",
      "  output_df = output_df.append(df)\n"
     ]
    },
    {
     "name": "stdout",
     "output_type": "stream",
     "text": [
      "Skipping row\n",
      "Skipping row\n"
     ]
    },
    {
     "name": "stderr",
     "output_type": "stream",
     "text": [
      "C:\\Users\\Kimbe\\AppData\\Local\\Temp/ipykernel_7100/3673173512.py:5: FutureWarning: The frame.append method is deprecated and will be removed from pandas in a future version. Use pandas.concat instead.\n",
      "  output_df = output_df.append(df)\n",
      "C:\\Users\\Kimbe\\AppData\\Local\\Temp/ipykernel_7100/3673173512.py:5: FutureWarning: The frame.append method is deprecated and will be removed from pandas in a future version. Use pandas.concat instead.\n",
      "  output_df = output_df.append(df)\n",
      "C:\\Users\\Kimbe\\AppData\\Local\\Temp/ipykernel_7100/3673173512.py:5: FutureWarning: The frame.append method is deprecated and will be removed from pandas in a future version. Use pandas.concat instead.\n",
      "  output_df = output_df.append(df)\n",
      "C:\\Users\\Kimbe\\AppData\\Local\\Temp/ipykernel_7100/3673173512.py:5: FutureWarning: The frame.append method is deprecated and will be removed from pandas in a future version. Use pandas.concat instead.\n",
      "  output_df = output_df.append(df)\n",
      "C:\\Users\\Kimbe\\AppData\\Local\\Temp/ipykernel_7100/3673173512.py:5: FutureWarning: The frame.append method is deprecated and will be removed from pandas in a future version. Use pandas.concat instead.\n",
      "  output_df = output_df.append(df)\n",
      "C:\\Users\\Kimbe\\AppData\\Local\\Temp/ipykernel_7100/3673173512.py:5: FutureWarning: The frame.append method is deprecated and will be removed from pandas in a future version. Use pandas.concat instead.\n",
      "  output_df = output_df.append(df)\n",
      "C:\\Users\\Kimbe\\AppData\\Local\\Temp/ipykernel_7100/3673173512.py:5: FutureWarning: The frame.append method is deprecated and will be removed from pandas in a future version. Use pandas.concat instead.\n",
      "  output_df = output_df.append(df)\n",
      "C:\\Users\\Kimbe\\AppData\\Local\\Temp/ipykernel_7100/3673173512.py:5: FutureWarning: The frame.append method is deprecated and will be removed from pandas in a future version. Use pandas.concat instead.\n",
      "  output_df = output_df.append(df)\n",
      "C:\\Users\\Kimbe\\AppData\\Local\\Temp/ipykernel_7100/3673173512.py:5: FutureWarning: The frame.append method is deprecated and will be removed from pandas in a future version. Use pandas.concat instead.\n",
      "  output_df = output_df.append(df)\n",
      "C:\\Users\\Kimbe\\AppData\\Local\\Temp/ipykernel_7100/3673173512.py:5: FutureWarning: The frame.append method is deprecated and will be removed from pandas in a future version. Use pandas.concat instead.\n",
      "  output_df = output_df.append(df)\n",
      "C:\\Users\\Kimbe\\AppData\\Local\\Temp/ipykernel_7100/3673173512.py:5: FutureWarning: The frame.append method is deprecated and will be removed from pandas in a future version. Use pandas.concat instead.\n",
      "  output_df = output_df.append(df)\n"
     ]
    },
    {
     "name": "stdout",
     "output_type": "stream",
     "text": [
      "Skipping row\n",
      "Skipping row\n"
     ]
    },
    {
     "name": "stderr",
     "output_type": "stream",
     "text": [
      "C:\\Users\\Kimbe\\AppData\\Local\\Temp/ipykernel_7100/3673173512.py:5: FutureWarning: The frame.append method is deprecated and will be removed from pandas in a future version. Use pandas.concat instead.\n",
      "  output_df = output_df.append(df)\n",
      "C:\\Users\\Kimbe\\AppData\\Local\\Temp/ipykernel_7100/3673173512.py:5: FutureWarning: The frame.append method is deprecated and will be removed from pandas in a future version. Use pandas.concat instead.\n",
      "  output_df = output_df.append(df)\n",
      "C:\\Users\\Kimbe\\AppData\\Local\\Temp/ipykernel_7100/3673173512.py:5: FutureWarning: The frame.append method is deprecated and will be removed from pandas in a future version. Use pandas.concat instead.\n",
      "  output_df = output_df.append(df)\n",
      "C:\\Users\\Kimbe\\AppData\\Local\\Temp/ipykernel_7100/3673173512.py:5: FutureWarning: The frame.append method is deprecated and will be removed from pandas in a future version. Use pandas.concat instead.\n",
      "  output_df = output_df.append(df)\n",
      "C:\\Users\\Kimbe\\AppData\\Local\\Temp/ipykernel_7100/3673173512.py:5: FutureWarning: The frame.append method is deprecated and will be removed from pandas in a future version. Use pandas.concat instead.\n",
      "  output_df = output_df.append(df)\n",
      "C:\\Users\\Kimbe\\AppData\\Local\\Temp/ipykernel_7100/3673173512.py:5: FutureWarning: The frame.append method is deprecated and will be removed from pandas in a future version. Use pandas.concat instead.\n",
      "  output_df = output_df.append(df)\n",
      "C:\\Users\\Kimbe\\AppData\\Local\\Temp/ipykernel_7100/3673173512.py:5: FutureWarning: The frame.append method is deprecated and will be removed from pandas in a future version. Use pandas.concat instead.\n",
      "  output_df = output_df.append(df)\n",
      "C:\\Users\\Kimbe\\AppData\\Local\\Temp/ipykernel_7100/3673173512.py:5: FutureWarning: The frame.append method is deprecated and will be removed from pandas in a future version. Use pandas.concat instead.\n",
      "  output_df = output_df.append(df)\n",
      "C:\\Users\\Kimbe\\AppData\\Local\\Temp/ipykernel_7100/3673173512.py:5: FutureWarning: The frame.append method is deprecated and will be removed from pandas in a future version. Use pandas.concat instead.\n",
      "  output_df = output_df.append(df)\n",
      "C:\\Users\\Kimbe\\AppData\\Local\\Temp/ipykernel_7100/3673173512.py:5: FutureWarning: The frame.append method is deprecated and will be removed from pandas in a future version. Use pandas.concat instead.\n",
      "  output_df = output_df.append(df)\n",
      "C:\\Users\\Kimbe\\AppData\\Local\\Temp/ipykernel_7100/3673173512.py:5: FutureWarning: The frame.append method is deprecated and will be removed from pandas in a future version. Use pandas.concat instead.\n",
      "  output_df = output_df.append(df)\n"
     ]
    },
    {
     "name": "stdout",
     "output_type": "stream",
     "text": [
      "Skipping row\n",
      "Skipping row\n"
     ]
    },
    {
     "name": "stderr",
     "output_type": "stream",
     "text": [
      "C:\\Users\\Kimbe\\AppData\\Local\\Temp/ipykernel_7100/3673173512.py:5: FutureWarning: The frame.append method is deprecated and will be removed from pandas in a future version. Use pandas.concat instead.\n",
      "  output_df = output_df.append(df)\n",
      "C:\\Users\\Kimbe\\AppData\\Local\\Temp/ipykernel_7100/3673173512.py:5: FutureWarning: The frame.append method is deprecated and will be removed from pandas in a future version. Use pandas.concat instead.\n",
      "  output_df = output_df.append(df)\n",
      "C:\\Users\\Kimbe\\AppData\\Local\\Temp/ipykernel_7100/3673173512.py:5: FutureWarning: The frame.append method is deprecated and will be removed from pandas in a future version. Use pandas.concat instead.\n",
      "  output_df = output_df.append(df)\n",
      "C:\\Users\\Kimbe\\AppData\\Local\\Temp/ipykernel_7100/3673173512.py:5: FutureWarning: The frame.append method is deprecated and will be removed from pandas in a future version. Use pandas.concat instead.\n",
      "  output_df = output_df.append(df)\n",
      "C:\\Users\\Kimbe\\AppData\\Local\\Temp/ipykernel_7100/3673173512.py:5: FutureWarning: The frame.append method is deprecated and will be removed from pandas in a future version. Use pandas.concat instead.\n",
      "  output_df = output_df.append(df)\n",
      "C:\\Users\\Kimbe\\AppData\\Local\\Temp/ipykernel_7100/3673173512.py:5: FutureWarning: The frame.append method is deprecated and will be removed from pandas in a future version. Use pandas.concat instead.\n",
      "  output_df = output_df.append(df)\n",
      "C:\\Users\\Kimbe\\AppData\\Local\\Temp/ipykernel_7100/3673173512.py:5: FutureWarning: The frame.append method is deprecated and will be removed from pandas in a future version. Use pandas.concat instead.\n",
      "  output_df = output_df.append(df)\n",
      "C:\\Users\\Kimbe\\AppData\\Local\\Temp/ipykernel_7100/3673173512.py:5: FutureWarning: The frame.append method is deprecated and will be removed from pandas in a future version. Use pandas.concat instead.\n",
      "  output_df = output_df.append(df)\n",
      "C:\\Users\\Kimbe\\AppData\\Local\\Temp/ipykernel_7100/3673173512.py:5: FutureWarning: The frame.append method is deprecated and will be removed from pandas in a future version. Use pandas.concat instead.\n",
      "  output_df = output_df.append(df)\n",
      "C:\\Users\\Kimbe\\AppData\\Local\\Temp/ipykernel_7100/3673173512.py:5: FutureWarning: The frame.append method is deprecated and will be removed from pandas in a future version. Use pandas.concat instead.\n",
      "  output_df = output_df.append(df)\n",
      "C:\\Users\\Kimbe\\AppData\\Local\\Temp/ipykernel_7100/3673173512.py:5: FutureWarning: The frame.append method is deprecated and will be removed from pandas in a future version. Use pandas.concat instead.\n",
      "  output_df = output_df.append(df)\n"
     ]
    },
    {
     "name": "stdout",
     "output_type": "stream",
     "text": [
      "Skipping row\n",
      "Skipping row\n"
     ]
    },
    {
     "name": "stderr",
     "output_type": "stream",
     "text": [
      "C:\\Users\\Kimbe\\AppData\\Local\\Temp/ipykernel_7100/3673173512.py:5: FutureWarning: The frame.append method is deprecated and will be removed from pandas in a future version. Use pandas.concat instead.\n",
      "  output_df = output_df.append(df)\n",
      "C:\\Users\\Kimbe\\AppData\\Local\\Temp/ipykernel_7100/3673173512.py:5: FutureWarning: The frame.append method is deprecated and will be removed from pandas in a future version. Use pandas.concat instead.\n",
      "  output_df = output_df.append(df)\n",
      "C:\\Users\\Kimbe\\AppData\\Local\\Temp/ipykernel_7100/3673173512.py:5: FutureWarning: The frame.append method is deprecated and will be removed from pandas in a future version. Use pandas.concat instead.\n",
      "  output_df = output_df.append(df)\n",
      "C:\\Users\\Kimbe\\AppData\\Local\\Temp/ipykernel_7100/3673173512.py:5: FutureWarning: The frame.append method is deprecated and will be removed from pandas in a future version. Use pandas.concat instead.\n",
      "  output_df = output_df.append(df)\n",
      "C:\\Users\\Kimbe\\AppData\\Local\\Temp/ipykernel_7100/3673173512.py:5: FutureWarning: The frame.append method is deprecated and will be removed from pandas in a future version. Use pandas.concat instead.\n",
      "  output_df = output_df.append(df)\n",
      "C:\\Users\\Kimbe\\AppData\\Local\\Temp/ipykernel_7100/3673173512.py:5: FutureWarning: The frame.append method is deprecated and will be removed from pandas in a future version. Use pandas.concat instead.\n",
      "  output_df = output_df.append(df)\n",
      "C:\\Users\\Kimbe\\AppData\\Local\\Temp/ipykernel_7100/3673173512.py:5: FutureWarning: The frame.append method is deprecated and will be removed from pandas in a future version. Use pandas.concat instead.\n",
      "  output_df = output_df.append(df)\n",
      "C:\\Users\\Kimbe\\AppData\\Local\\Temp/ipykernel_7100/3673173512.py:5: FutureWarning: The frame.append method is deprecated and will be removed from pandas in a future version. Use pandas.concat instead.\n",
      "  output_df = output_df.append(df)\n",
      "C:\\Users\\Kimbe\\AppData\\Local\\Temp/ipykernel_7100/3673173512.py:5: FutureWarning: The frame.append method is deprecated and will be removed from pandas in a future version. Use pandas.concat instead.\n",
      "  output_df = output_df.append(df)\n",
      "C:\\Users\\Kimbe\\AppData\\Local\\Temp/ipykernel_7100/3673173512.py:5: FutureWarning: The frame.append method is deprecated and will be removed from pandas in a future version. Use pandas.concat instead.\n",
      "  output_df = output_df.append(df)\n",
      "C:\\Users\\Kimbe\\AppData\\Local\\Temp/ipykernel_7100/3673173512.py:5: FutureWarning: The frame.append method is deprecated and will be removed from pandas in a future version. Use pandas.concat instead.\n",
      "  output_df = output_df.append(df)\n"
     ]
    },
    {
     "name": "stdout",
     "output_type": "stream",
     "text": [
      "Skipping row\n",
      "Skipping row\n"
     ]
    },
    {
     "name": "stderr",
     "output_type": "stream",
     "text": [
      "C:\\Users\\Kimbe\\AppData\\Local\\Temp/ipykernel_7100/3673173512.py:5: FutureWarning: The frame.append method is deprecated and will be removed from pandas in a future version. Use pandas.concat instead.\n",
      "  output_df = output_df.append(df)\n",
      "C:\\Users\\Kimbe\\AppData\\Local\\Temp/ipykernel_7100/3673173512.py:5: FutureWarning: The frame.append method is deprecated and will be removed from pandas in a future version. Use pandas.concat instead.\n",
      "  output_df = output_df.append(df)\n",
      "C:\\Users\\Kimbe\\AppData\\Local\\Temp/ipykernel_7100/3673173512.py:5: FutureWarning: The frame.append method is deprecated and will be removed from pandas in a future version. Use pandas.concat instead.\n",
      "  output_df = output_df.append(df)\n",
      "C:\\Users\\Kimbe\\AppData\\Local\\Temp/ipykernel_7100/3673173512.py:5: FutureWarning: The frame.append method is deprecated and will be removed from pandas in a future version. Use pandas.concat instead.\n",
      "  output_df = output_df.append(df)\n",
      "C:\\Users\\Kimbe\\AppData\\Local\\Temp/ipykernel_7100/3673173512.py:5: FutureWarning: The frame.append method is deprecated and will be removed from pandas in a future version. Use pandas.concat instead.\n",
      "  output_df = output_df.append(df)\n",
      "C:\\Users\\Kimbe\\AppData\\Local\\Temp/ipykernel_7100/3673173512.py:5: FutureWarning: The frame.append method is deprecated and will be removed from pandas in a future version. Use pandas.concat instead.\n",
      "  output_df = output_df.append(df)\n",
      "C:\\Users\\Kimbe\\AppData\\Local\\Temp/ipykernel_7100/3673173512.py:5: FutureWarning: The frame.append method is deprecated and will be removed from pandas in a future version. Use pandas.concat instead.\n",
      "  output_df = output_df.append(df)\n",
      "C:\\Users\\Kimbe\\AppData\\Local\\Temp/ipykernel_7100/3673173512.py:5: FutureWarning: The frame.append method is deprecated and will be removed from pandas in a future version. Use pandas.concat instead.\n",
      "  output_df = output_df.append(df)\n",
      "C:\\Users\\Kimbe\\AppData\\Local\\Temp/ipykernel_7100/3673173512.py:5: FutureWarning: The frame.append method is deprecated and will be removed from pandas in a future version. Use pandas.concat instead.\n",
      "  output_df = output_df.append(df)\n",
      "C:\\Users\\Kimbe\\AppData\\Local\\Temp/ipykernel_7100/3673173512.py:5: FutureWarning: The frame.append method is deprecated and will be removed from pandas in a future version. Use pandas.concat instead.\n",
      "  output_df = output_df.append(df)\n"
     ]
    },
    {
     "name": "stdout",
     "output_type": "stream",
     "text": [
      "Skipping row\n",
      "Skipping row\n"
     ]
    },
    {
     "name": "stderr",
     "output_type": "stream",
     "text": [
      "C:\\Users\\Kimbe\\AppData\\Local\\Temp/ipykernel_7100/3673173512.py:5: FutureWarning: The frame.append method is deprecated and will be removed from pandas in a future version. Use pandas.concat instead.\n",
      "  output_df = output_df.append(df)\n",
      "C:\\Users\\Kimbe\\AppData\\Local\\Temp/ipykernel_7100/3673173512.py:5: FutureWarning: The frame.append method is deprecated and will be removed from pandas in a future version. Use pandas.concat instead.\n",
      "  output_df = output_df.append(df)\n",
      "C:\\Users\\Kimbe\\AppData\\Local\\Temp/ipykernel_7100/3673173512.py:5: FutureWarning: The frame.append method is deprecated and will be removed from pandas in a future version. Use pandas.concat instead.\n",
      "  output_df = output_df.append(df)\n",
      "C:\\Users\\Kimbe\\AppData\\Local\\Temp/ipykernel_7100/3673173512.py:5: FutureWarning: The frame.append method is deprecated and will be removed from pandas in a future version. Use pandas.concat instead.\n",
      "  output_df = output_df.append(df)\n",
      "C:\\Users\\Kimbe\\AppData\\Local\\Temp/ipykernel_7100/3673173512.py:5: FutureWarning: The frame.append method is deprecated and will be removed from pandas in a future version. Use pandas.concat instead.\n",
      "  output_df = output_df.append(df)\n",
      "C:\\Users\\Kimbe\\AppData\\Local\\Temp/ipykernel_7100/3673173512.py:5: FutureWarning: The frame.append method is deprecated and will be removed from pandas in a future version. Use pandas.concat instead.\n",
      "  output_df = output_df.append(df)\n",
      "C:\\Users\\Kimbe\\AppData\\Local\\Temp/ipykernel_7100/3673173512.py:5: FutureWarning: The frame.append method is deprecated and will be removed from pandas in a future version. Use pandas.concat instead.\n",
      "  output_df = output_df.append(df)\n",
      "C:\\Users\\Kimbe\\AppData\\Local\\Temp/ipykernel_7100/3673173512.py:5: FutureWarning: The frame.append method is deprecated and will be removed from pandas in a future version. Use pandas.concat instead.\n",
      "  output_df = output_df.append(df)\n",
      "C:\\Users\\Kimbe\\AppData\\Local\\Temp/ipykernel_7100/3673173512.py:5: FutureWarning: The frame.append method is deprecated and will be removed from pandas in a future version. Use pandas.concat instead.\n",
      "  output_df = output_df.append(df)\n",
      "C:\\Users\\Kimbe\\AppData\\Local\\Temp/ipykernel_7100/3673173512.py:5: FutureWarning: The frame.append method is deprecated and will be removed from pandas in a future version. Use pandas.concat instead.\n",
      "  output_df = output_df.append(df)\n",
      "C:\\Users\\Kimbe\\AppData\\Local\\Temp/ipykernel_7100/3673173512.py:5: FutureWarning: The frame.append method is deprecated and will be removed from pandas in a future version. Use pandas.concat instead.\n",
      "  output_df = output_df.append(df)\n",
      "C:\\Users\\Kimbe\\AppData\\Local\\Temp/ipykernel_7100/3673173512.py:5: FutureWarning: The frame.append method is deprecated and will be removed from pandas in a future version. Use pandas.concat instead.\n",
      "  output_df = output_df.append(df)\n",
      "C:\\Users\\Kimbe\\AppData\\Local\\Temp/ipykernel_7100/3673173512.py:5: FutureWarning: The frame.append method is deprecated and will be removed from pandas in a future version. Use pandas.concat instead.\n",
      "  output_df = output_df.append(df)\n",
      "C:\\Users\\Kimbe\\AppData\\Local\\Temp/ipykernel_7100/3673173512.py:5: FutureWarning: The frame.append method is deprecated and will be removed from pandas in a future version. Use pandas.concat instead.\n",
      "  output_df = output_df.append(df)\n",
      "C:\\Users\\Kimbe\\AppData\\Local\\Temp/ipykernel_7100/3673173512.py:5: FutureWarning: The frame.append method is deprecated and will be removed from pandas in a future version. Use pandas.concat instead.\n",
      "  output_df = output_df.append(df)\n",
      "C:\\Users\\Kimbe\\AppData\\Local\\Temp/ipykernel_7100/3673173512.py:5: FutureWarning: The frame.append method is deprecated and will be removed from pandas in a future version. Use pandas.concat instead.\n",
      "  output_df = output_df.append(df)\n",
      "C:\\Users\\Kimbe\\AppData\\Local\\Temp/ipykernel_7100/3673173512.py:5: FutureWarning: The frame.append method is deprecated and will be removed from pandas in a future version. Use pandas.concat instead.\n",
      "  output_df = output_df.append(df)\n",
      "C:\\Users\\Kimbe\\AppData\\Local\\Temp/ipykernel_7100/3673173512.py:5: FutureWarning: The frame.append method is deprecated and will be removed from pandas in a future version. Use pandas.concat instead.\n",
      "  output_df = output_df.append(df)\n",
      "C:\\Users\\Kimbe\\AppData\\Local\\Temp/ipykernel_7100/3673173512.py:5: FutureWarning: The frame.append method is deprecated and will be removed from pandas in a future version. Use pandas.concat instead.\n",
      "  output_df = output_df.append(df)\n",
      "C:\\Users\\Kimbe\\AppData\\Local\\Temp/ipykernel_7100/3673173512.py:5: FutureWarning: The frame.append method is deprecated and will be removed from pandas in a future version. Use pandas.concat instead.\n",
      "  output_df = output_df.append(df)\n",
      "C:\\Users\\Kimbe\\AppData\\Local\\Temp/ipykernel_7100/3673173512.py:5: FutureWarning: The frame.append method is deprecated and will be removed from pandas in a future version. Use pandas.concat instead.\n",
      "  output_df = output_df.append(df)\n",
      "C:\\Users\\Kimbe\\AppData\\Local\\Temp/ipykernel_7100/3673173512.py:5: FutureWarning: The frame.append method is deprecated and will be removed from pandas in a future version. Use pandas.concat instead.\n",
      "  output_df = output_df.append(df)\n"
     ]
    },
    {
     "name": "stdout",
     "output_type": "stream",
     "text": [
      "Skipping row\n",
      "Skipping row\n",
      "Skipping row\n"
     ]
    },
    {
     "name": "stderr",
     "output_type": "stream",
     "text": [
      "C:\\Users\\Kimbe\\AppData\\Local\\Temp/ipykernel_7100/3673173512.py:5: FutureWarning: The frame.append method is deprecated and will be removed from pandas in a future version. Use pandas.concat instead.\n",
      "  output_df = output_df.append(df)\n",
      "C:\\Users\\Kimbe\\AppData\\Local\\Temp/ipykernel_7100/3673173512.py:5: FutureWarning: The frame.append method is deprecated and will be removed from pandas in a future version. Use pandas.concat instead.\n",
      "  output_df = output_df.append(df)\n",
      "C:\\Users\\Kimbe\\AppData\\Local\\Temp/ipykernel_7100/3673173512.py:5: FutureWarning: The frame.append method is deprecated and will be removed from pandas in a future version. Use pandas.concat instead.\n",
      "  output_df = output_df.append(df)\n",
      "C:\\Users\\Kimbe\\AppData\\Local\\Temp/ipykernel_7100/3673173512.py:5: FutureWarning: The frame.append method is deprecated and will be removed from pandas in a future version. Use pandas.concat instead.\n",
      "  output_df = output_df.append(df)\n",
      "C:\\Users\\Kimbe\\AppData\\Local\\Temp/ipykernel_7100/3673173512.py:5: FutureWarning: The frame.append method is deprecated and will be removed from pandas in a future version. Use pandas.concat instead.\n",
      "  output_df = output_df.append(df)\n",
      "C:\\Users\\Kimbe\\AppData\\Local\\Temp/ipykernel_7100/3673173512.py:5: FutureWarning: The frame.append method is deprecated and will be removed from pandas in a future version. Use pandas.concat instead.\n",
      "  output_df = output_df.append(df)\n",
      "C:\\Users\\Kimbe\\AppData\\Local\\Temp/ipykernel_7100/3673173512.py:5: FutureWarning: The frame.append method is deprecated and will be removed from pandas in a future version. Use pandas.concat instead.\n",
      "  output_df = output_df.append(df)\n"
     ]
    }
   ],
   "source": [
    "for i in range(1, (weekly_df.size)-1):\n",
    "    text = str(weekly_df.iloc[i, 0])\n",
    "    df = parse_case_text(text)\n",
    "    if \"output_df\" in locals():\n",
    "        output_df = output_df.append(df)\n",
    "    else:\n",
    "        output_df = df\n"
   ]
  },
  {
   "cell_type": "code",
   "execution_count": 15,
   "id": "e69ebe5b",
   "metadata": {},
   "outputs": [],
   "source": [
    "output_df.to_csv(r\"C:\\Users\\Kimbe\\Documents\\Data Science\\Sample Data - Week of Jan 2, 2025.csv\", index = False)"
   ]
  },
  {
   "cell_type": "code",
   "execution_count": null,
   "id": "9684d1f3",
   "metadata": {},
   "outputs": [],
   "source": []
  },
  {
   "cell_type": "code",
   "execution_count": null,
   "id": "a4bf3830",
   "metadata": {},
   "outputs": [],
   "source": []
  }
 ],
 "metadata": {
  "kernelspec": {
   "display_name": "Python 3 (ipykernel)",
   "language": "python",
   "name": "python3"
  },
  "language_info": {
   "codemirror_mode": {
    "name": "ipython",
    "version": 3
   },
   "file_extension": ".py",
   "mimetype": "text/x-python",
   "name": "python",
   "nbconvert_exporter": "python",
   "pygments_lexer": "ipython3",
   "version": "3.8.5"
  }
 },
 "nbformat": 4,
 "nbformat_minor": 5
}
