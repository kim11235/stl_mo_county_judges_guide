{
 "cells": [
  {
   "cell_type": "code",
   "execution_count": 2,
   "id": "d7771617",
   "metadata": {},
   "outputs": [],
   "source": [
    "#Import libraries and set paths\n",
    "import sys\n",
    "\n",
    "selenium_path = r'C:\\Users\\Kimbe\\anaconda3\\Lib\\site-packages\\selenium'\n",
    "PYSOLR_PATH = r'c:\\users\\kimbe\\appdata\\local\\programs\\python\\python312\\lib\\site-packages'\n",
    "\n",
    "if not PYSOLR_PATH in sys.path:\n",
    "    sys.path.append(PYSOLR_PATH)\n",
    "\n",
    "if not selenium_path in sys.path:\n",
    "    sys.path.append(selenium_path)\n",
    "\n",
    "import pandas\n",
    "import numpy\n",
    "import requests\n",
    "import bs4\n",
    "import re\n",
    "import undetected_chromedriver as uc\n",
    "import selenium\n",
    "import os\n",
    "from selenium import webdriver\n",
    "from selenium.webdriver.common.action_chains import ActionChains\n",
    "from selenium.common.exceptions import TimeoutException\n",
    "from selenium.webdriver.support.wait import WebDriverWait\n",
    "from selenium.webdriver.common.by import By\n",
    "from selenium.webdriver.support import expected_conditions as EC\n",
    "import time\n"
   ]
  },
  {
   "cell_type": "code",
   "execution_count": 3,
   "id": "b17a3f90",
   "metadata": {},
   "outputs": [],
   "source": [
    "start_day_nbr = 1\n",
    "start_month_nbr = 1\n",
    "start_year_nbr = 2023\n",
    "start_date = str(start_month_nbr) + '%2F' + str(start_day_nbr) + '%2F' + str(start_year_nbr)\n",
    "case_data_text = []\n",
    "\n",
    "#URL to query cases in St. Louis County (aka the 21st Circuit Court)\n",
    "casenet_url = 'https://www.courts.mo.gov/cnet/searchResult.do?countyCode=SLC&newSearch=Y&courtCode=CT21&startDate=' + start_date + '&caseStatus=A&caseType=All&locationCode='"
   ]
  },
  {
   "cell_type": "code",
   "execution_count": 4,
   "id": "f176249a",
   "metadata": {},
   "outputs": [
    {
     "name": "stdout",
     "output_type": "stream",
     "text": [
      "https://www.courts.mo.gov/cnet/searchResult.do?countyCode=SLC&newSearch=Y&courtCode=CT21&startDate=1%2F1%2F2023&caseStatus=A&caseType=All&locationCode=\n"
     ]
    }
   ],
   "source": [
    "print(casenet_url)"
   ]
  },
  {
   "cell_type": "code",
   "execution_count": 27,
   "id": "74dee5d2",
   "metadata": {},
   "outputs": [],
   "source": [
    "#Launch the headless browser\n",
    "driver = uc.Chrome()\n",
    "\n",
    "#Navigate to the CaseNet URL\n",
    "driver.get(casenet_url)\n",
    "driver.maximize_window()\n",
    "driver.execute_script(\"document.body.style.zoom='70%'\")\n",
    "\n",
    "#Give the page ample time to load\n",
    "time.sleep(10)\n",
    "wait = WebDriverWait(driver, 10)\n",
    "\n",
    "#Scroll to ensure the \"Next\" button is visible\n",
    "element = driver.find_element(By.ID, \"searchResult_next\")\n",
    "actions = ActionChains(driver)\n",
    "actions.move_to_element(element).perform()\n",
    "\n",
    "#Wait for the page to load\n",
    "time.sleep(2) \n",
    "    "
   ]
  },
  {
   "cell_type": "code",
   "execution_count": 28,
   "id": "c30cef30",
   "metadata": {},
   "outputs": [
    {
     "ename": "KeyboardInterrupt",
     "evalue": "",
     "output_type": "error",
     "traceback": [
      "\u001b[1;31m---------------------------------------------------------------------------\u001b[0m",
      "\u001b[1;31mKeyboardInterrupt\u001b[0m                         Traceback (most recent call last)",
      "\u001b[1;32m~\\AppData\\Local\\Temp/ipykernel_1684/180166157.py\u001b[0m in \u001b[0;36m<module>\u001b[1;34m\u001b[0m\n\u001b[0;32m      3\u001b[0m     \u001b[1;32mtry\u001b[0m\u001b[1;33m:\u001b[0m\u001b[1;33m\u001b[0m\u001b[1;33m\u001b[0m\u001b[0m\n\u001b[0;32m      4\u001b[0m         \u001b[0mWebDriverWait\u001b[0m\u001b[1;33m(\u001b[0m\u001b[0mdriver\u001b[0m\u001b[1;33m,\u001b[0m \u001b[1;36m10\u001b[0m\u001b[1;33m)\u001b[0m\u001b[1;33m.\u001b[0m\u001b[0muntil\u001b[0m\u001b[1;33m(\u001b[0m\u001b[0mEC\u001b[0m\u001b[1;33m.\u001b[0m\u001b[0melement_to_be_clickable\u001b[0m\u001b[1;33m(\u001b[0m\u001b[1;33m(\u001b[0m\u001b[0mBy\u001b[0m\u001b[1;33m.\u001b[0m\u001b[0mID\u001b[0m\u001b[1;33m,\u001b[0m \u001b[1;34m\"searchResult_next\"\u001b[0m\u001b[1;33m)\u001b[0m\u001b[1;33m)\u001b[0m\u001b[1;33m)\u001b[0m\u001b[1;33m.\u001b[0m\u001b[0mclick\u001b[0m\u001b[1;33m(\u001b[0m\u001b[1;33m)\u001b[0m\u001b[1;33m\u001b[0m\u001b[1;33m\u001b[0m\u001b[0m\n\u001b[1;32m----> 5\u001b[1;33m         \u001b[0mtime\u001b[0m\u001b[1;33m.\u001b[0m\u001b[0msleep\u001b[0m\u001b[1;33m(\u001b[0m\u001b[1;36m5\u001b[0m\u001b[1;33m)\u001b[0m \u001b[1;31m# waiting for page loading\u001b[0m\u001b[1;33m\u001b[0m\u001b[1;33m\u001b[0m\u001b[0m\n\u001b[0m\u001b[0;32m      6\u001b[0m         \u001b[0mhtml_content\u001b[0m \u001b[1;33m=\u001b[0m \u001b[0mdriver\u001b[0m\u001b[1;33m.\u001b[0m\u001b[0mpage_source\u001b[0m\u001b[1;33m\u001b[0m\u001b[1;33m\u001b[0m\u001b[0m\n\u001b[0;32m      7\u001b[0m         \u001b[0msoup\u001b[0m \u001b[1;33m=\u001b[0m \u001b[0mbs4\u001b[0m\u001b[1;33m.\u001b[0m\u001b[0mBeautifulSoup\u001b[0m\u001b[1;33m(\u001b[0m\u001b[0mhtml_content\u001b[0m\u001b[1;33m,\u001b[0m \u001b[1;34m'html.parser'\u001b[0m\u001b[1;33m)\u001b[0m\u001b[1;33m\u001b[0m\u001b[1;33m\u001b[0m\u001b[0m\n",
      "\u001b[1;31mKeyboardInterrupt\u001b[0m: "
     ]
    }
   ],
   "source": [
    "#Loop through all pages of the table. Find all table rows, and extract all table data, saving the data in a list\n",
    "while True:\n",
    "    try:\n",
    "        WebDriverWait(driver, 10).until(EC.element_to_be_clickable((By.ID, \"searchResult_next\"))).click()\n",
    "        time.sleep(5) # waiting for page loading\n",
    "        html_content = driver.page_source\n",
    "        soup = bs4.BeautifulSoup(html_content, 'html.parser')\n",
    "        \n",
    "        #Get all table rows on the page\n",
    "        trs = soup.find_all(attrs={\"role\": \"row\"}) \n",
    "    \n",
    "        for tr in trs:\n",
    "            tds = tr.find_all('td') # output data by referring to the list items by position\n",
    "            case_data_text.append(tds)\n",
    "            print(f'Next------------------------------------') # for clarity\n",
    "\n",
    "    except TimeoutException:\n",
    "        break\n",
    "    else:\n",
    "        numpy.nan\n",
    "        #driver.close()    \n",
    "\n"
   ]
  },
  {
   "cell_type": "code",
   "execution_count": 17,
   "id": "772ebc31",
   "metadata": {},
   "outputs": [],
   "source": [
    "cases_df = pandas.DataFrame({'CASES_HTML':case_data_text})"
   ]
  },
  {
   "cell_type": "code",
   "execution_count": 11,
   "id": "83628615",
   "metadata": {},
   "outputs": [],
   "source": [
    "file_name = \"{:02d}\".format(start_year_nbr) + '-' + \"{:02d}\".format(start_month_nbr) + '-' + \"{:02d}\".format(start_day_nbr)+'_case_list.csv'"
   ]
  },
  {
   "cell_type": "code",
   "execution_count": 12,
   "id": "6cd24f2d",
   "metadata": {},
   "outputs": [],
   "source": [
    "cases_df.to_csv(\"C:\\\\Users\\\\Kimbe\\\\Documents\\\\Data Science\\\\\" + file_name, index = False)"
   ]
  },
  {
   "cell_type": "code",
   "execution_count": null,
   "id": "e29154a8",
   "metadata": {},
   "outputs": [],
   "source": []
  },
  {
   "cell_type": "code",
   "execution_count": null,
   "id": "7191e368",
   "metadata": {},
   "outputs": [],
   "source": []
  }
 ],
 "metadata": {
  "kernelspec": {
   "display_name": "Python 3 (ipykernel)",
   "language": "python",
   "name": "python3"
  },
  "language_info": {
   "codemirror_mode": {
    "name": "ipython",
    "version": 3
   },
   "file_extension": ".py",
   "mimetype": "text/x-python",
   "name": "python",
   "nbconvert_exporter": "python",
   "pygments_lexer": "ipython3",
   "version": "3.8.5"
  }
 },
 "nbformat": 4,
 "nbformat_minor": 5
}
